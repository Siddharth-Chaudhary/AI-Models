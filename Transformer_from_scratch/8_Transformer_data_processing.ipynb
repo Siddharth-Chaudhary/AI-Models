{
 "cells": [
  {
   "cell_type": "code",
   "execution_count": 1,
   "id": "d61c8d9e-4557-4854-a847-36e4d2d760e1",
   "metadata": {},
   "outputs": [],
   "source": [
    "import numpy as np \n",
    "import pandas as pd \n",
    "import string\n",
    "from string import digits \n",
    "import re \n",
    "import math \n",
    "import contractions \n",
    "import gc"
   ]
  },
  {
   "cell_type": "code",
   "execution_count": 2,
   "id": "799c0ebd-8ddb-4fad-a7e7-a0e585f74dee",
   "metadata": {
    "editable": true,
    "slideshow": {
     "slide_type": ""
    },
    "tags": []
   },
   "outputs": [
    {
     "name": "stdout",
     "output_type": "stream",
     "text": [
      "python Platform: macOS-15.4-arm64-arm-64bit\n",
      "Python: 3.11.7 (main, Dec 15 2023, 12:09:56) [Clang 14.0.6 ]\n",
      "Pandas: 2.2.3\n"
     ]
    }
   ],
   "source": [
    "# What version of Python do you have?\n",
    "import sys \n",
    "import platform\n",
    "print(f\"python Platform: {platform.platform()}\")\n",
    "print(f\"Python: {sys.version}\")\n",
    "print(f\"Pandas: {pd.__version__}\")"
   ]
  },
  {
   "cell_type": "markdown",
   "id": "5a89fdb8-dcb6-4cd2-a345-3efca9a31c0a",
   "metadata": {},
   "source": [
    "## Defining Token"
   ]
  },
  {
   "cell_type": "code",
   "execution_count": 3,
   "id": "57925a3c-b2b6-42c0-86c4-99dde0ce8f47",
   "metadata": {},
   "outputs": [],
   "source": [
    "START_TOKEN = '<START>'\n",
    "PADDING_TOKEN = '<PADDING>'\n",
    "END_TOKEN = '<END>'\n",
    "max_sequence_length = 90 #I've checked it in exploratary analysis-> 150 is ideal\n",
    "min_sequence_length = 2 # will remove all sentence with only single word"
   ]
  },
  {
   "cell_type": "markdown",
   "id": "ddc03d38-802a-45b6-a646-63ad6418db74",
   "metadata": {},
   "source": [
    "## Preparing Data"
   ]
  },
  {
   "cell_type": "markdown",
   "id": "0db31c6f-9b0a-4122-a4dd-318605dfc7ac",
   "metadata": {},
   "source": [
    "### Read hindi file clean a bit and write it down again."
   ]
  },
  {
   "cell_type": "code",
   "execution_count": 4,
   "id": "d8460099-6cfb-464a-8e1d-8fec91243225",
   "metadata": {},
   "outputs": [],
   "source": [
    "base_path = '/Users/siddharthchaudhary/Documents/git_repos/AI-Models/Transformer_from_scratch/Dataset/'"
   ]
  },
  {
   "cell_type": "code",
   "execution_count": 5,
   "id": "92588a5d-9c0b-4bdc-ac36-62928bcd4cef",
   "metadata": {},
   "outputs": [],
   "source": [
    "hindi_english_data_path =  base_path + 'Dataset_English_Hindi.csv'\n",
    "pre_process_en_file = base_path + 'vocab_and_training_files/pre_process_en.txt'\n",
    "pre_process_hn_file = base_path + 'vocab_and_training_files/pre_process_hn.txt'\n",
    "train_en_file = base_path + 'vocab_and_training_files/train_en.txt'\n",
    "train_hn_file = base_path + 'vocab_and_training_files/train_hn.txt'\n",
    "english_vocab_file = base_path + 'vocab_and_training_files/english_vocab.txt'\n",
    "hindi_vocab_file = base_path + 'vocab_and_training_files/hindi_vocab.txt'"
   ]
  },
  {
   "cell_type": "code",
   "execution_count": 6,
   "id": "dcbd1f34-bad9-4cf5-8f13-88bf9f94f85b",
   "metadata": {},
   "outputs": [
    {
     "data": {
      "text/html": [
       "<div>\n",
       "<style scoped>\n",
       "    .dataframe tbody tr th:only-of-type {\n",
       "        vertical-align: middle;\n",
       "    }\n",
       "\n",
       "    .dataframe tbody tr th {\n",
       "        vertical-align: top;\n",
       "    }\n",
       "\n",
       "    .dataframe thead th {\n",
       "        text-align: right;\n",
       "    }\n",
       "</style>\n",
       "<table border=\"1\" class=\"dataframe\">\n",
       "  <thead>\n",
       "    <tr style=\"text-align: right;\">\n",
       "      <th></th>\n",
       "      <th>english</th>\n",
       "      <th>hindi</th>\n",
       "    </tr>\n",
       "  </thead>\n",
       "  <tbody>\n",
       "    <tr>\n",
       "      <th>0</th>\n",
       "      <td>Help!</td>\n",
       "      <td>बचाओ!</td>\n",
       "    </tr>\n",
       "    <tr>\n",
       "      <th>1</th>\n",
       "      <td>Jump.</td>\n",
       "      <td>उछलो.</td>\n",
       "    </tr>\n",
       "    <tr>\n",
       "      <th>2</th>\n",
       "      <td>Jump.</td>\n",
       "      <td>कूदो.</td>\n",
       "    </tr>\n",
       "    <tr>\n",
       "      <th>3</th>\n",
       "      <td>Jump.</td>\n",
       "      <td>छलांग.</td>\n",
       "    </tr>\n",
       "    <tr>\n",
       "      <th>4</th>\n",
       "      <td>Hello!</td>\n",
       "      <td>नमस्ते।</td>\n",
       "    </tr>\n",
       "  </tbody>\n",
       "</table>\n",
       "</div>"
      ],
      "text/plain": [
       "  english    hindi\n",
       "0   Help!    बचाओ!\n",
       "1   Jump.    उछलो.\n",
       "2   Jump.    कूदो.\n",
       "3   Jump.   छलांग.\n",
       "4  Hello!  नमस्ते।"
      ]
     },
     "execution_count": 6,
     "metadata": {},
     "output_type": "execute_result"
    }
   ],
   "source": [
    "lines = (pd. read_csv(hindi_english_data_path).rename (columns = {'English': 'english', 'Hindi': 'hindi'}))\n",
    "# lines = lines [:1000000]\n",
    "# lines = lines[:20000]\n",
    "lines.head()"
   ]
  },
  {
   "cell_type": "code",
   "execution_count": 7,
   "id": "335ca64e-45f7-4aa3-9a70-71573e1fb806",
   "metadata": {},
   "outputs": [
    {
     "data": {
      "text/html": [
       "<div>\n",
       "<style scoped>\n",
       "    .dataframe tbody tr th:only-of-type {\n",
       "        vertical-align: middle;\n",
       "    }\n",
       "\n",
       "    .dataframe tbody tr th {\n",
       "        vertical-align: top;\n",
       "    }\n",
       "\n",
       "    .dataframe thead th {\n",
       "        text-align: right;\n",
       "    }\n",
       "</style>\n",
       "<table border=\"1\" class=\"dataframe\">\n",
       "  <thead>\n",
       "    <tr style=\"text-align: right;\">\n",
       "      <th></th>\n",
       "      <th>english</th>\n",
       "      <th>hindi</th>\n",
       "    </tr>\n",
       "  </thead>\n",
       "  <tbody>\n",
       "    <tr>\n",
       "      <th>130471</th>\n",
       "      <td>Examples of art deco construction can be found...</td>\n",
       "      <td>आर्ट डेको शैली के निर्माण मैरीन ड्राइव और ओवल ...</td>\n",
       "    </tr>\n",
       "    <tr>\n",
       "      <th>130472</th>\n",
       "      <td>and put it in our cheeks.</td>\n",
       "      <td>और अपने गालों में डाल लेते हैं।</td>\n",
       "    </tr>\n",
       "    <tr>\n",
       "      <th>130473</th>\n",
       "      <td>As for the other derivatives of sulphur , the ...</td>\n",
       "      <td>जहां तक गंधक के अन्य उत्पादों का प्रश्न है , द...</td>\n",
       "    </tr>\n",
       "    <tr>\n",
       "      <th>130474</th>\n",
       "      <td>its complicated functioning is defined thus in...</td>\n",
       "      <td>Zरचना-प्रकिया को उसने एक पहेली में यों बांधा है .</td>\n",
       "    </tr>\n",
       "    <tr>\n",
       "      <th>130475</th>\n",
       "      <td>They've just won four government contracts to ...</td>\n",
       "      <td>हाल ही में उन्हें सरकारी ठेका मिला है करीब सौ ...</td>\n",
       "    </tr>\n",
       "  </tbody>\n",
       "</table>\n",
       "</div>"
      ],
      "text/plain": [
       "                                                  english  \\\n",
       "130471  Examples of art deco construction can be found...   \n",
       "130472                          and put it in our cheeks.   \n",
       "130473  As for the other derivatives of sulphur , the ...   \n",
       "130474  its complicated functioning is defined thus in...   \n",
       "130475  They've just won four government contracts to ...   \n",
       "\n",
       "                                                    hindi  \n",
       "130471  आर्ट डेको शैली के निर्माण मैरीन ड्राइव और ओवल ...  \n",
       "130472                    और अपने गालों में डाल लेते हैं।  \n",
       "130473  जहां तक गंधक के अन्य उत्पादों का प्रश्न है , द...  \n",
       "130474  Zरचना-प्रकिया को उसने एक पहेली में यों बांधा है .  \n",
       "130475  हाल ही में उन्हें सरकारी ठेका मिला है करीब सौ ...  "
      ]
     },
     "execution_count": 7,
     "metadata": {},
     "output_type": "execute_result"
    }
   ],
   "source": [
    "lines.tail()"
   ]
  },
  {
   "cell_type": "code",
   "execution_count": 8,
   "id": "e8cdc662-d295-4412-807d-4dfb3b266874",
   "metadata": {},
   "outputs": [],
   "source": [
    "missing_data = lines.isnull().sum().to_frame().rename(columns={0:\"Total No. of Missing Values\"})\n",
    "missing_data[\"% of Missing Values\"] = round((missing_data[\"Total No. of Missing Values\"]/len(lines))*100,2)"
   ]
  },
  {
   "cell_type": "code",
   "execution_count": 9,
   "id": "9330a9d0-002e-4b9f-a3b5-be3bc3e8361f",
   "metadata": {},
   "outputs": [
    {
     "data": {
      "text/html": [
       "<div>\n",
       "<style scoped>\n",
       "    .dataframe tbody tr th:only-of-type {\n",
       "        vertical-align: middle;\n",
       "    }\n",
       "\n",
       "    .dataframe tbody tr th {\n",
       "        vertical-align: top;\n",
       "    }\n",
       "\n",
       "    .dataframe thead th {\n",
       "        text-align: right;\n",
       "    }\n",
       "</style>\n",
       "<table border=\"1\" class=\"dataframe\">\n",
       "  <thead>\n",
       "    <tr style=\"text-align: right;\">\n",
       "      <th></th>\n",
       "      <th>count</th>\n",
       "      <th>unique</th>\n",
       "      <th>top</th>\n",
       "      <th>freq</th>\n",
       "    </tr>\n",
       "  </thead>\n",
       "  <tbody>\n",
       "    <tr>\n",
       "      <th>english</th>\n",
       "      <td>130474</td>\n",
       "      <td>126959</td>\n",
       "      <td>(Laughter)</td>\n",
       "      <td>555</td>\n",
       "    </tr>\n",
       "    <tr>\n",
       "      <th>hindi</th>\n",
       "      <td>130164</td>\n",
       "      <td>100228</td>\n",
       "      <td>(हँसी)</td>\n",
       "      <td>212</td>\n",
       "    </tr>\n",
       "  </tbody>\n",
       "</table>\n",
       "</div>"
      ],
      "text/plain": [
       "          count  unique         top freq\n",
       "english  130474  126959  (Laughter)  555\n",
       "hindi    130164  100228      (हँसी)  212"
      ]
     },
     "execution_count": 9,
     "metadata": {},
     "output_type": "execute_result"
    }
   ],
   "source": [
    "round(lines.describe().T,2)"
   ]
  },
  {
   "cell_type": "code",
   "execution_count": 10,
   "id": "8dbeb5aa-0c7b-4890-b382-d7ce52a5fe58",
   "metadata": {},
   "outputs": [],
   "source": [
    "lines.drop_duplicates(inplace = True)"
   ]
  },
  {
   "cell_type": "code",
   "execution_count": 11,
   "id": "cc221bfb-b1c7-423f-9e89-c513a7cb829e",
   "metadata": {},
   "outputs": [
    {
     "data": {
      "text/html": [
       "<div>\n",
       "<style scoped>\n",
       "    .dataframe tbody tr th:only-of-type {\n",
       "        vertical-align: middle;\n",
       "    }\n",
       "\n",
       "    .dataframe tbody tr th {\n",
       "        vertical-align: top;\n",
       "    }\n",
       "\n",
       "    .dataframe thead th {\n",
       "        text-align: right;\n",
       "    }\n",
       "</style>\n",
       "<table border=\"1\" class=\"dataframe\">\n",
       "  <thead>\n",
       "    <tr style=\"text-align: right;\">\n",
       "      <th></th>\n",
       "      <th>english</th>\n",
       "      <th>hindi</th>\n",
       "    </tr>\n",
       "  </thead>\n",
       "  <tbody>\n",
       "    <tr>\n",
       "      <th>0</th>\n",
       "      <td>Help!</td>\n",
       "      <td>बचाओ!</td>\n",
       "    </tr>\n",
       "    <tr>\n",
       "      <th>1</th>\n",
       "      <td>Jump.</td>\n",
       "      <td>उछलो.</td>\n",
       "    </tr>\n",
       "    <tr>\n",
       "      <th>2</th>\n",
       "      <td>Jump.</td>\n",
       "      <td>कूदो.</td>\n",
       "    </tr>\n",
       "    <tr>\n",
       "      <th>3</th>\n",
       "      <td>Jump.</td>\n",
       "      <td>छलांग.</td>\n",
       "    </tr>\n",
       "    <tr>\n",
       "      <th>4</th>\n",
       "      <td>Hello!</td>\n",
       "      <td>नमस्ते।</td>\n",
       "    </tr>\n",
       "  </tbody>\n",
       "</table>\n",
       "</div>"
      ],
      "text/plain": [
       "  english    hindi\n",
       "0   Help!    बचाओ!\n",
       "1   Jump.    उछलो.\n",
       "2   Jump.    कूदो.\n",
       "3   Jump.   छलांग.\n",
       "4  Hello!  नमस्ते।"
      ]
     },
     "execution_count": 11,
     "metadata": {},
     "output_type": "execute_result"
    }
   ],
   "source": [
    "lines = lines.dropna(subset=[\"hindi\", \"english\"])\n",
    "lines.head()"
   ]
  },
  {
   "cell_type": "code",
   "execution_count": 12,
   "id": "5bdd7bf5-e207-446a-b7ed-72ef5c979dcc",
   "metadata": {},
   "outputs": [
    {
     "data": {
      "text/plain": [
       "(127375, 2)"
      ]
     },
     "execution_count": 12,
     "metadata": {},
     "output_type": "execute_result"
    }
   ],
   "source": [
    "lines.shape"
   ]
  },
  {
   "cell_type": "code",
   "execution_count": 13,
   "id": "8225b203-7d1d-4c89-8ed8-a75c848b5c18",
   "metadata": {},
   "outputs": [],
   "source": [
    "# Lowercase all characters\n",
    "lines['english'] = lines['english'].str.lower()"
   ]
  },
  {
   "cell_type": "code",
   "execution_count": 14,
   "id": "2a8fad85-99b0-4cae-bea3-adb08c39b85a",
   "metadata": {},
   "outputs": [],
   "source": [
    "# Remove HTML\n",
    "def remove_html_tags(text):\n",
    "    # Corrected pattern: Only allows alphanumeric characters and spaces\n",
    "    pattern = r'[^a-zA-Z0-9\\s]'\n",
    "    text = re.sub(pattern, ' ', text)\n",
    "    return text\n",
    "\n",
    "\n",
    "lines['english'] = lines['english'].apply(remove_html_tags)"
   ]
  },
  {
   "cell_type": "code",
   "execution_count": 15,
   "id": "4d4dc40d-00b4-4233-a6a7-a88cfb71169f",
   "metadata": {},
   "outputs": [
    {
     "data": {
      "text/html": [
       "<div>\n",
       "<style scoped>\n",
       "    .dataframe tbody tr th:only-of-type {\n",
       "        vertical-align: middle;\n",
       "    }\n",
       "\n",
       "    .dataframe tbody tr th {\n",
       "        vertical-align: top;\n",
       "    }\n",
       "\n",
       "    .dataframe thead th {\n",
       "        text-align: right;\n",
       "    }\n",
       "</style>\n",
       "<table border=\"1\" class=\"dataframe\">\n",
       "  <thead>\n",
       "    <tr style=\"text-align: right;\">\n",
       "      <th></th>\n",
       "      <th>english</th>\n",
       "      <th>hindi</th>\n",
       "    </tr>\n",
       "  </thead>\n",
       "  <tbody>\n",
       "    <tr>\n",
       "      <th>0</th>\n",
       "      <td>help</td>\n",
       "      <td>बचाओ!</td>\n",
       "    </tr>\n",
       "    <tr>\n",
       "      <th>1</th>\n",
       "      <td>jump</td>\n",
       "      <td>उछलो.</td>\n",
       "    </tr>\n",
       "    <tr>\n",
       "      <th>2</th>\n",
       "      <td>jump</td>\n",
       "      <td>कूदो.</td>\n",
       "    </tr>\n",
       "    <tr>\n",
       "      <th>3</th>\n",
       "      <td>jump</td>\n",
       "      <td>छलांग.</td>\n",
       "    </tr>\n",
       "    <tr>\n",
       "      <th>4</th>\n",
       "      <td>hello</td>\n",
       "      <td>नमस्ते।</td>\n",
       "    </tr>\n",
       "  </tbody>\n",
       "</table>\n",
       "</div>"
      ],
      "text/plain": [
       "  english    hindi\n",
       "0   help     बचाओ!\n",
       "1   jump     उछलो.\n",
       "2   jump     कूदो.\n",
       "3   jump    छलांग.\n",
       "4  hello   नमस्ते।"
      ]
     },
     "execution_count": 15,
     "metadata": {},
     "output_type": "execute_result"
    }
   ],
   "source": [
    "# remove URLS\n",
    "def remove_url(text):\n",
    "    # Correct regex to match URLs\n",
    "    pattern = re.compile(r'https?://\\S+|www\\.\\S+')\n",
    "    return pattern.sub(' ', text)\n",
    "    \n",
    "lines['english'] = lines['english'].apply(remove_url)\n",
    "lines['hindi'] = lines['hindi'].apply(remove_url)\n",
    "lines.head()"
   ]
  },
  {
   "cell_type": "code",
   "execution_count": 16,
   "id": "6bd61469-6d06-4658-91ee-95a2b6cf8b18",
   "metadata": {},
   "outputs": [],
   "source": [
    "chat_words = {\n",
    "    \"AFAIK\": \"As Far As I Know\",\n",
    "    \"AFK\": \"Away From Keyboard\",\n",
    "    \"ASAP\": \"As Soon As Possible\",\n",
    "    \"ATK\": \"At The Keyboard\",\n",
    "    \"ATM\": \"At The Moment\",\n",
    "    \"А3\": \"Anytime, Anywhere, Anyplace\",\n",
    "    \"BAK\": \"Back At Keyboard\",\n",
    "    \"BBL\": \"Be Back Later\",\n",
    "    \"BBS\": \"Be Back Soon\",\n",
    "    \"BFN\": \"Bye For Now\",\n",
    "    \"B4N\": \"Bye For Now\",\n",
    "    \"BRB\": \"Be Right Back\",\n",
    "    \"BRT\": \"Be Right There\",\n",
    "    \"BTW\": \"By The Way\",\n",
    "    \"B4\": \"Before\",\n",
    "    \"CU\": \"See You\",\n",
    "    \"CUL8R\": \"See You Later\",\n",
    "    \"CYA\": \"See You\",\n",
    "    \"FAO\": \"Frequently Asked Questions\",\n",
    "    \"FC\": \"Fingers Crossed\",\n",
    "    \"FWIW\": \"For What It's Worth\",\n",
    "    \"FYI\": \"For Your Information\",\n",
    "    \"GAL\": \"Get A Life\",\n",
    "    \"GG\": \"Good Game\",\n",
    "    \"GN\": \"Good Night\",\n",
    "    \"GMTA\": \"Great Minds Think Alike\",\n",
    "    \"GR8\": \"Great!\",\n",
    "    \"G9\": \"Genius\",\n",
    "    \"IC\": \"I See\",\n",
    "    \"ICQ\": \"I Seek you (also a chat program)\",\n",
    "    \"ILU\": \"I Love You\",\n",
    "    \"IMHO\": \"In My Honest/Humble Opinion\",\n",
    "    \"IMO\": \"In My Opinion\",\n",
    "    \"IOW\": \"In Other Words\",\n",
    "    \"IRL\": \"In Real Life\",\n",
    "    \"KISS\": \"Keep It Simple, Stupid\",\n",
    "    \"LDR\": \"Long Distance Relationship\",\n",
    "    \"LMAO\": \"Laugh My A.. Off\",\n",
    "    \"LOL\": \"Laughing Out Loud\",\n",
    "    \"LTNS\": \"Long Time No See\",\n",
    "    \"L8R\": \"Later\",\n",
    "    \"MTE\": \"My Thoughts Exactly\",\n",
    "    \"NRN\": \"No Reply Necessary\",\n",
    "    \"OIC\":\"Oh I See\",\n",
    "    \"PITA\": \"Pain In The A..\",\n",
    "    \"PRT\": \"Party\",\n",
    "    \"PRW\": \"Parents Are Watching\",\n",
    "    \"QPSA\": \"Que Pasa?\",\n",
    "    \"ROFL\": \"Rolling On The Floor Laughing\",\n",
    "    \"ROFLOL\": \"Rolling On The Floor Laughing Out Loud\",\n",
    "    \"ROTFLMAO\": \"Rolling On The Floor Laughing My A.. Off\",\n",
    "    \"SK8\": \"Skate\",\n",
    "    \"STATS\": \"Your sex and age\",\n",
    "    \"ASL\": \"Age, Sex, Location\",\n",
    "    \"THX\": \"Thank You\",\n",
    "    \"TTFN\" : \"Ta-Ta For Now!\",\n",
    "    \"TTYL\": \"Talk To You Later\",\n",
    "    \"U\": \"You\",\n",
    "    \"U2\": \"You Too\",\n",
    "    \"U4E\": \"Yours For Ever\",\n",
    "    \"WB\": \"Welcome Back\",\n",
    "    \"WUF\": \"Where Are You From?\",\n",
    "    \"TFW\": \"That feeling when\",\n",
    "    \"MFW\": \"My face when\",\n",
    "    \"MRW\": \"My reaction when\",\n",
    "    \"IFYP\": \"I feel your pain\",\n",
    "    \"LOL\": \"Laughing out loud\",\n",
    "    \"TNTL\": \"Trying not to laugh\",\n",
    "    \"JK\": \"Just kidding\",\n",
    "    \"IDC\": \"I don't care\",\n",
    "    \"ILY\": \"I love you\",\n",
    "    \"IMU\": \"I miss you\",\n",
    "    \"ADIH\": \"Another day in hell\",\n",
    "    \"IDC\": \"I don't care\",\n",
    "    \"ZZZ\": \"Sleeping, bored, tired\",\n",
    "    \"WYWH\": \"Wish you were here\",\n",
    "    \"TIME\": \"Tears in my eyes\",\n",
    "    \"BAE\": \"Before anyone else\",\n",
    "    \"FIMH\": \"Forever in my heart\",\n",
    "    \"BSAAW\": \"Big smile and a wink\",\n",
    "    \"BWL\": \"Bursting with laughter\",\n",
    "    \"LMAO\": \"Laughing my a** off\",\n",
    "    \"BFF\": \"Best friends forever\",\n",
    "    \"CSL\": \"Can't stop laughing\"\n",
    "}"
   ]
  },
  {
   "cell_type": "code",
   "execution_count": 17,
   "id": "57407515-f5a6-40bb-be13-3db829fcda3a",
   "metadata": {},
   "outputs": [],
   "source": [
    "def chat_conversion(text):\n",
    "    new_text=[]\n",
    "    for w in text.split():\n",
    "        if w.upper() in chat_words:\n",
    "            new_text.append(chat_words[w.upper()])\n",
    "        else:\n",
    "            new_text.append(w)\n",
    "    return \" \".join(new_text)\n",
    "\n",
    "lines['english'] = lines['english'].apply(chat_conversion)"
   ]
  },
  {
   "cell_type": "code",
   "execution_count": 18,
   "id": "42c1a312-7425-4521-b170-53bbb74fdf5d",
   "metadata": {},
   "outputs": [
    {
     "data": {
      "text/html": [
       "<div>\n",
       "<style scoped>\n",
       "    .dataframe tbody tr th:only-of-type {\n",
       "        vertical-align: middle;\n",
       "    }\n",
       "\n",
       "    .dataframe tbody tr th {\n",
       "        vertical-align: top;\n",
       "    }\n",
       "\n",
       "    .dataframe thead th {\n",
       "        text-align: right;\n",
       "    }\n",
       "</style>\n",
       "<table border=\"1\" class=\"dataframe\">\n",
       "  <thead>\n",
       "    <tr style=\"text-align: right;\">\n",
       "      <th></th>\n",
       "      <th>english</th>\n",
       "      <th>hindi</th>\n",
       "    </tr>\n",
       "  </thead>\n",
       "  <tbody>\n",
       "    <tr>\n",
       "      <th>0</th>\n",
       "      <td>help</td>\n",
       "      <td>बचाओ!</td>\n",
       "    </tr>\n",
       "    <tr>\n",
       "      <th>1</th>\n",
       "      <td>jump</td>\n",
       "      <td>उछलो.</td>\n",
       "    </tr>\n",
       "    <tr>\n",
       "      <th>2</th>\n",
       "      <td>jump</td>\n",
       "      <td>कूदो.</td>\n",
       "    </tr>\n",
       "    <tr>\n",
       "      <th>3</th>\n",
       "      <td>jump</td>\n",
       "      <td>छलांग.</td>\n",
       "    </tr>\n",
       "    <tr>\n",
       "      <th>4</th>\n",
       "      <td>hello</td>\n",
       "      <td>नमस्ते।</td>\n",
       "    </tr>\n",
       "  </tbody>\n",
       "</table>\n",
       "</div>"
      ],
      "text/plain": [
       "  english    hindi\n",
       "0    help    बचाओ!\n",
       "1    jump    उछलो.\n",
       "2    jump    कूदो.\n",
       "3    jump   छलांग.\n",
       "4   hello  नमस्ते।"
      ]
     },
     "execution_count": 18,
     "metadata": {},
     "output_type": "execute_result"
    }
   ],
   "source": [
    "lines.head()"
   ]
  },
  {
   "cell_type": "code",
   "execution_count": 19,
   "id": "0929bd99-938f-4077-aa57-66c46daabd3a",
   "metadata": {},
   "outputs": [],
   "source": [
    "def remove_emoji(text):\n",
    "    emoji_pattern = re.compile(\"[\"\n",
    "                               u\"\\U0001F600-\\U0001F64F\" \n",
    "                               u\"\\U0001F300-\\U0001F5FF\"\n",
    "                               u\"\\U0001F680-\\U0001F6FF\" \n",
    "                               u\"\\U0001F1E0-\\U0001F1FF\"\n",
    "                               u\"\\U00002702-\\U000027B0\" \n",
    "                               u\"\\U000024C2-\\U0001F251\"\n",
    "                               \"]+\", flags=re.UNICODE)\n",
    "    \n",
    "    return emoji_pattern.sub(r'', text)"
   ]
  },
  {
   "cell_type": "code",
   "execution_count": 20,
   "id": "922a74f1-eb07-4e08-8b59-10b86c8dc43d",
   "metadata": {},
   "outputs": [
    {
     "data": {
      "text/html": [
       "<div>\n",
       "<style scoped>\n",
       "    .dataframe tbody tr th:only-of-type {\n",
       "        vertical-align: middle;\n",
       "    }\n",
       "\n",
       "    .dataframe tbody tr th {\n",
       "        vertical-align: top;\n",
       "    }\n",
       "\n",
       "    .dataframe thead th {\n",
       "        text-align: right;\n",
       "    }\n",
       "</style>\n",
       "<table border=\"1\" class=\"dataframe\">\n",
       "  <thead>\n",
       "    <tr style=\"text-align: right;\">\n",
       "      <th></th>\n",
       "      <th>english</th>\n",
       "      <th>hindi</th>\n",
       "    </tr>\n",
       "  </thead>\n",
       "  <tbody>\n",
       "    <tr>\n",
       "      <th>0</th>\n",
       "      <td>help</td>\n",
       "      <td>बचाओ!</td>\n",
       "    </tr>\n",
       "    <tr>\n",
       "      <th>1</th>\n",
       "      <td>jump</td>\n",
       "      <td>उछलो.</td>\n",
       "    </tr>\n",
       "    <tr>\n",
       "      <th>2</th>\n",
       "      <td>jump</td>\n",
       "      <td>कूदो.</td>\n",
       "    </tr>\n",
       "    <tr>\n",
       "      <th>3</th>\n",
       "      <td>jump</td>\n",
       "      <td>छलांग.</td>\n",
       "    </tr>\n",
       "    <tr>\n",
       "      <th>4</th>\n",
       "      <td>hello</td>\n",
       "      <td>नमस्ते।</td>\n",
       "    </tr>\n",
       "  </tbody>\n",
       "</table>\n",
       "</div>"
      ],
      "text/plain": [
       "  english    hindi\n",
       "0    help    बचाओ!\n",
       "1    jump    उछलो.\n",
       "2    jump    कूदो.\n",
       "3    jump   छलांग.\n",
       "4   hello  नमस्ते।"
      ]
     },
     "execution_count": 20,
     "metadata": {},
     "output_type": "execute_result"
    }
   ],
   "source": [
    "lines.head()"
   ]
  },
  {
   "cell_type": "code",
   "execution_count": 21,
   "id": "c3473bb3-41b5-45ae-9fd0-bd3632baeb3d",
   "metadata": {},
   "outputs": [
    {
     "data": {
      "text/plain": [
       "(127375, 2)"
      ]
     },
     "execution_count": 21,
     "metadata": {},
     "output_type": "execute_result"
    }
   ],
   "source": [
    "lines.shape"
   ]
  },
  {
   "cell_type": "code",
   "execution_count": 22,
   "id": "8f2615d2-2a78-44a1-a227-24b7851c0101",
   "metadata": {},
   "outputs": [],
   "source": [
    "lines['english'] = lines['english'].apply(remove_emoji)\n",
    "lines['hindi'] = lines['hindi'].apply(remove_emoji)"
   ]
  },
  {
   "cell_type": "code",
   "execution_count": 23,
   "id": "15dfc04e-a3d6-4c44-b0ca-eddb81a758d9",
   "metadata": {},
   "outputs": [
    {
     "data": {
      "text/html": [
       "<div>\n",
       "<style scoped>\n",
       "    .dataframe tbody tr th:only-of-type {\n",
       "        vertical-align: middle;\n",
       "    }\n",
       "\n",
       "    .dataframe tbody tr th {\n",
       "        vertical-align: top;\n",
       "    }\n",
       "\n",
       "    .dataframe thead th {\n",
       "        text-align: right;\n",
       "    }\n",
       "</style>\n",
       "<table border=\"1\" class=\"dataframe\">\n",
       "  <thead>\n",
       "    <tr style=\"text-align: right;\">\n",
       "      <th></th>\n",
       "      <th>english</th>\n",
       "      <th>hindi</th>\n",
       "    </tr>\n",
       "  </thead>\n",
       "  <tbody>\n",
       "    <tr>\n",
       "      <th>0</th>\n",
       "      <td>help</td>\n",
       "      <td>बचाओ!</td>\n",
       "    </tr>\n",
       "    <tr>\n",
       "      <th>1</th>\n",
       "      <td>jump</td>\n",
       "      <td>उछलो.</td>\n",
       "    </tr>\n",
       "    <tr>\n",
       "      <th>2</th>\n",
       "      <td>jump</td>\n",
       "      <td>कूदो.</td>\n",
       "    </tr>\n",
       "    <tr>\n",
       "      <th>3</th>\n",
       "      <td>jump</td>\n",
       "      <td>छलांग.</td>\n",
       "    </tr>\n",
       "    <tr>\n",
       "      <th>4</th>\n",
       "      <td>hello</td>\n",
       "      <td>नमस्ते।</td>\n",
       "    </tr>\n",
       "  </tbody>\n",
       "</table>\n",
       "</div>"
      ],
      "text/plain": [
       "  english    hindi\n",
       "0    help    बचाओ!\n",
       "1    jump    उछलो.\n",
       "2    jump    कूदो.\n",
       "3    jump   छलांग.\n",
       "4   hello  नमस्ते।"
      ]
     },
     "execution_count": 23,
     "metadata": {},
     "output_type": "execute_result"
    }
   ],
   "source": [
    "# Contraction:- y're → you are \n",
    "def expand_contractions (text):\n",
    "    expanded_text = contractions.fix(text)\n",
    "    return expanded_text\n",
    "    \n",
    "lines['english'] = lines['english'].apply(expand_contractions)\n",
    "lines.head()"
   ]
  },
  {
   "cell_type": "code",
   "execution_count": 24,
   "id": "7d5d77bc-f027-4623-92ac-d533a248165f",
   "metadata": {},
   "outputs": [],
   "source": [
    "# # Remove Non-Hindi and Alphanumeric characters\n",
    "# def preprocess_text(text, language='english'):\n",
    "#     if not isinstance(text, str):\n",
    "#         return text  \n",
    "#     if language == 'english':\n",
    "#         pattern = re. compile(r'[^a-zA-Z0-9\\s]')\n",
    "#         return pattern.sub(r'', text)\n",
    "#     elif language == 'hindi':\n",
    "#         pattern = re. compile(r'[^\\u0900-\\u097F\\s]')\n",
    "#         return pattern. sub(r'', text)\n",
    "#     else:\n",
    "#         raise ValueError (\"Unsupported Language, Supported languages are 'english' and 'hindi'\")\n",
    "\n",
    "# lines['english'] = lines['english'].apply(lambda x: preprocess_text(x, language='english'))\n",
    "# lines['hindi'] = lines['hindi'].apply(lambda x: preprocess_text(x, language='hindi'))"
   ]
  },
  {
   "cell_type": "code",
   "execution_count": 25,
   "id": "a02f958b-b6a2-4982-ab18-1cff2f1fab0b",
   "metadata": {},
   "outputs": [],
   "source": [
    "# Function to preprocess text based on language and remove numbers\n",
    "def preprocess_text(text, language='english'):\n",
    "    if not isinstance(text, str):\n",
    "        return text  # Return as-is if input is not a string\n",
    "\n",
    "    if language == 'english':\n",
    "        # Remove non-alphanumeric characters and English numbers\n",
    "        return re.sub(r'[^a-zA-Z0-9\\s]', ' ', text)  # Exclude numbers (0-9)\n",
    "    elif language == 'hindi':\n",
    "        # Remove characters outside the Hindi Unicode range and Hindi numbers\n",
    "        return re.sub(r'[^\\u0900-\\u097F\\s]', ' ', text)  # Exclude Hindi numbers (०-९)\n",
    "    else:\n",
    "        # Raise error for unsupported languages\n",
    "        raise ValueError(\"Unsupported language. Supported languages are 'english' and 'hindi'.\")\n",
    "\n",
    "# Apply preprocessing to 'lines' DataFrame\n",
    "lines['english'] = lines['english'].apply(lambda x: preprocess_text(x, language='english'))\n",
    "lines['hindi'] = lines['hindi'].apply(lambda x: preprocess_text(x, language='hindi'))\n"
   ]
  },
  {
   "cell_type": "code",
   "execution_count": 26,
   "id": "7fad0737-efa1-4e88-8127-e73fc7a65371",
   "metadata": {},
   "outputs": [],
   "source": [
    "# Get the number of words count in each sentence for hindi and english\n",
    "lines['length_eng']=lines['english'].apply(lambda x: len(x.split(\" \")) )\n",
    "lines['length_hin']=lines['hindi'].apply(lambda x: len(x.split(\" \")))"
   ]
  },
  {
   "cell_type": "code",
   "execution_count": 27,
   "id": "b260b9aa-2717-447a-80cb-ec0d882268a4",
   "metadata": {},
   "outputs": [
    {
     "data": {
      "text/html": [
       "<div>\n",
       "<style scoped>\n",
       "    .dataframe tbody tr th:only-of-type {\n",
       "        vertical-align: middle;\n",
       "    }\n",
       "\n",
       "    .dataframe tbody tr th {\n",
       "        vertical-align: top;\n",
       "    }\n",
       "\n",
       "    .dataframe thead th {\n",
       "        text-align: right;\n",
       "    }\n",
       "</style>\n",
       "<table border=\"1\" class=\"dataframe\">\n",
       "  <thead>\n",
       "    <tr style=\"text-align: right;\">\n",
       "      <th></th>\n",
       "      <th>english</th>\n",
       "      <th>hindi</th>\n",
       "      <th>length_eng</th>\n",
       "      <th>length_hin</th>\n",
       "    </tr>\n",
       "  </thead>\n",
       "  <tbody>\n",
       "    <tr>\n",
       "      <th>0</th>\n",
       "      <td>help</td>\n",
       "      <td>बचाओ</td>\n",
       "      <td>1</td>\n",
       "      <td>2</td>\n",
       "    </tr>\n",
       "    <tr>\n",
       "      <th>1</th>\n",
       "      <td>jump</td>\n",
       "      <td>उछलो</td>\n",
       "      <td>1</td>\n",
       "      <td>2</td>\n",
       "    </tr>\n",
       "    <tr>\n",
       "      <th>2</th>\n",
       "      <td>jump</td>\n",
       "      <td>कूदो</td>\n",
       "      <td>1</td>\n",
       "      <td>2</td>\n",
       "    </tr>\n",
       "    <tr>\n",
       "      <th>3</th>\n",
       "      <td>jump</td>\n",
       "      <td>छलांग</td>\n",
       "      <td>1</td>\n",
       "      <td>2</td>\n",
       "    </tr>\n",
       "    <tr>\n",
       "      <th>4</th>\n",
       "      <td>hello</td>\n",
       "      <td>नमस्ते।</td>\n",
       "      <td>1</td>\n",
       "      <td>1</td>\n",
       "    </tr>\n",
       "    <tr>\n",
       "      <th>...</th>\n",
       "      <td>...</td>\n",
       "      <td>...</td>\n",
       "      <td>...</td>\n",
       "      <td>...</td>\n",
       "    </tr>\n",
       "    <tr>\n",
       "      <th>130471</th>\n",
       "      <td>examples of art deco construction can be found...</td>\n",
       "      <td>आर्ट डेको शैली के निर्माण मैरीन ड्राइव और ओवल ...</td>\n",
       "      <td>15</td>\n",
       "      <td>15</td>\n",
       "    </tr>\n",
       "    <tr>\n",
       "      <th>130472</th>\n",
       "      <td>and put it in our cheeks</td>\n",
       "      <td>और अपने गालों में डाल लेते हैं।</td>\n",
       "      <td>6</td>\n",
       "      <td>7</td>\n",
       "    </tr>\n",
       "    <tr>\n",
       "      <th>130473</th>\n",
       "      <td>as for the other derivatives of sulphur the co...</td>\n",
       "      <td>जहां तक गंधक के अन्य उत्पादों का प्रश्न है   द...</td>\n",
       "      <td>29</td>\n",
       "      <td>39</td>\n",
       "    </tr>\n",
       "    <tr>\n",
       "      <th>130474</th>\n",
       "      <td>its complicated functioning is defined thus in...</td>\n",
       "      <td>रचना प्रकिया को उसने एक पहेली में यों बांधा है</td>\n",
       "      <td>10</td>\n",
       "      <td>13</td>\n",
       "    </tr>\n",
       "    <tr>\n",
       "      <th>130475</th>\n",
       "      <td>they ve just won four government contracts to ...</td>\n",
       "      <td>हाल ही में उन्हें सरकारी ठेका मिला है करीब सौ ...</td>\n",
       "      <td>13</td>\n",
       "      <td>15</td>\n",
       "    </tr>\n",
       "  </tbody>\n",
       "</table>\n",
       "<p>127375 rows × 4 columns</p>\n",
       "</div>"
      ],
      "text/plain": [
       "                                                  english  \\\n",
       "0                                                    help   \n",
       "1                                                    jump   \n",
       "2                                                    jump   \n",
       "3                                                    jump   \n",
       "4                                                   hello   \n",
       "...                                                   ...   \n",
       "130471  examples of art deco construction can be found...   \n",
       "130472                           and put it in our cheeks   \n",
       "130473  as for the other derivatives of sulphur the co...   \n",
       "130474  its complicated functioning is defined thus in...   \n",
       "130475  they ve just won four government contracts to ...   \n",
       "\n",
       "                                                    hindi  length_eng  \\\n",
       "0                                                   बचाओ            1   \n",
       "1                                                   उछलो            1   \n",
       "2                                                   कूदो            1   \n",
       "3                                                  छलांग            1   \n",
       "4                                                 नमस्ते।           1   \n",
       "...                                                   ...         ...   \n",
       "130471  आर्ट डेको शैली के निर्माण मैरीन ड्राइव और ओवल ...          15   \n",
       "130472                    और अपने गालों में डाल लेते हैं।           6   \n",
       "130473  जहां तक गंधक के अन्य उत्पादों का प्रश्न है   द...          29   \n",
       "130474   रचना प्रकिया को उसने एक पहेली में यों बांधा है            10   \n",
       "130475  हाल ही में उन्हें सरकारी ठेका मिला है करीब सौ ...          13   \n",
       "\n",
       "        length_hin  \n",
       "0                2  \n",
       "1                2  \n",
       "2                2  \n",
       "3                2  \n",
       "4                1  \n",
       "...            ...  \n",
       "130471          15  \n",
       "130472           7  \n",
       "130473          39  \n",
       "130474          13  \n",
       "130475          15  \n",
       "\n",
       "[127375 rows x 4 columns]"
      ]
     },
     "execution_count": 27,
     "metadata": {},
     "output_type": "execute_result"
    }
   ],
   "source": [
    "# Function to check if sentence containg Hindi alphabets in the English column\n",
    "def remove_english_numbers(text) :\n",
    "    return re.sub(r'[0-9]', ' ', text) \n",
    "    \n",
    "# Apply the function to the English column\n",
    "lines['hindi'] = lines['hindi'].apply(remove_english_numbers)\n",
    "lines = lines.dropna(subset= [\"hindi\", \"english\"])\n",
    "lines"
   ]
  },
  {
   "cell_type": "code",
   "execution_count": 28,
   "id": "ebcc1853-30d8-4f5d-a368-1eb957c4e3e2",
   "metadata": {},
   "outputs": [
    {
     "data": {
      "text/html": [
       "<div>\n",
       "<style scoped>\n",
       "    .dataframe tbody tr th:only-of-type {\n",
       "        vertical-align: middle;\n",
       "    }\n",
       "\n",
       "    .dataframe tbody tr th {\n",
       "        vertical-align: top;\n",
       "    }\n",
       "\n",
       "    .dataframe thead th {\n",
       "        text-align: right;\n",
       "    }\n",
       "</style>\n",
       "<table border=\"1\" class=\"dataframe\">\n",
       "  <thead>\n",
       "    <tr style=\"text-align: right;\">\n",
       "      <th></th>\n",
       "      <th>english</th>\n",
       "      <th>hindi</th>\n",
       "      <th>length_eng</th>\n",
       "      <th>length_hin</th>\n",
       "    </tr>\n",
       "  </thead>\n",
       "  <tbody>\n",
       "    <tr>\n",
       "      <th>0</th>\n",
       "      <td>help</td>\n",
       "      <td>बचाओ</td>\n",
       "      <td>1</td>\n",
       "      <td>2</td>\n",
       "    </tr>\n",
       "    <tr>\n",
       "      <th>1</th>\n",
       "      <td>jump</td>\n",
       "      <td>उछलो</td>\n",
       "      <td>1</td>\n",
       "      <td>2</td>\n",
       "    </tr>\n",
       "    <tr>\n",
       "      <th>2</th>\n",
       "      <td>jump</td>\n",
       "      <td>कूदो</td>\n",
       "      <td>1</td>\n",
       "      <td>2</td>\n",
       "    </tr>\n",
       "    <tr>\n",
       "      <th>3</th>\n",
       "      <td>jump</td>\n",
       "      <td>छलांग</td>\n",
       "      <td>1</td>\n",
       "      <td>2</td>\n",
       "    </tr>\n",
       "    <tr>\n",
       "      <th>4</th>\n",
       "      <td>hello</td>\n",
       "      <td>नमस्ते।</td>\n",
       "      <td>1</td>\n",
       "      <td>1</td>\n",
       "    </tr>\n",
       "    <tr>\n",
       "      <th>...</th>\n",
       "      <td>...</td>\n",
       "      <td>...</td>\n",
       "      <td>...</td>\n",
       "      <td>...</td>\n",
       "    </tr>\n",
       "    <tr>\n",
       "      <th>130471</th>\n",
       "      <td>examples of art deco construction can be found...</td>\n",
       "      <td>आर्ट डेको शैली के निर्माण मैरीन ड्राइव और ओवल ...</td>\n",
       "      <td>15</td>\n",
       "      <td>15</td>\n",
       "    </tr>\n",
       "    <tr>\n",
       "      <th>130472</th>\n",
       "      <td>and put it in our cheeks</td>\n",
       "      <td>और अपने गालों में डाल लेते हैं।</td>\n",
       "      <td>6</td>\n",
       "      <td>7</td>\n",
       "    </tr>\n",
       "    <tr>\n",
       "      <th>130473</th>\n",
       "      <td>as for the other derivatives of sulphur the co...</td>\n",
       "      <td>जहां तक गंधक के अन्य उत्पादों का प्रश्न है   द...</td>\n",
       "      <td>29</td>\n",
       "      <td>39</td>\n",
       "    </tr>\n",
       "    <tr>\n",
       "      <th>130474</th>\n",
       "      <td>its complicated functioning is defined thus in...</td>\n",
       "      <td>रचना प्रकिया को उसने एक पहेली में यों बांधा है</td>\n",
       "      <td>10</td>\n",
       "      <td>13</td>\n",
       "    </tr>\n",
       "    <tr>\n",
       "      <th>130475</th>\n",
       "      <td>they ve just won four government contracts to ...</td>\n",
       "      <td>हाल ही में उन्हें सरकारी ठेका मिला है करीब सौ ...</td>\n",
       "      <td>13</td>\n",
       "      <td>15</td>\n",
       "    </tr>\n",
       "  </tbody>\n",
       "</table>\n",
       "<p>127375 rows × 4 columns</p>\n",
       "</div>"
      ],
      "text/plain": [
       "                                                  english  \\\n",
       "0                                                    help   \n",
       "1                                                    jump   \n",
       "2                                                    jump   \n",
       "3                                                    jump   \n",
       "4                                                   hello   \n",
       "...                                                   ...   \n",
       "130471  examples of art deco construction can be found...   \n",
       "130472                           and put it in our cheeks   \n",
       "130473  as for the other derivatives of sulphur the co...   \n",
       "130474  its complicated functioning is defined thus in...   \n",
       "130475  they ve just won four government contracts to ...   \n",
       "\n",
       "                                                    hindi  length_eng  \\\n",
       "0                                                   बचाओ            1   \n",
       "1                                                   उछलो            1   \n",
       "2                                                   कूदो            1   \n",
       "3                                                  छलांग            1   \n",
       "4                                                 नमस्ते।           1   \n",
       "...                                                   ...         ...   \n",
       "130471  आर्ट डेको शैली के निर्माण मैरीन ड्राइव और ओवल ...          15   \n",
       "130472                    और अपने गालों में डाल लेते हैं।           6   \n",
       "130473  जहां तक गंधक के अन्य उत्पादों का प्रश्न है   द...          29   \n",
       "130474   रचना प्रकिया को उसने एक पहेली में यों बांधा है            10   \n",
       "130475  हाल ही में उन्हें सरकारी ठेका मिला है करीब सौ ...          13   \n",
       "\n",
       "        length_hin  \n",
       "0                2  \n",
       "1                2  \n",
       "2                2  \n",
       "3                2  \n",
       "4                1  \n",
       "...            ...  \n",
       "130471          15  \n",
       "130472           7  \n",
       "130473          39  \n",
       "130474          13  \n",
       "130475          15  \n",
       "\n",
       "[127375 rows x 4 columns]"
      ]
     },
     "execution_count": 28,
     "metadata": {},
     "output_type": "execute_result"
    }
   ],
   "source": [
    "# Function to check if sentence containg Hindi alphabets in the English column\n",
    "def remove_hindi_alphabets (text) :\n",
    "    return re.sub(\"[\\u0900-\\u097F]\", \" \", text)\n",
    "    \n",
    "# Apply the function to the English column\n",
    "lines['english'] = lines['english'].apply(remove_hindi_alphabets)\n",
    "lines = lines.dropna(subset= [\"hindi\", \"english\"])\n",
    "lines"
   ]
  },
  {
   "cell_type": "code",
   "execution_count": 29,
   "id": "903c8b75-8b3c-4ff5-8b40-b95b7b945eae",
   "metadata": {},
   "outputs": [],
   "source": [
    "# Remove extra spaces\n",
    "lines['english']=lines['english'].apply(lambda x: x.strip())\n",
    "lines['hindi']=lines['hindi'].apply(lambda x: x.strip ())"
   ]
  },
  {
   "cell_type": "code",
   "execution_count": 30,
   "id": "b031e545-669b-4750-9476-94724855f8ed",
   "metadata": {},
   "outputs": [
    {
     "data": {
      "text/plain": [
       "(462, 4)"
      ]
     },
     "execution_count": 30,
     "metadata": {},
     "output_type": "execute_result"
    }
   ],
   "source": [
    "lines[lines['length_eng'] > max_sequence_length].shape"
   ]
  },
  {
   "cell_type": "code",
   "execution_count": 31,
   "id": "7887d79d-c55b-485a-95d9-e074dacfed69",
   "metadata": {},
   "outputs": [
    {
     "data": {
      "text/plain": [
       "(1584, 4)"
      ]
     },
     "execution_count": 31,
     "metadata": {},
     "output_type": "execute_result"
    }
   ],
   "source": [
    "lines[lines['length_hin'] > max_sequence_length].shape"
   ]
  },
  {
   "cell_type": "code",
   "execution_count": 32,
   "id": "0ca0713e-67f4-446e-aed7-a7cfffaeb4fd",
   "metadata": {},
   "outputs": [],
   "source": [
    "lines = lines[lines['length_eng']<=max_sequence_length]\n",
    "lines = lines[lines['length_hin']<=max_sequence_length]"
   ]
  },
  {
   "cell_type": "code",
   "execution_count": 33,
   "id": "be26a885-7b95-4081-8fec-0b6023e07064",
   "metadata": {},
   "outputs": [],
   "source": [
    "lines = lines[lines['length_eng']>=min_sequence_length]\n",
    "lines = lines[lines['length_hin']>=min_sequence_length]"
   ]
  },
  {
   "cell_type": "code",
   "execution_count": 34,
   "id": "f7aaf339-c261-4f2c-9deb-5ef9484f356b",
   "metadata": {},
   "outputs": [
    {
     "data": {
      "text/plain": [
       "(124084, 4)"
      ]
     },
     "execution_count": 34,
     "metadata": {},
     "output_type": "execute_result"
    }
   ],
   "source": [
    "lines.shape"
   ]
  },
  {
   "cell_type": "code",
   "execution_count": 35,
   "id": "cd33fbfa-53d5-4d8a-bca6-45ddfab0563e",
   "metadata": {},
   "outputs": [
    {
     "name": "stdout",
     "output_type": "stream",
     "text": [
      "maximum length of Hindi Sentence  90\n",
      "maximum length of English Sentence  90\n"
     ]
    }
   ],
   "source": [
    "print(\"maximum length of Hindi Sentence \", max(lines ['length_hin'])) \n",
    "print(\"maximum length of English Sentence \", max (lines ['length_eng']))"
   ]
  },
  {
   "cell_type": "code",
   "execution_count": 36,
   "id": "737978d3-6df3-47ec-afaa-0732e8cf76c7",
   "metadata": {},
   "outputs": [
    {
     "data": {
      "text/html": [
       "<div>\n",
       "<style scoped>\n",
       "    .dataframe tbody tr th:only-of-type {\n",
       "        vertical-align: middle;\n",
       "    }\n",
       "\n",
       "    .dataframe tbody tr th {\n",
       "        vertical-align: top;\n",
       "    }\n",
       "\n",
       "    .dataframe thead th {\n",
       "        text-align: right;\n",
       "    }\n",
       "</style>\n",
       "<table border=\"1\" class=\"dataframe\">\n",
       "  <thead>\n",
       "    <tr style=\"text-align: right;\">\n",
       "      <th></th>\n",
       "      <th>english</th>\n",
       "      <th>hindi</th>\n",
       "      <th>length_eng</th>\n",
       "      <th>length_hin</th>\n",
       "    </tr>\n",
       "  </thead>\n",
       "  <tbody>\n",
       "    <tr>\n",
       "      <th>8</th>\n",
       "      <td>got it</td>\n",
       "      <td>समझे कि नहीं</td>\n",
       "      <td>2</td>\n",
       "      <td>4</td>\n",
       "    </tr>\n",
       "    <tr>\n",
       "      <th>9</th>\n",
       "      <td>i m ok</td>\n",
       "      <td>मैं ठीक हूँ।</td>\n",
       "      <td>3</td>\n",
       "      <td>3</td>\n",
       "    </tr>\n",
       "    <tr>\n",
       "      <th>11</th>\n",
       "      <td>come in</td>\n",
       "      <td>अंदर आ जाओ।</td>\n",
       "      <td>2</td>\n",
       "      <td>3</td>\n",
       "    </tr>\n",
       "    <tr>\n",
       "      <th>12</th>\n",
       "      <td>get out</td>\n",
       "      <td>बाहर निकल जाओ</td>\n",
       "      <td>2</td>\n",
       "      <td>4</td>\n",
       "    </tr>\n",
       "    <tr>\n",
       "      <th>13</th>\n",
       "      <td>go away</td>\n",
       "      <td>चले जाओ</td>\n",
       "      <td>2</td>\n",
       "      <td>3</td>\n",
       "    </tr>\n",
       "  </tbody>\n",
       "</table>\n",
       "</div>"
      ],
      "text/plain": [
       "    english          hindi  length_eng  length_hin\n",
       "8    got it   समझे कि नहीं           2           4\n",
       "9    i m ok   मैं ठीक हूँ।           3           3\n",
       "11  come in    अंदर आ जाओ।           2           3\n",
       "12  get out  बाहर निकल जाओ           2           4\n",
       "13  go away        चले जाओ           2           3"
      ]
     },
     "execution_count": 36,
     "metadata": {},
     "output_type": "execute_result"
    }
   ],
   "source": [
    "lines.head()"
   ]
  },
  {
   "cell_type": "code",
   "execution_count": 37,
   "id": "52eb5731-dcba-4e66-9911-725b2a439e07",
   "metadata": {},
   "outputs": [],
   "source": [
    "hindi_sentences = lines['hindi'].values.tolist()\n",
    "english_sentences = lines['english'].values.tolist()"
   ]
  },
  {
   "cell_type": "code",
   "execution_count": 38,
   "id": "cdc059f6-981c-486d-859a-1c5ff3e357e4",
   "metadata": {},
   "outputs": [],
   "source": [
    "### Get English and Hindi Vocabulary\n",
    "all_eng_words = set()\n",
    "for eng in lines['english']:\n",
    "    all_eng_words.update(eng.split())\n",
    "\n",
    "all_hindi_words = set ()\n",
    "for hin in lines['hindi']:\n",
    "    all_hindi_words.update(hin.split())"
   ]
  },
  {
   "cell_type": "code",
   "execution_count": 39,
   "id": "bc237244-ea8b-414f-bc01-4ade5622498e",
   "metadata": {},
   "outputs": [
    {
     "name": "stdout",
     "output_type": "stream",
     "text": [
      "68142\n",
      "59894\n"
     ]
    }
   ],
   "source": [
    "hindi_vocab = list(all_hindi_words)\n",
    "print(len(hindi_vocab))\n",
    "english_vocab = list(all_eng_words)\n",
    "print(len(english_vocab))"
   ]
  },
  {
   "cell_type": "markdown",
   "id": "71cd3b27-5846-47aa-82d8-f5d7e57e4620",
   "metadata": {},
   "source": [
    "### Now Writing the hindi, english text and vocab created in above 3 cells"
   ]
  },
  {
   "cell_type": "code",
   "execution_count": 40,
   "id": "a0d27fab-060b-4930-8bff-01423e78613d",
   "metadata": {},
   "outputs": [],
   "source": [
    "file = open(pre_process_en_file,'w')\n",
    "for sentence in english_sentences:\n",
    "    file.write(sentence+\"\\n\")\n",
    "file.close()"
   ]
  },
  {
   "cell_type": "code",
   "execution_count": 41,
   "id": "bd4b4ca8-8c4e-4a57-bdd0-43728f104552",
   "metadata": {},
   "outputs": [],
   "source": [
    "file = open(pre_process_hn_file,'w')\n",
    "for sentence in hindi_sentences:\n",
    "    file.write(sentence+\"\\n\")\n",
    "file.close()"
   ]
  },
  {
   "cell_type": "code",
   "execution_count": 42,
   "id": "dbff6861-68f7-40b3-882f-f84d11f95981",
   "metadata": {},
   "outputs": [],
   "source": [
    "file = open(english_vocab_file, 'w')\n",
    "for word in english_vocab: \n",
    "    file.write(word+\"\\n\")\n",
    "file.close()"
   ]
  },
  {
   "cell_type": "code",
   "execution_count": 43,
   "id": "1512e83d-1fbd-4f92-913f-59693850a4ee",
   "metadata": {},
   "outputs": [],
   "source": [
    "file = open(hindi_vocab_file, 'w')\n",
    "for word in hindi_vocab:\n",
    "    file.write (word+\"\\n\")\n",
    "file.close()"
   ]
  },
  {
   "cell_type": "code",
   "execution_count": 44,
   "id": "15618ed7-539b-45ca-bb73-d0878213126e",
   "metadata": {},
   "outputs": [
    {
     "data": {
      "text/plain": [
       "0"
      ]
     },
     "execution_count": 44,
     "metadata": {},
     "output_type": "execute_result"
    }
   ],
   "source": [
    "# Delete dataframes to release memory\n",
    "del lines \n",
    "del all_eng_words \n",
    "del all_hindi_words \n",
    "del hindi_sentences \n",
    "del english_sentences \n",
    "del hindi_vocab \n",
    "del english_vocab\n",
    "# Run garbage collector\n",
    "gc.collect()"
   ]
  },
  {
   "cell_type": "markdown",
   "id": "02a51f97-f3f4-4653-998f-22e584fc2e0b",
   "metadata": {},
   "source": [
    "### Reading the hindi, english text and vocab"
   ]
  },
  {
   "cell_type": "code",
   "execution_count": 45,
   "id": "cf2a5362-171e-4373-97c0-fb516ac55609",
   "metadata": {},
   "outputs": [
    {
     "data": {
      "text/plain": [
       "['got it',\n",
       " 'i m ok',\n",
       " 'come in',\n",
       " 'get out',\n",
       " 'go away',\n",
       " 'have fun',\n",
       " 'have fun',\n",
       " 'have fun',\n",
       " 'i forgot',\n",
       " 'i forgot']"
      ]
     },
     "execution_count": 45,
     "metadata": {},
     "output_type": "execute_result"
    }
   ],
   "source": [
    "with open(pre_process_en_file, 'r') as file:\n",
    "    english_sentences = file.readlines()\n",
    "english_sentences = [sentence.rstrip('\\n') for sentence in english_sentences]\n",
    "english_sentences[:10]"
   ]
  },
  {
   "cell_type": "code",
   "execution_count": 46,
   "id": "eead2cb6-b6b8-46c3-9052-825dc6564b1b",
   "metadata": {},
   "outputs": [
    {
     "data": {
      "text/plain": [
       "['समझे कि नहीं',\n",
       " 'मैं ठीक हूँ।',\n",
       " 'अंदर आ जाओ।',\n",
       " 'बाहर निकल जाओ',\n",
       " 'चले जाओ',\n",
       " 'मज़े करना।',\n",
       " 'मौज करना।',\n",
       " 'मज़े करो।',\n",
       " 'मैं भूल गया।',\n",
       " 'मैं भूल गई।']"
      ]
     },
     "execution_count": 46,
     "metadata": {},
     "output_type": "execute_result"
    }
   ],
   "source": [
    "with open(pre_process_hn_file, 'r') as file:\n",
    "    hindi_sentences = file.readlines()\n",
    "hindi_sentences = [sentence.rstrip('\\n') for sentence in hindi_sentences]\n",
    "hindi_sentences[:10]"
   ]
  },
  {
   "cell_type": "code",
   "execution_count": 47,
   "id": "08ba14bd-246c-445a-a36e-132b794336d6",
   "metadata": {
    "scrolled": true
   },
   "outputs": [
    {
     "name": "stdout",
     "output_type": "stream",
     "text": [
      "68142\n",
      "['पदक', 'श्रुतलेखन', 'शेर्विचेस्', 'ओरवेल', 'द्य', 'परिष्क्', 'झंझोटियां', 'मेहराबी', 'मगरे', 'ड़ँ', 'निषिद्ध', 'अल्लमप्रभु', 'अर्पित', 'शिकारगाह', 'करनेकी', 'कंपकपी', 'बचाकर', 'हिचेन्स', 'भुभाग', 'अपाहज़', 'जज़्बे', 'धोखेबाज़ों', 'चौपड़', 'वर्महोल', 'दूरभाष', 'क्रमशः', 'पंक्तियों', 'भिजवाने', 'मूर्तिया', 'तिरछे', 'बीसीसीआई', 'सहयाता', 'ढ़ाचों', 'उपयूक़्तता', 'समर्पित', 'भूलती', 'सहयोग।', 'सदृश', 'दशनों', 'सरमद', 'स्वात', 'बोलियां', 'सालसेट्टे', 'ओरंगजेब', 'केढ', 'लिपटा', 'बंद', 'लक्ष्यहीन', 'वायुचालित', 'दादियों']\n"
     ]
    }
   ],
   "source": [
    "with open(hindi_vocab_file, 'r') as file:\n",
    "    hindi_vocab = file.readlines ()\n",
    "hindi_vocab = [word.rstrip('\\n') for word in hindi_vocab]\n",
    "print(len(hindi_vocab) )\n",
    "print(hindi_vocab[:50])"
   ]
  },
  {
   "cell_type": "code",
   "execution_count": 48,
   "id": "14bdf2dc-3c01-48e6-8b77-0fd9b9d6e3bd",
   "metadata": {
    "scrolled": true
   },
   "outputs": [
    {
     "name": "stdout",
     "output_type": "stream",
     "text": [
      "59894\n",
      "['templea', 'struggling', 'alcohol', 'rescuer', 'yazdajtrd', 'bareilly', 'clauses', 'condenser', 'ifone3', 'convent', '2912kms', 'mns', 'justifies', 'extincted', 'wahba', 'remarkably', 'bassein', 'because', 'rembrandt', 'gardener', 'agri', 'protem', 'proliferative', 'divesting', 'laudable', 'khambat', 'duvet', 'emoluments', 'fpr', 'sinha', '5to', 'disappoint', 'sanghamitra', 'satyaprakash', 'amendment', 'trumpet', 'romantically', 'patrg', 'portends', 'semicircle', 'torquay', 'haneeph', 'arigato', 'cosmologists', 'mangalsutra', 'gaineddrropodi', 'sac', 'unrelenting', 'paak', 'champu']\n"
     ]
    }
   ],
   "source": [
    "with open (english_vocab_file, 'r') as file:\n",
    "    english_vocab= file.readlines()\n",
    "english_vocab = [word.rstrip('\\n') for word in english_vocab]\n",
    "print(len(english_vocab))\n",
    "print(english_vocab[:50])"
   ]
  },
  {
   "cell_type": "code",
   "execution_count": 49,
   "id": "b021a274-de74-48d5-a3dd-4964a26c8d73",
   "metadata": {},
   "outputs": [
    {
     "name": "stdout",
     "output_type": "stream",
     "text": [
      "Number of sentences: 124084\n",
      "Number of sentences: 124084\n"
     ]
    }
   ],
   "source": [
    "print(f\"Number of sentences: {len(hindi_sentences)}\")\n",
    "print(f\"Number of sentences: {len(english_sentences)}\")"
   ]
  },
  {
   "cell_type": "code",
   "execution_count": 50,
   "id": "e5f59548-d814-4bd9-b422-ddab18c08b74",
   "metadata": {},
   "outputs": [
    {
     "name": "stdout",
     "output_type": "stream",
     "text": [
      "Number of sentences: 124084\n",
      "Number of valid sentences: 124076\n"
     ]
    }
   ],
   "source": [
    "def is_valid_tokens (sentence, vocab) :\n",
    "    return all(token in vocab for token in sentence.split())\n",
    "    \n",
    "def is_valid_length (sentence, max_sequence_length) :\n",
    "    return len(sentence.split()) < (max_sequence_length - 1) # need to re-add the end token so leaving 1 space\n",
    "    \n",
    "valid_sentence_indices = [\n",
    "    index for index, (hindi_sentence, english_sentence) in enumerate(zip(hindi_sentences, english_sentences))\n",
    "    if is_valid_length(hindi_sentence, max_sequence_length)\n",
    "    and is_valid_length(english_sentence, max_sequence_length) \n",
    "    and is_valid_tokens(hindi_sentence, hindi_vocab)\n",
    "]\n",
    "\n",
    "print(f\"Number of sentences: {len(hindi_sentences)}\")\n",
    "print(f\"Number of valid sentences: {len(valid_sentence_indices)}\")"
   ]
  },
  {
   "cell_type": "code",
   "execution_count": 51,
   "id": "bfac6d26-eace-42ac-8cb5-83916cf369fb",
   "metadata": {},
   "outputs": [
    {
     "name": "stdout",
     "output_type": "stream",
     "text": [
      "124076\n",
      "124076\n"
     ]
    }
   ],
   "source": [
    "hindi_sentences = [hindi_sentences[i] for i in valid_sentence_indices]\n",
    "english_sentences = [english_sentences[i] for i in valid_sentence_indices]\n",
    "print(len(hindi_sentences))\n",
    "print(len(english_sentences))"
   ]
  },
  {
   "cell_type": "markdown",
   "id": "64a4bba8-5979-4fa1-9d49-49f84ca1b720",
   "metadata": {},
   "source": [
    "### Writing the valid processed files"
   ]
  },
  {
   "cell_type": "code",
   "execution_count": 52,
   "id": "0a62ebbb-03d1-4591-a6d1-4ff038b73344",
   "metadata": {},
   "outputs": [],
   "source": [
    "file = open(train_en_file,'w')\n",
    "for sentence in english_sentences:\n",
    "    file.write(sentence+\"\\n\")\n",
    "file.close()"
   ]
  },
  {
   "cell_type": "code",
   "execution_count": 53,
   "id": "9ff2c88b-ac6e-49c6-869b-4215f9684f45",
   "metadata": {},
   "outputs": [],
   "source": [
    "file = open(train_hn_file,'w')\n",
    "for sentence in hindi_sentences:\n",
    "    file.write(sentence+\"\\n\")\n",
    "file.close()"
   ]
  },
  {
   "cell_type": "code",
   "execution_count": 54,
   "id": "3d1604d6-ae4e-4ba6-b8b6-9d100f517106",
   "metadata": {},
   "outputs": [
    {
     "data": {
      "text/plain": [
       "['got it',\n",
       " 'i m ok',\n",
       " 'come in',\n",
       " 'get out',\n",
       " 'go away',\n",
       " 'have fun',\n",
       " 'have fun',\n",
       " 'have fun',\n",
       " 'i forgot',\n",
       " 'i forgot']"
      ]
     },
     "execution_count": 54,
     "metadata": {},
     "output_type": "execute_result"
    }
   ],
   "source": [
    "with open(train_en_file, 'r') as file:\n",
    "    english_sentences = file.readlines()\n",
    "english_sentences = [sentence.rstrip('\\n') for sentence in english_sentences]\n",
    "english_sentences[:10]"
   ]
  },
  {
   "cell_type": "code",
   "execution_count": 55,
   "id": "dc66aa1d-c299-4576-9005-b7600c2f1d95",
   "metadata": {},
   "outputs": [
    {
     "data": {
      "text/plain": [
       "['समझे कि नहीं',\n",
       " 'मैं ठीक हूँ।',\n",
       " 'अंदर आ जाओ।',\n",
       " 'बाहर निकल जाओ',\n",
       " 'चले जाओ',\n",
       " 'मज़े करना।',\n",
       " 'मौज करना।',\n",
       " 'मज़े करो।',\n",
       " 'मैं भूल गया।',\n",
       " 'मैं भूल गई।']"
      ]
     },
     "execution_count": 55,
     "metadata": {},
     "output_type": "execute_result"
    }
   ],
   "source": [
    "with open(train_hn_file, 'r') as file:\n",
    "    hindi_sentences = file.readlines()\n",
    "hindi_sentences = [sentence.rstrip('\\n') for sentence in hindi_sentences]\n",
    "hindi_sentences[: 10]"
   ]
  },
  {
   "cell_type": "code",
   "execution_count": null,
   "id": "97ccf3c2-6a21-4bce-910c-e737fe882b61",
   "metadata": {},
   "outputs": [],
   "source": []
  }
 ],
 "metadata": {
  "kernelspec": {
   "display_name": "transformer_kernel",
   "language": "python",
   "name": "transformer"
  },
  "language_info": {
   "codemirror_mode": {
    "name": "ipython",
    "version": 3
   },
   "file_extension": ".py",
   "mimetype": "text/x-python",
   "name": "python",
   "nbconvert_exporter": "python",
   "pygments_lexer": "ipython3",
   "version": "3.11.7"
  }
 },
 "nbformat": 4,
 "nbformat_minor": 5
}
