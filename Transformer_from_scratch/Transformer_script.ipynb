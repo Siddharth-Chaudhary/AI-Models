{
 "cells": [
  {
   "cell_type": "markdown",
   "id": "a6b614c4-f0e4-4e55-8e70-57bbf67eb30b",
   "metadata": {},
   "source": [
    "## Motivation for Attention"
   ]
  },
  {
   "cell_type": "raw",
   "id": "2da8dd24-d951-44b3-9bb8-5457fe34be0e",
   "metadata": {},
   "source": [
    "RNN, suffers from two disadnavtages,\n",
    "1 Trains very slow\n",
    "2 Vectors generated truely doesnt represent the actual context of the word, In rn we get signals from the word coming just before that word, Even in birectional RANs, kind of suffer from the issue they just look left to write and write to left context seperately and then concatenate them. so the true meaning is kind lost.\n",
    "ONE way to improves the vector generation is via some attention mechanism."
   ]
  },
  {
   "cell_type": "code",
   "execution_count": 16,
   "id": "d61c8d9e-4557-4854-a847-36e4d2d760e1",
   "metadata": {},
   "outputs": [],
   "source": [
    "import numpy as np \n",
    "import pandas as pd \n",
    "import string\n",
    "from string import digits \n",
    "import re \n",
    "import torch\n",
    "from torch import nn \n",
    "import torch.nn.functional as nnfunc \n",
    "import math \n",
    "import contractions \n",
    "import gc"
   ]
  },
  {
   "cell_type": "code",
   "execution_count": 24,
   "id": "799c0ebd-8ddb-4fad-a7e7-a0e585f74dee",
   "metadata": {},
   "outputs": [
    {
     "name": "stdout",
     "output_type": "stream",
     "text": [
      "python Platform: macOS-15.4-arm64-arm-64bit\n",
      "PyTorch Version: 2.6.0\n",
      "Python: 3.11.7 (main, Dec 15 2023, 12:09:56) [Clang 14.0.6 ]\n",
      "Pandas: 2.2.3\n",
      "Scikit-Learn: 1.6.1\n",
      "NVIDIA/CUDA GPU is NOT AVAILABLE\n",
      "MPS (Apple Metal) is AVAILABLE\n",
      "Target device is mps\n"
     ]
    }
   ],
   "source": [
    "# What version of Python do you have?\n",
    "import sys \n",
    "import platform\n",
    "import sklearn as sk \n",
    "from torch.utils.data import Dataset, DataLoader\n",
    "has_gpu = torch.cuda.is_available()\n",
    "has_mps = torch.backends.mps.is_built()\n",
    "device = \"mps\" if has_mps else \"cuda\" if torch.cuda.is_available() else \"cpu\"\n",
    "print(f\"python Platform: {platform.platform()}\")\n",
    "print(f\"PyTorch Version: {torch.__version__}\")\n",
    "print(f\"Python: {sys.version}\")\n",
    "print(f\"Pandas: {pd.__version__}\")\n",
    "print(f\"Scikit-Learn: {sk.__version__}\")\n",
    "print (\"NVIDIA/CUDA GPU is\", \"available\" if has_gpu else \"NOT AVAILABLE\")\n",
    "print(\"MPS (Apple Metal) is\", \"AVAILABLE\" if has_mps else \"NOT AVAILABLE\")\n",
    "print(f\"Target device is {device}\")"
   ]
  },
  {
   "cell_type": "code",
   "execution_count": null,
   "id": "5275c424-b285-4e2c-8a2b-81fc19f46a78",
   "metadata": {},
   "outputs": [],
   "source": []
  }
 ],
 "metadata": {
  "kernelspec": {
   "display_name": "transformer_kernel",
   "language": "python",
   "name": "transformer"
  },
  "language_info": {
   "codemirror_mode": {
    "name": "ipython",
    "version": 3
   },
   "file_extension": ".py",
   "mimetype": "text/x-python",
   "name": "python",
   "nbconvert_exporter": "python",
   "pygments_lexer": "ipython3",
   "version": "3.11.7"
  }
 },
 "nbformat": 4,
 "nbformat_minor": 5
}
