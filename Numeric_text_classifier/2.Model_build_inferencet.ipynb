{
 "cells": [
  {
   "cell_type": "markdown",
   "id": "82956531-4ed1-43d0-b06a-a98a833c9d75",
   "metadata": {},
   "source": [
    "# Build Text-Numeric-Categorical Hybrid Functional Model Using Word 2 Vec, Tensorflow, Keras APIs"
   ]
  },
  {
   "cell_type": "code",
   "execution_count": 1,
   "id": "aa0a8bb1-e36d-4394-b1bc-330d94b43f99",
   "metadata": {
    "tags": []
   },
   "outputs": [
    {
     "name": "stderr",
     "output_type": "stream",
     "text": [
      "[nltk_data] Downloading package stopwords to\n",
      "[nltk_data]     C:\\Users\\Ranik\\AppData\\Roaming\\nltk_data...\n",
      "[nltk_data]   Package stopwords is already up-to-date!\n",
      "[nltk_data] Downloading package wordnet to\n",
      "[nltk_data]     C:\\Users\\Ranik\\AppData\\Roaming\\nltk_data...\n",
      "[nltk_data]   Package wordnet is already up-to-date!\n"
     ]
    }
   ],
   "source": [
    "import pandas as pd\n",
    "import numpy as np\n",
    "import matplotlib.pyplot as plt\n",
    "import matplotlib\n",
    "#import pydot_ng as pydot\n",
    "#import graphviz\n",
    "import seaborn as sns\n",
    "%matplotlib inline\n",
    "import pickle\n",
    "import tensorflow as tf\n",
    "from sklearn.model_selection import train_test_split\n",
    "from sklearn.metrics import (auc, average_precision_score, brier_score_loss, confusion_matrix, fbeta_score,\n",
    "                             precision_recall_curve, roc_curve)\n",
    " \n",
    "from gensim.models import Word2Vec\n",
    " \n",
    "#from tensorflow.keras.models import Sequential\n",
    "from tensorflow.keras.layers import Embedding, Flatten, Dense, Dropout\n",
    "from tensorflow.keras.preprocessing.sequence import pad_sequences\n",
    "from tensorflow.keras.preprocessing.text import Tokenizer\n",
    "from tensorflow.keras.optimizers import Adam\n",
    "from tensorflow.keras.metrics import AUC\n",
    "#from plot_model import plot_model\n",
    "import nltk\n",
    "nltk.download('stopwords')\n",
    "from nltk.corpus import stopwords\n",
    "nltk.download('wordnet')\n",
    "from nltk.stem import WordNetLemmatizer"
   ]
  },
  {
   "cell_type": "markdown",
   "id": "59da1891-43de-4a89-842c-71ab729e7bfd",
   "metadata": {
    "tags": []
   },
   "source": [
    "## Define PR Curve Function for Model Comparison"
   ]
  },
  {
   "cell_type": "code",
   "execution_count": 2,
   "id": "4522fbcc-affd-4e60-9154-3220989521b7",
   "metadata": {
    "tags": []
   },
   "outputs": [],
   "source": [
    "def pr_curve(y_true, y_prob):\n",
    " \n",
    "    lines = precision_recall_curve(probas_pred=y_prob, y_true=y_true)\n",
    "    pr_auc = round(average_precision_score(y_true=y_true, y_score=y_prob), 3)\n",
    " \n",
    "    plt.plot(lines[1], lines[0], label='Precision-Recall Curve (Area = {})'.format(pr_auc))\n",
    " \n",
    "    plt.title('Precision-Recall Curve:' , y=1.05)\n",
    "    plt.xlabel('Recall: P(predicted+|true+)')\n",
    "    plt.ylabel('Precision: P(true+|predicted+)')\n",
    "    plt.ylim([0.0, 1.05])\n",
    "    plt.xlim([0.0, 1.0])\n",
    "    plt.legend(loc=\"lower left\")\n",
    "    plt.tick_params(\n",
    "            axis='both',\n",
    "            which='both',\n",
    "            labelright=False,\n",
    "            top=False,\n",
    "            right=False)\n",
    "    plt.tight_layout()\n",
    "    plt.show()"
   ]
  },
  {
   "cell_type": "markdown",
   "id": "92a51443-a6fd-404f-be7f-ef0e9ff9da32",
   "metadata": {},
   "source": [
    "## Define Function to Plot Positive and Negative Score Distributions"
   ]
  },
  {
   "cell_type": "code",
   "execution_count": 3,
   "id": "30bc8edd-8953-4e17-9108-ed5f8524556f",
   "metadata": {
    "tags": []
   },
   "outputs": [],
   "source": [
    "def plot_validation_groups(y_true, y_prob, positive_alpha=0.9, negative_alpha=0.5, bins=40, x_size=12, y_size=12):\n",
    " \n",
    "    cols = ['ACTUAL', 'PROB_POSITIVE']\n",
    "    data = [y_true, y_prob]\n",
    "    df = pd.DataFrame(dict(zip(cols, data)))\n",
    " \n",
    "    positive_group = df[df.ACTUAL == 1]\n",
    "    negative_group = df[df.ACTUAL == 0]\n",
    "    \n",
    "    plt.figure(figsize=(x_size, y_size))\n",
    "    plt.hist(negative_group.PROB_POSITIVE, alpha=negative_alpha, label='Negative Class', bins=bins, color='orange')\n",
    "    plt.hist(positive_group.PROB_POSITIVE, alpha=positive_alpha, label='Positive Class', bins=bins, color='b')\n",
    "    plt.legend(loc='upper right')\n",
    "    plt.title(f\"Test Set Score Distribution \\n ({round((positive_group.shape[0]/df.shape[0])*100, 2)}% Prevalence)\")\n",
    "    plt.xlabel(\"Risk Score\")\n",
    "    plt.ylabel(\"Frequency\")\n",
    " \n",
    "    plt.show()"
   ]
  },
  {
   "cell_type": "markdown",
   "id": "5453bdf1-bc3d-4768-a7e4-40096ea0771b",
   "metadata": {},
   "source": [
    "## Define Function to Plot Performance at Various Thresholds"
   ]
  },
  {
   "cell_type": "code",
   "execution_count": 4,
   "id": "abf78538-2b1d-462b-9893-f557b1b5e87c",
   "metadata": {
    "tags": []
   },
   "outputs": [],
   "source": [
    "def comp_threshold(y_true, y_prob):\n",
    "        \n",
    "    cols = ['Threshold', 'Sensitivity', 'Specificity', 'Precision', 'Recall', 'Accuracy', 'True Negative Rate',\n",
    "                'False Positive Rate', 'False Negative Rate', 'True Positive Rate', 'F1 Score', 'Brier Loss']\n",
    "        \n",
    "    results = []\n",
    "    prediction_probabilities_clf = y_prob\n",
    " \n",
    "    for i in range(5, 100, 5):\n",
    " \n",
    "        threshold = float(i) / 100\n",
    "        prediction_clf = [1 if el > threshold else 0 for el in prediction_probabilities_clf] \n",
    "        cm = confusion_matrix(y_true, prediction_clf)\n",
    "        brier_loss = round(brier_score_loss(y_true, prediction_clf), 4)\n",
    " \n",
    "        true_negatives = float(cm[0][0])\n",
    "        false_positives = float(cm[0][1])\n",
    "        false_negatives = float(cm[1][0])\n",
    "        true_positives = float(cm[1][1])\n",
    " \n",
    "        sensitivity = round((true_positives / (true_positives + false_negatives)),\n",
    "                                4) if (true_positives + false_negatives) > 0 else 999\n",
    "        specificity = round((true_negatives / (false_positives + true_negatives)),\n",
    "                                4) if (false_positives + true_negatives) > 0 else 999\n",
    "        positive_predictive_value = round((true_positives / (true_positives + false_positives)),\n",
    "                                              4) if (true_positives + false_positives) > 0 else 999\n",
    "        negative_predictive_value = round((true_negatives / (false_negatives + true_negatives)),\n",
    "                                              4) if (false_negatives + true_negatives) > 0 else 999\n",
    "        accuracy = round((true_positives + true_negatives) / (\n",
    "                    true_positives + true_negatives + false_positives + false_negatives),\n",
    "                             4) if (true_positives + true_negatives + false_positives + false_negatives) > 0 else 999\n",
    "        f1_score = round(((sensitivity * positive_predictive_value) / (sensitivity + positive_predictive_value)),\n",
    "                             4) if (sensitivity + positive_predictive_value) > 0 else 999\n",
    " \n",
    "        def get_percent(measure):\n",
    "            total = float(len(y_true))\n",
    "            m = int(measure)\n",
    "            prop = round(((m / total) * 100), 2)\n",
    "            return str(prop) + '%'\n",
    " \n",
    "        true_negative_percent = get_percent(true_negatives)\n",
    "        false_positive_percent = get_percent(false_positives)\n",
    "        false_negative_percent = get_percent(false_negatives)\n",
    "        true_positive_percent = get_percent(true_positives)\n",
    " \n",
    "        results.append([threshold, sensitivity, specificity, positive_predictive_value, negative_predictive_value,\n",
    "                        accuracy, true_negative_percent, false_positive_percent, false_negative_percent,\n",
    "                        true_positive_percent, f1_score, brier_loss])\n",
    "        \n",
    "    results_df = pd.DataFrame(results, columns=cols)\n",
    "    \n",
    "    return results_df"
   ]
  },
  {
   "cell_type": "markdown",
   "id": "2b21771a-762f-4a25-8ab7-ca2666827679",
   "metadata": {},
   "source": [
    "## Define Function to Print Confusion Matrix"
   ]
  },
  {
   "cell_type": "code",
   "execution_count": 5,
   "id": "4d4afa18-36dc-4080-9b12-ee6a955a9fb8",
   "metadata": {
    "tags": []
   },
   "outputs": [],
   "source": [
    "def print_performance(y_true, y_prob, threshold=0.5):\n",
    "    \n",
    "    cm = confusion_matrix(y_true, [1 if el > threshold else 0 for el in y_prob])\n",
    " \n",
    "    true_negatives = float(cm[0][0])\n",
    "    false_positives = float(cm[0][1])\n",
    "    false_negatives = float(cm[1][0])\n",
    "    true_positives = float(cm[1][1])\n",
    "    try:\n",
    "        sensitivity = true_positives / (true_positives + false_negatives)\n",
    "        specificity = true_negatives / (false_positives + true_negatives)\n",
    "        positive_predictive_value = true_positives / (true_positives + false_positives)\n",
    "        negative_predictive_value = true_negatives / (false_negatives + true_negatives)\n",
    "        accuracy = (true_positives + true_negatives) / (\n",
    "                   true_positives + true_negatives + false_positives + false_negatives)\n",
    "    except:\n",
    "        print(cm)\n",
    "        return\n",
    "    \n",
    "    print('')\n",
    "    print('CONFUSION MATRIX AT {} THRESHOLD:'.format(threshold))\n",
    "    print('')\n",
    "    print(cm)\n",
    "    print('')\n",
    "    print('PERFORMANCE AT {} THRESHOLD:'.format(threshold))\n",
    "    print('')\n",
    "    print(\"   Recall/Sensitivity: {}\".format(round(sensitivity, 5)))\n",
    "    print(\"   Specificity: {}\".format(round(specificity, 5)))\n",
    "    print(\"   Precision/Positive Predictive Value: {}\".format(round(positive_predictive_value, 5)))\n",
    "    print(\"   Negative Predictive Value: {}\".format(round(negative_predictive_value, 5)))\n",
    "    print(\"   plot_accuracy: {}\".format(round(accuracy, 5)))\n",
    "    print('')"
   ]
  },
  {
   "cell_type": "markdown",
   "id": "b600855b-d904-45f6-a124-13ea2113ad0f",
   "metadata": {},
   "source": []
  },
  {
   "cell_type": "markdown",
   "id": "46db0e81-a455-438a-9cd7-25ad90530dfe",
   "metadata": {
    "tags": []
   },
   "source": [
    "## PARAMETERS"
   ]
  },
  {
   "cell_type": "code",
   "execution_count": 6,
   "id": "2b3a949c-1257-44f2-8bb6-a1fcba0f05d4",
   "metadata": {
    "tags": []
   },
   "outputs": [],
   "source": [
    "# Saving Tokenizer to this location\n",
    "base_path = 'Users/sid/Numeric_text_classifier/'\n",
    "tokenized_path = base_path + 'tokenizer.pickle'\n",
    "model_result = base_path + 'model_result'\n",
    "\n",
    "# Numeric dataset total features\n",
    "num_features = 32 #Number of Columns/Features in Numeric dataset\n",
    "\n",
    "# Embedding Params\n",
    "EMBEDDING_DIM = 40\n",
    "NUM_DISTINCT_WORDS = 1000 # the maximum number of words to keep, based on word frequency. Only the most common num_words-1 words will be kept\n",
    "MAX_SEQ_LEN = 70\n",
    "OOV_TOKEN = '<OOV>'\n",
    "PAD_TOKEN = '<PAD>'\n",
    "PAD_TOKEN_IDX = 0\n",
    "\n",
    "# Define VERBOSE\n",
    "VERBOSE = 1\n"
   ]
  },
  {
   "cell_type": "markdown",
   "id": "762cb7e5-63bf-493e-8562-4062de1416cc",
   "metadata": {
    "tags": []
   },
   "source": [
    "## Load datasets"
   ]
  },
  {
   "cell_type": "code",
   "execution_count": 7,
   "id": "17b3887c-6e19-459d-a584-f07ec0f63666",
   "metadata": {
    "tags": []
   },
   "outputs": [],
   "source": [
    "train_data = pd.read_csv(base_path + 'train_data.csv')\n",
    "train_df = pd.read_csv(base_path + 'train.csv')\n",
    "val_df = pd.read_csv(base_path + 'val.csv')\n",
    "test_df = pd.read_csv(base_path + 'test.csv')\n",
    "test_blncd_df = pd.read_csv(base_path + 'test_blncd_df.csv')"
   ]
  },
  {
   "cell_type": "code",
   "execution_count": 8,
   "id": "0244b5a4-ec0c-49ee-bced-250033e75587",
   "metadata": {
    "scrolled": true,
    "tags": []
   },
   "outputs": [
    {
     "data": {
      "text/html": [
       "<div>\n",
       "<style scoped>\n",
       "    .dataframe tbody tr th:only-of-type {\n",
       "        vertical-align: middle;\n",
       "    }\n",
       "\n",
       "    .dataframe tbody tr th {\n",
       "        vertical-align: top;\n",
       "    }\n",
       "\n",
       "    .dataframe thead th {\n",
       "        text-align: right;\n",
       "    }\n",
       "</style>\n",
       "<table border=\"1\" class=\"dataframe\">\n",
       "  <thead>\n",
       "    <tr style=\"text-align: right;\">\n",
       "      <th></th>\n",
       "      <th>Age</th>\n",
       "      <th>Rating</th>\n",
       "      <th>labels</th>\n",
       "      <th>Positive Feedback Count</th>\n",
       "      <th>text</th>\n",
       "      <th>Division Name_General</th>\n",
       "      <th>Division Name_General Petite</th>\n",
       "      <th>Division Name_Initmates</th>\n",
       "      <th>Department Name_Bottoms</th>\n",
       "      <th>Department Name_Dresses</th>\n",
       "      <th>...</th>\n",
       "      <th>Class Name_Legwear</th>\n",
       "      <th>Class Name_Lounge</th>\n",
       "      <th>Class Name_Outerwear</th>\n",
       "      <th>Class Name_Pants</th>\n",
       "      <th>Class Name_Shorts</th>\n",
       "      <th>Class Name_Skirts</th>\n",
       "      <th>Class Name_Sleep</th>\n",
       "      <th>Class Name_Sweaters</th>\n",
       "      <th>Class Name_Swim</th>\n",
       "      <th>Class Name_Trend</th>\n",
       "    </tr>\n",
       "  </thead>\n",
       "  <tbody>\n",
       "    <tr>\n",
       "      <th>0</th>\n",
       "      <td>26</td>\n",
       "      <td>3</td>\n",
       "      <td>0</td>\n",
       "      <td>0</td>\n",
       "      <td>Nice but complicated- The top was very nice an...</td>\n",
       "      <td>1</td>\n",
       "      <td>0</td>\n",
       "      <td>0</td>\n",
       "      <td>0</td>\n",
       "      <td>0</td>\n",
       "      <td>...</td>\n",
       "      <td>0</td>\n",
       "      <td>0</td>\n",
       "      <td>0</td>\n",
       "      <td>0</td>\n",
       "      <td>0</td>\n",
       "      <td>0</td>\n",
       "      <td>0</td>\n",
       "      <td>0</td>\n",
       "      <td>0</td>\n",
       "      <td>0</td>\n",
       "    </tr>\n",
       "    <tr>\n",
       "      <th>1</th>\n",
       "      <td>24</td>\n",
       "      <td>4</td>\n",
       "      <td>1</td>\n",
       "      <td>2</td>\n",
       "      <td>Great suit!- This suit is the most flattering ...</td>\n",
       "      <td>0</td>\n",
       "      <td>0</td>\n",
       "      <td>1</td>\n",
       "      <td>0</td>\n",
       "      <td>0</td>\n",
       "      <td>...</td>\n",
       "      <td>0</td>\n",
       "      <td>0</td>\n",
       "      <td>0</td>\n",
       "      <td>0</td>\n",
       "      <td>0</td>\n",
       "      <td>0</td>\n",
       "      <td>0</td>\n",
       "      <td>0</td>\n",
       "      <td>1</td>\n",
       "      <td>0</td>\n",
       "    </tr>\n",
       "    <tr>\n",
       "      <th>2</th>\n",
       "      <td>61</td>\n",
       "      <td>3</td>\n",
       "      <td>0</td>\n",
       "      <td>2</td>\n",
       "      <td>Not good for curvy girls- I ordered these hopi...</td>\n",
       "      <td>1</td>\n",
       "      <td>0</td>\n",
       "      <td>0</td>\n",
       "      <td>1</td>\n",
       "      <td>0</td>\n",
       "      <td>...</td>\n",
       "      <td>0</td>\n",
       "      <td>0</td>\n",
       "      <td>0</td>\n",
       "      <td>1</td>\n",
       "      <td>0</td>\n",
       "      <td>0</td>\n",
       "      <td>0</td>\n",
       "      <td>0</td>\n",
       "      <td>0</td>\n",
       "      <td>0</td>\n",
       "    </tr>\n",
       "    <tr>\n",
       "      <th>3</th>\n",
       "      <td>39</td>\n",
       "      <td>3</td>\n",
       "      <td>0</td>\n",
       "      <td>0</td>\n",
       "      <td>Nope - not for muscular thighs- Not that i don...</td>\n",
       "      <td>1</td>\n",
       "      <td>0</td>\n",
       "      <td>0</td>\n",
       "      <td>1</td>\n",
       "      <td>0</td>\n",
       "      <td>...</td>\n",
       "      <td>0</td>\n",
       "      <td>0</td>\n",
       "      <td>0</td>\n",
       "      <td>1</td>\n",
       "      <td>0</td>\n",
       "      <td>0</td>\n",
       "      <td>0</td>\n",
       "      <td>0</td>\n",
       "      <td>0</td>\n",
       "      <td>0</td>\n",
       "    </tr>\n",
       "    <tr>\n",
       "      <th>4</th>\n",
       "      <td>29</td>\n",
       "      <td>5</td>\n",
       "      <td>1</td>\n",
       "      <td>0</td>\n",
       "      <td>Terrific sweater with great detail; runs large...</td>\n",
       "      <td>1</td>\n",
       "      <td>0</td>\n",
       "      <td>0</td>\n",
       "      <td>0</td>\n",
       "      <td>0</td>\n",
       "      <td>...</td>\n",
       "      <td>0</td>\n",
       "      <td>0</td>\n",
       "      <td>0</td>\n",
       "      <td>0</td>\n",
       "      <td>0</td>\n",
       "      <td>0</td>\n",
       "      <td>0</td>\n",
       "      <td>1</td>\n",
       "      <td>0</td>\n",
       "      <td>0</td>\n",
       "    </tr>\n",
       "  </tbody>\n",
       "</table>\n",
       "<p>5 rows × 34 columns</p>\n",
       "</div>"
      ],
      "text/plain": [
       "   Age  Rating  labels  Positive Feedback Count  \\\n",
       "0   26       3       0                        0   \n",
       "1   24       4       1                        2   \n",
       "2   61       3       0                        2   \n",
       "3   39       3       0                        0   \n",
       "4   29       5       1                        0   \n",
       "\n",
       "                                                text  Division Name_General  \\\n",
       "0  Nice but complicated- The top was very nice an...                      1   \n",
       "1  Great suit!- This suit is the most flattering ...                      0   \n",
       "2  Not good for curvy girls- I ordered these hopi...                      1   \n",
       "3  Nope - not for muscular thighs- Not that i don...                      1   \n",
       "4  Terrific sweater with great detail; runs large...                      1   \n",
       "\n",
       "   Division Name_General Petite  Division Name_Initmates  \\\n",
       "0                             0                        0   \n",
       "1                             0                        1   \n",
       "2                             0                        0   \n",
       "3                             0                        0   \n",
       "4                             0                        0   \n",
       "\n",
       "   Department Name_Bottoms  Department Name_Dresses  ...  Class Name_Legwear  \\\n",
       "0                        0                        0  ...                   0   \n",
       "1                        0                        0  ...                   0   \n",
       "2                        1                        0  ...                   0   \n",
       "3                        1                        0  ...                   0   \n",
       "4                        0                        0  ...                   0   \n",
       "\n",
       "   Class Name_Lounge  Class Name_Outerwear  Class Name_Pants  \\\n",
       "0                  0                     0                 0   \n",
       "1                  0                     0                 0   \n",
       "2                  0                     0                 1   \n",
       "3                  0                     0                 1   \n",
       "4                  0                     0                 0   \n",
       "\n",
       "   Class Name_Shorts  Class Name_Skirts  Class Name_Sleep  \\\n",
       "0                  0                  0                 0   \n",
       "1                  0                  0                 0   \n",
       "2                  0                  0                 0   \n",
       "3                  0                  0                 0   \n",
       "4                  0                  0                 0   \n",
       "\n",
       "   Class Name_Sweaters  Class Name_Swim  Class Name_Trend  \n",
       "0                    0                0                 0  \n",
       "1                    0                1                 0  \n",
       "2                    0                0                 0  \n",
       "3                    0                0                 0  \n",
       "4                    1                0                 0  \n",
       "\n",
       "[5 rows x 34 columns]"
      ]
     },
     "execution_count": 8,
     "metadata": {},
     "output_type": "execute_result"
    }
   ],
   "source": [
    "train_df.head()"
   ]
  },
  {
   "cell_type": "markdown",
   "id": "9bd1bd5b-37c8-412b-8504-00e4d3684517",
   "metadata": {},
   "source": [
    "## Preprocess for non_text and creating labels for both"
   ]
  },
  {
   "cell_type": "code",
   "execution_count": 9,
   "id": "da55417a-8a12-458d-9a59-94eab1ffe617",
   "metadata": {
    "tags": []
   },
   "outputs": [],
   "source": [
    "X_train = train_df.drop(['text', 'labels'], axis=1)\n",
    "X_val = val_df.drop(['text', 'labels'], axis=1)\n",
    "X_test = test_df.drop(['text', 'labels'], axis=1)\n",
    "X_test_blncd = test_blncd_df.drop(['text', 'labels'], axis=1)\n",
    "\n",
    "y_train = train_df['labels'].values\n",
    "y_val = val_df['labels'].values\n",
    "y_test = test_df['labels'].values\n",
    "y_test_blncd = test_blncd_df['labels'].values"
   ]
  },
  {
   "cell_type": "code",
   "execution_count": 10,
   "id": "1280169c-e3df-43b5-a553-7e95bf56a003",
   "metadata": {
    "tags": []
   },
   "outputs": [
    {
     "data": {
      "text/html": [
       "<div>\n",
       "<style scoped>\n",
       "    .dataframe tbody tr th:only-of-type {\n",
       "        vertical-align: middle;\n",
       "    }\n",
       "\n",
       "    .dataframe tbody tr th {\n",
       "        vertical-align: top;\n",
       "    }\n",
       "\n",
       "    .dataframe thead th {\n",
       "        text-align: right;\n",
       "    }\n",
       "</style>\n",
       "<table border=\"1\" class=\"dataframe\">\n",
       "  <thead>\n",
       "    <tr style=\"text-align: right;\">\n",
       "      <th></th>\n",
       "      <th>Age</th>\n",
       "      <th>Rating</th>\n",
       "      <th>Positive Feedback Count</th>\n",
       "      <th>Division Name_General</th>\n",
       "      <th>Division Name_General Petite</th>\n",
       "      <th>Division Name_Initmates</th>\n",
       "      <th>Department Name_Bottoms</th>\n",
       "      <th>Department Name_Dresses</th>\n",
       "      <th>Department Name_Intimate</th>\n",
       "      <th>Department Name_Jackets</th>\n",
       "      <th>...</th>\n",
       "      <th>Class Name_Legwear</th>\n",
       "      <th>Class Name_Lounge</th>\n",
       "      <th>Class Name_Outerwear</th>\n",
       "      <th>Class Name_Pants</th>\n",
       "      <th>Class Name_Shorts</th>\n",
       "      <th>Class Name_Skirts</th>\n",
       "      <th>Class Name_Sleep</th>\n",
       "      <th>Class Name_Sweaters</th>\n",
       "      <th>Class Name_Swim</th>\n",
       "      <th>Class Name_Trend</th>\n",
       "    </tr>\n",
       "  </thead>\n",
       "  <tbody>\n",
       "    <tr>\n",
       "      <th>0</th>\n",
       "      <td>26</td>\n",
       "      <td>3</td>\n",
       "      <td>0</td>\n",
       "      <td>1</td>\n",
       "      <td>0</td>\n",
       "      <td>0</td>\n",
       "      <td>0</td>\n",
       "      <td>0</td>\n",
       "      <td>0</td>\n",
       "      <td>0</td>\n",
       "      <td>...</td>\n",
       "      <td>0</td>\n",
       "      <td>0</td>\n",
       "      <td>0</td>\n",
       "      <td>0</td>\n",
       "      <td>0</td>\n",
       "      <td>0</td>\n",
       "      <td>0</td>\n",
       "      <td>0</td>\n",
       "      <td>0</td>\n",
       "      <td>0</td>\n",
       "    </tr>\n",
       "    <tr>\n",
       "      <th>1</th>\n",
       "      <td>24</td>\n",
       "      <td>4</td>\n",
       "      <td>2</td>\n",
       "      <td>0</td>\n",
       "      <td>0</td>\n",
       "      <td>1</td>\n",
       "      <td>0</td>\n",
       "      <td>0</td>\n",
       "      <td>1</td>\n",
       "      <td>0</td>\n",
       "      <td>...</td>\n",
       "      <td>0</td>\n",
       "      <td>0</td>\n",
       "      <td>0</td>\n",
       "      <td>0</td>\n",
       "      <td>0</td>\n",
       "      <td>0</td>\n",
       "      <td>0</td>\n",
       "      <td>0</td>\n",
       "      <td>1</td>\n",
       "      <td>0</td>\n",
       "    </tr>\n",
       "    <tr>\n",
       "      <th>2</th>\n",
       "      <td>61</td>\n",
       "      <td>3</td>\n",
       "      <td>2</td>\n",
       "      <td>1</td>\n",
       "      <td>0</td>\n",
       "      <td>0</td>\n",
       "      <td>1</td>\n",
       "      <td>0</td>\n",
       "      <td>0</td>\n",
       "      <td>0</td>\n",
       "      <td>...</td>\n",
       "      <td>0</td>\n",
       "      <td>0</td>\n",
       "      <td>0</td>\n",
       "      <td>1</td>\n",
       "      <td>0</td>\n",
       "      <td>0</td>\n",
       "      <td>0</td>\n",
       "      <td>0</td>\n",
       "      <td>0</td>\n",
       "      <td>0</td>\n",
       "    </tr>\n",
       "    <tr>\n",
       "      <th>3</th>\n",
       "      <td>39</td>\n",
       "      <td>3</td>\n",
       "      <td>0</td>\n",
       "      <td>1</td>\n",
       "      <td>0</td>\n",
       "      <td>0</td>\n",
       "      <td>1</td>\n",
       "      <td>0</td>\n",
       "      <td>0</td>\n",
       "      <td>0</td>\n",
       "      <td>...</td>\n",
       "      <td>0</td>\n",
       "      <td>0</td>\n",
       "      <td>0</td>\n",
       "      <td>1</td>\n",
       "      <td>0</td>\n",
       "      <td>0</td>\n",
       "      <td>0</td>\n",
       "      <td>0</td>\n",
       "      <td>0</td>\n",
       "      <td>0</td>\n",
       "    </tr>\n",
       "    <tr>\n",
       "      <th>4</th>\n",
       "      <td>29</td>\n",
       "      <td>5</td>\n",
       "      <td>0</td>\n",
       "      <td>1</td>\n",
       "      <td>0</td>\n",
       "      <td>0</td>\n",
       "      <td>0</td>\n",
       "      <td>0</td>\n",
       "      <td>0</td>\n",
       "      <td>0</td>\n",
       "      <td>...</td>\n",
       "      <td>0</td>\n",
       "      <td>0</td>\n",
       "      <td>0</td>\n",
       "      <td>0</td>\n",
       "      <td>0</td>\n",
       "      <td>0</td>\n",
       "      <td>0</td>\n",
       "      <td>1</td>\n",
       "      <td>0</td>\n",
       "      <td>0</td>\n",
       "    </tr>\n",
       "  </tbody>\n",
       "</table>\n",
       "<p>5 rows × 32 columns</p>\n",
       "</div>"
      ],
      "text/plain": [
       "   Age  Rating  Positive Feedback Count  Division Name_General  \\\n",
       "0   26       3                        0                      1   \n",
       "1   24       4                        2                      0   \n",
       "2   61       3                        2                      1   \n",
       "3   39       3                        0                      1   \n",
       "4   29       5                        0                      1   \n",
       "\n",
       "   Division Name_General Petite  Division Name_Initmates  \\\n",
       "0                             0                        0   \n",
       "1                             0                        1   \n",
       "2                             0                        0   \n",
       "3                             0                        0   \n",
       "4                             0                        0   \n",
       "\n",
       "   Department Name_Bottoms  Department Name_Dresses  Department Name_Intimate  \\\n",
       "0                        0                        0                         0   \n",
       "1                        0                        0                         1   \n",
       "2                        1                        0                         0   \n",
       "3                        1                        0                         0   \n",
       "4                        0                        0                         0   \n",
       "\n",
       "   Department Name_Jackets  ...  Class Name_Legwear  Class Name_Lounge  \\\n",
       "0                        0  ...                   0                  0   \n",
       "1                        0  ...                   0                  0   \n",
       "2                        0  ...                   0                  0   \n",
       "3                        0  ...                   0                  0   \n",
       "4                        0  ...                   0                  0   \n",
       "\n",
       "   Class Name_Outerwear  Class Name_Pants  Class Name_Shorts  \\\n",
       "0                     0                 0                  0   \n",
       "1                     0                 0                  0   \n",
       "2                     0                 1                  0   \n",
       "3                     0                 1                  0   \n",
       "4                     0                 0                  0   \n",
       "\n",
       "   Class Name_Skirts  Class Name_Sleep  Class Name_Sweaters  Class Name_Swim  \\\n",
       "0                  0                 0                    0                0   \n",
       "1                  0                 0                    0                1   \n",
       "2                  0                 0                    0                0   \n",
       "3                  0                 0                    0                0   \n",
       "4                  0                 0                    1                0   \n",
       "\n",
       "   Class Name_Trend  \n",
       "0                 0  \n",
       "1                 0  \n",
       "2                 0  \n",
       "3                 0  \n",
       "4                 0  \n",
       "\n",
       "[5 rows x 32 columns]"
      ]
     },
     "execution_count": 10,
     "metadata": {},
     "output_type": "execute_result"
    }
   ],
   "source": [
    "X_train.head()"
   ]
  },
  {
   "cell_type": "code",
   "execution_count": 11,
   "id": "aa0e3b06-67ce-4b8d-8942-d51394141d2b",
   "metadata": {
    "tags": []
   },
   "outputs": [],
   "source": [
    "# Feature Scaling\n",
    "from sklearn.preprocessing import StandardScaler\n",
    "sc = StandardScaler()\n",
    "X_train = sc.fit_transform(X_train)\n",
    "X_val = sc.transform(X_val)\n",
    "X_test = sc.transform(X_test)\n",
    "X_test_blncd = sc.transform(X_test_blncd)"
   ]
  },
  {
   "cell_type": "code",
   "execution_count": 12,
   "id": "52ff0e8a-68b8-4527-96fb-ee760ff65623",
   "metadata": {
    "tags": []
   },
   "outputs": [
    {
     "name": "stdout",
     "output_type": "stream",
     "text": [
      "(6022, 32)\n",
      "(1966, 32)\n",
      "(984, 32)\n",
      "(352, 32)\n"
     ]
    }
   ],
   "source": [
    "print(X_train.shape)\n",
    "print(X_val.shape)\n",
    "print(X_test.shape)\n",
    "print(X_test_blncd.shape)"
   ]
  },
  {
   "cell_type": "markdown",
   "id": "b8755cad-6fba-4529-a842-e38d1818afed",
   "metadata": {
    "tags": []
   },
   "source": [
    "## Preprocessing text data"
   ]
  },
  {
   "cell_type": "markdown",
   "id": "67781dee-f2c3-4304-978c-dd7fad3fecb6",
   "metadata": {},
   "source": [
    "### Lowercase text data"
   ]
  },
  {
   "cell_type": "code",
   "execution_count": 13,
   "id": "68700ae9-e954-4b3c-a3f1-09e4df92960d",
   "metadata": {
    "scrolled": true,
    "tags": []
   },
   "outputs": [
    {
     "data": {
      "text/html": [
       "<div>\n",
       "<style scoped>\n",
       "    .dataframe tbody tr th:only-of-type {\n",
       "        vertical-align: middle;\n",
       "    }\n",
       "\n",
       "    .dataframe tbody tr th {\n",
       "        vertical-align: top;\n",
       "    }\n",
       "\n",
       "    .dataframe thead th {\n",
       "        text-align: right;\n",
       "    }\n",
       "</style>\n",
       "<table border=\"1\" class=\"dataframe\">\n",
       "  <thead>\n",
       "    <tr style=\"text-align: right;\">\n",
       "      <th></th>\n",
       "      <th>Age</th>\n",
       "      <th>Rating</th>\n",
       "      <th>labels</th>\n",
       "      <th>Positive Feedback Count</th>\n",
       "      <th>text</th>\n",
       "      <th>Division Name_General</th>\n",
       "      <th>Division Name_General Petite</th>\n",
       "      <th>Division Name_Initmates</th>\n",
       "      <th>Department Name_Bottoms</th>\n",
       "      <th>Department Name_Dresses</th>\n",
       "      <th>...</th>\n",
       "      <th>Class Name_Legwear</th>\n",
       "      <th>Class Name_Lounge</th>\n",
       "      <th>Class Name_Outerwear</th>\n",
       "      <th>Class Name_Pants</th>\n",
       "      <th>Class Name_Shorts</th>\n",
       "      <th>Class Name_Skirts</th>\n",
       "      <th>Class Name_Sleep</th>\n",
       "      <th>Class Name_Sweaters</th>\n",
       "      <th>Class Name_Swim</th>\n",
       "      <th>Class Name_Trend</th>\n",
       "    </tr>\n",
       "  </thead>\n",
       "  <tbody>\n",
       "    <tr>\n",
       "      <th>0</th>\n",
       "      <td>26</td>\n",
       "      <td>3</td>\n",
       "      <td>0</td>\n",
       "      <td>0</td>\n",
       "      <td>nice but complicated- the top was very nice an...</td>\n",
       "      <td>1</td>\n",
       "      <td>0</td>\n",
       "      <td>0</td>\n",
       "      <td>0</td>\n",
       "      <td>0</td>\n",
       "      <td>...</td>\n",
       "      <td>0</td>\n",
       "      <td>0</td>\n",
       "      <td>0</td>\n",
       "      <td>0</td>\n",
       "      <td>0</td>\n",
       "      <td>0</td>\n",
       "      <td>0</td>\n",
       "      <td>0</td>\n",
       "      <td>0</td>\n",
       "      <td>0</td>\n",
       "    </tr>\n",
       "    <tr>\n",
       "      <th>1</th>\n",
       "      <td>24</td>\n",
       "      <td>4</td>\n",
       "      <td>1</td>\n",
       "      <td>2</td>\n",
       "      <td>great suit!- this suit is the most flattering ...</td>\n",
       "      <td>0</td>\n",
       "      <td>0</td>\n",
       "      <td>1</td>\n",
       "      <td>0</td>\n",
       "      <td>0</td>\n",
       "      <td>...</td>\n",
       "      <td>0</td>\n",
       "      <td>0</td>\n",
       "      <td>0</td>\n",
       "      <td>0</td>\n",
       "      <td>0</td>\n",
       "      <td>0</td>\n",
       "      <td>0</td>\n",
       "      <td>0</td>\n",
       "      <td>1</td>\n",
       "      <td>0</td>\n",
       "    </tr>\n",
       "    <tr>\n",
       "      <th>2</th>\n",
       "      <td>61</td>\n",
       "      <td>3</td>\n",
       "      <td>0</td>\n",
       "      <td>2</td>\n",
       "      <td>not good for curvy girls- i ordered these hopi...</td>\n",
       "      <td>1</td>\n",
       "      <td>0</td>\n",
       "      <td>0</td>\n",
       "      <td>1</td>\n",
       "      <td>0</td>\n",
       "      <td>...</td>\n",
       "      <td>0</td>\n",
       "      <td>0</td>\n",
       "      <td>0</td>\n",
       "      <td>1</td>\n",
       "      <td>0</td>\n",
       "      <td>0</td>\n",
       "      <td>0</td>\n",
       "      <td>0</td>\n",
       "      <td>0</td>\n",
       "      <td>0</td>\n",
       "    </tr>\n",
       "    <tr>\n",
       "      <th>3</th>\n",
       "      <td>39</td>\n",
       "      <td>3</td>\n",
       "      <td>0</td>\n",
       "      <td>0</td>\n",
       "      <td>nope - not for muscular thighs- not that i don...</td>\n",
       "      <td>1</td>\n",
       "      <td>0</td>\n",
       "      <td>0</td>\n",
       "      <td>1</td>\n",
       "      <td>0</td>\n",
       "      <td>...</td>\n",
       "      <td>0</td>\n",
       "      <td>0</td>\n",
       "      <td>0</td>\n",
       "      <td>1</td>\n",
       "      <td>0</td>\n",
       "      <td>0</td>\n",
       "      <td>0</td>\n",
       "      <td>0</td>\n",
       "      <td>0</td>\n",
       "      <td>0</td>\n",
       "    </tr>\n",
       "    <tr>\n",
       "      <th>4</th>\n",
       "      <td>29</td>\n",
       "      <td>5</td>\n",
       "      <td>1</td>\n",
       "      <td>0</td>\n",
       "      <td>terrific sweater with great detail; runs large...</td>\n",
       "      <td>1</td>\n",
       "      <td>0</td>\n",
       "      <td>0</td>\n",
       "      <td>0</td>\n",
       "      <td>0</td>\n",
       "      <td>...</td>\n",
       "      <td>0</td>\n",
       "      <td>0</td>\n",
       "      <td>0</td>\n",
       "      <td>0</td>\n",
       "      <td>0</td>\n",
       "      <td>0</td>\n",
       "      <td>0</td>\n",
       "      <td>1</td>\n",
       "      <td>0</td>\n",
       "      <td>0</td>\n",
       "    </tr>\n",
       "  </tbody>\n",
       "</table>\n",
       "<p>5 rows × 34 columns</p>\n",
       "</div>"
      ],
      "text/plain": [
       "   Age  Rating  labels  Positive Feedback Count  \\\n",
       "0   26       3       0                        0   \n",
       "1   24       4       1                        2   \n",
       "2   61       3       0                        2   \n",
       "3   39       3       0                        0   \n",
       "4   29       5       1                        0   \n",
       "\n",
       "                                                text  Division Name_General  \\\n",
       "0  nice but complicated- the top was very nice an...                      1   \n",
       "1  great suit!- this suit is the most flattering ...                      0   \n",
       "2  not good for curvy girls- i ordered these hopi...                      1   \n",
       "3  nope - not for muscular thighs- not that i don...                      1   \n",
       "4  terrific sweater with great detail; runs large...                      1   \n",
       "\n",
       "   Division Name_General Petite  Division Name_Initmates  \\\n",
       "0                             0                        0   \n",
       "1                             0                        1   \n",
       "2                             0                        0   \n",
       "3                             0                        0   \n",
       "4                             0                        0   \n",
       "\n",
       "   Department Name_Bottoms  Department Name_Dresses  ...  Class Name_Legwear  \\\n",
       "0                        0                        0  ...                   0   \n",
       "1                        0                        0  ...                   0   \n",
       "2                        1                        0  ...                   0   \n",
       "3                        1                        0  ...                   0   \n",
       "4                        0                        0  ...                   0   \n",
       "\n",
       "   Class Name_Lounge  Class Name_Outerwear  Class Name_Pants  \\\n",
       "0                  0                     0                 0   \n",
       "1                  0                     0                 0   \n",
       "2                  0                     0                 1   \n",
       "3                  0                     0                 1   \n",
       "4                  0                     0                 0   \n",
       "\n",
       "   Class Name_Shorts  Class Name_Skirts  Class Name_Sleep  \\\n",
       "0                  0                  0                 0   \n",
       "1                  0                  0                 0   \n",
       "2                  0                  0                 0   \n",
       "3                  0                  0                 0   \n",
       "4                  0                  0                 0   \n",
       "\n",
       "   Class Name_Sweaters  Class Name_Swim  Class Name_Trend  \n",
       "0                    0                0                 0  \n",
       "1                    0                1                 0  \n",
       "2                    0                0                 0  \n",
       "3                    0                0                 0  \n",
       "4                    1                0                 0  \n",
       "\n",
       "[5 rows x 34 columns]"
      ]
     },
     "execution_count": 13,
     "metadata": {},
     "output_type": "execute_result"
    }
   ],
   "source": [
    "train_data['text'] = train_data['text'].apply(lambda x: x.lower())\n",
    "train_df['text'] = train_df['text'].apply(lambda x: x.lower())\n",
    "val_df['text'] = val_df['text'].apply(lambda x: x.lower())\n",
    "test_df['text'] = test_df['text'].apply(lambda x: x.lower())\n",
    "test_blncd_df['text'] = test_blncd_df['text'].apply(lambda x: x.lower())\n",
    "train_df.head()"
   ]
  },
  {
   "cell_type": "markdown",
   "id": "9ceb55f9-fc54-4049-b41b-d3139d091e3b",
   "metadata": {
    "tags": []
   },
   "source": [
    "### Removing Stopwords Using NLTK"
   ]
  },
  {
   "cell_type": "code",
   "execution_count": 14,
   "id": "ba71f6e1-d190-4918-a140-e8c6be4aa616",
   "metadata": {
    "tags": []
   },
   "outputs": [],
   "source": [
    "stop_words = stopwords.words('english')\n",
    "train_data['text'] = train_data['text'].apply(lambda x: ' '.join([word for word in x.split() if word not in (stop_words)]))\n",
    "train_df['text'] = train_df['text'].apply(lambda x: ' '.join([word for word in x.split() if word not in (stop_words)]))\n",
    "val_df['text'] = val_df['text'].apply(lambda x: ' '.join([word for word in x.split() if word not in (stop_words)]))\n",
    "test_df['text'] = test_df['text'].apply(lambda x: ' '.join([word for word in x.split() if word not in (stop_words)]))\n",
    "test_blncd_df['text'] = test_blncd_df['text'].apply(lambda x: ' '.join([word for word in x.split() if word not in (stop_words)]))"
   ]
  },
  {
   "cell_type": "markdown",
   "id": "7794f7b6-b086-4e0f-be60-308a4ecfbdc6",
   "metadata": {},
   "source": [
    "### Lemmatise Text Using NLTK"
   ]
  },
  {
   "cell_type": "code",
   "execution_count": 15,
   "id": "1a0202c0-b3f4-4b00-9afd-d7dd3fc436af",
   "metadata": {
    "tags": []
   },
   "outputs": [],
   "source": [
    "lemmatizer = WordNetLemmatizer()\n",
    "def lemmatize_words(text):\n",
    "    words = text.split()\n",
    "    words = [lemmatizer.lemmatize(word,pos='v') for word in words]\n",
    "    return ' '.join(words)\n",
    "train_data['text'] = train_data['text'].apply(lemmatize_words)\n",
    "train_df['text'] = train_df['text'].apply(lemmatize_words)\n",
    "val_df['text'] = val_df['text'].apply(lemmatize_words)\n",
    "test_df['text'] = test_df['text'].apply(lemmatize_words)\n",
    "test_blncd_df['text'] = test_blncd_df['text'].apply(lemmatize_words)"
   ]
  },
  {
   "cell_type": "code",
   "execution_count": 16,
   "id": "ec168304-274b-4c20-bcdf-ad2af90e1b66",
   "metadata": {
    "scrolled": true,
    "tags": []
   },
   "outputs": [
    {
     "data": {
      "text/html": [
       "<div>\n",
       "<style scoped>\n",
       "    .dataframe tbody tr th:only-of-type {\n",
       "        vertical-align: middle;\n",
       "    }\n",
       "\n",
       "    .dataframe tbody tr th {\n",
       "        vertical-align: top;\n",
       "    }\n",
       "\n",
       "    .dataframe thead th {\n",
       "        text-align: right;\n",
       "    }\n",
       "</style>\n",
       "<table border=\"1\" class=\"dataframe\">\n",
       "  <thead>\n",
       "    <tr style=\"text-align: right;\">\n",
       "      <th></th>\n",
       "      <th>Age</th>\n",
       "      <th>Rating</th>\n",
       "      <th>labels</th>\n",
       "      <th>Positive Feedback Count</th>\n",
       "      <th>text</th>\n",
       "      <th>Division Name_General</th>\n",
       "      <th>Division Name_General Petite</th>\n",
       "      <th>Division Name_Initmates</th>\n",
       "      <th>Department Name_Bottoms</th>\n",
       "      <th>Department Name_Dresses</th>\n",
       "      <th>...</th>\n",
       "      <th>Class Name_Legwear</th>\n",
       "      <th>Class Name_Lounge</th>\n",
       "      <th>Class Name_Outerwear</th>\n",
       "      <th>Class Name_Pants</th>\n",
       "      <th>Class Name_Shorts</th>\n",
       "      <th>Class Name_Skirts</th>\n",
       "      <th>Class Name_Sleep</th>\n",
       "      <th>Class Name_Sweaters</th>\n",
       "      <th>Class Name_Swim</th>\n",
       "      <th>Class Name_Trend</th>\n",
       "    </tr>\n",
       "  </thead>\n",
       "  <tbody>\n",
       "    <tr>\n",
       "      <th>0</th>\n",
       "      <td>26</td>\n",
       "      <td>3</td>\n",
       "      <td>0</td>\n",
       "      <td>0</td>\n",
       "      <td>nice complicated- top nice like material. prob...</td>\n",
       "      <td>1</td>\n",
       "      <td>0</td>\n",
       "      <td>0</td>\n",
       "      <td>0</td>\n",
       "      <td>0</td>\n",
       "      <td>...</td>\n",
       "      <td>0</td>\n",
       "      <td>0</td>\n",
       "      <td>0</td>\n",
       "      <td>0</td>\n",
       "      <td>0</td>\n",
       "      <td>0</td>\n",
       "      <td>0</td>\n",
       "      <td>0</td>\n",
       "      <td>0</td>\n",
       "      <td>0</td>\n",
       "    </tr>\n",
       "    <tr>\n",
       "      <th>1</th>\n",
       "      <td>24</td>\n",
       "      <td>4</td>\n",
       "      <td>1</td>\n",
       "      <td>2</td>\n",
       "      <td>great suit!- suit flatter suit own while, well...</td>\n",
       "      <td>0</td>\n",
       "      <td>0</td>\n",
       "      <td>1</td>\n",
       "      <td>0</td>\n",
       "      <td>0</td>\n",
       "      <td>...</td>\n",
       "      <td>0</td>\n",
       "      <td>0</td>\n",
       "      <td>0</td>\n",
       "      <td>0</td>\n",
       "      <td>0</td>\n",
       "      <td>0</td>\n",
       "      <td>0</td>\n",
       "      <td>0</td>\n",
       "      <td>1</td>\n",
       "      <td>0</td>\n",
       "    </tr>\n",
       "    <tr>\n",
       "      <th>2</th>\n",
       "      <td>61</td>\n",
       "      <td>3</td>\n",
       "      <td>0</td>\n",
       "      <td>2</td>\n",
       "      <td>good curvy girls- order hop would look like mo...</td>\n",
       "      <td>1</td>\n",
       "      <td>0</td>\n",
       "      <td>0</td>\n",
       "      <td>1</td>\n",
       "      <td>0</td>\n",
       "      <td>...</td>\n",
       "      <td>0</td>\n",
       "      <td>0</td>\n",
       "      <td>0</td>\n",
       "      <td>1</td>\n",
       "      <td>0</td>\n",
       "      <td>0</td>\n",
       "      <td>0</td>\n",
       "      <td>0</td>\n",
       "      <td>0</td>\n",
       "      <td>0</td>\n",
       "    </tr>\n",
       "    <tr>\n",
       "      <th>3</th>\n",
       "      <td>39</td>\n",
       "      <td>3</td>\n",
       "      <td>0</td>\n",
       "      <td>0</td>\n",
       "      <td>nope - muscular thighs- recommend, recommend m...</td>\n",
       "      <td>1</td>\n",
       "      <td>0</td>\n",
       "      <td>0</td>\n",
       "      <td>1</td>\n",
       "      <td>0</td>\n",
       "      <td>...</td>\n",
       "      <td>0</td>\n",
       "      <td>0</td>\n",
       "      <td>0</td>\n",
       "      <td>1</td>\n",
       "      <td>0</td>\n",
       "      <td>0</td>\n",
       "      <td>0</td>\n",
       "      <td>0</td>\n",
       "      <td>0</td>\n",
       "      <td>0</td>\n",
       "    </tr>\n",
       "    <tr>\n",
       "      <th>4</th>\n",
       "      <td>29</td>\n",
       "      <td>5</td>\n",
       "      <td>1</td>\n",
       "      <td>0</td>\n",
       "      <td>terrific sweater great detail; run large- orde...</td>\n",
       "      <td>1</td>\n",
       "      <td>0</td>\n",
       "      <td>0</td>\n",
       "      <td>0</td>\n",
       "      <td>0</td>\n",
       "      <td>...</td>\n",
       "      <td>0</td>\n",
       "      <td>0</td>\n",
       "      <td>0</td>\n",
       "      <td>0</td>\n",
       "      <td>0</td>\n",
       "      <td>0</td>\n",
       "      <td>0</td>\n",
       "      <td>1</td>\n",
       "      <td>0</td>\n",
       "      <td>0</td>\n",
       "    </tr>\n",
       "  </tbody>\n",
       "</table>\n",
       "<p>5 rows × 34 columns</p>\n",
       "</div>"
      ],
      "text/plain": [
       "   Age  Rating  labels  Positive Feedback Count  \\\n",
       "0   26       3       0                        0   \n",
       "1   24       4       1                        2   \n",
       "2   61       3       0                        2   \n",
       "3   39       3       0                        0   \n",
       "4   29       5       1                        0   \n",
       "\n",
       "                                                text  Division Name_General  \\\n",
       "0  nice complicated- top nice like material. prob...                      1   \n",
       "1  great suit!- suit flatter suit own while, well...                      0   \n",
       "2  good curvy girls- order hop would look like mo...                      1   \n",
       "3  nope - muscular thighs- recommend, recommend m...                      1   \n",
       "4  terrific sweater great detail; run large- orde...                      1   \n",
       "\n",
       "   Division Name_General Petite  Division Name_Initmates  \\\n",
       "0                             0                        0   \n",
       "1                             0                        1   \n",
       "2                             0                        0   \n",
       "3                             0                        0   \n",
       "4                             0                        0   \n",
       "\n",
       "   Department Name_Bottoms  Department Name_Dresses  ...  Class Name_Legwear  \\\n",
       "0                        0                        0  ...                   0   \n",
       "1                        0                        0  ...                   0   \n",
       "2                        1                        0  ...                   0   \n",
       "3                        1                        0  ...                   0   \n",
       "4                        0                        0  ...                   0   \n",
       "\n",
       "   Class Name_Lounge  Class Name_Outerwear  Class Name_Pants  \\\n",
       "0                  0                     0                 0   \n",
       "1                  0                     0                 0   \n",
       "2                  0                     0                 1   \n",
       "3                  0                     0                 1   \n",
       "4                  0                     0                 0   \n",
       "\n",
       "   Class Name_Shorts  Class Name_Skirts  Class Name_Sleep  \\\n",
       "0                  0                  0                 0   \n",
       "1                  0                  0                 0   \n",
       "2                  0                  0                 0   \n",
       "3                  0                  0                 0   \n",
       "4                  0                  0                 0   \n",
       "\n",
       "   Class Name_Sweaters  Class Name_Swim  Class Name_Trend  \n",
       "0                    0                0                 0  \n",
       "1                    0                1                 0  \n",
       "2                    0                0                 0  \n",
       "3                    0                0                 0  \n",
       "4                    1                0                 0  \n",
       "\n",
       "[5 rows x 34 columns]"
      ]
     },
     "execution_count": 16,
     "metadata": {},
     "output_type": "execute_result"
    }
   ],
   "source": [
    "train_df.head()"
   ]
  },
  {
   "cell_type": "markdown",
   "id": "52b4a4d2-67f7-42c0-9e9b-855dd957c4c7",
   "metadata": {},
   "source": [
    "## Define a Tokenizer for the Text Data"
   ]
  },
  {
   "cell_type": "markdown",
   "id": "cbfde861-196d-4854-8688-08fc54578ff4",
   "metadata": {},
   "source": [
    "### I have already created the tokenizer and saved it. That's why I changed the saving cell below as Raw "
   ]
  },
  {
   "cell_type": "code",
   "execution_count": 17,
   "id": "8236633e-da69-4613-ac0c-7a8accab33ff",
   "metadata": {
    "tags": []
   },
   "outputs": [],
   "source": [
    "tokenizer = Tokenizer(\n",
    "    num_words=NUM_DISTINCT_WORDS,\n",
    "    filters='!\"#$%&()*+,-./:;<=>?@[\\\\]^_`{|}~\\t\\n',\n",
    "    lower=True,\n",
    "    split=' ',\n",
    "    char_level=False,\n",
    "    oov_token=OOV_TOKEN\n",
    ")"
   ]
  },
  {
   "cell_type": "markdown",
   "id": "a91a4ee9-5470-4a08-9fd6-9f71a073be8f",
   "metadata": {},
   "source": [
    "## Fit the Tokenizer to the Train Set"
   ]
  },
  {
   "cell_type": "code",
   "execution_count": 18,
   "id": "f7a9e715-7419-46bc-bd6c-99b190354239",
   "metadata": {
    "tags": []
   },
   "outputs": [],
   "source": [
    "tokenizer.fit_on_texts(train_data['text'].tolist())"
   ]
  },
  {
   "cell_type": "markdown",
   "id": "69538ec5-e29e-4851-9878-bd3013b5e62e",
   "metadata": {},
   "source": [
    "## Saving and loading tokenized data for external Charts"
   ]
  },
  {
   "cell_type": "code",
   "execution_count": 19,
   "id": "e669ea3e-5a59-406a-b4b1-b745eb3991ec",
   "metadata": {
    "tags": []
   },
   "outputs": [],
   "source": [
    "# saving\n",
    "with open(tokenized_path, 'wb') as handle:\n",
    "    pickle.dump(tokenizer, handle, protocol=pickle.HIGHEST_PROTOCOL)"
   ]
  },
  {
   "cell_type": "code",
   "execution_count": 20,
   "id": "2b13f520-e64c-48b2-b4c8-b30c0464e0ce",
   "metadata": {
    "tags": []
   },
   "outputs": [],
   "source": [
    "# loading\n",
    "with open(tokenized_path, 'rb') as handle:\n",
    "    tokenizer = pickle.load(handle)"
   ]
  },
  {
   "cell_type": "markdown",
   "id": "08c8539e-db1f-4505-a3df-e3d57079d3c9",
   "metadata": {},
   "source": [
    "## Examine Tokenizer Properties"
   ]
  },
  {
   "cell_type": "code",
   "execution_count": 21,
   "id": "04f49f8e-3005-41bc-984a-1c931429ae00",
   "metadata": {
    "tags": []
   },
   "outputs": [
    {
     "name": "stdout",
     "output_type": "stream",
     "text": [
      "Number of words: 1000\n",
      "Out of vocab token: <OOV>\n"
     ]
    }
   ],
   "source": [
    "print(f'Number of words: {tokenizer.num_words}')\n",
    "print(f'Out of vocab token: {tokenizer.oov_token}')"
   ]
  },
  {
   "cell_type": "code",
   "execution_count": 22,
   "id": "ee2cc2a4-fdcc-466a-94f3-17aaa25b8efa",
   "metadata": {
    "scrolled": true,
    "tags": []
   },
   "outputs": [
    {
     "name": "stdout",
     "output_type": "stream",
     "text": [
      "{'<OOV>': 1, 'dress': 2, 'love': 3, 'fit': 4, 'size': 5, 'wear': 6, 'look': 7, 'top': 8, 'like': 9, 'great': 10, 'color': 11, \"i'm\": 12, 'it': 13, 'fabric': 14, 'small': 15, 'would': 16, 'order': 17, 'get': 18, 'cute': 19, 'perfect': 20, 'beautiful': 21, 'go': 22, 'buy': 23, 'really': 24, 'little': 25, 'make': 26, 'soft': 27, 'one': 28, 'try': 29, 'nice': 30, 'comfortable': 31, 'run': 32, 'well': 33, 'think': 34, 'back': 35, 'shirt': 36, 'me': 37, 'large': 38, 'sweater': 39, 'work': 40, 'pretty': 41, 'much': 42, 'material': 43, 'bite': 44, 'length': 45, 'jeans': 46, 'also': 47, 'long': 48, 'quality': 49, 'petite': 50, 'waist': 51, 'short': 52, 'skirt': 53, 'even': 54, 'medium': 55, 'feel': 56, 'flatter': 57, 'purchase': 58, 'xs': 59, 'want': 60, 'retailer': 61, 'good': 62, 'style': 63, 'store': 64, 'see': 65, 'big': 66, 'super': 67, 'summer': 68, 'find': 69, 'cut': 70, 'usually': 71, 'way': 72, 'could': 73, 'flattering': 74, 'black': 75, 'design': 76, 'fall': 77, 'right': 78, 'still': 79, 'true': 80, 'on': 81, 'sleeves': 82, 'online': 83, 'white': 84, 'lovely': 85, 'gorgeous': 86, 'need': 87, 'enough': 88, 'tight': 89, 'keep': 90, 'pant': 91, 'return': 92, 'jacket': 93, 'however': 94, 'detail': 95, 'perfectly': 96, 'model': 97, 'front': 98, 'better': 99, 'pair': 100, 'person': 101, 'piece': 102, 'time': 103, 'price': 104, 'blue': 105, '2': 106, 'bottom': 107, '4': 108, 'lbs': 109, 'though': 110, 'sale': 111, 'comfy': 112, 'definitely': 113, 'body': 114, 'shape': 115, 'take': 116, 'give': 117, 'casual': 118, 'picture': 119, 'loose': 120, 'say': 121, 'line': 122, 'come': 123, 'first': 124, 'high': 125, 'down': 126, 'light': 127, 'pattern': 128, 'side': 129, 'blouse': 130, 'lot': 131, 'around': 132, 'bust': 133, '6': 134, 'show': 135, 'print': 136, 'chest': 137, 'wash': 138, 'regular': 139, 'arm': 140, 'thin': 141, 'saw': 142, 'many': 143, 'shoulder': 144, 'seem': 145, 'fun': 146, 'button': 147, 'recommend': 148, 'up': 149, 'unique': 150, 'without': 151, 'receive': 152, 'weight': 153, 'wish': 154, 'i': 155, \"i've\": 156, \"can't\": 157, 'sure': 158, 'bra': 159, 'tee': 160, 'hit': 161, 'hips': 162, 'stretch': 163, 'different': 164, 'pants': 165, 'review': 166, 'quite': 167, 'easy': 168, 'normally': 169, 'this': 170, 'usual': 171, 'since': 172, 'colors': 173, 'tank': 174, '8': 175, 'add': 176, 'out': 177, 'nicely': 178, 'versatile': 179, 'overall': 180, 'boxy': 181, 'absolutely': 182, 'adorable': 183, 'leggings': 184, '5': 185, 'may': 186, 'too': 187, 'neck': 188, 'wide': 189, 'slightly': 190, 'another': 191, 'longer': 192, 'green': 193, 'know': 194, 'two': 195, 'felt': 196, 'day': 197, 'red': 198, 'warm': 199, 'lace': 200, 'underneath': 201, 'layer': 202, 'photo': 203, 'hang': 204, 'sheer': 205, 'might': 206, 'flowy': 207, 'happy': 208, 'wait': 209, 'almost': 210, 'compliment': 211, 'actually': 212, 'probably': 213, 'spring': 214, 'something': 215, 'worth': 216, 'favorite': 217, 'extra': 218, 'low': 219, '10': 220, 'put': 221, 'all': 222, 'but': 223, 'decide': 224, 'huge': 225, 'them': 226, 'drape': 227, 'area': 228, 'end': 229, 'fine': 230, 'every': 231, 'full': 232, 'best': 233, 'smaller': 234, 'unfortunately': 235, 'figure': 236, \"5'4\": 237, 'tall': 238, 'shorter': 239, 'winter': 240, 'yet': 241, 'everything': 242, 'denim': 243, 'pull': 244, 'glad': 245, 'feminine': 246, 'maybe': 247, 'tts': 248, 'always': 249, 'navy': 250, 'reference': 251, 'larger': 252, 'hem': 253, 'part': 254, 'tunic': 255, 'skinny': 256, 'coat': 257, 'slip': 258, 'lightweight': 259, 'use': 260, 'off': 261, 'made': 262, 'neckline': 263, \"i'd\": 264, 'tie': 265, 'pink': 266, 'expect': 267, 'thick': 268, 'cardigan': 269, 'cotton': 270, 'grey': 271, 'problem': 272, 'heavy': 273, 'easily': 274, 'disappoint': 275, '3': 276, 'and': 277, 'thing': 278, 'belt': 279, 'knit': 280, 'open': 281, 'room': 282, 'especially': 283, 'hop': 284, 'issue': 285, 'snug': 286, 'cozy': 287, 'new': 288, 'reviewers': 289, 'l': 290, 'classic': 291, 'in': 292, 'stylish': 293, 't': 294, 'flow': 295, \"5'3\": 296, 'normal': 297, 'kind': 298, 'knee': 299, 'xl': 300, 'dark': 301, 'beautifully': 302, \"that's\": 303, 'cami': 304, 'sell': 305, 'frame': 306, '12': 307, 'embroidery': 308, 'curvy': 309, 'cover': 310, 'pocket': 311, \"5'5\": 312, 'extremely': 313, 'torso': 314, 'shoulders': 315, 'not': 316, 'inch': 317, '0': 318, 'typically': 319, 'never': 320, 'through': 321, 'cool': 322, 'suit': 323, 's': 324, 'legs': 325, 'vest': 326, 'surprise': 327, \"5'2\": 328, 'bad': 329, 'zipper': 330, 'flare': 331, 'type': 332, \"i'll\": 333, 'so': 334, 'although': 335, 'reviewer': 336, 'anything': 337, 'year': 338, 'excite': 339, 'arms': 340, 'today': 341, 'that': 342, 'able': 343, 'someone': 344, 'ever': 345, 'swing': 346, 'unflattering': 347, 'read': 348, 'sleeve': 349, \"5'7\": 350, 'photos': 351, 'either': 352, 'hole': 353, 'brand': 354, 'things': 355, 'wardrobe': 356, 'simple': 357, 'weather': 358, 'staple': 359, 'the': 360, 'xxs': 361, 'plan': 362, 'last': 363, 'dry': 364, 'highly': 365, 'm': 366, 'fell': 367, 'already': 368, 'gray': 369, 'compliments': 370, 'pictured': 371, 'stretchy': 372, 'hold': 373, 'agree': 374, 'amazing': 375, 'cheap': 376, 'exactly': 377, 'tops': 378, 'must': 379, 'skin': 380, 'wonderful': 381, 'hard': 382, 'strap': 383, 'days': 384, 'hot': 385, '26': 386, \"5'6\": 387, 'otherwise': 388, 'seam': 389, 'away': 390, 'due': 391, 'amaze': 392, '1': 393, 'sadly': 394, 'itchy': 395, 'touch': 396, 'season': 397, 'local': 398, 'orange': 399, 'nothing': 400, 'basic': 401, 'appear': 402, 'crop': 403, 'delicate': 404, 'eye': 405, 'reviews': 406, 'least': 407, 'hide': 408, 'across': 409, 'vibrant': 410, 'tad': 411, 'baggy': 412, 'send': 413, 'a': 414, 'odd': 415, 'leave': 416, 'did': 417, 'for': 418, 'rather': 419, \"5'\": 420, 'exchange': 421, 'expected': 422, 'slim': 423, 'you': 424, 'worry': 425, 'busty': 426, 'boots': 427, 'straight': 428, 'boot': 429, 'bright': 430, 'several': 431, 'disappointed': 432, 'yellow': 433, 'awesome': 434, 'others': 435, 'arrive': 436, 'mean': 437, \"5'8\": 438, 'consider': 439, 'plus': 440, 'please': 441, 'these': 442, 'waisted': 443, \"they're\": 444, 'elegant': 445, 'lay': 446, 'is': 447, 'pilcro': 448, 'roomy': 449, 'weird': 450, 'base': 451, 'item': 452, 'special': 453, 'dresses': 454, 'pockets': 455, 'oversized': 456, 'less': 457, 'interest': 458, 'said': 459, 'place': 460, 'v': 461, 'night': 462, 'ankle': 463, 'to': 464, 'prefer': 465, 'version': 466, 'clothe': 467, 'available': 468, 'close': 469, 'jumpsuit': 470, 'years': 471, 'throw': 472, 'bigger': 473, 'ok': 474, 'sexy': 475, 'tights': 476, 'ivory': 477, 'jean': 478, '27': 479, 'sometimes': 480, 'tiny': 481, 'elastic': 482, 'stay': 483, 'rise': 484, 'strip': 485, 'flat': 486, 'sit': 487, 'totally': 488, 'instead': 489, 'immediately': 490, 'collar': 491, 'far': 492, 'shorts': 493, '115': 494, 'help': 495, 'mid': 496, \"5'1\": 497, 'shrink': 498, 'texture': 499, 'pay': 500, 'previous': 501, 'wrinkle': 502, 'athletic': 503, 'stiff': 504, 'notice': 505, 'sizes': 506, 'mine': 507, 'lower': 508, 'classy': 509, '28': 510, 'completely': 511, \"5'9\": 512, 'form': 513, 'tuck': 514, 'chic': 515, 'fabulous': 516, 'leg': 517, 'else': 518, 'second': 519, \"there's\": 520, 'outfit': 521, 'spot': 522, 'finally': 523, 'higher': 524, 'bulky': 525, 'poor': 526, 'yes': 527, 'cream': 528, 'wool': 529, 'wrong': 530, 'tell': 531, 'slimming': 532, 'hourglass': 533, 'build': 534, 'cold': 535, 'dressy': 536, 'heel': 537, 'broad': 538, 'ruffle': 539, 'pleat': 540, 'booties': 541, 'knees': 542, 'depend': 543, 'people': 544, 'incredibly': 545, 'neutral': 546, 'point': 547, 'armholes': 548, 'maternity': 549, 'sandals': 550, 'details': 551, 'fact': 552, 'amount': 553, 'snag': 554, 'months': 555, 'linen': 556, 'similar': 557, 'tent': 558, 'idea': 559, 'now': 560, 'stunning': 561, '120': 562, 'slit': 563, 'hand': 564, 'brown': 565, 'addition': 566, 'b': 567, 'hope': 568, 'closet': 569, 'rich': 570, 'live': 571, 'hip': 572, '30': 573, 'reason': 574, 'peplum': 575, 'match': 576, 'comfort': 577, 'floral': 578, 'often': 579, 'fitted': 580, 'substantial': 581, 'mind': 582, 'fantastic': 583, 'sweaters': 584, 'justice': 585, 'appropriate': 586, 'upper': 587, 'deep': 588, 'home': 589, 'c': 590, 'couple': 591, 'stitch': 592, 'baby': 593, 'sizing': 594, 'awkward': 595, 'roll': 596, 'fan': 597, 'half': 598, 'product': 599, 'star': 600, 'subtle': 601, 'zip': 602, 'sad': 603, 'purple': 604, 'except': 605, 'inside': 606, 'mail': 607, 'fitting': 608, 'sweatshirt': 609, 'tailor': 610, 'next': 611, 'transition': 612, 'thicker': 613, 'blazer': 614, 'silk': 615, 'flats': 616, 'do': 617, 'sew': 618, 'thread': 619, 'nude': 620, 'mention': 621, '25': 622, 'lined': 623, 'romper': 624, 'deal': 625, 'soon': 626, 'somewhat': 627, 'strange': 628, '34b': 629, 'stick': 630, '135': 631, 'w': 632, 'forward': 633, 'complaint': 634, 'structure': 635, 'case': 636, 'start': 637, 'gold': 638, '34c': 639, 'everywhere': 640, 'imagine': 641, 'party': 642, 'thighs': 643, 'cup': 644, 'gap': 645, 'stun': 646, 'clean': 647, 'sort': 648, 'be': 649, 'excellent': 650, 'maeve': 651, 'catch': 652, 'darker': 653, 'taller': 654, 'walk': 655, 'bodice': 656, 'hug': 657, 'band': 658, 'wow': 659, 'old': 660, 'scratchy': 661, 'tag': 662, 'perhaps': 663, 'pick': 664, 'again': 665, 'looser': 666, '140': 667, 'cannot': 668, 'stand': 669, '130': 670, 'together': 671, 'there': 672, 'middle': 673, 'office': 674, 'along': 675, 'narrow': 676, 'anyway': 677, 'simply': 678, 'fairly': 679, 'pass': 680, 'frumpy': 681, 'coverage': 682, 'heavier': 683, 'beach': 684, 'slight': 685, 'weekend': 686, 'maxi': 687, 'lose': 688, 'note': 689, 'truly': 690, 'belly': 691, 'women': 692, 'swim': 693, 'tummy': 694, '125': 695, 'girls': 696, 'butt': 697, 'curve': 698, '34': 699, 'cuff': 700, 'three': 701, 'which': 702, 'miss': 703, 'real': 704, '14': 705, 'sweet': 706, 'bit': 707, 'items': 708, 'leather': 709, 'motif': 710, 'whole': 711, 'anyone': 712, 'become': 713, 'move': 714, 'airy': 715, 'rest': 716, 'opinion': 717, 'bead': 718, 'over': 719, 'unless': 720, 'tend': 721, 'plaid': 722, 'typical': 723, '34d': 724, 'more': 725, 'barely': 726, 'bring': 727, 'waistband': 728, 'wider': 729, 'chested': 730, 'pop': 731, 'mix': 732, 'heels': 733, 'shade': 734, 'choose': 735, 'husband': 736, 'bag': 737, 'thank': 738, 'flower': 739, '100': 740, 'wrap': 741, 'everyday': 742, 'portion': 743, 'pound': 744, 'realize': 745, \"5'10\": 746, 'wed': 747, 'past': 748, 'believe': 749, '39': 750, 'slender': 751, 'with': 752, 'guess': 753, 'keeper': 754, 'clingy': 755, 'lighter': 756, 'money': 757, 'shapeless': 758, '29': 759, 'turn': 760, 'adore': 761, 'no': 762, 'bunch': 763, 'silhouette': 764, 'ladies': 765, 'pregnant': 766, 'concern': 767, 'beauty': 768, 'relax': 769, 'suppose': 770, 'height': 771, 'generally': 772, 'have': 773, 'ago': 774, 'silky': 775, 'oh': 776, 'girl': 777, 'okay': 778, 'average': 779, 'dinner': 780, 'everyone': 781, 'looking': 782, 'mentioned': 783, 'necklace': 784, 'chance': 785, 'petites': 786, 'prettier': 787, 'vintage': 788, 'polyester': 789, 'draw': 790, 'rib': 791, 'glove': 792, 'allow': 793, 'difficult': 794, 'pictures': 795, 'tone': 796, 'expensive': 797, 'swingy': 798, 'pounds': 799, 'require': 800, 'create': 801, 'solid': 802, 'sack': 803, 'camisole': 804, 'care': 805, 'option': 806, 'own': 807, '40': 808, 'snap': 809, 'ag': 810, 'perfection': 811, 'lining': 812, 'despite': 813, 'edge': 814, 'grab': 815, 'round': 816, 'house': 817, 'happen': 818, 'head': 819, 'stock': 820, 'my': 821, 'holiday': 822, 'change': 823, 'uncomfortable': 824, 'romantic': 825, 'suggest': 826, 'thigh': 827, 'pear': 828, 'plenty': 829, 'pricey': 830, 'life': 831, 'etc': 832, 'terrible': 833, 'coral': 834, 'poncho': 835, 'cooler': 836, 'package': 837, 'compare': 838, 'here': 839, 'plain': 840, 'description': 841, 'p': 842, 'surprisingly': 843, 'curves': 844, '38': 845, 'bother': 846, 'shown': 847, 'hanger': 848, 'returned': 849, 'check': 850, 'let': 851, 'call': 852, 'dream': 853, '36': 854, 'lounge': 855, 'stop': 856, 'natural': 857, 'website': 858, 'pencil': 859, 'bum': 860, 'cling': 861, 'weave': 862, 'trim': 863, 'recently': 864, 'skirts': 865, 'week': 866, 'carry': 867, 'us': 868, 'stomach': 869, 'billowy': 870, 'twice': 871, 'buttons': 872, 'beige': 873, 'originally': 874, 'garment': 875, 'set': 876, 'fix': 877, 'sloppy': 878, 'daughter': 879, 'velvet': 880, 'or': 881, 'cuter': 882, 'crazy': 883, 'yesterday': 884, 'bell': 885, 'construction': 886, '36c': 887, 'remind': 888, 'unusual': 889, 'twist': 890, 'occasion': 891, 'combination': 892, '32': 893, 'darling': 894, 'fence': 895, 'machine': 896, 'afraid': 897, 'contrast': 898, 'shop': 899, 'section': 900, 'ways': 901, 'disappointing': 902, 'turtleneck': 903, 'movement': 904, 'comment': 905, 'dot': 906, 'write': 907, 'feature': 908, 'travel': 909, 'pale': 910, 'arrived': 911, 'overly': 912, 'attractive': 913, 'stripe': 914, 'weeks': 915, 'breezy': 916, 'sides': 917, 'modern': 918, 'turquoise': 919, 'timeless': 920, 'places': 921, 'tighter': 922, 'embroider': 923, 'warmer': 924, '20': 925, 'near': 926, 'xsp': 927, 'cause': 928, 'wonder': 929, 'fade': 930, 'support': 931, 'tons': 932, 'dd': 933, 'hesitant': 934, 'flirty': 935, 'rayon': 936, 'woman': 937, 'fold': 938, 'flimsy': 939, '145': 940, 'hook': 941, 'post': 942, '110': 943, 'hate': 944, 'likely': 945, 'statement': 946, 'gather': 947, 'effect': 948, 'accentuate': 949, 'careful': 950, 'iron': 951, 'wedding': 952, '0p': 953, 'vibe': 954, 'olive': 955, 'choice': 956, 'th': 957, 'overwhelm': 958, 'waistline': 959, 'throughout': 960, 'weigh': 961, 'pic': 962, 'boho': 963, 'retro': 964, 'strapless': 965, 'winner': 966, 'date': 967, '36d': 968, 'appreciate': 969, 'event': 970, 'clothes': 971, 'forgive': 972, 'ones': 973, 'as': 974, 'literally': 975, 'panel': 976, 'offer': 977, 'boyfriend': 978, 'cinch': 979, 'spend': 980, 'muscular': 981, 'seasons': 982, 'blend': 983, 'shirts': 984, 'bath': 985, 'flaw': 986, '16': 987, 'feet': 988, 'mom': 989, 'meet': 990, 'wine': 991, 'tan': 992, 'multiple': 993, 'disappointment': 994, \"would've\": 995, 'nicer': 996, 'early': 997, 'comfortably': 998, 'pleasantly': 999, 'mostly': 1000, 'alone': 1001, 'attention': 1002, 'break': 1003, 'awful': 1004, 'only': 1005, 'upon': 1006, 'scarf': 1007, 'shoe': 1008, 'unlike': 1009, 'jersey': 1010, 'peach': 1011, 'fits': 1012, 'im': 1013, \"it's\": 1014, '36dd': 1015, 'moss': 1016, 'fabrics': 1017, 'trip': 1018, 'beware': 1019, 'double': 1020, 'anywhere': 1021, '00': 1022, 'center': 1023, 'later': 1024, 'combo': 1025, 'rip': 1026, 'returning': 1027, 'wonderfully': 1028, 'lavender': 1029, 'search': 1030, 'ship': 1031, 'whether': 1032, 'problems': 1033, 'med': 1034, '34dd': 1035, 'skim': 1036, 'areas': 1037, 'pullover': 1038, 'trend': 1039, 'bow': 1040, 'state': 1041, 'trouble': 1042, 'lb': 1043, 'provide': 1044, 'swimsuit': 1045, 'blouses': 1046, 'xxsp': 1047, 'pin': 1048, 'designer': 1049, 'exception': 1050, 'thinner': 1051, 'sturdy': 1052, 'ask': 1053, 'both': 1054, 'difference': 1055, 'water': 1056, 'sleep': 1057, 'quickly': 1058, 'honestly': 1059, 'whim': 1060, 'funny': 1061, 'brighter': 1062, 'midi': 1063, 'trousers': 1064, 'adjustable': 1065, 'flair': 1066, 'beyond': 1067, 'rack': 1068, 'taupe': 1069, 'currently': 1070, 'teal': 1071, 'was': 1072, 'christmas': 1073, 'gift': 1074, 'cleavage': 1075, 'if': 1076, 'thrill': 1077, 'tear': 1078, 'particularly': 1079, 'entire': 1080, 'cross': 1081, 'negative': 1082, 'attach': 1083, 'smooth': 1084, 'very': 1085, 'dressier': 1086, 'jewelry': 1087, 'outside': 1088, 'drop': 1089, 'hair': 1090, 'occasions': 1091, 'hte': 1092, 'bump': 1093, 'straps': 1094, 'cashmere': 1095, 'initially': 1096, 'washable': 1097, 'bulk': 1098, '35': 1099, 'apart': 1100, '150': 1101, 'proportion': 1102, 'times': 1103, 'faux': 1104, 'number': 1105, 'errands': 1106, 'mute': 1107, 'metallic': 1108, 'behind': 1109, 'ankles': 1110, 'bummer': 1111, 'issues': 1112, 'x': 1113, 'closure': 1114, 'ton': 1115, 'follow': 1116, 'properly': 1117, '32c': 1118, 'moment': 1119, 'bonus': 1120, 'volume': 1121, 'colorful': 1122, 'oddly': 1123, 'silver': 1124, 'wedge': 1125, 'discount': 1126, 'begin': 1127, 'cloth': 1128, 'stone': 1129, 'works': 1130, 'regret': 1131, 'pros': 1132, 'are': 1133, 'sleeveless': 1134, 'cropped': 1135, 'understand': 1136, 'washing': 1137, 'dye': 1138, 'hopefully': 1139, 'ish': 1140, 'describe': 1141, 'enjoy': 1142, 'birthday': 1143, 'fringe': 1144, 'ridiculous': 1145, 'course': 1146, 'transitional': 1147, 'avoid': 1148, 'air': 1149, 'amp': 1150, 'looks': 1151, 'particular': 1152, 'am': 1153, 'bill': 1154, 'pics': 1155, 'chinos': 1156, 'chunky': 1157, 'types': 1158, 'finish': 1159, 'width': 1160, 'pilling': 1161, 'drapey': 1162, 'shaped': 1163, 'bohemian': 1164, 'kimono': 1165, 'scoop': 1166, 'interesting': 1167, 'debate': 1168, 'layering': 1169, 'lately': 1170, 'crotch': 1171, 'friends': 1172, 'expectations': 1173, 'slouchy': 1174, 'lady': 1175, 'liner': 1176, 'cost': 1177, 'age': 1178, 'cowl': 1179, 'burgundy': 1180, 'late': 1181, 'certainly': 1182, 'appeal': 1183, 'sales': 1184, 'inseam': 1185, 'vacation': 1186, 'mark': 1187, 'taste': 1188, 'alter': 1189, 'horrible': 1190, 'play': 1191, 'myself': 1192, 'trendy': 1193, '31': 1194, 'of': 1195, 'waste': 1196, 'polka': 1197, 'lack': 1198, '32dd': 1199, 'remove': 1200, 'yoga': 1201, 'nearly': 1202, 'hemline': 1203, 'seriously': 1204, 'fuller': 1205, 'softness': 1206, 'thought': 1207, 'free': 1208, 'catalog': 1209, 'chambray': 1210, 'minute': 1211, 'fray': 1212, 'month': 1213, 'non': 1214, 'adjust': 1215, 'breaker': 1216, 'closer': 1217, '118': 1218, 'outer': 1219, 'boob': 1220, 'possible': 1221, 'options': 1222, 'funky': 1223, 'correct': 1224, 'wearable': 1225, 'background': 1226, '00p': 1227, 'fully': 1228, 'breast': 1229, 'art': 1230, 'fancy': 1231, 'holes': 1232, '7': 1233, 'clothing': 1234, 'unlined': 1235, 'distress': 1236, 'shed': 1237, 'inner': 1238, 'shift': 1239, 'bc': 1240, 'rear': 1241, 'image': 1242, '24': 1243, 'mother': 1244, 'experience': 1245, 'bottoms': 1246, 'd': 1247, 'ordered': 1248, 'mustard': 1249, '33': 1250, 'hour': 1251, 'actual': 1252, 'modest': 1253, 'asymmetrical': 1254, 'lean': 1255, 'placement': 1256, 'downside': 1257, 'stripes': 1258, 'just': 1259, 'list': 1260, 'flaws': 1261, 'include': 1262, 'alternative': 1263, 'taper': 1264, 'thru': 1265, 'potential': 1266, 'warmth': 1267, '135lbs': 1268, 'strike': 1269, 'personally': 1270, 'sleeved': 1271, 'ruin': 1272, '30dd': 1273, 'flannel': 1274, 'lift': 1275, 'versatility': 1276, 'somehow': 1277, 'breathable': 1278, 'splurge': 1279, 'justify': 1280, '34a': 1281, '120lbs': 1282, 'cardi': 1283, 'poorly': 1284, 'concept': 1285, 'accommodate': 1286, 'events': 1287, 'instantly': 1288, 'cutest': 1289, 'generous': 1290, 'basically': 1291, 'shame': 1292, 'voluminous': 1293, 'same': 1294, 'split': 1295, 'functional': 1296, 'foot': 1297, 'dryer': 1298, 'heat': 1299, 'hours': 1300, 'fashion': 1301, 'patterns': 1302, 'hesitate': 1303, 'reveal': 1304, 'floor': 1305, 'softer': 1306, 'yarn': 1307, 'stain': 1308, 'professional': 1309, 'slimmer': 1310, 'opt': 1311, 'win': 1312, 'below': 1313, 'gals': 1314, 'peasant': 1315, 'fur': 1316, 'will': 1317, \"retailer's\": 1318, 'wanted': 1319, 'inches': 1320, 'positive': 1321, 'push': 1322, 'label': 1323, 'some': 1324, 'luxurious': 1325, 'expose': 1326, 'smell': 1327, '32d': 1328, 'possibly': 1329, 'con': 1330, 'ft': 1331, 'accent': 1332, 'four': 1333, 'about': 1334, 'sp': 1335, 'pregnancy': 1336, '105': 1337, 'cord': 1338, 'expecting': 1339, 'blousy': 1340, 'crochet': 1341, '130lbs': 1342, 'cape': 1343, 'cage': 1344, 'legging': 1345, 'meh': 1346, 'mess': 1347, 'materials': 1348, 'y': 1349, 'impress': 1350, 'business': 1351, 'summery': 1352, 'florida': 1353, 'six': 1354, 'emphasize': 1355, 'wearing': 1356, 'penny': 1357, 'box': 1358, 'reach': 1359, 'bend': 1360, 'swallow': 1361, \"it'll\": 1362, 'sparkle': 1363, 'empire': 1364, 'needed': 1365, 'pajamas': 1366, 'calf': 1367, 'matter': 1368, 'ideal': 1369, 'shimmer': 1370, 'single': 1371, 'ribbon': 1372, 'job': 1373, 'raise': 1374, 'done': 1375, 'measurements': 1376, 'styling': 1377, 'pleased': 1378, 'sooo': 1379, 'complement': 1380, 'sized': 1381, 'casually': 1382, 'halter': 1383, 'paige': 1384, 'quirky': 1385, 'standard': 1386, 'disagree': 1387, 'joggers': 1388, 'stated': 1389, 'tricky': 1390, '2p': 1391, 'crisp': 1392, 'luckily': 1393, 'instructions': 1394, 'obsess': 1395, 'noticeable': 1396, 'kinda': 1397, 'worn': 1398, 'robe': 1399, 'hood': 1400, 'tshirt': 1401, 'site': 1402, 'spandex': 1403, 'practical': 1404, 'upcoming': 1405, 'ultimately': 1406, 'edgy': 1407, 'risk': 1408, 'structured': 1409, 'stylist': 1410, 'formal': 1411, 'cords': 1412, 'accessories': 1413, 'level': 1414, 'softest': 1415, 'midsection': 1416, 'visible': 1417, 'incredible': 1418, 'hei': 1419, 'thickness': 1420, 'pajama': 1421, 'additional': 1422, 'badly': 1423, 'can': 1424, '9': 1425, 'balance': 1426, 'goes': 1427, 'lines': 1428, 'sz': 1429, 'at': 1430, 'range': 1431, 'effortless': 1432, 'doubt': 1433, 'loosely': 1434, 'whimsical': 1435, 'itch': 1436, 'wise': 1437, 'string': 1438, 'third': 1439, 'rid': 1440, 'variety': 1441, 'drawstring': 1442, 'ease': 1443, 'fast': 1444, 'xsmall': 1445, 'execution': 1446, '50': 1447, 'while': 1448, 'sheen': 1449, 'they': 1450, 'jackets': 1451, 'e': 1452, 'fyi': 1453, 'knot': 1454, 're': 1455, 'once': 1456, 'reorder': 1457, 'accurate': 1458, 'within': 1459, 'step': 1460, 'ready': 1461, \"didn't\": 1462, 'noted': 1463, 'shows': 1464, 'obviously': 1465, 'f': 1466, 'struggle': 1467, 'flip': 1468, 'nights': 1469, 'armpit': 1470, 'minutes': 1471, 'plum': 1472, 'rarely': 1473, 'fair': 1474, '32b': 1475, 'capris': 1476, 'soooo': 1477, 'steal': 1478, 'hat': 1479, 'assume': 1480, 'happier': 1481, 'wrist': 1482, 'lucky': 1483, 'cardigans': 1484, 'shorten': 1485, 'aware': 1486, 'therefore': 1487, 'tailored': 1488, 'booty': 1489, 'armpits': 1490, 'shower': 1491, 'mistake': 1492, 'billow': 1493, 'per': 1494, 'gal': 1495, 'chilly': 1496, 'fat': 1497, 'hi': 1498, 'kid': 1499, 'drawback': 1500, 'worked': 1501, 'pieces': 1502, 'main': 1503, 'delight': 1504, 'bone': 1505, 'sight': 1506, 'rare': 1507, 'fresh': 1508, 'polish': 1509, 'mauve': 1510, 'ahead': 1511, 'flutter': 1512, 'dolman': 1513, 'display': 1514, 'sense': 1515, 'alas': 1516, 'general': 1517, 'intricate': 1518, 'define': 1519, '128': 1520, 'enormous': 1521, 'whatever': 1522, 'watch': 1523, 'textured': 1524, 'name': 1525, 'rough': 1526, 'ruching': 1527, 'sensitive': 1528, 'suede': 1529, 'flowers': 1530, 'detailing': 1531, 'curvier': 1532, 'plunge': 1533, 'ill': 1534, '140lbs': 1535, 'recent': 1536, 'conservative': 1537, 'wedges': 1538, 'certain': 1539, 'pad': 1540, 'biggest': 1541, 'resist': 1542, 'younger': 1543, 'enhance': 1544, 'sequins': 1545, 'decent': 1546, '6p': 1547, 'square': 1548, 'stuff': 1549, 'young': 1550, 'unsure': 1551, 'autumn': 1552, 'smallest': 1553, 'amazingly': 1554, 'raw': 1555, 'shot': 1556, 'attract': 1557, 'ride': 1558, 'under': 1559, 'before': 1560, 'tempt': 1561, 'regard': 1562, 'does': 1563, 'rompers': 1564, 'definite': 1565, 'lie': 1566, 'favorites': 1567, 'overwhelming': 1568, 'bold': 1569, 'shiny': 1570, 'surprised': 1571, 'constantly': 1572, 'self': 1573, 'corduroy': 1574, 'blanket': 1575, 'worse': 1576, 'jumper': 1577, 'elbow': 1578, 'cycle': 1579, 'skinnies': 1580, '125lbs': 1581, 'fear': 1582, 'unbutton': 1583, 'eyelet': 1584, \"could've\": 1585, 'dreamy': 1586, 'elegance': 1587, 'charcoal': 1588, 'reality': 1589, 'term': 1590, \"5'0\": 1591, 'sky': 1592, 'imo': 1593, 'major': 1594, 'rust': 1595, '37': 1596, 'shoot': 1597, 'friend': 1598, 'mini': 1599, 'five': 1600, 'purchased': 1601, 'manage': 1602, 'impossible': 1603, 'result': 1604, 'sophisticate': 1605, 'correctly': 1606, 'colder': 1607, 'owned': 1608, 'california': 1609, 'advice': 1610, 'rock': 1611, 'combine': 1612, 'relatively': 1613, 'mock': 1614, 'revealing': 1615, 'puffy': 1616, 'terribly': 1617, 'dip': 1618, 'flowing': 1619, 'bras': 1620, 'burn': 1621, 'shoes': 1622, 'speak': 1623, 'feeling': 1624, 'pure': 1625, \"what's\": 1626, 'unexpected': 1627, 'sorry': 1628, 'nervous': 1629, \"they'd\": 1630, 'vivid': 1631, 'forgiving': 1632, 'charm': 1633, 'because': 1634, 'complete': 1635, 'hue': 1636, 'total': 1637, 'view': 1638, 'clearly': 1639, 'prints': 1640, 'mesh': 1641, 'matronly': 1642, 'cap': 1643, 'backside': 1644, 'promo': 1645, 'altered': 1646, 'brands': 1647, 'awhile': 1648, 'luck': 1649, 'original': 1650, 'appearance': 1651, 'necessary': 1652, 'peek': 1653, 'constructed': 1654, 'somewhere': 1655, 'then': 1656, 'hint': 1657, 'semi': 1658, 'heart': 1659, 'complaints': 1660, 'weddings': 1661, 'evening': 1662, 'trench': 1663, 'factor': 1664, 'challenge': 1665, 'space': 1666, 'minor': 1667, 'transparent': 1668, 'worst': 1669, 'tough': 1670, 'closely': 1671, 'dots': 1672, 'durable': 1673, 'hemmed': 1674, 'ridiculously': 1675, 'quick': 1676, 'town': 1677, 'gentle': 1678, 'personal': 1679, 'sun': 1680, 'neither': 1681, 'stevie': 1682, 'mirror': 1683, 'vary': 1684, 'pucker': 1685, 'warn': 1686, 'tire': 1687, 'spare': 1688, 'raspberry': 1689, 'mint': 1690, 'pxs': 1691, 'sweat': 1692, 'awkwardly': 1693, 'washed': 1694, 'shock': 1695, 'tunics': 1696, '4p': 1697, 'boil': 1698, 'poofy': 1699, 'stars': 1700, 'purpose': 1701, 'n': 1702, 'wrinkly': 1703, 'sheath': 1704, '15': 1705, \"model's\": 1706, 'figures': 1707, 'lump': 1708, 'sparkly': 1709, 'busted': 1710, 'earlier': 1711, 'discover': 1712, 'traditional': 1713, 'horizontal': 1714, 'lars': 1715, 'busy': 1716, 'cutouts': 1717, 'between': 1718, 'loop': 1719, 'indeed': 1720, 'save': 1721, 'thankfully': 1722, 'styles': 1723, 'runs': 1724, 'byron': 1725, 'family': 1726, \"5'11\": 1727, 'fuzzy': 1728, 'word': 1729, 'horse': 1730, 'dance': 1731, '115lbs': 1732, 'tighten': 1733, 'culottes': 1734, 'bore': 1735, 'workout': 1736, 'sag': 1737, 'ti': 1738, 'socks': 1739, 'tracy': 1740, 'jsut': 1741, 'bulge': 1742, 'notch': 1743, 'forever': 1744, 'blah': 1745, 'hoodie': 1746, 'spectacular': 1747, 'sneakers': 1748, 'highlight': 1749, 'armhole': 1750, 'slack': 1751, 'bomber': 1752, 'why': 1753, 'balloon': 1754, '138': 1755, 'easier': 1756, 'silly': 1757, 'sucker': 1758, 'bought': 1759, '117': 1760, 'la': 1761, 'friday': 1762, 'sock': 1763, 'jumpsuits': 1764, 'underwear': 1765, 'conscious': 1766, 'gauze': 1767, 'thus': 1768, 'weekends': 1769, 'giant': 1770, 'sleek': 1771, 'blush': 1772, 'bikini': 1773, 'decision': 1774, 'textures': 1775, 'outfits': 1776, \"it'd\": 1777, 'alterations': 1778, 'dull': 1779, 'definition': 1780, 'cheaply': 1781, 'colored': 1782, 'fullness': 1783, 'zero': 1784, 'duster': 1785, 'vs': 1786, 'die': 1787, 'hoped': 1788, 'chiffon': 1789, 'boy': 1790, 'nightgown': 1791, '36b': 1792, 'poly': 1793, 'itself': 1794, 'customer': 1795, 'lo': 1796, 'uniqueness': 1797, 'what': 1798, 'key': 1799, 'onto': 1800, '145lbs': 1801, 'exquisite': 1802, 'seams': 1803, 'catching': 1804, 'loosen': 1805, 'lilac': 1806, 'tulle': 1807, 'liked': 1808, 'strangely': 1809, 'her': 1810, 'excess': 1811, 'solve': 1812, 'various': 1813, 'gain': 1814, 'gone': 1815, 'brunch': 1816, 'breathe': 1817, 'reese': 1818, 'yay': 1819, 'strong': 1820, 'aesthetic': 1821, 'sophisticated': 1822, 'designed': 1823, 'slide': 1824, 'absolute': 1825, 'regardless': 1826, 'south': 1827, 'holidays': 1828, 'terrific': 1829, 'scallop': 1830, 'nope': 1831, 'handle': 1832, 'multi': 1833, 'sm': 1834, 'deeper': 1835, 'associate': 1836, 'bronze': 1837, 'intend': 1838, '160': 1839, 'ultra': 1840, 'imperfections': 1841, 'fleece': 1842, 'school': 1843, 'lint': 1844, 'apparent': 1845, 'mainly': 1846, 'liking': 1847, 'fragile': 1848, 'sport': 1849, 'bib': 1850, '110lbs': 1851, 'fill': 1852, 'tees': 1853, 'seamstress': 1854, 'clear': 1855, 'pack': 1856, 'cons': 1857, 'opaque': 1858, 'unfortunate': 1859, 'prior': 1860, 'older': 1861, 'grow': 1862, 'bummed': 1863, 'ample': 1864, 'rat': 1865, 'suspect': 1866, 'wi': 1867, 'went': 1868, 'obvious': 1869, '108': 1870, 'prepare': 1871, 'puff': 1872, 'continue': 1873, 'dirty': 1874, 'girly': 1875, 'hyphen': 1876, 'depict': 1877, 'ps': 1878, 'overlay': 1879, 'lbd': 1880, 'got': 1881, 'world': 1882, 'wears': 1883, 'evenings': 1884, 'wind': 1885, 'flop': 1886, 'doll': 1887, 'block': 1888, 'towards': 1889, 'launder': 1890, 'sister': 1891, 'massive': 1892, 'most': 1893, 'forget': 1894, '8p': 1895, 'photograph': 1896, 'pill': 1897, 'numerous': 1898, 'calve': 1899, 'drab': 1900, 'layers': 1901, 'complain': 1902, 'texas': 1903, 'adn': 1904, '5ft': 1905, 'limit': 1906, 'replace': 1907, 'looked': 1908, 'holly': 1909, 'vegan': 1910, 'finger': 1911, 'wrinkles': 1912, 'church': 1913, 'anymore': 1914, 'slits': 1915, '155': 1916, 'peachy': 1917, 'chemise': 1918, 'unwearable': 1919, 'jump': 1920, 'anticipate': 1921, 'arrival': 1922, 'control': 1923, 'fab': 1924, 'recommended': 1925, 'admit': 1926, 'had': 1927, 'bare': 1928, 'annoy': 1929, 'muffin': 1930, 'generously': 1931, 'received': 1932, 'usa': 1933, 'construct': 1934, 'needle': 1935, 'squeeze': 1936, 'lol': 1937, 'oppose': 1938, 'bridal': 1939, 'effort': 1940, 'lacy': 1941, 'confuse': 1942, 'equally': 1943, 'fashionable': 1944, 'fly': 1945, 'purchasing': 1946, 'mango': 1947, 'dart': 1948, 'confident': 1949, 'showing': 1950, 'teacher': 1951, 'from': 1952, 'shapes': 1953, 'aside': 1954, 'current': 1955, 'hunt': 1956, 'visit': 1957, 'exposed': 1958, 'poof': 1959, 'stitching': 1960, 'seat': 1961, 'whatsoever': 1962, 'uneven': 1963, 'unfinished': 1964, 'drive': 1965, 'deliver': 1966, 'cutout': 1967, 'cant': 1968, 'hugging': 1969, 'fail': 1970, 'unravel': 1971, 'class': 1972, 'above': 1973, 'impressed': 1974, 'measure': 1975, 'hippy': 1976, 'khaki': 1977, 'cocktail': 1978, 'toward': 1979, 'secure': 1980, 'humid': 1981, 'products': 1982, '2nd': 1983, 'listen': 1984, 'prevent': 1985, 'ballet': 1986, 'flexible': 1987, \"one's\": 1988, 'significantly': 1989, 'ha': 1990, 'neat': 1991, 'drag': 1992, 'elevate': 1993, 'pairs': 1994, 'divine': 1995, 'closed': 1996, 'gauzy': 1997, 'theory': 1998, '90': 1999, 'entirely': 2000, 'pjs': 2001, 'cartonnier': 2002, '34ddd': 2003, 'horribly': 2004, 'colour': 2005, 'undecided': 2006, 'acrylic': 2007, 'exceed': 2008, 'treat': 2009, 'morning': 2010, 'u': 2011, 'lunch': 2012, 'exact': 2013, 'investment': 2014, 'rehearsal': 2015, 'dowdy': 2016, 'helped': 2017, 'nature': 2018, 'tightly': 2019, 'shimmery': 2020, 'yoke': 2021, 'tassels': 2022, 'rotation': 2023, 'steam': 2024, 'helps': 2025, '60': 2026, 'test': 2027, 'collection': 2028, 'practically': 2029, \"70's\": 2030, 'h': 2031, 'pool': 2032, 'rave': 2033, 'clip': 2034, 'anyways': 2035, 'outdoor': 2036, 'snatch': 2037, '122': 2038, 'ugly': 2039, 'shirtdress': 2040, 'degree': 2041, 'stores': 2042, 'none': 2043, 'shrinkage': 2044, 'window': 2045, 'lingerie': 2046, 'nurse': 2047, 'wrists': 2048, 'bird': 2049, 'j': 2050, 'coverup': 2051, 'undergarments': 2052, 'r': 2053, 'future': 2054, 'overpriced': 2055, 'spots': 2056, 'oversize': 2057, 'accurately': 2058, 'edges': 2059, 'million': 2060, 'carefully': 2061, 'used': 2062, 'polished': 2063, 'sunday': 2064, 'defective': 2065, 'bustier': 2066, 'boxier': 2067, 'skort': 2068, 'asap': 2069, \"don't\": 2070, 'vertical': 2071, 'broader': 2072, 'precious': 2073, 'boobs': 2074, 'other': 2075, 'cheaper': 2076, 'boo': 2077, 'skeptical': 2078, 'besides': 2079, 'synthetic': 2080, 'superb': 2081, 'hardly': 2082, 'dusty': 2083, 'pre': 2084, 'lend': 2085, 'ordering': 2086, 'floaty': 2087, 'smalls': 2088, '112': 2089, 'minimal': 2090, 'mp': 2091, 'ball': 2092, 'ensure': 2093, 'prone': 2094, 'thoughts': 2095, 'glass': 2096, 'undo': 2097, 'consistently': 2098, 'darn': 2099, 'paris': 2100, 'supportive': 2101, 'undershirt': 2102, 'trick': 2103, 'tail': 2104, 'breathtaking': 2105, 'pooch': 2106, 'dolan': 2107, 'snugly': 2108, 'fiber': 2109, 'inspire': 2110, 'hd': 2111, 'tack': 2112, 'function': 2113, 'comparison': 2114, 'honest': 2115, 'overlook': 2116, 'kick': 2117, 'company': 2118, 'versions': 2119, 'deletta': 2120, 'knock': 2121, 'character': 2122, 'face': 2123, 'meadow': 2124, 'plastic': 2125, 'smock': 2126, 'apple': 2127, 'shrunk': 2128, 'eventually': 2129, 'strangers': 2130, 'maroon': 2131, 'bralette': 2132, 'cuffs': 2133, 'seen': 2134, 'postpartum': 2135, 'blonde': 2136, 'cat': 2137, 'saturate': 2138, 'southern': 2139, 'necklaces': 2140, 'gown': 2141, 'update': 2142, 'north': 2143, 'remember': 2144, 'left': 2145, 'bubble': 2146, 'differently': 2147, 'strappy': 2148, 'features': 2149, 'trust': 2150, 'accord': 2151, 'trouser': 2152, 'loved': 2153, 'clasp': 2154, 'illusion': 2155, 'angle': 2156, 'didnt': 2157, 'city': 2158, 'g': 2159, 'understate': 2160, 'nonetheless': 2161, 'unstructured': 2162, 'washes': 2163, 'after': 2164, 'restrictive': 2165, 'princess': 2166, '95': 2167, '99': 2168, 'golden': 2169, 'potato': 2170, 'opposite': 2171, 'complexion': 2172, 'bandeau': 2173, 'co': 2174, 'boring': 2175, 'visual': 2176, 'outstanding': 2177, 'screen': 2178, 'camouflage': 2179, 'ordinary': 2180, 'separate': 2181, 'gem': 2182, 'sharp': 2183, 'relaxed': 2184, \"5'4''\": 2185, 'maintain': 2186, 'reasons': 2187, 'reddish': 2188, 'straighter': 2189, 'elsewhere': 2190, 'press': 2191, 'personality': 2192, \"doesn't\": 2193, 'removable': 2194, 'paper': 2195, 'dumpy': 2196, 'pilled': 2197, 'saggy': 2198, 'talk': 2199, 'workmanship': 2200, 'ironing': 2201, 'customers': 2202, '34f': 2203, 'nip': 2204, 'curious': 2205, 'reversible': 2206, 'picky': 2207, 'flap': 2208, 'consistent': 2209, 'preference': 2210, 'variation': 2211, 'essential': 2212, 'wiggle': 2213, 'spill': 2214, 'anticipated': 2215, 'pleats': 2216, 'snuggly': 2217, 'def': 2218, 'misleading': 2219, 'contemporary': 2220, \"they'll\": 2221, 'pinkish': 2222, 'imagined': 2223, 'beneath': 2224, 'covered': 2225, 'goodness': 2226, 'viscose': 2227, 'static': 2228, 'specific': 2229, 'hopeful': 2230, 'aspect': 2231, 'saturday': 2232, 'pastel': 2233, 'accessorize': 2234, 'bed': 2235, 'caution': 2236, 'circle': 2237, 'damage': 2238, 'question': 2239, 'moto': 2240, 'value': 2241, 'rue': 2242, 'skip': 2243, 'chesty': 2244, 'whenever': 2245, 'profile': 2246, 'moth': 2247, 'blazers': 2248, 'tho': 2249, 'baggier': 2250, 'heathered': 2251, 'aqua': 2252, 'shell': 2253, 'salmon': 2254, 'shawl': 2255, 'ground': 2256, 'chart': 2257, 'fluffy': 2258, 'emerald': 2259, 'purchases': 2260, 'specifically': 2261, 'hear': 2262, 'abt': 2263, 'instant': 2264, 'tha': 2265, 'slacks': 2266, 'service': 2267, 'quot': 2268, 'patch': 2269, '36ddd': 2270, 'possibilities': 2271, 'clearance': 2272, 'twirl': 2273, 'striking': 2274, 'nylon': 2275, 'layered': 2276, 'web': 2277, \"year's\": 2278, '128lbs': 2279, 'omg': 2280, 'spin': 2281, 'develop': 2282, 'resemble': 2283, 'net': 2284, 'email': 2285, 'mild': 2286, 'ref': 2287, 'makeup': 2288, 'important': 2289, 'gym': 2290, 'greenish': 2291, 'roomier': 2292, 'wrinkled': 2293, \"dind't\": 2294, 'jewel': 2295, 'rub': 2296, 'bleed': 2297, 'pills': 2298, 'gape': 2299, 'content': 2300, 'happened': 2301, 'earrings': 2302, 'significant': 2303, 'stumble': 2304, 'inconsistent': 2305, 'environment': 2306, 'parties': 2307, 'buttery': 2308, 'achieve': 2309, 'distract': 2310, 'hopes': 2311, 'reinforce': 2312, 'afternoon': 2313, 'capri': 2314, 'complimentary': 2315, 'reservations': 2316, 'thanks': 2317, 'eat': 2318, 'delightful': 2319, 'graphic': 2320, 'endowed': 2321, '18': 2322, 'regualr': 2323, 'promotion': 2324, '32a': 2325, 'settle': 2326, 'buttondown': 2327, \"they've\": 2328, 'mannequin': 2329, 'convince': 2330, 'li': 2331, 'thanksgiving': 2332, 'stet': 2333, 'replacement': 2334, 'butter': 2335, 'ca': 2336, 'alteration': 2337, 'widen': 2338, \"6'\": 2339, 'jeggings': 2340, 'temps': 2341, 'flops': 2342, 'calves': 2343, 'disguise': 2344, 'represent': 2345, 'palette': 2346, 'fl': 2347, 'teeny': 2348, 'btw': 2349, 'variations': 2350, \"5'8''\": 2351, 'phone': 2352, 'percent': 2353, 'oatmeal': 2354, 'halfway': 2355, 'depth': 2356, 'friendly': 2357, 'brocade': 2358, 'count': 2359, 'described': 2360, 'stevies': 2361, 'hence': 2362, 'diagonal': 2363, 'man': 2364, 'keyhole': 2365, '11': 2366, 'tissue': 2367, 'shouldered': 2368, 'teh': 2369, 'interior': 2370, 'lead': 2371, 'previously': 2372, '38c': 2373, 'pain': 2374, 'spanx': 2375, 'don': 2376, 'uniform': 2377, 'remain': 2378, 'wing': 2379, 'unattractive': 2380, 'annoying': 2381, 'door': 2382, 'tones': 2383, 'its': 2384, 'stalk': 2385, 'bias': 2386, 'rose': 2387, 'has': 2388, '70s': 2389, 'dainty': 2390, 'affordable': 2391, 'fault': 2392, 'narrower': 2393, 'easter': 2394, 'goddess': 2395, 'engagement': 2396, 'accidentally': 2397, 'secondly': 2398, 'partially': 2399, 'heather': 2400, 'fibers': 2401, 'fav': 2402, 'stunner': 2403, 'neon': 2404, 'floreat': 2405, '200': 2406, 'desired': 2407, 'shipping': 2408, 'clown': 2409, 'frilly': 2410, 'useful': 2411, 'sooooo': 2412, 'flatten': 2413, 'retain': 2414, 'wife': 2415, 'glance': 2416, 'xspetite': 2417, 'si': 2418, 'muted': 2419, 'effortlessly': 2420, 'tightness': 2421, 'droopy': 2422, 'ruched': 2423, 'embellishment': 2424, 'load': 2425, 'pilcros': 2426, 'country': 2427, 'basics': 2428, 'cable': 2429, 'crops': 2430, 'unnecessary': 2431, 'creative': 2432, 'pleasant': 2433, 'shopper': 2434, 'drown': 2435, 'child': 2436, 'placket': 2437, 'constricting': 2438, 'sheerness': 2439, 'charming': 2440, 'needs': 2441, 'weirdly': 2442, '170': 2443, 'fasten': 2444, 'stats': 2445, 'honey': 2446, 'pxxs': 2447, 'flounce': 2448, 'should': 2449, '127': 2450, 'flash': 2451, 'tried': 2452, '34g': 2453, 'thrilled': 2454, 'vanity': 2455, 'beat': 2456, 'soften': 2457, 'richer': 2458, 'platform': 2459, 'title': 2460, 'border': 2461, 'float': 2462, 'cleaning': 2463, 'obsessed': 2464, 'car': 2465, 'dramatic': 2466, 'kids': 2467, 'tacky': 2468, 'forth': 2469, 'slate': 2470, 'pump': 2471, 'manner': 2472, 'panty': 2473, 'military': 2474, 'share': 2475, 'dislike': 2476, 'ugh': 2477, 'intrigue': 2478, 'tanks': 2479, 'nowhere': 2480, 'poofs': 2481, 'citizens': 2482, 'ruffles': 2483, 'restock': 2484, 'crease': 2485, 'ignore': 2486, 'dog': 2487, 'underarm': 2488, 'yikes': 2489, 'directions': 2490, 'quilt': 2491, 'costume': 2492, \"couldn't\": 2493, 'european': 2494, 'scheme': 2495, 'harder': 2496, 'thumb': 2497, 'playful': 2498, 'ten': 2499, 'alot': 2500, 'models': 2501, 'waffle': 2502, 'uniquely': 2503, 'overprice': 2504, 'toe': 2505, 'artistic': 2506, 'underwhelmed': 2507, 'welcome': 2508, 'salesperson': 2509, 'widest': 2510, 'hassle': 2511, 'legged': 2512, 'lounging': 2513, 'daytime': 2514, 'indigo': 2515, 'versitile': 2516, 'alright': 2517, 'irl': 2518, 'washer': 2519, 'required': 2520, 'wa': 2521, 'biceps': 2522, 'additionally': 2523, 'apply': 2524, 'wet': 2525, 'worthy': 2526, 'fo': 2527, 'bordeaux': 2528, 'trapeze': 2529, 'vests': 2530, 'cleaned': 2531, 'indoors': 2532, 'topper': 2533, 'climate': 2534, 'attire': 2535, 'causal': 2536, 'zipped': 2537, 'gigantic': 2538, 'slightest': 2539, 'board': 2540, 'buying': 2541, 'cups': 2542, 'tied': 2543, 'distinctive': 2544, 'fussy': 2545, 'pj': 2546, 'till': 2547, 'proper': 2548, 'o': 2549, 'scream': 2550, 'bustline': 2551, 'laugh': 2552, 'untucked': 2553, 'example': 2554, '142': 2555, \"60's\": 2556, 'necessarily': 2557, 'upset': 2558, 'va': 2559, 'occasionally': 2560, 'tweed': 2561, 'gently': 2562, 'where': 2563, 'excited': 2564, 'grandma': 2565, 'copper': 2566, 'braless': 2567, 'setting': 2568, 'score': 2569, 'accessory': 2570, 'ethereal': 2571, 'book': 2572, 'muumuu': 2573, \"let's\": 2574, 'criss': 2575, 'men': 2576, 'serve': 2577, 'shut': 2578, 'ness': 2579, '116': 2580, 'colorway': 2581, 'suits': 2582, \"80's\": 2583, 'craftsmanship': 2584, 'appears': 2585, 'periwinkle': 2586, '44': 2587, 'snow': 2588, 'fixed': 2589, 'breasts': 2590, 'scar': 2591, 'slub': 2592, 'popular': 2593, 'cart': 2594, 'chino': 2595, '123lbs': 2596, 'fave': 2597, 'tea': 2598, 'tape': 2599, 'camel': 2600, 'transfer': 2601, 'macrame': 2602, 'pinch': 2603, 'skimpy': 2604, 'inset': 2605, 'faded': 2606, 'lastly': 2607, 'midriff': 2608, 'feels': 2609, 'antho': 2610, 'wld': 2611, 'fluid': 2612, 'reg': 2613, 'smile': 2614, '107': 2615, 'suitable': 2616, 'hawaii': 2617, 'common': 2618, 'contrary': 2619, 'extend': 2620, 'royal': 2621, 'beading': 2622, 'plane': 2623, 'flowey': 2624, 'brainer': 2625, '123': 2626, 'esp': 2627, 'ribcage': 2628, 'mad': 2629, 'flairs': 2630, 'festive': 2631, 'monitor': 2632, 'brick': 2633, 'sa': 2634, 'thats': 2635, 'essentially': 2636, 'underarms': 2637, 'attempt': 2638, 'virtually': 2639, 'safe': 2640, 'thi': 2641, 'july': 2642, 'flight': 2643, 'overalls': 2644, 'endless': 2645, 'simplicity': 2646, 'anytime': 2647, 'detailed': 2648, 'dimension': 2649, 'exceptional': 2650, \"isn't\": 2651, 'sandal': 2652, 'chests': 2653, 'quarter': 2654, 'sewn': 2655, 'breath': 2656, 'floppy': 2657, 'proportions': 2658, 'modal': 2659, 'intense': 2660, 'built': 2661, 'western': 2662, 'fortunately': 2663, 'when': 2664, 'rate': 2665, 'until': 2666, 'designers': 2667, 'snugger': 2668, 'pulling': 2669, 'cranberry': 2670, 'loungewear': 2671, 'dread': 2672, 'graduation': 2673, 'buttoned': 2674, 'sunny': 2675, 'satisfy': 2676, 'passed': 2677, 'park': 2678, 'dont': 2679, '136': 2680, 'traveling': 2681, 'mod': 2682, 'mood': 2683, 'desire': 2684, 'garden': 2685, 'sea': 2686, 'freeze': 2687, 'instagram': 2688, \"mother's\": 2689, 'muscle': 2690, 'unbelievably': 2691, 'henley': 2692, 'pip': 2693, 'carbon': 2694, 'metal': 2695, 'detergent': 2696, 'constrict': 2697, 'lazy': 2698, 'stiffer': 2699, 'bargain': 2700, 'shortened': 2701, 'indicate': 2702, 'climates': 2703, '124': 2704, '150lbs': 2705, 'flouncy': 2706, '32ddd': 2707, 'dollars': 2708, 'opening': 2709, 'fuss': 2710, 'satin': 2711, 'thinking': 2712, 'ability': 2713, 'acceptable': 2714, 'cocoon': 2715, 'process': 2716, 'cheerful': 2717, 'shear': 2718, 'promise': 2719, 'dig': 2720, 'grayish': 2721, 'ddd': 2722, 'geometric': 2723, 'sign': 2724, 'commented': 2725, 'attend': 2726, 'canvas': 2727, 'uncomfortably': 2728, \"husband's\": 2729, 'hands': 2730, 'shrinks': 2731, 'going': 2732, 'squish': 2733, '4th': 2734, '34aa': 2735, 'exceptionally': 2736, 'bumps': 2737, 'whimsy': 2738, 'sound': 2739, 'parts': 2740, 'frequently': 2741, 'remover': 2742, 'tailoring': 2743, 'coordinate': 2744, 'glamorous': 2745, 'act': 2746, 'west': 2747, 'shortness': 2748, 'cobalt': 2749, 'cowboy': 2750, 'french': 2751, 'summers': 2752, 'marled': 2753, 'happily': 2754, 'compel': 2755, 'combinations': 2756, 'turtle': 2757, 'europe': 2758, 'crepe': 2759, 'complements': 2760, 'heal': 2761, 'excessive': 2762, 'bear': 2763, 'conceal': 2764, 'antro': 2765, 'impression': 2766, 'paint': 2767, 'glam': 2768, 'lightly': 2769, 'public': 2770, 'albeit': 2771, 'blousey': 2772, 'offered': 2773, 'fir': 2774, 'yeah': 2775, 'condition': 2776, 'tug': 2777, 'skinnys': 2778, 'brilliant': 2779, 'mornings': 2780, 'serif': 2781, 'glow': 2782, 'femininity': 2783, 'claim': 2784, 'threads': 2785, 'modesty': 2786, 'bu': 2787, 'busts': 2788, 'advertised': 2789, '126': 2790, 'serious': 2791, 'align': 2792, 'advise': 2793, 'angel': 2794, 'poplin': 2795, 'damaged': 2796, 'regularly': 2797, 'triangle': 2798, 'snags': 2799, 'helpful': 2800, 'placed': 2801, 'gravitate': 2802, 'importantly': 2803, 'cleaner': 2804, 'haha': 2805, 'contain': 2806, '3rd': 2807, 'par': 2808, 'tangerine': 2809, 'affect': 2810, 'soo': 2811, 'repeat': 2812, 'apparently': 2813, '134': 2814, 'fleck': 2815, 'rounder': 2816, 'substance': 2817, '30d': 2818, 'victorian': 2819, 'forest': 2820, 'sporty': 2821, 'summertime': 2822, 'boat': 2823, 'detachable': 2824, 'hidden': 2825, 'disaster': 2826, \"woman's\": 2827, 'august': 2828, 'minimize': 2829, 'drying': 2830, 'suck': 2831, 'temperatures': 2832, 'covet': 2833, 'army': 2834, 'by': 2835, 'curl': 2836, 'collect': 2837, 'keeping': 2838, \"here's\": 2839, 'lookout': 2840, 'cottony': 2841, 'lush': 2842, 'ponchos': 2843, 'street': 2844, 'flows': 2845, 'figured': 2846, 'dried': 2847, 'images': 2848, 'criticism': 2849, 'elasticized': 2850, 'position': 2851, 'bulges': 2852, 'active': 2853, 'kimonos': 2854, 'computer': 2855, 'mediums': 2856, 'dressed': 2857, 'bathroom': 2858, 'warning': 2859, 'eh': 2860, 'wonky': 2861, 'elevenses': 2862, 'destroy': 2863, 'largest': 2864, \"5'5''\": 2865, 'yummy': 2866, 'brighten': 2867, 'rainy': 2868, 'pile': 2869, 'nautical': 2870, 'extreme': 2871, 'fancier': 2872, 'caveat': 2873, 'september': 2874, 'scarves': 2875, 'diamond': 2876, \"reviewer's\": 2877, 'sand': 2878, 'elements': 2879, 'bizarre': 2880, 'fox': 2881, 'translate': 2882, 'beadwork': 2883, '25p': 2884, 'mislead': 2885, 'gripe': 2886, 'eliminate': 2887, 'textile': 2888, 'sash': 2889, 'chemical': 2890, 'approx': 2891, 'moo': 2892, 'naturally': 2893, 'fee': 2894, '119': 2895, 'berry': 2896, 'stopper': 2897, 'bet': 2898, 'circus': 2899, 'insanely': 2900, 'subtly': 2901, 'found': 2902, 'force': 2903, 'reasonable': 2904, 'bug': 2905, 'breeze': 2906, 'vertically': 2907, 'invisible': 2908, 'tomorrow': 2909, 'slinky': 2910, 'element': 2911, 'brownish': 2912, 'eyes': 2913, 'present': 2914, 'dr': 2915, \"daughter's\": 2916, 'artsy': 2917, 'frustrate': 2918, 'differences': 2919, 'admire': 2920, 'offset': 2921, 'decorative': 2922, 'heaven': 2923, 'tucked': 2924, 'irritate': 2925, 'theme': 2926, 'downsize': 2927, 'college': 2928, 'dissapointed': 2929, 'kelly': 2930, 'bunchy': 2931, 'chocolate': 2932, 'unzip': 2933, 'hubby': 2934, 'lover': 2935, 'blow': 2936, 'magical': 2937, 'comments': 2938, 'unforgiving': 2939, 'restrict': 2940, 'racerback': 2941, 'aka': 2942, 'weighty': 2943, 'exclusive': 2944, 'patchwork': 2945, 'those': 2946, 'mismatch': 2947, \"50's\": 2948, 'contemplate': 2949, 'shy': 2950, \"40's\": 2951, 'explain': 2952, 'warned': 2953, 'baseball': 2954, 'adjustment': 2955, 'stretched': 2956, '5ft2in': 2957, 'folks': 2958, 'falls': 2959, 'ripped': 2960, '102': 2961, 'sh': 2962, '80s': 2963, 'priced': 2964, 'partum': 2965, 'versitle': 2966, 'moulinette': 2967, 'mara': 2968, 'hoffman': 2969, 'bat': 2970, 'who': 2971, 'elongate': 2972, '6ft': 2973, 'such': 2974, 'bo': 2975, 'prettiest': 2976, 'underwire': 2977, 'answer': 2978, 'unexpectedly': 2979, 'animal': 2980, 'yuck': 2981, 'bluish': 2982, 'muddy': 2983, 'random': 2984, 'embellishments': 2985, 'hangs': 2986, 'movie': 2987, 'hippie': 2988, 'bailey': 2989, 'gotta': 2990, 'undone': 2991, 'advantage': 2992, 'directly': 2993, 'tiered': 2994, 'babydoll': 2995, 'determine': 2996, '130lb': 2997, 'switch': 2998, 'situation': 2999, 'row': 3000, 'sassy': 3001, 'droop': 3002, 'surely': 3003, '10p': 3004, 'caftan': 3005, 'sitting': 3006, 'shall': 3007, '1st': 3008, 'land': 3009, '114': 3010, 'rain': 3011, 'subdue': 3012, 'ages': 3013, 'outline': 3014, '27p': 3015, 'poke': 3016, 'noticed': 3017, 'majority': 3018, 'itchiness': 3019, '36a': 3020, 'protrude': 3021, 'grind': 3022, 'coats': 3023, 'pit': 3024, 'stil': 3025, 'bleach': 3026, 'standards': 3027, '103': 3028, 'san': 3029, 'un': 3030, 'graceful': 3031, \"we'll\": 3032, 'heck': 3033, 'deceiving': 3034, 'deter': 3035, 'messy': 3036, 'sherpa': 3037, 'coh': 3038, 'gorgeously': 3039, 'flesh': 3040, 'shots': 3041, 'buyer': 3042, 'jogger': 3043, 'smidge': 3044, 'benefit': 3045, 'exaggerate': 3046, 'pouch': 3047, '30s': 3048, 'reservation': 3049, 'jut': 3050, 'draped': 3051, 'greatest': 3052, 'june': 3053, '100lbs': 3054, 'execute': 3055, 'crew': 3056, '155lbs': 3057, 'noticeably': 3058, 'crossed': 3059, 'lik': 3060, \"'\": 3061, 'crooked': 3062, 'killer': 3063, 'dres': 3064, 'impractical': 3065, 'appealing': 3066, 'category': 3067, 'charlie': 3068, 'prefect': 3069, 'depicts': 3070, 'improve': 3071, 'rolled': 3072, 'hav': 3073, 'flexibility': 3074, 'favors': 3075, 'shapely': 3076, 'proportional': 3077, 'ribs': 3078, 'exposure': 3079, 'didn': 3080, 'into': 3081, 'bootie': 3082, 'butterfly': 3083, 'attached': 3084, 'moderate': 3085, 'loops': 3086, 'te': 3087, 'pointelle': 3088, 'measurement': 3089, 'article': 3090, 'dare': 3091, 'contribute': 3092, 'market': 3093, '98': 3094, 'st': 3095, 'catalogue': 3096, 'tencel': 3097, 'highest': 3098, 'drapery': 3099, 'judge': 3100, 'symmetrical': 3101, 'larges': 3102, \"5'3'\": 3103, 'steep': 3104, 'prove': 3105, 'underlay': 3106, 'encourage': 3107, 'coupon': 3108, 'missing': 3109, 'backorder': 3110, 'pilco': 3111, 'designs': 3112, 'asymmetric': 3113, 'whoa': 3114, 'beads': 3115, 'tint': 3116, 'trigger': 3117, 'learn': 3118, '120lb': 3119, 'bind': 3120, \"women's\": 3121, 'italy': 3122, 'durability': 3123, 'defect': 3124, '138lbs': 3125, 'snail': 3126, 'niece': 3127, 'tinge': 3128, 'bough': 3129, 'death': 3130, 'espadrilles': 3131, 'burnout': 3132, 'lengthen': 3133, 'ensemble': 3134, 'cheery': 3135, 'overlap': 3136, '105lbs': 3137, 'game': 3138, 'laser': 3139, 'universally': 3140, 'patiently': 3141, 'truth': 3142, '42': 3143, 'reduce': 3144, 'opportunity': 3145, 'forearm': 3146, 'terry': 3147, 'been': 3148, 'rea': 3149, 'drapes': 3150, 'tumble': 3151, 'ski': 3152, '113': 3153, 'flashy': 3154, 'soooooo': 3155, 'depending': 3156, 'ahve': 3157, 'confortable': 3158, 'watercolor': 3159, 'fabulously': 3160, 'location': 3161, 'pineapple': 3162, 'coloring': 3163, 'stress': 3164, 'seems': 3165, 'immediate': 3166, 'carpet': 3167, 'odor': 3168, 'angles': 3169, 'sundress': 3170, 'draping': 3171, 'tendency': 3172, 'granted': 3173, 'solution': 3174, 'leftover': 3175, 'doesnt': 3176, 'lil': 3177, 'rush': 3178, 'versus': 3179, 'lg': 3180, 'hideous': 3181, 'bits': 3182, 'came': 3183, '132': 3184, 'nyc': 3185, 'ties': 3186, 'eve': 3187, 'brush': 3188, 'backwards': 3189, 'surpass': 3190, '40s': 3191, 'overpower': 3192, 'flared': 3193, 'tube': 3194, 'undergarment': 3195, 'impulse': 3196, 'purse': 3197, 'suggestion': 3198, 'lacey': 3199, 'scratch': 3200, 'feather': 3201, 'springy': 3202, 'rinse': 3203, 'nubby': 3204, 'anyhow': 3205, 'dear': 3206, 'warrant': 3207, 'intentional': 3208, 'comically': 3209, 'rating': 3210, 'beachy': 3211, 'browse': 3212, '12p': 3213, 'shedding': 3214, 'wil': 3215, 'wasted': 3216, 'shopping': 3217, 'conform': 3218, 'bland': 3219, 'poms': 3220, 'reluctantly': 3221, 'shine': 3222, 'dingy': 3223, 'petit': 3224, 'luxe': 3225, '106': 3226, 'mask': 3227, 'toned': 3228, 'were': 3229, 'defeat': 3230, 'prob': 3231, 'drink': 3232, '32g': 3233, 'yo': 3234, 'reverse': 3235, 'bagginess': 3236, 'picnic': 3237, 'punch': 3238, 'ice': 3239, 'tip': 3240, 'football': 3241, 'stature': 3242, 'flares': 3243, 'blues': 3244, 'torsos': 3245, 'suddenly': 3246, 'expand': 3247, 'final': 3248, 'sigh': 3249, 'openings': 3250, 'surprising': 3251, 'trunk': 3252, 'orangey': 3253, 'success': 3254, 'crush': 3255, '165': 3256, 'ginormous': 3257, 'makes': 3258, 'partly': 3259, 'unbuttoned': 3260, 'belted': 3261, 'florals': 3262, 'cruise': 3263, \"5'7''\": 3264, 'shrug': 3265, 'grocery': 3266, 'favor': 3267, 'jammies': 3268, 'sleepwear': 3269, 'sheds': 3270, 'soeurs': 3271, 'thoroughly': 3272, 'wee': 3273, 'bracelet': 3274, 'touches': 3275, 'tab': 3276, 'pearl': 3277, 'gingham': 3278, 'recommendation': 3279, 'protect': 3280, '160lb': 3281, 'chill': 3282, 'wo': 3283, 'advertise': 3284, 'pom': 3285, '43': 3286, 'reminiscent': 3287, 'rigid': 3288, 'inexpensive': 3289, 'executed': 3290, 'flatteringly': 3291, 'batch': 3292, 'wit': 3293, \"wasn't\": 3294, 'drawstrings': 3295, 'esque': 3296, 'ot': 3297, 'anniversary': 3298, 'buckle': 3299, 'poofed': 3300, 'loud': 3301, 'cal': 3302, 'fight': 3303, 'pops': 3304, '70': 3305, 'daughters': 3306, 'antrho': 3307, 'flawed': 3308, 'ive': 3309, 'october': 3310, 'downfall': 3311, 'detract': 3312, 'crown': 3313, 'admittedly': 3314, 'sick': 3315, 'falttering': 3316, 'seasonal': 3317, 'similarly': 3318, 'initial': 3319, 'stiffness': 3320, 'bathrobe': 3321, 'checked': 3322, '21': 3323, 'umbrella': 3324, 'sold': 3325, 'errand': 3326, 'handy': 3327, 'hundred': 3328, \"5'7'\": 3329, 'paid': 3330, 'differ': 3331, 'peplums': 3332, 'poufy': 3333, 'unhappy': 3334, 'degrees': 3335, 'paisley': 3336, 'houston': 3337, 'gracefully': 3338, 'seafolly': 3339, 'curtain': 3340, 'removed': 3341, 'aesthetically': 3342, 'bod': 3343, 'mailbox': 3344, 'colros': 3345, 'saying': 3346, 'dinners': 3347, '104': 3348, 'toss': 3349, 'winters': 3350, '45': 3351, 'an': 3352, '58': 3353, 'fridays': 3354, \"4'11\": 3355, 'maker': 3356, 'bless': 3357, 'laundry': 3358, 'compensate': 3359, \"5'2''\": 3360, 'swimsuits': 3361, 'patter': 3362, 'hike': 3363, 'coarse': 3364, 'pleasure': 3365, 'heartbeat': 3366, 'poster': 3367, 'included': 3368, '160lbs': 3369, 'lattice': 3370, 'streamline': 3371, 'maxis': 3372, 'region': 3373, 'appropriately': 3374, 'borderline': 3375, 'scene': 3376, 'defiantly': 3377, 'audrey': 3378, 'hepburn': 3379, 'bothersome': 3380, 'lapels': 3381, 'fingers': 3382, 'kidding': 3383, 'junk': 3384, 'wh': 3385, 'inspired': 3386, 'select': 3387, 'safety': 3388, 'nevertheless': 3389, 'flatering': 3390, 'invert': 3391, 'frayed': 3392, 'upside': 3393, 'k': 3394, 'delicious': 3395, 'smart': 3396, 'twill': 3397, 'workplace': 3398, 'whereas': 3399, 'elbows': 3400, 'hesitation': 3401, 'branch': 3402, 'youthful': 3403, 'swish': 3404, 'goal': 3405, 'attending': 3406, 'teach': 3407, 'belong': 3408, '55': 3409, 'running': 3410, 'shorty': 3411, 'cuddly': 3412, 'coffee': 3413, \"5'6''\": 3414, 'frames': 3415, 'track': 3416, \"who's\": 3417, 'mold': 3418, 'creamy': 3419, 'seamless': 3420, 'code': 3421, '28s': 3422, 'standout': 3423, 'panties': 3424, 'uber': 3425, 'moving': 3426, 'poppy': 3427, 'maintenance': 3428, 'triangles': 3429, 'basket': 3430, 'snaps': 3431, 'promptly': 3432, 'craft': 3433, 'peak': 3434, 'hey': 3435, 'zone': 3436, 'translucent': 3437, 'lumpy': 3438, 'rhinestones': 3439, 'wave': 3440, 'meaning': 3441, 'page': 3442, 'hits': 3443, 'mislabeled': 3444, 'dangle': 3445, 'petitie': 3446, 'demin': 3447, 'cheeky': 3448, 'al': 3449, 'neoprene': 3450, 'pose': 3451, 'navel': 3452, 'boys': 3453, 'id': 3454, 'partial': 3455, 'unusually': 3456, 'outs': 3457, 'afford': 3458, 'pumps': 3459, 'china': 3460, 'showstopper': 3461, 'equivalent': 3462, 'sweats': 3463, 'attitude': 3464, 'loo': 3465, 'daily': 3466, 'gamble': 3467, 'shin': 3468, 'heft': 3469, 'inappropriate': 3470, 'retailers': 3471, 'swimwear': 3472, 'lifestyle': 3473, 'indian': 3474, 'scrunch': 3475, '137': 3476, 'problematic': 3477, 'violet': 3478, 'dust': 3479, 'ceremony': 3480, 'release': 3481, '107lbs': 3482, \"stevie's\": 3483, 'stash': 3484, 'shinier': 3485, 'purplish': 3486, 'intention': 3487, 'eva': 3488, 'countless': 3489, 'adequate': 3490, 'heights': 3491, 'spray': 3492, 'availability': 3493, 'fabrication': 3494, 'somebody': 3495, 'suitcase': 3496, 'duty': 3497, 'lacework': 3498, 'de': 3499, 'showed': 3500, \"'s\": 3501, 'seek': 3502, 'produce': 3503, '2015': 3504, 'ratio': 3505, 'rely': 3506, 'rocks': 3507, 'sequin': 3508, 'upscale': 3509, 'fairy': 3510, 'siz': 3511, 'joy': 3512, 'magic': 3513, '26p': 3514, 'spirit': 3515, 'weak': 3516, 'motion': 3517, 'primary': 3518, 'matte': 3519, 'lengths': 3520, 'zippers': 3521, '50s': 3522, 'cuteness': 3523, 'stretches': 3524, 'khakis': 3525, 'undertone': 3526, 'abstract': 3527, 'capsule': 3528, 'cargo': 3529, 'ribbed': 3530, \"anyone's\": 3531, 'approximately': 3532, 'mileage': 3533, 'eyelets': 3534, 'sweep': 3535, 'sacrifice': 3536, 'custom': 3537, 'questionable': 3538, 'assets': 3539, 'bounce': 3540, 'treasure': 3541, 'teen': 3542, 'identical': 3543, 'saturated': 3544, 'jacquard': 3545, 'impeccable': 3546, 'wings': 3547, 'son': 3548, 'wherever': 3549, 'bride': 3550, 'than': 3551, \"friend's\": 3552, 'ac': 3553, 'offices': 3554, 'rumple': 3555, 'waaaaay': 3556, 'bows': 3557, 'instincts': 3558, 'boned': 3559, 'shrinking': 3560, 'di': 3561, 'transform': 3562, 'gauge': 3563, 'realistic': 3564, 'feedback': 3565, 'supima': 3566, 'based': 3567, 'doable': 3568, 'sheet': 3569, 'settings': 3570, 'transparency': 3571, 'disappear': 3572, 'proportionate': 3573, 'technically': 3574, 'prompt': 3575, 'menswear': 3576, 'slouch': 3577, '32f': 3578, 'mexico': 3579, 'trimester': 3580, 'kill': 3581, 'rouching': 3582, 'hung': 3583, 'flowiness': 3584, 'purposes': 3585, 'endow': 3586, 'mindful': 3587, 'hello': 3588, 'em': 3589, 'staff': 3590, 'ah': 3591, 'wearability': 3592, 'practice': 3593, 'sticky': 3594, 'cedar': 3595, 'heavily': 3596, 'shoppers': 3597, 'turtlenecks': 3598, 'ponte': 3599, 'concert': 3600, 'nicest': 3601, '80': 3602, 'heavenly': 3603, 'fading': 3604, 'sausage': 3605, 'happens': 3606, 'department': 3607, 'fake': 3608, 'east': 3609, 'supple': 3610, 'focus': 3611, 'stud': 3612, 'clever': 3613, 'tax': 3614, 'crinkly': 3615, 'fe': 3616, 'crossover': 3617, 'torn': 3618, 'fuzz': 3619, 'appreciated': 3620, 'sweatercoat': 3621, 'encounter': 3622, 'dancing': 3623, 'expectation': 3624, 'clogs': 3625, 'snagged': 3626, 'confused': 3627, 'qualities': 3628, 'walking': 3629, 'wasit': 3630, 'coast': 3631, 'bulkier': 3632, 'mohair': 3633, '20s': 3634, 'getting': 3635, 'sexiness': 3636, 'raglan': 3637, 'restaurant': 3638, 'distance': 3639, 'coolest': 3640, 'cuz': 3641, 'sweatshirts': 3642, 'voila': 3643, 'remotely': 3644, 'luv': 3645, 'streak': 3646, 'handful': 3647, 'tush': 3648, 'ups': 3649, 'exist': 3650, '109lbs': 3651, 'bosom': 3652, 'cheapen': 3653, 'deserve': 3654, 'windowpane': 3655, 'derriere': 3656, 'steamer': 3657, 'prairie': 3658, 'mu': 3659, 'leggy': 3660, 'carefree': 3661, 'tennis': 3662, 'informal': 3663, 'tonight': 3664, '133': 3665, 'means': 3666, 'irritating': 3667, 'htis': 3668, 'garish': 3669, 'accents': 3670, 'skimming': 3671, 'pet': 3672, 'itching': 3673, 'natori': 3674, 'racer': 3675, 'envision': 3676, 'htey': 3677, 'hover': 3678, 'embroidered': 3679, 'sagging': 3680, 'zoom': 3681, 'superior': 3682, 'potentially': 3683, 'le': 3684, 'padding': 3685, 'gosh': 3686, 'holy': 3687, 'imho': 3688, 'aline': 3689, 'feelings': 3690, 'outerwear': 3691, 'broke': 3692, 'apron': 3693, 'northeast': 3694, 'shimmy': 3695, 'buck': 3696, 'mo': 3697, 'account': 3698, 'steel': 3699, 'suggested': 3700, 'satisfied': 3701, 'insert': 3702, 'stylists': 3703, '48': 3704, 'rule': 3705, 'eight': 3706, 'wild': 3707, 'undertones': 3708, 'epitome': 3709, \"5'1''\": 3710, 'surprises': 3711, 'australian': 3712, 'dramatically': 3713, 'lost': 3714, 'manufacture': 3715, 'period': 3716, 'masculine': 3717, 'grateful': 3718, 'glitter': 3719, 'roller': 3720, 'swtr': 3721, 'clerk': 3722, 'flatters': 3723, 'unraveled': 3724, 'favs': 3725, 'crowd': 3726, 'vent': 3727, 'hunter': 3728, 'apprehensive': 3729, 'cascade': 3730, 'pricy': 3731, 'fool': 3732, 'firm': 3733, 'waaay': 3734, 'skinnier': 3735, 'spite': 3736, 'distressed': 3737, 'lapel': 3738, 'joke': 3739, 'wearings': 3740, 'territory': 3741, 'disproportionate': 3742, 'table': 3743, 'employee': 3744, 'signature': 3745, \"4'\": 3746, 'charge': 3747, 'gonna': 3748, \"dress's\": 3749, 'peacock': 3750, 'painful': 3751, 'news': 3752, 'puppy': 3753, 'children': 3754, 'cautious': 3755, 'velvety': 3756, 'understated': 3757, 'graze': 3758, 'shearling': 3759, 'uncertain': 3760, 'preppy': 3761, 'colorfast': 3762, 'ladylike': 3763, 'express': 3764, 'â': 3765, 'sparrow': 3766, 'raincoat': 3767, 'seemingly': 3768, 'stink': 3769, 'shelf': 3770, 'tla': 3771, 'individual': 3772, 'portland': 3773, 'outings': 3774, 'boucle': 3775, 'hunch': 3776, 'platforms': 3777, 'franco': 3778, 'drama': 3779, '68': 3780, 'await': 3781, 'bi': 3782, 'accident': 3783, 'equal': 3784, 'becasue': 3785, '27s': 3786, 'workers': 3787, 'moveable': 3788, 'conversation': 3789, 'frankly': 3790, 'refund': 3791, '28p': 3792, 'crimson': 3793, 'possibility': 3794, 'pm': 3795, 'boatneck': 3796, 'delivered': 3797, 'bodysuit': 3798, 'farm': 3799, 'miles': 3800, 'prominent': 3801, '180': 3802, 'hack': 3803, '102lbs': 3804, '1960s': 3805, \"7'\": 3806, 'rejoice': 3807, 'underwhelming': 3808, 'scroll': 3809, 'fi': 3810, 'budget': 3811, 'maid': 3812, \"sister's\": 3813, 'boxes': 3814, 'graphics': 3815, 'object': 3816, 'flowly': 3817, 'immodest': 3818, 'desperately': 3819, 'unable': 3820, 'kangaroo': 3821, 'anxious': 3822, 'ad': 3823, 'isnt': 3824, 'splotch': 3825, 'among': 3826, 'boost': 3827, \"t's\": 3828, 'substitute': 3829, '32h': 3830, 'combos': 3831, '41': 3832, 'crack': 3833, 'phenomenal': 3834, 'stretchiness': 3835, 'guy': 3836, 'leaner': 3837, 'pronounce': 3838, 'convenient': 3839, 'sleeping': 3840, '38d': 3841, 'painting': 3842, 'impact': 3843, 'qu': 3844, 'thankful': 3845, 'hanging': 3846, 'mature': 3847, 'dilemma': 3848, 'cherry': 3849, 'avail': 3850, 'considerably': 3851, 'unrolled': 3852, 'wayyy': 3853, 'elegantly': 3854, 'lemon': 3855, 'hoping': 3856, 'pix': 3857, 'palazzo': 3858, 'pulls': 3859, '60s': 3860, 'says': 3861, 'jumpers': 3862, 'umbrellas': 3863, 'pronounced': 3864, 'tankini': 3865, 'strongly': 3866, 'micro': 3867, 'darts': 3868, 'unroll': 3869, 'pleasing': 3870, 'results': 3871, 'reflect': 3872, 'grease': 3873, 'shipment': 3874, 'giddy': 3875, 'recieved': 3876, 'addict': 3877, 'ii': 3878, 'dozen': 3879, 'caramel': 3880, 'puffer': 3881, 'detach': 3882, 'framed': 3883, 'ch': 3884, 'information': 3885, 'delicately': 3886, 'comparable': 3887, 'corner': 3888, \"30's\": 3889, 'stack': 3890, 'tr': 3891, '103lbs': 3892, 'cure': 3893, 'race': 3894, 'unwanted': 3895, 'sapphire': 3896, 'impressive': 3897, 'unnatural': 3898, 'pilates': 3899, 'complementary': 3900, 'utility': 3901, 'crumple': 3902, 'francisco': 3903, 'loungers': 3904, 'tasteful': 3905, 'refine': 3906, 'firstly': 3907, 'multitude': 3908, 'emerson': 3909, 'quest': 3910, 'northern': 3911, 'discourage': 3912, 'halloween': 3913, 'studio': 3914, 'chubby': 3915, 'ended': 3916, 'deliciously': 3917, 'culotte': 3918, 'quote': 3919, 'abundance': 3920, 'lipstick': 3921, 'splash': 3922, 'seldom': 3923, 'unattractively': 3924, 'useless': 3925, 'pizzazz': 3926, 'converse': 3927, 'burlap': 3928, '170lbs': 3929, 'swap': 3930, 'garments': 3931, 'poofing': 3932, 'intact': 3933, 'receipt': 3934, 'premium': 3935, 'packaging': 3936, 'inappropriately': 3937, 'versa': 3938, 'minus': 3939, 'evident': 3940, 'waists': 3941, 'asymmetry': 3942, 'tiers': 3943, 'media': 3944, 'disappoints': 3945, 'hurry': 3946, \"sweater's\": 3947, 'balck': 3948, 'invest': 3949, 'dive': 3950, 'chicago': 3951, 'appliquã©': 3952, 'pu': 3953, 'interestingly': 3954, 'upgrade': 3955, 'shortest': 3956, 'how': 3957, 'juvenile': 3958, 'tier': 3959, 'wore': 3960, '3x': 3961, 'including': 3962, 'chevron': 3963, 'gaping': 3964, 'peeve': 3965, 'gala': 3966, 'each': 3967, 'trying': 3968, \"valentine's\": 3969, 'bucks': 3970, 'rope': 3971, 'compromise': 3972, 'loyal': 3973, 'cognac': 3974, 'ecru': 3975, '145lb': 3976, 'alittle': 3977, 'herself': 3978, 'request': 3979, 'bodies': 3980, 'descriptions': 3981, 'sage': 3982, 'pan': 3983, 'bee': 3984, 'abdomen': 3985, 'merino': 3986, 'repair': 3987, 'nowadays': 3988, 'runner': 3989, 'comical': 3990, 'leisure': 3991, 'gaudy': 3992, 'failure': 3993, 'mumu': 3994, 'rusty': 3995, 'leery': 3996, 'words': 3997, 'unzipped': 3998, 'bridesmaid': 3999, '112lbs': 4000, 'silvery': 4001, 'constant': 4002, 'ms': 4003, 'urge': 4004, 'downsides': 4005, 'museum': 4006, 'stuck': 4007, 'glittery': 4008, 'couldnt': 4009, 'student': 4010, 'lovers': 4011, 'max': 4012, 'coming': 4013, 'embarrass': 4014, 'wallpaper': 4015, 'visually': 4016, 'tree': 4017, 'frustrating': 4018, 'complicated': 4019, 'speck': 4020, 'pe': 4021, 'bomb': 4022, 'recommendations': 4023, \"3'\": 4024, \"'4\": 4025, 'wrinkling': 4026, 'luxuriously': 4027, 'strategically': 4028, 'misrepresent': 4029, '19': 4030, 'squat': 4031, 'tigh': 4032, 'overdress': 4033, 'player': 4034, 'states': 4035, 'washings': 4036, 'unimpressed': 4037, '24p': 4038, \"'red'\": 4039, 'grommets': 4040, 'club': 4041, \"'em\": 4042, 'thong': 4043, 'palm': 4044, 'rag': 4045, 'throwback': 4046, 'laundering': 4047, \"someone's\": 4048, 'frock': 4049, 'reccomend': 4050, 'mis': 4051, 'fa': 4052, '144': 4053, 'luxury': 4054, 'undies': 4055, 'safely': 4056, 'delivery': 4057, 'fond': 4058, '127lbs': 4059, 'sections': 4060, 'untied': 4061, 'muscles': 4062, 'solids': 4063, '117lbs': 4064, 'ove': 4065, 'occasional': 4066, 'buyers': 4067, 'centered': 4068, 'runway': 4069, 'selection': 4070, 'thr': 4071, 'speckle': 4072, 'wallet': 4073, 'antique': 4074, 'mama': 4075, 'sum': 4076, 'spaghetti': 4077, 'closures': 4078, 'social': 4079, 'road': 4080, 'fluke': 4081, 'peep': 4082, 'reasonably': 4083, 'corset': 4084, '23': 4085, 'magenta': 4086, 'crook': 4087, 'shout': 4088, 'hardest': 4089, 'suggests': 4090, 'kinds': 4091, 'wouldnt': 4092, 'hems': 4093, 'marrakech': 4094, '125lb': 4095, 'sunshine': 4096, 'direction': 4097, 'sorbet': 4098, 'moms': 4099, 'randomly': 4100, 'lucked': 4101, 'irregular': 4102, 'borrow': 4103, 'creep': 4104, 'presentation': 4105, 'lycra': 4106, 'member': 4107, 'bar': 4108, \"pj's\": 4109, 'wavy': 4110, 'stride': 4111, 'jackpot': 4112, 'regrets': 4113, 'elasticity': 4114, 'wearer': 4115, 'train': 4116, 'sanctuary': 4117, 'ags': 4118, 'crinkle': 4119, 'potatoes': 4120, 'strain': 4121, 'reluctant': 4122, 'yep': 4123, 'jade': 4124, 'fluctuate': 4125, 'burst': 4126, 'report': 4127, 'dc': 4128, '140lb': 4129, 'pleating': 4130, 'kitten': 4131, 'cancer': 4132, 'reds': 4133, 'criteria': 4134, 'roses': 4135, 'discomfort': 4136, \"men's\": 4137, '0petite': 4138, 'ruined': 4139, \"we're\": 4140, 'fluttery': 4141, 'latter': 4142, \"pilcro's\": 4143, 'approach': 4144, 'sip': 4145, 'tassel': 4146, 'situations': 4147, 'changes': 4148, 'sometime': 4149, 'critique': 4150, 'peel': 4151, '135lb': 4152, 'human': 4153, 'tartan': 4154, 'accessorized': 4155, 'tapered': 4156, \"levi's\": 4157, 'wedgie': 4158, 'hill': 4159, 'baggie': 4160, 'assure': 4161, \"it'\": 4162, 'positives': 4163, 'functionality': 4164, 'mediocre': 4165, 'striped': 4166, 'wrestle': 4167, 'mi': 4168, 'map': 4169, 'widely': 4170, 'misshapen': 4171, 'cutesy': 4172, 'adds': 4173, 'fortunate': 4174, 'upholstery': 4175, 'splotchy': 4176, 'contour': 4177, 'evenly': 4178, 'blades': 4179, 'gallery': 4180, 'levels': 4181, 'deceive': 4182, 'counter': 4183, 'beauties': 4184, 'tags': 4185, 'prima': 4186, 'cheek': 4187, 'galore': 4188, 'overpowering': 4189, 'coloration': 4190, 'downhill': 4191, 'remark': 4192, 'ab': 4193, 'cloud': 4194, 'truthfully': 4195, 'sundry': 4196, 'camis': 4197, 'drip': 4198, 'conditioning': 4199, 'ego': 4200, 'cents': 4201, 'british': 4202, 'slenderize': 4203, 'snuggle': 4204, 'mixed': 4205, 'foam': 4206, 'lighten': 4207, 'cloths': 4208, 'colorado': 4209, 'southeast': 4210, 'alaska': 4211, 'bedtime': 4212, 'towel': 4213, 'contortionist': 4214, '90s': 4215, 'organic': 4216, 'swishy': 4217, 'vee': 4218, 'any': 4219, 'envisioned': 4220, 'enter': 4221, 'rifle': 4222, 'oops': 4223, 'regrettably': 4224, 'bullet': 4225, 'teenage': 4226, 'his': 4227, 'dressing': 4228, 'altogether': 4229, 'handkerchief': 4230, 'garnet': 4231, 'miraculously': 4232, 'camo': 4233, 'span': 4234, 'given': 4235, 'steaming': 4236, 'craftmanship': 4237, 'pastels': 4238, 'chartreuse': 4239, 'dang': 4240, 'mile': 4241, 'brunette': 4242, 'law': 4243, 'substantially': 4244, 'petal': 4245, 'distort': 4246, 'overweight': 4247, 'toddler': 4248, 'stable': 4249, 'invite': 4250, 'england': 4251, 'heed': 4252, 'tiniest': 4253, 've': 4254, 'greatly': 4255, 'circulation': 4256, 'gaps': 4257, 'spice': 4258, 'mazing': 4259, 'rep': 4260, 'marigold': 4261, 'skew': 4262, 'wea': 4263, 'herringbone': 4264, 'apt': 4265, 'music': 4266, 'recognize': 4267, 'whisper': 4268, 'frills': 4269, 'blossom': 4270, 'heals': 4271, 'silicone': 4272, 'grip': 4273, 'purchas': 4274, 'mountain': 4275, 'smite': 4276, 'pizazz': 4277, 'derby': 4278, 'dish': 4279, 'straw': 4280, 'mr': 4281, 'crisscross': 4282, 'dismay': 4283, 'lab': 4284, 'everybody': 4285, 'mass': 4286, 'battle': 4287, 'unraveling': 4288, 'stretching': 4289, 'mih': 4290, '148': 4291, 'cocktails': 4292, 'dropped': 4293, 'hooray': 4294, 'error': 4295, \"others'\": 4296, 'woul': 4297, 'cake': 4298, 'exterior': 4299, 'obnoxious': 4300, 'showy': 4301, '56': 4302, 'gathered': 4303, 'humongous': 4304, '146': 4305, 'atlanta': 4306, \"5'3''\": 4307, 'decently': 4308, 'soak': 4309, 'coppery': 4310, 'workable': 4311, 'video': 4312, 'couch': 4313, 'rocker': 4314, 'hoxton': 4315, 'desert': 4316, 'contact': 4317, 'fairisle': 4318, 'intentionally': 4319, 'brightness': 4320, 'log': 4321, 'girlfriends': 4322, 'steer': 4323, 'representative': 4324, 'burnt': 4325, 'hefty': 4326, 'roominess': 4327, 'bridesmaids': 4328, 'ombre': 4329, 'vinegar': 4330, 'hollywood': 4331, 'madly': 4332, 'lengthwise': 4333, 'tweaking': 4334, 'sweetest': 4335, 'heartbroken': 4336, 'checker': 4337, 'stuffy': 4338, 'working': 4339, '175': 4340, 'vice': 4341, 'dimple': 4342, 'confidence': 4343, 'childish': 4344, 'po': 4345, 'imperfect': 4346, 'eptite': 4347, 'moderately': 4348, 'professionally': 4349, 'rougher': 4350, 'nine': 4351, 'regulars': 4352, \"maeve's\": 4353, 'bloom': 4354, 'aspects': 4355, 'rules': 4356, 'fourth': 4357, 'vey': 4358, 'pa': 4359, 'worlds': 4360, 'leaf': 4361, 'ver': 4362, 'accomodate': 4363, 'handwash': 4364, 'sotre': 4365, 'rail': 4366, 'satiny': 4367, 'shabby': 4368, 'birkenstocks': 4369, 'ada': 4370, 'verdict': 4371, 'ahd': 4372, \"top's\": 4373, 'thinness': 4374, 'comf': 4375, 'whiskering': 4376, 'broaden': 4377, 'animals': 4378, 'happening': 4379, 'se': 4380, 'further': 4381, 'smoothly': 4382, 'factory': 4383, 'cry': 4384, 'mommy': 4385, 'shirr': 4386, 'com': 4387, \"manufacturer's\": 4388, 'withstand': 4389, '78': 4390, 'strangest': 4391, 'story': 4392, 'earth': 4393, 'plush': 4394, 'ribbons': 4395, 'wont': 4396, 'beforehand': 4397, 'coz': 4398, 'mossy': 4399, 'lasts': 4400, 'inbetween': 4401, 'yellowy': 4402, 'tick': 4403, 'slant': 4404, 'wrote': 4405, 'info': 4406, 'alternate': 4407, 'boyish': 4408, 'straighten': 4409, 'role': 4410, 'fluff': 4411, 'trap': 4412, 'incorrectly': 4413, 'loser': 4414, 'fraction': 4415, 'supply': 4416, 'colorways': 4417, 'longest': 4418, 'gladiator': 4419, '185': 4420, 'apricot': 4421, 'caribbean': 4422, '95lbs': 4423, 'wou': 4424, 'instance': 4425, 'recall': 4426, 'iridescent': 4427, 'lengthy': 4428, 'socal': 4429, 'boxiness': 4430, 'festival': 4431, 'moon': 4432, 'shapewear': 4433, '97': 4434, '36g': 4435, \"fit's\": 4436, 'cancel': 4437, \"season's\": 4438, 'glamour': 4439, 'join': 4440, \"fabric's\": 4441, 'eggplant': 4442, 'pirate': 4443, 'couture': 4444, 'loss': 4445, 'bones': 4446, 'betty': 4447, 'binding': 4448, 'swimmer': 4449, '158': 4450, 'novelty': 4451, 'popsicles': 4452, 'neutrals': 4453, 'tomato': 4454, 'redo': 4455, 'arrivals': 4456, 'lights': 4457, 'deeply': 4458, 'basketweave': 4459, 'sufficient': 4460, 'sided': 4461, 'hues': 4462, 'female': 4463, 'beg': 4464, 'adjustments': 4465, 'longevity': 4466, 'counts': 4467, 'address': 4468, 'reconsider': 4469, 'anorak': 4470, 'mall': 4471, 'yr': 4472, 'buttonhole': 4473, 'hemming': 4474, 'incorporate': 4475, 'continuous': 4476, 'int': 4477, 'discreet': 4478, 'flawless': 4479, 'sacklike': 4480, 'sequence': 4481, 'surround': 4482, 'brass': 4483, 'mona': 4484, 'easiest': 4485, 'hurt': 4486, 'actuality': 4487, 'breastfeeding': 4488, 'akemi': 4489, 'kin': 4490, 'cleverly': 4491, 'windy': 4492, 'grace': 4493, 'arrows': 4494, 'lifetime': 4495, 'card': 4496, 'garner': 4497, 'tegan': 4498, 'lola': 4499, '143': 4500, 'doing': 4501, 'maize': 4502, 'stroll': 4503, 'twin': 4504, 'hides': 4505, 'excessively': 4506, 'bermuda': 4507, 'striping': 4508, 'thickish': 4509, 'scale': 4510, 'glorious': 4511, 'stranger': 4512, 'bac': 4513, 'tearing': 4514, 'curvey': 4515, 'preserve': 4516, 'ideas': 4517, 'trash': 4518, 'manufacturer': 4519, 'stones': 4520, 'printed': 4521, 'hotel': 4522, \"grandma's\": 4523, 'tablecloth': 4524, 'island': 4525, 'tolerate': 4526, 'motifs': 4527, 'miracle': 4528, 'refer': 4529, 'regretfully': 4530, 'leggins': 4531, 'bun': 4532, 'portray': 4533, 'choke': 4534, 'goldenrod': 4535, '17': 4536, 'doesn': 4537, 'htem': 4538, 'underslip': 4539, 'gathering': 4540, 'weekly': 4541, 'backordered': 4542, \"5'5'\": 4543, 'lambswool': 4544, 'december': 4545, 'torsoed': 4546, 'representation': 4547, 'sans': 4548, 'physique': 4549, 'intent': 4550, 'appliquã©s': 4551, 'irish': 4552, 'chair': 4553, 'tolerable': 4554, 'dead': 4555, 'yourself': 4556, 'unflatteringly': 4557, 'diff': 4558, 'sweetheart': 4559, 'pointy': 4560, 'varies': 4561, 'catcher': 4562, 'br': 4563, '22': 4564, 'miami': 4565, 'fraying': 4566, 'ecstatic': 4567, 'stamp': 4568, 'faster': 4569, 'mottle': 4570, 'citizen': 4571, 'guys': 4572, 'birds': 4573, \"girl's\": 4574, 'ironed': 4575, 'gladly': 4576, 'nail': 4577, 'squash': 4578, 'opinions': 4579, 'honolulu': 4580, 'cuffed': 4581, 'mixture': 4582, 'longish': 4583, 'll': 4584, 'pinks': 4585, 'ar': 4586, 'braid': 4587, 'simplistic': 4588, 'rustic': 4589, 'bam': 4590, 'rob': 4591, 'comfrotable': 4592, 'mater': 4593, 'meaty': 4594, 'roughly': 4595, 'tentlike': 4596, 'earthy': 4597, 'lanky': 4598, 'arrives': 4599, 'popsicle': 4600, 'aesthetics': 4601, 'hospital': 4602, '300': 4603, 'drool': 4604, 'sing': 4605, '116lbs': 4606, 'lovelier': 4607, 'hall': 4608, 'cupro': 4609, 'horses': 4610, 'softly': 4611, 'professor': 4612, 'outdoors': 4613, 'integrity': 4614, 'narrowest': 4615, 'adequately': 4616, '4ft': 4617, 'cowlneck': 4618, 'freely': 4619, 'obscene': 4620, 'err': 4621, 'linebacker': 4622, 'heaviness': 4623, 'everytime': 4624, 'crave': 4625, 'norm': 4626, \"5'9'\": 4627, 'sweatpants': 4628, \"5'9''\": 4629, '29s': 4630, 'refresh': 4631, 'limp': 4632, 'uk': 4633, 'sandles': 4634, 'faulty': 4635, '113lbs': 4636, 'positively': 4637, 'ticket': 4638, 'feb': 4639, 'lar': 4640, 'blocking': 4641, 'thinnest': 4642, 'enlarge': 4643, 'sublime': 4644, 'evanthe': 4645, 'humanity': 4646, 'closest': 4647, 'gear': 4648, 'thermal': 4649, 'fabri': 4650, 'wire': 4651, 'increase': 4652, 'pulled': 4653, 'shake': 4654, 'finished': 4655, 'nad': 4656, 'lifeless': 4657, 'snake': 4658, 'pendant': 4659, 'underside': 4660, 'reported': 4661, 'bling': 4662, 'breathes': 4663, 'repaired': 4664, 'flabby': 4665, 'funeral': 4666, 'alexandria': 4667, 'femine': 4668, 'phase': 4669, 'slippery': 4670, 'individuals': 4671, 'deciding': 4672, 'pilazzo': 4673, 'jazz': 4674, 'bootcut': 4675, 'zigzag': 4676, 'chose': 4677, 'parachute': 4678, 'jimmy': 4679, 'agreed': 4680, 'pur': 4681, 'nightie': 4682, 'verify': 4683, 'knew': 4684, 'physically': 4685, 'ochre': 4686, 'umph': 4687, '57': 4688, 'mildly': 4689, 'hunchback': 4690, 'moreover': 4691, 'hype': 4692, 'panels': 4693, 'oompa': 4694, 'loompa': 4695, 'shoul': 4696, 'inadequate': 4697, 'fluctuations': 4698, 'horrid': 4699, 'protection': 4700, 'sti': 4701, 'neath': 4702, 'points': 4703, 'comfiest': 4704, 'holds': 4705, 'masterpiece': 4706, 'focal': 4707, 'q': 4708, 'hurray': 4709, 'crewneck': 4710, 'rump': 4711, 'chain': 4712, \"8's\": 4713, \"2''\": 4714, 'lake': 4715, 'cornflower': 4716, 'reserve': 4717, 'severe': 4718, 'skier': 4719, 'immensely': 4720, 'remarkable': 4721, 'spent': 4722, 'quintessential': 4723, 'slice': 4724, 'massively': 4725, 'sooner': 4726, 'monday': 4727, 'handmade': 4728, 'mentioning': 4729, 'depicted': 4730, 'sailor': 4731, 'discolor': 4732, 'assumption': 4733, 'via': 4734, 'hotter': 4735, 'petties': 4736, 'bralettes': 4737, 'bumpy': 4738, 'downton': 4739, \"everyone's\": 4740, 'column': 4741, 'sticker': 4742, 'tru': 4743, 'groom': 4744, 'implies': 4745, 'statuesque': 4746, \"lot's\": 4747, 'prett': 4748, 'faint': 4749, 'underlie': 4750, \"i'\": 4751, 'neatly': 4752, 'seattle': 4753, 'hybrid': 4754, 'catchy': 4755, 'grunge': 4756, 'multicolor': 4757, 'thinnish': 4758, 'embrace': 4759, '10lbs': 4760, 'bulkiness': 4761, 'optional': 4762, 'cellophane': 4763, 'wispy': 4764, 'terra': 4765, 'laughed': 4766, 'barrel': 4767, 'checkout': 4768, \"5'0''\": 4769, 'delicacy': 4770, 'relegate': 4771, '32e': 4772, 'classics': 4773, 'waver': 4774, 'smudge': 4775, 'redhead': 4776, 'dense': 4777, 'drawbacks': 4778, 'praise': 4779, 'classically': 4780, 'restricted': 4781, 'sequined': 4782, 'opera': 4783, 'stiching': 4784, 'breasted': 4785, 'ne': 4786, 'carries': 4787, 'ink': 4788, 'strictly': 4789, 'absolutley': 4790, 'ons': 4791, 'midnight': 4792, '30p': 4793, 'jog': 4794, 'allison': 4795, 'inform': 4796, 'truer': 4797, 'gut': 4798, 'yogis': 4799, 'involve': 4800, 'salesgirl': 4801, 'cowboys': 4802, 'proportionally': 4803, 'detial': 4804, 'bundle': 4805, 'cas': 4806, 'blotchy': 4807, 'classical': 4808, 'slips': 4809, 'doubtful': 4810, 'perspective': 4811, 'lesson': 4812, 'diego': 4813, 'recover': 4814, 'defined': 4815, 'ladder': 4816, 'cupcake': 4817, 'sculpt': 4818, 'untie': 4819, 'varied': 4820, 'outweigh': 4821, 'sexier': 4822, 'starch': 4823, 'activities': 4824, '250': 4825, 'muggy': 4826, 'convert': 4827, 'slow': 4828, 'experiment': 4829, 'laura': 4830, 'unwieldy': 4831, 'trusty': 4832, 'pleated': 4833, 'amd': 4834, 'clog': 4835, 'mend': 4836, 'likewise': 4837, 'eagerly': 4838, 'retuning': 4839, 'residual': 4840, 'cow': 4841, 'milk': 4842, \"'swing'\": 4843, 'kn': 4844, 'swings': 4845, 'laughable': 4846, 'grosgrain': 4847, 'anticipation': 4848, 'utterly': 4849, 'trial': 4850, 'girlie': 4851, '5in': 4852, 'upright': 4853, 'sl': 4854, 'richly': 4855, 'sateen': 4856, 'hoop': 4857, 'faves': 4858, 'wildest': 4859, 'freezing': 4860, 'airport': 4861, 'camisol': 4862, 'stark': 4863, 'colo': 4864, 'sewing': 4865, 'oop': 4866, 'atleast': 4867, 'fabr': 4868, \"1970's\": 4869, 'whitish': 4870, 'uncommon': 4871, 'making': 4872, 'blood': 4873, 'pen': 4874, 'aa': 4875, 'numbers': 4876, 'emboss': 4877, 'modify': 4878, 'eyelash': 4879, 'shipped': 4880, 'strings': 4881, 'proportioned': 4882, 'sites': 4883, 'reminds': 4884, 'feast': 4885, 'stray': 4886, 'posture': 4887, 'hemlines': 4888, 'merely': 4889, '51': 4890, 'mullet': 4891, 'flattery': 4892, 'nye': 4893, 'dragging': 4894, 'frequent': 4895, 'listened': 4896, 'jus': 4897, 'coziness': 4898, 'pouf': 4899, 'notes': 4900, \"6'2\": 4901, 'cosy': 4902, 'flab': 4903, 'dollar': 4904, 'survive': 4905, 'negatives': 4906, 'cleaners': 4907, 'method': 4908, 'flag': 4909, 'afterward': 4910, 'buttoning': 4911, 'disturb': 4912, 'starters': 4913, 'bog': 4914, 'whirl': 4915, \"charlie's\": 4916, 'gappy': 4917, 'food': 4918, 'stitches': 4919, 'frustration': 4920, 'ke': 4921, 'rug': 4922, 'nightmare': 4923, 'dobby': 4924, 'owe': 4925, 'dad': 4926, 'concealed': 4927, 'posterior': 4928, 'walked': 4929, 'tacked': 4930, 'cuts': 4931, 'natured': 4932, 'versital': 4933, 'substantive': 4934, 'adorbs': 4935, 'biggie': 4936, 'nod': 4937, 'haw': 4938, 'da': 4939, 'buyi': 4940, '38dd': 4941, 'covering': 4942, 'styled': 4943, '1920s': 4944, 'heads': 4945, 'puffiness': 4946, 'delay': 4947, 'mobility': 4948, 'barefoot': 4949, 'unbelt': 4950, 'ratty': 4951, 'paranoid': 4952, 'cave': 4953, 'middl': 4954, 'getter': 4955, 'palate': 4956, 'upsize': 4957, 'mission': 4958, 'dime': 4959, 'piling': 4960, 'desperate': 4961, 'frustrated': 4962, 'strand': 4963, 'summ': 4964, 'hottest': 4965, 'coal': 4966, 'cutie': 4967, 'largely': 4968, 'paquerette': 4969, 'heavyweight': 4970, 'laid': 4971, '0r': 4972, 'skirted': 4973, 'updated': 4974, 'drinks': 4975, 'afterwards': 4976, 'belts': 4977, \"haven't\": 4978, 'november': 4979, 'arrange': 4980, 'grecian': 4981, 'knitwear': 4982, 'blueish': 4983, 'hose': 4984, 'pinky': 4985, 'gr': 4986, 'orderd': 4987, \"brother's\": 4988, 'artist': 4989, '150lb': 4990, 'deceptive': 4991, 'shorties': 4992, 'bbq': 4993, 'alike': 4994, 'sudden': 4995, '26s': 4996, 'midwest': 4997, 'guest': 4998, 'definately': 4999, 'levis': 5000, 'champagne': 5001, 'onesie': 5002, 'springtime': 5003, 'gill': 5004, '36h': 5005, '65': 5006, 'batwing': 5007, 'annoyed': 5008, 'wais': 5009, 'patience': 5010, 'yucky': 5011, 'dirt': 5012, '13': 5013, '110lb': 5014, 'saleswoman': 5015, 'twins': 5016, 'sideways': 5017, '111': 5018, 'tattoo': 5019, 'choking': 5020, 'folk': 5021, 'basis': 5022, 'keds': 5023, 'reflection': 5024, 'anth': 5025, 'nouveau': 5026, 'spectrum': 5027, 'overnight': 5028, \"'s'\": 5029, 'postcard': 5030, 'cats': 5031, 'bicep': 5032, 'symmetric': 5033, 'symmetry': 5034, 'awfully': 5035, 'imagination': 5036, 'celebration': 5037, \"32d's\": 5038, 'opened': 5039, 'kicks': 5040, 'missoni': 5041, 'security': 5042, \"5''\": 5043, 'seater': 5044, 'poodle': 5045, 'als': 5046, 'largish': 5047, 'cash': 5048, 'postmark': 5049, 'successfully': 5050, 'bingo': 5051, 'pads': 5052, 'gypsy': 5053, 'heirloom': 5054, \"dress'\": 5055, 'hipsters': 5056, 'nylons': 5057, 'girlfriend': 5058, 'grandmother': 5059, 'guide': 5060, '37ish': 5061, 'echo': 5062, 'starchy': 5063, 'er': 5064, 'chop': 5065, 'ripple': 5066, 'suffer': 5067, 'having': 5068, 'nape': 5069, 'textiles': 5070, 'interpretation': 5071, 'sturdier': 5072, 'infinity': 5073, 'whites': 5074, 'thou': 5075, 'donate': 5076, \"jean's\": 5077, 'diameter': 5078, 'chunk': 5079, 'sienna': 5080, 'derriã¨re': 5081, 'insult': 5082, 'seamlessly': 5083, 'fatal': 5084, 'pilcrow': 5085, 'xtra': 5086, 'hanky': 5087, 'throu': 5088, 'wri': 5089, 'lime': 5090, 'exclusively': 5091, 'chanel': 5092, 'nto': 5093, 'likes': 5094, 'motorcycle': 5095, 'stilts': 5096, 'tutu': 5097, 'pillowcase': 5098, 'horrify': 5099, 'chemicals': 5100, 'squishy': 5101, 'dotted': 5102, 'sunglasses': 5103, 'xxsmall': 5104, 'flannels': 5105, 'snapped': 5106, 'we': 5107, 'thereby': 5108, 'scout': 5109, 'source': 5110, 'styl': 5111, 'ends': 5112, 'teens': 5113, 'taking': 5114, 'extraordinary': 5115, 'nab': 5116, 'sin': 5117, 'sunlight': 5118, 'camera': 5119, 'alley': 5120, 'imply': 5121, 'anther': 5122, 'incomplete': 5123, 'smallish': 5124, \"today's\": 5125, 'petticoat': 5126, 'matches': 5127, 'tastefully': 5128, 'ia': 5129, 'pl': 5130, 'minnesota': 5131, 'interview': 5132, 'worthwhile': 5133, 'kneecap': 5134, 'rendition': 5135, 'kate': 5136, 'authentic': 5137, '124lbs': 5138, 'coworkers': 5139, \"won't\": 5140, 'credit': 5141, 'relation': 5142, 'preferred': 5143, 'proceed': 5144, 'carissima': 5145, 'freshly': 5146, 'opportunities': 5147, 'accompany': 5148, 'mocha': 5149, 'laces': 5150, 'crafty': 5151, 'replenish': 5152, 'swimming': 5153, 'refreshing': 5154, 'nipple': 5155, 'pie': 5156, 'belle': 5157, \"child's\": 5158, 'woodland': 5159, 'stronger': 5160, 'transport': 5161, \"summer's\": 5162, 'crushed': 5163, 'edging': 5164, 'yank': 5165, 'comb': 5166, 'created': 5167, 'trainers': 5168, 'ludicrous': 5169, 'categorize': 5170, 'farrah': 5171, 'scissors': 5172, 'hmmm': 5173, 'iffy': 5174, 'wraps': 5175, 'pilly': 5176, 'patten': 5177, 'xls': 5178, 'feminie': 5179, 'loafers': 5180, 'whilst': 5181, 'tu': 5182, 'accessorizing': 5183, 'skit': 5184, 'absurd': 5185, 'shee': 5186, 'balloons': 5187, 'midst': 5188, 'bunching': 5189, 'devastate': 5190, 'god': 5191, '109': 5192, 'percentage': 5193, \"son's\": 5194, 'italian': 5195, 'history': 5196, 'confess': 5197, 'swear': 5198, 'caveats': 5199, 'snappy': 5200, 'juxtaposition': 5201, 'tapestry': 5202, 'matching': 5203, 'tule': 5204, 'shaping': 5205, 'oth': 5206, 'difficulty': 5207, 'knows': 5208, 'midline': 5209, 'grass': 5210, '146lbs': 5211, \"5'3ish\": 5212, 'dre': 5213, 'yrs': 5214, 'script': 5215, 'diaper': 5216, 'risky': 5217, 'adjusted': 5218, 'retailerpolgie': 5219, 'ruffly': 5220, 'guarantee': 5221, 'cheesecloth': 5222, 'greek': 5223, 'voom': 5224, 'outward': 5225, 'purposely': 5226, 'seea': 5227, '49': 5228, 'tulip': 5229, 'oomph': 5230, 'chuckle': 5231, '66': 5232, 'waaaay': 5233, 'verge': 5234, 'fewer': 5235, 'polo': 5236, 'popover': 5237, 'scrubs': 5238, 'clinging': 5239, 'starkly': 5240, 'exacerbate': 5241, 'tame': 5242, 'circumference': 5243, '144lb': 5244, 'secured': 5245, 'maaji': 5246, 'cheekier': 5247, 'stitched': 5248, 'powder': 5249, 'pins': 5250, 'classier': 5251, 'triple': 5252, 'vans': 5253, 'calia': 5254, 'ed': 5255, 'ans': 5256, 'thoughtfully': 5257, 'formfitting': 5258, 'preggers': 5259, 'challenged': 5260, 'waves': 5261, 'pepto': 5262, 'fingernails': 5263, 'balloony': 5264, 'swell': 5265, 'apparel': 5266, 'innocent': 5267, 'access': 5268, 'anatomy': 5269, 'theses': 5270, \"xl's\": 5271, 'snowy': 5272, 'target': 5273, 'tedious': 5274, 'slash': 5275, 'downs': 5276, 'spruce': 5277, 'sneak': 5278, 'confusing': 5279, 'luncheon': 5280, 'maillot': 5281, 'internet': 5282, 'remedied': 5283, 'sofa': 5284, \"1'\": 5285, 'indicates': 5286, 'attachment': 5287, 'p0': 5288, 'gre': 5289, 'coworker': 5290, 'toosh': 5291, 'tolerance': 5292, 'shir': 5293, 'tenty': 5294, 'click': 5295, 'timely': 5296, 'ranna': 5297, 'amadi': 5298, 'ur': 5299, 'wowed': 5300, 'appliquã©d': 5301, 'affair': 5302, 'sle': 5303, 'wary': 5304, 'comfotable': 5305, 'boyfriends': 5306, 'markdown': 5307, 'willowy': 5308, 'slouchier': 5309, 'hipped': 5310, 'marshmallow': 5311, 'moves': 5312, 'clo': 5313, '75': 5314, 'airplanes': 5315, 'nick': 5316, 'jackie': 5317, 'relationship': 5318, 'candy': 5319, 'nearby': 5320, 'blond': 5321, 'fussing': 5322, 'edgier': 5323, 'boston': 5324, 'dryel': 5325, 'eclectic': 5326, 'arty': 5327, 'variable': 5328, '129lbs': 5329, 'travels': 5330, 'ply': 5331, 'underskirt': 5332, 'accidental': 5333, 'adult': 5334, \"mom's\": 5335, 'puzzle': 5336, 'inconvenience': 5337, 'toy': 5338, 'forming': 5339, 'um': 5340, 'ts': 5341, 'chameleon': 5342, 'stains': 5343, 'project': 5344, 'clings': 5345, \"1940's\": 5346, 'kentucky': 5347, 'rosettes': 5348, 'quibble': 5349, 'foxy': 5350, 'april': 5351, 'respect': 5352, 'seasonless': 5353, \"5'11''\": 5354, 'snd': 5355, 'rent': 5356, 'frill': 5357, 'rocket': 5358, 'deceptively': 5359, 'blk': 5360, 'cinched': 5361, 'striations': 5362, 'dresse': 5363, 'saddle': 5364, 'camp': 5365, 'reunion': 5366, 'honor': 5367, 'mellow': 5368, 'footwear': 5369, 'dept': 5370, 'choices': 5371, 'fasteners': 5372, 'offering': 5373, 'becau': 5374, 'irresistible': 5375, 'liquid': 5376, 'tw': 5377, 'pity': 5378, 'dynamite': 5379, 'spy': 5380, 'smoother': 5381, 'camisoles': 5382, 'separately': 5383, 'glide': 5384, 'examine': 5385, 'bus': 5386, 'paired': 5387, 'majorly': 5388, 'spicy': 5389, 'speed': 5390, 'chase': 5391, 'compliant': 5392, 'american': 5393, 'collage': 5394, 'skintone': 5395, 'bodycon': 5396, 'dozens': 5397, 'award': 5398, 'lighting': 5399, 'necklines': 5400, 'perfecto': 5401, \"reviewers'\": 5402, 'picks': 5403, 'gun': 5404, 'overboard': 5405, 'venture': 5406, 'embroiding': 5407, 'survivor': 5408, \"time's\": 5409, 'guilty': 5410, 'bank': 5411, 'finely': 5412, 'maximize': 5413, 'intended': 5414, 'togethers': 5415, 'whi': 5416, 'incorrect': 5417, 'horrendous': 5418, 'diminish': 5419, 'looseness': 5420, 'cities': 5421, 'collarbone': 5422, 'biased': 5423, 'isn': 5424, 'periods': 5425, 'unfold': 5426, 'locate': 5427, 'sorta': 5428, 'unshapely': 5429, '31p': 5430, 'redeem': 5431, 'functions': 5432, 'pane': 5433, '2x': 5434, 'nut': 5435, 'amterial': 5436, 'extras': 5437, 'genius': 5438, 'waiting': 5439, 'xmas': 5440, 'concur': 5441, 'tickle': 5442, 'excitement': 5443, 'woven': 5444, 'pea': 5445, 'revealed': 5446, 'lokka': 5447, 'savvy': 5448, 'photographs': 5449, 'becuase': 5450, 'cafe': 5451, 'doily': 5452, 'tropical': 5453, 'sparkles': 5454, 'recommen': 5455, 'deodorant': 5456, 'pettie': 5457, 'leap': 5458, 'subpar': 5459, 'embody': 5460, 'rings': 5461, 'mockneck': 5462, 'recomend': 5463, 'spread': 5464, 'detect': 5465, 'wayyyy': 5466, 'cargos': 5467, 'accept': 5468, 'gaucho': 5469, 'employees': 5470, \"5'8'\": 5471, 'unfamiliar': 5472, 'distracting': 5473, 'tickled': 5474, 'funnel': 5475, 'peekaboo': 5476, \"5'10''\": 5477, 'sultry': 5478, 'mar': 5479, '2016': 5480, 'decade': 5481, \"28's\": 5482, 'noce': 5483, 'unfort': 5484, 'rosey': 5485, 'glue': 5486, 'dahlia': 5487, 'unfortunatly': 5488, 'interested': 5489, 'hahaha': 5490, 'momma': 5491, 'readjust': 5492, 'ran': 5493, 'sass': 5494, 'moved': 5495, 'formality': 5496, 'cigar': 5497, \"out'\": 5498, 'anti': 5499, 'mash': 5500, 'shred': 5501, 'graduate': 5502, 'fullest': 5503, 'power': 5504, 'sorely': 5505, 'solo': 5506, 'improved': 5507, 'twisted': 5508, 'cushion': 5509, 'retu': 5510, 'lopsided': 5511, 'extensively': 5512, 'resolve': 5513, 'harem': 5514, 'students': 5515, 'stunningly': 5516, 'fro': 5517, 'uncuffed': 5518, 'submit': 5519, 'faltering': 5520, 'being': 5521, 'sour': 5522, 'ye': 5523, 'elysian': 5524, 'childhood': 5525, 'mexican': 5526, 'scissor': 5527, 'grommet': 5528, 'jelly': 5529, 'tex': 5530, 'inspiration': 5531, 'pasties': 5532, 'greater': 5533, 'shortie': 5534, 'charleston': 5535, 'sc': 5536, 'henleys': 5537, 'subsequently': 5538, 'exaggerated': 5539, 'selves': 5540, 'increasingly': 5541, 'otk': 5542, 'petitte': 5543, 'loke': 5544, 'dangerous': 5545, 'scotty': 5546, 'unseamed': 5547, 'flirt': 5548, 'persimmon': 5549, 'piping': 5550, 'atrocious': 5551, 'war': 5552, 'cast': 5553, 'sailboats': 5554, 'departure': 5555, 'chub': 5556, 'motivate': 5557, 'bells': 5558, 'costumer': 5559, 'ho': 5560, 'horror': 5561, 'packaged': 5562, 'lawn': 5563, \"up'\": 5564, 'eastern': 5565, 'hallelujah': 5566, 'repertoire': 5567, 'wid': 5568, 'confirmed': 5569, 'grea': 5570, 'bof': 5571, 'powering': 5572, 'bands': 5573, \"3''\": 5574, 'plasticy': 5575, 'rubber': 5576, 'trek': 5577, 'villain': 5578, \"4'10\": 5579, 'sailboat': 5580, 'vein': 5581, 'milder': 5582, 'meat': 5583, '5lbs': 5584, 'rosy': 5585, 'skiers': 5586, 'slop': 5587, 'listed': 5588, 'characteristic': 5589, 'unpleasant': 5590, 'supremely': 5591, \"5'4'\": 5592, 'impossibly': 5593, 'layout': 5594, 'ambiguous': 5595, 'necessity': 5596, 'hooked': 5597, 'distraction': 5598, 'reno': 5599, 'succumb': 5600, '107lb': 5601, 'john': 5602, '16s': 5603, 'bot': 5604, '108lbs': 5605, 'assistant': 5606, 'reoccurring': 5607, 'sway': 5608, 'bec': 5609, 'predominant': 5610, 'looooove': 5611, 'murder': 5612, 'abbey': 5613, 'sisters': 5614, 'steps': 5615, 'slubby': 5616, 'duper': 5617, 'cushy': 5618, 'yesteryear': 5619, 'sofisticated': 5620, \"31's\": 5621, 'ahoy': 5622, 'reshape': 5623, 'uppe': 5624, 'depends': 5625, 'tub': 5626, 'scandalous': 5627, 'unco': 5628, 'internal': 5629, 'preggo': 5630, 'decadent': 5631, 'boyshort': 5632, 'inviting': 5633, 'aren': 5634, 'bff': 5635, 'abso': 5636, 'painfully': 5637, 'bloat': 5638, 'downplay': 5639, 'restrain': 5640, 'pardon': 5641, 'record': 5642, 'abs': 5643, 'impulsively': 5644, 'exaggerating': 5645, 'unruly': 5646, 'snowflake': 5647, 'bottons': 5648, 'cotta': 5649, 'experienced': 5650, 'furry': 5651, 'dim': 5652, 'wishlist': 5653, 'swagger': 5654, 'wowza': 5655, 'popcorn': 5656, 'unstitched': 5657, 'severely': 5658, 'polkadots': 5659, \"pullover's\": 5660, 'tx': 5661, 'relate': 5662, '228': 5663, 'spetite': 5664, 'duller': 5665, 'xxxl': 5666, 'noise': 5667, 'cusp': 5668, 'oranges': 5669, 'restrictions': 5670, 'frump': 5671, 'ikat': 5672, 'patches': 5673, 'instruct': 5674, 'views': 5675, '155lb': 5676, 'strawberry': 5677, 'shortcake': 5678, 'lats': 5679, 'coul': 5680, 'dragonflies': 5681, 'dangly': 5682, 'protrusion': 5683, 'mode': 5684, 'village': 5685, 'nearest': 5686, 'app': 5687, 'disappeared': 5688, 'wether': 5689, 'envelop': 5690, 'appal': 5691, 'vinyasa': 5692, 'mosaic': 5693, 'ranch': 5694, 'cacti': 5695, 'inexplicably': 5696, 'parka': 5697, 'nighty': 5698, 'pkg': 5699, 'cu': 5700, 'tit': 5701, '38in': 5702, 'ant': 5703, 'skorts': 5704, 'tennies': 5705, 'seaside': 5706, 'socially': 5707, 'und': 5708, 'pas': 5709, 'charlies': 5710, 'oversight': 5711, 'perfe': 5712, 'filmy': 5713, 'fla': 5714, 'secret': 5715, 'input': 5716, 'finer': 5717, 'som': 5718, 'thes': 5719, '139': 5720, 'pds': 5721, 'dimensions': 5722, 'sur': 5723, 'looooooove': 5724, 'taupey': 5725, 'rediculously': 5726, 'bustle': 5727, 'underneat': 5728, 'packable': 5729, 'foxes': 5730, 'crafted': 5731, 'flatte': 5732, 'swoon': 5733, 'icky': 5734, 'locations': 5735, 'highwaisted': 5736, 'reader': 5737, 'team': 5738, 'chillier': 5739, 'provides': 5740, 'utter': 5741, 'bel': 5742, \"who've\": 5743, 'tightest': 5744, 'sumptuous': 5745, 'whisk': 5746, 'worried': 5747, 'exquisitely': 5748, 'ordere': 5749, 'studs': 5750, 'ashley': 5751, 'dissappointed': 5752, 'bloused': 5753, 'originality': 5754, 'reinforced': 5755, 'lightest': 5756, 'llama': 5757, \"ag's\": 5758, 'instinct': 5759, 'master': 5760, 'litt': 5761, 'flapper': 5762, 'shou': 5763, 'perhap': 5764, 'preface': 5765, 'bachelorette': 5766, 'constrictive': 5767, 'sleepy': 5768, 'upbeat': 5769, 'amazon': 5770, 'existent': 5771, 'mat': 5772, 'solidly': 5773, 'host': 5774, 'sins': 5775, 'unrealistic': 5776, 'los': 5777, 'angeles': 5778, 'lithe': 5779, 'charity': 5780, 'mattress': 5781, 'orangy': 5782, 'kedia': 5783, 'delaney': 5784, 'wring': 5785, 'shore': 5786, 'desi': 5787, 'waited': 5788, 'edginess': 5789, 'gauzey': 5790, 'yellowish': 5791, 'mismarked': 5792, 'lucious': 5793, 'your': 5794, 'convey': 5795, 'slee': 5796, 'rona': 5797, 'clutch': 5798, 'sham': 5799, 'keepers': 5800, 'blank': 5801, \"nephew's\": 5802, 'breton': 5803, 'rhinestone': 5804, 'rugged': 5805, 'hh': 5806, 'excitedly': 5807, '34dddd': 5808, 'isle': 5809, 'discern': 5810, 'muslin': 5811, 'brow': 5812, 'broken': 5813, 'raised': 5814, 'weirdest': 5815, 'rubbery': 5816, 'caved': 5817, '40d': 5818, 'xxl': 5819, 'bitter': 5820, 'ruler': 5821, 'reconstruct': 5822, 'toget': 5823, 'industry': 5824, 'asia': 5825, 'grade': 5826, 'swinging': 5827, 'exude': 5828, 'unmatched': 5829, 'mermaid': 5830, 'kept': 5831, 'siyu': 5832, 'schoolmarm': 5833, 'newer': 5834, 'defini': 5835, 'midweight': 5836, 'deny': 5837, 'loving': 5838, 'invariably': 5839, 'bellybutton': 5840, \"winter's\": 5841, 'dn': 5842, 'practicality': 5843, 'ding': 5844, 'action': 5845, \"26's\": 5846, 'dries': 5847, \"'t\": 5848, 'browns': 5849, 'january': 5850, 'congratulations': 5851, 'asking': 5852, 'rockefeller': 5853, 'backyard': 5854, 'kno': 5855, 'swea': 5856, 'biggish': 5857, 'marriage': 5858, '85': 5859, 'text': 5860, 'compete': 5861, 'bday': 5862, 'netting': 5863, 'called': 5864, \"'v'\": 5865, 'pixie': 5866, 'en': 5867, 'mamaw': 5868, 'clock': 5869, 'outrageous': 5870, 'shap': 5871, \"skirt's\": 5872, 'occurrence': 5873, 'compatible': 5874, 'puffin': 5875, 'awkwardness': 5876, 'render': 5877, 'abo': 5878, 'maw': 5879, 'exit': 5880, 'horrified': 5881, 'message': 5882, 'definitively': 5883, 'sill': 5884, 'plaids': 5885, 'enhancing': 5886, 'proof': 5887, 'salon': 5888, 'coolness': 5889, 'undernea': 5890, 'utilitarian': 5891, 'merchandise': 5892, 'retuned': 5893, 'quirkiness': 5894, 'thickest': 5895, 'cehst': 5896, 'colr': 5897, 'perky': 5898, 'inconsistently': 5899, 'vinyl': 5900, 'regions': 5901, 'nipples': 5902, 'trade': 5903, 'yee': 5904, 'stump': 5905, 'nordstrom': 5906, 'network': 5907, 'emb': 5908, 'complicate': 5909, 'defining': 5910, 'dominant': 5911, 'sow': 5912, 'field': 5913, 'mesmerizing': 5914, 'poofiness': 5915, 'refresher': 5916, 'indecent': 5917, 'taylored': 5918, '20lbs': 5919, 'gauchos': 5920, \"god's\": 5921, 'exciting': 5922, 'stretchier': 5923, 'roast': 5924, \"money's\": 5925, 'fashioned': 5926, 'quali': 5927, 'gracious': 5928, 'drastically': 5929, 'deco': 5930, 'volumes': 5931, 'sf': 5932, 'bay': 5933, 'beautify': 5934, 'everthing': 5935, 'minimum': 5936, 'blogger': 5937, 'flattrering': 5938, 'epaulets': 5939, 'challenging': 5940, 'calssic': 5941, 'chock': 5942, 'littl': 5943, 'assured': 5944, 'ultimate': 5945, 'druzy': 5946, '116lb': 5947, 'orde': 5948, 'salt': 5949, 'against': 5950, 'maiden': 5951, 'install': 5952, 'meant': 5953, 'sole': 5954, 'lacking': 5955, 'cumbersome': 5956, 'nails': 5957, 'emergency': 5958, 'seconds': 5959, 'youre': 5960, 'eit': 5961, 'english': 5962, 'housewife': 5963, 'spell': 5964, 'regulat': 5965, 'crusty': 5966, 'moisture': 5967, 'decline': 5968, 'courderoy': 5969, 'cartoon': 5970, 'production': 5971, 'discrepancy': 5972, 'overtly': 5973, 'blaze': 5974, 'riff': 5975, 'shortcomings': 5976, 'register': 5977, 'delicates': 5978, 'overdo': 5979, 'breakers': 5980, 'framing': 5981, 'resistance': 5982, 'expense': 5983, 'volumous': 5984, 'snugness': 5985, 'manipulation': 5986, 'former': 5987, 'disintegrate': 5988, 'maneuver': 5989, 'possess': 5990, 'letter': 5991, 'envelope': 5992, 'ov': 5993, 'wireless': 5994, 'mull': 5995, 'tanktop': 5996, 'ooze': 5997, 'abou': 5998, 'dominate': 5999, 'ick': 6000, 'thee': 6001, 'inbox': 6002, 'bette': 6003, 'chin': 6004, \"cami's\": 6005, 'securely': 6006, 'arts': 6007, \"'m'\": 6008, 'pricier': 6009, 'multiples': 6010, 'misplace': 6011, 'peice': 6012, '115ish': 6013, 'wilt': 6014, '40th': 6015, 'chloe': 6016, 'petities': 6017, 'capelet': 6018, 'fantasy': 6019, 'besutiful': 6020, \"weren't\": 6021, 'grable': 6022, 'fist': 6023, 'alpaca': 6024, 'binge': 6025, 'outcome': 6026, 'aize': 6027, '168': 6028, 'oil': 6029, 'petroleum': 6030, 'vulgar': 6031, 'boobies': 6032, 'ahs': 6033, 'satisfactory': 6034, 'intentions': 6035, 'excelle': 6036, 'isabella': 6037, 'sinclair': 6038, 'grid': 6039, 'simplest': 6040, 'clay': 6041, 'fifties': 6042, 'fifth': 6043, 'finicky': 6044, 'hoist': 6045, 'tastes': 6046, 'spanks': 6047, 'peite': 6048, 'jingle': 6049, 'conformable': 6050, 'situate': 6051, 'smitten': 6052, 'ethnic': 6053, 'curiosity': 6054, 'minty': 6055, 'estella': 6056, 'predict': 6057, 'unbearable': 6058, 'dressmaker': 6059, 'complect': 6060, 'fractals': 6061, '28dd': 6062, \"'boyfriend'\": 6063, 'arielle': 6064, 'restricting': 6065, 'fiance': 6066, 'netural': 6067, 'overbearing': 6068, 'distinct': 6069, 'bellow': 6070, 'undress': 6071, 'foggy': 6072, 'ware': 6073, \"it''s\": 6074, 'clipdot': 6075, 'edition': 6076, 'discoloration': 6077, 'saleswomen': 6078, 'sent': 6079, 'following': 6080, 'divide': 6081, 'remembered': 6082, 'fin': 6083, 'solely': 6084, 'purc': 6085, 'gathers': 6086, 'finest': 6087, 'study': 6088, 'whic': 6089, \"where'd\": 6090, 'noticable': 6091, 'sloppiness': 6092, 'native': 6093, 'goofy': 6094, 'prongs': 6095, 'knotting': 6096, 'innovative': 6097, 'mysteriously': 6098, 'worker': 6099, 'exmaple': 6100, 'bluishgreen': 6101, 'hae': 6102, '122lbs': 6103, 'channel': 6104, 'inventory': 6105, 'dimensional': 6106, 'foamy': 6107, 'sty': 6108, 'legnth': 6109, 'hol': 6110, 'detached': 6111, 'goo': 6112, 'snip': 6113, 'alleviate': 6114, 'burgandy': 6115, 'sadden': 6116, 'alert': 6117, 'materiel': 6118, 'touched': 6119, 'fal': 6120, 'ugg': 6121, 'extravagant': 6122, 'granny': 6123, 'depiction': 6124, 'mes': 6125, 'gawdy': 6126, 'pricing': 6127, 'anna': 6128, 'lnever': 6129, 'approved': 6130, 'larkhill': 6131, 'pefect': 6132, 'neighbor': 6133, 'dislikes': 6134, 'onsie': 6135, 'staggered': 6136, 'sling': 6137, 'ubiquitous': 6138, 'session': 6139, \"else's\": 6140, 'woolite': 6141, 'twisty': 6142, 'bouncy': 6143, 'inaccurate': 6144, 'planned': 6145, 'abroad': 6146, \"can'\": 6147, 'leopard': 6148, 'feared': 6149, 'unheard': 6150, 'perennial': 6151, 'behold': 6152, 'treatment': 6153, 'group': 6154, 'concerns': 6155, 'pace': 6156, '154': 6157, 'oxfords': 6158, 'indication': 6159, 'thesis': 6160, 'alternations': 6161, 'wheelhouse': 6162, 'relative': 6163, 'deterrent': 6164, 'voluptuous': 6165, 'bejewel': 6166, 'district': 6167, 'chances': 6168, 'remade': 6169, 'materia': 6170, \"aren't\": 6171, \"to'\": 6172, 'anybody': 6173, 'freedom': 6174, 'cardy': 6175, 'brooklyn': 6176, '1x': 6177, 'zig': 6178, 'zag': 6179, '30f': 6180, 'stumpy': 6181, 'pippa': 6182, 'fundraiser': 6183, \"'60s\": 6184, 'debated': 6185, 'vendor': 6186, 'shadow': 6187, 'youth': 6188, 'warehouse': 6189, 'denver': 6190, 'dubious': 6191, 'panama': 6192, 'mary': 6193, 'lyocel': 6194, 'meeting': 6195, 'exercise': 6196, 'costa': 6197, 'rica': 6198, 'slipping': 6199, 'interfere': 6200, 'grandmas': 6201, \"atlanta's\": 6202, 'baroque': 6203, 'stoke': 6204, 'hink': 6205, 'ine': 6206, 'hmm': 6207, 'promising': 6208, 'batwings': 6209, 'horizontally': 6210, 'extensive': 6211, 'petals': 6212, 'definetly': 6213, 'consideration': 6214, 'according': 6215, 'worsen': 6216, 'sandpaper': 6217, 'sticks': 6218, 'exceptions': 6219, 'butterflies': 6220, 'eek': 6221, 'marguerite': 6222, 'fleetwood': 6223, 'misnomer': 6224, 'crossbody': 6225, 'huh': 6226, 'cluster': 6227, 'champion': 6228, 'unflatering': 6229, 'drugstore': 6230, \"she's\": 6231, 'stripey': 6232, 'barbecue': 6233, 'sassiness': 6234, 'mountains': 6235, 'creation': 6236, 'spunk': 6237, 'purcha': 6238, 'sartorial': 6239, 'cease': 6240, 'optimistic': 6241, 'celebrate': 6242, 'crosses': 6243, 'bein': 6244, 'overs': 6245, 'electric': 6246, 'falter': 6247, 'shocker': 6248, 'complexions': 6249, 'getaway': 6250, 'confusion': 6251, 'matador': 6252, 'gotten': 6253, 'rockets': 6254, 'shave': 6255, \"jacket's\": 6256, 'entertaining': 6257, 'nursing': 6258, \"la's\": 6259, 'draper': 6260, 'festivals': 6261, 'cahrm': 6262, 'altering': 6263, 'realllllly': 6264, 'covers': 6265, 'turner': 6266, 'femme': 6267, 'teensy': 6268, \"5''3\": 6269, '147': 6270, 'cools': 6271, 'usu': 6272, 'lampshade': 6273, 'thsi': 6274, 'manageable': 6275, 'sooooooo': 6276, 'cashier': 6277, 'watermelon': 6278, 'optimal': 6279, 'tuxedo': 6280, 'distribution': 6281, 'flamingos': 6282, 'potatoe': 6283, 'liberty': 6284, 'pause': 6285, \"'red\": 6286, 'latest': 6287, 'components': 6288, 'manufactured': 6289, 'exhaust': 6290, 'ru': 6291, 'ahhh': 6292, \"pant's\": 6293, 'cardio': 6294, 'crepey': 6295, 'awsome': 6296, 'subtlety': 6297, 'kicky': 6298, 'photoshopped': 6299, 'posters': 6300, 'creativity': 6301, 'structural': 6302, 'closeup': 6303, 'kiss': 6304, 'howeve': 6305, 'grays': 6306, 'jammie': 6307, 'versat': 6308, 'defense': 6309, 'peasy': 6310, 'priceless': 6311, 'thermals': 6312, 'reckon': 6313, 'ideally': 6314, 'boardwalk': 6315, 'bicycle': 6316, 'sleevless': 6317, 'becaus': 6318, 'fluorescent': 6319, 'xx': 6320, 'lap': 6321, 'rec': 6322, 'ripping': 6323, 'backs': 6324, 'weightless': 6325, 'sensational': 6326, 'calvin': 6327, 'klein': 6328, 'unicorn': 6329, 'recipient': 6330, 'consequently': 6331, 'qua': 6332, 'butts': 6333, \"collector's\": 6334, 'martie': 6335, 'builds': 6336, 'adjusting': 6337, 'jack': 6338, 'twenty': 6339, 'nieces': 6340, '134lbs': 6341, 'surf': 6342, 'teaching': 6343, 'limbs': 6344, 'fails': 6345, 'fest': 6346, 'wearin': 6347, 'objections': 6348, '1980s': 6349, 'workwear': 6350, 'dissuade': 6351, 'mrs': 6352, 'roper': 6353, 'scratchier': 6354, 'cutoffs': 6355, 'reviewed': 6356, 'tease': 6357, 'smoke': 6358, 'hawk': 6359, 'eloise': 6360, 'unbearably': 6361, 'pinning': 6362, 'activewear': 6363, 'sports': 6364, 'longtime': 6365, 'terrify': 6366, 'knockoff': 6367, 'erin': 6368, 'fetherston': 6369, 'cou': 6370, 'sandscape': 6371, 'dashed': 6372, 'marked': 6373, 'silhouettes': 6374, 'foldover': 6375, 'bread': 6376, 'barre': 6377, 'chiller': 6378, 'compfy': 6379, '3in': 6380, 'pi': 6381, 'hers': 6382, 'shooties': 6383, 'prep': 6384, 'appeared': 6385, 'popback': 6386, 'harken': 6387, 'prefectly': 6388, 'workouts': 6389, 'yield': 6390, 'burgers': 6391, '53': 6392, 'hipline': 6393, \"4''\": 6394, 'theater': 6395, 'clownish': 6396, 'chore': 6397, 'nap': 6398, 'adventure': 6399, 'nicel': 6400, 'gladiators': 6401, 'shortly': 6402, 'uncuff': 6403, 'bloated': 6404, 'itty': 6405, 'dryclean': 6406, 'rated': 6407, 'referance': 6408, 'xlarge': 6409, 'storm': 6410, 'su': 6411, 'optical': 6412, 'laughing': 6413, 'ribboned': 6414, 'cc': 6415, 'agreement': 6416, \"might've\": 6417, 'lotta': 6418, 'polar': 6419, 'cares': 6420, 'wasn': 6421, 'fish': 6422, 'strength': 6423, 'recomme': 6424, 'gel': 6425, 'disposable': 6426, 'whoever': 6427, 'furthermore': 6428, 'forewarned': 6429, 'noting': 6430, 'dock': 6431, 'skater': 6432, 'whip': 6433, 'beatiful': 6434, 'landscape': 6435, 'gravity': 6436, 'streamlined': 6437, 'briefly': 6438, 'debut': 6439, 'bainbridge': 6440, 'medallion': 6441, '20th': 6442, 'marilyn': 6443, 'gianormous': 6444, 'miniature': 6445, 'strikes': 6446, 'york': 6447, 'fever': 6448, 'manipulate': 6449, 'medical': 6450, 'upkeep': 6451, 'film': 6452, 'disgust': 6453, 'hunting': 6454, 'sandy': 6455, 'lyocell': 6456, 'melodist': 6457, 'inherent': 6458, 'interweave': 6459, 'movements': 6460, 'perception': 6461, 'joan': 6462, 'posted': 6463, 'assistance': 6464, 'clumps': 6465, 'decolletage': 6466, 'dud': 6467, 'wad': 6468, 'divinely': 6469, 'threw': 6470, 'simultaneously': 6471, 'midrise': 6472, 'bla': 6473, 'cld': 6474, 'era': 6475, 'disservice': 6476, 'decoration': 6477, 'fingertips': 6478, 'clients': 6479, 'jury': 6480, 'apprx': 6481, \"material's\": 6482, 'kennedy': 6483, 'orangish': 6484, 'myriad': 6485, 'insist': 6486, 'shallow': 6487, 'hwoever': 6488, 'mentioend': 6489, 'seed': 6490, \"children's\": 6491, 'magnificent': 6492, 'unclear': 6493, 'delighted': 6494, 'giv': 6495, 'skinned': 6496, 'cabernet': 6497, 'met': 6498, 'ths': 6499, 'bodytype': 6500, 'unreal': 6501, 'lots': 6502, 'amply': 6503, 'slenderizing': 6504, 'excuse': 6505, '106lbs': 6506, 'spec': 6507, 'stra': 6508, 'rectangular': 6509, 'dreary': 6510, 'semblance': 6511, 'pinstripe': 6512, 'gross': 6513, \"we've\": 6514, 'surface': 6515, \"xs's\": 6516, 'folds': 6517, 'picotage': 6518, 'pilcos': 6519, 'sandels': 6520, 'disproportionately': 6521, 'discontinue': 6522, 'menopause': 6523, 'hypen': 6524, '1987': 6525, 'raid': 6526, 'poolside': 6527, 'whimsically': 6528, \"law's\": 6529, 'giving': 6530, 'upsizing': 6531, 'blu': 6532, 'descriptor': 6533, 'lvoe': 6534, \"coh's\": 6535, 'tangle': 6536, 'woods': 6537, 'pregnancies': 6538, 'monica': 6539, 'hrs': 6540, 'athlete': 6541, 'graham': 6542, 'spencer': 6543, 'ooh': 6544, 'tyhlo': 6545, 'ga': 6546, 'knotted': 6547, 'beca': 6548, 'flatttering': 6549, 'damp': 6550, 'smash': 6551, 'waht': 6552, 'labor': 6553, 'seeing': 6554, 'chokey': 6555, \"people's\": 6556, 'consistency': 6557, 'daisy': 6558, 'cuddle': 6559, \"wouldn't\": 6560, 'ejans': 6561, 'playground': 6562, 'flock': 6563, 'abnormally': 6564, 'peter': 6565, 'neighborhood': 6566, 'loooove': 6567, 'birth': 6568, 'hubs': 6569, 'autumnal': 6570, 'panic': 6571, 'uses': 6572, 'creatively': 6573, 'stat': 6574, 'lumps': 6575, \"shirt's\": 6576, 'heeled': 6577, 'seersucker': 6578, 'gradually': 6579, 'viewers': 6580, 'breathtakingly': 6581, 'fingernail': 6582, 'sparingly': 6583, 'sincerely': 6584, 'demure': 6585, 'marroon': 6586, 'mos': 6587, 'aquaflora': 6588, 'beside': 6589, 'silouette': 6590, 'tra': 6591, 'grandmothers': 6592, 'formless': 6593, 'fades': 6594, 'professorial': 6595, 'dawn': 6596, 'fuschia': 6597, 'blousing': 6598, 'beautifil': 6599, 'favorable': 6600, 'agin': 6601, 'experiences': 6602, 'muddle': 6603, \"1950's\": 6604, 'rarity': 6605, 'irresistibly': 6606, 'perf': 6607, 'commission': 6608, 'lovethis': 6609, 'clasps': 6610, '175lbs': 6611, 'flowery': 6612, '6petite': 6613, 'inseams': 6614, 'allusion': 6615, 'forewarn': 6616, 'cardis': 6617, 'flawlessly': 6618, 'dates': 6619, 'skintight': 6620, 'mystery': 6621, 'wants': 6622, 'thoughtful': 6623, 'shortish': 6624, 'everleigh': 6625, 'trashy': 6626, 'prim': 6627, 'jolly': 6628, 'digit': 6629, 'community': 6630, 'mateiral': 6631, 'verdugo': 6632, 'snagging': 6633, 'avid': 6634, 'pul': 6635, 'terrycloth': 6636, 'reaction': 6637, 'btu': 6638, 'roder': 6639, '11inches': 6640, 'lavendar': 6641, 'colorblock': 6642, 'historically': 6643, '148lbs': 6644, 'usable': 6645, 'definitly': 6646, 'spillage': 6647, 'everygirl': 6648, '111lbs': 6649, 'annoyance': 6650, 'closing': 6651, 'lightwei': 6652, 'roar': 6653, 'waif': 6654, \"don'\": 6655, 'smocking': 6656, 'madras': 6657, '118lbs': 6658, 'returns': 6659, 'sewed': 6660, 'blog': 6661, 'ful': 6662, \"to's\": 6663, 'willingness': 6664, 'capture': 6665, 'pro': 6666, 'demographic': 6667, 'triangular': 6668, 'ocean': 6669, 'wamp': 6670, 'barley': 6671, 'glory': 6672, 'uh': 6673, 'mins': 6674, 'tuesday': 6675, 'king': 6676, 'forwar': 6677, 'odering': 6678, 'conflict': 6679, 'recheck': 6680, 'showcases': 6681, 'jar': 6682, 'jam': 6683, 'minuet': 6684, 'huuuge': 6685, 'shirtwaist': 6686, 'restroom': 6687, 'sundresses': 6688, 'buns': 6689, 'synch': 6690, 'shops': 6691, \"v's\": 6692, 'mustardy': 6693, 'jiggle': 6694, '29p': 6695, 'reweave': 6696, 'letters': 6697, 'gems': 6698, 'voile': 6699, 'sipper': 6700, 'boarder': 6701, 'connect': 6702, 'svelte': 6703, 'sizi': 6704, 'unwrap': 6705, 'smells': 6706, 'ring': 6707, 'terracotta': 6708, 'hamper': 6709, 'ther': 6710, 'az': 6711, 'asymetrical': 6712, 'ador': 6713, '60th': 6714, 'atl': 6715, 'guilt': 6716, 'stellar': 6717, 'perk': 6718, '8in': 6719, 'bolero': 6720, \"skinny's\": 6721, 'balk': 6722, 'elder': 6723, 'stout': 6724, 'stocked': 6725, 'sie': 6726, 'keen': 6727, 'denimy': 6728, 'honeymoon': 6729, 'amalfi': 6730, 'ny': 6731, 'repurchase': 6732, 'flirtiness': 6733, 'ge': 6734, 'thumbs': 6735, 'choker': 6736, 'coin': 6737, 'fountain': 6738, 'memory': 6739, 'fluctuates': 6740, 'ads': 6741, 'embellish': 6742, 'favourite': 6743, 'sons': 6744, 'liekd': 6745, 'inquiries': 6746, 'bandage': 6747, 'tote': 6748, 'woolen': 6749, 'plackets': 6750, \"4's\": 6751, 'london': 6752, 'disastrous': 6753, 'overkill': 6754, 'fuzziness': 6755, 'zippery': 6756, 'ordinarily': 6757, 'loom': 6758, 'broach': 6759, 'accordingly': 6760, '2s': 6761, 'beautifu': 6762, 'orleans': 6763, 'soul': 6764, 'summary': 6765, 'language': 6766, 'imperfection': 6767, 'asked': 6768, 'unavailable': 6769, 'decorate': 6770, 'ponder': 6771, 'bid': 6772, 'lively': 6773, 'godsend': 6774, 'ehhh': 6775, 'eager': 6776, 'col': 6777, 'lon': 6778, 'explore': 6779, 'ditto': 6780, 'whisker': 6781, 'squares': 6782, 'tiger': 6783, 'effects': 6784, '38b': 6785, 'fiddle': 6786, 'str': 6787, 'kansas': 6788, 'humidity': 6789, 'kudos': 6790, 'patterned': 6791, 'default': 6792, 'successful': 6793, 'sisterhood': 6794, 'tinier': 6795, 'pintucks': 6796, 'sal': 6797, 'overtake': 6798, \"maxi's\": 6799, 'houndstooth': 6800, 'angora': 6801, 'sunset': 6802, \"29'\": 6803, 'durham': 6804, 'conversationalist': 6805, 'disappoin': 6806, \"5'6'\": 6807, 'applique': 6808, 'holder': 6809, 'binder': 6810, 'whit': 6811, 'decades': 6812, 'goldilocks': 6813, '128lb': 6814, 'enamor': 6815, '2petite': 6816, 'tide': 6817, 'recd': 6818, 'observation': 6819, 'creme': 6820, 'southwest': 6821, 'relaxing': 6822, 'reject': 6823, 'rectangle': 6824, 'danger': 6825, 'heftier': 6826, 'wake': 6827, 'jodphurs': 6828, '127lb': 6829, 'colorblocked': 6830, 'gripper': 6831, 'sensitivity': 6832, 'dazzled': 6833, 'cutaway': 6834, 'breastfeed': 6835, 'shld': 6836, 'forgiveness': 6837, 'sticking': 6838, 'whoop': 6839, 'anrtho': 6840, 'concerned': 6841, \"ann's\": 6842, 'blouson': 6843, 'looove': 6844, 'throat': 6845, 'canary': 6846, 'differen': 6847, 'hobby': 6848, 'slighty': 6849, 'eptites': 6850, 'tey': 6851, 'defin': 6852, 'librarian': 6853, 'workhorse': 6854, 'courage': 6855, 'temperature': 6856, 'boyleg': 6857, 'unnecessarily': 6858, 'sixties': 6859, 'bees': 6860, 'consumers': 6861, 'angled': 6862, '96': 6863, 'swiss': 6864, \"5'1'\": 6865, 'absolutly': 6866, 'gourgeous': 6867, 'added': 6868, 'harsh': 6869, 'mn': 6870, 'evoke': 6871, '2008': 6872, 'combat': 6873, 'scrumptious': 6874, 'circa': 6875, 'downward': 6876, 'stretc': 6877, 'saundra': 6878, 'resistant': 6879, 'georgeous': 6880, 'quirk': 6881, 'cook': 6882, 'fatty': 6883, 'ombrã©': 6884, 'mui': 6885, 'splendidly': 6886, 'cartoonish': 6887, 'civil': 6888, 'diet': 6889, 'approximate': 6890, 'conscience': 6891, '118lb': 6892, 'sophistication': 6893, 'sw': 6894, 'stained': 6895, 'acetate': 6896, 'foo': 6897, 'eprson': 6898, 'waterfall': 6899, 'musical': 6900, 'theatre': 6901, 'nah': 6902, 'coldest': 6903, 'costly': 6904, 'vacillate': 6905, 'conclusion': 6906, 'moot': 6907, 'supper': 6908, 'tylho': 6909, 'bl': 6910, 'retail': 6911, 'corners': 6912, 'lumpiness': 6913, 'greige': 6914, '3d': 6915, 'felted': 6916, 'effective': 6917, 'oddity': 6918, 'gorgeus': 6919, 'vacations': 6920, 'whose': 6921, 'regain': 6922, 'memories': 6923, 'pond': 6924, 'primarily': 6925, 'clunky': 6926, 'understatement': 6927, 'toasty': 6928, 'arise': 6929, \"that'd\": 6930, 'widening': 6931, 'wooden': 6932, 'ri': 6933, 'beloved': 6934, 'comforable': 6935, 'tremendously': 6936, 'treats': 6937, 'negatively': 6938, 'slighly': 6939, 'ingalls': 6940, 'meets': 6941, 'linty': 6942, 'til': 6943, 'accordian': 6944, 'refuse': 6945, 'formally': 6946, 'exotic': 6947, 'holders': 6948, 'delightfully': 6949, 'lays': 6950, 'marry': 6951, 'leeway': 6952, 'planet': 6953, 'monet': 6954, 'scrappy': 6955, 'saved': 6956, 'internship': 6957, 'claw': 6958, 'rolls': 6959, 'mediterranean': 6960, 'reward': 6961, 'starbucks': 6962, 'parrot': 6963, 'loooooove': 6964, 'huuuuge': 6965, 'cali': 6966, 'neede': 6967, 'gateway': 6968, 'purely': 6969, 'babies': 6970, 'sloths': 6971, 'housedress': 6972, 'expe': 6973, 'decorations': 6974, 'stag': 6975, 'exaggeration': 6976, 'rainbow': 6977, 'spokane': 6978, 'risquã©': 6979, 'pillow': 6980, 'torture': 6981, 'device': 6982, 'collector': 6983, 'winery': 6984, 'saddlebag': 6985, 'corodorys': 6986, 'urban': 6987, '27r': 6988, 'fire': 6989, 'crosswrap': 6990, 'meantime': 6991, 'critters': 6992, 'lumberjack': 6993, 'lowest': 6994, 'othewise': 6995, 'jane': 6996, 'swamp': 6997, 'penguin': 6998, 'iis': 6999, 'perceive': 7000, 'imaginable': 7001, 'backup': 7002, 'located': 7003, 'ju': 7004, 'akward': 7005, \"29's\": 7006, \"purchaser's\": 7007, 'monstrosity': 7008, 'lenght': 7009, 'magnet': 7010, 'inevitably': 7011, 'mensware': 7012, 'georgette': 7013, '88': 7014, 'incidentally': 7015, 'fr': 7016, 'dealbreaker': 7017, 'minneapolis': 7018, 'wean': 7019, 'artwork': 7020, 'dazzling': 7021, 'heartbreakingly': 7022, 'nymph': 7023, 'devastated': 7024, 'rex': 7025, 'contrasting': 7026, 'arc': 7027, 'ig': 7028, \"joe's\": 7029, 'unsnapped': 7030, 'eu': 7031, 'fiery': 7032, \"did't\": 7033, 'accomplish': 7034, 'boucles': 7035, 'adults': 7036, 'boom': 7037, 'cousins': 7038, 'szie': 7039, 'looke': 7040, 'aweful': 7041, 'ahge': 7042, 'hur': 7043, 'palelike': 7044, 'asflattering': 7045, 'adopt': 7046, 'curatorial': 7047, 'instruction': 7048, 'pettite': 7049, 'accented': 7050, 'provided': 7051, 'kiddos': 7052, 'cone': 7053, 'longs': 7054, 'anxiously': 7055, 'symphony': 7056, 'distinction': 7057, 'endlessly': 7058, 'driving': 7059, 'healthy': 7060, 'cleanly': 7061, 'newborn': 7062, 'indul': 7063, 'epic': 7064, 'litttle': 7065, 'mega': 7066, \"'wear\": 7067, \"'distressed'\": 7068, 'correspond': 7069, '10mths': 7070, 'enchant': 7071, 'larkin': 7072, 'february': 7073, 'capped': 7074, 'tap': 7075, 'lous': 7076, 'dow': 7077, 'melodies': 7078, \"marvel's\": 7079, 'agent': 7080, 'carter': 7081, 'wasa': 7082, 'hulk': 7083, '10x': 7084, \"pomona's\": 7085, 'dits': 7086, 'begins': 7087, 'minneapol': 7088, 'beau': 7089, 'elastaine': 7090, 'definitel': 7091, 'sutble': 7092, 'wierd': 7093, 'loook': 7094, 'pigment': 7095, \"5'10'\": 7096, 'ninja': 7097, 'knuc': 7098, 'brag': 7099, '2006': 7100, '2010': 7101, 'rename': 7102, 'answe': 7103, 'dire': 7104, \"yo'\": 7105, 'mentality': 7106, 'ludlow': 7107, 'compound': 7108, 'gadget': 7109, 'drawcord': 7110, 'est': 7111, \"store's\": 7112, 'feed': 7113, 'joyful': 7114, 'appropr': 7115, 'faced': 7116, 'hallway': 7117, 'supermodels': 7118, 'uiu': 7119, 'adorned': 7120, 'tshirts': 7121, 'irradiate': 7122, 'crab': 7123, 'claws': 7124, 'darby': 7125, 'chord': 7126, 'morel': 7127, 'jacksons': 7128, 'overexposure': 7129, 'minority': 7130, 'tankinis': 7131, 'obese': 7132, 'crossing': 7133, 'op': 7134, 'construc': 7135, 'inconsistency': 7136, 'janeausten': 7137, 'corals': 7138, 'occassions': 7139, 'ls': 7140, 'babe': 7141, 'modes': 7142, 'cozier': 7143, 'attack': 7144, 'colters': 7145, 'objectionably': 7146, 'bohemain': 7147, 'islander': 7148, 'inconsistencies': 7149, 'nd': 7150, \"havne't\": 7151, 'scratches': 7152, 'lade': 7153, 'unevenly': 7154, 'lifting': 7155, 'disclaimer': 7156, \"'hard'\": 7157, 'sof': 7158, 'sundays': 7159, 'homerun': 7160, 'nanny': 7161, 'rooster': 7162, 'fortuny': 7163, 'earrin': 7164, 'interwoven': 7165, 'pesonal': 7166, 'nocal': 7167, 'foundations': 7168, 'moniker': 7169, 'comforta': 7170, 'specialist': 7171, 'oxblood': 7172, 'eno': 7173, \"brand's\": 7174, 'handbags': 7175, 'underlayer': 7176, 'hum': 7177, 'itlooks': 7178, 'farmhand': 7179, 'zombie': 7180, 'tri': 7181, 'launderings': 7182, 'assessments': 7183, 'biggy': 7184, \"'cover\": 7185, 'comparat': 7186, 'magazine': 7187, 'lithuanian': 7188, 'respite': 7189, 'haystack': 7190, 'diagnol': 7191, 'grandpa': 7192, 'poky': 7193, 'acrossed': 7194, 'flexibly': 7195, 'marian': 7196, 'nhl': 7197, 'bunny': 7198, 'arrangements': 7199, 'aw': 7200, 'camos': 7201, 'incentive': 7202, 'justifiable': 7203, 'insufficient': 7204, \"'bubble\": 7205, \"butt'\": 7206, 'sel': 7207, '105lb': 7208, 'ter': 7209, 'handwoven': 7210, 'compartments': 7211, 'endure': 7212, 'nv': 7213, 'longing': 7214, 'altho': 7215, 'pancho': 7216, 'bhanuni': 7217, 'trent': 7218, 'formalness': 7219, 'realized': 7220, 'consultant': 7221, 'omit': 7222, 'lin': 7223, 'misread': 7224, 'plate': 7225, \"1''\": 7226, 'intimate': 7227, 'aaaaaaamazing': 7228, 'chicken': 7229, 'fisher': 7230, \"fisher's\": 7231, 'mysteries': 7232, 'eliott': 7233, \"'hip\": 7234, 'loden': 7235, 'fastenings': 7236, 'regal': 7237, 'bryon': 7238, 'frank': 7239, 'litter': 7240, \"'shorts'\": 7241, 'skylark': 7242, 'conjecture': 7243, 'fling': 7244, 'colony': 7245, 'strappiness': 7246, 'tbu': 7247, 'hite': 7248, 'maxidress': 7249, 'pillowy': 7250, 'fanciness': 7251, 'knits': 7252, 'fathom': 7253, 'epite': 7254, 'actualyl': 7255, 'fallish': 7256, 'rubs': 7257, 'sucks': 7258, 'tobacco': 7259, 'turqoise': 7260, 'thereof': 7261, \"'help'\": 7262, 'pushup': 7263, 'addtl': 7264, 'tucker': 7265, 'openness': 7266, 'puffing': 7267, 'beefy': 7268, 'routinely': 7269, 'besid': 7270, 'nightbelle': 7271, 'uncured': 7272, 'overcast': 7273, 'bravo': 7274, 'grandson': 7275, 'contrastin': 7276, 'standing': 7277, 'inconsistant': 7278, 'descided': 7279, 'instagr': 7280, 'jns': 7281, 'shirtsleeves': 7282, 'brood': 7283, 'doc': 7284, 'martins': 7285, 'wanderlust': 7286, 'gifting': 7287, 'pampered': 7288, 'warmed': 7289, 'warmest': 7290, 'interviewer': 7291, 'unforced': 7292, 'sexified': 7293, 'elouise': 7294, 'proud': 7295, 'fore': 7296, 'daceous': 7297, 'stratosphere': 7298, 'athro': 7299, 'notches': 7300, 'dolly': 7301, '134b': 7302, 'obscure': 7303, \"1990's\": 7304, 'ottoman': 7305, 'folded': 7306, 'neaten': 7307, \"'stitch'\": 7308, \"cutesy'\": 7309, 'insulate': 7310, 'mishaped': 7311, \"one'\": 7312, 'riiiiiiiiiip': 7313, 'easel': 7314, 'cutr': 7315, 'instea': 7316, 'funnily': 7317, 'endo': 7318, 'umm': 7319, 'thinkng': 7320, 'lemons': 7321, 'searched': 7322, 'size10': 7323, 'nutcracker': 7324, '448': 7325, 'throwaway': 7326, 'tallettes': 7327, 'alexa': 7328, 'chung': 7329, 'mushroom': 7330, '86': 7331, 'amoret': 7332, \"they'r\": 7333, 'resemblance': 7334, 'reed': 7335, 'spank': 7336, 'impressions': 7337, 'threaten': 7338, 'whomever': 7339, 'tailors': 7340, 'tanl': 7341, 'crucial': 7342, 'aubergine': 7343, 'ma': 7344, 'zing': 7345, 'salespeople': 7346, 'yest': 7347, 'pers': 7348, 'gild': 7349, 'propensity': 7350, 'snigger': 7351, '157': 7352, \"don't'\": 7353, 'neony': 7354, '122lb': 7355, 'weathered': 7356, 'nutty': 7357, 'nerve': 7358, 'crimplene': 7359, 'darkness': 7360, 'noisy': 7361, '117bl': 7362, 'antheropologie': 7363, 'stopping': 7364, 'cuteandcomfy': 7365, 'ooopss': 7366, 'elect': 7367, 'ear': 7368, \"'moss'\": 7369, \"'tangerine'\": 7370, 'bricky': 7371, 'instantaneously': 7372, 'frontal': 7373, 'sheik': 7374, 'photographer': 7375, 'barney': 7376, 'lounger': 7377, 'associates': 7378, '230lbs': 7379, 'boohoo': 7380, 'dizzy': 7381, 'neve': 7382, \"years'\": 7383, 'racy': 7384, 'tweet': 7385, 'sup': 7386, 'laye': 7387, 'simplifie': 7388, 'passersby': 7389, 'andfestive': 7390, 'mirabella': 7391, '136lb': 7392, '428': 7393, 'highland': 7394, 'woodlands': 7395, 'employ': 7396, \"'re\": 7397, 'pinned': 7398, 'powerful': 7399, 'unimpressive': 7400, 'mor': 7401, 'ballroom': 7402, 'coverd': 7403, \"preschooler's\": 7404, 'wishful': 7405, 'underestimate': 7406, 'scenery': 7407, 'earthly': 7408, \"print's\": 7409, 'ã¼ber': 7410, 'waterproof': 7411, 'insulated': 7412, 'awe': 7413, 'hindsight': 7414, 'lthink': 7415, 'ebough': 7416, 'pallet': 7417, 'hay': 7418, 'spotty': 7419, 'chalk': 7420, 'fruns': 7421, 'carribean': 7422, 'format': 7423, 'blotch': 7424, 'splurged': 7425, 'mountaire': 7426, \"'fall'\": 7427, \"arm's\": 7428, 'cheapness': 7429, 'oxford': 7430, 'bouse': 7431, 'asthetic': 7432, 'diva': 7433, 'gushing': 7434, 'trickier': 7435, \"yo'self\": 7436, 'caccoon': 7437, 'stifling': 7438, 'comfie': 7439, 'eighties': 7440, 'swimmingly': 7441, 'aprã¨s': 7442, 'otth': 7443, \"rec'd\": 7444, 'lily': 7445, 'known': 7446, 'hightower': 7447, 'soothe': 7448, '4inches': 7449, 'vieques': 7450, 'hifh': 7451, 'barnyard': 7452, 'existed': 7453, 'adirondacks': 7454, 'attering': 7455, 'greatcsweater': 7456, 'snatc': 7457, 'joliette': 7458, 'attachments': 7459, 'bhldn': 7460, 'reception': 7461, 'libs': 7462, 'someday': 7463, 'smocked': 7464, 'revisit': 7465, 'chopped': 7466, 'lifts': 7467, 'skosh': 7468, 'onl': 7469, 'xtr': 7470, 'southwesternish': 7471, 'bruise': 7472, 'ending': 7473, 'citrus': 7474, 'chestiness': 7475, 'fattiness': 7476, 'clin': 7477, 'leng': 7478, \"'ivory'\": 7479, 'newspapers': 7480, 'acco': 7481, 'acquire': 7482, 'unproportioned': 7483, 'willa': 7484, 'martial': 7485, 'whoops': 7486, 'unbeliev': 7487, 'silkier': 7488, 'concepts': 7489, 'surrender': 7490, 'houseboat': 7491, 'frankenstein': 7492, 'lens': 7493, 'march': 7494, 'cloy': 7495, 'pairing': 7496, '140ish': 7497, 'tuns': 7498, 'towels': 7499, 'boxt': 7500, 'duffs': 7501, 'substancial': 7502, 'tirst': 7503, 'tme': 7504, 'displayed': 7505, 'spoilers': 7506, 'traverse': 7507, 'hitting': 7508, 'fromm': 7509, 'rolle': 7510, 'lackadaisical': 7511, 'afghan': 7512, 'amazingness': 7513, 'holey': 7514, 'flute': 7515, 'discription': 7516, 'contender': 7517, 'disppaointed': 7518, 'whte': 7519, 'pr': 7520, 'lilt': 7521, 'howev': 7522, 'stright': 7523, \"din'dt\": 7524, 'wrikling': 7525, 'wwear': 7526, 'lovelyt': 7527, 'chirpy': 7528, 'pegged': 7529, 'friendliness': 7530, 'poetry': 7531, 'fluevogs': 7532, '1982': 7533, 'galleria': 7534, 'unlikely': 7535, 'suction': 7536, 'squirm': 7537, 'sisz': 7538, 'loely': 7539, 'wax': 7540, 'poetic': 7541, 'breaking': 7542, 'reservedly': 7543, 'juuuust': 7544, '5ft8inches': 7545, 'rackerback': 7546, 'boxines': 7547, 'lug': 7548, 'attendant': 7549, 'slig': 7550, 'labeling': 7551, 'giantess': 7552, 'seson': 7553, 'puddle': 7554, 'tanvi': 7555, 'bonette': 7556, 'sumo': 7557, 'wrestler': 7558, 'partake': 7559, 'harbinger': 7560, 'uplifting': 7561, 'burgundies': 7562, 'googling': 7563, 'tsp': 7564, 'conditioner': 7565, 'sable': 7566, 'spoil': 7567, 'overwhelmingly': 7568, 'reconsidered': 7569, 'corrected': 7570, 'bending': 7571, 'gloves': 7572, 'loc': 7573, 'trenches': 7574, 'wiast': 7575, 'warrent': 7576, 'nuetral': 7577, 'clue': 7578, 'distinguishable': 7579, 'applied': 7580, 'refrain': 7581, 'sail': 7582, 'studied': 7583, 'jegging': 7584, 'agitate': 7585, 'contacts': 7586, 'cowgirls': 7587, 'toddlers': 7588, 'cinnamon': 7589, 'finesse': 7590, 'grungy': 7591, 'furniture': 7592, 'muss': 7593, 'sabrina': 7594, 'scores': 7595, 'releases': 7596, 'translates': 7597, 'tempted': 7598, 'fearful': 7599, 'sausages': 7600, 'floofs': 7601, 'struggling': 7602, \"artist's\": 7603, 'twiggy': 7604, 'overstretched': 7605, 'mila': 7606, 'kelby': 7607, 'glams': 7608, 'tucke': 7609, 'homebase': 7610, 'arguably': 7611, 'indifferent': 7612, 'hairy': 7613, 'jessa': 7614, 'ba': 7615, 'wonce': 7616, 'memorable': 7617, 'boudoir': 7618, 'furrowing': 7619, 'cane': 7620, 'tech': 7621, 'vast': 7622, 'masquerade': 7623, \"there'd\": 7624, 'proba': 7625, 'trifle': 7626, 'members': 7627, 'predominately': 7628, 'mismatched': 7629, 'perfer': 7630, 'component': 7631, 'scraps': 7632, 'groups': 7633, 'amorphous': 7634, 'fixes': 7635, 'sholulder': 7636, 'followed': 7637, 'religious': 7638, 'ingredients': 7639, 'foods': 7640, 'italians': 7641, 'consept': 7642, '38f': 7643, 'delaine': 7644, 'ruggedness': 7645, 'easyily': 7646, 'displays': 7647, \"6'1\": 7648, 'thre': 7649, 'prickly': 7650, 'insets': 7651, 'unbelted': 7652, 'whiz': 7653, 'needlessly': 7654, 'rotund': 7655, 'unaltered': 7656, 'silh': 7657, 'sacky': 7658, 'collections': 7659, 'limiting': 7660, 'corpse': 7661, 'fixable': 7662, 'scramble': 7663, 'unnaturally': 7664, 'seaming': 7665, \"9''\": 7666, \"143lb's\": 7667, 'sensual': 7668, 'purr': 7669, 'sees': 7670, 'duds': 7671, 'bearable': 7672, 'combi': 7673, 'fluffiness': 7674, 'contraire': 7675, 'engulf': 7676, 'drinking': 7677, \"lilke's\": 7678, 'tideline': 7679, 'polite': 7680, 'juice': 7681, 'venice': 7682, 'wth': 7683, \"'shear\": 7684, '6t': 7685, 'asset': 7686, 'alst': 7687, 'smae': 7688, 'ddresses': 7689, 'aprts': 7690, 'aunt': 7691, 'soup': 7692, 'housecoat': 7693, 'melita': 7694, 'fantastically': 7695, \"hemline's\": 7696, 'avai': 7697, 'accentuated': 7698, '30g': 7699, \"'side\": 7700, \"armpit'\": 7701, 'alr': 7702, 'fireengine': 7703, 'accomadate': 7704, 'sightsee': 7705, \"don'tr\": 7706, 'btohered': 7707, 'ewre': 7708, 'thopugh': 7709, 'kleep': 7710, 'especiall': 7711, 'fuse': 7712, 'assoc': 7713, 'mailed': 7714, 'toes': 7715, 'compression': 7716, 'sophistica': 7717, 'rage': 7718, 'bunchee': 7719, 'annual': 7720, 'switzerland': 7721, 'plasticky': 7722, 'lineba': 7723, 'uhm': 7724, \"blouse's\": 7725, 'learned': 7726, 'tneck': 7727, \"suit's\": 7728, 'foundation': 7729, 'mou': 7730, 'prettiness': 7731, 'filtting': 7732, 'middi': 7733, \"doesn'\": 7734, \"'nightgown'\": 7735, 'cameo': 7736, 'brooch': 7737, 'michigan': 7738, 'ave': 7739, 'washers': 7740, 'distraught': 7741, 'wintry': 7742, 'lone': 7743, 'dissenter': 7744, 'sting': 7745, 'aggressive': 7746, 'oceanside': 7747, 'entry': 7748, 'worm': 7749, 'tugging': 7750, 'taught': 7751, 'latch': 7752, 'incongruous': 7753, 'definetely': 7754, 'oo': 7755, 'nudist': 7756, 'wintergreens': 7757, 'beef': 7758, 'addiction': 7759, 'wowsa': 7760, 'oct': 7761, 'divers': 7762, 'haul': 7763, \"wren't\": 7764, 'pressure': 7765, 'composition': 7766, \"5''5\": 7767, 'perc': 7768, 'kee': 7769, 'supports': 7770, '34ff': 7771, 'doe': 7772, 'toucans': 7773, 'schlumpy': 7774, 'identify': 7775, 'delivers': 7776, 'hallways': 7777, 'camre': 7778, 'drastic': 7779, 'grabber': 7780, 'convinced': 7781, 'odrdered': 7782, 'swaeter': 7783, 'lodge': 7784, 'unfitted': 7785, 'lea': 7786, 'ugliest': 7787, 'antebellum': 7788, 'depictes': 7789, 'dresser': 7790, 'occur': 7791, 'thrift': 7792, 'geez': 7793, 'font': 7794, 'accentuates': 7795, 'rider': 7796, 'plata': 7797, 'hats': 7798, 'cell': 7799, 'reviwes': 7800, 'comfey': 7801, 'fiddled': 7802, 'digan': 7803, 'continuity': 7804, 'sheep': 7805, 'densest': 7806, 'bleachers': 7807, 'secondhand': 7808, 'temptation': 7809, 'concrete': 7810, 'wall': 7811, 'sacred': 7812, 'din': 7813, 'bustiest': 7814, 'meatiness': 7815, 'purrfect': 7816, '38ish': 7817, \"o'clock\": 7818, 'iconic': 7819, 'hesitating': 7820, 'prev': 7821, 'carra': 7822, 'jearns': 7823, 'admiration': 7824, 'dynamic': 7825, 'assess': 7826, 'numerically': 7827, 'rainproof': 7828, 'adj': 7829, 'flecking': 7830, 'bpttoms': 7831, 'minmized': 7832, 'sweetly': 7833, 'lightheaded': 7834, 'crime': 7835, 'lenth': 7836, 'ecept': 7837, 'anchor': 7838, 'balooned': 7839, 'incidental': 7840, 'ast': 7841, 'wins': 7842, 'yea': 7843, \"'teeny\": 7844, \"bop'\": 7845, 'hugely': 7846, 'relly': 7847, 'stetchy': 7848, '27tall': 7849, '26tall': 7850, 'ageing': 7851, 'hourglasses': 7852, 'accentuating': 7853, 'clashed': 7854, 'flufff': 7855, 'pooched': 7856, 'corny': 7857, 'provence': 7858, 'undressed': 7859, 'needlenose': 7860, 'crimp': 7861, 'microfiber': 7862, 'riddle': 7863, 'charisma': 7864, 'pointed': 7865, 'hoiday': 7866, 'plesantly': 7867, 'taffita': 7868, 'laws': 7869, 'arctic': 7870, 'jess': 7871, 'loosest': 7872, 'flatteri': 7873, 'prego': 7874, 'patient': 7875, 'tonal': 7876, 'stadium': 7877, 'relentless': 7878, 'phd': 7879, 'regularl': 7880, 'petittes': 7881, 'c34': 7882, 'ir': 7883, 'weght': 7884, 'tearoom': 7885, 'appr': 7886, 'reply': 7887, 'synched': 7888, \"heart's\": 7889, 'marala': 7890, 'awwww': 7891, 'garbage': 7892, 'really0': 7893, 'lslightly': 7894, 'compose': 7895, 'pregant': 7896, 'opaqueness': 7897, 'intexas': 7898, 'turtlenceck': 7899, 'clingier': 7900, 'sickly': 7901, 'garme': 7902, 'gargantuan': 7903, 'contract': 7904, 'slap': 7905, 'dickey': 7906, 'utiful': 7907, 'splendid': 7908, 'sherbrooke': 7909, 'plug': 7910, 'energy': 7911, 'bookmarking': 7912, 'ships': 7913, 'airly': 7914, 'claire': 7915, 'underwood': 7916, 'vintag': 7917, 'comfrotbale': 7918, 'alining': 7919, 'petie': 7920, 'wiskering': 7921, 'sits': 7922, 'malabar': 7923, 'sinc': 7924, 'concho': 7925, 'rasberry': 7926, 'iliked': 7927, 'climbing': 7928, 'mellowed': 7929, 'bohoranna': 7930, 'rhapsody': 7931, \"kind've\": 7932, 'zara': 7933, 'copy': 7934, 'sierra': 7935, 'eucalan': 7936, '18th': 7937, 'assurance': 7938, 'nov': 7939, '24th': 7940, 'updo': 7941, 'shoddily': 7942, 'maternit': 7943, 'dominantly': 7944, 'swoop': 7945, 'talle': 7946, 'strategy': 7947, 'midway': 7948, 'escape': 7949, 'scrub': 7950, 'awesomeness': 7951, 'youthfull': 7952, 'steve': 7953, 'pepper': 7954, 'parcel': 7955, 'falling': 7956, 'nary': 7957, 'thakoon': 7958, '500': 7959, 'judgment': 7960, 'classify': 7961, 'acknowledge': 7962, 'aptly': 7963, 'fiits': 7964, \"5''6\": 7965, 'avg': 7966, 'realy': 7967, 'gum': 7968, 'photographed': 7969, 'undistinguished': 7970, 'xxxxs': 7971, \"stone's\": 7972, 'defects': 7973, 'nicks': 7974, \"it's'\": 7975, 'milky': 7976, 'snack': 7977, 'tips': 7978, 'bunches': 7979, 'cringed': 7980, 'attended': 7981, 'enjoyable': 7982, 'el': 7983, 'vacate': 7984, 'othe': 7985, 'promos': 7986, 'treatments': 7987, 'wight': 7988, 'toll': 7989, 'wnat': 7990, 'swirly': 7991, 'monaco': 7992, 'luncheons': 7993, 'homage': 7994, \"'5\": 7995, 'cury': 7996, \"'delicateness'\": 7997, \"kimono's\": 7998, 'shillouette': 7999, 'influx': 8000, 'endora': 8001, 'disgustingly': 8002, 'awate': 8003, 'gumby': 8004, 'firned': 8005, 'hesitent': 8006, 'minimizing': 8007, '40c': 8008, 'teeter': 8009, 'pages': 8010, 'cartionnier': 8011, 'strangly': 8012, 'nips': 8013, 'bloomsbury': 8014, 'tiokeep': 8015, 'rana': 8016, 'pinker': 8017, 'satin0like': 8018, 'drawer': 8019, 'pretties': 8020, \"'70's\": 8021, 'checklist': 8022, 'potbellied': 8023, 'carrie': 8024, 'bradshaw': 8025, 'cosiest': 8026, 'luscious': 8027, 'luster': 8028, 'asylum': 8029, 'lowcut': 8030, 'sub': 8031, 'portrays': 8032, 'summation': 8033, 'strenuous': 8034, 'unfixable': 8035, 'yer': 8036, 'sidezip': 8037, 'gabardia': 8038, 'lacausa': 8039, 'dara': 8040, 'iteration': 8041, 'ey': 8042, 'min': 8043, 'coverin': 8044, 'hesitantly': 8045, 'she': 8046, 'regulr': 8047, \"mayn't\": 8048, 'nutmeg': 8049, \"'bell\": 8050, 'curtains': 8051, 'thirst': 8052, 'yasss': 8053, 'announce': 8054, 'nonsense': 8055, 'exchanging': 8056, 'comcerns': 8057, 'backpack': 8058, 'flattering1': 8059, '1940s': 8060, \"'flair'\": 8061, 'retreat': 8062, 'accuracy': 8063, 'sheed': 8064, 'whihc': 8065, 'wayup': 8066, 'non0muscular': 8067, 'craze': 8068, 'inward': 8069, \"'true\": 8070, \"size'\": 8071, 'recommemd': 8072, 'whiplash': 8073, 'damask': 8074, 'zowie': 8075, 'swept': 8076, 'blind': 8077, 'sampler': 8078, 'loosness': 8079, 'na': 8080, 'nightgowns': 8081, 'cna': 8082, 'undesired': 8083, 'conditionally': 8084, 'slump': 8085, 'disapointed': 8086, 'marvilously': 8087, 'ears': 8088, 'nose': 8089, 'wink': 8090, 'offlate': 8091, 'bikinis': 8092, 'outermost': 8093, '36j': 8094, 'dining': 8095, 'yolk': 8096, 'reveive': 8097, 'gush': 8098, 'spills': 8099, 'impede': 8100, 'cowgirl': 8101, 'nonuniform': 8102, 'bummers': 8103, 'ash': 8104, 'creamsicle': 8105, 'bunched': 8106, 'mutton': 8107, 'lamb': 8108, 'cheesecake': 8109, 'grave': 8110, 'debating': 8111, 'nellore': 8112, 'charter': 8113, 'phot': 8114, 'southwestern': 8115, 'brilliance': 8116, 'downtown': 8117, 'ddd36': 8118, 'perso': 8119, 'lifelong': 8120, \"'long\": 8121, \"heavy'\": 8122, 'reliably': 8123, 'sweltering': 8124, 'garmets': 8125, 'showpiece': 8126, \"40''\": 8127, 'crwal': 8128, 'fals': 8129, 'awkwards': 8130, 'pot': 8131, 'comfrtable': 8132, 'conspicuous': 8133, 'hungry': 8134, 'preview': 8135, 'imay': 8136, 'toothpaste': 8137, 'pdx': 8138, 'excel': 8139, 'stroke': 8140, '63': 8141, 'sillier': 8142, 'stage': 8143, 'wond': 8144, 'alllll': 8145, 'tour': 8146, 'museums': 8147, 'churches': 8148, 'layerng': 8149, 'apre': 8150, 'disliked': 8151, 'shared': 8152, 'cones': 8153, 'stair': 8154, 'marathoner': 8155, 'prices': 8156, 'ordred': 8157, 'winnrer': 8158, 'makers': 8159, 'marvel': 8160, \"i's\": 8161, 'ahahahaha': 8162, 'resort': 8163, 'tme0': 8164, 'roc': 8165, 'loooooong': 8166, 'nuts': 8167, 'wearers': 8168, 'lecture': 8169, 'undergrads': 8170, 'translation': 8171, 'freakishly': 8172, 'oot': 8173, 'caz': 8174, 'refined': 8175, 'discard': 8176, 'patagonia': 8177, 'amt': 8178, 'vermillion': 8179, '2017': 8180, '34e': 8181, 'kne': 8182, '7in': 8183, \"'great\": 8184, 'mallard': 8185, 'coobie': 8186, 'casula': 8187, 'compliements': 8188, 'keer': 8189, 'asters': 8190, 'ageless': 8191, 'taggart': 8192, 'blingy': 8193, 'exclusives': 8194, '73': 8195, 'rips': 8196, 'washi': 8197, 'shapelessness': 8198, \"'larger'\": 8199, \"'weather'\": 8200, 'vain': 8201, 'profession': 8202, 'mumsy': 8203, 'offwhite': 8204, 'waters': 8205, 'handwashable': 8206, 'myyyy': 8207, \"26''\": 8208, 'thighness': 8209, 'cleani': 8210, 'breezie': 8211, 'chokers': 8212, 'stumps': 8213, \"'poor\": 8214, \"boy'\": 8215, 'prolong': 8216, \"grandpa's\": 8217, 'elephant': 8218, 'weekender': 8219, 'descriptive': 8220, 'automatically': 8221, 'modification': 8222, 'thrille': 8223, 'brochure': 8224, 'z': 8225, 'flake': 8226, \"'vegan'\": 8227, \"'cream'\": 8228, 'coth': 8229, 'stonw': 8230, 'inconvenient': 8231, 'pirchasing': 8232, 'tallish': 8233, 'madonna': 8234, \"hei's\": 8235, 'witho': 8236, 'wynwood': 8237, 'playfulness': 8238, 'overbeari': 8239, 'thongs': 8240, 'modernity': 8241, 'tidier': 8242, 'avergage': 8243, 'peaches': 8244, \"idea's\": 8245, 'sprites': 8246, 'outstretched': 8247, 'conside': 8248, 'washa': 8249, \"there're\": 8250, 'runa': 8251, 'geneva': 8252, 'companion': 8253, 'disco': 8254, 'handles': 8255, 'racetrack': 8256, 'joanna': 8257, 'gaines': 8258, 'sugge': 8259, 'itches': 8260, 'exoected': 8261, \"'slim\": 8262, \"tailored'\": 8263, 'chief': 8264, 'stickers': 8265, 'reticketed': 8266, \"'khaki'\": 8267, 'airiness': 8268, 'descri': 8269, 'fiddly': 8270, 'removal': 8271, 'brilliantly': 8272, 'panky': 8273, 'lov': 8274, 'lightwash': 8275, 'mainstreamed': 8276, 'challenges': 8277, \"'cut'\": 8278, 'sherbet': 8279, \"'tattered\": 8280, \"'cuts\": 8281, 'evocative': 8282, 'greatz': 8283, 'wtih': 8284, 'demoiselles': 8285, 'charmeuse': 8286, 'personalities': 8287, \"sui's\": 8288, 'scalloped': 8289, 'grandmotherly': 8290, 'tmie': 8291, 'isthe': 8292, 'lfit': 8293, 'lwd': 8294, 'deaux': 8295, 'les': 8296, 'fauves': 8297, 'neckband': 8298, 'fare': 8299, 'international': 8300, 'worldly': 8301, 'wisteria': 8302, 'leathers': 8303, 'detracts': 8304, 'huey': 8305, 'bip': 8306, 'indicative': 8307, 'bailley': 8308, 'obi': 8309, 'fruit': 8310, 'morocco': 8311, 'blur': 8312, 'rotate': 8313, 'timeframe': 8314, 'heav': 8315, \"'ride'\": 8316, 'iop': 8317, 'ned': 8318, 'sofy': 8319, 'nexk': 8320, 'dividends': 8321, 'anafa': 8322, 'stunna': 8323, 'lust': 8324, 'broadness': 8325, 'restore': 8326, '116bs': 8327, 'plcro': 8328, 'tulips': 8329, 'pluck': 8330, 'recipe': 8331, 'tenfold': 8332, 'origami': 8333, 'wreak': 8334, 'subsequent': 8335, 'bagger': 8336, 'squarish': 8337, 'nonpetite': 8338, 'fem': 8339, 'oder': 8340, 'overwearing': 8341, 'aleardy': 8342, 'overjoy': 8343, 'pantie': 8344, \"pantie's\": 8345, 'contempos': 8346, 'rt': 8347, 'daughte': 8348, 'righ': 8349, 'unusial': 8350, 'lovelovelovelovelove': 8351, 'hated': 8352, 'avoided': 8353, 'testing': 8354, 'slitted': 8355, 'toposition': 8356, 'bryden': 8357, 'acid': 8358, 'fel': 8359, 'unsung': 8360, 'hero': 8361, 'robins': 8362, 'egg': 8363, 'tennessee': 8364, 'fans': 8365, 'smurf': 8366, \"building's\": 8367, 'blast': 8368, 'padded': 8369, 'deff': 8370, 'overdressed': 8371, 'reinforcements': 8372, 'floored': 8373, 'devery': 8374, \"old's\": 8375, 'gymnastics': 8376, 'ord': 8377, 'linkages': 8378, 'prevented': 8379, '152': 8380, 'evergreen': 8381, 'surpring': 8382, 'cheep': 8383, 'definelty': 8384, 'matched': 8385, 'distressing': 8386, '198': 8387, '38inch': 8388, 'yards': 8389, 'lands': 8390, 'chunkiness': 8391, 'yore': 8392, 'hundreds': 8393, 'temple': 8394, 'appropriateness': 8395, 'happyinpdx': 8396, \"'go\": 8397, \"wish'd\": 8398, 'rebought': 8399, 'testament': 8400, '28t': 8401, 'nemesis': 8402, 'oversharing': 8403, '30gg': 8404, 'scored': 8405, 'pushed': 8406, 'ourselves': 8407, 'loveeeeeeee': 8408, 'teenager': 8409, 'avant': 8410, 'garde': 8411, 'lux': 8412, 'yuk': 8413, 'theirs': 8414, 'cunning': 8415, 'thirty': 8416, 'explode': 8417, 'doubts': 8418, 'generate': 8419, 'unacceptable': 8420, 'versitality': 8421, 'wouldn': 8422, 'insane': 8423, 'remiss': 8424, 'pantless': 8425, 'relent': 8426, 'reve': 8427, 'tooth': 8428, \"y'all\": 8429, 'haute': 8430, \"3000's\": 8431, 'reek': 8432, 'patchouli': 8433, \"does't\": 8434, 'resound': 8435, '156': 8436, 'decen': 8437, 'greedy': 8438, 'insistence': 8439, 'subset': 8440, 'nonsensical': 8441, 'unstable': 8442, 'weekday': 8443, 'cozying': 8444, 'wrappi': 8445, 'hwy': 8446, 'colla': 8447, 'beautful': 8448, 'mola': 8449, 'olsen': 8450, 'yellower': 8451, 'hops': 8452, 'dalls': 8453, 'irritable': 8454, 'unattached': 8455, 'unsecured': 8456, 'isses': 8457, 'tum': 8458, \"body's\": 8459, 'feely': 8460, 'notable': 8461, 'aid': 8462, 'observe': 8463, 'rig': 8464, 'perkier': 8465, 'maine': 8466, 'primas': 8467, \"'m\": 8468, 'snowflske': 8469, 'contortion': 8470, 'tulling': 8471, 'guise': 8472, 'patent': 8473, 'saizing': 8474, 'peiople': 8475, 'cutis': 8476, 'forgivin': 8477, 'tushy': 8478, 'skiny': 8479, \"'chunky'\": 8480, \"'softens'\": 8481, \"'more'\": 8482, 'ruffled': 8483, 'berkeley': 8484, 'proportionately': 8485, \"1920's\": 8486, 'cranky': 8487, 'merge': 8488, 'afterwork': 8489, 'thyre': 8490, 'thier': 8491, 'cheerleading': 8492, 'qualm': 8493, 'puffier': 8494, 'rearrange': 8495, 'midrift': 8496, 'troubadour': 8497, 'pirces': 8498, 'nexl': 8499, 'pcture': 8500, 'shapelessly': 8501, 'surplice': 8502, 'lemonade': 8503, 'opens': 8504, 'legwear': 8505, 'laughs': 8506, 'bsck': 8507, 'indiscretions': 8508, 'rooms': 8509, 'whirlwind': 8510, 'simlpe': 8511, 'denium': 8512, 'ghis': 8513, 'probabley': 8514, 'cavernous': 8515, '32nd': 8516, 'kneecaps': 8517, 'fleshy': 8518, 'firmness': 8519, 'inspect': 8520, 'domino': 8521, 'staticky': 8522, 'ex': 8523, 'affected': 8524, \"anthto's\": 8525, 'facebook': 8526, 'recoil': 8527, 'ooo': 8528, 'amsterdam': 8529, 'valentino': 8530, 'singer': 8531, 'performance': 8532, 'dash': 8533, 'fleetwoods': 8534, 'defi': 8535, 'comp': 8536, '3c': 8537, 'slither': 8538, 'anyw': 8539, 'orangeish': 8540, \"lab's\": 8541, 'cadi': 8542, 'colwyn': 8543, 'smiling': 8544, 'unappealing': 8545, 'wrangle': 8546, \"lars'\": 8547, 'urrrrgh': 8548, 'generic': 8549, \"'just'\": 8550, \"'digi\": 8551, 'narrowis': 8552, 'crumply': 8553, 'porportions': 8554, 'ehh': 8555, 'delettas': 8556, 'system': 8557, 'dangerously': 8558, 'wildfire': 8559, 'prohibitively': 8560, 'folklore': 8561, 'amazed': 8562, 'hmmmm': 8563, 'eclat': 8564, 'platinum': 8565, \"sayin'\": 8566, 'hopeless': 8567, 'toasting': 8568, \"'nice'\": 8569, 'purpley': 8570, 'earnest': 8571, 'sprea': 8572, 'embroarding': 8573, 'delegate': 8574, 'preach': 8575, 'choir': 8576, 'altar': 8577, 'hail': 8578, \"'gathered\": 8579, 'pickup': 8580, 'kindest': 8581, 'homemade': 8582, 'lovel': 8583, 'swanky': 8584, '103lb': 8585, 'juuuuussst': 8586, 'seven': 8587, 'visions': 8588, 'splendor': 8589, 'intracately': 8590, 'magnolia': 8591, 'milestone': 8592, 'peoppe': 8593, 'ecause': 8594, 'theres': 8595, 'loft': 8596, 'pastries': 8597, 'ingratiating': 8598, 'suport': 8599, 'deign': 8600, 'batty': 8601, 'impr': 8602, 'tdf': 8603, 'walks': 8604, 'quibbles': 8605, 'niche': 8606, 'compa': 8607, 'blight': 8608, 'wante': 8609, 'fantabulous': 8610, 'recognition': 8611, 'sheerish': 8612, 'trips': 8613, 'sooooooooooooo': 8614, 'pashminas': 8615, 'tremendous': 8616, 'ruf': 8617, 'embarassingly': 8618, 'unprofessionally': 8619, 'stopped': 8620, 'uptown': 8621, 'spatter': 8622, 'turning': 8623, 'instuctions': 8624, 'dryable': 8625, 'goodwill': 8626, 'monotony': 8627, 'weakness': 8628, 'intrusive': 8629, 'michigans': 8630, 'mishap': 8631, 'choise': 8632, 'allergies': 8633, '800': 8634, 'resources': 8635, 'fuscia': 8636, 'purpleish': 8637, 'peony': 8638, 'bcasue': 8639, 'anothr': 8640, 'proably': 8641, 'powerless': 8642, \"'short'\": 8643, 'blowzy': 8644, 'anthto': 8645, 'jiffy': 8646, 'timey': 8647, '39ish': 8648, 'unfini': 8649, 'fatale': 8650, 'climb': 8651, 'biking': 8652, 'minny': 8653, 'pinched': 8654, 'whine': 8655, 'washout': 8656, 'grabbing': 8657, 'lampshades': 8658, \"husband''s\": 8659, 'he': 8660, 'reel': 8661, 'boundaries': 8662, 'tory': 8663, 'burch': 8664, 'sbags': 8665, 'perfectionist': 8666, 'aligned': 8667, 'demential': 8668, 'sweeten': 8669, 'liiiiiittle': 8670, 'destruct': 8671, 'irr': 8672, 'plague': 8673, 'bracelets': 8674, 'pasadena': 8675, 'hirt': 8676, 'christen': 8677, 'born': 8678, \"'dressed\": 8679, \"'dressing\": 8680, \"down'\": 8681, 'darkly': 8682, 'standpoint': 8683, 'react': 8684, 'loro': 8685, 'piana': 8686, 'ide': 8687, 'shove': 8688, 'scree': 8689, 'stri': 8690, 'lenox': 8691, 'geek': 8692, 'sepia': 8693, 'lauer': 8694, 'blob': 8695, \"orange'\": 8696, \"'drape'\": 8697, 'demon': 8698, 'revisitation': 8699, 'teardrop': 8700, 'cheapest': 8701, 'pratically': 8702, 'colw': 8703, 'ripples': 8704, 'tummmy': 8705, 'cringe': 8706, 'attractively': 8707, 'renatkable': 8708, 'expectant': 8709, 'pacifica': 8710, 'oval': 8711, 'retur': 8712, 'classes': 8713, 'neccissarily': 8714, 'outdated': 8715, 'unbuttoning': 8716, 'unsuccessful': 8717, 'buttoms': 8718, 'elastized': 8719, 'enoug': 8720, 'cooperate': 8721, \"'curves'\": 8722, 'smear': 8723, 'howeverl': 8724, 'marie': 8725, \"kondo's\": 8726, 'sparks': 8727, 'unstitch': 8728, 'basement': 8729, 'lied': 8730, 'spor': 8731, 'wooly': 8732, \"must've\": 8733, \"'honey\": 8734, \"slip'\": 8735, 'posy': 8736, 'intertwined': 8737, 'hipefully': 8738, 'wuality': 8739, 'pernette': 8740, 'luggage': 8741, 'throught': 8742, 'delete': 8743, 'books': 8744, '180lbs': 8745, 'inserts': 8746, 'ventilation': 8747, 'freestyle': 8748, 'rechecking': 8749, 'signs': 8750, 'widelegs': 8751, 'dated': 8752, 'rescue': 8753, 'conversely': 8754, 'themselves': 8755, 'polarize': 8756, '02': 8757, 'clarify': 8758, 'cheeks': 8759, 'doldrums': 8760, 'powdery': 8761, 'janes': 8762, 'dreams': 8763, 'abhor': 8764, 'indifference': 8765, 'clack': 8766, 'ranks': 8767, \"5's\": 8768, 'buttah': 8769, 'petiite': 8770, 'astoria': 8771, 'headwaters': 8772, 'seychelle': 8773, \"d'orsay\": 8774, 'photography': 8775, 'rogers': 8776, 'discrepency': 8777, 'cutely': 8778, 'neckes': 8779, 'srink': 8780, 'tapering': 8781, 'indicated': 8782, \"it'a\": 8783, 'beachside': 8784, 'fireside': 8785, 'comnfortable': 8786, 'napkin': 8787, '40dd': 8788, 'palo': 8789, 'alto': 8790, 'edessa': 8791, 'sui': 8792, 'billowly': 8793, 'engagements': 8794, 'clasic': 8795, 'amnesty': 8796, 'athropologie': 8797, 'allows': 8798, 'marine': 8799, 'goi': 8800, 'rigidity': 8801, 'wishy': 8802, 'washy': 8803, 'shh': 8804, 'itll': 8805, \"antropologie's\": 8806, 'trump': 8807, 'comfortabl': 8808, 'receiving': 8809, '30lbs': 8810, 'eyeball': 8811, 'ansy': 8812, 'japan': 8813, 'deviate': 8814, 'puckering': 8815, 'gett': 8816, '172lbs': 8817, 'gerat': 8818, 'tries': 8819, 'veratile': 8820, 'approachable': 8821, 'definitive': 8822, 'specs': 8823, 'complimen': 8824, 'catog': 8825, 'shotty': 8826, 'desirable': 8827, 'duplicate': 8828, 'surroundings': 8829, 'pleases': 8830, 'necked': 8831, 'goodbye': 8832, 'harmonious': 8833, 'drawing': 8834, 'resolution': 8835, 'collarbones': 8836, 'mislabel': 8837, 'am5': 8838, \"'3\": 8839, 'converted': 8840, 'dictate': 8841, 'stinkin': 8842, 'snails': 8843, 'inadvertently': 8844, 'typica': 8845, 'limb': 8846, 'hermosa': 8847, 'zuma': 8848, \"seea's\": 8849, 'surfing': 8850, 'padd': 8851, '20lb': 8852, 'likee': 8853, 'favulous': 8854, 'precise': 8855, 'gas': 8856, 'station': 8857, 'airyness': 8858, 'stuggle': 8859, 'lbds': 8860, 'descent': 8861, 'futuristic': 8862, 'claims': 8863, 'pry': 8864, 'ie': 8865, 'tis': 8866, 'matetial': 8867, 'pijamas': 8868, 'aft': 8869, 'incorporated': 8870, 'differemt': 8871, 'flar': 8872, 'triue': 8873, 'camsiole': 8874, 'tooks': 8875, 'campole': 8876, 'neckli': 8877, 'consciousness': 8878, 'addressed': 8879, 'suburban': 8880, 'toggles': 8881, 'saga': 8882, 'superfast': 8883, 'hosiery': 8884, 'brave': 8885, 'improvements': 8886, 'beneficial': 8887, 'analysis': 8888, 'pathetic': 8889, 'inaccurately': 8890, 'singly': 8891, 'creatures': 8892, 'gamut': 8893, 'salivate': 8894, 'homework': 8895, 'swatch': 8896, 'determined': 8897, 'represented': 8898, 'hire': 8899, \"lady's\": 8900, 'isalmsot': 8901, 'zipepr': 8902, 'tlc': 8903, 'demonstrates': 8904, 'encompass': 8905, 'whiten': 8906, 'anomaly': 8907, 'artists': 8908, 'appliques': 8909, 'np': 8910, 'requirement': 8911, 'fellow': 8912, 'davy': 8913, 'crockett': 8914, 'vers': 8915, 'cop': 8916, 'odette': 8917, '124lb': 8918, \"'different\": 8919, \"'puckered'\": 8920, 'snowing': 8921, 'stubby': 8922, '132lbs': 8923, 'roomies': 8924, \"'vintage\": 8925, \"sage'\": 8926, 'undertsated': 8927, 'fabricators': 8928, 'stare': 8929, 'overbear': 8930, 'wetsuit': 8931, 'fawcett': 8932, 'enthral': 8933, 'remarks': 8934, 'mixtures': 8935, 'interfered': 8936, 'twirling': 8937, 'welp': 8938, 'botton': 8939, 'apetite': 8940, 'murky': 8941, 'oood': 8942, 'rtw': 8943, 'obsxessing': 8944, 'whcich': 8945, 'workedc': 8946, 'seas': 8947, 'temperate': 8948, 'stunninng': 8949, 'loos': 8950, 'swingier': 8951, 'kit': 8952, 'beatrice': 8953, 'painted': 8954, 'dd34': 8955, \"'pink'\": 8956, 'waistcoat': 8957, 'pho': 8958, 'snakeskin': 8959, 'harsher': 8960, 'verses': 8961, 'outrageously': 8962, 'luisa': 8963, 'yummysweater': 8964, 'presentable': 8965, 'bass': 8966, 'meghan': 8967, 'trainor': 8968, 'song': 8969, 'worrying': 8970, 'unhook': 8971, 'clamp': 8972, 'unassuming': 8973, 'oclor': 8974, 'happiness': 8975, 'splashy': 8976, 'sha': 8977, 'sift': 8978, 'nailed': 8979, 'seperate': 8980, 'haunt': 8981, 'eternal': 8982, 'association': 8983, 'candidate': 8984, 'ours': 8985, 'plentiful': 8986, 'overa': 8987, 'pasta': 8988, 'scandelously': 8989, 'surgery': 8990, \"hasn'\": 8991, 'chew': 8992, 'impresssionistic': 8993, 'nue': 8994, 'shani': 8995, 'beautifull': 8996, 'md': 8997, 'victim': 8998, 'horrors': 8999, 'sweatshirty': 9000, 'hilary': 9001, 'clinton': 9002, '54': 9003, 'cello': 9004, 'wiht6': 9005, 'schoolboy': 9006, 'conversational': 9007, 'pinafore': 9008, 'ands': 9009, 'oldie': 9010, 'goodie': 9011, 'prowl': 9012, 'twee': 9013, 'lowness': 9014, 'failed': 9015, 'sli': 9016, \"5'2'm\": 9017, 'xspwas': 9018, 'sfylish': 9019, 'bismal': 9020, 'fondly': 9021, 'ilove': 9022, 'turqouise': 9023, 'brazilian': 9024, 'foster': 9025, 'intensity': 9026, 'drearriest': 9027, '5ft3in': 9028, 'sear': 9029, \"we'd\": 9030, 'crawl': 9031, 'ike': 9032, 'backward': 9033, 'nirsing': 9034, 'trired': 9035, 'lvoed': 9036, 'dose': 9037, 'valid': 9038, 'stonewashing': 9039, 'linear': 9040, '3xs': 9041, '4l': 9042, 'whale': 9043, 'stoe': 9044, '125ish': 9045, '2007': 9046, 'chicness': 9047, 'degrade': 9048, 'bitty': 9049, 'putting': 9050, 'checks': 9051, 'anthousai': 9052, 'starburst': 9053, 'menti': 9054, 'theo': 9055, 'nly': 9056, 'lis': 9057, \"cant'\": 9058, 'pelvis': 9059, 'throughou': 9060, \"there'll\": 9061, '30ss': 9062, 'mys': 9063, 'soaked': 9064, 'bleu': 9065, 'thorax': 9066, 'trucker': 9067, 'camouflages': 9068, \"'ol\": 9069, 'tommy': 9070, 'bahama': 9071, \"sleeves'\": 9072, 'alicia': 9073, 'counterbalance': 9074, 'farthest': 9075, 'central': 9076, 'task': 9077, 'linger': 9078, '9lower': 9079, 'lbsm': 9080, 'witing': 9081, 'finale': 9082, 'shrunken': 9083, 'lsit': 9084, 'modl': 9085, 'ute': 9086, 'brught': 9087, 'onin': 9088, 'somuch': 9089, 'procrastinate': 9090, \"person's\": 9091, 'seductive': 9092, 'fulle': 9093, 'diss': 9094, 'swiftly': 9095, 'apttenrs': 9096, 'george': 9097, 'venson': 9098, 'vousta': 9099, 'bears': 9100, 'deer': 9101, 'readily': 9102, 'choppy': 9103, 'peplm': 9104, 'anyday': 9105, '33a': 9106, 'knots': 9107, 'stiffy': 9108, 'elita': 9109, 'lanka': 9110, 'wer': 9111, 'wor': 9112, 'abck': 9113, 'peekaboos': 9114, 'imperial': 9115, 'thursday': 9116, 'knitter': 9117, 'finially': 9118, 'manicure': 9119, 'seats': 9120, 'suffocate': 9121, 'array': 9122, 'sentiments': 9123, 'ni': 9124, 'nonconsequential': 9125, '2012': 9126, 'roughness': 9127, 'mill': 9128, 'discuss': 9129, 'spacedye': 9130, 'ravel': 9131, 'toronto': 9132, 'columbia': 9133, 'puctures': 9134, 'lightwe': 9135, 'suite': 9136, 'dual': 9137, 'clas': 9138, 'adorably': 9139, 'eccentric': 9140, 'adhesive': 9141, 'fuzzes': 9142, 'sample': 9143, 'p2': 9144, 'hawing': 9145, 'remnant': 9146, 'manette': 9147, 'retailerplogie': 9148, 'crispy': 9149, 'tir': 9150, \"complaint'\": 9151, 'nora': 9152, 'sways': 9153, 'mauv': 9154, 'takeaway': 9155, 'awww': 9156, 'crisply': 9157, 'africa': 9158, 'prick': 9159, 'rubbed': 9160, 'habit': 9161, 'untanned': 9162, '30percent': 9163, 'midsummer': 9164, 'workplaces': 9165, 'towns': 9166, 'foresee': 9167, 'hoops': 9168, 'sweatering': 9169, 'lacing': 9170, 'rural': 9171, 'countries': 9172, 'openwork': 9173, 'weightier': 9174, '1950s': 9175, 'monroe': 9176, 'baring': 9177, 'circular': 9178, 'florescent': 9179, 'jaw': 9180, 'christmas1': 9181, 'dreadful': 9182, 'worsk': 9183, 'dreses': 9184, 'neitral': 9185, 'breathability': 9186, 'unnoticeable': 9187, 'kilter': 9188, 'quilted': 9189, 'optic': 9190, 'trally': 9191, 'professionalism': 9192, 'noir': 9193, 'specify': 9194, 'gnarly': 9195, 'bout': 9196, 'closes': 9197, 'humor': 9198, 'ummmmm': 9199, 'hess': 9200, 'surmountable': 9201, 'dylan': 9202, 'mccartney': 9203, 'roger': 9204, 'walters': 9205, 'neil': 9206, '114lbs': 9207, 'restretched': 9208, 'respectable': 9209, 'mate': 9210, 'supermodel': 9211, 'disclosure': 9212, 'tthe': 9213, 'polyurethane': 9214, 'throb': 9215, 'trunks': 9216, 'swathe': 9217, 'sore': 9218, 'newly': 9219, 'thousand': 9220, 'tangl': 9221, 'cont': 9222, 'flipflops': 9223, 'sandstripe': 9224, \"ap's\": 9225, 'divulging': 9226, 'bumpkin': 9227, 'impeccably': 9228, 'gapless': 9229, 'listing': 9230, 'conspicuously': 9231, 'goldish': 9232, 'hedge': 9233, \"girls'\": 9234, 'althetic': 9235, 'reoommend': 9236, '40yo': 9237, 'surprisngly': 9238, 'tightish': 9239, 'disapppointed': 9240, 'nubbly': 9241, 'globs': 9242, 'budges': 9243, 'mystify': 9244, 'ro': 9245, 'upsid': 9246, 'melt': 9247, 'cherish': 9248, 'coveted': 9249, 'sz26': 9250, 'trailered': 9251, 'goon': 9252, 'unreasonable': 9253, 'nightshirt': 9254, 'feline': 9255, 'receiv': 9256, '28l': 9257, 'disappears': 9258, 'screams': 9259, 'lets': 9260, 'georgia': 9261, \"5''6'\": 9262, 'scrooge': 9263, 'jaggedly': 9264, 'haphazardly': 9265, 'fp': 9266, 'elasticised': 9267, \"you've\": 9268, 'femenine': 9269, 'swlim': 9270, 'emobroidery': 9271, 'eggshell': 9272, 'bootles': 9273, 'boxer': 9274, \"'must\": 9275, \"have'\": 9276, 'armh': 9277, 'foil': 9278, 'tur': 9279, 'androgynous': 9280, 'entice': 9281, 'printing': 9282, 'girth': 9283, \"zoolander's\": 9284, 'derelict': 9285, 'campaign': 9286, 'pict': 9287, 'leary': 9288, 'embroi': 9289, 'keel': 9290, 'brocades': 9291, \"0's\": 9292, 'flowier': 9293, 'gorge': 9294, 'unsolvable': 9295, 'lke': 9296, 'justification': 9297, 'squirrel': 9298, 'palettes': 9299, 'hipster': 9300, 'intarsia': 9301, 'thang': 9302, 'organza': 9303, 'closu': 9304, 'iphone': 9305, 'packs': 9306, 'tucks': 9307, 'nevermind': 9308, 'horizont': 9309, 'crossfit': 9310, 'commets': 9311, 'nline': 9312, 'flaterring': 9313, 'rebviews': 9314, 'tested': 9315, 'leak': 9316, 'taylor': 9317, 'mankind': 9318, 'gunny': 9319, 'sax': 9320, 'boutiques': 9321, \"5'2'\": 9322, 'misty': 9323, 'kakhi': 9324, 'ahhhhmazing': 9325, 'raindrops': 9326, 'liners': 9327, 'mulit': 9328, 'briar': 9329, 'undamaged': 9330, 'unbalanced': 9331, 'stitc': 9332, 'dds': 9333, 'bane': 9334, 'existence': 9335, 'burden': 9336, 'loreley': 9337, 'vitamin': 9338, 'anastasia': 9339, 'betcha': 9340, '36dddd': 9341, 'appetite': 9342, 'balc': 9343, 'legginss': 9344, 'botos': 9345, 'sublte': 9346, 'noyte': 9347, 'tropicale': 9348, 'paradise': 9349, 'creases': 9350, 'recurve': 9351, 'freshen': 9352, 'tres': 9353, 'meander': 9354, 'mortar': 9355, 'thei': 9356, 'ole': 9357, 'heap': 9358, 'redish': 9359, 'creamish': 9360, 'necessa': 9361, 'carmel': 9362, 'hange': 9363, 'overruled': 9364, '142lbs': 9365, 'alpinia': 9366, 'uhhhmmmazing': 9367, 'adjustability': 9368, 'shelves': 9369, 'upwards': 9370, 'tryi': 9371, 'troublesome': 9372, 'taco': 9373, 'indecisive': 9374, 'newbury': 9375, \"36'\": 9376, 'outwear': 9377, 'growths': 9378, 'resent': 9379, 'likea': 9380, 'har': 9381, 'dtime': 9382, 'peites': 9383, 'dramaticly': 9384, 'conservatively': 9385, 'sheers': 9386, 'prepregnancy': 9387, '133lbs': 9388, 'few': 9389, 'introduce': 9390, 'andddddd': 9391, 'nigh': 9392, \"small's\": 9393, 'materical': 9394, 'priviledge': 9395, 'nonsolid': 9396, 'drumstick': 9397, 'constructions': 9398, 'fitt': 9399, 'bretin': 9400, 'insubstantial': 9401, 'changed': 9402, 'nred': 9403, '36aa': 9404, 'mere': 9405, 'slubbed': 9406, 'huuuuggge': 9407, 'expexted': 9408, 'lovin': 9409, 'vision': 9410, 'snuggest': 9411, 'reveals': 9412, 'goodthing': 9413, 'limitations': 9414, 'clearer': 9415, 'brutal': 9416, 'thruout': 9417, 'fastener': 9418, 'linguini': 9419, 'hel': 9420, 'sooooooooooooooo': 9421, 'numero': 9422, 'uno': 9423, 'canopy': 9424, 'guard': 9425, 'unbreathable': 9426, 'astronomical': 9427, 'scenario': 9428, 'inexcusable': 9429, 'uneasy': 9430, 'abolutely': 9431, 'instagrams': 9432, 'ws': 9433, 'iwould': 9434, 'ehels': 9435, 'perhpas': 9436, 'frnt': 9437, 'airplane': 9438, 'ext': 9439, 'thirteen': 9440, 'indecently': 9441, 'oprefer': 9442, 'aottern': 9443, 'mediu': 9444, 'enthusiast': 9445, 'looovvveee': 9446, 'charente': 9447, 'screaming': 9448, \"swimmer's\": 9449, 'nee': 9450, 'recei': 9451, 'blocks': 9452, 'bermudas': 9453, 'imp': 9454, 'yumi': 9455, 'kim': 9456, 'someway': 9457, 'habitus': 9458, 'teachers': 9459, 'revelations': 9460, 'bandwagon': 9461, 'baggage': 9462, 'bismol': 9463, 'ooooo': 9464, 'rega': 9465, 'ack': 9466, 'snl': 9467, 'woah': 9468, 'sai': 9469, 'sept': 9470, 'upload': 9471, 'brother': 9472, 'weddingrehearsal': 9473, 'las': 9474, 'vegas': 9475, 'storage': 9476, \"'stuck'\": 9477, 'senitive': 9478, 'approprialty': 9479, '62': 9480, 'chiquita': 9481, 'ilike': 9482, 'contemplating': 9483, 'salesgirls': 9484, 'overywhelming': 9485, 'onlin': 9486, 'jsutice': 9487, 'percect': 9488, 'dimples': 9489, 'yfit': 9490, 'styllsit': 9491, 'insiting': 9492, 'lstretch': 9493, 'shal': 9494, 'possi': 9495, 'prewashed': 9496, \"won's\": 9497, 'coziest': 9498, 'althleisure': 9499, 'pinstripes': 9500, 'adorn': 9501, 'parker': 9502, 'loses': 9503, 'smokes': 9504, 'lauzet': 9505, 'rial': 9506, 'dippy': 9507, '1994': 9508, 'freshman': 9509, 'highschool': 9510, 'ta': 9511, 'rachel': 9512, 'complimented': 9513, 'minimized': 9514, 'demand': 9515, 'moomoo': 9516, 'illustrations': 9517, 'permit': 9518, 'pinup': 9519, 'internationally': 9520, 'excursions': 9521, 'tuc': 9522, 'cacoon': 9523, 'ahtro': 9524, 'cerise': 9525, 'enjoyment': 9526, 'living': 9527, \"hadn't\": 9528, '5ft7': 9529, 'sparklecolor': 9530, 'closets': 9531, 'plunging': 9532, 'bcup': 9533, \"donse't\": 9534, 'population': 9535, 'redundant': 9536, 'chooses': 9537, 'soap': 9538, 'cur': 9539, 'completer': 9540, 'sue': 9541, 'pique': 9542, 'fort': 9543, 'knox': 9544, 'gauntlet': 9545, 'ff': 9546, 'lef': 9547, 'looooong': 9548, 'outgo': 9549, 'fusible': 9550, 'interfacing': 9551, 'topish': 9552, 'acquaintance': 9553, 'google': 9554, 'nephew': 9555, 'declare': 9556, 'nanette': 9557, 'lepore': 9558, 'craziest': 9559, 'shuffle': 9560, 'cozily': 9561, \"world's\": 9562, 'cagrcoal': 9563, 'aded': 9564, 'mintue': 9565, 'darkler': 9566, 'mathced': 9567, 'everythiing': 9568, 'msallet': 9569, 'jkeep': 9570, 'matvehd': 9571, 'waas': 9572, 'embodiment': 9573, 'pesky': 9574, 'owning': 9575, 'beckon': 9576, 'straightforward': 9577, 'coope': 9578, 'amelia': 9579, 'bedelia': 9580, 'whacky': 9581, \"'jeans'\": 9582, 'hysterically': 9583, 'hurting': 9584, 'poking': 9585, 'kil': 9586, 'satisfactorily': 9587, 'potentail': 9588, 'julep': 9589, 'wreck': 9590, 'otw': 9591, 'fabled': 9592, \"medium's\": 9593, 'bottomless': 9594, 'aaaahmazing': 9595, 'sohpisticated': 9596, 'kindly': 9597, 'stirrup': 9598, 'avery': 9599, \"g's\": 9600, 'myuch': 9601, 'betwe': 9602, \"'go'\": 9603, 'mending': 9604, 'et': 9605, 'comeback': 9606, 'lengt': 9607, 'inlay': 9608, 'fuddy': 9609, 'duddy': 9610, 'caress': 9611, 'poofier': 9612, 'lucy': 9613, 'lui': 9614, 'elementary': 9615, \"friday's\": 9616, 'fringy': 9617, 'headache': 9618, 'shotgun': 9619, 'merit': 9620, 'shyle': 9621, 'bressay': 9622, 'shlumpy': 9623, 'portrait': 9624, 'juneberry': 9625, 'france': 9626, 'tickets': 9627, '137lbs': 9628, 'strive': 9629, 'peppery': 9630, 'uniqlo': 9631, 'airism': 9632, 'wanderer': 9633, 'raining': 9634, 'notta': 9635, 'ligher': 9636, 'pretry': 9637, 'discounts': 9638, 'plans': 9639, 'creations': 9640, '27inches': 9641, 'wht': 9642, '3was': 9643, 'flipp': 9644, 'lrg': 9645, 'bellowy': 9646, 'spades': 9647, 'regained': 9648, 'fate': 9649, 'htat': 9650, 'aversion': 9651, 'lilka': 9652, \"haven'\": 9653, 'hone': 9654, 'canyon': 9655, 'pep': 9656, 'spree': 9657, 'tow': 9658, 'him': 9659, 'dressied': 9660, 'swindle': 9661, 'nancydee': 9662, 'happiest': 9663, 'spade': 9664, 'dynam': 9665, 'crude': 9666, 'eyeglass': 9667, 'sunglass': 9668, \"neckline's\": 9669, 'gooooorgeous': 9670, 'coveting': 9671, 'reordered': 9672, 'asymetric': 9673, 'sizable': 9674, 'quietly': 9675, 'quiet': 9676, 'redyed': 9677, 'outsized': 9678, \"'floppy'\": 9679, 'wither': 9680, 'advantages': 9681, \"'90's\": 9682, '154lbs': 9683, 'cardie': 9684, 'consist': 9685, 'modifications': 9686, 'wisely': 9687, 'strecth': 9688, 'scuba': 9689, 'crutches': 9690, '6am': 9691, '4am': 9692, 'cirque': 9693, 'chaos': 9694, 'du': 9695, 'wiry': 9696, 'crisscrossed': 9697, 'grad': 9698, 'hydrogen': 9699, 'peroxide': 9700, 'johns': 9701, 'vow': 9702, 'casing': 9703, 'rehersal': 9704, 'tk': 9705, 'quadruplets': 9706, 'accumulate': 9707, 'entrancing': 9708, 'annoyingly': 9709, 'undefined': 9710, 'disappointedly': 9711, 'bridge': 9712, 'daylight': 9713, 'desperat': 9714, 'freepeople': 9715, 'neater': 9716, 'seasonally': 9717, 'ocd': 9718, 'expec': 9719, 'leifsdottir': 9720, 'filipino': 9721, 'improperly': 9722, 'cartoonishly': 9723, 'sava': 9724, \"'faux\": 9725, \"cardi'\": 9726, 'slvs': 9727, 'fatiques': 9728, 'someth': 9729, 'outing': 9730, 'incarnations': 9731, \"'runs\": 9732, \"large'\": 9733, \"33's\": 9734, 'lobster': 9735, '03': 9736, 'che': 9737, 'racier': 9738, 'weddi': 9739, 'rouched': 9740, 'frays': 9741, 'attent': 9742, 'boutique': 9743, 'tout': 9744, 'ichy': 9745, 'buthe': 9746, 'iether': 9747, 'formed': 9748, 'roommate': 9749, \"retailerpolgies'\": 9750, 'laec': 9751, 'dolce': 9752, 'vita': 9753, 'flamboyant': 9754, 'x3': 9755, 'began': 9756, 'minimalism': 9757, 'oatmealish': 9758, 'reallly': 9759, 'waaaaaay': 9760, 'uncomfotably': 9761, 'vocoder': 9762, \"'peeks'\": 9763, 'skills': 9764, 'tula': 9765, 'unfit': 9766, \"'fitted'\": 9767, 'topnotch': 9768, 'corn': 9769, 'comor': 9770, 'surprizingly': 9771, 'nbeed': 9772, 'eex': 9773, 'cleave': 9774, 'lovelovelove': 9775, 'scarfs': 9776, 'mak': 9777, 'vaired': 9778, 'additio': 9779, 'enourmous': 9780, 'stichting': 9781, 'iand': 9782, 'waking': 9783, '130b': 9784, 'monogram': 9785, '129': 9786, 'liittle': 9787, 'cases': 9788, 'edgey': 9789, 'smoky': 9790, 'flaiir': 9791, 'admirable': 9792, 'reviewe': 9793, 'accommodates': 9794, 'loosley': 9795, \"4'9\": 9796, 'itso': 9797, 'unike': 9798, 'slinkiness': 9799, 'essentiel': 9800, 'antwerp': 9801, 'withing': 9802, 'austin': 9803, 'mainstay': 9804, 'loungey': 9805, 'colos': 9806, 'refgular': 9807, 'strectchy': 9808, 'stiched': 9809, 'ucan': 9810, 'adjsut': 9811, 'bonfire': 9812, 'montclair': 9813, 'horizon': 9814, 'colorsblocking': 9815, 'colorwise': 9816, '141': 9817, 'released': 9818, 'false': 9819, 'gorilla': 9820, 'jacker': 9821, 'swag': 9822, '25th': 9823, 'mistaken': 9824, 'humd': 9825, 'aroun': 9826, 'nuff': 9827, 'chrolox': 9828, 'lifespan': 9829, 'brigh': 9830, 'misunderstand': 9831, 'gorgeousness': 9832, 'emroidered': 9833, 'behave': 9834, 'santuary': 9835, '95lb': 9836, 'incidents': 9837, 'gothic': 9838, 'biker': 9839, 'otherw': 9840, 'distinctly': 9841, 'inlet': 9842, 'fluffiest': 9843, 'shapel': 9844, 'colorfastness': 9845, '7months': 9846, 'preggars': 9847, 'qual': 9848, 'delineator': 9849, 'hysterical': 9850, 'grows': 9851, 'astound': 9852, 'cro': 9853, 'heihei': 9854, 'conditionied': 9855, \"rue's\": 9856, 'hastle': 9857, 'repeating': 9858, 'wayyyyy': 9859, 'hundo': 9860, 'meda': 9861, 'ja': 9862, 'bettors': 9863, 'romance': 9864, 'hugger': 9865, \"'blue'\": 9866, 'pedal': 9867, 'pushers': 9868, 'fiend': 9869, 'comfotably': 9870, 'litle': 9871, 'retailerpligie': 9872, 'unmodest': 9873, \"'supposed\": 9874, 'normaly': 9875, 'prisoner': 9876, 'connector': 9877, 'runching': 9878, '5mo': 9879, 'cycles': 9880, 'transistional': 9881, 'irritatingly': 9882, 'amounts': 9883, 'flatform': 9884, 'grill': 9885, 'swath': 9886, 'tensile': 9887, 'jewels': 9888, 'canna': 9889, 'complainers': 9890, 'speaker': 9891, 'fundraise': 9892, 'homeless': 9893, 'abuse': 9894, 'affluent': 9895, 'physical': 9896, 'heartfelt': 9897, 'continually': 9898, 'inclusive': 9899, 'authenticity': 9900, 'encouragement': 9901, 'tasking': 9902, 'passions': 9903, 'sz4': 9904, 'coutour': 9905, 'wrardrobe': 9906, 'cellular': 9907, 'injury': 9908, 'savannah': 9909, 'goose': 9910, 'abercrombie': 9911, 'junctions': 9912, \"won'\": 9913, 'childlike': 9914, 'pinching': 9915, 'replaced': 9916, 'lnd': 9917, 'pliers': 9918, 'accidents': 9919, 'ret': 9920, 'veterinarian': 9921, 'daytripper': 9922, 'pleaser': 9923, 'produbt': 9924, 'feasible': 9925, 'holdup': 9926, 'tthis': 9927, 'estimate': 9928, 'classiest': 9929, \"passe'\": 9930, 'pvc': 9931, '35x28x39': 9932, 'slightl': 9933, 'lasership': 9934, 'deliveries': 9935, 'fedex': 9936, 'usps': 9937, 'cram': 9938, 'unprotected': 9939, 'soapbox': 9940, 'resilient': 9941, 'reign': 9942, 'surpise': 9943, 'backless': 9944, 'spoon': 9945, 'inst': 9946, 'prioritize': 9947, 'windier': 9948, 'accesso': 9949, 'styish': 9950, 'timy': 9951, 'wale': 9952, 'peace': 9953, 'sloft': 9954, 'negligee': 9955, 'chafe': 9956, 'sallow': 9957, 'ark': 9958, 'sung': 9959, \"6's\": 9960, '220lbs': 9961, 'resolutions': 9962, 'whack': 9963, 'dã©colletage': 9964, 'knobby': 9965, 'normall': 9966, 'vaca': 9967, 'ausaria': 9968, \"''\": 9969, 'arrow': 9970, 'sx': 9971, '33d': 9972, 'comfortab': 9973, \"harper's\": 9974, 'spiffy': 9975, 'textiled': 9976, \"jammie's\": 9977, 'retire': 9978, 'oft': 9979, 'overexposed': 9980, 'clumsy': 9981, 'enthusiastic': 9982, 'flattening': 9983, 'curse': 9984, 'banquet': 9985, 'goodhyouman': 9986, 'forehead': 9987, 'underrated': 9988, 'gasp': 9989, 'hahahaha': 9990, 'cycl': 9991, 'proble': 9992, 'interlock': 9993, 'purcahsed': 9994, 'heavens': 9995, 'tranforms': 9996, \"momma's\": 9997, 'pret': 9998, 'unfrotuantely': 9999, 'wintery': 10000, \"stylist's\": 10001, 'colsely': 10002, 'mentione': 10003, 'lark': 10004, \"20's\": 10005, \"'glide'\": 10006, \"'easy'\": 10007, 'muc': 10008, 'curly': 10009, 'modcloth': 10010, '20x': 10011, 'coplaints': 10012, 'pseudo': 10013, 'experie': 10014, 'tjhis': 10015, 'nansen': 10016, 'shortwaisted': 10017, 'ankl': 10018, 'hometown': 10019, 'ou': 10020, 'skir': 10021, 'connecticut': 10022, 'iin': 10023, 'bity': 10024, 'beauti': 10025, 'spinning': 10026, 'quit': 10027, '35a': 10028, 'seatbelt': 10029, 'secretly': 10030, 'wimpy': 10031, \"ii'm\": 10032, 'sheerer': 10033, 'amost': 10034, 'rediculous': 10035, 'pumpkin': 10036, 'constriction': 10037, 'mmmmm': 10038, 'overheated': 10039, 'tabby': 10040, 'extremes': 10041, 'nela': 10042, 'series': 10043, 'promotional': 10044, 'gravely': 10045, 'stayed': 10046, 'suuuuuper': 10047, 'perferred': 10048, 'couldve': 10049, \"'rope'\": 10050, 'cardig': 10051, 'daker': 10052, 'bottome': 10053, 'peitte': 10054, 'silkiness': 10055, '2r': 10056, 'swimmers': 10057, 'turend': 10058, 'thanskgiving': 10059, 'blou': 10060, '2013': 10061, 'notably': 10062, 'oredered': 10063, 'overemphasize': 10064, 'likded': 10065, 'riders': 10066, 'cervical': 10067, 'health': 10068, 'financial': 10069, 'bracket': 10070, 'folklorica': 10071, 'folkloric': 10072, \"30''\": 10073, \"31''\": 10074, 'firming': 10075, 'bight': 10076, 'perrfect': 10077, 'suprised': 10078, 'ita': 10079, 'ergo': 10080, 'marsupial': 10081, 'smack': 10082, 'dab': 10083, 'accentuatea': 10084, 'gatherings': 10085, 'fina': 10086, 'toucan': 10087, 'tassled': 10088, \"preggo's\": 10089, 'teenagers': 10090, 'autobots': 10091, 'symbol': 10092, 'transformers': 10093, 'matters': 10094, 'overt': 10095, 'dr4ess': 10096, 'caliber': 10097, 'layed': 10098, 'bea': 10099, 'hutch': 10100, 'murkier': 10101, 'smokey': 10102, 'easilly': 10103, 'reseam': 10104, \"'sugary'\": 10105, \"'pop\": 10106, 'metalic': 10107, 'allover': 10108, 'hist': 10109, 'entirel': 10110, 'indoor': 10111, 'retailerpologists': 10112, 'propose': 10113, 'perforate': 10114, 'palid': 10115, 'dummy': 10116, 'flo': 10117, 'pounced': 10118, 'enroute': 10119, 'inauthentic': 10120, 'morrissey': 10121, 'moz': 10122, 'cinderalla': 10123, 'accordion': 10124, 'tasseled': 10125, 'teeshirt': 10126, 'artificial': 10127, 'hula': 10128, 'conundrum': 10129, 'underestimated': 10130, 'pinterest': 10131, 'yello': 10132, 'aga': 10133, 'unavoidable': 10134, 'glimpse': 10135, 'viewable': 10136, 'disrupt': 10137, 'accordance': 10138, 'oven': 10139, 'glasses': 10140, 'conceptualize': 10141, 'ascetics': 10142, 'incomparable': 10143, '1970s': 10144, \"'swinging'\": 10145, 'soccer': 10146, '115llbs': 10147, 'vol': 10148, 'tricep': 10149, 'blunder': 10150, 'perches': 10151, 'frigid': 10152, 'doubled': 10153, 'harm': 10154, 'yak': 10155, 'whaa': 10156, 'scatter': 10157, 'suddently': 10158, 'became': 10159, 'withhold': 10160, 'mens': 10161, 'attribute': 10162, 'deduce': 10163, 'stinky': 10164, 'hammy': 10165, 'souers': 10166, 'thickeness': 10167, 'necklne': 10168, 'lovelove': 10169, 'troubles': 10170, 'decided': 10171, 'carful': 10172, 'intertwine': 10173, 'trough': 10174, \"subway's\": 10175, 'nook': 10176, 'cranny': 10177, 'dogs': 10178, 'trees': 10179, 'beaded': 10180, 'crunchy': 10181, 'saleslady': 10182, 'patchworked': 10183, 'westher': 10184, '4d': 10185, 'winh': 10186, 'areturn': 10187, '92': 10188, 'derriã©re': 10189, 'flavor': 10190, 'papaya': 10191, 'geiger': 10192, 'vouch': 10193, 'inwonderland': 10194, 'hesitancy': 10195, 'constrained': 10196, \"'layered\": 10197, 'sadie': 10198, \"top'\": 10199, 'ace': 10200, 'funk': 10201, 'void': 10202, 'wrn': 10203, 'sillhoette': 10204, 'brownies': 10205, 'givinng': 10206, \"dnd't\": 10207, 'flory': 10208, 'waistless': 10209, 'rivet': 10210, 'backlit': 10211, 'slowly': 10212, 'disappearing': 10213, '1993': 10214, 'jiggles': 10215, 'veer': 10216, 'brethren': 10217, 'missed': 10218, 'marin': 10219, '368': 10220, 'unbelievable': 10221, \"'i\": 10222, \"color'\": 10223, 'cheesy': 10224, 'minorly': 10225, 'kitschy': 10226, 'beauitiful': 10227, 'ghost': 10228, 'purchasi': 10229, 'belive': 10230, 'veltevty': 10231, 'carton': 10232, 'comfim': 10233, 'dissapointing': 10234, 'palest': 10235, 'sta': 10236, '4petite': 10237, 'aaaaannnnnnd': 10238, 'p6': 10239, 'uch': 10240, 'materil': 10241, 'ocol': 10242, 'phoenix': 10243, 'faith': 10244, 'piles': 10245, 'shins': 10246, 'approaches': 10247, 'restocked': 10248, 'cadet': 10249, 'scruffy': 10250, 'jardin': 10251, 'dah': 10252, 'intricately': 10253, 'purposefully': 10254, 'tassles': 10255, 'fund': 10256, 'prom': 10257, \"sevigny's\": 10258, 'offensive': 10259, 'lineman': 10260, 'ode': 10261, 'attentio': 10262, 'snugged': 10263, 'asscoaites': 10264, 'inc': 10265, 'zipping': 10266, 'minis': 10267, 'peite0': 10268, 'veille': 10269, 'wicking': 10270, 'mildish': 10271, 'nw': 10272, 'creppy': 10273, 'cubanas': 10274, 'ciara': 10275, 'guessed': 10276, 'jcrew': 10277, 'mortif': 10278, 'salesclerk': 10279, 'arri': 10280, 'milan': 10281, \"2's\": 10282, 'maternityish': 10283, 'cheapish': 10284, '46': 10285, 'softener': 10286, 'washcloth': 10287, 'expectecd': 10288, 'whelming': 10289, 'cigarette': 10290, 'stinning': 10291, 'smashed': 10292, 'neverth': 10293, 'toro': 10294, 'elle': 10295, 'wildly': 10296, 'boggling': 10297, 'diaphanous': 10298, 'annie': 10299, 'cloudy': 10300, 'crystals': 10301, 'reflex': 10302, 'suppre': 10303, 'halters': 10304, 'numer': 10305, 'datetop': 10306, 'cutsie': 10307, 'wrapover': 10308, 'astounded': 10309, 'wells': 10310, 'disap': 10311, 'inflexibility': 10312, 'larg': 10313, 'flatforms': 10314, 'workw': 10315, 'atrociously': 10316, 'washington': 10317, 'jerusalem': 10318, 'buldging': 10319, 'ingenious': 10320, 'introduction': 10321, 'talented': 10322, 'newsies': 10323, 'fuzzies': 10324, 'lifelessly': 10325, 'hyperhidrosis': 10326, 'sweating': 10327, 'fluidity': 10328, 'cars': 10329, 'chamois': 10330, 'shammy': 10331, 'abundant': 10332, '13th': 10333, 'purch': 10334, 'guidance': 10335, 'importatn': 10336, 'matieral': 10337, 'comfortbale': 10338, 'ilfelt': 10339, 'swearter': 10340, 'ongoing': 10341, 'bauble': 10342, \"catalog's\": 10343, 'anorexic': 10344, 'unhealthy': 10345, '107pound': 10346, \"kid's\": 10347, 'auction': 10348, 'underdress': 10349, '6inches': 10350, 'kneelength': 10351, 'lengthening': 10352, 'bamboo': 10353, 'warren': 10354, 'p8': 10355, 'pallette': 10356, \"weather's\": 10357, 'seychelles': 10358, 'x2': 10359, 'birks': 10360, 'partner': 10361, 'managed': 10362, 'brests': 10363, 'lat': 10364, 'retailerplpogie': 10365, 'frail': 10366, 'dã©colletã©': 10367, 'link': 10368, 'showcase': 10369, \"niece's\": 10370, 'purposeful': 10371, 'baptism': 10372, 'dragonfly': 10373, '84': 10374, 'reshipped': 10375, '10s': 10376, 'equate': 10377, 'poodles': 10378, 'estatic': 10379, 'fanatic': 10380, 'intimidate': 10381, 'separates': 10382, 'heartbreaker': 10383, 'universal': 10384, 'trapezoid': 10385, 'starched': 10386, 'latigo': 10387, 'thiner': 10388, 'cooold': 10389, \"5'61\": 10390, 'ballerina': 10391, 'badass': 10392, '251': 10393, '3rds': 10394, 'presentations': 10395, 'faculty': 10396, 'aforementioned': 10397, 'slick': 10398, 'emphasis': 10399, '8petite': 10400, 'gowns': 10401, 'insta': 10402, 'linin': 10403, 'cutewith': 10404, 'lign': 10405, '116ibs': 10406, 'knakis': 10407, 'intensely': 10408, 'zippie': 10409, 'blac': 10410, '50th': 10411, '38dds': 10412, 'honored': 10413, 'orignal': 10414, 'excels': 10415, '36e': 10416, 'incase': 10417, 'unpick': 10418, 'rustle': 10419, \"'pockets'\": 10420, \"t'shirt\": 10421, 'deminished': 10422, 'iordered': 10423, 'rregualr': 10424, 'deciced': 10425, 'lavaialble': 10426, 'flowwy': 10427, 'plaza': 10428, 'mediately': 10429, 'uncover': 10430, 'msitake': 10431, 'sweeater': 10432, 'saver': 10433, 'sink': 10434, 'picro': 10435, 'ingest': 10436, 'itnended': 10437, 'aame': 10438, 'apttern': 10439, 'innie': 10440, 'underbust': 10441, 'yippee': 10442, 'coobies': 10443, 'picure': 10444, 'dolor': 10445, 'glint': 10446, 'leaflets': 10447, 'lovelies': 10448, 'prudish': 10449, 'wars': 10450, 'layi': 10451, 'identically': 10452, \"wearer's\": 10453, 'outlin': 10454, \"36dd's\": 10455, 'keepin': 10456, '30b': 10457, \"wasn'\": 10458, 'loveliness': 10459, 'tents': 10460, 'stability': 10461, 'jewlery': 10462, 'coffe': 10463, 'carnival': 10464, 'analogy': 10465, 'hardware': 10466, 'acceptabl': 10467, \"seinfeld's\": 10468, 'policy': 10469, 'ribbing': 10470, \"red'\": 10471, 'belia': 10472, 'disheveled': 10473, 'combined': 10474, 'complaining': 10475, 'mosly': 10476, 'lai': 10477, 'sjut': 10478, 'braod': 10479, 'deceided': 10480, 'seriosu': 10481, 'purcahses': 10482, 'thy': 10483, '140b': 10484, 'adding': 10485, 'complaintbis': 10486, 'bubblegum': 10487, 'hippier': 10488, 'teds': 10489, '30th': 10490, 'hangy': 10491, \"denim'\": 10492, 'airflow': 10493, 'topic': 10494, 'distorted': 10495, 'jet': 10496, 'constr': 10497, 'completly': 10498, 'torquoise': 10499, 'butit': 10500, '112lb': 10501, 'appreciation': 10502, 'causally': 10503, 'av': 10504, 'satisfaction': 10505, 'essence': 10506, 'thinkness': 10507, 'nc': 10508, 'silkscreen': 10509, 'liatris': 10510, 'regualar': 10511, 'presumably': 10512, 'amidst': 10513, \"6'0\": 10514, 'forarms': 10515, 'gor': 10516, 'geous': 10517, 'mourn': 10518, 'morher': 10519, 'unreasonably': 10520, 'careless': 10521, 'gender': 10522, 'santa': 10523, 'barbara': 10524, \"'maybe'\": 10525, 'werid': 10526, 'unpack': 10527, 'hsould': 10528, 'peple': 10529, 'nottom': 10530, 'gegt': 10531, 'inchess': 10532, 'waiat': 10533, 'musclea': 10534, 'plaform': 10535, 'heeks': 10536, 'meal': 10537, 'plu': 10538, 'pony': 10539, 'goody': 10540, 'bloop': 10541, 'tugged': 10542, 'limitless': 10543, 'sortof': 10544, 'differrent': 10545, 'loveee': 10546, 'sake': 10547, 'horn': 10548, 'dice': 10549, '32s': 10550, 'marvelous': 10551, 'santee': 10552, 'escalante': 10553, 'xsm': 10554, 'forgettin': 10555, '2regular': 10556, 'fallback': 10557, 'uncomfy': 10558, 'downright': 10559, 'flowered': 10560, \"'cotton'\": 10561, 'wanna': 10562, 'interim': 10563, 'palazzos': 10564, 'alignment': 10565, 'yacht': 10566, \"'smoky'\": 10567, 'pilcr': 10568, 'matchy': 10569, 'thise': 10570, 'branding': 10571, 'losses': 10572, 'itchytown': 10573, 'devotee': 10574, 'amber': 10575, 'fillerup': 10576, 'clark': 10577, 'mono': 10578, 'kini': 10579, 'usuall': 10580, '47': 10581, \"'girls'\": 10582, 'yellows': 10583, 'exams': 10584, 'cayucos': 10585, 'costs': 10586, 'amazement': 10587, 'handsome': 10588, 'famine': 10589, 'brainier': 10590, 'believable': 10591, 'expensiv': 10592, 'elate': 10593, 'sctrachy': 10594, 'foret': 10595, 'bottomed': 10596, 'fiancã©': 10597, 'favorably': 10598, 'whyyyyyyyyyyy': 10599, 'howe': 10600, 'ferry': 10601, 'influence': 10602, \"mind's\": 10603, 'ante': 10604, 'resisted': 10605, 'thorough': 10606, 'romier': 10607, 'sizze': 10608, 'hev': 10609, 'notfor': 10610, 'a9dn': 10611, 'sizw': 10612, \"'stressed'\": 10613, 'athletically': 10614, 'cherished': 10615, 'maz': 10616, 'ing': 10617, 'lysee': 10618, 'tranquil': 10619, 'waggle': 10620, \"mothers'\": 10621, \"junior's\": 10622, 'fulfill': 10623, 'showcasing': 10624, 'sells': 10625, 'mismatching': 10626, 'agrees': 10627, '114lb': 10628, 'allure': 10629, \"ol'\": 10630, 'tickles': 10631, 'sz12': 10632, 'roomie': 10633, '4r': 10634, 'acutually': 10635, 'etiher': 10636, 'stell': 10637, 'cl': 10638, 'beauiful': 10639, 'tackle': 10640, 'sweeter': 10641, 'trumpet': 10642, 'sleeper': 10643, 'diagonals': 10644, 'trampy': 10645, 'allowed': 10646, 'cheese': 10647, 'sb': 10648, 'goood': 10649, 'latetly': 10650, 'coating': 10651, 'blisters': 10652, '190': 10653, 'allude': 10654, 'caftans': 10655, 'iterations': 10656, 'puttin': 10657, 'tentative': 10658, 'held': 10659, 'acacia': 10660, 'unveil': 10661, 'overlie': 10662, 'building': 10663, 'abruptly': 10664, 'peittes': 10665, 'pelats': 10666, 'shininess': 10667, 'ackerley': 10668, 'fress': 10669, 'port': 10670, 'draperies': 10671, 'pyjama': 10672, 'fess': 10673, 'sufficiently': 10674, 'cinchable': 10675, 'yessssss': 10676, 'basketball': 10677, 'tunnels': 10678, '30in': 10679, \"petite's\": 10680, 'ope': 10681, 'staples': 10682, 'simpler': 10683, 'decidedly': 10684, 'fu': 10685, 'atypical': 10686, 'mite': 10687, 'vanit': 10688, 'skimp': 10689, 'ranchers': 10690, 'summarize': 10691, 'photographers': 10692, 'distribute': 10693, 'conflicted': 10694, 'strategic': 10695, 'suggestive': 10696, 'pintuck': 10697, 'goods': 10698, 'wicks': 10699, 'boobage': 10700, 'orlando': 10701, '1990s': 10702, 'ltitle': 10703, 'lwait': 10704, 'supah': 10705, 'disneyland': 10706, 'comes': 10707, 'postur': 10708, 'status': 10709, 'askew': 10710, 'harness': 10711, 'lusciousness': 10712, 'predictably': 10713, 'fatter': 10714, 'ion': 10715, 'uplift': 10716, 'technicolor': 10717, 'depressing': 10718, 'sentimental': 10719, 'hemant': 10720, 'nandita': 10721, 'drapi': 10722, \"'car\": 10723, \"coat'\": 10724, 'knocked': 10725, 'names': 10726, 'smidgen': 10727, 'fastened': 10728, 'misplaced': 10729, 'brownettes': 10730, 'blizzard': 10731, 'hesitated': 10732, 'wih': 10733, 'planes': 10734, 'greatness': 10735, 'joes': 10736, 'ladybugs': 10737, 'pharmacist': 10738, 'stets': 10739, 'dissapointment': 10740, 'retailerpologist': 10741, 'formula': 10742, 'adventurous': 10743, 'separation': 10744, 'improvement': 10745, 'mum': 10746, 'sunflower': 10747, 'assort': 10748, 'bmeant': 10749, 'ljsut': 10750, '8yo': 10751, 'suprisingly': 10752, 'highl': 10753, 'refit': 10754, 'obtrusive': 10755, \"something's\": 10756, 'retailerday': 10757, 'orientation': 10758, 'pullers': 10759, 'hokey': 10760, 'forties': 10761, 'lovey': 10762, 'fuchsia': 10763, 'brightening': 10764, 'honesty': 10765, '3xl': 10766, 'blueness': 10767, 'siamese': 10768, 'qualify': 10769, 'talls': 10770, 'percentages': 10771, 'mentions': 10772, \"m'l\": 10773, 'external': 10774, 'seashells': 10775, 'streets': 10776, 'doors': 10777, 'sharking': 10778, 'mansions': 10779, 'rhode': 10780, 'wildberry': 10781, 'artistically': 10782, 'balanced': 10783, 'magica': 10784, 'graciously': 10785, 'enclose': 10786, 'wks': 10787, 'invent': 10788, 'terrifically': 10789, 'limbed': 10790, 'permanently': 10791, 'bitterly': 10792, 'approaching': 10793, 'bui': 10794, 'yelling': 10795, 'cleans': 10796, 'whats': 10797, 'dancer': 10798, 'fluffier': 10799, 'chorizo': 10800, 'smedium': 10801, 'fallacy': 10802, 'loooong': 10803, 'bountiful': 10804, \"'i'm\": 10805, 'maxed': 10806, 'sauce': 10807, 'babes': 10808, 'miff': 10809, 'waved': 10810, 'poufing': 10811, 'shocking': 10812, '2000': 10813, 'celebrations': 10814, 'pantyhose': 10815, 'spans': 10816, 'inducing': 10817, 'obligate': 10818, 'falll': 10819, 'alway': 10820, 'aholed': 10821, 'lofty': 10822, 'lightness': 10823, 'dusky': 10824, 'chucks': 10825, 'route': 10826, 'trus': 10827, 'sentence': 10828, \"'sunless\": 10829, \"shift'\": 10830, 'nat': 10831, 'impecable': 10832, 'overseas': 10833, 'produ': 10834, 'patters': 10835, 'allowance': 10836, '14p': 10837, 'repellar': 10838, 'liberate': 10839, 'dooooown': 10840, 'flouncier': 10841, 'apres': 10842, 'ornamental': 10843, 'stuffed': 10844, 'pets': 10845, 'blossoms': 10846, 'honeybees': 10847, 'opacity': 10848, 'defeats': 10849, 'hurdle': 10850, 'slimline': 10851, 'notwithstanding': 10852, 'prototype': 10853, 'retailerpolog': 10854, 'negativ': 10855, 'bypass': 10856, 'lighweight': 10857, 'paste': 10858, 'assymetrical': 10859, 'canadian': 10860, 'shriks': 10861, 'leopards': 10862, \"doe'n'tt\": 10863, 'htough': 10864, 'greay': 10865, 'lcan': 10866, 'slippers': 10867, 'eri': 10868, 'ali': 10869, 'lululemons': 10870, 'midwestern': 10871, 'seciton': 10872, 'oklahoma': 10873, 'flings': 10874, 'cme': 10875, 'reccomended': 10876, 'swisuit': 10877, 'rusching': 10878, 'jasper': 10879, 'jeera': 10880, 'nijar': 10881, 'rewarded': 10882, 'sorts': 10883, 'yey': 10884, 'comber': 10885, 'mont': 10886, 'blanc': 10887, 'chamomix': 10888, 'unmistakable': 10889, 'matterhorn': 10890, 'zermatt': 10891, 'pla': 10892, \"'sweater\": 10893, \"like'\": 10894, 'frumpiness': 10895, 'lifesaver': 10896, 'azure': 10897, \"isn'\": 10898, 'armful': 10899, 'bangles': 10900, 'circumstances': 10901, 'sinched': 10902, '27in': 10903, 'complex': 10904, 'pnw': 10905, 'bedspread': 10906, 'superficial': 10907, 'inspirational': 10908, 'htere': 10909, 'differentials': 10910, 'necessairly': 10911, 'similr': 10912, 'alce': 10913, 'drkest': 10914, 'flatetering': 10915, 'lunge': 10916, 'beginnings': 10917, 'delish': 10918, 'petted': 10919, \"embellishment's\": 10920, \"din't\": 10921, 'embarrassing': 10922, 'felty': 10923, 'reissue': 10924, 'scat': 10925, 'blessing': 10926, 'yup': 10927, 'twig': 10928, 'sma': 10929, 'marni': 10930, 'prada': 10931, \"e'mail\": 10932, 'knuckle': 10933, 'necks': 10934, 'secular': 10935, 'checkerboard': 10936, 'succeed': 10937, 'nauseating': 10938, 'chang': 10939, 'disapppointing': 10940, 'pricepoint': 10941, 'movability': 10942, 'crass': 10943, 'agustable': 10944, 'angels': 10945, 'angelinas': 10946, 'collaboration': 10947, 'geometrical': 10948, 'geometry': 10949, '125ibs': 10950, 'granite': 10951, 'subject': 10952, 'goner': 10953, \"'p\": 10954, 'nobody': 10955, 'chestier': 10956, 'cartwheel': 10957, 'xxi': 10958, 'occas': 10959, 'crossback': 10960, 'wowser': 10961, \"36d's\": 10962, 'immature': 10963, 'ahhhh': 10964, 'my3': 10965, 'baggies': 10966, 'seal': 10967, 'ziploc': 10968, 'freezer': 10969, 'movies': 10970, '67': 10971, 'softened': 10972, 'bods': 10973, 'shortt': 10974, 'saucy': 10975, 'mischievous': 10976, 'crossfront': 10977, 'bandages': 10978, 'au': 10979, 'lait': 10980, 'reads': 10981, 'peche': 10982, 'shades': 10983, 'oaks': 10984, \"'baggish'\": 10985, 'loca': 10986, \"reese's\": 10987, 'hoepfulyl': 10988, 'orffice': 10989, 'ahe': 10990, 'sumer': 10991, 'waitband': 10992, 'creater': 10993, '165lbs': 10994, 'deteriorating': 10995, 'unsewn': 10996, 'puckery': 10997, 'rpetty': 10998, 'korkease': 10999, 'peruvian': 11000, 'opal': 11001, 'planner': 11002, 'relief': 11003, 'payer': 11004, '112llbs': 11005, \"grandmother's\": 11006, 'michelin': 11007, 'loooovvvvveee': 11008, 'ocassionally': 11009, 'graduations': 11010, 'cations': 11011, 'indispensable': 11012, 'gemline': 11013, 'lariat': 11014, '125b': 11015, 'sinches': 11016, '143lbs': 11017, 'beauttiful': 11018, 'athleisure': 11019, 'leggier': 11020, 'farther': 11021, 'enhancement': 11022, 'mixing': 11023, 'cartagena': 11024, 'unders': 11025, 'timelessness': 11026, 'century': 11027, 'tut': 11028, 'pearls': 11029, 'ironically': 11030, \"back's\": 11031, 'lable': 11032, 'traditionally': 11033, 'empty': 11034, 'bridgette': 11035, 'chelsea': 11036, 'unintentionally': 11037, 'condensation': 11038, 'betwixt': 11039, 'birthed': 11040, 'frist': 11041, \"ii've\": 11042, 'tiem': 11043, 'otherwsie': 11044, 'mifnight': 11045, 'laways': 11046, 'washability': 11047, 'baskets': 11048, 'panniers': 11049, 'sewer': 11050, \"'dry\": 11051, \"only'\": 11052, '1000': 11053, 'mittens': 11054, 'checkered': 11055, 'recognizable': 11056, 'petticoats': 11057, 'artistry': 11058, 'commercial': 11059, 'seeeee': 11060, 'overal': 11061, 'returrn': 11062, 'disadvantage': 11063, 'butcher': 11064, 'wardrobes': 11065, 'patio': 11066, \"sa's\": 11067, 'demosilles': 11068, 'dorotea': 11069, 'ftt': 11070, 'upto': 11071, \"90's\": 11072, 'tmi': 11073, 'pal': 11074, 'materila': 11075, 'strecthy': 11076, 'brr': 11077, 'exepct': 11078, \"fall'\": 11079, 'therapy': 11080, 'lisette': 11081, \"34g's\": 11082, 'unworn': 11083, 'abby': 11084, 'roman': 11085, 'hued': 11086, 'cosplay': 11087, 'bei': 11088, 'teepee': 11089, 'slovak': 11090, 'booster': 11091, 'assessment': 11092, 'wansup': 11093, 'mehh': 11094, 'mutliple': 11095, 'unforgettable': 11096, 'snu': 11097, 'hadent': 11098, 'shearer': 11099, 'homespun': 11100, 'vulnerable': 11101, 'buxom': 11102, 'cheezy': 11103, \"'look'\": 11104, 'craftsman': 11105, 'volumnous': 11106, 'creates': 11107, 'direct': 11108, 'froth': 11109, \"'right'\": 11110, 'bulls': 11111, 'withou': 11112, 'hangar': 11113, 'popped': 11114, \"floreat's\": 11115, 'swatches': 11116, 'whiled': 11117, 'moments': 11118, 'ooohed': 11119, 'aaahed': 11120, 'hurriedly': 11121, 'gorgous': 11122, 'junior': 11123, 'assumed': 11124, 'weara': 11125, 'somethings': 11126, 'showers': 11127, 'molting': 11128, 'flex': 11129, '1930': 11130, 'cam': 11131, 'merlot': 11132, 'prepared': 11133, 'hilarious': 11134, 'skate': 11135, \"wheatley's\": 11136, 'thermostat': 11137, 'saratoga': 11138, 'tying': 11139, 'freak': 11140, 'furball': 11141, 'examination': 11142, 'filter': 11143, 'f21': 11144, 'horrific': 11145, 'hump': 11146, 'undoubtedly': 11147, 'owend': 11148, 'vulnerability': 11149, 'sllm': 11150, \"'one\": 11151, \"colors'\": 11152, 'versi': 11153, 'rein': 11154, 'cris': 11155, 'bolo': 11156, 'porcelain': 11157, 'xxxxxs': 11158, 'exists': 11159, '3xxxl': 11160, 'sleeker': 11161, 'cinderella': 11162, 'playfully': 11163, 'exp': 11164, 'abnormal': 11165, 'deails': 11166, 'kuddos': 11167, 'absoluty': 11168, 'preserved': 11169, 'pressing': 11170, 'unlace': 11171, 'unbeatable': 11172, 'tale': 11173, 'scottish': 11174, 'joe': 11175, 'wellies': 11176, 'tanner': 11177, 'cmpliments': 11178, \"cartonnier's\": 11179, 'knockout': 11180, 'grand': 11181, 'drappiness': 11182, 'unhealthily': 11183, 'whittle': 11184, 'tropics': 11185, 'frosty': 11186, 'puerto': 11187, 'rico': 11188, 'epice': 11189, 'elegent': 11190, 'batik': 11191, 'involved': 11192, 'crinolined': 11193, 'importance': 11194, 'integrate': 11195, 'flaunt': 11196, 'unforgetable': 11197, 'untill': 11198, 'airier': 11199, 'silks': 11200, 'ironic': 11201, 'richness': 11202, 'synthetics': 11203, 'comjfortable': 11204, 'eghhh': 11205, 'bueno': 11206, 'beatifully': 11207, 'convertible': 11208, 'cadigan': 11209, 'shank': 11210, 'deterred': 11211, \"you're\": 11212, 'underweight': 11213, 'simpleness': 11214, 'thoat': 11215, 'geeze': 11216, 'pokey': 11217, 'completel': 11218, 'asheville': 11219, 'alt': 11220, 'sarah': 11221, 'volumptuous': 11222, 'nix': 11223, 'herls': 11224, 'nuce': 11225, 'sheeny': 11226, 'flea': 11227, 'crumpled': 11228, 'pursuit': 11229, 'writer': 11230, \"'add\": 11231, \"cart'\": 11232, 'sweets': 11233, 'retailerp': 11234, 'flying': 11235, 'necessitate': 11236, 'jaclket': 11237, 'drapy': 11238, 'fierce': 11239, 'hairs': 11240, 'actively': 11241, 'pup': 11242, 'lovingly': 11243, 'explosing': 11244, 'beac': 11245, 'deposit': 11246, 'particle': 11247, 'flowinng': 11248, \"they''d\": 11249, 'ithis': 11250, 'diffe': 11251, 'tendd': 11252, 'midwe': 11253, 'division': 11254, 'rodeo': 11255, 'stunted': 11256, 'cod': 11257, 'overcome': 11258, \"'green'\": 11259, 'huit': 11260, 'eden': 11261, 'lagoon': 11262, 'tassle': 11263, 'cleo': 11264, 'jumsuit': 11265, 'toscana': 11266, 'constricted': 11267, 'greener': 11268, 'prod': 11269, 'imaginative': 11270, \"etro's\": 11271, 'thousands': 11272, 'ehm': 11273, 'transcend': 11274, 'mould': 11275, 'newport': 11276, 'lilitz': 11277, 'supersexy': 11278, 'hearts': 11279, \"'body'\": 11280, 'official': 11281, 'earl': 11282, 'reall': 11283, 'grabbed': 11284, 'enjoyed': 11285, 'firmly': 11286, 'dit': 11287, 'riffle': 11288, 'enable': 11289, 'indulge': 11290, 'vi': 11291, 'slinder': 11292, 'peti': 11293, '190lbs': 11294, 'daly': 11295, 'beigey': 11296, 'pour': 11297, 'desk': 11298, 'waistbands': 11299, 'reminder': 11300, 'sis': 11301, 'sihrt': 11302, 'suspicion': 11303, 'sleepable': 11304, 'flamingo': 11305, 'repellent': 11306, \"summer'ness\": 11307, 'saccharine': 11308, 'humiliate': 11309, 'bliss': 11310, \"'beware\": 11311, 'athough': 11312, 'betrayed': 11313, 'destine': 11314, 'naught': 11315, 'qa': 11316, 'bridey': 11317, '28dddd': 11318, '30ddd': 11319, 'lune': 11320, 'trhrow': 11321, 'eregular': 11322, 'fooled': 11323, 'ore': 11324, 'bendable': 11325, 'reworked': 11326, 'toothpick': 11327, \"aaaaandidon'twanttopayforshipping\": 11328, 'remedy': 11329, 'lacked': 11330, 'uo': 11331, 'dyed': 11332, \"'off\": 11333, \"shoulder'\": 11334, 'vintagey': 11335, '83': 11336, 'louisiana': 11337, 'ple': 11338, 'yummiest': 11339, 'hams': 11340, 'hare': 11341, 'hardy': 11342, 'xxxs': 11343, 'usefulness': 11344, 'embrodering': 11345, 'gambl': 11346, 'pta': 11347, 'saturdays': 11348, 'soooooooooooooo': 11349, 'dusters': 11350, 'poker': 11351, 'container': 11352, 'a34b': 11353, 'ahold': 11354, 'lifted': 11355, 'sissy': 11356, 'spacek': 11357, 'returnable': 11358, 'decid': 11359, \"'pull\": 11360, 'peruse': 11361, 'supposedly': 11362, 'owner': 11363, 'incred': 11364, 'belongs': 11365, 'tayloring': 11366, \"'wings'\": 11367, 'undertaking': 11368, 'blade': 11369, 'shel': 11370, 'pleather': 11371, 'considerate': 11372, \"dog's\": 11373, 'pebbled': 11374, 'openly': 11375, 'royalty': 11376, '98lbs': 11377, 'nifty': 11378, \"lapel's\": 11379, 'leathery': 11380, \"combo's\": 11381, 'curved': 11382, 'regardi': 11383, 'pric': 11384, 'placements': 11385, 'precisely': 11386, 'scratching': 11387, 'botih': 11388, 'casu': 11389, '104lbs': 11390, 'littel': 11391, 'choosi': 11392, 'resonate': 11393, 'vogue': 11394, 'genuinely': 11395, 'godets': 11396, 'darks': 11397, 'oerson': 11398, 'chubbiness': 11399, 'collarless': 11400, 'elastisized': 11401, 'the10': 11402, 'a32': 11403, 'uptight': 11404, 'japanese': 11405, 'valentine': 11406, 'os': 11407, \"ddind't\": 11408, 'beter': 11409, 'lcome': 11410, 'highlighted': 11411, 'pounce': 11412, '23b': 11413, 'inwas': 11414, 'bronzy': 11415, '0in': 11416, 'toenail': 11417, 'pierce': 11418, 'spa': 11419, 'garter': 11420, 'vinta': 11421, 'turned': 11422, 'lucsiously': 11423, 'pliable': 11424, 'retirement': 11425, \"'pedal\": 11426, \"pushers'\": 11427, \"'cropped'\": 11428, 'beauitful': 11429, 'leblon': 11430, 'swingyness': 11431, 'ban': 11432, 'baltimore': 11433, 'considerations': 11434, '2004': 11435, '2005': 11436, 'wasnt': 11437, 'behemian': 11438, '101': 11439, 'alluring': 11440, 'calming': 11441, 'hawthorne': 11442, 'paleface': 11443, 'willing': 11444, 'revi': 11445, 'toothpicks': 11446, 'guazy': 11447, 'muse': 11448, 'handled': 11449, 'examples': 11450, 'fanicer': 11451, 'everyth': 11452, 'qualifier': 11453, 'anthletic': 11454, 'tendencies': 11455, 'famous': 11456, 'organization': 11457, 'nydj': 11458, 'requirements': 11459, 'adoreable': 11460, 'elevated': 11461, 'upsetting': 11462, 'patterning': 11463, \"am5'4'\": 11464, 'butta': 11465, 'classroom': 11466, 'positions': 11467, 'inwards': 11468, 'beginning': 11469, \"'lacy'\": 11470, 'handpainted': 11471, 'nike': 11472, 'maintena': 11473, 'india': 11474, 'decolltage': 11475, 'irk': 11476, 'experts': 11477, 'shirtdresses': 11478, 'warmers': 11479, 'armscye': 11480, 'scrunchy': 11481, 'awesomely': 11482, 'raunching': 11483, 'strands': 11484, 'owls': 11485, 'quaiity': 11486, 'wretched': 11487, 'passable': 11488, 'deligthfully': 11489, 'thera': 11490, \"nobody's\": 11491, 'romp': 11492, 'resign': 11493, 'sungarden': 11494, \"tiny's\": 11495, 'greece': 11496, 'winder': 11497, 'perfec': 11498, 'frompy': 11499, 'pig': 11500, 'receptionist': 11501, 'toms': 11502, \"voila'\": 11503, \"sunday's\": 11504, 'inkish': 11505, 'vibes': 11506, 'ct': 11507, 'plusher': 11508, '04': 11509, '06': 11510, 'verstile': 11511, 'allways': 11512, 'overflowing': 11513, 'coincidence': 11514, 'slipper': 11515, 'grippies': 11516, 'tabs': 11517, 'overstated': 11518, 'confection': 11519, 'regency': 11520, 'smaill': 11521, 'droppy': 11522, '501': 11523, 'assuming': 11524, 'groin': 11525, 'modernize': 11526, 'horticulture': 11527, 'naughty': 11528, 'user': 11529, 'flail': 11530, 'glimmer': 11531, 'easiness': 11532, 'mud': 11533, 'diligent': 11534, 'pristine': 11535, 'understandable': 11536, 'tweak': 11537, '31st': 11538, 'tehse': 11539, 'kahki': 11540, 'officewear': 11541, 'ivories': 11542, 'creams': 11543, 'shimmers': 11544, 'tile': 11545, 'lop': 11546, 'hinder': 11547, 'cinchers': 11548, 'henely': 11549, 'skylar': 11550, 'draft': 11551, 'askedher': 11552, \"dones't\": 11553, 'nonte': 11554, 'expertly': 11555, 'pressed': 11556, 'glitch': 11557, 'chauvet': 11558, 'spontaneous': 11559, 'jag': 11560, 'speechless': 11561, 'surplus': 11562, 'environ': 11563, \"'belt'\": 11564, \"'tuck'\": 11565, 'napa': 11566, 'dressey': 11567, 'waiste': 11568, 'elongatesy': 11569, 'experiencing': 11570, 'monkey': 11571, 'seemed': 11572, 'generaly': 11573, 'accessorizes': 11574, \"'2\": 11575, 'believer': 11576, 'tread': 11577, 'velcro': 11578, 'inter': 11579, 'sounded': 11580, 'horns': 11581, 'meredith': 11582, 'plainer': 11583, 'haven': 11584, 'poses': 11585, 'yogini': 11586, 'especia': 11587, 'tinted': 11588, 'tod': 11589, 'incalled': 11590, 'flir': 11591, 'warming': 11592, 'minimalist': 11593, 'flub': 11594, 'hemstitch': 11595, 'campus': 11596, 'miid': 11597, 'ginerva': 11598, 'swishier': 11599, 'chintzy': 11600, 'sprint': 11601, 'glorify': 11602, 'flour': 11603, 'laziest': 11604, 'huesca': 11605, 'frumpier': 11606, 'unify': 11607, 'asian': 11608, 'camellia': 11609, 'dropwaist': 11610, 'deck': 11611, 'canter': 11612, 'rava': 11613, 'magnification': 11614, 'subdued': 11615, 'bedskirt': 11616, '03dd': 11617, 'bombshell': 11618, 'unzipping': 11619, \"twinkle's\": 11620, 'yarns': 11621, 'temp': 11622, 'interpret': 11623, 'stretchey': 11624, 'outfitter': 11625, 'jeunet': 11626, 'brioche': 11627, 'carolyn': 11628, 'blair': 11629, 'helpfu': 11630, 'lure': 11631, 'invaluable': 11632, 'minimalistic': 11633, 'oppressive': 11634, 'rol': 11635, 'tropic': 11636, '5star': 11637, 'quantity': 11638, '28r': 11639, 'ev': 11640, 'twirly': 11641, 'saggier': 11642, 'manually': 11643, 'cuten': 11644, 'pinstriped': 11645, 'slimmed': 11646, 'blazy': 11647, 'tencil': 11648, 'ama': 11649, 'reliant': 11650, 'estimation': 11651, 'reveiws': 11652, 'grrr': 11653, 'flabbergast': 11654, 'mottled': 11655, 'prarie': 11656, 'orphan': 11657, 'magnify': 11658, 'retun': 11659, 'awesomesauce': 11660, 'camoflauges': 11661, 'fitness': 11662, 'purcahse': 11663, 'striked': 11664, 'qualit': 11665, 'agreeing': 11666, 'underpinnings': 11667, 'antoher': 11668, 'plainly': 11669, 'elongated': 11670, 'transpa': 11671, 'tot': 11672, 'lightening': 11673, '1973': 11674, 'theighs': 11675, \"product's\": 11676, 'cardigen': 11677, 'nitpick': 11678, 'response': 11679, 'queen': 11680, 'donna': 11681, 'morgan': 11682, 'hub': 11683, \"barista's\": 11684, 'reversed': 11685, 'celadon': 11686, 'concentrate': 11687, 'substandard': 11688, 'monstrously': 11689, 'vibrancy': 11690, 'ordinar': 11691, 'rockies': 11692, 'raccoons': 11693, 'additonal': 11694, 'lengthens': 11695, 'lizard': 11696, 'frye': 11697, 'intolerable': 11698, 'slides': 11699, \"ladies'\": 11700, 'leaving': 11701, 'robes': 11702, 'absorbent': 11703, 'rolling': 11704, 'scallops': 11705, 'visibly': 11706, 'toxic': 11707, \"sundry's\": 11708, 'minuscule': 11709, 'checkboard': 11710, 'caroline': 11711, 'exceess': 11712, 'glendale': 11713, 'exceeded': 11714, 'dallas': 11715, 'blindly': 11716, 'middleton': 11717, 'tat': 11718, 'ican': 11719, 'msut': 11720, 'wrng': 11721, 'bude': 11722, 'property': 11723, 'skewed': 11724, 'blaclk': 11725, \"tee's\": 11726, 'prettily': 11727, 'loooooooove': 11728, 'disappointingly': 11729, 'apex': 11730, 'tic': 11731, 'playa': 11732, 'itried': 11733, 'keeo': 11734, 'deresses': 11735, 'commet': 11736, 'corey': 11737, 'lynn': 11738, 'calter': 11739, 'paeonia': 11740, 'rosebud': 11741, 'thoug': 11742, 'realistically': 11743, 'twirls': 11744, 'thighed': 11745, 'defe': 11746, 'ashamed': 11747, 'bombers': 11748, 'conference': 11749, 'extent': 11750, 'uniquenesses': 11751, '36dds': 11752, 'apartment': 11753, 'clarification': 11754, 'corporate': 11755, \"'t'\": 11756, 'seaso': 11757, 'viewed': 11758, 'ut': 11759, 'developed': 11760, 'inspection': 11761, 'recreate': 11762, 'anthopology': 11763, 'tahoe': 11764, 'boze': 11765, 'llonger': 11766, \"'greener'\": 11767, 'springlike': 11768, 'chores': 11769, 'resting': 11770, 'spoiler': 11771, \"mumu's\": 11772, 'fluctuating': 11773, 'commit': 11774, 'neckhole': 11775, 'variance': 11776, 'raggy': 11777, 'inwardly': 11778, 'parisian': 11779, 'providing': 11780, 'spotlight': 11781, 'mavis': 11782, 'smar': 11783, 'subtleties': 11784, 'demonstrate': 11785, 'oetite': 11786, 'incline': 11787, 'journey': 11788, 'maturity': 11789, 'didnot': 11790, 'glitzy': 11791, 'metallics': 11792, 'casua': 11793, 'realign': 11794, 'strop': 11795, \"i'lll\": 11796, 'beautifullly': 11797, 'sweaterknit': 11798, 'emails': 11799, 'wrin': 11800, 'biweekly': 11801, 'colde': 11802, 'gorjuss': 11803, 'yoself': 11804, '195lbs': 11805, 'nit': 11806, 'relieve': 11807, 'gapping': 11808, 'magically': 11809, 'listening': 11810, 'reliable': 11811, \"pocket's\": 11812, 'confining': 11813, 'spacious': 11814, 'arch': 11815, 'yum': 11816, 'zillion': 11817, 'girlish': 11818, 'mia': 11819, 'farrow': 11820, \"rosemary's\": 11821, 'nighttime': 11822, '3hr': 11823, 'musually': 11824, 'prety': 11825, 'jlo': 11826, 'expens': 11827, 'sateens': 11828, 'sexyness': 11829, 'reef': 11830, 'perfume': 11831, 'nauseate': 11832, 'isolate': 11833, 'instants': 11834, 'wuzzy': 11835, 'chuck': 11836, 'hurts': 11837, 'fascinate': 11838, 'jeaens': 11839, 'imagin': 11840, 'written': 11841, '0dd': 11842, '5th': 11843, '6th': 11844, 'waaaaaaaay': 11845, 'millimeter': 11846, 'tangible': 11847, 'primula': 11848, 'comfo': 11849, 'genes': 11850, 'meanwhile': 11851, 'bin': 11852, 'georgetown': 11853, 'volition': 11854, 'won': 11855, 'unavail': 11856, 'nicley': 11857, 'cervix': 11858, \"69's\": 11859, 'sleeeves': 11860, 'desideria': 11861, 'dakota': 11862, 'gameday': 11863, 'paws': 11864, 'iris': 11865, 'flax': 11866, 'ldecided': 11867, 'seemd': 11868, 'detaisl': 11869, \"hyphen's\": 11870, 'upstairs': 11871, 'registry': 11872, 'unadjustable': 11873, 'flora': 11874, 'nikrooz': 11875, 'possession': 11876, 'greal': 11877, 'trimmer': 11878, 'fleur': 11879, 'monthly': 11880, '52': 11881, 'fifteen': 11882, 'orangutan': 11883, 'rosie': 11884, 'neira': 11885, \"6'3\": 11886, 'commonly': 11887, '121': 11888, 'evidently': 11889, 'snatched': 11890, 'voice': 11891, 'emphasized': 11892, 'allergic': 11893, 'contort': 11894, 'argument': 11895, 'rme': 11896, 'contributer': 11897, 'coatigan': 11898, 'scope': 11899, \"sparrow's\": 11900, 'gto': 11901, 'elide': 11902, 'terrace': 11903, 'cotto': 11904, 'peephole': 11905, 'chu': 11906, 'loungin': 11907, \"'throw\": 11908, \"away'\": 11909, '30e': 11910, 'mamas': 11911, 'picot': 11912, 'elaborate': 11913, 'pommed': 11914, 'peasanty': 11915, 'shoulda': 11916, '6r': 11917, 'taffeta': 11918, 'eq': 11919, 'beautuful': 11920, 'weston': 11921, 'jewelery': 11922, 'mixe': 11923, 'brisk': 11924, \"'closet\": 11925, \"sitter'\": 11926, \"jacket'ish\": 11927, \"city's\": 11928, '10l': 11929, 'bs': 11930, 'slayed': 11931, 'mesmerized': 11932, 'casualed': 11933, \"'summer'\": 11934, 'gloomy': 11935, 'shirty': 11936, 'loun': 11937, 'enormously': 11938, 'weightiness': 11939, 'awareness': 11940, 'rash': 11941, 'wering': 11942, 'steadly': 11943, 'cellulite': 11944, 'summe': 11945, 'goto': 11946, 'sweathsirt': 11947, 'untextured': 11948, 'unfolding': 11949, 'fitter': 11950, 'shirter': 11951, 'lackluster': 11952, '11and': 11953, 'quadricep': 11954, 'challange': 11955, 'genie': 11956, 'buckles': 11957, 'vpl': 11958, 'pitiful': 11959, 'weightlessness': 11960, 'painterly': 11961, 'mighty': 11962, 'hap': 11963, 'pancholicious': 11964, 'sleveless': 11965, 'garmet': 11966, 'shrank': 11967, 'suuuuper': 11968, 'carefull': 11969, 'botto': 11970, 'noon': 11971, 'costumey': 11972, 'functioning': 11973, 'hoods': 11974, 'wood': 11975, \"girlfriends'\": 11976, 'disastrously': 11977, 'wilder': 11978, 'bonnet': 11979, 'nantucket': 11980, 'buto': 11981, 'velour': 11982, 'anticpated': 11983, 'topics': 11984, 'psychedelic': 11985, 'pri': 11986, 'accounts': 11987, '2inches': 11988, 'greeny': 11989, 'asthetically': 11990, 'bottam': 11991, 'gutted': 11992, '450': 11993, 'clincher': 11994, 'excellently': 11995, 'cahnce': 11996, 'howeverm': 11997, 'consume': 11998, 'bags': 11999, 'brief': 12000, 'lite': 12001, 'outwards': 12002, 'afterall': 12003, 'pacquerette': 12004, 'anwen': 12005, 'exteemely': 12006, 'independently': 12007, 'complection': 12008, 'cutting': 12009, 'shifts': 12010, 'saddlebags': 12011, 'captain': 12012, 'goof': 12013, 'coored': 12014, 'chime': 12015, \"'73\": 12016, 'slopes': 12017, 'wich': 12018, 'embed': 12019, 'bestow': 12020, 'thinne': 12021, 'visitors': 12022, 'demarcate': 12023, 'aro': 12024, 'retailerpolgy': 12025, 'vribant': 12026, 'expedite': 12027, 'activity': 12028, '123lb': 12029, 'flood': 12030, 'standalone': 12031, 'sligh': 12032, 'stumpified': 12033, 'vine': 12034, '4115': 12035, 'defectiv': 12036, 'scratchiness': 12037, 'ladyish': 12038, 'bandaid': 12039, 'plant': 12040, 'navigate': 12041, 'shatter': 12042, 'deem': 12043, 'iso': 12044, \"cardigan's\": 12045, 'chick': 12046, 'slumpy': 12047, 'minimally': 12048, 'meleri': 12049, 'sac': 12050, \"'shell'\": 12051, 'horseshoe': 12052, 'instore': 12053, \"'railroad\": 12054, \"tracks'\": 12055, 'nominal': 12056, 'ruffl': 12057, 'frabic': 12058, 'confine': 12059, 'parisienne': 12060, 'feign': 12061, 'athleticism': 12062, 'modelesque': 12063, 'buttondowns': 12064, 'radiant': 12065, 'satisfi': 12066, 'wonderul': 12067, 'ohio': 12068, 'overhang': 12069, 'goldilicks': 12070, 'nubbed': 12071, 'doo': 12072, 'ladi': 12073, \"'perfect'\": 12074, 'contri': 12075, 'overshadow': 12076, 'relieved': 12077, 'hiking': 12078, 'scuff': 12079, 'ridic': 12080, 'parti': 12081, 'carrot': 12082, 'syllish': 12083, 'reutn': 12084, 'woud': 12085, 'silicon': 12086, 'sid': 12087, 'leana': 12088, 'measures': 12089, 'import': 12090, 'silves': 12091, 'appropriarely': 12092, 'attrac': 12093, 'differnt': 12094, 'purples': 12095, 'greens': 12096, 'bumble': 12097, 'deba': 12098, 'sho': 12099, 'measument': 12100, 'fairs': 12101, 'slende': 12102, 'vineyard': 12103, 'freebird': 12104, 'cecelia': 12105, 'prado': 12106, 'editions': 12107, 'scour': 12108, 'awaited': 12109, 'explanation': 12110, 'arr': 12111, 'sinch': 12112, 'iike': 12113, 'preordered': 12114, 'reallllly': 12115, 'shearliing': 12116, 'suspicious': 12117, 'hobbit': 12118, 'denins': 12119, 'doenst': 12120, 'greyish': 12121, 'mummy': 12122, 'medlum': 12123, 'exorbitant': 12124, 'dol': 12125, 'outdo': 12126, 'passion': 12127, 'charles': 12128, 'rennie': 12129, 'macintosh': 12130, 'underlayment': 12131, 'saffron': 12132, 'lengh': 12133, 'kindof': 12134, 'heater': 12135, 'itsy': 12136, 'bitsy': 12137, 'memorial': 12138, 'tune': 12139, 'sellers': 12140, 'poochy': 12141, 'mayb': 12142, 'incr': 12143, 'confirm': 12144, 'charts': 12145, 'poooofffy': 12146, 'frmae': 12147, 'alless': 12148, 'constraining': 12149, 'coke': 12150, 'bottle': 12151, 'tubes': 12152, 'whe': 12153, 'anticipating': 12154, 'teaser': 12155, 'budge': 12156, 'depths': 12157, 'mongolian': 12158, 'operatic': 12159, 'arias': 12160, 'reache': 12161, 'vanilla': 12162, \"'tent'\": 12163, \"'trapeze'\": 12164, 'rsty': 12165, 'dinosaur': 12166, 'agai': 12167, \"sewer's\": 12168, 'nevery': 12169, '136lbs': 12170, 'psuedo': 12171, 'revert': 12172, 'acceptably': 12173, 'repeller': 12174, 'sk': 12175, 'barn': 12176, 'allllllmost': 12177, 'violetta': 12178, 'unconnected': 12179, 'shading': 12180, 'latte': 12181, 'attendants': 12182, 'deconstruct': 12183, 'hangups': 12184, 'mediterenian': 12185, 'selective': 12186, 'iusually': 12187, 'otherwse': 12188, 'inever': 12189, 'size4': 12190, 'screech': 12191, 'halt': 12192, 'submerge': 12193, 'imwas': 12194, 'imput': 12195, 'ingnore': 12196, 'remained': 12197, 'quincy': 12198, 'olde': 12199, 'towne': 12200, 'hippies': 12201, 'woodstock': 12202, 'conceptually': 12203, 'critical': 12204, 'brushstroke': 12205, 'snuggy': 12206, 'izing': 12207, 'comic': 12208, 'representations': 12209, \"'nubby'\": 12210, \"naomi's\": 12211, 'taza': 12212, 'thylo': 12213, 'customizable': 12214, 'luna': 12215, 'detaling': 12216, 'partway': 12217, 'assist': 12218, 'musty': 12219, \"24''\": 12220, 'colleagues': 12221, 'swirl': 12222, 'tequila': 12223, 'ginger': 12224, 'spilled': 12225, 'undnerneath': 12226, 'larkspur': 12227, 'grrrrrrrrrrr': 12228, 'nightwear': 12229, 'dioes': 12230, 'grapeish': 12231, 'embroid': 12232, 'attraction': 12233, 'cough': 12234, 'smal': 12235, 'legit': 12236, \"10's\": 12237, 'wedgewood': 12238, 'immaculate': 12239, 'monthe': 12240, 'abut': 12241, 'intrinsic': 12242, 'circumstance': 12243, 'mw': 12244, 'blus': 12245, 'moonscape': 12246, 'strangle': 12247, \"'body\": 12248, \"skimming'\": 12249, 'aquarelle': 12250, 'assembled': 12251, 'nostalgia': 12252, 'burdensome': 12253, 'attn': 12254, 'sleev': 12255, 'genuine': 12256, 'purchasable': 12257, 'thx': 12258, 'beaufully': 12259, 'flatteuing': 12260, 'applaud': 12261, 'wrapped': 12262, 'remaining': 12263, 'spain': 12264, 'flamenco': 12265, 'beautivul': 12266, 'lotus': 12267, 'overtime': 12268, 'petra': 12269, 'widths': 12270, 'changing': 12271, 'elephants': 12272, 'cheapy': 12273, 'architectural': 12274, 'elorn': 12275, 'nyt': 12276, 'heathery': 12277, \"'cuz\": 12278, 'occassion': 12279, 'reshaped': 12280, 'sec': 12281, 'tournament': 12282, 'equip': 12283, 'bahamas': 12284, \"part's\": 12285, 'undeniable': 12286, \"'dear\": 12287, \"everywhere'\": 12288, 'fupa': 12289, 'quads': 12290, 'forgot': 12291, 'rap': 12292, 'whereof': 12293, 'obsessive': 12294, 'hadley': 12295, 'manufacturing': 12296, \"'details'\": 12297, 'dump': 12298, 'judy': 12299, 'jetson': 12300, 'humble': 12301, 'sian': 12302, 'jungle': 12303, 'boogie': 12304, 'kitty': 12305, 'tamed': 12306, 'recurrent': 12307, 'anoth': 12308, '64': 12309, 'senses': 12310, 'pavin': 12311, 'buttyondown': 12312, 'assemblage': 12313, 'medieval': 12314, 'liposuction': 12315, 'accepted': 12316, 'prayers': 12317, 'varieties': 12318, 'quicker': 12319, 'adieu': 12320, 'beautifullllll': 12321, 'bodily': 12322, 'evaluate': 12323, 'stargazer': 12324, \"stink'n\": 12325, 'upturned': 12326, \"shoulder'd\": 12327, 'everday': 12328, 'enveloped': 12329, \"'almost'\": 12330, 'gogo': 12331, 'speaking': 12332, 'goings': 12333, 'malfun': 12334, 'intricacy': 12335, 'spark': 12336, 'sto': 12337, 'layover': 12338, 'mules': 12339, 'duck': 12340, 'weary': 12341, 'wotb': 12342, 'stiffly': 12343, 'dec': 12344, 'their': 12345, 'prr': 12346, 'deliberate': 12347, 'valo': 12348, 'dressiness': 12349, 'somethig': 12350, 'ize': 12351, 'wicked': 12352, 'hipbones': 12353, \"merchants'\": 12354, 'websites': 12355, 'madeline': 12356, 'stories': 12357, 'asser': 12358, 'texturing': 12359, 'sofla': 12360, 'sweaty': 12361, 'sizingwise': 12362, 'lurve': 12363, 'espradilles': 12364, \"'warm\": 12365, \"pullover'\": 12366, 'oompaloompa': 12367, 'allelujah': 12368, 'marks': 12369, 'absence': 12370, 'tasting': 12371, 'sheek': 12372, 'contralaterally': 12373, 'becoming': 12374, 'sneaker': 12375, \"driver's\": 12376, 'surfaces': 12377, 'fortune': 12378, 'wished': 12379, \"you'll\": 12380, 'yankee': 12381, 'grail': 12382, \"whatever's\": 12383, '6in': 12384, 'stairs': 12385, \"7's\": 12386, '149lbs': 12387, 'knitting': 12388, 'nec': 12389, 'cab': 12390, 'curb': 12391, 'chandelier': 12392, 'cookie': 12393, 'cutter': 12394, 'highe': 12395, 'congratulate': 12396, \"'comfort\": 12397, \"zone'\": 12398, 'shaper': 12399, 'anyou': 12400, 'pullovers': 12401, 'opitome': 12402, 'drees': 12403, 'imhave': 12404, \"27's\": 12405, '5stars': 12406, 'kaki': 12407, 'wen': 12408, 'purchaser': 12409, 'squeal': 12410, 'limned': 12411, 'strang': 12412, 'princessy': 12413, 'armhoes': 12414, 'bilious': 12415, 'cassia': 12416, 'sorcha': 12417, 'guffaw': 12418, 'implore': 12419, 'insides': 12420, 'creepy': 12421, 'wok': 12422, 'tor': 12423, 'coverall': 12424, 'perspiration': 12425, 'benea': 12426, 'chlorine': 12427, '183lbs': 12428, 'cheer': 12429, 'attest': 12430, 'rusn': 12431, 'perspire': 12432, 'quire': 12433, 'compar': 12434, 'suprise': 12435, 'loopy': 12436, 'plico': 12437, '35c': 12438, 'retrospect': 12439, 'memorials': 12440, 'cactus': 12441, 'succulents': 12442, 'emulate': 12443, 'asummig': 12444, 'advertising': 12445, 'boats': 12446, 'trans': 12447, 'walnut': 12448, 'creek': 12449, 'storeroom': 12450, 'enthralled': 12451, 'doggedly': 12452, 'withe': 12453, \"'default'\": 12454, 'disgusted': 12455, 'infatuated': 12456, 'punk': 12457, 'pictur': 12458, 'unsightly': 12459, 'vas': 12460, 'whey': 12461, '4in': 12462, '128b': 12463, 'newest': 12464, 'exclude': 12465, 'ambitious': 12466, 'attic': 12467, 'numeric': 12468, 'eg': 12469, 'alive': 12470, 'clavicle': 12471, 'colours': 12472, '174': 12473, 'insirpring': 12474, 'tbale': 12475, 'elngth': 12476, 'almsot': 12477, 'referenc': 12478, 'poorl': 12479, \"'sheds'\": 12480, 'overhead': 12481, 'supersoft': 12482, 'drycleaning': 12483, 'fluttered': 12484, 'trials': 12485, 'creature': 12486, 'comforts': 12487}\n"
     ]
    }
   ],
   "source": [
    "print(tokenizer.word_index)"
   ]
  },
  {
   "cell_type": "markdown",
   "id": "c9a0f5a4-253b-4320-80fb-04cf787e80eb",
   "metadata": {},
   "source": [
    "## Tokenize the Text Data"
   ]
  },
  {
   "cell_type": "code",
   "execution_count": 23,
   "id": "07e20722-2a1d-4713-9c44-df10706e26bd",
   "metadata": {
    "tags": []
   },
   "outputs": [],
   "source": [
    "train_tokens = tokenizer.texts_to_sequences(train_df['text'].tolist())\n",
    "val_tokens = tokenizer.texts_to_sequences(val_df['text'].tolist())\n",
    "test_tokens = tokenizer.texts_to_sequences(test_df['text'].tolist())\n",
    "test_blncd_tokens = tokenizer.texts_to_sequences(test_blncd_df['text'].tolist())"
   ]
  },
  {
   "cell_type": "raw",
   "id": "20a44b52-706d-4813-be45-34831a3f140f",
   "metadata": {
    "tags": []
   },
   "source": [
    "# Erase Pointers to releasing occupied memory\n",
    "del train_df\n",
    "del test_df"
   ]
  },
  {
   "cell_type": "markdown",
   "id": "ff6212af-02e6-496c-8cf0-18526d2ad36f",
   "metadata": {},
   "source": [
    "## View the Distribution of Words per Review"
   ]
  },
  {
   "cell_type": "code",
   "execution_count": 24,
   "id": "cd32ff9b-5b08-44b8-acf7-bbcf5651ada9",
   "metadata": {
    "tags": []
   },
   "outputs": [
    {
     "data": {
      "text/plain": [
       "<Figure size 640x480 with 0 Axes>"
      ]
     },
     "metadata": {},
     "output_type": "display_data"
    },
    {
     "data": {
      "image/png": "[encoded data removed]",
      "text/plain": [
       "<Figure size 1000x1000 with 1 Axes>"
      ]
     },
     "metadata": {},
     "output_type": "display_data"
    }
   ],
   "source": [
    "plt.clf()\n",
    "plt.figure(figsize=(10, 10))\n",
    "plt.hist([len(seq) for seq in train_tokens], bins = 40)\n",
    "plt.title('Distribution of Text Sequence Lengths')\n",
    "plt.ylabel('Reviews')\n",
    "plt.xlabel('Word Counts in the Review')\n",
    "plt.show()"
   ]
  },
  {
   "cell_type": "markdown",
   "id": "e1d9dd87-decf-4b6d-bc03-d5127d60b7fa",
   "metadata": {},
   "source": [
    "## Check the Min and Max Token Values"
   ]
  },
  {
   "cell_type": "code",
   "execution_count": 25,
   "id": "827cd815-1689-425c-8b4f-94f8e6c43235",
   "metadata": {
    "tags": []
   },
   "outputs": [
    {
     "name": "stdout",
     "output_type": "stream",
     "text": [
      "Min token value: 1\n",
      "Max token value: 999\n"
     ]
    }
   ],
   "source": [
    "print(f'Min token value: {min([min(x) for x in train_tokens])}')\n",
    "print(f'Max token value: {max([max(x) for x in train_tokens])}')"
   ]
  },
  {
   "cell_type": "markdown",
   "id": "e688e8aa-cf4b-410c-b3a0-cc004795dcf5",
   "metadata": {},
   "source": [
    "## Pad the Token Sequences"
   ]
  },
  {
   "cell_type": "code",
   "execution_count": 26,
   "id": "32a4ffbb-fb22-4e4b-811c-e11ed28eeebc",
   "metadata": {
    "tags": []
   },
   "outputs": [],
   "source": [
    "padded_inputs = pad_sequences(\n",
    "    train_tokens,\n",
    "    maxlen=MAX_SEQ_LEN,\n",
    "    value=PAD_TOKEN_IDX\n",
    ")\n",
    "padded_inputs_val = pad_sequences(\n",
    "    val_tokens,\n",
    "    maxlen=MAX_SEQ_LEN,\n",
    "    value=PAD_TOKEN_IDX\n",
    ")\n",
    "padded_inputs_test = pad_sequences(\n",
    "    test_tokens,\n",
    "    maxlen=MAX_SEQ_LEN,\n",
    "    value=PAD_TOKEN_IDX\n",
    ")\n",
    "padded_inputs_test_blncd = pad_sequences(\n",
    "    test_blncd_tokens,\n",
    "    maxlen=MAX_SEQ_LEN,\n",
    "    value=PAD_TOKEN_IDX\n",
    ")"
   ]
  },
  {
   "cell_type": "code",
   "execution_count": 27,
   "id": "8a1aa527-2158-40a7-9d15-11c29eefd9ca",
   "metadata": {
    "tags": []
   },
   "outputs": [],
   "source": [
    "# Erase Pointers to releasing occupied memory\n",
    "del train_tokens\n",
    "del test_tokens"
   ]
  },
  {
   "cell_type": "code",
   "execution_count": 28,
   "id": "5daee810-924f-4368-b071-da0a63a222b3",
   "metadata": {
    "tags": []
   },
   "outputs": [
    {
     "data": {
      "text/plain": [
       "1"
      ]
     },
     "execution_count": 28,
     "metadata": {},
     "output_type": "execute_result"
    }
   ],
   "source": [
    "oov_token_idx = tokenizer.word_index[tokenizer.oov_token]\n",
    "oov_token_idx"
   ]
  },
  {
   "cell_type": "code",
   "execution_count": 29,
   "id": "45d46292-e221-4442-a4fd-494c647bba2d",
   "metadata": {
    "tags": []
   },
   "outputs": [],
   "source": [
    "corpus = []\n",
    "for record in padded_inputs:\n",
    "    corpus.append([str(x) for x in record if x not in [PAD_TOKEN_IDX, oov_token_idx]])"
   ]
  },
  {
   "cell_type": "code",
   "execution_count": 30,
   "id": "a83592f9-cb7f-4530-bf0d-c70ebea5a74e",
   "metadata": {
    "tags": []
   },
   "outputs": [
    {
     "data": {
      "text/plain": [
       "6022"
      ]
     },
     "execution_count": 30,
     "metadata": {},
     "output_type": "execute_result"
    }
   ],
   "source": [
    "len(corpus)"
   ]
  },
  {
   "cell_type": "code",
   "execution_count": 31,
   "id": "c0da11b8-a55a-4666-8d83-009db5c49cdb",
   "metadata": {
    "tags": []
   },
   "outputs": [
    {
     "name": "stderr",
     "output_type": "stream",
     "text": [
      "C:\\Users\\Ranik\\anaconda3\\envs\\categ_num_text\\lib\\site-packages\\gensim\\models\\base_any2vec.py:742: UserWarning: C extension not loaded, training will be slow. Install a C compiler and reinstall gensim for fast training.\n",
      "  warnings.warn(\n"
     ]
    }
   ],
   "source": [
    "w2v_model = Word2Vec(\n",
    "    corpus,\n",
    "    size=EMBEDDING_DIM,\n",
    "    window=5, # use a context size of 5 for training\n",
    "    min_count=1, # we already filtered for the top NUM_DISTINCT_WORDS\n",
    "    sg=0 # uses CBOW if 0 and skip-gram if 1\n",
    ")"
   ]
  },
  {
   "cell_type": "code",
   "execution_count": 32,
   "id": "3fb824bc-f6bc-48e8-80ef-043842c1ac20",
   "metadata": {
    "scrolled": true,
    "tags": []
   },
   "outputs": [
    {
     "name": "stdout",
     "output_type": "stream",
     "text": [
      "Vector for token 0 will be randomly initialized.\n",
      "Vector for token 1 will be randomly initialized.\n"
     ]
    }
   ],
   "source": [
    "init_params = tf.random_uniform_initializer().get_config()\n",
    " \n",
    "embedding_matrix = np.random.uniform(\n",
    "    low=init_params['minval'],\n",
    "    high=init_params['maxval'],\n",
    "    size=(NUM_DISTINCT_WORDS, EMBEDDING_DIM)\n",
    ")\n",
    " \n",
    "for i in range(0, NUM_DISTINCT_WORDS):\n",
    "    if (i not in [PAD_TOKEN_IDX, oov_token_idx]) and (str(i) in w2v_model.wv.vocab):\n",
    "        vector =  w2v_model.wv[str(i)]\n",
    "        embedding_matrix[i] = vector\n",
    "    else:\n",
    "        print(f'Vector for token {i} will be randomly initialized.')"
   ]
  },
  {
   "cell_type": "code",
   "execution_count": 33,
   "id": "7ed4811d-18f1-407b-b86d-e061a1ba40d7",
   "metadata": {
    "tags": []
   },
   "outputs": [
    {
     "data": {
      "text/plain": [
       "array([[ 0.04265888,  0.00301573, -0.01343333, ...,  0.04480643,\n",
       "         0.0068708 ,  0.01314736],\n",
       "       [-0.04612624, -0.03720723,  0.03218893, ..., -0.04306297,\n",
       "         0.04799118,  0.02849859],\n",
       "       [ 0.50490296, -0.20952177,  0.28286999, ...,  0.61775643,\n",
       "        -0.20158854,  0.46575955],\n",
       "       ...,\n",
       "       [ 0.59724283, -0.05567935, -0.06370903, ...,  0.22707824,\n",
       "         0.08164371,  0.17074791],\n",
       "       [ 0.29804674,  0.13411763,  0.05673585, ...,  0.10670698,\n",
       "         0.12310369,  0.25442094],\n",
       "       [ 0.30812767,  0.03712391,  0.00790879, ...,  0.16429834,\n",
       "         0.03687261,  0.19720531]])"
      ]
     },
     "execution_count": 33,
     "metadata": {},
     "output_type": "execute_result"
    }
   ],
   "source": [
    "embedding_matrix"
   ]
  },
  {
   "cell_type": "markdown",
   "id": "1b8d8e50-44b3-4d64-a0c6-958aea503100",
   "metadata": {},
   "source": [
    "## Build and Compile Model"
   ]
  },
  {
   "cell_type": "markdown",
   "id": "42e4d0d6-7047-4e77-9ca4-af634ee17ae8",
   "metadata": {},
   "source": [
    "Used the same comfiguration, reduced neurons from each layer as we have very less data compared to provider enabalement data\n",
    "Multi input layer cant be build using sequential modelling it is done only via Functional modelling.\n",
    "https://pyimagesearch.com/2019/02/04/keras-multiple-inputs-and-mixed-data/\n",
    "https://keras.io/guides/functional_api/"
   ]
  },
  {
   "cell_type": "code",
   "execution_count": 35,
   "id": "ec60f1bd-2ac8-4a7a-a226-232f421026ef",
   "metadata": {
    "tags": []
   },
   "outputs": [],
   "source": [
    "## Define INPUT LAYERS\n",
    "text_input = tf.keras.Input(shape=(MAX_SEQ_LEN,), name=\"text\")  # Variable-length sequence of ints\n",
    "numeric_input = tf.keras.Input(shape=(num_features,), name=\"numeric\")  # Binary vectors of size `num_tags`\n",
    "\n",
    "# INPUT LAYERS FOR TEXT DATA\n",
    "# Embed each word in the text into a 64-dimensional vector\n",
    "text_features_embedding_layer = tf.keras.layers.Embedding(NUM_DISTINCT_WORDS, \n",
    "                                                          EMBEDDING_DIM, \n",
    "                                                          input_length=MAX_SEQ_LEN,\n",
    "                                                          weights=[embedding_matrix], \n",
    "                                                          trainable = True)(text_input)\n",
    "\n",
    "# Reduce sequence of embedded words in the body into a single 32-dimensional vector\n",
    "text_features_layer_1 = (tf.keras.\n",
    "                         layers.LSTM(40)\n",
    "                         (text_features_embedding_layer))\n",
    "text_features_layer_2 = (tf.keras.\n",
    "                         layers.Dense(units = 64, activation='relu')\n",
    "                         (text_features_layer_1))\n",
    "text_features_dropout_1 = (tf.keras.\n",
    "                           layers.Dropout(0.2)\n",
    "                           (text_features_layer_2))\n",
    "text_features_final_layer = (tf.keras.\n",
    "                             layers.Dense(units = 64, activation='relu')\n",
    "                             (text_features_dropout_1))\n",
    "\n",
    "\n",
    "# INPUT LAYERS FOR NUMERIC DATA\n",
    "num_features_layer_1 = (tf.keras.layers.Dense(units = 32, \n",
    "                                              kernel_initializer = 'uniform', \n",
    "                                              activation = 'relu')(numeric_input))\n",
    "num_features_layer_2 = (tf.keras.layers.Dense(units = 64, \n",
    "                                              kernel_initializer = 'uniform', \n",
    "                                              activation = 'relu')(num_features_layer_1))\n",
    "num_features_final_layer = (tf.keras.layers.Dense(units = 64, \n",
    "                                                  kernel_initializer = 'uniform', \n",
    "                                                  activation = 'relu')(num_features_layer_2))\n",
    "\n",
    "# Merge all available features into a single large vector via concatenation\n",
    "concatenated_layer = tf.keras.layers.concatenate([text_features_final_layer, \n",
    "                                                  num_features_final_layer])\n",
    "\n",
    "# Two layers after concatening\n",
    "post_concatenated_layer_1 = (tf.keras.layers.Dense(units = 64, \n",
    "                                                   activation = 'relu')(concatenated_layer))\n",
    "post_concatenated_layer_2 = (tf.keras.layers.Dense(units = 64, \n",
    "                                                   activation = 'relu')(post_concatenated_layer_1))\n",
    "\n",
    "# Stick a logistic regression for priority prediction on top of the features\n",
    "pred_layer = (tf.keras.layers.Dense(1, \n",
    "                                   activation='sigmoid', \n",
    "                                   name=\"recomendation\")(post_concatenated_layer_2))\n",
    "\n",
    "# Instantiate an end-to-end model predicting both priority and department\n",
    "model = tf.keras.Model(\n",
    "    inputs=[ text_input, numeric_input],\n",
    "    outputs=[pred_layer]\n",
    ")"
   ]
  },
  {
   "cell_type": "markdown",
   "id": "8548ee0f-c70a-4d33-8df8-97bdfe9b6c09",
   "metadata": {},
   "source": [
    "## Compile Model"
   ]
  },
  {
   "cell_type": "code",
   "execution_count": 36,
   "id": "65213167-8023-465c-b120-3ca5524cceea",
   "metadata": {},
   "outputs": [
    {
     "name": "stderr",
     "output_type": "stream",
     "text": [
      "C:\\Users\\Ranik\\anaconda3\\envs\\categ_num_text\\lib\\site-packages\\tensorflow\\python\\keras\\optimizer_v2\\optimizer_v2.py:374: UserWarning: The `lr` argument is deprecated, use `learning_rate` instead.\n",
      "  warnings.warn(\n"
     ]
    }
   ],
   "source": [
    "pr_metric = AUC(curve='PR', num_thresholds=1000)\n",
    "LEARNING_RATE = 0.0001\n",
    "\n",
    "model.compile(optimizer=Adam(lr=LEARNING_RATE), \n",
    "              metrics=[pr_metric], \n",
    "              loss='binary_crossentropy')"
   ]
  },
  {
   "cell_type": "markdown",
   "id": "8a21a512-09c5-4a06-9a72-0d2b64baef21",
   "metadata": {
    "tags": []
   },
   "source": [
    "## Used hypermater from previous experiment.\n",
    "## Need to to do hyperpameter tuning\n",
    "https://machinelearningmastery.com/grid-search-hyperparameters-deep-learning-models-python-keras/\n",
    "https://www.analyticsvidhya.com/blog/2021/05/tuning-the-hyperparameters-and-layers-of-neural-network-deep-learning/\n",
    "https://github.com/autonomio/talos/blob/9890d71d31451af3d7e8d91a75841bc7904db958/docs/Examples_Multiple_Inputs.md\n",
    "\n",
    "https://github.com/keras-team/keras-tuner/issues/281"
   ]
  },
  {
   "cell_type": "markdown",
   "id": "78b13709-8b99-4a10-b0d9-32129d97b201",
   "metadata": {
    "tags": []
   },
   "source": [
    "## View Model Summary"
   ]
  },
  {
   "cell_type": "code",
   "execution_count": 37,
   "id": "91bce012-f5ab-45ad-9d9f-a5ba77ac2205",
   "metadata": {
    "tags": []
   },
   "outputs": [
    {
     "name": "stdout",
     "output_type": "stream",
     "text": [
      "Model: \"model\"\n",
      "__________________________________________________________________________________________________\n",
      "Layer (type)                    Output Shape         Param #     Connected to                     \n",
      "==================================================================================================\n",
      "text (InputLayer)               [(None, 70)]         0                                            \n",
      "__________________________________________________________________________________________________\n",
      "embedding (Embedding)           (None, 70, 40)       40000       text[0][0]                       \n",
      "__________________________________________________________________________________________________\n",
      "lstm (LSTM)                     (None, 40)           12960       embedding[0][0]                  \n",
      "__________________________________________________________________________________________________\n",
      "numeric (InputLayer)            [(None, 32)]         0                                            \n",
      "__________________________________________________________________________________________________\n",
      "dense (Dense)                   (None, 64)           2624        lstm[0][0]                       \n",
      "__________________________________________________________________________________________________\n",
      "dense_2 (Dense)                 (None, 32)           1056        numeric[0][0]                    \n",
      "__________________________________________________________________________________________________\n",
      "dropout (Dropout)               (None, 64)           0           dense[0][0]                      \n",
      "__________________________________________________________________________________________________\n",
      "dense_3 (Dense)                 (None, 64)           2112        dense_2[0][0]                    \n",
      "__________________________________________________________________________________________________\n",
      "dense_1 (Dense)                 (None, 64)           4160        dropout[0][0]                    \n",
      "__________________________________________________________________________________________________\n",
      "dense_4 (Dense)                 (None, 64)           4160        dense_3[0][0]                    \n",
      "__________________________________________________________________________________________________\n",
      "concatenate (Concatenate)       (None, 128)          0           dense_1[0][0]                    \n",
      "                                                                 dense_4[0][0]                    \n",
      "__________________________________________________________________________________________________\n",
      "dense_5 (Dense)                 (None, 64)           8256        concatenate[0][0]                \n",
      "__________________________________________________________________________________________________\n",
      "dense_6 (Dense)                 (None, 64)           4160        dense_5[0][0]                    \n",
      "__________________________________________________________________________________________________\n",
      "recomendation (Dense)           (None, 1)            65          dense_6[0][0]                    \n",
      "==================================================================================================\n",
      "Total params: 79,553\n",
      "Trainable params: 79,553\n",
      "Non-trainable params: 0\n",
      "__________________________________________________________________________________________________\n"
     ]
    }
   ],
   "source": [
    "model.summary()"
   ]
  },
  {
   "cell_type": "markdown",
   "id": "ba22d3d9-8013-4f78-ba6e-ff91f2d02c75",
   "metadata": {},
   "source": [
    "## Define Callbacks for Model Training"
   ]
  },
  {
   "cell_type": "code",
   "execution_count": 38,
   "id": "152deb4d-75ff-49f6-a5a6-3170da68f840",
   "metadata": {
    "tags": []
   },
   "outputs": [],
   "source": [
    "model_ckpt = tf.keras.callbacks.ModelCheckpoint(model_result, save_best_only=True)\n",
    "early_stop = tf.keras.callbacks.EarlyStopping(monitor='val_loss', patience=3, mode='min')"
   ]
  },
  {
   "cell_type": "markdown",
   "id": "5ef7838d-e0ba-4d91-b61e-862c6622073b",
   "metadata": {},
   "source": [
    "## Fit the Model"
   ]
  },
  {
   "cell_type": "code",
   "execution_count": 39,
   "id": "14b03239-0696-4c51-a754-89a035c4e3fe",
   "metadata": {
    "tags": []
   },
   "outputs": [
    {
     "name": "stdout",
     "output_type": "stream",
     "text": [
      "Epoch 1/15\n",
      "189/189 [==============================] - 29s 103ms/step - loss: 0.6642 - auc: 0.7079 - val_loss: 0.5278 - val_auc: 0.9535\n"
     ]
    },
    {
     "name": "stderr",
     "output_type": "stream",
     "text": [
      "WARNING:absl:Found untraced functions such as lstm_cell_layer_call_and_return_conditional_losses, lstm_cell_layer_call_fn, lstm_cell_layer_call_fn, lstm_cell_layer_call_and_return_conditional_losses, lstm_cell_layer_call_and_return_conditional_losses while saving (showing 5 of 5). These functions will not be directly callable after loading.\n"
     ]
    },
    {
     "name": "stdout",
     "output_type": "stream",
     "text": [
      "INFO:tensorflow:Assets written to: C:/Users/Ranik/Downloads/sid/cat_text_num\\model_result\\assets\n"
     ]
    },
    {
     "name": "stderr",
     "output_type": "stream",
     "text": [
      "INFO:tensorflow:Assets written to: C:/Users/Ranik/Downloads/sid/cat_text_num\\model_result\\assets\n"
     ]
    },
    {
     "name": "stdout",
     "output_type": "stream",
     "text": [
      "Epoch 2/15\n",
      "189/189 [==============================] - 17s 88ms/step - loss: 0.3443 - auc: 0.9412 - val_loss: 0.2615 - val_auc: 0.9930\n"
     ]
    },
    {
     "name": "stderr",
     "output_type": "stream",
     "text": [
      "WARNING:absl:Found untraced functions such as lstm_cell_layer_call_and_return_conditional_losses, lstm_cell_layer_call_fn, lstm_cell_layer_call_fn, lstm_cell_layer_call_and_return_conditional_losses, lstm_cell_layer_call_and_return_conditional_losses while saving (showing 5 of 5). These functions will not be directly callable after loading.\n"
     ]
    },
    {
     "name": "stdout",
     "output_type": "stream",
     "text": [
      "INFO:tensorflow:Assets written to: C:/Users/Ranik/Downloads/sid/cat_text_num\\model_result\\assets\n"
     ]
    },
    {
     "name": "stderr",
     "output_type": "stream",
     "text": [
      "INFO:tensorflow:Assets written to: C:/Users/Ranik/Downloads/sid/cat_text_num\\model_result\\assets\n"
     ]
    },
    {
     "name": "stdout",
     "output_type": "stream",
     "text": [
      "Epoch 3/15\n",
      "189/189 [==============================] - 17s 89ms/step - loss: 0.1909 - auc: 0.9744 - val_loss: 0.1996 - val_auc: 0.9935\n"
     ]
    },
    {
     "name": "stderr",
     "output_type": "stream",
     "text": [
      "WARNING:absl:Found untraced functions such as lstm_cell_layer_call_and_return_conditional_losses, lstm_cell_layer_call_fn, lstm_cell_layer_call_fn, lstm_cell_layer_call_and_return_conditional_losses, lstm_cell_layer_call_and_return_conditional_losses while saving (showing 5 of 5). These functions will not be directly callable after loading.\n"
     ]
    },
    {
     "name": "stdout",
     "output_type": "stream",
     "text": [
      "INFO:tensorflow:Assets written to: C:/Users/Ranik/Downloads/sid/cat_text_num\\model_result\\assets\n"
     ]
    },
    {
     "name": "stderr",
     "output_type": "stream",
     "text": [
      "INFO:tensorflow:Assets written to: C:/Users/Ranik/Downloads/sid/cat_text_num\\model_result\\assets\n"
     ]
    },
    {
     "name": "stdout",
     "output_type": "stream",
     "text": [
      "Epoch 4/15\n",
      "189/189 [==============================] - 17s 89ms/step - loss: 0.1834 - auc: 0.9761 - val_loss: 0.1906 - val_auc: 0.9937\n"
     ]
    },
    {
     "name": "stderr",
     "output_type": "stream",
     "text": [
      "WARNING:absl:Found untraced functions such as lstm_cell_layer_call_and_return_conditional_losses, lstm_cell_layer_call_fn, lstm_cell_layer_call_fn, lstm_cell_layer_call_and_return_conditional_losses, lstm_cell_layer_call_and_return_conditional_losses while saving (showing 5 of 5). These functions will not be directly callable after loading.\n"
     ]
    },
    {
     "name": "stdout",
     "output_type": "stream",
     "text": [
      "INFO:tensorflow:Assets written to: C:/Users/Ranik/Downloads/sid/cat_text_num\\model_result\\assets\n"
     ]
    },
    {
     "name": "stderr",
     "output_type": "stream",
     "text": [
      "INFO:tensorflow:Assets written to: C:/Users/Ranik/Downloads/sid/cat_text_num\\model_result\\assets\n"
     ]
    },
    {
     "name": "stdout",
     "output_type": "stream",
     "text": [
      "Epoch 5/15\n",
      "189/189 [==============================] - 18s 94ms/step - loss: 0.1801 - auc: 0.9776 - val_loss: 0.2194 - val_auc: 0.9937\n",
      "Epoch 6/15\n",
      "189/189 [==============================] - 18s 98ms/step - loss: 0.1784 - auc: 0.9772 - val_loss: 0.2244 - val_auc: 0.9938\n",
      "Epoch 7/15\n",
      "189/189 [==============================] - 19s 100ms/step - loss: 0.1767 - auc: 0.9775 - val_loss: 0.1830 - val_auc: 0.9939\n"
     ]
    },
    {
     "name": "stderr",
     "output_type": "stream",
     "text": [
      "WARNING:absl:Found untraced functions such as lstm_cell_layer_call_and_return_conditional_losses, lstm_cell_layer_call_fn, lstm_cell_layer_call_fn, lstm_cell_layer_call_and_return_conditional_losses, lstm_cell_layer_call_and_return_conditional_losses while saving (showing 5 of 5). These functions will not be directly callable after loading.\n"
     ]
    },
    {
     "name": "stdout",
     "output_type": "stream",
     "text": [
      "INFO:tensorflow:Assets written to: C:/Users/Ranik/Downloads/sid/cat_text_num\\model_result\\assets\n"
     ]
    },
    {
     "name": "stderr",
     "output_type": "stream",
     "text": [
      "INFO:tensorflow:Assets written to: C:/Users/Ranik/Downloads/sid/cat_text_num\\model_result\\assets\n"
     ]
    },
    {
     "name": "stdout",
     "output_type": "stream",
     "text": [
      "Epoch 8/15\n",
      "189/189 [==============================] - 18s 93ms/step - loss: 0.1738 - auc: 0.9788 - val_loss: 0.2012 - val_auc: 0.9941\n",
      "Epoch 9/15\n",
      "189/189 [==============================] - 18s 95ms/step - loss: 0.1722 - auc: 0.9798 - val_loss: 0.1954 - val_auc: 0.9936\n",
      "Epoch 10/15\n",
      "189/189 [==============================] - 19s 100ms/step - loss: 0.1725 - auc: 0.9783 - val_loss: 0.1815 - val_auc: 0.9942\n"
     ]
    },
    {
     "name": "stderr",
     "output_type": "stream",
     "text": [
      "WARNING:absl:Found untraced functions such as lstm_cell_layer_call_and_return_conditional_losses, lstm_cell_layer_call_fn, lstm_cell_layer_call_fn, lstm_cell_layer_call_and_return_conditional_losses, lstm_cell_layer_call_and_return_conditional_losses while saving (showing 5 of 5). These functions will not be directly callable after loading.\n"
     ]
    },
    {
     "name": "stdout",
     "output_type": "stream",
     "text": [
      "INFO:tensorflow:Assets written to: C:/Users/Ranik/Downloads/sid/cat_text_num\\model_result\\assets\n"
     ]
    },
    {
     "name": "stderr",
     "output_type": "stream",
     "text": [
      "INFO:tensorflow:Assets written to: C:/Users/Ranik/Downloads/sid/cat_text_num\\model_result\\assets\n"
     ]
    },
    {
     "name": "stdout",
     "output_type": "stream",
     "text": [
      "Epoch 11/15\n",
      "189/189 [==============================] - 17s 92ms/step - loss: 0.1694 - auc: 0.9808 - val_loss: 0.2050 - val_auc: 0.9938\n",
      "Epoch 12/15\n",
      "189/189 [==============================] - 18s 98ms/step - loss: 0.1679 - auc: 0.9809 - val_loss: 0.2029 - val_auc: 0.9938\n",
      "Epoch 13/15\n",
      "189/189 [==============================] - 20s 106ms/step - loss: 0.1633 - auc: 0.9814 - val_loss: 0.2015 - val_auc: 0.9940\n"
     ]
    }
   ],
   "source": [
    "history = model.fit({\"text\": padded_inputs, \"numeric\": X_train}, {\"recomendation\": y_train}, \n",
    "                    validation_data=({\"text\": padded_inputs_val, \"numeric\": X_val}, {\"recomendation\": y_val}),\n",
    "                    epochs=15, verbose=VERBOSE,\n",
    "                    callbacks=[model_ckpt, early_stop])"
   ]
  },
  {
   "cell_type": "markdown",
   "id": "a6f05b1e-7304-46fa-b840-0f830021cfc0",
   "metadata": {},
   "source": [
    "## Plot Loss Learning Curves"
   ]
  },
  {
   "cell_type": "code",
   "execution_count": 40,
   "id": "90e55d1f-fb4b-4b16-a808-f78f0785f81d",
   "metadata": {
    "tags": []
   },
   "outputs": [
    {
     "data": {
      "text/plain": [
       "<Figure size 640x480 with 0 Axes>"
      ]
     },
     "metadata": {},
     "output_type": "display_data"
    },
    {
     "data": {
      "image/png": "[encoded data removed]",
      "text/plain": [
       "<Figure size 1000x1000 with 1 Axes>"
      ]
     },
     "metadata": {},
     "output_type": "display_data"
    }
   ],
   "source": [
    "plt.clf()\n",
    "plt.figure(figsize=(10, 10))\n",
    "plt.plot(history.history['loss'], label='Train Loss')\n",
    "plt.plot(history.history['val_loss'], label='Val Loss')\n",
    "plt.title('Loss History')\n",
    "plt.ylabel('Loss Value')\n",
    "plt.xlabel('Epoch')\n",
    "plt.legend(loc='best')\n",
    "plt.show()"
   ]
  },
  {
   "cell_type": "markdown",
   "id": "78fc0679-9759-4b34-9086-b5a9415ab619",
   "metadata": {
    "tags": []
   },
   "source": [
    "## Plot PR AUC Learning Curves"
   ]
  },
  {
   "cell_type": "code",
   "execution_count": 41,
   "id": "d3099862-761e-4a98-8f55-98b15635cf0d",
   "metadata": {
    "tags": []
   },
   "outputs": [
    {
     "data": {
      "text/plain": [
       "<Figure size 640x480 with 0 Axes>"
      ]
     },
     "metadata": {},
     "output_type": "display_data"
    },
    {
     "data": {
      "image/png": "[encoded data removed]",
      "text/plain": [
       "<Figure size 1000x1000 with 1 Axes>"
      ]
     },
     "metadata": {},
     "output_type": "display_data"
    }
   ],
   "source": [
    "plt.clf()\n",
    "plt.figure(figsize=(10, 10))\n",
    "plt.plot(history.history['auc'], label='Train PR AUC')\n",
    "plt.plot(history.history['val_auc'], label='Val PR AUC')\n",
    "plt.title('PR AUC History')\n",
    "plt.ylabel('PR AUC')\n",
    "plt.xlabel('Epoch')\n",
    "plt.legend(loc='best')\n",
    "plt.show()"
   ]
  },
  {
   "cell_type": "markdown",
   "id": "af58f383-186d-4962-abca-5e99633ff061",
   "metadata": {},
   "source": [
    "## Load Model with Best Validation Loss from Training Process"
   ]
  },
  {
   "cell_type": "code",
   "execution_count": 42,
   "id": "cdaae5d9-9e34-4837-b6bb-ce6f8a411a04",
   "metadata": {
    "tags": []
   },
   "outputs": [],
   "source": [
    "model = tf.keras.models.load_model(model_result)"
   ]
  },
  {
   "cell_type": "markdown",
   "id": "b47784c4-7f12-4001-86f8-0ca7cd292ad4",
   "metadata": {
    "tags": []
   },
   "source": [
    "## Generate Test Set Scores"
   ]
  },
  {
   "cell_type": "markdown",
   "id": "8bd629fa-d587-44f6-a688-d65bbdf0c534",
   "metadata": {
    "tags": []
   },
   "source": [
    "## Test dataset"
   ]
  },
  {
   "cell_type": "code",
   "execution_count": 60,
   "id": "84e5401c-835a-43bd-9684-9269117222c3",
   "metadata": {
    "tags": []
   },
   "outputs": [],
   "source": [
    "y_prob = model.predict({\"text\": padded_inputs_test, \"numeric\": X_test}).flatten()"
   ]
  },
  {
   "cell_type": "code",
   "execution_count": 61,
   "id": "f6e82ac0-d139-48f5-b3a4-17bbe67305d8",
   "metadata": {
    "scrolled": true,
    "tags": []
   },
   "outputs": [
    {
     "data": {
      "text/plain": [
       "array([0.9953771 , 0.7132612 , 0.51632357, 0.9451146 , 0.94709367,\n",
       "       0.9904361 , 0.99430907, 0.9941019 , 0.9909984 , 0.9601901 ,\n",
       "       0.9929577 , 0.9930955 , 0.99598694, 0.99667704, 0.00342157,\n",
       "       0.27676272, 0.9480411 , 0.9932754 , 0.9945525 , 0.99665034,\n",
       "       0.66536385, 0.70745385, 0.00798056, 0.99324644, 0.9844762 ,\n",
       "       0.96442604, 0.994178  , 0.01746234, 0.05799657, 0.9826918 ,\n",
       "       0.99352264, 0.47736213, 0.9959227 , 0.99516153, 0.99690604,\n",
       "       0.9613445 , 0.1730926 , 0.9953786 , 0.9142296 , 0.9796646 ,\n",
       "       0.00779644, 0.9869957 , 0.9969306 , 0.9963966 , 0.99402297,\n",
       "       0.995615  , 0.8353807 , 0.98154616, 0.99392825, 0.996377  ,\n",
       "       0.9785538 , 0.08769318, 0.99805945, 0.9888299 , 0.98903334,\n",
       "       0.77001035, 0.9938917 , 0.19659758, 0.03512493, 0.6213018 ,\n",
       "       0.91826105, 0.99487233, 0.99576366, 0.99725044, 0.98489094,\n",
       "       0.99266255, 0.99609494, 0.731786  , 0.9962734 , 0.9949573 ,\n",
       "       0.9981402 , 0.24250886, 0.01020458, 0.9946973 , 0.9710578 ,\n",
       "       0.9912045 , 0.9667816 , 0.01838526, 0.9947939 , 0.9953419 ,\n",
       "       0.9810401 , 0.97522694, 0.03252605, 0.99702036, 0.90857726,\n",
       "       0.91853034, 0.11184824, 0.98800254, 0.9934598 , 0.7528964 ,\n",
       "       0.98204845, 0.9975345 , 0.17222312, 0.99414754, 0.99277425,\n",
       "       0.99648994, 0.12200242, 0.9726779 , 0.9909854 , 0.50966054,\n",
       "       0.99773115, 0.00736508, 0.9679848 , 0.23127818, 0.99215305,\n",
       "       0.69283766, 0.997061  , 0.9903823 , 0.98859847, 0.99368656,\n",
       "       0.9910723 , 0.9930291 , 0.9878505 , 0.9149693 , 0.98299503,\n",
       "       0.9848667 , 0.99294096, 0.99404013, 0.97202796, 0.98525506,\n",
       "       0.993782  , 0.99457085, 0.01002437, 0.14554158, 0.9966691 ,\n",
       "       0.995669  , 0.99285173, 0.8242695 , 0.00848803, 0.00938964,\n",
       "       0.9977914 , 0.71341896, 0.9946154 , 0.98692447, 0.7385497 ,\n",
       "       0.9965795 , 0.99532384, 0.11504972, 0.19873801, 0.4928184 ,\n",
       "       0.93696946, 0.64809686, 0.96404773, 0.98180103, 0.8193739 ,\n",
       "       0.99641526, 0.13973105, 0.99262786, 0.00714558, 0.99305594,\n",
       "       0.72751474, 0.98349094, 0.99155   , 0.9838879 , 0.00769946,\n",
       "       0.99586046, 0.9961457 , 0.99440914, 0.97907573, 0.4255851 ,\n",
       "       0.9942553 , 0.9425361 , 0.9880109 , 0.99476874, 0.9936201 ,\n",
       "       0.21909955, 0.9858384 , 0.01314169, 0.99146605, 0.60767096,\n",
       "       0.991856  , 0.9960699 , 0.96467483, 0.99546224, 0.98774457,\n",
       "       0.94191015, 0.9957893 , 0.00290179, 0.01512191, 0.9905789 ,\n",
       "       0.21961382, 0.9886128 , 0.9960227 , 0.9953798 , 0.99716496,\n",
       "       0.99684405, 0.9954624 , 0.9955286 , 0.93228847, 0.07226166,\n",
       "       0.99603367, 0.9958789 , 0.9392024 , 0.97638136, 0.9913855 ,\n",
       "       0.9862152 , 0.9556877 , 0.9975163 , 0.9846508 , 0.30755097,\n",
       "       0.95598984, 0.99360603, 0.978523  , 0.9624939 , 0.11082876,\n",
       "       0.95573664, 0.99715513, 0.20053247, 0.997557  , 0.9187002 ,\n",
       "       0.99785995, 0.9961348 , 0.99604726, 0.9957496 , 0.9831809 ,\n",
       "       0.9965696 , 0.3883317 , 0.98208904, 0.9968994 , 0.99697924,\n",
       "       0.99510324, 0.9929463 , 0.99119574, 0.98586947, 0.9963157 ,\n",
       "       0.99243796, 0.99723953, 0.9956116 , 0.9979583 , 0.98057103,\n",
       "       0.9607093 , 0.98949516, 0.03587338, 0.95946217, 0.99442303,\n",
       "       0.98659384, 0.99566513, 0.00436836, 0.994563  , 0.9959768 ,\n",
       "       0.8621685 , 0.9955249 , 0.9829403 , 0.93327785, 0.01018518,\n",
       "       0.9784833 , 0.99622136, 0.99124837, 0.9973013 , 0.9701998 ,\n",
       "       0.00903821, 0.16867527, 0.99571013, 0.997535  , 0.99345994,\n",
       "       0.99490273, 0.997506  , 0.99169695, 0.00817505, 0.11023569,\n",
       "       0.96698   , 0.9907375 , 0.9943906 , 0.9031373 , 0.9962788 ,\n",
       "       0.48115805, 0.9942412 , 0.99416554, 0.94080853, 0.99709415,\n",
       "       0.9944787 , 0.9610337 , 0.99705863, 0.06593281, 0.23880062,\n",
       "       0.9970577 , 0.9949553 , 0.98723674, 0.23915464, 0.9174833 ,\n",
       "       0.99643385, 0.0341436 , 0.10954961, 0.9941203 , 0.10617071,\n",
       "       0.99716675, 0.99762815, 0.8962302 , 0.9977926 , 0.9528334 ,\n",
       "       0.99774885, 0.12413523, 0.1838893 , 0.98743564, 0.9959696 ,\n",
       "       0.99416417, 0.9905964 , 0.00239995, 0.97794414, 0.99444336,\n",
       "       0.00875321, 0.92692316, 0.9901923 , 0.9905058 , 0.99590427,\n",
       "       0.98858   , 0.99477506, 0.9110421 , 0.00300488, 0.90550554,\n",
       "       0.9926555 , 0.9888191 , 0.9937805 , 0.0104273 , 0.9943893 ,\n",
       "       0.8796257 , 0.9975287 , 0.7680222 , 0.9913217 , 0.01179001,\n",
       "       0.9961887 , 0.00489944, 0.99497026, 0.9959078 , 0.993103  ,\n",
       "       0.00825417, 0.9928885 , 0.09315556, 0.9961188 , 0.9878235 ,\n",
       "       0.06306157, 0.93967974, 0.88727355, 0.00719666, 0.9933028 ,\n",
       "       0.99677885, 0.948573  , 0.9437468 , 0.00745311, 0.99093723,\n",
       "       0.9941892 , 0.99454653, 0.9958004 , 0.00970033, 0.9166018 ,\n",
       "       0.91285217, 0.84896505, 0.92921776, 0.98540115, 0.7895291 ,\n",
       "       0.9960104 , 0.9374882 , 0.9958569 , 0.00571752, 0.99673086,\n",
       "       0.10429722, 0.9980763 , 0.01039979, 0.09997815, 0.2636869 ,\n",
       "       0.10313788, 0.68606067, 0.9883003 , 0.2358214 , 0.00671461,\n",
       "       0.00304672, 0.28870416, 0.22063777, 0.95472133, 0.99290645,\n",
       "       0.9954387 , 0.99340665, 0.13385412, 0.99348235, 0.99097633,\n",
       "       0.11908013, 0.73610926, 0.93794686, 0.99429953, 0.99639153,\n",
       "       0.96489036, 0.94230175, 0.01215136, 0.9820404 , 0.99421567,\n",
       "       0.9964234 , 0.21011645, 0.12814817, 0.9959824 , 0.23630941,\n",
       "       0.00235617, 0.27737087, 0.9274267 , 0.99286556, 0.9961425 ,\n",
       "       0.01267481, 0.10150072, 0.99410397, 0.99827087, 0.99465907,\n",
       "       0.9497857 , 0.39063314, 0.00552434, 0.9913074 , 0.8407239 ,\n",
       "       0.99002755, 0.6280181 , 0.8961328 , 0.99634904, 0.9581132 ,\n",
       "       0.00869784, 0.20139903, 0.9959997 , 0.9906113 , 0.01221511,\n",
       "       0.12242007, 0.9943738 , 0.08193943, 0.99719083, 0.97957253,\n",
       "       0.9939178 , 0.9949598 , 0.13136864, 0.9959705 , 0.9936637 ,\n",
       "       0.9974223 , 0.9953847 , 0.9590663 , 0.99558944, 0.9888487 ,\n",
       "       0.9721178 , 0.00520414, 0.4519587 , 0.9956385 , 0.10055941,\n",
       "       0.98774755, 0.9962261 , 0.39084184, 0.9358252 , 0.9951302 ,\n",
       "       0.9952524 , 0.99103045, 0.8970226 , 0.9948132 , 0.9968319 ,\n",
       "       0.12425435, 0.9933163 , 0.9072902 , 0.9845215 , 0.9951225 ,\n",
       "       0.00375122, 0.9940665 , 0.99297225, 0.9915935 , 0.99738586,\n",
       "       0.9533292 , 0.996395  , 0.8421011 , 0.997006  , 0.9917388 ,\n",
       "       0.00678515, 0.0178979 , 0.91466856, 0.00653929, 0.16636083,\n",
       "       0.9835508 , 0.9125459 , 0.9927832 , 0.996385  , 0.9961013 ,\n",
       "       0.9636163 , 0.98067796, 0.01944655, 0.05928305, 0.9833859 ,\n",
       "       0.9962567 , 0.94113123, 0.99262273, 0.11192775, 0.99345964,\n",
       "       0.93532073, 0.22607508, 0.99267644, 0.99450827, 0.9926643 ,\n",
       "       0.99379694, 0.9980111 , 0.9579982 , 0.99378383, 0.1637587 ,\n",
       "       0.62269026, 0.9883239 , 0.85665154, 0.98897964, 0.9842325 ,\n",
       "       0.9953287 , 0.9937141 , 0.9591618 , 0.91964686, 0.06503689,\n",
       "       0.9953048 , 0.99285996, 0.9915443 , 0.99244106, 0.99503875,\n",
       "       0.98764265, 0.996934  , 0.98861957, 0.8764545 , 0.9956996 ,\n",
       "       0.9743427 , 0.99526465, 0.9974399 , 0.9945651 , 0.02647865,\n",
       "       0.9917208 , 0.9574714 , 0.9875981 , 0.9413696 , 0.99299014,\n",
       "       0.9752871 , 0.98906064, 0.9946891 , 0.9913629 , 0.99610245,\n",
       "       0.9460797 , 0.99221635, 0.9121005 , 0.9464989 , 0.9967562 ,\n",
       "       0.98991275, 0.14915997, 0.9963023 , 0.13074744, 0.00949863,\n",
       "       0.9440603 , 0.01977721, 0.9910263 , 0.99749094, 0.9239551 ,\n",
       "       0.99227643, 0.9971232 , 0.9943174 , 0.99389815, 0.9899735 ,\n",
       "       0.9785845 , 0.99597204, 0.94637287, 0.9901046 , 0.00556517,\n",
       "       0.00610688, 0.9928161 , 0.01376295, 0.9970678 , 0.0079442 ,\n",
       "       0.004673  , 0.92841136, 0.9927403 , 0.9937218 , 0.9916935 ,\n",
       "       0.9781567 , 0.94406915, 0.9948232 , 0.9908355 , 0.00246999,\n",
       "       0.9223507 , 0.00728485, 0.993794  , 0.4044158 , 0.9981072 ,\n",
       "       0.99604744, 0.99798757, 0.9964072 , 0.9946435 , 0.9167421 ,\n",
       "       0.8303782 , 0.20409995, 0.9956471 , 0.00908014, 0.8901367 ,\n",
       "       0.99404436, 0.9785298 , 0.06859624, 0.9937252 , 0.15309983,\n",
       "       0.9981047 , 0.07498491, 0.99184275, 0.9916665 , 0.9946973 ,\n",
       "       0.99762607, 0.7381786 , 0.9975698 , 0.99715805, 0.0218024 ,\n",
       "       0.79941773, 0.7943122 , 0.90448207, 0.86123395, 0.95837885,\n",
       "       0.9937475 , 0.9888872 , 0.96793664, 0.9127923 , 0.03403327,\n",
       "       0.9966054 , 0.9542588 , 0.01066765, 0.985615  , 0.9955946 ,\n",
       "       0.98790276, 0.98144567, 0.00586349, 0.8342509 , 0.37808678,\n",
       "       0.9968442 , 0.98188573, 0.83236563, 0.9409224 , 0.9921512 ,\n",
       "       0.99425817, 0.31185094, 0.04164496, 0.11192837, 0.6850805 ,\n",
       "       0.966245  , 0.924875  , 0.992279  , 0.9944035 , 0.99542606,\n",
       "       0.99156636, 0.31932497, 0.99547994, 0.04237142, 0.9962929 ,\n",
       "       0.00922373, 0.9738564 , 0.99743116, 0.9546328 , 0.9943887 ,\n",
       "       0.9897672 , 0.9977791 , 0.99433076, 0.01454037, 0.9897325 ,\n",
       "       0.3516482 , 0.09341085, 0.96273756, 0.99216425, 0.99011123,\n",
       "       0.9616693 , 0.98676854, 0.9946518 , 0.9545579 , 0.0234082 ,\n",
       "       0.99474   , 0.96453094, 0.98558515, 0.9965262 , 0.9860414 ,\n",
       "       0.91024697, 0.9771699 , 0.00354049, 0.0124383 , 0.9924605 ,\n",
       "       0.00741324, 0.992048  , 0.98503983, 0.13447112, 0.0063796 ,\n",
       "       0.9870111 , 0.9776839 , 0.98411906, 0.99607146, 0.991724  ,\n",
       "       0.91804576, 0.9929491 , 0.9679369 , 0.00257346, 0.01559114,\n",
       "       0.99732125, 0.5922074 , 0.99505633, 0.01499301, 0.98827976,\n",
       "       0.00968841, 0.984121  , 0.9972135 , 0.9955221 , 0.99247575,\n",
       "       0.7181125 , 0.01220763, 0.9426167 , 0.00616837, 0.00900972,\n",
       "       0.9931202 , 0.9966202 , 0.991238  , 0.9907594 , 0.959371  ,\n",
       "       0.9959132 , 0.9599716 , 0.99300075, 0.01182941, 0.14489168,\n",
       "       0.0239369 , 0.96257424, 0.12106711, 0.00250235, 0.99065906,\n",
       "       0.9978348 , 0.9097198 , 0.88469553, 0.92263556, 0.996004  ,\n",
       "       0.01058528, 0.99210656, 0.91366625, 0.05904761, 0.38551807,\n",
       "       0.03889129, 0.01189259, 0.9907789 , 0.99327946, 0.98095006,\n",
       "       0.96302414, 0.9903548 , 0.9975113 , 0.06047106, 0.8952751 ,\n",
       "       0.9949666 , 0.25215876, 0.99761057, 0.9597942 , 0.9971818 ,\n",
       "       0.9963815 , 0.9809805 , 0.9476485 , 0.8706132 , 0.960708  ,\n",
       "       0.9959501 , 0.9945714 , 0.9811163 , 0.99641335, 0.997996  ,\n",
       "       0.00983942, 0.98389053, 0.9956965 , 0.98868877, 0.99373114,\n",
       "       0.08181423, 0.9953238 , 0.99508536, 0.9495311 , 0.9953312 ,\n",
       "       0.9889263 , 0.9294758 , 0.9850062 , 0.9917096 , 0.9960023 ,\n",
       "       0.05572587, 0.99023896, 0.15433276, 0.9912572 , 0.02898178,\n",
       "       0.98872095, 0.9931183 , 0.9689376 , 0.98978496, 0.00544062,\n",
       "       0.92237127, 0.991801  , 0.0712474 , 0.98748195, 0.99207336,\n",
       "       0.8640378 , 0.14700201, 0.9335762 , 0.99552786, 0.99674284,\n",
       "       0.99183834, 0.9934091 , 0.96547604, 0.01106808, 0.98134243,\n",
       "       0.99264544, 0.99367523, 0.96833503, 0.9938897 , 0.9931662 ,\n",
       "       0.9951191 , 0.9891262 , 0.9913669 , 0.9424498 , 0.8795396 ,\n",
       "       0.13967112, 0.9947609 , 0.58262086, 0.9918591 , 0.9968341 ,\n",
       "       0.99563414, 0.9841453 , 0.99562794, 0.7547258 , 0.9833576 ,\n",
       "       0.969141  , 0.6382023 , 0.99731135, 0.96167856, 0.9953661 ,\n",
       "       0.32336792, 0.9929234 , 0.99398386, 0.9316369 , 0.9967275 ,\n",
       "       0.9951831 , 0.99802667, 0.01929289, 0.03628135, 0.9938048 ,\n",
       "       0.96100473, 0.99747777, 0.98660946, 0.01082453, 0.99368334,\n",
       "       0.00197104, 0.47824034, 0.9959636 , 0.993284  , 0.9948584 ,\n",
       "       0.9936569 , 0.9947462 , 0.92636156, 0.9714213 , 0.9909375 ,\n",
       "       0.994082  , 0.9931971 , 0.04495814, 0.09620047, 0.99717724,\n",
       "       0.99719775, 0.9957957 , 0.99693596, 0.98541474, 0.9968891 ,\n",
       "       0.9980364 , 0.9948508 , 0.01078972, 0.99357396, 0.08750871,\n",
       "       0.99790686, 0.99575144, 0.07270756, 0.18806255, 0.9405331 ,\n",
       "       0.00994277, 0.8718773 , 0.95411825, 0.20094398, 0.99086034,\n",
       "       0.9926051 , 0.992077  , 0.01467109, 0.29353487, 0.2797042 ,\n",
       "       0.9920269 , 0.9947437 , 0.9957268 , 0.06542119, 0.01106054,\n",
       "       0.15704292, 0.9907174 , 0.27063558, 0.99676   , 0.61476934,\n",
       "       0.9939461 , 0.9960784 , 0.98713315, 0.00759158, 0.48041168,\n",
       "       0.99253136, 0.996521  , 0.99139583, 0.9877243 , 0.98815835,\n",
       "       0.67785656, 0.36018264, 0.9816953 , 0.99036384, 0.9780377 ,\n",
       "       0.9359273 , 0.9911616 , 0.99479896, 0.8008752 , 0.9183191 ,\n",
       "       0.16185796, 0.02035502, 0.99544924, 0.9851903 , 0.9887792 ,\n",
       "       0.9254483 , 0.9966949 , 0.23060206, 0.9935851 , 0.99446034,\n",
       "       0.02759454, 0.9765128 , 0.9935293 , 0.99417967, 0.9940768 ,\n",
       "       0.7818722 , 0.9969219 , 0.97865015, 0.116815  , 0.99269205,\n",
       "       0.9967724 , 0.93834424, 0.9115145 , 0.9951978 , 0.99287534,\n",
       "       0.97583616, 0.9146928 , 0.9938804 , 0.991287  , 0.99501073,\n",
       "       0.9962071 , 0.9927188 , 0.99642885, 0.99490225, 0.02375951,\n",
       "       0.09555024, 0.9932312 , 0.99722844, 0.36680776, 0.93145525,\n",
       "       0.99706435, 0.00330022, 0.9970479 , 0.99118614, 0.9957869 ,\n",
       "       0.99551636, 0.01269001, 0.99446046, 0.99343204, 0.97563136,\n",
       "       0.9909092 , 0.93180543, 0.99125487, 0.9802333 , 0.9980345 ,\n",
       "       0.01401892, 0.99197173, 0.9547491 , 0.9929601 , 0.96984875,\n",
       "       0.997131  , 0.9960427 , 0.98451984, 0.9948573 , 0.9170703 ,\n",
       "       0.8697895 , 0.98704946, 0.99781257, 0.99598414, 0.9423752 ,\n",
       "       0.98601425, 0.9906459 , 0.12043378, 0.00567204, 0.9967518 ,\n",
       "       0.9982265 , 0.00424072, 0.9970001 , 0.98176014, 0.9646276 ,\n",
       "       0.01177132, 0.08452258, 0.99480015, 0.00422135, 0.99701107,\n",
       "       0.99577767, 0.99733657, 0.99101365, 0.9976216 ], dtype=float32)"
      ]
     },
     "execution_count": 61,
     "metadata": {},
     "output_type": "execute_result"
    }
   ],
   "source": [
    "y_prob"
   ]
  },
  {
   "cell_type": "code",
   "execution_count": 62,
   "id": "4d5dbfcb-adc5-4fe8-96cf-20c7079e705d",
   "metadata": {
    "tags": []
   },
   "outputs": [
    {
     "data": {
      "text/plain": [
       "984"
      ]
     },
     "execution_count": 62,
     "metadata": {},
     "output_type": "execute_result"
    }
   ],
   "source": [
    "len(y_prob)"
   ]
  },
  {
   "cell_type": "markdown",
   "id": "3f50106b-3df2-4b22-9849-aa11ad886c7e",
   "metadata": {
    "jp-MarkdownHeadingCollapsed": true,
    "tags": []
   },
   "source": [
    "### Plot Precision Recall Curve"
   ]
  },
  {
   "cell_type": "code",
   "execution_count": 63,
   "id": "87307912-b24c-4273-9364-a5f015bcb49d",
   "metadata": {
    "tags": []
   },
   "outputs": [
    {
     "data": {
      "image/png": "[encoded data removed]",
      "text/plain": [
       "<Figure size 640x480 with 1 Axes>"
      ]
     },
     "metadata": {},
     "output_type": "display_data"
    }
   ],
   "source": [
    "pr_curve(y_test, y_prob)"
   ]
  },
  {
   "cell_type": "markdown",
   "id": "8cf8350f-d28a-4e94-8151-4802c00d09cd",
   "metadata": {
    "tags": []
   },
   "source": [
    "### Plot Score Distributions for True Positives and True Negatives in Test Set"
   ]
  },
  {
   "cell_type": "code",
   "execution_count": 64,
   "id": "d7386200-dd52-4564-b412-d1bd8a6a133e",
   "metadata": {
    "tags": []
   },
   "outputs": [
    {
     "data": {
      "image/png": "[encoded data removed]",
      "text/plain": [
       "<Figure size 1200x1200 with 1 Axes>"
      ]
     },
     "metadata": {},
     "output_type": "display_data"
    }
   ],
   "source": [
    "plot_validation_groups(y_test, y_prob)"
   ]
  },
  {
   "cell_type": "markdown",
   "id": "031ac68c-1c8e-4bfd-9e89-1018a7819e2c",
   "metadata": {},
   "source": [
    "### Compute Performance Metrics at Threshold Increments"
   ]
  },
  {
   "cell_type": "code",
   "execution_count": 65,
   "id": "c12350a1-bd03-4bc1-9e95-e1c1e1cb87b2",
   "metadata": {
    "tags": []
   },
   "outputs": [
    {
     "data": {
      "text/html": [
       "<div>\n",
       "<style scoped>\n",
       "    .dataframe tbody tr th:only-of-type {\n",
       "        vertical-align: middle;\n",
       "    }\n",
       "\n",
       "    .dataframe tbody tr th {\n",
       "        vertical-align: top;\n",
       "    }\n",
       "\n",
       "    .dataframe thead th {\n",
       "        text-align: right;\n",
       "    }\n",
       "</style>\n",
       "<table border=\"1\" class=\"dataframe\">\n",
       "  <thead>\n",
       "    <tr style=\"text-align: right;\">\n",
       "      <th></th>\n",
       "      <th>Threshold</th>\n",
       "      <th>Sensitivity</th>\n",
       "      <th>Specificity</th>\n",
       "      <th>Precision</th>\n",
       "      <th>Recall</th>\n",
       "      <th>Accuracy</th>\n",
       "      <th>True Negative Rate</th>\n",
       "      <th>False Positive Rate</th>\n",
       "      <th>False Negative Rate</th>\n",
       "      <th>True Positive Rate</th>\n",
       "      <th>F1 Score</th>\n",
       "      <th>Brier Loss</th>\n",
       "    </tr>\n",
       "  </thead>\n",
       "  <tbody>\n",
       "    <tr>\n",
       "      <th>0</th>\n",
       "      <td>0.05</td>\n",
       "      <td>0.9913</td>\n",
       "      <td>0.5852</td>\n",
       "      <td>0.9165</td>\n",
       "      <td>0.9364</td>\n",
       "      <td>0.9187</td>\n",
       "      <td>10.47%</td>\n",
       "      <td>7.42%</td>\n",
       "      <td>0.71%</td>\n",
       "      <td>81.4%</td>\n",
       "      <td>0.4762</td>\n",
       "      <td>0.0813</td>\n",
       "    </tr>\n",
       "    <tr>\n",
       "      <th>1</th>\n",
       "      <td>0.10</td>\n",
       "      <td>0.9864</td>\n",
       "      <td>0.6989</td>\n",
       "      <td>0.9376</td>\n",
       "      <td>0.9179</td>\n",
       "      <td>0.9350</td>\n",
       "      <td>12.5%</td>\n",
       "      <td>5.39%</td>\n",
       "      <td>1.12%</td>\n",
       "      <td>81.0%</td>\n",
       "      <td>0.4807</td>\n",
       "      <td>0.0650</td>\n",
       "    </tr>\n",
       "    <tr>\n",
       "      <th>2</th>\n",
       "      <td>0.15</td>\n",
       "      <td>0.9629</td>\n",
       "      <td>0.7670</td>\n",
       "      <td>0.9499</td>\n",
       "      <td>0.8182</td>\n",
       "      <td>0.9278</td>\n",
       "      <td>13.72%</td>\n",
       "      <td>4.17%</td>\n",
       "      <td>3.05%</td>\n",
       "      <td>79.07%</td>\n",
       "      <td>0.4782</td>\n",
       "      <td>0.0722</td>\n",
       "    </tr>\n",
       "    <tr>\n",
       "      <th>3</th>\n",
       "      <td>0.20</td>\n",
       "      <td>0.9579</td>\n",
       "      <td>0.8182</td>\n",
       "      <td>0.9603</td>\n",
       "      <td>0.8090</td>\n",
       "      <td>0.9329</td>\n",
       "      <td>14.63%</td>\n",
       "      <td>3.25%</td>\n",
       "      <td>3.46%</td>\n",
       "      <td>78.66%</td>\n",
       "      <td>0.4795</td>\n",
       "      <td>0.0671</td>\n",
       "    </tr>\n",
       "    <tr>\n",
       "      <th>4</th>\n",
       "      <td>0.25</td>\n",
       "      <td>0.9505</td>\n",
       "      <td>0.8750</td>\n",
       "      <td>0.9722</td>\n",
       "      <td>0.7938</td>\n",
       "      <td>0.9370</td>\n",
       "      <td>15.65%</td>\n",
       "      <td>2.24%</td>\n",
       "      <td>4.07%</td>\n",
       "      <td>78.05%</td>\n",
       "      <td>0.4806</td>\n",
       "      <td>0.0630</td>\n",
       "    </tr>\n",
       "    <tr>\n",
       "      <th>5</th>\n",
       "      <td>0.30</td>\n",
       "      <td>0.9455</td>\n",
       "      <td>0.8977</td>\n",
       "      <td>0.9770</td>\n",
       "      <td>0.7822</td>\n",
       "      <td>0.9370</td>\n",
       "      <td>16.06%</td>\n",
       "      <td>1.83%</td>\n",
       "      <td>4.47%</td>\n",
       "      <td>77.64%</td>\n",
       "      <td>0.4805</td>\n",
       "      <td>0.0630</td>\n",
       "    </tr>\n",
       "    <tr>\n",
       "      <th>6</th>\n",
       "      <td>0.35</td>\n",
       "      <td>0.9418</td>\n",
       "      <td>0.9034</td>\n",
       "      <td>0.9781</td>\n",
       "      <td>0.7718</td>\n",
       "      <td>0.9350</td>\n",
       "      <td>16.16%</td>\n",
       "      <td>1.73%</td>\n",
       "      <td>4.78%</td>\n",
       "      <td>77.34%</td>\n",
       "      <td>0.4798</td>\n",
       "      <td>0.0650</td>\n",
       "    </tr>\n",
       "    <tr>\n",
       "      <th>7</th>\n",
       "      <td>0.40</td>\n",
       "      <td>0.9356</td>\n",
       "      <td>0.9205</td>\n",
       "      <td>0.9818</td>\n",
       "      <td>0.7570</td>\n",
       "      <td>0.9329</td>\n",
       "      <td>16.46%</td>\n",
       "      <td>1.42%</td>\n",
       "      <td>5.28%</td>\n",
       "      <td>76.83%</td>\n",
       "      <td>0.4791</td>\n",
       "      <td>0.0671</td>\n",
       "    </tr>\n",
       "    <tr>\n",
       "      <th>8</th>\n",
       "      <td>0.45</td>\n",
       "      <td>0.9332</td>\n",
       "      <td>0.9205</td>\n",
       "      <td>0.9818</td>\n",
       "      <td>0.7500</td>\n",
       "      <td>0.9309</td>\n",
       "      <td>16.46%</td>\n",
       "      <td>1.42%</td>\n",
       "      <td>5.49%</td>\n",
       "      <td>76.63%</td>\n",
       "      <td>0.4784</td>\n",
       "      <td>0.0691</td>\n",
       "    </tr>\n",
       "    <tr>\n",
       "      <th>9</th>\n",
       "      <td>0.50</td>\n",
       "      <td>0.9270</td>\n",
       "      <td>0.9261</td>\n",
       "      <td>0.9829</td>\n",
       "      <td>0.7342</td>\n",
       "      <td>0.9268</td>\n",
       "      <td>16.57%</td>\n",
       "      <td>1.32%</td>\n",
       "      <td>6.0%</td>\n",
       "      <td>76.12%</td>\n",
       "      <td>0.4771</td>\n",
       "      <td>0.0732</td>\n",
       "    </tr>\n",
       "    <tr>\n",
       "      <th>10</th>\n",
       "      <td>0.55</td>\n",
       "      <td>0.9270</td>\n",
       "      <td>0.9375</td>\n",
       "      <td>0.9855</td>\n",
       "      <td>0.7366</td>\n",
       "      <td>0.9289</td>\n",
       "      <td>16.77%</td>\n",
       "      <td>1.12%</td>\n",
       "      <td>6.0%</td>\n",
       "      <td>76.12%</td>\n",
       "      <td>0.4777</td>\n",
       "      <td>0.0711</td>\n",
       "    </tr>\n",
       "    <tr>\n",
       "      <th>11</th>\n",
       "      <td>0.60</td>\n",
       "      <td>0.9245</td>\n",
       "      <td>0.9375</td>\n",
       "      <td>0.9855</td>\n",
       "      <td>0.7301</td>\n",
       "      <td>0.9268</td>\n",
       "      <td>16.77%</td>\n",
       "      <td>1.12%</td>\n",
       "      <td>6.2%</td>\n",
       "      <td>75.91%</td>\n",
       "      <td>0.4770</td>\n",
       "      <td>0.0732</td>\n",
       "    </tr>\n",
       "    <tr>\n",
       "      <th>12</th>\n",
       "      <td>0.65</td>\n",
       "      <td>0.9171</td>\n",
       "      <td>0.9432</td>\n",
       "      <td>0.9867</td>\n",
       "      <td>0.7124</td>\n",
       "      <td>0.9217</td>\n",
       "      <td>16.87%</td>\n",
       "      <td>1.02%</td>\n",
       "      <td>6.81%</td>\n",
       "      <td>75.3%</td>\n",
       "      <td>0.4753</td>\n",
       "      <td>0.0783</td>\n",
       "    </tr>\n",
       "    <tr>\n",
       "      <th>13</th>\n",
       "      <td>0.70</td>\n",
       "      <td>0.9121</td>\n",
       "      <td>0.9489</td>\n",
       "      <td>0.9879</td>\n",
       "      <td>0.7017</td>\n",
       "      <td>0.9187</td>\n",
       "      <td>16.97%</td>\n",
       "      <td>0.91%</td>\n",
       "      <td>7.22%</td>\n",
       "      <td>74.9%</td>\n",
       "      <td>0.4742</td>\n",
       "      <td>0.0813</td>\n",
       "    </tr>\n",
       "    <tr>\n",
       "      <th>14</th>\n",
       "      <td>0.75</td>\n",
       "      <td>0.9035</td>\n",
       "      <td>0.9602</td>\n",
       "      <td>0.9905</td>\n",
       "      <td>0.6842</td>\n",
       "      <td>0.9136</td>\n",
       "      <td>17.17%</td>\n",
       "      <td>0.71%</td>\n",
       "      <td>7.93%</td>\n",
       "      <td>74.19%</td>\n",
       "      <td>0.4725</td>\n",
       "      <td>0.0864</td>\n",
       "    </tr>\n",
       "    <tr>\n",
       "      <th>15</th>\n",
       "      <td>0.80</td>\n",
       "      <td>0.8960</td>\n",
       "      <td>0.9716</td>\n",
       "      <td>0.9931</td>\n",
       "      <td>0.6706</td>\n",
       "      <td>0.9096</td>\n",
       "      <td>17.38%</td>\n",
       "      <td>0.51%</td>\n",
       "      <td>8.54%</td>\n",
       "      <td>73.58%</td>\n",
       "      <td>0.4710</td>\n",
       "      <td>0.0904</td>\n",
       "    </tr>\n",
       "    <tr>\n",
       "      <th>16</th>\n",
       "      <td>0.85</td>\n",
       "      <td>0.8837</td>\n",
       "      <td>0.9716</td>\n",
       "      <td>0.9930</td>\n",
       "      <td>0.6453</td>\n",
       "      <td>0.8994</td>\n",
       "      <td>17.38%</td>\n",
       "      <td>0.51%</td>\n",
       "      <td>9.55%</td>\n",
       "      <td>72.56%</td>\n",
       "      <td>0.4676</td>\n",
       "      <td>0.1006</td>\n",
       "    </tr>\n",
       "    <tr>\n",
       "      <th>17</th>\n",
       "      <td>0.90</td>\n",
       "      <td>0.8626</td>\n",
       "      <td>0.9716</td>\n",
       "      <td>0.9929</td>\n",
       "      <td>0.6064</td>\n",
       "      <td>0.8821</td>\n",
       "      <td>17.38%</td>\n",
       "      <td>0.51%</td>\n",
       "      <td>11.28%</td>\n",
       "      <td>70.83%</td>\n",
       "      <td>0.4616</td>\n",
       "      <td>0.1179</td>\n",
       "    </tr>\n",
       "    <tr>\n",
       "      <th>18</th>\n",
       "      <td>0.95</td>\n",
       "      <td>0.7698</td>\n",
       "      <td>0.9943</td>\n",
       "      <td>0.9984</td>\n",
       "      <td>0.4848</td>\n",
       "      <td>0.8100</td>\n",
       "      <td>17.78%</td>\n",
       "      <td>0.1%</td>\n",
       "      <td>18.9%</td>\n",
       "      <td>63.21%</td>\n",
       "      <td>0.4347</td>\n",
       "      <td>0.1900</td>\n",
       "    </tr>\n",
       "  </tbody>\n",
       "</table>\n",
       "</div>"
      ],
      "text/plain": [
       "    Threshold  Sensitivity  Specificity  Precision  Recall  Accuracy  \\\n",
       "0        0.05       0.9913       0.5852     0.9165  0.9364    0.9187   \n",
       "1        0.10       0.9864       0.6989     0.9376  0.9179    0.9350   \n",
       "2        0.15       0.9629       0.7670     0.9499  0.8182    0.9278   \n",
       "3        0.20       0.9579       0.8182     0.9603  0.8090    0.9329   \n",
       "4        0.25       0.9505       0.8750     0.9722  0.7938    0.9370   \n",
       "5        0.30       0.9455       0.8977     0.9770  0.7822    0.9370   \n",
       "6        0.35       0.9418       0.9034     0.9781  0.7718    0.9350   \n",
       "7        0.40       0.9356       0.9205     0.9818  0.7570    0.9329   \n",
       "8        0.45       0.9332       0.9205     0.9818  0.7500    0.9309   \n",
       "9        0.50       0.9270       0.9261     0.9829  0.7342    0.9268   \n",
       "10       0.55       0.9270       0.9375     0.9855  0.7366    0.9289   \n",
       "11       0.60       0.9245       0.9375     0.9855  0.7301    0.9268   \n",
       "12       0.65       0.9171       0.9432     0.9867  0.7124    0.9217   \n",
       "13       0.70       0.9121       0.9489     0.9879  0.7017    0.9187   \n",
       "14       0.75       0.9035       0.9602     0.9905  0.6842    0.9136   \n",
       "15       0.80       0.8960       0.9716     0.9931  0.6706    0.9096   \n",
       "16       0.85       0.8837       0.9716     0.9930  0.6453    0.8994   \n",
       "17       0.90       0.8626       0.9716     0.9929  0.6064    0.8821   \n",
       "18       0.95       0.7698       0.9943     0.9984  0.4848    0.8100   \n",
       "\n",
       "   True Negative Rate False Positive Rate False Negative Rate  \\\n",
       "0              10.47%               7.42%               0.71%   \n",
       "1               12.5%               5.39%               1.12%   \n",
       "2              13.72%               4.17%               3.05%   \n",
       "3              14.63%               3.25%               3.46%   \n",
       "4              15.65%               2.24%               4.07%   \n",
       "5              16.06%               1.83%               4.47%   \n",
       "6              16.16%               1.73%               4.78%   \n",
       "7              16.46%               1.42%               5.28%   \n",
       "8              16.46%               1.42%               5.49%   \n",
       "9              16.57%               1.32%                6.0%   \n",
       "10             16.77%               1.12%                6.0%   \n",
       "11             16.77%               1.12%                6.2%   \n",
       "12             16.87%               1.02%               6.81%   \n",
       "13             16.97%               0.91%               7.22%   \n",
       "14             17.17%               0.71%               7.93%   \n",
       "15             17.38%               0.51%               8.54%   \n",
       "16             17.38%               0.51%               9.55%   \n",
       "17             17.38%               0.51%              11.28%   \n",
       "18             17.78%                0.1%               18.9%   \n",
       "\n",
       "   True Positive Rate  F1 Score  Brier Loss  \n",
       "0               81.4%    0.4762      0.0813  \n",
       "1               81.0%    0.4807      0.0650  \n",
       "2              79.07%    0.4782      0.0722  \n",
       "3              78.66%    0.4795      0.0671  \n",
       "4              78.05%    0.4806      0.0630  \n",
       "5              77.64%    0.4805      0.0630  \n",
       "6              77.34%    0.4798      0.0650  \n",
       "7              76.83%    0.4791      0.0671  \n",
       "8              76.63%    0.4784      0.0691  \n",
       "9              76.12%    0.4771      0.0732  \n",
       "10             76.12%    0.4777      0.0711  \n",
       "11             75.91%    0.4770      0.0732  \n",
       "12              75.3%    0.4753      0.0783  \n",
       "13              74.9%    0.4742      0.0813  \n",
       "14             74.19%    0.4725      0.0864  \n",
       "15             73.58%    0.4710      0.0904  \n",
       "16             72.56%    0.4676      0.1006  \n",
       "17             70.83%    0.4616      0.1179  \n",
       "18             63.21%    0.4347      0.1900  "
      ]
     },
     "execution_count": 65,
     "metadata": {},
     "output_type": "execute_result"
    }
   ],
   "source": [
    "comp_threshold(y_test, y_prob)"
   ]
  },
  {
   "cell_type": "markdown",
   "id": "6ccbea21-582d-477d-90c1-20e3b69ffce4",
   "metadata": {
    "tags": []
   },
   "source": [
    "### Print Confustion Matrix and Performance Summary at 0.5 Threshold"
   ]
  },
  {
   "cell_type": "code",
   "execution_count": 66,
   "id": "55d947f3-6ab2-4b22-ace6-f20063dca5ae",
   "metadata": {
    "tags": []
   },
   "outputs": [
    {
     "name": "stdout",
     "output_type": "stream",
     "text": [
      "\n",
      "CONFUSION MATRIX AT 0.5 THRESHOLD:\n",
      "\n",
      "[[163  13]\n",
      " [ 59 749]]\n",
      "\n",
      "PERFORMANCE AT 0.5 THRESHOLD:\n",
      "\n",
      "   Recall/Sensitivity: 0.92698\n",
      "   Specificity: 0.92614\n",
      "   Precision/Positive Predictive Value: 0.98294\n",
      "   Negative Predictive Value: 0.73423\n",
      "   plot_accuracy: 0.92683\n",
      "\n"
     ]
    }
   ],
   "source": [
    "print_performance(y_test, y_prob)"
   ]
  },
  {
   "cell_type": "code",
   "execution_count": null,
   "id": "36172b3d-4afa-425a-935a-03413307b796",
   "metadata": {},
   "outputs": [],
   "source": []
  },
  {
   "cell_type": "markdown",
   "id": "70e15cb9-2864-4bd8-856e-a428ded4db27",
   "metadata": {},
   "source": [
    "## Balanced test dataset"
   ]
  },
  {
   "cell_type": "code",
   "execution_count": null,
   "id": "099d2113-c24e-4eb1-a582-d4821554dc52",
   "metadata": {
    "tags": []
   },
   "outputs": [],
   "source": [
    "y_prob = model.predict({\"text\": padded_inputs_test_blncd, \"numeric\": X_test_blncd}).flatten()"
   ]
  },
  {
   "cell_type": "code",
   "execution_count": null,
   "id": "37aff72a-f8d6-4c47-9d26-14655e888199",
   "metadata": {
    "scrolled": true,
    "tags": []
   },
   "outputs": [
    {
     "data": {
      "text/plain": [
       "array([0.01078972, 0.27676272, 0.0079442 , 0.00422135, 0.19873801,\n",
       "       0.47824034, 0.98204845, 0.9947437 , 0.12814817, 0.7385497 ,\n",
       "       0.99805945, 0.00250235, 0.28870416, 0.13447112, 0.06306157,\n",
       "       0.9097198 , 0.9953847 , 0.16867527, 0.0234082 , 0.67785656,\n",
       "       0.9785538 , 0.9907174 , 0.92692316, 0.05904761, 0.9901923 ,\n",
       "       0.99603367, 0.9909092 , 0.99446034, 0.99285173, 0.00994277,\n",
       "       0.77001035, 0.01269001, 0.04495814, 0.01220763, 0.11908013,\n",
       "       0.99454653, 0.00719666, 0.9964234 , 0.98906064, 0.9771699 ,\n",
       "       0.9636163 , 0.00671461, 0.00903821, 0.12200242, 0.9956965 ,\n",
       "       0.9975113 , 0.08193943, 0.9963157 , 0.11192775, 0.9975698 ,\n",
       "       0.12425435, 0.00544062, 0.00938964, 0.9170703 , 0.99086034,\n",
       "       0.05572587, 0.99398386, 0.20094398, 0.2358214 , 0.17222312,\n",
       "       0.01512191, 0.00354049, 0.9906459 , 0.8697895 , 0.00817505,\n",
       "       0.24250886, 0.9784833 , 0.0218024 , 0.62269026, 0.11023569,\n",
       "       0.9905789 , 0.0712474 , 0.9909375 , 0.99340665, 0.08452258,\n",
       "       0.99697924, 0.99706435, 0.98180103, 0.99508536, 0.6280181 ,\n",
       "       0.00567204, 0.9960784 , 0.00968841, 0.11184824, 0.01454037,\n",
       "       0.9982265 , 0.14489168, 0.99738586, 0.99732125, 0.9440603 ,\n",
       "       0.8008752 , 0.97563136, 0.00900972, 0.9968319 , 0.10617071,\n",
       "       0.02375951, 0.86123395, 0.10055941, 0.9964072 , 0.9946435 ,\n",
       "       0.9174833 , 0.9714213 , 0.00779644, 0.9624939 , 0.21011645,\n",
       "       0.00235617, 0.98525506, 0.01977721, 0.00330022, 0.9951302 ,\n",
       "       0.97865015, 0.06047106, 0.92237127, 0.30755097, 0.2636869 ,\n",
       "       0.58262086, 0.9951978 , 0.01215136, 0.01221511, 0.99324644,\n",
       "       0.00290179, 0.13973105, 0.9959501 , 0.8242695 , 0.0178979 ,\n",
       "       0.01189259, 0.07226166, 0.9888299 , 0.99604726, 0.9610337 ,\n",
       "       0.9846508 , 0.99184275, 0.9949573 , 0.20053247, 0.9166018 ,\n",
       "       0.9941892 , 0.00949863, 0.99761057, 0.994178  , 0.05928305,\n",
       "       0.01376295, 0.99716675, 0.92636156, 0.00239995, 0.99300075,\n",
       "       0.11192837, 0.9405331 , 0.48041168, 0.99576366, 0.00741324,\n",
       "       0.00436836, 0.00922373, 0.02035502, 0.9679848 , 0.00257346,\n",
       "       0.994563  , 0.00300488, 0.9959132 , 0.01314169, 0.00489944,\n",
       "       0.01182941, 0.13385412, 0.7680222 , 0.01838526, 0.00246999,\n",
       "       0.9841453 , 0.01929289, 0.06503689, 0.00556517, 0.00759158,\n",
       "       0.95411825, 0.51632357, 0.61476934, 0.01039979, 0.01401892,\n",
       "       0.01106054, 0.1637587 , 0.01082453, 0.00848803, 0.99693596,\n",
       "       0.16185796, 0.4044158 , 0.08181423, 0.9820404 , 0.9689376 ,\n",
       "       0.99429953, 0.99036384, 0.00798056, 0.02898178, 0.00197104,\n",
       "       0.02759454, 0.01179001, 0.9960227 , 0.22607508, 0.01106808,\n",
       "       0.9961013 , 0.9413696 , 0.116815  , 0.8952751 , 0.01058528,\n",
       "       0.9888872 , 0.50966054, 0.9948584 , 0.9944787 , 0.98503983,\n",
       "       0.00586349, 0.21909955, 0.99360603, 0.97638136, 0.9869957 ,\n",
       "       0.10954961, 0.00970033, 0.9931202 , 0.10313788, 0.8901367 ,\n",
       "       0.9110421 , 0.04237142, 0.01018518, 0.9959824 , 0.731786  ,\n",
       "       0.99505633, 0.15309983, 0.31185094, 0.15433276, 0.98827976,\n",
       "       0.0341436 , 0.07270756, 0.03628135, 0.9957893 , 0.85665154,\n",
       "       0.71341896, 0.9936201 , 0.9945651 , 0.93967974, 0.9959227 ,\n",
       "       0.9966054 , 0.00552434, 0.11504972, 0.95472133, 0.00983942,\n",
       "       0.10150072, 0.39084184, 0.9917388 , 0.9948232 , 0.9933163 ,\n",
       "       0.06593281, 0.39063314, 0.1730926 , 0.00678515, 0.01944655,\n",
       "       0.99299014, 0.98692447, 0.004673  , 0.99719775, 0.27737087,\n",
       "       0.96100473, 0.9875981 , 0.23060206, 0.9945714 , 0.99479896,\n",
       "       0.9883239 , 0.01467109, 0.99705863, 0.9907375 , 0.06859624,\n",
       "       0.00616837, 0.01559114, 0.99607146, 0.12413523, 0.00869784,\n",
       "       0.04164496, 0.98774457, 0.9961188 , 0.9495311 , 0.99563414,\n",
       "       0.08750871, 0.00728485, 0.20409995, 0.9980111 , 0.01267481,\n",
       "       0.0104273 , 0.03512493, 0.8621685 , 0.99743116, 0.9949553 ,\n",
       "       0.36680776, 0.91804576, 0.9254483 , 0.09555024, 0.9959078 ,\n",
       "       0.01002437, 0.73610926, 0.9980345 , 0.00875321, 0.00375122,\n",
       "       0.0063796 , 0.91285217, 0.00342157, 0.00304672, 0.7132612 ,\n",
       "       0.00571752, 0.9142296 , 0.99414754, 0.00908014, 0.29353487,\n",
       "       0.9877243 , 0.9960023 , 0.996395  , 0.09341085, 0.9909984 ,\n",
       "       0.00769946, 0.9971818 , 0.9966949 , 0.0239369 , 0.00610688,\n",
       "       0.99503875, 0.00745311, 0.01499301, 0.9946973 , 0.9274267 ,\n",
       "       0.8353807 , 0.23915464, 0.99357396, 0.99676   , 0.03889129,\n",
       "       0.01066765, 0.97907573, 0.00714558, 0.98176014, 0.03252605,\n",
       "       0.06542119, 0.98858   , 0.10429722, 0.99709415, 0.07498491,\n",
       "       0.00736508, 0.16636083, 0.9918591 , 0.9959768 , 0.00653929,\n",
       "       0.08769318, 0.19659758, 0.01020458, 0.0124383 , 0.99139583,\n",
       "       0.99762815, 0.00825417, 0.09620047, 0.93794686, 0.9556877 ,\n",
       "       0.9946891 , 0.00424072], dtype=float32)"
      ]
     },
     "execution_count": 51,
     "metadata": {},
     "output_type": "execute_result"
    }
   ],
   "source": [
    "y_prob"
   ]
  },
  {
   "cell_type": "code",
   "execution_count": null,
   "id": "eb81f08a-ca10-44c1-81c2-1137b3650327",
   "metadata": {
    "tags": []
   },
   "outputs": [
    {
     "data": {
      "text/plain": [
       "352"
      ]
     },
     "execution_count": 52,
     "metadata": {},
     "output_type": "execute_result"
    }
   ],
   "source": [
    "len(y_prob)"
   ]
  },
  {
   "cell_type": "code",
   "execution_count": null,
   "id": "5c93f88c-c1a3-4b89-a65e-b9b08bd6d4a5",
   "metadata": {},
   "outputs": [],
   "source": []
  },
  {
   "cell_type": "code",
   "execution_count": 67,
   "id": "5e542b5d-b0fe-465d-a83b-928b4587f6c2",
   "metadata": {
    "tags": []
   },
   "outputs": [],
   "source": [
    "y_prob = model.predict({\"text\": padded_inputs_test_blncd, \"numeric\": X_test_blncd}).flatten()"
   ]
  },
  {
   "cell_type": "code",
   "execution_count": 68,
   "id": "194d4ca7-388a-4273-820b-870c01a96be8",
   "metadata": {
    "scrolled": true,
    "tags": []
   },
   "outputs": [
    {
     "data": {
      "text/plain": [
       "array([0.01078972, 0.27676272, 0.0079442 , 0.00422135, 0.19873801,\n",
       "       0.47824034, 0.98204845, 0.9947437 , 0.12814817, 0.7385497 ,\n",
       "       0.99805945, 0.00250235, 0.28870416, 0.13447112, 0.06306157,\n",
       "       0.9097198 , 0.9953847 , 0.16867527, 0.0234082 , 0.67785656,\n",
       "       0.9785538 , 0.9907174 , 0.92692316, 0.05904761, 0.9901923 ,\n",
       "       0.99603367, 0.9909092 , 0.99446034, 0.99285173, 0.00994277,\n",
       "       0.77001035, 0.01269001, 0.04495814, 0.01220763, 0.11908013,\n",
       "       0.99454653, 0.00719666, 0.9964234 , 0.98906064, 0.9771699 ,\n",
       "       0.9636163 , 0.00671461, 0.00903821, 0.12200242, 0.9956965 ,\n",
       "       0.9975113 , 0.08193943, 0.9963157 , 0.11192775, 0.9975698 ,\n",
       "       0.12425435, 0.00544062, 0.00938964, 0.9170703 , 0.99086034,\n",
       "       0.05572587, 0.99398386, 0.20094398, 0.2358214 , 0.17222312,\n",
       "       0.01512191, 0.00354049, 0.9906459 , 0.8697895 , 0.00817505,\n",
       "       0.24250886, 0.9784833 , 0.0218024 , 0.62269026, 0.11023569,\n",
       "       0.9905789 , 0.0712474 , 0.9909375 , 0.99340665, 0.08452258,\n",
       "       0.99697924, 0.99706435, 0.98180103, 0.99508536, 0.6280181 ,\n",
       "       0.00567204, 0.9960784 , 0.00968841, 0.11184824, 0.01454037,\n",
       "       0.9982265 , 0.14489168, 0.99738586, 0.99732125, 0.9440603 ,\n",
       "       0.8008752 , 0.97563136, 0.00900972, 0.9968319 , 0.10617071,\n",
       "       0.02375951, 0.86123395, 0.10055941, 0.9964072 , 0.9946435 ,\n",
       "       0.9174833 , 0.9714213 , 0.00779644, 0.9624939 , 0.21011645,\n",
       "       0.00235617, 0.98525506, 0.01977721, 0.00330022, 0.9951302 ,\n",
       "       0.97865015, 0.06047106, 0.92237127, 0.30755097, 0.2636869 ,\n",
       "       0.58262086, 0.9951978 , 0.01215136, 0.01221511, 0.99324644,\n",
       "       0.00290179, 0.13973105, 0.9959501 , 0.8242695 , 0.0178979 ,\n",
       "       0.01189259, 0.07226166, 0.9888299 , 0.99604726, 0.9610337 ,\n",
       "       0.9846508 , 0.99184275, 0.9949573 , 0.20053247, 0.9166018 ,\n",
       "       0.9941892 , 0.00949863, 0.99761057, 0.994178  , 0.05928305,\n",
       "       0.01376295, 0.99716675, 0.92636156, 0.00239995, 0.99300075,\n",
       "       0.11192837, 0.9405331 , 0.48041168, 0.99576366, 0.00741324,\n",
       "       0.00436836, 0.00922373, 0.02035502, 0.9679848 , 0.00257346,\n",
       "       0.994563  , 0.00300488, 0.9959132 , 0.01314169, 0.00489944,\n",
       "       0.01182941, 0.13385412, 0.7680222 , 0.01838526, 0.00246999,\n",
       "       0.9841453 , 0.01929289, 0.06503689, 0.00556517, 0.00759158,\n",
       "       0.95411825, 0.51632357, 0.61476934, 0.01039979, 0.01401892,\n",
       "       0.01106054, 0.1637587 , 0.01082453, 0.00848803, 0.99693596,\n",
       "       0.16185796, 0.4044158 , 0.08181423, 0.9820404 , 0.9689376 ,\n",
       "       0.99429953, 0.99036384, 0.00798056, 0.02898178, 0.00197104,\n",
       "       0.02759454, 0.01179001, 0.9960227 , 0.22607508, 0.01106808,\n",
       "       0.9961013 , 0.9413696 , 0.116815  , 0.8952751 , 0.01058528,\n",
       "       0.9888872 , 0.50966054, 0.9948584 , 0.9944787 , 0.98503983,\n",
       "       0.00586349, 0.21909955, 0.99360603, 0.97638136, 0.9869957 ,\n",
       "       0.10954961, 0.00970033, 0.9931202 , 0.10313788, 0.8901367 ,\n",
       "       0.9110421 , 0.04237142, 0.01018518, 0.9959824 , 0.731786  ,\n",
       "       0.99505633, 0.15309983, 0.31185094, 0.15433276, 0.98827976,\n",
       "       0.0341436 , 0.07270756, 0.03628135, 0.9957893 , 0.85665154,\n",
       "       0.71341896, 0.9936201 , 0.9945651 , 0.93967974, 0.9959227 ,\n",
       "       0.9966054 , 0.00552434, 0.11504972, 0.95472133, 0.00983942,\n",
       "       0.10150072, 0.39084184, 0.9917388 , 0.9948232 , 0.9933163 ,\n",
       "       0.06593281, 0.39063314, 0.1730926 , 0.00678515, 0.01944655,\n",
       "       0.99299014, 0.98692447, 0.004673  , 0.99719775, 0.27737087,\n",
       "       0.96100473, 0.9875981 , 0.23060206, 0.9945714 , 0.99479896,\n",
       "       0.9883239 , 0.01467109, 0.99705863, 0.9907375 , 0.06859624,\n",
       "       0.00616837, 0.01559114, 0.99607146, 0.12413523, 0.00869784,\n",
       "       0.04164496, 0.98774457, 0.9961188 , 0.9495311 , 0.99563414,\n",
       "       0.08750871, 0.00728485, 0.20409995, 0.9980111 , 0.01267481,\n",
       "       0.0104273 , 0.03512493, 0.8621685 , 0.99743116, 0.9949553 ,\n",
       "       0.36680776, 0.91804576, 0.9254483 , 0.09555024, 0.9959078 ,\n",
       "       0.01002437, 0.73610926, 0.9980345 , 0.00875321, 0.00375122,\n",
       "       0.0063796 , 0.91285217, 0.00342157, 0.00304672, 0.7132612 ,\n",
       "       0.00571752, 0.9142296 , 0.99414754, 0.00908014, 0.29353487,\n",
       "       0.9877243 , 0.9960023 , 0.996395  , 0.09341085, 0.9909984 ,\n",
       "       0.00769946, 0.9971818 , 0.9966949 , 0.0239369 , 0.00610688,\n",
       "       0.99503875, 0.00745311, 0.01499301, 0.9946973 , 0.9274267 ,\n",
       "       0.8353807 , 0.23915464, 0.99357396, 0.99676   , 0.03889129,\n",
       "       0.01066765, 0.97907573, 0.00714558, 0.98176014, 0.03252605,\n",
       "       0.06542119, 0.98858   , 0.10429722, 0.99709415, 0.07498491,\n",
       "       0.00736508, 0.16636083, 0.9918591 , 0.9959768 , 0.00653929,\n",
       "       0.08769318, 0.19659758, 0.01020458, 0.0124383 , 0.99139583,\n",
       "       0.99762815, 0.00825417, 0.09620047, 0.93794686, 0.9556877 ,\n",
       "       0.9946891 , 0.00424072], dtype=float32)"
      ]
     },
     "execution_count": 68,
     "metadata": {},
     "output_type": "execute_result"
    }
   ],
   "source": [
    "y_prob"
   ]
  },
  {
   "cell_type": "code",
   "execution_count": 69,
   "id": "e0140c1e-ebc6-4e22-a85d-58c85e9f8a94",
   "metadata": {
    "tags": []
   },
   "outputs": [
    {
     "data": {
      "text/plain": [
       "352"
      ]
     },
     "execution_count": 69,
     "metadata": {},
     "output_type": "execute_result"
    }
   ],
   "source": [
    "len(y_prob)"
   ]
  },
  {
   "cell_type": "markdown",
   "id": "c3ca6666-c35c-4caa-b13c-e23602e32bb6",
   "metadata": {
    "tags": []
   },
   "source": [
    "## Plot Precision Recall Curve"
   ]
  },
  {
   "cell_type": "code",
   "execution_count": 70,
   "id": "6963bee3-8144-4be8-af6c-90b816cb56eb",
   "metadata": {
    "tags": []
   },
   "outputs": [
    {
     "data": {
      "image/png": "[encoded data removed]",
      "text/plain": [
       "<Figure size 640x480 with 1 Axes>"
      ]
     },
     "metadata": {},
     "output_type": "display_data"
    }
   ],
   "source": [
    "pr_curve(y_test_blncd, y_prob)"
   ]
  },
  {
   "cell_type": "markdown",
   "id": "805c10c5-b730-4e3d-9ebe-9f95d40377eb",
   "metadata": {},
   "source": [
    "## Plot Score Distributions for True Positives and True Negatives in Test Set"
   ]
  },
  {
   "cell_type": "code",
   "execution_count": 71,
   "id": "9bbe1596-3728-40a9-ab96-9f80e149cfed",
   "metadata": {
    "tags": []
   },
   "outputs": [
    {
     "data": {
      "image/png": "[encoded data removed]",
      "text/plain": [
       "<Figure size 1200x1200 with 1 Axes>"
      ]
     },
     "metadata": {},
     "output_type": "display_data"
    }
   ],
   "source": [
    "plot_validation_groups(y_test_blncd, y_prob)"
   ]
  },
  {
   "cell_type": "markdown",
   "id": "941baee1-928c-417b-a2e1-939abf9611d8",
   "metadata": {},
   "source": [
    "## Compute Performance Metrics at Threshold Increments"
   ]
  },
  {
   "cell_type": "code",
   "execution_count": 72,
   "id": "de788b3f-058e-4038-af5b-0950b55e9a3c",
   "metadata": {
    "tags": []
   },
   "outputs": [
    {
     "data": {
      "text/html": [
       "<div>\n",
       "<style scoped>\n",
       "    .dataframe tbody tr th:only-of-type {\n",
       "        vertical-align: middle;\n",
       "    }\n",
       "\n",
       "    .dataframe tbody tr th {\n",
       "        vertical-align: top;\n",
       "    }\n",
       "\n",
       "    .dataframe thead th {\n",
       "        text-align: right;\n",
       "    }\n",
       "</style>\n",
       "<table border=\"1\" class=\"dataframe\">\n",
       "  <thead>\n",
       "    <tr style=\"text-align: right;\">\n",
       "      <th></th>\n",
       "      <th>Threshold</th>\n",
       "      <th>Sensitivity</th>\n",
       "      <th>Specificity</th>\n",
       "      <th>Precision</th>\n",
       "      <th>Recall</th>\n",
       "      <th>Accuracy</th>\n",
       "      <th>True Negative Rate</th>\n",
       "      <th>False Positive Rate</th>\n",
       "      <th>False Negative Rate</th>\n",
       "      <th>True Positive Rate</th>\n",
       "      <th>F1 Score</th>\n",
       "      <th>Brier Loss</th>\n",
       "    </tr>\n",
       "  </thead>\n",
       "  <tbody>\n",
       "    <tr>\n",
       "      <th>0</th>\n",
       "      <td>0.05</td>\n",
       "      <td>0.9943</td>\n",
       "      <td>0.5852</td>\n",
       "      <td>0.7056</td>\n",
       "      <td>0.9904</td>\n",
       "      <td>0.7898</td>\n",
       "      <td>29.26%</td>\n",
       "      <td>20.74%</td>\n",
       "      <td>0.28%</td>\n",
       "      <td>49.72%</td>\n",
       "      <td>0.4127</td>\n",
       "      <td>0.2102</td>\n",
       "    </tr>\n",
       "    <tr>\n",
       "      <th>1</th>\n",
       "      <td>0.10</td>\n",
       "      <td>0.9886</td>\n",
       "      <td>0.6989</td>\n",
       "      <td>0.7665</td>\n",
       "      <td>0.9840</td>\n",
       "      <td>0.8438</td>\n",
       "      <td>34.94%</td>\n",
       "      <td>15.06%</td>\n",
       "      <td>0.57%</td>\n",
       "      <td>49.43%</td>\n",
       "      <td>0.4317</td>\n",
       "      <td>0.1562</td>\n",
       "    </tr>\n",
       "    <tr>\n",
       "      <th>2</th>\n",
       "      <td>0.15</td>\n",
       "      <td>0.9375</td>\n",
       "      <td>0.7670</td>\n",
       "      <td>0.8010</td>\n",
       "      <td>0.9247</td>\n",
       "      <td>0.8523</td>\n",
       "      <td>38.35%</td>\n",
       "      <td>11.65%</td>\n",
       "      <td>3.12%</td>\n",
       "      <td>46.88%</td>\n",
       "      <td>0.4319</td>\n",
       "      <td>0.1477</td>\n",
       "    </tr>\n",
       "    <tr>\n",
       "      <th>3</th>\n",
       "      <td>0.20</td>\n",
       "      <td>0.9318</td>\n",
       "      <td>0.8182</td>\n",
       "      <td>0.8367</td>\n",
       "      <td>0.9231</td>\n",
       "      <td>0.8750</td>\n",
       "      <td>40.91%</td>\n",
       "      <td>9.09%</td>\n",
       "      <td>3.41%</td>\n",
       "      <td>46.59%</td>\n",
       "      <td>0.4408</td>\n",
       "      <td>0.1250</td>\n",
       "    </tr>\n",
       "    <tr>\n",
       "      <th>4</th>\n",
       "      <td>0.25</td>\n",
       "      <td>0.9318</td>\n",
       "      <td>0.8750</td>\n",
       "      <td>0.8817</td>\n",
       "      <td>0.9277</td>\n",
       "      <td>0.9034</td>\n",
       "      <td>43.75%</td>\n",
       "      <td>6.25%</td>\n",
       "      <td>3.41%</td>\n",
       "      <td>46.59%</td>\n",
       "      <td>0.4530</td>\n",
       "      <td>0.0966</td>\n",
       "    </tr>\n",
       "    <tr>\n",
       "      <th>5</th>\n",
       "      <td>0.30</td>\n",
       "      <td>0.9261</td>\n",
       "      <td>0.8977</td>\n",
       "      <td>0.9006</td>\n",
       "      <td>0.9240</td>\n",
       "      <td>0.9119</td>\n",
       "      <td>44.89%</td>\n",
       "      <td>5.11%</td>\n",
       "      <td>3.69%</td>\n",
       "      <td>46.31%</td>\n",
       "      <td>0.4566</td>\n",
       "      <td>0.0881</td>\n",
       "    </tr>\n",
       "    <tr>\n",
       "      <th>6</th>\n",
       "      <td>0.35</td>\n",
       "      <td>0.9205</td>\n",
       "      <td>0.9034</td>\n",
       "      <td>0.9050</td>\n",
       "      <td>0.9191</td>\n",
       "      <td>0.9119</td>\n",
       "      <td>45.17%</td>\n",
       "      <td>4.83%</td>\n",
       "      <td>3.98%</td>\n",
       "      <td>46.02%</td>\n",
       "      <td>0.4563</td>\n",
       "      <td>0.0881</td>\n",
       "    </tr>\n",
       "    <tr>\n",
       "      <th>7</th>\n",
       "      <td>0.40</td>\n",
       "      <td>0.9205</td>\n",
       "      <td>0.9205</td>\n",
       "      <td>0.9205</td>\n",
       "      <td>0.9205</td>\n",
       "      <td>0.9205</td>\n",
       "      <td>46.02%</td>\n",
       "      <td>3.98%</td>\n",
       "      <td>3.98%</td>\n",
       "      <td>46.02%</td>\n",
       "      <td>0.4602</td>\n",
       "      <td>0.0795</td>\n",
       "    </tr>\n",
       "    <tr>\n",
       "      <th>8</th>\n",
       "      <td>0.45</td>\n",
       "      <td>0.9148</td>\n",
       "      <td>0.9205</td>\n",
       "      <td>0.9200</td>\n",
       "      <td>0.9153</td>\n",
       "      <td>0.9176</td>\n",
       "      <td>46.02%</td>\n",
       "      <td>3.98%</td>\n",
       "      <td>4.26%</td>\n",
       "      <td>45.74%</td>\n",
       "      <td>0.4587</td>\n",
       "      <td>0.0824</td>\n",
       "    </tr>\n",
       "    <tr>\n",
       "      <th>9</th>\n",
       "      <td>0.50</td>\n",
       "      <td>0.9091</td>\n",
       "      <td>0.9261</td>\n",
       "      <td>0.9249</td>\n",
       "      <td>0.9106</td>\n",
       "      <td>0.9176</td>\n",
       "      <td>46.31%</td>\n",
       "      <td>3.69%</td>\n",
       "      <td>4.55%</td>\n",
       "      <td>45.45%</td>\n",
       "      <td>0.4585</td>\n",
       "      <td>0.0824</td>\n",
       "    </tr>\n",
       "    <tr>\n",
       "      <th>10</th>\n",
       "      <td>0.55</td>\n",
       "      <td>0.9091</td>\n",
       "      <td>0.9375</td>\n",
       "      <td>0.9357</td>\n",
       "      <td>0.9116</td>\n",
       "      <td>0.9233</td>\n",
       "      <td>46.88%</td>\n",
       "      <td>3.12%</td>\n",
       "      <td>4.55%</td>\n",
       "      <td>45.45%</td>\n",
       "      <td>0.4611</td>\n",
       "      <td>0.0767</td>\n",
       "    </tr>\n",
       "    <tr>\n",
       "      <th>11</th>\n",
       "      <td>0.60</td>\n",
       "      <td>0.9034</td>\n",
       "      <td>0.9375</td>\n",
       "      <td>0.9353</td>\n",
       "      <td>0.9066</td>\n",
       "      <td>0.9205</td>\n",
       "      <td>46.88%</td>\n",
       "      <td>3.12%</td>\n",
       "      <td>4.83%</td>\n",
       "      <td>45.17%</td>\n",
       "      <td>0.4595</td>\n",
       "      <td>0.0795</td>\n",
       "    </tr>\n",
       "    <tr>\n",
       "      <th>12</th>\n",
       "      <td>0.65</td>\n",
       "      <td>0.8920</td>\n",
       "      <td>0.9432</td>\n",
       "      <td>0.9401</td>\n",
       "      <td>0.8973</td>\n",
       "      <td>0.9176</td>\n",
       "      <td>47.16%</td>\n",
       "      <td>2.84%</td>\n",
       "      <td>5.4%</td>\n",
       "      <td>44.6%</td>\n",
       "      <td>0.4577</td>\n",
       "      <td>0.0824</td>\n",
       "    </tr>\n",
       "    <tr>\n",
       "      <th>13</th>\n",
       "      <td>0.70</td>\n",
       "      <td>0.8920</td>\n",
       "      <td>0.9489</td>\n",
       "      <td>0.9458</td>\n",
       "      <td>0.8978</td>\n",
       "      <td>0.9205</td>\n",
       "      <td>47.44%</td>\n",
       "      <td>2.56%</td>\n",
       "      <td>5.4%</td>\n",
       "      <td>44.6%</td>\n",
       "      <td>0.4591</td>\n",
       "      <td>0.0795</td>\n",
       "    </tr>\n",
       "    <tr>\n",
       "      <th>14</th>\n",
       "      <td>0.75</td>\n",
       "      <td>0.8750</td>\n",
       "      <td>0.9602</td>\n",
       "      <td>0.9565</td>\n",
       "      <td>0.8848</td>\n",
       "      <td>0.9176</td>\n",
       "      <td>48.01%</td>\n",
       "      <td>1.99%</td>\n",
       "      <td>6.25%</td>\n",
       "      <td>43.75%</td>\n",
       "      <td>0.4570</td>\n",
       "      <td>0.0824</td>\n",
       "    </tr>\n",
       "    <tr>\n",
       "      <th>15</th>\n",
       "      <td>0.80</td>\n",
       "      <td>0.8750</td>\n",
       "      <td>0.9716</td>\n",
       "      <td>0.9686</td>\n",
       "      <td>0.8860</td>\n",
       "      <td>0.9233</td>\n",
       "      <td>48.58%</td>\n",
       "      <td>1.42%</td>\n",
       "      <td>6.25%</td>\n",
       "      <td>43.75%</td>\n",
       "      <td>0.4597</td>\n",
       "      <td>0.0767</td>\n",
       "    </tr>\n",
       "    <tr>\n",
       "      <th>16</th>\n",
       "      <td>0.85</td>\n",
       "      <td>0.8580</td>\n",
       "      <td>0.9716</td>\n",
       "      <td>0.9679</td>\n",
       "      <td>0.8724</td>\n",
       "      <td>0.9148</td>\n",
       "      <td>48.58%</td>\n",
       "      <td>1.42%</td>\n",
       "      <td>7.1%</td>\n",
       "      <td>42.9%</td>\n",
       "      <td>0.4548</td>\n",
       "      <td>0.0852</td>\n",
       "    </tr>\n",
       "    <tr>\n",
       "      <th>17</th>\n",
       "      <td>0.90</td>\n",
       "      <td>0.8239</td>\n",
       "      <td>0.9716</td>\n",
       "      <td>0.9667</td>\n",
       "      <td>0.8465</td>\n",
       "      <td>0.8977</td>\n",
       "      <td>48.58%</td>\n",
       "      <td>1.42%</td>\n",
       "      <td>8.81%</td>\n",
       "      <td>41.19%</td>\n",
       "      <td>0.4448</td>\n",
       "      <td>0.1023</td>\n",
       "    </tr>\n",
       "    <tr>\n",
       "      <th>18</th>\n",
       "      <td>0.95</td>\n",
       "      <td>0.7386</td>\n",
       "      <td>0.9943</td>\n",
       "      <td>0.9924</td>\n",
       "      <td>0.7919</td>\n",
       "      <td>0.8665</td>\n",
       "      <td>49.72%</td>\n",
       "      <td>0.28%</td>\n",
       "      <td>13.07%</td>\n",
       "      <td>36.93%</td>\n",
       "      <td>0.4234</td>\n",
       "      <td>0.1335</td>\n",
       "    </tr>\n",
       "  </tbody>\n",
       "</table>\n",
       "</div>"
      ],
      "text/plain": [
       "    Threshold  Sensitivity  Specificity  Precision  Recall  Accuracy  \\\n",
       "0        0.05       0.9943       0.5852     0.7056  0.9904    0.7898   \n",
       "1        0.10       0.9886       0.6989     0.7665  0.9840    0.8438   \n",
       "2        0.15       0.9375       0.7670     0.8010  0.9247    0.8523   \n",
       "3        0.20       0.9318       0.8182     0.8367  0.9231    0.8750   \n",
       "4        0.25       0.9318       0.8750     0.8817  0.9277    0.9034   \n",
       "5        0.30       0.9261       0.8977     0.9006  0.9240    0.9119   \n",
       "6        0.35       0.9205       0.9034     0.9050  0.9191    0.9119   \n",
       "7        0.40       0.9205       0.9205     0.9205  0.9205    0.9205   \n",
       "8        0.45       0.9148       0.9205     0.9200  0.9153    0.9176   \n",
       "9        0.50       0.9091       0.9261     0.9249  0.9106    0.9176   \n",
       "10       0.55       0.9091       0.9375     0.9357  0.9116    0.9233   \n",
       "11       0.60       0.9034       0.9375     0.9353  0.9066    0.9205   \n",
       "12       0.65       0.8920       0.9432     0.9401  0.8973    0.9176   \n",
       "13       0.70       0.8920       0.9489     0.9458  0.8978    0.9205   \n",
       "14       0.75       0.8750       0.9602     0.9565  0.8848    0.9176   \n",
       "15       0.80       0.8750       0.9716     0.9686  0.8860    0.9233   \n",
       "16       0.85       0.8580       0.9716     0.9679  0.8724    0.9148   \n",
       "17       0.90       0.8239       0.9716     0.9667  0.8465    0.8977   \n",
       "18       0.95       0.7386       0.9943     0.9924  0.7919    0.8665   \n",
       "\n",
       "   True Negative Rate False Positive Rate False Negative Rate  \\\n",
       "0              29.26%              20.74%               0.28%   \n",
       "1              34.94%              15.06%               0.57%   \n",
       "2              38.35%              11.65%               3.12%   \n",
       "3              40.91%               9.09%               3.41%   \n",
       "4              43.75%               6.25%               3.41%   \n",
       "5              44.89%               5.11%               3.69%   \n",
       "6              45.17%               4.83%               3.98%   \n",
       "7              46.02%               3.98%               3.98%   \n",
       "8              46.02%               3.98%               4.26%   \n",
       "9              46.31%               3.69%               4.55%   \n",
       "10             46.88%               3.12%               4.55%   \n",
       "11             46.88%               3.12%               4.83%   \n",
       "12             47.16%               2.84%                5.4%   \n",
       "13             47.44%               2.56%                5.4%   \n",
       "14             48.01%               1.99%               6.25%   \n",
       "15             48.58%               1.42%               6.25%   \n",
       "16             48.58%               1.42%                7.1%   \n",
       "17             48.58%               1.42%               8.81%   \n",
       "18             49.72%               0.28%              13.07%   \n",
       "\n",
       "   True Positive Rate  F1 Score  Brier Loss  \n",
       "0              49.72%    0.4127      0.2102  \n",
       "1              49.43%    0.4317      0.1562  \n",
       "2              46.88%    0.4319      0.1477  \n",
       "3              46.59%    0.4408      0.1250  \n",
       "4              46.59%    0.4530      0.0966  \n",
       "5              46.31%    0.4566      0.0881  \n",
       "6              46.02%    0.4563      0.0881  \n",
       "7              46.02%    0.4602      0.0795  \n",
       "8              45.74%    0.4587      0.0824  \n",
       "9              45.45%    0.4585      0.0824  \n",
       "10             45.45%    0.4611      0.0767  \n",
       "11             45.17%    0.4595      0.0795  \n",
       "12              44.6%    0.4577      0.0824  \n",
       "13              44.6%    0.4591      0.0795  \n",
       "14             43.75%    0.4570      0.0824  \n",
       "15             43.75%    0.4597      0.0767  \n",
       "16              42.9%    0.4548      0.0852  \n",
       "17             41.19%    0.4448      0.1023  \n",
       "18             36.93%    0.4234      0.1335  "
      ]
     },
     "execution_count": 72,
     "metadata": {},
     "output_type": "execute_result"
    }
   ],
   "source": [
    "comp_threshold(y_test_blncd, y_prob)"
   ]
  },
  {
   "cell_type": "markdown",
   "id": "da90e876-c204-4e62-ab68-d82a82f1fa95",
   "metadata": {
    "tags": []
   },
   "source": [
    "## Print Confustion Matrix and Performance Summary at 0.5 Threshold"
   ]
  },
  {
   "cell_type": "code",
   "execution_count": 73,
   "id": "670717dd-e25b-4dfa-82bc-59dee63013ca",
   "metadata": {
    "tags": []
   },
   "outputs": [
    {
     "name": "stdout",
     "output_type": "stream",
     "text": [
      "\n",
      "CONFUSION MATRIX AT 0.5 THRESHOLD:\n",
      "\n",
      "[[163  13]\n",
      " [ 16 160]]\n",
      "\n",
      "PERFORMANCE AT 0.5 THRESHOLD:\n",
      "\n",
      "   Recall/Sensitivity: 0.90909\n",
      "   Specificity: 0.92614\n",
      "   Precision/Positive Predictive Value: 0.92486\n",
      "   Negative Predictive Value: 0.91061\n",
      "   plot_accuracy: 0.91761\n",
      "\n"
     ]
    }
   ],
   "source": [
    "print_performance(y_test_blncd, y_prob)"
   ]
  },
  {
   "cell_type": "code",
   "execution_count": null,
   "id": "70d78611-4cde-44f5-9f35-84bd9136998c",
   "metadata": {},
   "outputs": [],
   "source": []
  }
 ],
 "metadata": {
  "kernelspec": {
   "display_name": "Python 3 (ipykernel)",
   "language": "python",
   "name": "python3"
  },
  "language_info": {
   "codemirror_mode": {
    "name": "ipython",
    "version": 3
   },
   "file_extension": ".py",
   "mimetype": "text/x-python",
   "name": "python",
   "nbconvert_exporter": "python",
   "pygments_lexer": "ipython3",
   "version": "3.8.16"
  }
 },
 "nbformat": 4,
 "nbformat_minor": 5
}
