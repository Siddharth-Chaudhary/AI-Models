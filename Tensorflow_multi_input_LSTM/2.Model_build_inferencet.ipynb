{
 "cells": [
  {
   "cell_type": "markdown",
   "id": "82956531-4ed1-43d0-b06a-a98a833c9d75",
   "metadata": {},
   "source": [
    "# Build Text-Numeric-Categorical Hybrid Functional Model Using Word 2 Vec, Tensorflow, Keras APIs"
   ]
  },
  {
   "cell_type": "code",
   "execution_count": 1,
   "id": "aa0a8bb1-e36d-4394-b1bc-330d94b43f99",
   "metadata": {
    "tags": []
   },
   "outputs": [
    {
     "name": "stderr",
     "output_type": "stream",
     "text": [
      "[nltk_data] Downloading package stopwords to\n",
      "[nltk_data]     /Users/siddharthchaudhary/nltk_data...\n",
      "[nltk_data]   Package stopwords is already up-to-date!\n",
      "[nltk_data] Downloading package wordnet to\n",
      "[nltk_data]     /Users/siddharthchaudhary/nltk_data...\n",
      "[nltk_data]   Package wordnet is already up-to-date!\n"
     ]
    }
   ],
   "source": [
    "import pandas as pd\n",
    "import numpy as np\n",
    "import matplotlib.pyplot as plt\n",
    "import matplotlib\n",
    "#import pydot_ng as pydot\n",
    "#import graphviz\n",
    "import seaborn as sns\n",
    "%matplotlib inline\n",
    "import pickle\n",
    "import tensorflow as tf\n",
    "from sklearn.model_selection import train_test_split\n",
    "from sklearn.metrics import (auc, average_precision_score, brier_score_loss, confusion_matrix, fbeta_score,\n",
    "                             precision_recall_curve, roc_curve)\n",
    " \n",
    "from gensim.models import Word2Vec\n",
    " \n",
    "#from tensorflow.keras.models import Sequential\n",
    "from tensorflow.keras.layers import Embedding, Flatten, Dense, Dropout\n",
    "from tensorflow.keras.preprocessing.sequence import pad_sequences\n",
    "from tensorflow.keras.preprocessing.text import Tokenizer\n",
    "from tensorflow.keras.optimizers import Adam\n",
    "from tensorflow.keras.metrics import AUC\n",
    "#from plot_model import plot_model\n",
    "import nltk\n",
    "nltk.download('stopwords')\n",
    "from nltk.corpus import stopwords\n",
    "nltk.download('wordnet')\n",
    "from nltk.stem import WordNetLemmatizer"
   ]
  },
  {
   "cell_type": "markdown",
   "id": "59da1891-43de-4a89-842c-71ab729e7bfd",
   "metadata": {
    "tags": []
   },
   "source": [
    "## Define PR Curve Function for Model Comparison"
   ]
  },
  {
   "cell_type": "code",
   "execution_count": 2,
   "id": "4522fbcc-affd-4e60-9154-3220989521b7",
   "metadata": {
    "tags": []
   },
   "outputs": [],
   "source": [
    "def pr_curve(y_true, y_prob):\n",
    " \n",
    "    lines = precision_recall_curve(probas_pred=y_prob, y_true=y_true)\n",
    "    pr_auc = round(average_precision_score(y_true=y_true, y_score=y_prob), 3)\n",
    " \n",
    "    plt.plot(lines[1], lines[0], label='Precision-Recall Curve (Area = {})'.format(pr_auc))\n",
    " \n",
    "    plt.title('Precision-Recall Curve:' , y=1.05)\n",
    "    plt.xlabel('Recall: P(predicted+|true+)')\n",
    "    plt.ylabel('Precision: P(true+|predicted+)')\n",
    "    plt.ylim([0.0, 1.05])\n",
    "    plt.xlim([0.0, 1.0])\n",
    "    plt.legend(loc=\"lower left\")\n",
    "    plt.tick_params(\n",
    "            axis='both',\n",
    "            which='both',\n",
    "            labelright=False,\n",
    "            top=False,\n",
    "            right=False)\n",
    "    plt.tight_layout()\n",
    "    plt.show()"
   ]
  },
  {
   "cell_type": "markdown",
   "id": "92a51443-a6fd-404f-be7f-ef0e9ff9da32",
   "metadata": {},
   "source": [
    "## Define Function to Plot Positive and Negative Score Distributions"
   ]
  },
  {
   "cell_type": "code",
   "execution_count": 3,
   "id": "30bc8edd-8953-4e17-9108-ed5f8524556f",
   "metadata": {
    "tags": []
   },
   "outputs": [],
   "source": [
    "def plot_validation_groups(y_true, y_prob, positive_alpha=0.9, negative_alpha=0.5, bins=40, x_size=12, y_size=12):\n",
    " \n",
    "    cols = ['ACTUAL', 'PROB_POSITIVE']\n",
    "    data = [y_true, y_prob]\n",
    "    df = pd.DataFrame(dict(zip(cols, data)))\n",
    " \n",
    "    positive_group = df[df.ACTUAL == 1]\n",
    "    negative_group = df[df.ACTUAL == 0]\n",
    "    \n",
    "    plt.figure(figsize=(x_size, y_size))\n",
    "    plt.hist(negative_group.PROB_POSITIVE, alpha=negative_alpha, label='Negative Class', bins=bins, color='orange')\n",
    "    plt.hist(positive_group.PROB_POSITIVE, alpha=positive_alpha, label='Positive Class', bins=bins, color='b')\n",
    "    plt.legend(loc='upper right')\n",
    "    plt.title(f\"Test Set Score Distribution \\n ({round((positive_group.shape[0]/df.shape[0])*100, 2)}% Prevalence)\")\n",
    "    plt.xlabel(\"Risk Score\")\n",
    "    plt.ylabel(\"Frequency\")\n",
    " \n",
    "    plt.show()"
   ]
  },
  {
   "cell_type": "markdown",
   "id": "5453bdf1-bc3d-4768-a7e4-40096ea0771b",
   "metadata": {},
   "source": [
    "## Define Function to Plot Performance at Various Thresholds"
   ]
  },
  {
   "cell_type": "code",
   "execution_count": 4,
   "id": "abf78538-2b1d-462b-9893-f557b1b5e87c",
   "metadata": {
    "tags": []
   },
   "outputs": [],
   "source": [
    "def comp_threshold(y_true, y_prob):\n",
    "        \n",
    "    cols = ['Threshold', 'Sensitivity', 'Specificity', 'Precision', 'Recall', 'Accuracy', 'True Negative Rate',\n",
    "                'False Positive Rate', 'False Negative Rate', 'True Positive Rate', 'F1 Score', 'Brier Loss']\n",
    "        \n",
    "    results = []\n",
    "    prediction_probabilities_clf = y_prob\n",
    " \n",
    "    for i in range(5, 100, 5):\n",
    " \n",
    "        threshold = float(i) / 100\n",
    "        prediction_clf = [1 if el > threshold else 0 for el in prediction_probabilities_clf] \n",
    "        cm = confusion_matrix(y_true, prediction_clf)\n",
    "        brier_loss = round(brier_score_loss(y_true, prediction_clf), 4)\n",
    " \n",
    "        true_negatives = float(cm[0][0])\n",
    "        false_positives = float(cm[0][1])\n",
    "        false_negatives = float(cm[1][0])\n",
    "        true_positives = float(cm[1][1])\n",
    " \n",
    "        sensitivity = round((true_positives / (true_positives + false_negatives)),\n",
    "                                4) if (true_positives + false_negatives) > 0 else 999\n",
    "        specificity = round((true_negatives / (false_positives + true_negatives)),\n",
    "                                4) if (false_positives + true_negatives) > 0 else 999\n",
    "        positive_predictive_value = round((true_positives / (true_positives + false_positives)),\n",
    "                                              4) if (true_positives + false_positives) > 0 else 999\n",
    "        negative_predictive_value = round((true_negatives / (false_negatives + true_negatives)),\n",
    "                                              4) if (false_negatives + true_negatives) > 0 else 999\n",
    "        accuracy = round((true_positives + true_negatives) / (\n",
    "                    true_positives + true_negatives + false_positives + false_negatives),\n",
    "                             4) if (true_positives + true_negatives + false_positives + false_negatives) > 0 else 999\n",
    "        f1_score = round(((sensitivity * positive_predictive_value) / (sensitivity + positive_predictive_value)),\n",
    "                             4) if (sensitivity + positive_predictive_value) > 0 else 999\n",
    " \n",
    "        def get_percent(measure):\n",
    "            total = float(len(y_true))\n",
    "            m = int(measure)\n",
    "            prop = round(((m / total) * 100), 2)\n",
    "            return str(prop) + '%'\n",
    " \n",
    "        true_negative_percent = get_percent(true_negatives)\n",
    "        false_positive_percent = get_percent(false_positives)\n",
    "        false_negative_percent = get_percent(false_negatives)\n",
    "        true_positive_percent = get_percent(true_positives)\n",
    " \n",
    "        results.append([threshold, sensitivity, specificity, positive_predictive_value, negative_predictive_value,\n",
    "                        accuracy, true_negative_percent, false_positive_percent, false_negative_percent,\n",
    "                        true_positive_percent, f1_score, brier_loss])\n",
    "        \n",
    "    results_df = pd.DataFrame(results, columns=cols)\n",
    "    \n",
    "    return results_df"
   ]
  },
  {
   "cell_type": "markdown",
   "id": "2b21771a-762f-4a25-8ab7-ca2666827679",
   "metadata": {},
   "source": [
    "## Define Function to Print Confusion Matrix"
   ]
  },
  {
   "cell_type": "code",
   "execution_count": 5,
   "id": "4d4afa18-36dc-4080-9b12-ee6a955a9fb8",
   "metadata": {
    "tags": []
   },
   "outputs": [],
   "source": [
    "def print_performance(y_true, y_prob, threshold=0.5):\n",
    "    \n",
    "    cm = confusion_matrix(y_true, [1 if el > threshold else 0 for el in y_prob])\n",
    " \n",
    "    true_negatives = float(cm[0][0])\n",
    "    false_positives = float(cm[0][1])\n",
    "    false_negatives = float(cm[1][0])\n",
    "    true_positives = float(cm[1][1])\n",
    "    try:\n",
    "        sensitivity = true_positives / (true_positives + false_negatives)\n",
    "        specificity = true_negatives / (false_positives + true_negatives)\n",
    "        positive_predictive_value = true_positives / (true_positives + false_positives)\n",
    "        negative_predictive_value = true_negatives / (false_negatives + true_negatives)\n",
    "        accuracy = (true_positives + true_negatives) / (\n",
    "                   true_positives + true_negatives + false_positives + false_negatives)\n",
    "    except:\n",
    "        print(cm)\n",
    "        return\n",
    "    \n",
    "    print('')\n",
    "    print('CONFUSION MATRIX AT {} THRESHOLD:'.format(threshold))\n",
    "    print('')\n",
    "    print(cm)\n",
    "    print('')\n",
    "    print('PERFORMANCE AT {} THRESHOLD:'.format(threshold))\n",
    "    print('')\n",
    "    print(\"   Recall/Sensitivity: {}\".format(round(sensitivity, 5)))\n",
    "    print(\"   Specificity: {}\".format(round(specificity, 5)))\n",
    "    print(\"   Precision/Positive Predictive Value: {}\".format(round(positive_predictive_value, 5)))\n",
    "    print(\"   Negative Predictive Value: {}\".format(round(negative_predictive_value, 5)))\n",
    "    print(\"   plot_accuracy: {}\".format(round(accuracy, 5)))\n",
    "    print('')"
   ]
  },
  {
   "cell_type": "markdown",
   "id": "b600855b-d904-45f6-a124-13ea2113ad0f",
   "metadata": {},
   "source": []
  },
  {
   "cell_type": "markdown",
   "id": "46db0e81-a455-438a-9cd7-25ad90530dfe",
   "metadata": {
    "tags": []
   },
   "source": [
    "## PARAMETERS"
   ]
  },
  {
   "cell_type": "code",
   "execution_count": 6,
   "id": "2b3a949c-1257-44f2-8bb6-a1fcba0f05d4",
   "metadata": {
    "tags": []
   },
   "outputs": [],
   "source": [
    "# Saving Tokenizer to this location\n",
    "base_path = '/Users/siddharthchaudhary/Documents/git_repos/AI-Models/Numeric_text_classifier/'\n",
    "tokenized_path = base_path + 'tokenizer.pickle'\n",
    "model_result = base_path + 'model_result/model.keras'\n",
    "\n",
    "# Numeric dataset total features\n",
    "num_features = 32 #Number of Columns/Features in Numeric dataset\n",
    "\n",
    "# Embedding Params\n",
    "EMBEDDING_DIM = 40\n",
    "NUM_DISTINCT_WORDS = 1000 # the maximum number of words to keep, based on word frequency. Only the most common num_words-1 words will be kept\n",
    "MAX_SEQ_LEN = 70\n",
    "OOV_TOKEN = '<OOV>'\n",
    "PAD_TOKEN = '<PAD>'\n",
    "PAD_TOKEN_IDX = 0\n",
    "\n",
    "# Define VERBOSE\n",
    "VERBOSE = 1\n"
   ]
  },
  {
   "cell_type": "markdown",
   "id": "762cb7e5-63bf-493e-8562-4062de1416cc",
   "metadata": {
    "tags": []
   },
   "source": [
    "## Load datasets"
   ]
  },
  {
   "cell_type": "code",
   "execution_count": 7,
   "id": "17b3887c-6e19-459d-a584-f07ec0f63666",
   "metadata": {
    "tags": []
   },
   "outputs": [],
   "source": [
    "train_data = pd.read_csv(base_path + 'train_data.csv')\n",
    "train_df = pd.read_csv(base_path + 'train.csv')\n",
    "val_df = pd.read_csv(base_path + 'val.csv')\n",
    "test_df = pd.read_csv(base_path + 'test.csv')\n",
    "test_blncd_df = pd.read_csv(base_path + 'test_blncd_df.csv')"
   ]
  },
  {
   "cell_type": "code",
   "execution_count": 8,
   "id": "0244b5a4-ec0c-49ee-bced-250033e75587",
   "metadata": {
    "scrolled": true,
    "tags": []
   },
   "outputs": [
    {
     "data": {
      "text/html": [
       "<div>\n",
       "<style scoped>\n",
       "    .dataframe tbody tr th:only-of-type {\n",
       "        vertical-align: middle;\n",
       "    }\n",
       "\n",
       "    .dataframe tbody tr th {\n",
       "        vertical-align: top;\n",
       "    }\n",
       "\n",
       "    .dataframe thead th {\n",
       "        text-align: right;\n",
       "    }\n",
       "</style>\n",
       "<table border=\"1\" class=\"dataframe\">\n",
       "  <thead>\n",
       "    <tr style=\"text-align: right;\">\n",
       "      <th></th>\n",
       "      <th>Age</th>\n",
       "      <th>Rating</th>\n",
       "      <th>labels</th>\n",
       "      <th>Positive Feedback Count</th>\n",
       "      <th>text</th>\n",
       "      <th>Division Name_General</th>\n",
       "      <th>Division Name_General Petite</th>\n",
       "      <th>Division Name_Initmates</th>\n",
       "      <th>Department Name_Bottoms</th>\n",
       "      <th>Department Name_Dresses</th>\n",
       "      <th>...</th>\n",
       "      <th>Class Name_Legwear</th>\n",
       "      <th>Class Name_Lounge</th>\n",
       "      <th>Class Name_Outerwear</th>\n",
       "      <th>Class Name_Pants</th>\n",
       "      <th>Class Name_Shorts</th>\n",
       "      <th>Class Name_Skirts</th>\n",
       "      <th>Class Name_Sleep</th>\n",
       "      <th>Class Name_Sweaters</th>\n",
       "      <th>Class Name_Swim</th>\n",
       "      <th>Class Name_Trend</th>\n",
       "    </tr>\n",
       "  </thead>\n",
       "  <tbody>\n",
       "    <tr>\n",
       "      <th>0</th>\n",
       "      <td>47</td>\n",
       "      <td>5</td>\n",
       "      <td>1</td>\n",
       "      <td>0</td>\n",
       "      <td>Comfy shirt- This shirt is so pretty and casua...</td>\n",
       "      <td>True</td>\n",
       "      <td>False</td>\n",
       "      <td>False</td>\n",
       "      <td>False</td>\n",
       "      <td>False</td>\n",
       "      <td>...</td>\n",
       "      <td>False</td>\n",
       "      <td>False</td>\n",
       "      <td>False</td>\n",
       "      <td>False</td>\n",
       "      <td>False</td>\n",
       "      <td>False</td>\n",
       "      <td>False</td>\n",
       "      <td>False</td>\n",
       "      <td>False</td>\n",
       "      <td>False</td>\n",
       "    </tr>\n",
       "    <tr>\n",
       "      <th>1</th>\n",
       "      <td>46</td>\n",
       "      <td>2</td>\n",
       "      <td>0</td>\n",
       "      <td>0</td>\n",
       "      <td>Doesn't breath- The stone color was nice, but ...</td>\n",
       "      <td>True</td>\n",
       "      <td>False</td>\n",
       "      <td>False</td>\n",
       "      <td>False</td>\n",
       "      <td>False</td>\n",
       "      <td>...</td>\n",
       "      <td>False</td>\n",
       "      <td>False</td>\n",
       "      <td>False</td>\n",
       "      <td>False</td>\n",
       "      <td>False</td>\n",
       "      <td>False</td>\n",
       "      <td>False</td>\n",
       "      <td>False</td>\n",
       "      <td>False</td>\n",
       "      <td>False</td>\n",
       "    </tr>\n",
       "    <tr>\n",
       "      <th>2</th>\n",
       "      <td>23</td>\n",
       "      <td>2</td>\n",
       "      <td>0</td>\n",
       "      <td>15</td>\n",
       "      <td>Not flattering- I love the idea of this top, b...</td>\n",
       "      <td>True</td>\n",
       "      <td>False</td>\n",
       "      <td>False</td>\n",
       "      <td>False</td>\n",
       "      <td>False</td>\n",
       "      <td>...</td>\n",
       "      <td>False</td>\n",
       "      <td>False</td>\n",
       "      <td>False</td>\n",
       "      <td>False</td>\n",
       "      <td>False</td>\n",
       "      <td>False</td>\n",
       "      <td>False</td>\n",
       "      <td>False</td>\n",
       "      <td>False</td>\n",
       "      <td>False</td>\n",
       "    </tr>\n",
       "    <tr>\n",
       "      <th>3</th>\n",
       "      <td>29</td>\n",
       "      <td>2</td>\n",
       "      <td>0</td>\n",
       "      <td>26</td>\n",
       "      <td>Not made right- This has such awful proportion...</td>\n",
       "      <td>True</td>\n",
       "      <td>False</td>\n",
       "      <td>False</td>\n",
       "      <td>False</td>\n",
       "      <td>False</td>\n",
       "      <td>...</td>\n",
       "      <td>False</td>\n",
       "      <td>False</td>\n",
       "      <td>False</td>\n",
       "      <td>False</td>\n",
       "      <td>False</td>\n",
       "      <td>False</td>\n",
       "      <td>False</td>\n",
       "      <td>False</td>\n",
       "      <td>False</td>\n",
       "      <td>False</td>\n",
       "    </tr>\n",
       "    <tr>\n",
       "      <th>4</th>\n",
       "      <td>54</td>\n",
       "      <td>3</td>\n",
       "      <td>0</td>\n",
       "      <td>0</td>\n",
       "      <td>Boxy- I ordered this sweater in black and thou...</td>\n",
       "      <td>True</td>\n",
       "      <td>False</td>\n",
       "      <td>False</td>\n",
       "      <td>False</td>\n",
       "      <td>False</td>\n",
       "      <td>...</td>\n",
       "      <td>False</td>\n",
       "      <td>False</td>\n",
       "      <td>False</td>\n",
       "      <td>False</td>\n",
       "      <td>False</td>\n",
       "      <td>False</td>\n",
       "      <td>False</td>\n",
       "      <td>False</td>\n",
       "      <td>False</td>\n",
       "      <td>False</td>\n",
       "    </tr>\n",
       "  </tbody>\n",
       "</table>\n",
       "<p>5 rows × 34 columns</p>\n",
       "</div>"
      ],
      "text/plain": [
       "   Age  Rating  labels  Positive Feedback Count  \\\n",
       "0   47       5       1                        0   \n",
       "1   46       2       0                        0   \n",
       "2   23       2       0                       15   \n",
       "3   29       2       0                       26   \n",
       "4   54       3       0                        0   \n",
       "\n",
       "                                                text  Division Name_General  \\\n",
       "0  Comfy shirt- This shirt is so pretty and casua...                   True   \n",
       "1  Doesn't breath- The stone color was nice, but ...                   True   \n",
       "2  Not flattering- I love the idea of this top, b...                   True   \n",
       "3  Not made right- This has such awful proportion...                   True   \n",
       "4  Boxy- I ordered this sweater in black and thou...                   True   \n",
       "\n",
       "   Division Name_General Petite  Division Name_Initmates  \\\n",
       "0                         False                    False   \n",
       "1                         False                    False   \n",
       "2                         False                    False   \n",
       "3                         False                    False   \n",
       "4                         False                    False   \n",
       "\n",
       "   Department Name_Bottoms  Department Name_Dresses  ...  Class Name_Legwear  \\\n",
       "0                    False                    False  ...               False   \n",
       "1                    False                    False  ...               False   \n",
       "2                    False                    False  ...               False   \n",
       "3                    False                    False  ...               False   \n",
       "4                    False                    False  ...               False   \n",
       "\n",
       "   Class Name_Lounge  Class Name_Outerwear  Class Name_Pants  \\\n",
       "0              False                 False             False   \n",
       "1              False                 False             False   \n",
       "2              False                 False             False   \n",
       "3              False                 False             False   \n",
       "4              False                 False             False   \n",
       "\n",
       "   Class Name_Shorts  Class Name_Skirts  Class Name_Sleep  \\\n",
       "0              False              False             False   \n",
       "1              False              False             False   \n",
       "2              False              False             False   \n",
       "3              False              False             False   \n",
       "4              False              False             False   \n",
       "\n",
       "   Class Name_Sweaters  Class Name_Swim  Class Name_Trend  \n",
       "0                False            False             False  \n",
       "1                False            False             False  \n",
       "2                False            False             False  \n",
       "3                False            False             False  \n",
       "4                False            False             False  \n",
       "\n",
       "[5 rows x 34 columns]"
      ]
     },
     "execution_count": 8,
     "metadata": {},
     "output_type": "execute_result"
    }
   ],
   "source": [
    "train_df.head()"
   ]
  },
  {
   "cell_type": "markdown",
   "id": "9bd1bd5b-37c8-412b-8504-00e4d3684517",
   "metadata": {},
   "source": [
    "## Preprocess for non_text and creating labels for both"
   ]
  },
  {
   "cell_type": "code",
   "execution_count": 9,
   "id": "da55417a-8a12-458d-9a59-94eab1ffe617",
   "metadata": {
    "tags": []
   },
   "outputs": [],
   "source": [
    "X_train = train_df.drop(['text', 'labels'], axis=1)\n",
    "X_val = val_df.drop(['text', 'labels'], axis=1)\n",
    "X_test = test_df.drop(['text', 'labels'], axis=1)\n",
    "X_test_blncd = test_blncd_df.drop(['text', 'labels'], axis=1)\n",
    "\n",
    "y_train = train_df['labels'].values\n",
    "y_val = val_df['labels'].values\n",
    "y_test = test_df['labels'].values\n",
    "y_test_blncd = test_blncd_df['labels'].values"
   ]
  },
  {
   "cell_type": "code",
   "execution_count": 10,
   "id": "8e5bd3bc-438c-437f-befb-7ea1488b075c",
   "metadata": {},
   "outputs": [
    {
     "name": "stdout",
     "output_type": "stream",
     "text": [
      "int64\n"
     ]
    }
   ],
   "source": [
    "print(y_val.dtype)"
   ]
  },
  {
   "cell_type": "code",
   "execution_count": 11,
   "id": "1280169c-e3df-43b5-a553-7e95bf56a003",
   "metadata": {
    "tags": []
   },
   "outputs": [
    {
     "data": {
      "text/html": [
       "<div>\n",
       "<style scoped>\n",
       "    .dataframe tbody tr th:only-of-type {\n",
       "        vertical-align: middle;\n",
       "    }\n",
       "\n",
       "    .dataframe tbody tr th {\n",
       "        vertical-align: top;\n",
       "    }\n",
       "\n",
       "    .dataframe thead th {\n",
       "        text-align: right;\n",
       "    }\n",
       "</style>\n",
       "<table border=\"1\" class=\"dataframe\">\n",
       "  <thead>\n",
       "    <tr style=\"text-align: right;\">\n",
       "      <th></th>\n",
       "      <th>Age</th>\n",
       "      <th>Rating</th>\n",
       "      <th>Positive Feedback Count</th>\n",
       "      <th>Division Name_General</th>\n",
       "      <th>Division Name_General Petite</th>\n",
       "      <th>Division Name_Initmates</th>\n",
       "      <th>Department Name_Bottoms</th>\n",
       "      <th>Department Name_Dresses</th>\n",
       "      <th>Department Name_Intimate</th>\n",
       "      <th>Department Name_Jackets</th>\n",
       "      <th>...</th>\n",
       "      <th>Class Name_Legwear</th>\n",
       "      <th>Class Name_Lounge</th>\n",
       "      <th>Class Name_Outerwear</th>\n",
       "      <th>Class Name_Pants</th>\n",
       "      <th>Class Name_Shorts</th>\n",
       "      <th>Class Name_Skirts</th>\n",
       "      <th>Class Name_Sleep</th>\n",
       "      <th>Class Name_Sweaters</th>\n",
       "      <th>Class Name_Swim</th>\n",
       "      <th>Class Name_Trend</th>\n",
       "    </tr>\n",
       "  </thead>\n",
       "  <tbody>\n",
       "    <tr>\n",
       "      <th>0</th>\n",
       "      <td>47</td>\n",
       "      <td>5</td>\n",
       "      <td>0</td>\n",
       "      <td>True</td>\n",
       "      <td>False</td>\n",
       "      <td>False</td>\n",
       "      <td>False</td>\n",
       "      <td>False</td>\n",
       "      <td>False</td>\n",
       "      <td>False</td>\n",
       "      <td>...</td>\n",
       "      <td>False</td>\n",
       "      <td>False</td>\n",
       "      <td>False</td>\n",
       "      <td>False</td>\n",
       "      <td>False</td>\n",
       "      <td>False</td>\n",
       "      <td>False</td>\n",
       "      <td>False</td>\n",
       "      <td>False</td>\n",
       "      <td>False</td>\n",
       "    </tr>\n",
       "    <tr>\n",
       "      <th>1</th>\n",
       "      <td>46</td>\n",
       "      <td>2</td>\n",
       "      <td>0</td>\n",
       "      <td>True</td>\n",
       "      <td>False</td>\n",
       "      <td>False</td>\n",
       "      <td>False</td>\n",
       "      <td>False</td>\n",
       "      <td>False</td>\n",
       "      <td>False</td>\n",
       "      <td>...</td>\n",
       "      <td>False</td>\n",
       "      <td>False</td>\n",
       "      <td>False</td>\n",
       "      <td>False</td>\n",
       "      <td>False</td>\n",
       "      <td>False</td>\n",
       "      <td>False</td>\n",
       "      <td>False</td>\n",
       "      <td>False</td>\n",
       "      <td>False</td>\n",
       "    </tr>\n",
       "    <tr>\n",
       "      <th>2</th>\n",
       "      <td>23</td>\n",
       "      <td>2</td>\n",
       "      <td>15</td>\n",
       "      <td>True</td>\n",
       "      <td>False</td>\n",
       "      <td>False</td>\n",
       "      <td>False</td>\n",
       "      <td>False</td>\n",
       "      <td>False</td>\n",
       "      <td>False</td>\n",
       "      <td>...</td>\n",
       "      <td>False</td>\n",
       "      <td>False</td>\n",
       "      <td>False</td>\n",
       "      <td>False</td>\n",
       "      <td>False</td>\n",
       "      <td>False</td>\n",
       "      <td>False</td>\n",
       "      <td>False</td>\n",
       "      <td>False</td>\n",
       "      <td>False</td>\n",
       "    </tr>\n",
       "    <tr>\n",
       "      <th>3</th>\n",
       "      <td>29</td>\n",
       "      <td>2</td>\n",
       "      <td>26</td>\n",
       "      <td>True</td>\n",
       "      <td>False</td>\n",
       "      <td>False</td>\n",
       "      <td>False</td>\n",
       "      <td>False</td>\n",
       "      <td>False</td>\n",
       "      <td>False</td>\n",
       "      <td>...</td>\n",
       "      <td>False</td>\n",
       "      <td>False</td>\n",
       "      <td>False</td>\n",
       "      <td>False</td>\n",
       "      <td>False</td>\n",
       "      <td>False</td>\n",
       "      <td>False</td>\n",
       "      <td>False</td>\n",
       "      <td>False</td>\n",
       "      <td>False</td>\n",
       "    </tr>\n",
       "    <tr>\n",
       "      <th>4</th>\n",
       "      <td>54</td>\n",
       "      <td>3</td>\n",
       "      <td>0</td>\n",
       "      <td>True</td>\n",
       "      <td>False</td>\n",
       "      <td>False</td>\n",
       "      <td>False</td>\n",
       "      <td>False</td>\n",
       "      <td>False</td>\n",
       "      <td>False</td>\n",
       "      <td>...</td>\n",
       "      <td>False</td>\n",
       "      <td>False</td>\n",
       "      <td>False</td>\n",
       "      <td>False</td>\n",
       "      <td>False</td>\n",
       "      <td>False</td>\n",
       "      <td>False</td>\n",
       "      <td>False</td>\n",
       "      <td>False</td>\n",
       "      <td>False</td>\n",
       "    </tr>\n",
       "  </tbody>\n",
       "</table>\n",
       "<p>5 rows × 32 columns</p>\n",
       "</div>"
      ],
      "text/plain": [
       "   Age  Rating  Positive Feedback Count  Division Name_General  \\\n",
       "0   47       5                        0                   True   \n",
       "1   46       2                        0                   True   \n",
       "2   23       2                       15                   True   \n",
       "3   29       2                       26                   True   \n",
       "4   54       3                        0                   True   \n",
       "\n",
       "   Division Name_General Petite  Division Name_Initmates  \\\n",
       "0                         False                    False   \n",
       "1                         False                    False   \n",
       "2                         False                    False   \n",
       "3                         False                    False   \n",
       "4                         False                    False   \n",
       "\n",
       "   Department Name_Bottoms  Department Name_Dresses  Department Name_Intimate  \\\n",
       "0                    False                    False                     False   \n",
       "1                    False                    False                     False   \n",
       "2                    False                    False                     False   \n",
       "3                    False                    False                     False   \n",
       "4                    False                    False                     False   \n",
       "\n",
       "   Department Name_Jackets  ...  Class Name_Legwear  Class Name_Lounge  \\\n",
       "0                    False  ...               False              False   \n",
       "1                    False  ...               False              False   \n",
       "2                    False  ...               False              False   \n",
       "3                    False  ...               False              False   \n",
       "4                    False  ...               False              False   \n",
       "\n",
       "   Class Name_Outerwear  Class Name_Pants  Class Name_Shorts  \\\n",
       "0                 False             False              False   \n",
       "1                 False             False              False   \n",
       "2                 False             False              False   \n",
       "3                 False             False              False   \n",
       "4                 False             False              False   \n",
       "\n",
       "   Class Name_Skirts  Class Name_Sleep  Class Name_Sweaters  Class Name_Swim  \\\n",
       "0              False             False                False            False   \n",
       "1              False             False                False            False   \n",
       "2              False             False                False            False   \n",
       "3              False             False                False            False   \n",
       "4              False             False                False            False   \n",
       "\n",
       "   Class Name_Trend  \n",
       "0             False  \n",
       "1             False  \n",
       "2             False  \n",
       "3             False  \n",
       "4             False  \n",
       "\n",
       "[5 rows x 32 columns]"
      ]
     },
     "execution_count": 11,
     "metadata": {},
     "output_type": "execute_result"
    }
   ],
   "source": [
    "X_train.head()"
   ]
  },
  {
   "cell_type": "code",
   "execution_count": 12,
   "id": "aa0e3b06-67ce-4b8d-8942-d51394141d2b",
   "metadata": {
    "tags": []
   },
   "outputs": [],
   "source": [
    "# Feature Scaling\n",
    "from sklearn.preprocessing import StandardScaler\n",
    "sc = StandardScaler()\n",
    "X_train = sc.fit_transform(X_train)\n",
    "X_val = sc.transform(X_val)\n",
    "X_test = sc.transform(X_test)\n",
    "X_test_blncd = sc.transform(X_test_blncd)"
   ]
  },
  {
   "cell_type": "code",
   "execution_count": 13,
   "id": "52ff0e8a-68b8-4527-96fb-ee760ff65623",
   "metadata": {
    "tags": []
   },
   "outputs": [
    {
     "name": "stdout",
     "output_type": "stream",
     "text": [
      "(6022, 32)\n",
      "(1966, 32)\n",
      "(984, 32)\n",
      "(352, 32)\n"
     ]
    }
   ],
   "source": [
    "print(X_train.shape)\n",
    "print(X_val.shape)\n",
    "print(X_test.shape)\n",
    "print(X_test_blncd.shape)"
   ]
  },
  {
   "cell_type": "markdown",
   "id": "b8755cad-6fba-4529-a842-e38d1818afed",
   "metadata": {
    "tags": []
   },
   "source": [
    "## Preprocessing text data"
   ]
  },
  {
   "cell_type": "markdown",
   "id": "67781dee-f2c3-4304-978c-dd7fad3fecb6",
   "metadata": {},
   "source": [
    "### Lowercase text data"
   ]
  },
  {
   "cell_type": "code",
   "execution_count": 14,
   "id": "68700ae9-e954-4b3c-a3f1-09e4df92960d",
   "metadata": {
    "scrolled": true,
    "tags": []
   },
   "outputs": [
    {
     "data": {
      "text/html": [
       "<div>\n",
       "<style scoped>\n",
       "    .dataframe tbody tr th:only-of-type {\n",
       "        vertical-align: middle;\n",
       "    }\n",
       "\n",
       "    .dataframe tbody tr th {\n",
       "        vertical-align: top;\n",
       "    }\n",
       "\n",
       "    .dataframe thead th {\n",
       "        text-align: right;\n",
       "    }\n",
       "</style>\n",
       "<table border=\"1\" class=\"dataframe\">\n",
       "  <thead>\n",
       "    <tr style=\"text-align: right;\">\n",
       "      <th></th>\n",
       "      <th>Age</th>\n",
       "      <th>Rating</th>\n",
       "      <th>labels</th>\n",
       "      <th>Positive Feedback Count</th>\n",
       "      <th>text</th>\n",
       "      <th>Division Name_General</th>\n",
       "      <th>Division Name_General Petite</th>\n",
       "      <th>Division Name_Initmates</th>\n",
       "      <th>Department Name_Bottoms</th>\n",
       "      <th>Department Name_Dresses</th>\n",
       "      <th>...</th>\n",
       "      <th>Class Name_Legwear</th>\n",
       "      <th>Class Name_Lounge</th>\n",
       "      <th>Class Name_Outerwear</th>\n",
       "      <th>Class Name_Pants</th>\n",
       "      <th>Class Name_Shorts</th>\n",
       "      <th>Class Name_Skirts</th>\n",
       "      <th>Class Name_Sleep</th>\n",
       "      <th>Class Name_Sweaters</th>\n",
       "      <th>Class Name_Swim</th>\n",
       "      <th>Class Name_Trend</th>\n",
       "    </tr>\n",
       "  </thead>\n",
       "  <tbody>\n",
       "    <tr>\n",
       "      <th>0</th>\n",
       "      <td>47</td>\n",
       "      <td>5</td>\n",
       "      <td>1</td>\n",
       "      <td>0</td>\n",
       "      <td>comfy shirt- this shirt is so pretty and casua...</td>\n",
       "      <td>True</td>\n",
       "      <td>False</td>\n",
       "      <td>False</td>\n",
       "      <td>False</td>\n",
       "      <td>False</td>\n",
       "      <td>...</td>\n",
       "      <td>False</td>\n",
       "      <td>False</td>\n",
       "      <td>False</td>\n",
       "      <td>False</td>\n",
       "      <td>False</td>\n",
       "      <td>False</td>\n",
       "      <td>False</td>\n",
       "      <td>False</td>\n",
       "      <td>False</td>\n",
       "      <td>False</td>\n",
       "    </tr>\n",
       "    <tr>\n",
       "      <th>1</th>\n",
       "      <td>46</td>\n",
       "      <td>2</td>\n",
       "      <td>0</td>\n",
       "      <td>0</td>\n",
       "      <td>doesn't breath- the stone color was nice, but ...</td>\n",
       "      <td>True</td>\n",
       "      <td>False</td>\n",
       "      <td>False</td>\n",
       "      <td>False</td>\n",
       "      <td>False</td>\n",
       "      <td>...</td>\n",
       "      <td>False</td>\n",
       "      <td>False</td>\n",
       "      <td>False</td>\n",
       "      <td>False</td>\n",
       "      <td>False</td>\n",
       "      <td>False</td>\n",
       "      <td>False</td>\n",
       "      <td>False</td>\n",
       "      <td>False</td>\n",
       "      <td>False</td>\n",
       "    </tr>\n",
       "    <tr>\n",
       "      <th>2</th>\n",
       "      <td>23</td>\n",
       "      <td>2</td>\n",
       "      <td>0</td>\n",
       "      <td>15</td>\n",
       "      <td>not flattering- i love the idea of this top, b...</td>\n",
       "      <td>True</td>\n",
       "      <td>False</td>\n",
       "      <td>False</td>\n",
       "      <td>False</td>\n",
       "      <td>False</td>\n",
       "      <td>...</td>\n",
       "      <td>False</td>\n",
       "      <td>False</td>\n",
       "      <td>False</td>\n",
       "      <td>False</td>\n",
       "      <td>False</td>\n",
       "      <td>False</td>\n",
       "      <td>False</td>\n",
       "      <td>False</td>\n",
       "      <td>False</td>\n",
       "      <td>False</td>\n",
       "    </tr>\n",
       "    <tr>\n",
       "      <th>3</th>\n",
       "      <td>29</td>\n",
       "      <td>2</td>\n",
       "      <td>0</td>\n",
       "      <td>26</td>\n",
       "      <td>not made right- this has such awful proportion...</td>\n",
       "      <td>True</td>\n",
       "      <td>False</td>\n",
       "      <td>False</td>\n",
       "      <td>False</td>\n",
       "      <td>False</td>\n",
       "      <td>...</td>\n",
       "      <td>False</td>\n",
       "      <td>False</td>\n",
       "      <td>False</td>\n",
       "      <td>False</td>\n",
       "      <td>False</td>\n",
       "      <td>False</td>\n",
       "      <td>False</td>\n",
       "      <td>False</td>\n",
       "      <td>False</td>\n",
       "      <td>False</td>\n",
       "    </tr>\n",
       "    <tr>\n",
       "      <th>4</th>\n",
       "      <td>54</td>\n",
       "      <td>3</td>\n",
       "      <td>0</td>\n",
       "      <td>0</td>\n",
       "      <td>boxy- i ordered this sweater in black and thou...</td>\n",
       "      <td>True</td>\n",
       "      <td>False</td>\n",
       "      <td>False</td>\n",
       "      <td>False</td>\n",
       "      <td>False</td>\n",
       "      <td>...</td>\n",
       "      <td>False</td>\n",
       "      <td>False</td>\n",
       "      <td>False</td>\n",
       "      <td>False</td>\n",
       "      <td>False</td>\n",
       "      <td>False</td>\n",
       "      <td>False</td>\n",
       "      <td>False</td>\n",
       "      <td>False</td>\n",
       "      <td>False</td>\n",
       "    </tr>\n",
       "  </tbody>\n",
       "</table>\n",
       "<p>5 rows × 34 columns</p>\n",
       "</div>"
      ],
      "text/plain": [
       "   Age  Rating  labels  Positive Feedback Count  \\\n",
       "0   47       5       1                        0   \n",
       "1   46       2       0                        0   \n",
       "2   23       2       0                       15   \n",
       "3   29       2       0                       26   \n",
       "4   54       3       0                        0   \n",
       "\n",
       "                                                text  Division Name_General  \\\n",
       "0  comfy shirt- this shirt is so pretty and casua...                   True   \n",
       "1  doesn't breath- the stone color was nice, but ...                   True   \n",
       "2  not flattering- i love the idea of this top, b...                   True   \n",
       "3  not made right- this has such awful proportion...                   True   \n",
       "4  boxy- i ordered this sweater in black and thou...                   True   \n",
       "\n",
       "   Division Name_General Petite  Division Name_Initmates  \\\n",
       "0                         False                    False   \n",
       "1                         False                    False   \n",
       "2                         False                    False   \n",
       "3                         False                    False   \n",
       "4                         False                    False   \n",
       "\n",
       "   Department Name_Bottoms  Department Name_Dresses  ...  Class Name_Legwear  \\\n",
       "0                    False                    False  ...               False   \n",
       "1                    False                    False  ...               False   \n",
       "2                    False                    False  ...               False   \n",
       "3                    False                    False  ...               False   \n",
       "4                    False                    False  ...               False   \n",
       "\n",
       "   Class Name_Lounge  Class Name_Outerwear  Class Name_Pants  \\\n",
       "0              False                 False             False   \n",
       "1              False                 False             False   \n",
       "2              False                 False             False   \n",
       "3              False                 False             False   \n",
       "4              False                 False             False   \n",
       "\n",
       "   Class Name_Shorts  Class Name_Skirts  Class Name_Sleep  \\\n",
       "0              False              False             False   \n",
       "1              False              False             False   \n",
       "2              False              False             False   \n",
       "3              False              False             False   \n",
       "4              False              False             False   \n",
       "\n",
       "   Class Name_Sweaters  Class Name_Swim  Class Name_Trend  \n",
       "0                False            False             False  \n",
       "1                False            False             False  \n",
       "2                False            False             False  \n",
       "3                False            False             False  \n",
       "4                False            False             False  \n",
       "\n",
       "[5 rows x 34 columns]"
      ]
     },
     "execution_count": 14,
     "metadata": {},
     "output_type": "execute_result"
    }
   ],
   "source": [
    "train_data['text'] = train_data['text'].apply(lambda x: x.lower())\n",
    "train_df['text'] = train_df['text'].apply(lambda x: x.lower())\n",
    "val_df['text'] = val_df['text'].apply(lambda x: x.lower())\n",
    "test_df['text'] = test_df['text'].apply(lambda x: x.lower())\n",
    "test_blncd_df['text'] = test_blncd_df['text'].apply(lambda x: x.lower())\n",
    "train_df.head()"
   ]
  },
  {
   "cell_type": "markdown",
   "id": "9ceb55f9-fc54-4049-b41b-d3139d091e3b",
   "metadata": {
    "tags": []
   },
   "source": [
    "### Removing Stopwords Using NLTK"
   ]
  },
  {
   "cell_type": "code",
   "execution_count": 15,
   "id": "ba71f6e1-d190-4918-a140-e8c6be4aa616",
   "metadata": {
    "tags": []
   },
   "outputs": [],
   "source": [
    "stop_words = stopwords.words('english')\n",
    "train_data['text'] = train_data['text'].apply(lambda x: ' '.join([word for word in x.split() if word not in (stop_words)]))\n",
    "train_df['text'] = train_df['text'].apply(lambda x: ' '.join([word for word in x.split() if word not in (stop_words)]))\n",
    "val_df['text'] = val_df['text'].apply(lambda x: ' '.join([word for word in x.split() if word not in (stop_words)]))\n",
    "test_df['text'] = test_df['text'].apply(lambda x: ' '.join([word for word in x.split() if word not in (stop_words)]))\n",
    "test_blncd_df['text'] = test_blncd_df['text'].apply(lambda x: ' '.join([word for word in x.split() if word not in (stop_words)]))"
   ]
  },
  {
   "cell_type": "markdown",
   "id": "7794f7b6-b086-4e0f-be60-308a4ecfbdc6",
   "metadata": {},
   "source": [
    "### Lemmatise Text Using NLTK"
   ]
  },
  {
   "cell_type": "code",
   "execution_count": 16,
   "id": "1a0202c0-b3f4-4b00-9afd-d7dd3fc436af",
   "metadata": {
    "tags": []
   },
   "outputs": [],
   "source": [
    "lemmatizer = WordNetLemmatizer()\n",
    "def lemmatize_words(text):\n",
    "    words = text.split()\n",
    "    words = [lemmatizer.lemmatize(word,pos='v') for word in words]\n",
    "    return ' '.join(words)\n",
    "train_data['text'] = train_data['text'].apply(lemmatize_words)\n",
    "train_df['text'] = train_df['text'].apply(lemmatize_words)\n",
    "val_df['text'] = val_df['text'].apply(lemmatize_words)\n",
    "test_df['text'] = test_df['text'].apply(lemmatize_words)\n",
    "test_blncd_df['text'] = test_blncd_df['text'].apply(lemmatize_words)"
   ]
  },
  {
   "cell_type": "code",
   "execution_count": 17,
   "id": "ec168304-274b-4c20-bcdf-ad2af90e1b66",
   "metadata": {
    "scrolled": true,
    "tags": []
   },
   "outputs": [
    {
     "data": {
      "text/html": [
       "<div>\n",
       "<style scoped>\n",
       "    .dataframe tbody tr th:only-of-type {\n",
       "        vertical-align: middle;\n",
       "    }\n",
       "\n",
       "    .dataframe tbody tr th {\n",
       "        vertical-align: top;\n",
       "    }\n",
       "\n",
       "    .dataframe thead th {\n",
       "        text-align: right;\n",
       "    }\n",
       "</style>\n",
       "<table border=\"1\" class=\"dataframe\">\n",
       "  <thead>\n",
       "    <tr style=\"text-align: right;\">\n",
       "      <th></th>\n",
       "      <th>Age</th>\n",
       "      <th>Rating</th>\n",
       "      <th>labels</th>\n",
       "      <th>Positive Feedback Count</th>\n",
       "      <th>text</th>\n",
       "      <th>Division Name_General</th>\n",
       "      <th>Division Name_General Petite</th>\n",
       "      <th>Division Name_Initmates</th>\n",
       "      <th>Department Name_Bottoms</th>\n",
       "      <th>Department Name_Dresses</th>\n",
       "      <th>...</th>\n",
       "      <th>Class Name_Legwear</th>\n",
       "      <th>Class Name_Lounge</th>\n",
       "      <th>Class Name_Outerwear</th>\n",
       "      <th>Class Name_Pants</th>\n",
       "      <th>Class Name_Shorts</th>\n",
       "      <th>Class Name_Skirts</th>\n",
       "      <th>Class Name_Sleep</th>\n",
       "      <th>Class Name_Sweaters</th>\n",
       "      <th>Class Name_Swim</th>\n",
       "      <th>Class Name_Trend</th>\n",
       "    </tr>\n",
       "  </thead>\n",
       "  <tbody>\n",
       "    <tr>\n",
       "      <th>0</th>\n",
       "      <td>47</td>\n",
       "      <td>5</td>\n",
       "      <td>1</td>\n",
       "      <td>0</td>\n",
       "      <td>comfy shirt- shirt pretty casual however nice ...</td>\n",
       "      <td>True</td>\n",
       "      <td>False</td>\n",
       "      <td>False</td>\n",
       "      <td>False</td>\n",
       "      <td>False</td>\n",
       "      <td>...</td>\n",
       "      <td>False</td>\n",
       "      <td>False</td>\n",
       "      <td>False</td>\n",
       "      <td>False</td>\n",
       "      <td>False</td>\n",
       "      <td>False</td>\n",
       "      <td>False</td>\n",
       "      <td>False</td>\n",
       "      <td>False</td>\n",
       "      <td>False</td>\n",
       "    </tr>\n",
       "    <tr>\n",
       "      <th>1</th>\n",
       "      <td>46</td>\n",
       "      <td>2</td>\n",
       "      <td>0</td>\n",
       "      <td>0</td>\n",
       "      <td>breath- stone color nice, material heavy breat...</td>\n",
       "      <td>True</td>\n",
       "      <td>False</td>\n",
       "      <td>False</td>\n",
       "      <td>False</td>\n",
       "      <td>False</td>\n",
       "      <td>...</td>\n",
       "      <td>False</td>\n",
       "      <td>False</td>\n",
       "      <td>False</td>\n",
       "      <td>False</td>\n",
       "      <td>False</td>\n",
       "      <td>False</td>\n",
       "      <td>False</td>\n",
       "      <td>False</td>\n",
       "      <td>False</td>\n",
       "      <td>False</td>\n",
       "    </tr>\n",
       "    <tr>\n",
       "      <th>2</th>\n",
       "      <td>23</td>\n",
       "      <td>2</td>\n",
       "      <td>0</td>\n",
       "      <td>15</td>\n",
       "      <td>flattering- love idea top, wish much fabric. w...</td>\n",
       "      <td>True</td>\n",
       "      <td>False</td>\n",
       "      <td>False</td>\n",
       "      <td>False</td>\n",
       "      <td>False</td>\n",
       "      <td>...</td>\n",
       "      <td>False</td>\n",
       "      <td>False</td>\n",
       "      <td>False</td>\n",
       "      <td>False</td>\n",
       "      <td>False</td>\n",
       "      <td>False</td>\n",
       "      <td>False</td>\n",
       "      <td>False</td>\n",
       "      <td>False</td>\n",
       "      <td>False</td>\n",
       "    </tr>\n",
       "    <tr>\n",
       "      <th>3</th>\n",
       "      <td>29</td>\n",
       "      <td>2</td>\n",
       "      <td>0</td>\n",
       "      <td>26</td>\n",
       "      <td>make right- awful proportions. 5'0 100 lbs, or...</td>\n",
       "      <td>True</td>\n",
       "      <td>False</td>\n",
       "      <td>False</td>\n",
       "      <td>False</td>\n",
       "      <td>False</td>\n",
       "      <td>...</td>\n",
       "      <td>False</td>\n",
       "      <td>False</td>\n",
       "      <td>False</td>\n",
       "      <td>False</td>\n",
       "      <td>False</td>\n",
       "      <td>False</td>\n",
       "      <td>False</td>\n",
       "      <td>False</td>\n",
       "      <td>False</td>\n",
       "      <td>False</td>\n",
       "    </tr>\n",
       "    <tr>\n",
       "      <th>4</th>\n",
       "      <td>54</td>\n",
       "      <td>3</td>\n",
       "      <td>0</td>\n",
       "      <td>0</td>\n",
       "      <td>boxy- order sweater black think pretty design ...</td>\n",
       "      <td>True</td>\n",
       "      <td>False</td>\n",
       "      <td>False</td>\n",
       "      <td>False</td>\n",
       "      <td>False</td>\n",
       "      <td>...</td>\n",
       "      <td>False</td>\n",
       "      <td>False</td>\n",
       "      <td>False</td>\n",
       "      <td>False</td>\n",
       "      <td>False</td>\n",
       "      <td>False</td>\n",
       "      <td>False</td>\n",
       "      <td>False</td>\n",
       "      <td>False</td>\n",
       "      <td>False</td>\n",
       "    </tr>\n",
       "  </tbody>\n",
       "</table>\n",
       "<p>5 rows × 34 columns</p>\n",
       "</div>"
      ],
      "text/plain": [
       "   Age  Rating  labels  Positive Feedback Count  \\\n",
       "0   47       5       1                        0   \n",
       "1   46       2       0                        0   \n",
       "2   23       2       0                       15   \n",
       "3   29       2       0                       26   \n",
       "4   54       3       0                        0   \n",
       "\n",
       "                                                text  Division Name_General  \\\n",
       "0  comfy shirt- shirt pretty casual however nice ...                   True   \n",
       "1  breath- stone color nice, material heavy breat...                   True   \n",
       "2  flattering- love idea top, wish much fabric. w...                   True   \n",
       "3  make right- awful proportions. 5'0 100 lbs, or...                   True   \n",
       "4  boxy- order sweater black think pretty design ...                   True   \n",
       "\n",
       "   Division Name_General Petite  Division Name_Initmates  \\\n",
       "0                         False                    False   \n",
       "1                         False                    False   \n",
       "2                         False                    False   \n",
       "3                         False                    False   \n",
       "4                         False                    False   \n",
       "\n",
       "   Department Name_Bottoms  Department Name_Dresses  ...  Class Name_Legwear  \\\n",
       "0                    False                    False  ...               False   \n",
       "1                    False                    False  ...               False   \n",
       "2                    False                    False  ...               False   \n",
       "3                    False                    False  ...               False   \n",
       "4                    False                    False  ...               False   \n",
       "\n",
       "   Class Name_Lounge  Class Name_Outerwear  Class Name_Pants  \\\n",
       "0              False                 False             False   \n",
       "1              False                 False             False   \n",
       "2              False                 False             False   \n",
       "3              False                 False             False   \n",
       "4              False                 False             False   \n",
       "\n",
       "   Class Name_Shorts  Class Name_Skirts  Class Name_Sleep  \\\n",
       "0              False              False             False   \n",
       "1              False              False             False   \n",
       "2              False              False             False   \n",
       "3              False              False             False   \n",
       "4              False              False             False   \n",
       "\n",
       "   Class Name_Sweaters  Class Name_Swim  Class Name_Trend  \n",
       "0                False            False             False  \n",
       "1                False            False             False  \n",
       "2                False            False             False  \n",
       "3                False            False             False  \n",
       "4                False            False             False  \n",
       "\n",
       "[5 rows x 34 columns]"
      ]
     },
     "execution_count": 17,
     "metadata": {},
     "output_type": "execute_result"
    }
   ],
   "source": [
    "train_df.head()"
   ]
  },
  {
   "cell_type": "markdown",
   "id": "52b4a4d2-67f7-42c0-9e9b-855dd957c4c7",
   "metadata": {},
   "source": [
    "## Define a Tokenizer for the Text Data"
   ]
  },
  {
   "cell_type": "markdown",
   "id": "cbfde861-196d-4854-8688-08fc54578ff4",
   "metadata": {},
   "source": [
    "### I have already created the tokenizer and saved it. That's why I changed the saving cell below as Raw "
   ]
  },
  {
   "cell_type": "code",
   "execution_count": 18,
   "id": "8236633e-da69-4613-ac0c-7a8accab33ff",
   "metadata": {
    "tags": []
   },
   "outputs": [],
   "source": [
    "tokenizer = Tokenizer(\n",
    "    num_words=NUM_DISTINCT_WORDS,\n",
    "    filters='!\"#$%&()*+,-./:;<=>?@[\\\\]^_`{|}~\\t\\n',\n",
    "    lower=True,\n",
    "    split=' ',\n",
    "    char_level=False,\n",
    "    oov_token=OOV_TOKEN\n",
    ")"
   ]
  },
  {
   "cell_type": "markdown",
   "id": "a91a4ee9-5470-4a08-9fd6-9f71a073be8f",
   "metadata": {},
   "source": [
    "## Fit the Tokenizer to the Train Set"
   ]
  },
  {
   "cell_type": "code",
   "execution_count": 19,
   "id": "f7a9e715-7419-46bc-bd6c-99b190354239",
   "metadata": {
    "tags": []
   },
   "outputs": [],
   "source": [
    "tokenizer.fit_on_texts(train_data['text'].tolist())"
   ]
  },
  {
   "cell_type": "markdown",
   "id": "69538ec5-e29e-4851-9878-bd3013b5e62e",
   "metadata": {},
   "source": [
    "## Saving and loading tokenized data for external Charts"
   ]
  },
  {
   "cell_type": "code",
   "execution_count": 20,
   "id": "e669ea3e-5a59-406a-b4b1-b745eb3991ec",
   "metadata": {
    "tags": []
   },
   "outputs": [],
   "source": [
    "# saving\n",
    "with open(tokenized_path, 'wb') as handle:\n",
    "    pickle.dump(tokenizer, handle, protocol=pickle.HIGHEST_PROTOCOL)"
   ]
  },
  {
   "cell_type": "code",
   "execution_count": 21,
   "id": "2b13f520-e64c-48b2-b4c8-b30c0464e0ce",
   "metadata": {
    "tags": []
   },
   "outputs": [],
   "source": [
    "# loading\n",
    "with open(tokenized_path, 'rb') as handle:\n",
    "    tokenizer = pickle.load(handle)"
   ]
  },
  {
   "cell_type": "markdown",
   "id": "08c8539e-db1f-4505-a3df-e3d57079d3c9",
   "metadata": {},
   "source": [
    "## Examine Tokenizer Properties"
   ]
  },
  {
   "cell_type": "code",
   "execution_count": 22,
   "id": "04f49f8e-3005-41bc-984a-1c931429ae00",
   "metadata": {
    "tags": []
   },
   "outputs": [
    {
     "name": "stdout",
     "output_type": "stream",
     "text": [
      "Number of words: 1000\n",
      "Out of vocab token: <OOV>\n"
     ]
    }
   ],
   "source": [
    "print(f'Number of words: {tokenizer.num_words}')\n",
    "print(f'Out of vocab token: {tokenizer.oov_token}')"
   ]
  },
  {
   "cell_type": "code",
   "execution_count": 23,
   "id": "ee2cc2a4-fdcc-466a-94f3-17aaa25b8efa",
   "metadata": {
    "scrolled": true,
    "tags": []
   },
   "outputs": [
    {
     "name": "stdout",
     "output_type": "stream",
     "text": [
      "{'<OOV>': 1, 'dress': 2, 'love': 3, 'fit': 4, 'size': 5, 'wear': 6, 'top': 7, 'look': 8, 'like': 9, 'great': 10, 'color': 11, 'it': 12, 'fabric': 13, 'small': 14, 'would': 15, 'get': 16, 'order': 17, 'perfect': 18, 'cute': 19, 'beautiful': 20, 'go': 21, 'buy': 22, 'really': 23, 'make': 24, 'little': 25, 'one': 26, 'soft': 27, 'try': 28, 'nice': 29, 'run': 30, 'comfortable': 31, 'well': 32, 'think': 33, 'back': 34, 'shirt': 35, 'me': 36, 'large': 37, 'sweater': 38, 'work': 39, 'pretty': 40, 'much': 41, 'material': 42, 'bite': 43, 'length': 44, 'long': 45, 'jeans': 46, 'also': 47, 'quality': 48, 'petite': 49, 'waist': 50, 'short': 51, 'skirt': 52, 'flatter': 53, 'even': 54, 'medium': 55, 'purchase': 56, 'want': 57, 'feel': 58, 'xs': 59, 'retailer': 60, 'good': 61, 'style': 62, 'store': 63, 'see': 64, 'big': 65, 'find': 66, 'super': 67, 'cut': 68, 'usually': 69, 'summer': 70, 'way': 71, 'could': 72, 'flattering': 73, 'black': 74, 'design': 75, 'fall': 76, 'right': 77, 'still': 78, 'sleeves': 79, 'true': 80, 'on': 81, 'online': 82, 'white': 83, 'lovely': 84, 'need': 85, 'return': 86, 'gorgeous': 87, 'keep': 88, 'however': 89, 'jacket': 90, 'pant': 91, 'tight': 92, 'enough': 93, 'perfectly': 94, 'person': 95, 'detail': 96, 'model': 97, 'piece': 98, 'better': 99, 'time': 100, 'pair': 101, 'front': 102, 'blue': 103, '4': 104, 'price': 105, '2': 106, 'bottom': 107, 'sale': 108, 'definitely': 109, 'though': 110, 'lbs': 111, 'picture': 112, 'comfy': 113, 'give': 114, 'take': 115, 'say': 116, 'casual': 117, 'shape': 118, 'body': 119, 'down': 120, 'first': 121, 'come': 122, 'loose': 123, 'line': 124, 'high': 125, 'pattern': 126, 'around': 127, 'light': 128, 'side': 129, 'lot': 130, 'blouse': 131, 'bust': 132, 'wash': 133, '6': 134, 'regular': 135, 'show': 136, 'thin': 137, 'chest': 138, 'print': 139, 'arm': 140, 'many': 141, 'recommend': 142, 'button': 143, 'up': 144, 'saw': 145, 'fun': 146, 'shoulder': 147, 'seem': 148, 'unique': 149, 'without': 150, 'receive': 151, 'wish': 152, 'weight': 153, \"can't\": 154, 'bra': 155, 'i': 156, 'sure': 157, 'stretch': 158, 'hips': 159, 'tee': 160, 'pants': 161, 'hit': 162, 'review': 163, 'since': 164, 'different': 165, 'quite': 166, 'easy': 167, 'usual': 168, 'this': 169, '8': 170, 'tank': 171, 'out': 172, 'colors': 173, 'longer': 174, 'normally': 175, 'versatile': 176, 'adorable': 177, 'absolutely': 178, 'add': 179, 'green': 180, 'leggings': 181, 'too': 182, 'nicely': 183, 'boxy': 184, 'day': 185, 'may': 186, 'two': 187, 'overall': 188, 'slightly': 189, 'wide': 190, 'another': 191, 'lace': 192, 'know': 193, '5': 194, 'warm': 195, 'red': 196, 'neck': 197, 'might': 198, 'hang': 199, 'felt': 200, 'underneath': 201, 'photo': 202, 'happy': 203, 'probably': 204, 'layer': 205, 'sheer': 206, 'almost': 207, 'wait': 208, 'flowy': 209, 'favorite': 210, '10': 211, 'compliment': 212, 'low': 213, 'actually': 214, 'extra': 215, 'put': 216, 'spring': 217, 'decide': 218, 'all': 219, 'worth': 220, 'something': 221, 'drape': 222, 'huge': 223, 'full': 224, 'end': 225, 'area': 226, 'them': 227, 'every': 228, 'but': 229, 'yet': 230, 'best': 231, 'figure': 232, 'shorter': 233, 'fine': 234, 'tall': 235, 'smaller': 236, 'unfortunately': 237, 'everything': 238, 'pull': 239, \"5'4\": 240, 'winter': 241, 'feminine': 242, 'denim': 243, 'glad': 244, 'reference': 245, 'tunic': 246, 'maybe': 247, 'tts': 248, 'coat': 249, 'always': 250, 'use': 251, 'skinny': 252, 'part': 253, 'navy': 254, 'neckline': 255, 'larger': 256, 'slip': 257, 'lightweight': 258, 'hem': 259, 'made': 260, 'off': 261, 'thick': 262, 'thing': 263, 'new': 264, 'pink': 265, 'expect': 266, 'snug': 267, 'problem': 268, 'easily': 269, 'cotton': 270, 'tie': 271, 'especially': 272, '3': 273, 'cardigan': 274, 'heavy': 275, 'knit': 276, 'room': 277, 'l': 278, 'and': 279, 'disappoint': 280, 'cozy': 281, 'classic': 282, 'belt': 283, 'grey': 284, 'hop': 285, 'reviewers': 286, 'issue': 287, 't': 288, 'in': 289, \"5'3\": 290, 'kind': 291, 'curvy': 292, 'open': 293, 'knee': 294, 'pocket': 295, 'normal': 296, 'sell': 297, 'embroidery': 298, 'flow': 299, 'xl': 300, 'suit': 301, 'beautifully': 302, 'cover': 303, \"5'2\": 304, 'stylish': 305, 'dark': 306, 'cool': 307, \"that's\": 308, 'cami': 309, 'not': 310, '12': 311, 'inch': 312, 'never': 313, 'torso': 314, 'frame': 315, 'flare': 316, 'surprise': 317, 'although': 318, '0': 319, 'type': 320, 'extremely': 321, 's': 322, 'that': 323, 'bad': 324, 'reviewer': 325, \"5'5\": 326, 'legs': 327, 'highly': 328, 'zipper': 329, 'so': 330, 'able': 331, 'anything': 332, 'someone': 333, 'typically': 334, 'through': 335, 'shoulders': 336, 'vest': 337, 'ever': 338, 'the': 339, 'hole': 340, 'unflattering': 341, 'brand': 342, 'swing': 343, 'excite': 344, 'either': 345, 'plan': 346, 'today': 347, 'simple': 348, 'sleeve': 349, 'arms': 350, 'photos': 351, 'read': 352, 'xxs': 353, 'staple': 354, 'year': 355, \"5'7\": 356, 'weather': 357, 'm': 358, 'things': 359, 'tops': 360, 'stretchy': 361, 'already': 362, 'amazing': 363, 'must': 364, 'hold': 365, 'compliments': 366, 'wardrobe': 367, 'exactly': 368, 'agree': 369, 'dry': 370, 'last': 371, 'wonderful': 372, 'cheap': 373, '26': 374, 'pictured': 375, 'hard': 376, 'gray': 377, 'days': 378, 'seam': 379, 'away': 380, \"i'm\": 381, 'fell': 382, \"5'6\": 383, 'orange': 384, 'otherwise': 385, 'strap': 386, 'itchy': 387, 'skin': 388, 'local': 389, '1': 390, 'tad': 391, 'amaze': 392, 'hot': 393, 'due': 394, 'touch': 395, 'did': 396, 'sadly': 397, 'for': 398, 'eye': 399, 'mean': 400, 'nothing': 401, 'send': 402, 'boot': 403, 'baggy': 404, 'expected': 405, 'reviews': 406, 'season': 407, 'others': 408, 'vibrant': 409, 'pilcro': 410, 'slim': 411, \"5'8\": 412, 'rather': 413, 'leave': 414, 'is': 415, 'appear': 416, 'you': 417, 'basic': 418, 'delicate': 419, 'crop': 420, 'least': 421, 'across': 422, 'elegant': 423, 'awesome': 424, 'odd': 425, 'consider': 426, 'exchange': 427, 'boots': 428, 'lay': 429, 'please': 430, 'these': 431, 'hide': 432, 'several': 433, 'years': 434, 'plus': 435, \"5'\": 436, 'weird': 437, 'disappointed': 438, 'less': 439, 'bright': 440, 'roomy': 441, 'a': 442, 'busty': 443, 'straight': 444, 'worry': 445, 'waisted': 446, 'base': 447, 'yellow': 448, 'prefer': 449, 'night': 450, 'version': 451, 'arrive': 452, 'pockets': 453, 'said': 454, 'oversized': 455, 'item': 456, 'tiny': 457, 'dresses': 458, 'special': 459, 'interest': 460, 'throw': 461, 'ok': 462, 'ankle': 463, 'sexy': 464, 'clothe': 465, 'place': 466, 'collar': 467, 'v': 468, 'sometimes': 469, 'strip': 470, 'close': 471, 'tights': 472, 'help': 473, 'tuck': 474, 'rise': 475, 'to': 476, 'far': 477, 'jean': 478, 'shrink': 479, 'stiff': 480, 'mine': 481, 'immediately': 482, 'sizes': 483, 'previous': 484, 'ivory': 485, '27': 486, \"5'1\": 487, 'flat': 488, 'totally': 489, 'instead': 490, '115': 491, 'wrinkle': 492, 'sit': 493, 'available': 494, 'jumpsuit': 495, 'notice': 496, 'bigger': 497, 'poor': 498, 'elastic': 499, 'wrong': 500, 'mid': 501, 'ruffle': 502, 'finally': 503, 'higher': 504, 'shorts': 505, 'else': 506, 'pay': 507, 'heel': 508, 'stay': 509, 'spot': 510, 'lower': 511, 'classy': 512, 'cold': 513, 'second': 514, 'cream': 515, 'neutral': 516, 'chic': 517, 'form': 518, '28': 519, 'texture': 520, 'completely': 521, 'athletic': 522, 'pleat': 523, 'broad': 524, 'bulky': 525, 'wool': 526, \"5'9\": 527, \"there's\": 528, 'maternity': 529, 'leg': 530, 'similar': 531, 'dressy': 532, 'people': 533, 'sandals': 534, 'knees': 535, 'slimming': 536, 'outfit': 537, 'depend': 538, 'point': 539, 'tell': 540, 'armholes': 541, 'stunning': 542, 'inside': 543, 'hand': 544, 'reason': 545, 'yes': 546, 'peplum': 547, 'rich': 548, 'details': 549, 'hourglass': 550, 'sizing': 551, 'booties': 552, 'incredibly': 553, 'addition': 554, 'c': 555, 'deep': 556, 'zip': 557, 'substantial': 558, 'build': 559, 'now': 560, 'fabulous': 561, 'appropriate': 562, 'match': 563, '120': 564, 'brown': 565, 'snag': 566, 'half': 567, 'linen': 568, 'closet': 569, 'comfort': 570, 'idea': 571, 'hope': 572, 'flats': 573, 'mind': 574, 'live': 575, 'fact': 576, 'tent': 577, 'months': 578, 'star': 579, 'sweaters': 580, 'hip': 581, 'often': 582, 'fitted': 583, 'sad': 584, 'sew': 585, 'home': 586, 'subtle': 587, 'slit': 588, 'baby': 589, 'mail': 590, 'amount': 591, 'product': 592, 'thighs': 593, '30': 594, 'purple': 595, 'fantastic': 596, 'do': 597, 'fitting': 598, 'silk': 599, 'awkward': 600, 'justice': 601, 'strange': 602, 'roll': 603, 'next': 604, 'floral': 605, 'b': 606, 'stick': 607, 'couple': 608, 'romper': 609, 'deal': 610, 'upper': 611, 'stitch': 612, 'gap': 613, 'except': 614, 'nude': 615, 'transition': 616, 'thread': 617, 'start': 618, '25': 619, 'fan': 620, 'complaint': 621, 'cup': 622, 'perhaps': 623, 'stun': 624, 'structure': 625, 'sweatshirt': 626, 'maeve': 627, 'taller': 628, '34c': 629, '34b': 630, 'soon': 631, 'tailor': 632, 'mention': 633, 'w': 634, 'forward': 635, 'anyway': 636, 'everywhere': 637, '135': 638, 'looser': 639, 'be': 640, 'gold': 641, 'lined': 642, 'narrow': 643, 'cannot': 644, 'thicker': 645, 'party': 646, 'case': 647, 'darker': 648, 'tag': 649, 'along': 650, 'old': 651, 'office': 652, 'wow': 653, 'sweet': 654, '125': 655, 'real': 656, 'lose': 657, 'stand': 658, 'blazer': 659, 'bead': 660, 'catch': 661, 'coverage': 662, 'note': 663, 'band': 664, 'imagine': 665, 'walk': 666, 'maxi': 667, 'fairly': 668, 'there': 669, 'truly': 670, 'slight': 671, 'again': 672, 'barely': 673, 'pick': 674, 'sort': 675, 'bag': 676, 'excellent': 677, 'bit': 678, 'bodice': 679, 'together': 680, 'beach': 681, 'simply': 682, 'pass': 683, 'middle': 684, 'tummy': 685, 'clean': 686, 'somewhat': 687, 'cuff': 688, 'miss': 689, 'scratchy': 690, 'flower': 691, 'opinion': 692, 'hug': 693, 'women': 694, 'butt': 695, 'heavier': 696, '130': 697, 'girls': 698, 'wed': 699, 'pound': 700, 'typical': 701, 'unless': 702, '140': 703, 'past': 704, 'whole': 705, 'bring': 706, 'anyone': 707, 'motif': 708, 'leather': 709, 'curve': 710, 'frumpy': 711, '14': 712, 'move': 713, 'more': 714, 'mix': 715, 'become': 716, 'weekend': 717, 'tend': 718, 'belly': 719, 'lighter': 720, 'plaid': 721, 'which': 722, 'guess': 723, 'pop': 724, 'swim': 725, 'three': 726, 'husband': 727, 'items': 728, 'everyday': 729, 'chested': 730, 'heels': 731, 'dinner': 732, 'choose': 733, '34': 734, 'realize': 735, 'waistband': 736, 'airy': 737, 'wrap': 738, '100': 739, 'girl': 740, 'generally': 741, 'over': 742, 'believe': 743, 'everyone': 744, 'clingy': 745, 'thank': 746, 'necklace': 747, 'no': 748, 'turn': 749, '34d': 750, 'suppose': 751, 'portion': 752, 'average': 753, 'tone': 754, 'swingy': 755, 'with': 756, '29': 757, 'relax': 758, 'prettier': 759, 'chance': 760, 'rest': 761, \"5'10\": 762, 'oh': 763, 'looking': 764, 'shapeless': 765, 'wider': 766, 'pregnant': 767, 'have': 768, 'difficult': 769, 'okay': 770, 'keeper': 771, 'change': 772, 'ladies': 773, 'coral': 774, 'create': 775, 'sack': 776, 'height': 777, 'plenty': 778, 'draw': 779, 'let': 780, 'slender': 781, '39': 782, 'petites': 783, 'shade': 784, 'concern': 785, 'house': 786, 'adore': 787, 'allow': 788, 'pictures': 789, 'p': 790, 'option': 791, 'care': 792, 'stock': 793, 'polyester': 794, 'bunch': 795, 'silhouette': 796, 'glove': 797, 'ago': 798, 'pounds': 799, 'lining': 800, 'expensive': 801, 'silky': 802, 'suggest': 803, 'grab': 804, 'vintage': 805, 'own': 806, 'buttons': 807, 'beauty': 808, 'description': 809, 'us': 810, 'stomach': 811, 'camisole': 812, 'mentioned': 813, 'snap': 814, 'despite': 815, 'holiday': 816, 'pear': 817, 'bother': 818, 'money': 819, 'terrible': 820, 'edge': 821, 'etc': 822, 'bum': 823, 'perfection': 824, 'call': 825, 'uncomfortable': 826, 'garment': 827, 'thigh': 828, 'require': 829, 'romantic': 830, 'cooler': 831, 'ag': 832, 'rib': 833, 'trim': 834, 'here': 835, 'pricey': 836, 'solid': 837, 'poncho': 838, 'beige': 839, 'originally': 840, 'compare': 841, 'life': 842, 'round': 843, 'curves': 844, 'billowy': 845, 'my': 846, 'cuter': 847, 'shown': 848, 'website': 849, '36': 850, 'recently': 851, 'bell': 852, 'velvet': 853, 'cling': 854, 'natural': 855, 'twist': 856, 'dream': 857, 'lounge': 858, 'plain': 859, 'happen': 860, 'comment': 861, 'dot': 862, '32': 863, 'yesterday': 864, 'skirts': 865, '36c': 866, 'head': 867, 'twice': 868, 'package': 869, 'stop': 870, 'afraid': 871, 'pale': 872, 'surprisingly': 873, '40': 874, 'check': 875, 'arrived': 876, 'winner': 877, 'hanger': 878, 'machine': 879, 'contrast': 880, 'carry': 881, 'daughter': 882, 'sides': 883, '38': 884, 'crazy': 885, 'construction': 886, 'fix': 887, 'turtleneck': 888, 'cause': 889, 'occasion': 890, 'rayon': 891, 'offer': 892, 'fold': 893, 'set': 894, 'feature': 895, 'or': 896, 'weave': 897, 'pic': 898, 'returned': 899, 'disappointing': 900, 'week': 901, 'attractive': 902, 'ways': 903, 'section': 904, 'tons': 905, 'movement': 906, 'remind': 907, 'fade': 908, 'near': 909, 'shirts': 910, 'post': 911, 'pencil': 912, 'bath': 913, 'unlike': 914, 'stripe': 915, 'xsp': 916, 'woman': 917, 'sloppy': 918, 'unusual': 919, 'nicer': 920, 'flimsy': 921, 'fence': 922, 'scarf': 923, 'shop': 924, 'literally': 925, 'embroider': 926, 'breezy': 927, 'weeks': 928, '110': 929, 'weigh': 930, 'timeless': 931, 'flirty': 932, 'combination': 933, 'statement': 934, 'date': 935, 'seasons': 936, 'darling': 937, 'travel': 938, 'warmer': 939, 'accentuate': 940, 'wedding': 941, 'th': 942, 'write': 943, 'tan': 944, 'comfortably': 945, 'likely': 946, 'throughout': 947, 'hate': 948, 'modern': 949, 'support': 950, 'effect': 951, 'turquoise': 952, \"it's\": 953, 'pleasantly': 954, 'careful': 955, 'tighter': 956, 'cinch': 957, 'fabrics': 958, 'very': 959, 'muscular': 960, 'mostly': 961, 'lb': 962, 'gather': 963, 'waistline': 964, 'flaw': 965, 'ship': 966, 'appreciate': 967, '0p': 968, 'returning': 969, 'whether': 970, 'overly': 971, 'upon': 972, 'places': 973, 'forgive': 974, 'spend': 975, 'choice': 976, 'ones': 977, 'strapless': 978, 'swimsuit': 979, 'teal': 980, 'later': 981, 'wine': 982, 'moss': 983, '20': 984, 'water': 985, 'anywhere': 986, 'quickly': 987, 'iron': 988, 'feet': 989, 'early': 990, '145': 991, 'hesitant': 992, 'trend': 993, 'exception': 994, 'meet': 995, 'clothes': 996, 'boyfriend': 997, 'wonder': 998, 'dd': 999, 'search': 1000, 'trip': 1001, 'negative': 1002, 'areas': 1003, 'thrill': 1004, 'cross': 1005, 'blouses': 1006, 'multiple': 1007, 'im': 1008, 'difference': 1009, 'vibe': 1010, 'retro': 1011, 'ask': 1012, 'panel': 1013, 'outside': 1014, '36d': 1015, 'peach': 1016, 'state': 1017, 'center': 1018, 'blend': 1019, 'xxsp': 1020, 'combo': 1021, 'boho': 1022, 'awful': 1023, 'sleep': 1024, 'thinner': 1025, 'designer': 1026, 'jersey': 1027, 'double': 1028, 'overwhelm': 1029, 'apart': 1030, 'entire': 1031, 'pin': 1032, '16': 1033, 'olive': 1034, 'shoe': 1035, 'hook': 1036, '00': 1037, 'gift': 1038, 'only': 1039, 'as': 1040, '34dd': 1041, 'attention': 1042, 'brighter': 1043, '36dd': 1044, 'currently': 1045, 'attach': 1046, 'provide': 1047, 'initially': 1048, 'fits': 1049, 'event': 1050, 'break': 1051, 'whim': 1052, 'behind': 1053, 'wonderfully': 1054, 'proportion': 1055, 'alone': 1056, 'mom': 1057, \"would've\": 1058, 'silver': 1059, 'flair': 1060, 'was': 1061, 'metallic': 1062, 'tear': 1063, '150': 1064, 'beware': 1065, 'taupe': 1066, 'bow': 1067, 'christmas': 1068, 'sleeveless': 1069, 'midi': 1070, 'trousers': 1071, 'begin': 1072, 'med': 1073, '35': 1074, 'problems': 1075, 'colorful': 1076, 'particularly': 1077, 'sturdy': 1078, 'drop': 1079, 'polka': 1080, 'both': 1081, 'straps': 1082, 'works': 1083, 'faux': 1084, 'cleavage': 1085, 'jewelry': 1086, 'avoid': 1087, 'smooth': 1088, 'bump': 1089, 'number': 1090, 'x': 1091, 'washable': 1092, 'stone': 1093, 'pullover': 1094, 'follow': 1095, 'dressier': 1096, 'if': 1097, 'lavender': 1098, 'rip': 1099, 'poorly': 1100, 'hair': 1101, 'disappointment': 1102, 'shift': 1103, 'breast': 1104, 'drapey': 1105, 'debate': 1106, 'cloth': 1107, 'hte': 1108, 'describe': 1109, 'ish': 1110, 'adjustable': 1111, 'cashmere': 1112, 'adjust': 1113, 'birthday': 1114, 'mother': 1115, 'looks': 1116, 'chinos': 1117, 'trouble': 1118, 'shaped': 1119, 'bummer': 1120, 'are': 1121, 'funny': 1122, 'properly': 1123, 'skim': 1124, 'bulk': 1125, 'interesting': 1126, 'ton': 1127, 'rack': 1128, 'dye': 1129, 'pros': 1130, '32c': 1131, 'regret': 1132, 'types': 1133, 'ankles': 1134, 'nearly': 1135, 'bonus': 1136, 'issues': 1137, 'vacation': 1138, 'finish': 1139, 'appeal': 1140, 'bill': 1141, 'free': 1142, 'understand': 1143, 'ridiculous': 1144, 'mute': 1145, 'bohemian': 1146, 'lately': 1147, 'volume': 1148, 'wedge': 1149, 'cropped': 1150, '00p': 1151, 'moment': 1152, 'yoga': 1153, 'liner': 1154, 'outer': 1155, 'course': 1156, 'errands': 1157, 'waste': 1158, 'width': 1159, 'honestly': 1160, 'particular': 1161, 'chunky': 1162, 'myself': 1163, 'layering': 1164, 'certainly': 1165, 'discount': 1166, 'crotch': 1167, 'scoop': 1168, 'fully': 1169, 'oddly': 1170, 'times': 1171, 'enjoy': 1172, 'mark': 1173, 'sales': 1174, 'cost': 1175, 'occasions': 1176, 'clothing': 1177, '24': 1178, 'washing': 1179, 'age': 1180, '33': 1181, 'dryer': 1182, 'hour': 1183, '32dd': 1184, 'modest': 1185, 'voluminous': 1186, 'hours': 1187, 'cowl': 1188, 'wearable': 1189, 'hopefully': 1190, 'alter': 1191, 'am': 1192, 'just': 1193, 'slouchy': 1194, '135lbs': 1195, 'breathable': 1196, 'sleeved': 1197, 'somehow': 1198, 'holes': 1199, 'closer': 1200, 'closure': 1201, 'basically': 1202, 'breaker': 1203, 'inseam': 1204, 'alternative': 1205, 'concept': 1206, 'possible': 1207, 'minute': 1208, 'fuller': 1209, 'standard': 1210, 'seriously': 1211, 'lack': 1212, 'pics': 1213, 'non': 1214, 'unlined': 1215, 'warmth': 1216, 'options': 1217, 'bottoms': 1218, 'correct': 1219, 'reveal': 1220, 'burgundy': 1221, 'kimono': 1222, '31': 1223, 'same': 1224, 'play': 1225, 'late': 1226, 'thru': 1227, 'horrible': 1228, 'asymmetrical': 1229, 'pilling': 1230, 'casually': 1231, 'personally': 1232, 'distress': 1233, 'floor': 1234, 'professional': 1235, 'bc': 1236, 'air': 1237, 'funky': 1238, 'lift': 1239, 'chambray': 1240, 'gals': 1241, 'taste': 1242, 'fray': 1243, 'hemline': 1244, 'd': 1245, 'art': 1246, 'friends': 1247, 'shame': 1248, 'softer': 1249, 'amp': 1250, 'trendy': 1251, 'expectations': 1252, 'month': 1253, 'matter': 1254, 'business': 1255, '34a': 1256, 'ruin': 1257, 'fashion': 1258, 'shed': 1259, 'of': 1260, 'include': 1261, 'ordered': 1262, 'push': 1263, 'yarn': 1264, '7': 1265, 'spandex': 1266, 'list': 1267, 'instantly': 1268, 'heat': 1269, 'functional': 1270, 'potential': 1271, 'lady': 1272, 'softness': 1273, 'events': 1274, 'split': 1275, 'luxurious': 1276, 'fringe': 1277, '118': 1278, 'thought': 1279, 'inner': 1280, 'y': 1281, 'boob': 1282, 'placement': 1283, \"retailer's\": 1284, 'beyond': 1285, 'cutest': 1286, 'generous': 1287, 'catalog': 1288, '30dd': 1289, 'disagree': 1290, 'visible': 1291, 'wearing': 1292, 'tricky': 1293, 'materials': 1294, 'instructions': 1295, 'transitional': 1296, 'level': 1297, 'below': 1298, 'fancy': 1299, 'downside': 1300, 'actual': 1301, 'image': 1302, 'summery': 1303, 'cardi': 1304, 'flaws': 1305, 'splurge': 1306, 'possibly': 1307, 'background': 1308, 'strike': 1309, 'reach': 1310, 'taper': 1311, 'accommodate': 1312, 'stripes': 1313, 'fur': 1314, 'swallow': 1315, 'shimmer': 1316, 'justify': 1317, 'impress': 1318, 'positive': 1319, 'emphasize': 1320, 'quirky': 1321, 'lines': 1322, 'will': 1323, 'penny': 1324, 'bend': 1325, 'experience': 1326, 'expose': 1327, 'some': 1328, 'crisp': 1329, 'crochet': 1330, 'peasant': 1331, 'hesitate': 1332, 'about': 1333, 'practical': 1334, '120lbs': 1335, 'formal': 1336, 'sp': 1337, 'accessories': 1338, 'four': 1339, 'mustard': 1340, 'xsmall': 1341, 'softest': 1342, 'worked': 1343, '2p': 1344, 'needed': 1345, 'six': 1346, 'remove': 1347, 'loosely': 1348, 'single': 1349, 'cage': 1350, 'incredible': 1351, 'aware': 1352, 'fyi': 1353, 'string': 1354, 'fast': 1355, 'complement': 1356, 'mess': 1357, 'paige': 1358, 'foot': 1359, 'noted': 1360, '105': 1361, 'opt': 1362, 'flannel': 1363, 'blousy': 1364, 'stain': 1365, 'ft': 1366, 'pregnancy': 1367, 'sooo': 1368, 'con': 1369, 'ultimately': 1370, 'jackets': 1371, 'ideal': 1372, 'expecting': 1373, 'smell': 1374, 'suede': 1375, 'wanted': 1376, '32b': 1377, 'e': 1378, 'balance': 1379, 'cords': 1380, 'slimmer': 1381, 'cape': 1382, 'win': 1383, 'can': 1384, 'billow': 1385, 'halter': 1386, 'raise': 1387, 'accent': 1388, 'rear': 1389, 'lean': 1390, 'kinda': 1391, 'effortless': 1392, 'sheen': 1393, 'rid': 1394, 'flip': 1395, 'they': 1396, 'stated': 1397, 'box': 1398, 'meh': 1399, 'stylist': 1400, 'versatility': 1401, 'done': 1402, 'while': 1403, 'calf': 1404, 'fair': 1405, 'range': 1406, 'knot': 1407, 'job': 1408, 'tshirt': 1409, 'within': 1410, 'robe': 1411, 'empire': 1412, 'worn': 1413, 'sense': 1414, 'drawstring': 1415, '130lbs': 1416, 'stuff': 1417, 'styling': 1418, 'sz': 1419, 'luckily': 1420, 'sized': 1421, 'assume': 1422, 'at': 1423, 'young': 1424, 'cord': 1425, 'soooo': 1426, 'whimsical': 1427, 'decent': 1428, 'minutes': 1429, '9': 1430, 'mistake': 1431, '32d': 1432, 'hei': 1433, 'inches': 1434, 'reorder': 1435, 'measurements': 1436, 'sorry': 1437, 'enormous': 1438, 'florida': 1439, 'accurate': 1440, 'rarely': 1441, 'delight': 1442, 'sight': 1443, 'site': 1444, 'doubt': 1445, 'happier': 1446, 'recent': 1447, 'drawback': 1448, 'hood': 1449, 'evenings': 1450, 'sparkle': 1451, 'bold': 1452, 'puffy': 1453, 'upcoming': 1454, 'dots': 1455, 'label': 1456, 'plum': 1457, 'obsess': 1458, 'lie': 1459, 'ride': 1460, 'risk': 1461, 'cardigans': 1462, 'struggle': 1463, 'pad': 1464, 'third': 1465, 'ready': 1466, 'terribly': 1467, 'itch': 1468, 'mauve': 1469, 'rough': 1470, 'edgy': 1471, 'pajamas': 1472, 'term': 1473, 'shorten': 1474, 'structured': 1475, 'therefore': 1476, 'variety': 1477, 'textured': 1478, 'attract': 1479, 'biggest': 1480, 'trench': 1481, 'conservative': 1482, 'fresh': 1483, 'shoes': 1484, 'elbow': 1485, 'shows': 1486, 'charcoal': 1487, 'patterns': 1488, 'plunge': 1489, 'pleased': 1490, 'pajama': 1491, 'midsection': 1492, 'f': 1493, 'per': 1494, \"didn't\": 1495, 'colder': 1496, 'pieces': 1497, 'result': 1498, 'dreamy': 1499, 'execution': 1500, 'space': 1501, 'joggers': 1502, 'flutter': 1503, 'smallest': 1504, 'gal': 1505, 'noticeable': 1506, 'tempt': 1507, 'nervous': 1508, 'general': 1509, 'armpit': 1510, 'steal': 1511, 'define': 1512, \"could've\": 1513, 'polish': 1514, 'chilly': 1515, 'alas': 1516, 'watch': 1517, 'cycle': 1518, 'unexpected': 1519, 'nights': 1520, 'burn': 1521, 'badly': 1522, 'hi': 1523, 'shower': 1524, 'once': 1525, 'combine': 1526, 'complete': 1527, 'autumn': 1528, 'does': 1529, 'enhance': 1530, 'whatever': 1531, 'ribbon': 1532, 'resist': 1533, 'additional': 1534, 'main': 1535, 'kid': 1536, 'under': 1537, 'traditional': 1538, 'five': 1539, 'certain': 1540, 'hint': 1541, 'town': 1542, 'ease': 1543, 're': 1544, 'constructed': 1545, 'rare': 1546, 'hat': 1547, \"5'0\": 1548, 'wedges': 1549, 'unsure': 1550, 'fat': 1551, 'goes': 1552, 'wrist': 1553, 'jumper': 1554, 'unbutton': 1555, 'detailing': 1556, 'durable': 1557, 'legging': 1558, 'impossible': 1559, '128': 1560, 'wise': 1561, 'favorites': 1562, 'capris': 1563, 'vary': 1564, 'obviously': 1565, 'ahead': 1566, 'amazingly': 1567, 'lucky': 1568, 'hoped': 1569, 'thickness': 1570, 'corduroy': 1571, 'promo': 1572, 'shock': 1573, 'correctly': 1574, 'brands': 1575, '6p': 1576, \"5'11\": 1577, 'constantly': 1578, 'luck': 1579, '117': 1580, 'forgiving': 1581, 'ruching': 1582, '37': 1583, 'mint': 1584, '125lbs': 1585, 'owned': 1586, 'purpose': 1587, 'mock': 1588, 'runs': 1589, 'shot': 1590, 'highlight': 1591, 'semi': 1592, 'n': 1593, 'ill': 1594, '36b': 1595, 'booty': 1596, 'self': 1597, 'dolman': 1598, 'sophisticate': 1599, 'gentle': 1600, 'regard': 1601, 'before': 1602, 'elegance': 1603, 'advice': 1604, 'earlier': 1605, 'worse': 1606, 'bone': 1607, 'fear': 1608, '140lbs': 1609, 'curvier': 1610, 'purchased': 1611, 'shiny': 1612, 'backside': 1613, 'skinnies': 1614, 'dip': 1615, 'sensitive': 1616, 'california': 1617, 'appearance': 1618, 'younger': 1619, 'necessary': 1620, 'matronly': 1621, 'revealing': 1622, 'awhile': 1623, 'boy': 1624, 'flowers': 1625, 'tailored': 1626, 'display': 1627, 'charm': 1628, 'factor': 1629, '50': 1630, 'fuzzy': 1631, 'then': 1632, 'poofy': 1633, 'spare': 1634, 'eyelet': 1635, 'busy': 1636, 'worst': 1637, 'definite': 1638, 'vivid': 1639, 'feeling': 1640, 'altered': 1641, 'imo': 1642, 'balloon': 1643, 'stevie': 1644, 'strangely': 1645, 'evening': 1646, 'step': 1647, 'bras': 1648, 'rompers': 1649, 'stars': 1650, 'hue': 1651, 'why': 1652, 'raw': 1653, 'manage': 1654, 'replace': 1655, 'square': 1656, 'washed': 1657, 'intend': 1658, 'sag': 1659, 'surprised': 1660, \"model's\": 1661, 'sequins': 1662, 'blah': 1663, 'intricate': 1664, 'pxs': 1665, 'closely': 1666, 'loop': 1667, 'word': 1668, 'relatively': 1669, 'peek': 1670, 'friend': 1671, 'thus': 1672, 'challenge': 1673, 'strong': 1674, 'pure': 1675, 'customer': 1676, 'prints': 1677, 'excess': 1678, 'overwhelming': 1679, 'weddings': 1680, 'bought': 1681, 'chiffon': 1682, 'reality': 1683, '15': 1684, 'wind': 1685, 'quick': 1686, 'awkwardly': 1687, 'friday': 1688, 'blanket': 1689, '4p': 1690, 'vs': 1691, 'hemmed': 1692, 'neither': 1693, 'jsut': 1694, '138': 1695, 'rust': 1696, 'ti': 1697, 'sheath': 1698, 'rock': 1699, 'seams': 1700, 'associate': 1701, 'designed': 1702, 'obvious': 1703, 'view': 1704, 'cap': 1705, \"what's\": 1706, 'bikini': 1707, '115lbs': 1708, 'original': 1709, 'mainly': 1710, 'liking': 1711, 'shoot': 1712, 'raspberry': 1713, 'onto': 1714, 'sky': 1715, 'mesh': 1716, 'got': 1717, 'transparent': 1718, 'speak': 1719, 'major': 1720, 'name': 1721, 'ridiculously': 1722, 'sweat': 1723, 'slack': 1724, 'armhole': 1725, 'lump': 1726, 'ps': 1727, 'warn': 1728, 'flowing': 1729, 'what': 1730, 'horse': 1731, 'dance': 1732, 'boobs': 1733, 'heart': 1734, 'cutouts': 1735, 'wrinkly': 1736, 'sun': 1737, 'tough': 1738, 'clearly': 1739, 'forever': 1740, 'fleece': 1741, 'alterations': 1742, \"70's\": 1743, 'bronze': 1744, 'yay': 1745, 'visit': 1746, 'somewhere': 1747, 'armpits': 1748, 'tunics': 1749, 'duster': 1750, 'reese': 1751, 'tighten': 1752, 'complaints': 1753, 'sparkly': 1754, 'uniqueness': 1755, 'multi': 1756, 'itself': 1757, 'gone': 1758, 'opaque': 1759, 'humid': 1760, 'chemise': 1761, 'giant': 1762, 'her': 1763, 'total': 1764, 'poly': 1765, 'mirror': 1766, 'openings': 1767, 'discover': 1768, '160': 1769, 'liked': 1770, 'tassels': 1771, 'textures': 1772, 'measure': 1773, 'unfortunate': 1774, 'decision': 1775, 'grow': 1776, 'lol': 1777, 'mini': 1778, 'thankfully': 1779, 'sleek': 1780, 'slide': 1781, 'tracy': 1782, 'anymore': 1783, 'culottes': 1784, 'cons': 1785, 'school': 1786, 'definition': 1787, 'busted': 1788, 'overlay': 1789, 'figures': 1790, 'between': 1791, 'conscious': 1792, 'zero': 1793, 'exquisite': 1794, 'horizontal': 1795, 'nature': 1796, 'solve': 1797, 'fragile': 1798, 'breathe': 1799, 'pucker': 1800, 'save': 1801, 'bib': 1802, 'various': 1803, 'tightly': 1804, 'suspect': 1805, 'flop': 1806, 'styles': 1807, 'aesthetic': 1808, 'personal': 1809, '108': 1810, 'sucker': 1811, 'jumpsuits': 1812, 'sister': 1813, 'squeeze': 1814, 'hoodie': 1815, 'holidays': 1816, 'sneakers': 1817, 'lilac': 1818, 'sm': 1819, 'ample': 1820, 'dart': 1821, 'regardless': 1822, 'sophisticated': 1823, 'boil': 1824, 'bore': 1825, 'world': 1826, 'prepare': 1827, 'imperfections': 1828, 'dolan': 1829, 'prior': 1830, 'peachy': 1831, 'hyphen': 1832, 'handle': 1833, 'weekends': 1834, 'looked': 1835, 'hardly': 1836, 'church': 1837, 'scallop': 1838, 'because': 1839, 'bummed': 1840, '5ft': 1841, 'investment': 1842, 'showing': 1843, 'family': 1844, 'listen': 1845, 'shimmery': 1846, 'calve': 1847, 'brunch': 1848, 'die': 1849, 'helps': 1850, 'catching': 1851, 'wears': 1852, 'seamstress': 1853, '110lbs': 1854, 'drab': 1855, 'fail': 1856, 'gauze': 1857, 'la': 1858, 'nightgown': 1859, 'khaki': 1860, 'current': 1861, 'tire': 1862, 'texas': 1863, 'wrists': 1864, 'continue': 1865, 'blush': 1866, \"don't\": 1867, 'accord': 1868, 'gauzy': 1869, 'cutout': 1870, 'vegan': 1871, 'sock': 1872, '90': 1873, 'construct': 1874, 'lbd': 1875, 'pill': 1876, 'used': 1877, 'ultra': 1878, 'unwearable': 1879, 'most': 1880, 'received': 1881, 'gain': 1882, 'had': 1883, 'minor': 1884, 'horribly': 1885, 'recommended': 1886, 'indeed': 1887, 'puff': 1888, 'muffin': 1889, 'easier': 1890, 'neat': 1891, 'confuse': 1892, 'underwear': 1893, 'function': 1894, 'uneven': 1895, 'block': 1896, 'whatsoever': 1897, 'byron': 1898, 'key': 1899, 'tulle': 1900, 'clear': 1901, 'absolute': 1902, 'pairs': 1903, 'fill': 1904, 'older': 1905, 'silly': 1906, 'outfits': 1907, 'cheaply': 1908, 'morning': 1909, 'finger': 1910, 'significantly': 1911, 'cant': 1912, 'teacher': 1913, 'doll': 1914, 'layers': 1915, 'fashionable': 1916, 'fly': 1917, 'secure': 1918, 'pre': 1919, '155': 1920, 'shell': 1921, 'undo': 1922, 'ha': 1923, 'lacy': 1924, 'eventually': 1925, 'tees': 1926, 'numerous': 1927, 'keyhole': 1928, 'elevate': 1929, 'admit': 1930, 'lint': 1931, 'went': 1932, 'ordering': 1933, 'cocktail': 1934, 'rotation': 1935, 'undergarments': 1936, 'slits': 1937, 'adn': 1938, 'hunt': 1939, 'knock': 1940, 'fab': 1941, 'from': 1942, 'flap': 1943, 'treat': 1944, 'lars': 1945, 'deliver': 1946, 'moth': 1947, 'class': 1948, 'hugging': 1949, 'jump': 1950, 'closed': 1951, 'towards': 1952, '2nd': 1953, 'lo': 1954, 'pjs': 1955, 'outdoor': 1956, 'rat': 1957, 'drag': 1958, 'pool': 1959, 'limit': 1960, 'lunch': 1961, 'bomber': 1962, 'hippy': 1963, 'colored': 1964, 'stores': 1965, 'products': 1966, 'bulge': 1967, 'socks': 1968, 'confident': 1969, 'terrific': 1970, 'accurately': 1971, 'boo': 1972, 'sport': 1973, 'complain': 1974, 'shapes': 1975, 'collection': 1976, 'undecided': 1977, 'oppose': 1978, 'gown': 1979, 'steam': 1980, 'dull': 1981, '145lbs': 1982, 'wi': 1983, 'strappy': 1984, 'poof': 1985, 'rehearsal': 1986, 'smalls': 1987, 'consistent': 1988, '99': 1989, 'cheaper': 1990, 'prone': 1991, 'misleading': 1992, 'usa': 1993, 'sunday': 1994, 'skeptical': 1995, 'aqua': 1996, 'def': 1997, 'preference': 1998, 'static': 1999, 'clasp': 2000, 'fullness': 2001, 'darn': 2002, 'meadow': 2003, 'maroon': 2004, 'spectacular': 2005, 'undershirt': 2006, 'relaxed': 2007, 'north': 2008, 'bare': 2009, 'equally': 2010, 'notch': 2011, 'dirty': 2012, 'carefully': 2013, 'bird': 2014, 'left': 2015, 'ordinary': 2016, 'shirtdress': 2017, 'maintain': 2018, 'depict': 2019, 'divine': 2020, 'gem': 2021, 'annoy': 2022, 'entirely': 2023, 'wrinkles': 2024, '122': 2025, 'caution': 2026, 'gape': 2027, 'generously': 2028, 'anticipate': 2029, 'overlook': 2030, 'control': 2031, 'above': 2032, 'unfinished': 2033, 'seen': 2034, 'theory': 2035, 'purchasing': 2036, 'workout': 2037, 'h': 2038, 'paper': 2039, 'baggier': 2040, 'city': 2041, 'arrival': 2042, 'chart': 2043, 'cartonnier': 2044, 'colour': 2045, 'south': 2046, '8p': 2047, 'deletta': 2048, 'massive': 2049, 'oversize': 2050, 'hd': 2051, 'face': 2052, 'nurse': 2053, 'develop': 2054, 'tack': 2055, 'whenever': 2056, 'smock': 2057, 'postpartum': 2058, 'exact': 2059, 'buttery': 2060, 'snuggly': 2061, \"6'\": 2062, 'drive': 2063, 'pack': 2064, 'press': 2065, 'launder': 2066, 'boxier': 2067, '32a': 2068, 'other': 2069, 'helped': 2070, 'understate': 2071, 'needless': 2072, 'flexible': 2073, 'vertical': 2074, 'prevent': 2075, 'dowdy': 2076, 'rave': 2077, 'bridal': 2078, 'temps': 2079, 'million': 2080, 'defective': 2081, 'j': 2082, 'hence': 2083, 'bustier': 2084, 'shrinkage': 2085, 'uniform': 2086, 'workmanship': 2087, 'asap': 2088, 'synthetic': 2089, 'nope': 2090, 'anyways': 2091, 'photograph': 2092, 'none': 2093, 'nonetheless': 2094, '112': 2095, 'mp': 2096, 'illusion': 2097, 'pills': 2098, 'impressed': 2099, 'apparent': 2100, 'toward': 2101, 'r': 2102, 'cuffs': 2103, 'deeper': 2104, 'rue': 2105, 'besides': 2106, 'bralette': 2107, 'chino': 2108, 'edges': 2109, 'coverup': 2110, 'cat': 2111, 'talk': 2112, 'angle': 2113, 'character': 2114, 'aside': 2115, 'paris': 2116, 'skort': 2117, 'didnt': 2118, 'seat': 2119, 'important': 2120, '170': 2121, 'consistently': 2122, 'specific': 2123, 'southern': 2124, 'future': 2125, 'effort': 2126, '60': 2127, 'polished': 2128, 'exceed': 2129, 'trick': 2130, 'mango': 2131, 'u': 2132, 'purchases': 2133, \"one's\": 2134, 'spill': 2135, \"let's\": 2136, 'unravel': 2137, 'company': 2138, 'service': 2139, 'personality': 2140, 'clip': 2141, 'test': 2142, 'camouflage': 2143, 'complexion': 2144, 'spots': 2145, 'degree': 2146, 'strangers': 2147, 'inspire': 2148, 'thoughts': 2149, 'apple': 2150, 'girly': 2151, 'muted': 2152, 'ball': 2153, 'potato': 2154, 'comparison': 2155, 'beneath': 2156, 'untucked': 2157, 'differently': 2158, 'forget': 2159, '34ddd': 2160, 'elsewhere': 2161, 'specifically': 2162, 'outstanding': 2163, 'pooch': 2164, '36ddd': 2165, 'trust': 2166, 'ugly': 2167, 'hopeful': 2168, 'weirdly': 2169, 'patch': 2170, 'damage': 2171, 'overpriced': 2172, 'washes': 2173, 'fluffy': 2174, 'makeup': 2175, 'example': 2176, 'precious': 2177, 'directions': 2178, 'remember': 2179, 'tweed': 2180, 'complimentary': 2181, 'yoke': 2182, \"doesn't\": 2183, 'customers': 2184, 'snugly': 2185, 'float': 2186, 'practically': 2187, 'fiber': 2188, '128lbs': 2189, 'represent': 2190, 'convince': 2191, 'exposed': 2192, 'gigantic': 2193, 'goodness': 2194, '44': 2195, 'count': 2196, 'essential': 2197, '34f': 2198, 'necklaces': 2199, 'ironing': 2200, 'visual': 2201, 'tried': 2202, 'straighter': 2203, 'buttondown': 2204, 'aspect': 2205, 'versions': 2206, 'sheerness': 2207, 'lingerie': 2208, 'slacks': 2209, 'boring': 2210, 'restrictive': 2211, 'lend': 2212, 'window': 2213, 'supportive': 2214, 'calves': 2215, 'picky': 2216, 'rose': 2217, 'till': 2218, 'flops': 2219, 'twirl': 2220, 'separate': 2221, 'ca': 2222, 'stet': 2223, 'golden': 2224, 'fav': 2225, 'tha': 2226, 'saggy': 2227, 'reinforce': 2228, 'eat': 2229, 'emerald': 2230, 'ballet': 2231, 'crease': 2232, 'opposite': 2233, 'removable': 2234, 'bed': 2235, 'glass': 2236, 'man': 2237, 'saturate': 2238, 'btw': 2239, 'reservations': 2240, 'tissue': 2241, 'distinctive': 2242, 'tanks': 2243, 'bandeau': 2244, 'park': 2245, 'stunner': 2246, '70s': 2247, 'email': 2248, 'snatch': 2249, 'bubble': 2250, 'shawl': 2251, 'jeggings': 2252, 'pilled': 2253, 'loosen': 2254, 'chesty': 2255, 'nylon': 2256, 'overprice': 2257, 'broader': 2258, 'festive': 2259, 'spin': 2260, 'unattractive': 2261, \"5'8''\": 2262, 'net': 2263, 'saturday': 2264, 'co': 2265, 'obsessed': 2266, 'reasons': 2267, 'waffle': 2268, 'acrylic': 2269, 'covered': 2270, \"5'4''\": 2271, 'circle': 2272, 'gently': 2273, 'oatmeal': 2274, 'blonde': 2275, 'moto': 2276, 'secondly': 2277, 'superb': 2278, 'heathered': 2279, 'honest': 2280, 'teeny': 2281, 'happened': 2282, 'its': 2283, 'trouser': 2284, 'value': 2285, 'clearance': 2286, 'variations': 2287, '11': 2288, '116': 2289, 'unstructured': 2290, 'effortlessly': 2291, 'roomier': 2292, '200': 2293, 'reversible': 2294, 'g': 2295, 'floppy': 2296, 'plastic': 2297, 'environment': 2298, 'reddish': 2299, 'slightest': 2300, 'thanks': 2301, 'bordeaux': 2302, 'washer': 2303, 'viscose': 2304, 'fave': 2305, 'helpful': 2306, 'ground': 2307, \"dind't\": 2308, 'models': 2309, 'hear': 2310, 'fault': 2311, 'henley': 2312, 'stats': 2313, 'required': 2314, 'regualr': 2315, 'brocade': 2316, 'afternoon': 2317, 'breasts': 2318, 'pleasant': 2319, 'update': 2320, 'minimal': 2321, 'stitching': 2322, 'question': 2323, 'fussy': 2324, 'halfway': 2325, 'pastel': 2326, 'dusty': 2327, 'causal': 2328, 'replacement': 2329, 'imagined': 2330, 'palette': 2331, 'goddess': 2332, 'interior': 2333, 'tea': 2334, 'kick': 2335, 'endowed': 2336, 'friendly': 2337, 'topper': 2338, 'profile': 2339, 'content': 2340, 'resemble': 2341, 'honey': 2342, 'anytime': 2343, 'constricting': 2344, 'car': 2345, 'toe': 2346, 'diagonal': 2347, 'costume': 2348, 'suitable': 2349, 'sooooo': 2350, 'jewel': 2351, 'breathtaking': 2352, 'abt': 2353, 'alteration': 2354, 'features': 2355, 'proper': 2356, 'thi': 2357, 'hassle': 2358, 'loved': 2359, 'rub': 2360, 'delightful': 2361, 'indicate': 2362, 'placket': 2363, 'don': 2364, 'bumps': 2365, 'looseness': 2366, 'crops': 2367, 'copper': 2368, 'brainer': 2369, 'biceps': 2370, 'mild': 2371, 'traveling': 2372, 'promotion': 2373, 'tail': 2374, 'stiffer': 2375, \"year's\": 2376, 'pain': 2377, 'apply': 2378, 'creative': 2379, 'pulling': 2380, 'passed': 2381, '127': 2382, 'possibilities': 2383, 'buttoned': 2384, 'wrinkled': 2385, 'restock': 2386, 'salmon': 2387, 'shrunk': 2388, 'ten': 2389, 'thrilled': 2390, 'dislike': 2391, 'child': 2392, 'k': 2393, 'significant': 2394, 'shouldered': 2395, 'harder': 2396, 'quot': 2397, 'web': 2398, 'lover': 2399, 'floaty': 2400, 'detachable': 2401, 'royal': 2402, 'bustline': 2403, 'threads': 2404, 'apparently': 2405, 'pleats': 2406, 'princess': 2407, 'graphic': 2408, '38c': 2409, 'dumpy': 2410, 'embellishment': 2411, 'gym': 2412, 'door': 2413, 'climates': 2414, 'ensure': 2415, 'engagement': 2416, 'phone': 2417, 'criss': 2418, 'indoors': 2419, 'widest': 2420, '95': 2421, 'board': 2422, 'flash': 2423, 'vests': 2424, 'previously': 2425, 'impression': 2426, 'screen': 2427, 'title': 2428, 'mornings': 2429, 'drown': 2430, 'busts': 2431, 'nip': 2432, 'stumble': 2433, 'thats': 2434, 'inconsistent': 2435, 'easter': 2436, 'irl': 2437, 'described': 2438, 'depth': 2439, 'variation': 2440, 'detailed': 2441, 'desired': 2442, 'military': 2443, 'lead': 2444, 'craftsmanship': 2445, 'blazers': 2446, 'floreat': 2447, 'li': 2448, 'greenish': 2449, 'playful': 2450, 'sharp': 2451, 'daytime': 2452, 'capri': 2453, 'spanx': 2454, 'scream': 2455, 'ugh': 2456, \"couldn't\": 2457, 'shut': 2458, 'climate': 2459, 'unnecessary': 2460, 'pinkish': 2461, 'loungewear': 2462, 'pile': 2463, 'tones': 2464, 'muscle': 2465, 'wing': 2466, 'percent': 2467, 'cowboy': 2468, 'hopes': 2469, 'country': 2470, 'underwhelmed': 2471, 'extreme': 2472, 'ruched': 2473, 'has': 2474, 'scheme': 2475, 'sea': 2476, 'glance': 2477, 'clown': 2478, 'layered': 2479, 'anticipated': 2480, 'versitile': 2481, 'holly': 2482, 'july': 2483, 'cart': 2484, 'brownish': 2485, 'pip': 2486, 'panty': 2487, 'cheerful': 2488, 'load': 2489, 'fasten': 2490, 'curious': 2491, 'soften': 2492, 'butter': 2493, 'intrigue': 2494, 'flows': 2495, 'wiggle': 2496, 'suits': 2497, 'braless': 2498, 'platform': 2499, 'heather': 2500, 'laugh': 2501, 'snow': 2502, 'remain': 2503, 'constrict': 2504, 'bet': 2505, 'soo': 2506, 'should': 2507, 'smile': 2508, 'omg': 2509, 'beading': 2510, 'si': 2511, 'additionally': 2512, '107': 2513, 'angel': 2514, 'settle': 2515, 'beat': 2516, 'vanity': 2517, 'built': 2518, 'zipped': 2519, '34g': 2520, 'camel': 2521, 'xspetite': 2522, 'earrings': 2523, 'citizens': 2524, 'bunchy': 2525, 'tightness': 2526, 'retain': 2527, 'attempt': 2528, '18': 2529, 'offered': 2530, 'public': 2531, 'accessorize': 2532, 'accidentally': 2533, 'shipping': 2534, 'charming': 2535, 'fir': 2536, 'o': 2537, 'fuss': 2538, 'accessory': 2539, 'transfer': 2540, 'buckle': 2541, 'mannequin': 2542, 'ref': 2543, 'nowhere': 2544, 'snail': 2545, 'skimpy': 2546, 'fibers': 2547, 'ignore': 2548, \"here's\": 2549, 'position': 2550, 'pilcros': 2551, 'lush': 2552, 'temperatures': 2553, 'cleaning': 2554, 'lastly': 2555, 'scar': 2556, 'underarm': 2557, 'boat': 2558, \"80's\": 2559, 'basics': 2560, 'commented': 2561, 'manner': 2562, 'cable': 2563, 'worthy': 2564, 'ethereal': 2565, 'tho': 2566, 'disguise': 2567, 'fancier': 2568, 'appears': 2569, 'circus': 2570, 'glow': 2571, 'underarms': 2572, 'stalk': 2573, 'pxxs': 2574, 'ruffles': 2575, 'grandma': 2576, 'dont': 2577, 'august': 2578, 'hubby': 2579, '136': 2580, 'fl': 2581, \"isn't\": 2582, 'extend': 2583, 'share': 2584, 'dread': 2585, 'acceptable': 2586, '34aa': 2587, 'mad': 2588, 'richer': 2589, 'attend': 2590, 'exceptional': 2591, 'disaster': 2592, 'excited': 2593, 'bu': 2594, 'border': 2595, 'mediums': 2596, 'affordable': 2597, 'advertised': 2598, 'necessarily': 2599, 'wet': 2600, 'tiered': 2601, 'coordinate': 2602, 'fo': 2603, 'instant': 2604, 'europe': 2605, 'gripe': 2606, 'wld': 2607, 'bleed': 2608, 'contemplate': 2609, 'flatten': 2610, 'images': 2611, 'caveat': 2612, 'useful': 2613, 'blow': 2614, 'suck': 2615, 'drink': 2616, 'dramatic': 2617, 'bias': 2618, 'admire': 2619, 'promise': 2620, 'nautical': 2621, 'legged': 2622, 'striking': 2623, 'canvas': 2624, 'remover': 2625, 'antho': 2626, 'colorway': 2627, 'frilly': 2628, 'summers': 2629, 'widen': 2630, 'messy': 2631, 'contemporary': 2632, 'shrinks': 2633, 'problematic': 2634, 'flounce': 2635, 'tomorrow': 2636, 'kids': 2637, 'carbon': 2638, 'sandal': 2639, 'ddd': 2640, 'trapeze': 2641, '100lbs': 2642, 'weighty': 2643, 'placed': 2644, '25p': 2645, 'albeit': 2646, 'bargain': 2647, 'slub': 2648, '150lbs': 2649, 'yikes': 2650, 'antro': 2651, 'occasionally': 2652, 'advise': 2653, 'inset': 2654, 'wa': 2655, 'partially': 2656, 'sewn': 2657, 'feels': 2658, 'tacky': 2659, 'buying': 2660, 'macrame': 2661, 'elongate': 2662, 'brilliant': 2663, 'substance': 2664, 'teh': 2665, 'kelly': 2666, 'thanksgiving': 2667, 'act': 2668, 'detergent': 2669, '126': 2670, '103': 2671, '6ft': 2672, 'tangerine': 2673, 'insanely': 2674, 'after': 2675, 'needs': 2676, 'un': 2677, 'opportunity': 2678, 'category': 2679, 'sa': 2680, 'graduation': 2681, 'satin': 2682, 'fleck': 2683, 'figured': 2684, 'geometric': 2685, 'st': 2686, '123': 2687, 'par': 2688, 'victorian': 2689, 'proportions': 2690, 'skip': 2691, 'dainty': 2692, 'grayish': 2693, 'sound': 2694, 'dog': 2695, 'common': 2696, 'lazy': 2697, \"60's\": 2698, 'such': 2699, 'shear': 2700, 'heaven': 2701, 'unforgiving': 2702, 'until': 2703, 'distract': 2704, 'forth': 2705, 'annoying': 2706, 'droop': 2707, 'improve': 2708, 'te': 2709, 'lengths': 2710, 'serve': 2711, 'dimension': 2712, 'cleaned': 2713, 'differences': 2714, 'cups': 2715, 'opening': 2716, 'yeah': 2717, 'unzip': 2718, 'breath': 2719, 'intense': 2720, 'bizarre': 2721, 'triangle': 2722, 'condition': 2723, 'hawaii': 2724, 'rate': 2725, \"woman's\": 2726, 'bits': 2727, \"husband's\": 2728, 'femininity': 2729, 'jut': 2730, 'crush': 2731, 'parties': 2732, 'modal': 2733, 'hangs': 2734, 'dressed': 2735, 'magical': 2736, 'conceal': 2737, 'contrary': 2738, 'directly': 2739, 'fluid': 2740, 'score': 2741, 'modesty': 2742, 'welcome': 2743, 'garden': 2744, 'esp': 2745, 'feelings': 2746, 'damaged': 2747, 'fortunately': 2748, \"mother's\": 2749, 'flowey': 2750, 'reg': 2751, 'butterfly': 2752, 'priced': 2753, 'coh': 2754, 'ice': 2755, 'criticism': 2756, 'belted': 2757, 'slate': 2758, 'wife': 2759, 'tailoring': 2760, '134': 2761, 'essentially': 2762, 'importantly': 2763, 'ribcage': 2764, 'mood': 2765, 'rainy': 2766, 'reasonable': 2767, 'shopper': 2768, 'achieve': 2769, 'chests': 2770, 'largest': 2771, 'serious': 2772, 'basket': 2773, 'affect': 2774, 'explain': 2775, 'wonky': 2776, 'compel': 2777, 'youthful': 2778, 'noticed': 2779, 'when': 2780, 'ribs': 2781, 'smidge': 2782, 'bathroom': 2783, 'location': 2784, 'italy': 2785, 'kimonos': 2786, 'shrug': 2787, 'snugger': 2788, 'lik': 2789, 'random': 2790, 'lounging': 2791, 'muumuu': 2792, 'snags': 2793, 'heck': 2794, 'keeping': 2795, 'indigo': 2796, '130lb': 2797, 'setting': 2798, 'grind': 2799, 'salesperson': 2800, 'brush': 2801, 'cleaner': 2802, 'region': 2803, '155lbs': 2804, 'decorative': 2805, 'coupon': 2806, 'uniquely': 2807, '119': 2808, 'marled': 2809, 'reservation': 2810, 'metal': 2811, 'lg': 2812, 'dried': 2813, 'force': 2814, 'european': 2815, 'quarter': 2816, 'coats': 2817, 'endless': 2818, 'who': 2819, 'theme': 2820, 'sassy': 2821, 'found': 2822, 'thinking': 2823, 'tumble': 2824, 'crew': 2825, 'going': 2826, 'rush': 2827, 'book': 2828, 'exposure': 2829, 'folks': 2830, '142': 2831, 'inappropriate': 2832, 'bailey': 2833, 'irritate': 2834, 'sticky': 2835, 'shots': 2836, 'fuzz': 2837, 'toned': 2838, 'wo': 2839, 'subtly': 2840, 'fixed': 2841, 'comments': 2842, 'cargo': 2843, 'freeze': 2844, 'charlie': 2845, '114': 2846, 'thumb': 2847, '30d': 2848, 'shortness': 2849, 'paint': 2850, 'mismatch': 2851, 'poofed': 2852, 'coloring': 2853, 'attire': 2854, 'bear': 2855, 'crepe': 2856, 'crooked': 2857, 'artsy': 2858, 'buyer': 2859, \"reviewer's\": 2860, 'mislead': 2861, \"daughter's\": 2862, 'execute': 2863, 'stevies': 2864, 'invisible': 2865, 'racerback': 2866, 'brighten': 2867, 'ability': 2868, 'narrower': 2869, 'missing': 2870, 'saturated': 2871, 'appealing': 2872, 'curl': 2873, 'pump': 2874, 'approx': 2875, 'poofs': 2876, 'hidden': 2877, 'west': 2878, 'defeat': 2879, 'deter': 2880, 'droopy': 2881, 'combinations': 2882, 'heavenly': 2883, 'lookout': 2884, 'safe': 2885, 'market': 2886, 'eve': 2887, 'satisfy': 2888, 'moo': 2889, 'excessive': 2890, 'rejoice': 2891, 'french': 2892, '3rd': 2893, 'row': 2894, 'pinch': 2895, 'shortened': 2896, 'college': 2897, 'moulinette': 2898, 'regularly': 2899, 'parts': 2900, 'coarse': 2901, 'beadwork': 2902, '10p': 2903, 'tape': 2904, 'heal': 2905, 'flouncy': 2906, 'align': 2907, '42': 2908, 'tug': 2909, 'surely': 2910, '4th': 2911, 'exclusive': 2912, 'poke': 2913, 'translate': 2914, 'shapely': 2915, 'endow': 2916, 'flairs': 2917, 'summertime': 2918, 'minimize': 2919, 'measurement': 2920, 'gravitate': 2921, \"i've\": 2922, 'sign': 2923, 'dollars': 2924, 'pineapple': 2925, 'rounder': 2926, 'ages': 2927, 'upset': 2928, 'poplin': 2929, 'skinnys': 2930, 'sunny': 2931, 'treasure': 2932, 'artistic': 2933, 'versitle': 2934, 'mislabeled': 2935, 'pouch': 2936, 'lengthen': 2937, 'standards': 2938, 'vertically': 2939, 'stretched': 2940, '27p': 2941, 'faded': 2942, 'virtually': 2943, 'men': 2944, 'squish': 2945, 'downsize': 2946, '123lbs': 2947, 'eliminate': 2948, 'haha': 2949, 'exceptionally': 2950, 'element': 2951, 'bluish': 2952, 'bleach': 2953, 'sand': 2954, 'eh': 2955, 'sleepwear': 2956, 'doesnt': 2957, 'forearm': 2958, 'sh': 2959, 'suggestion': 2960, 'makes': 2961, 'pit': 2962, 'adjustment': 2963, 'expand': 2964, 'periwinkle': 2965, 'simplicity': 2966, 'desire': 2967, 'warning': 2968, 'answer': 2969, 'pj': 2970, 'hippie': 2971, 'rigid': 2972, 'id': 2973, 'reduce': 2974, 'durability': 2975, 'intentional': 2976, 'fox': 2977, 'rain': 2978, 'chemical': 2979, 'tip': 2980, 'overalls': 2981, 'rating': 2982, 'pricy': 2983, 'been': 2984, 'prefect': 2985, 'partum': 2986, 'springy': 2987, 'bat': 2988, 'poppy': 2989, 'baseball': 2990, 'game': 2991, 'article': 2992, 'frustrate': 2993, 'turtle': 2994, 'active': 2995, 'aka': 2996, 'textile': 2997, 'fluttery': 2998, 'caftan': 2999, 'downfall': 3000, 'undone': 3001, 'quilt': 3002, 'noticeably': 3003, 'beads': 3004, 'shy': 3005, '32g': 3006, 'contribute': 3007, 'glam': 3008, 'seems': 3009, 'sundress': 3010, 'falls': 3011, 'handy': 3012, 'loops': 3013, 'flight': 3014, 'meaning': 3015, 'advantage': 3016, 'initial': 3017, 'dare': 3018, 'greatest': 3019, 'lapels': 3020, 'navel': 3021, 'scarves': 3022, '1st': 3023, '102': 3024, 'jogger': 3025, \"5'5''\": 3026, 'collect': 3027, 'elasticized': 3028, 'angles': 3029, 'truth': 3030, 'gotta': 3031, 'instagram': 3032, 'fee': 3033, 'alright': 3034, 'sporty': 3035, 'happily': 3036, 'impulse': 3037, 'chocolate': 3038, 'breeze': 3039, '80s': 3040, '98': 3041, 'underwire': 3042, 'blousey': 3043, 'scrunch': 3044, 'slinky': 3045, '40s': 3046, 'gonna': 3047, 'tint': 3048, 'prove': 3049, 'bug': 3050, 'daily': 3051, 'those': 3052, 'dig': 3053, 'sitting': 3054, 'embellishments': 3055, 'alot': 3056, \"40's\": 3057, 'asymmetric': 3058, 'dissapointed': 3059, 'va': 3060, \"50's\": 3061, 'nyc': 3062, 'ponchos': 3063, 'computer': 3064, \"5'6''\": 3065, 'babydoll': 3066, 'graceful': 3067, 'designers': 3068, 'patchwork': 3069, 'popular': 3070, 'teach': 3071, 'learn': 3072, '113': 3073, \"women's\": 3074, 'winters': 3075, 'bar': 3076, 'ski': 3077, 'contain': 3078, 'october': 3079, 'versus': 3080, 'anyhow': 3081, 'tube': 3082, 'uncomfortably': 3083, 'terry': 3084, 'bland': 3085, 'moderate': 3086, 'ensemble': 3087, 'present': 3088, 'bo': 3089, 'brick': 3090, 'success': 3091, 'drapes': 3092, 'drying': 3093, 'muddy': 3094, 'purse': 3095, 'dr': 3096, 'aesthetically': 3097, 'situation': 3098, 'reluctantly': 3099, 'covet': 3100, 'larges': 3101, 'pilco': 3102, 'complements': 3103, 'sash': 3104, 'htey': 3105, 'eva': 3106, 'ripped': 3107, 'whimsy': 3108, 'video': 3109, 'bothersome': 3110, 'disproportionate': 3111, 'eyes': 3112, 'adequate': 3113, 'western': 3114, 'dinners': 3115, 'yo': 3116, '105lbs': 3117, 'afford': 3118, '132': 3119, 'process': 3120, 'unexpectedly': 3121, 'september': 3122, 'suddenly': 3123, 'solution': 3124, 'anniversary': 3125, 'proportionate': 3126, 'ruined': 3127, 'gaping': 3128, 'employee': 3129, 'restrict': 3130, '165': 3131, 'impeccable': 3132, '32ddd': 3133, 'picnic': 3134, 'backorder': 3135, 'ribbons': 3136, \"who's\": 3137, 'cheery': 3138, 'heartbroken': 3139, 'granted': 3140, 'falttering': 3141, 'boys': 3142, 'surpass': 3143, '160lbs': 3144, 'paisley': 3145, 'proportional': 3146, 'pom': 3147, 'depending': 3148, 'killer': 3149, '106': 3150, 'into': 3151, 'upside': 3152, 'mara': 3153, 'hoffman': 3154, 'shine': 3155, 'luxe': 3156, 'heft': 3157, 'admittedly': 3158, 'sigh': 3159, 'tied': 3160, 'cobalt': 3161, 'glamorous': 3162, 'symmetrical': 3163, 'monitor': 3164, 'flared': 3165, 'mod': 3166, 'stink': 3167, 'dangle': 3168, 'ties': 3169, 'football': 3170, 'select': 3171, 'snaps': 3172, 'outings': 3173, 'sacrifice': 3174, 'impractical': 3175, 'mexico': 3176, 'determine': 3177, 'cranberry': 3178, 'berry': 3179, 'hands': 3180, 'were': 3181, 'raglan': 3182, 'table': 3183, 'itchiness': 3184, 'majority': 3185, 'espadrilles': 3186, '50s': 3187, 'elevenses': 3188, 'benefit': 3189, 'serif': 3190, 'encourage': 3191, 'underlay': 3192, 'orangey': 3193, 'naturally': 3194, 'sweatshirts': 3195, 'bough': 3196, 'laundry': 3197, \"5'2''\": 3198, 'watercolor': 3199, 'hav': 3200, 'repeat': 3201, 'animal': 3202, 'warned': 3203, 'drapery': 3204, 'showstopper': 3205, 'cal': 3206, 'offset': 3207, 'daughters': 3208, 'release': 3209, 'mask': 3210, 'fabulously': 3211, 'frequently': 3212, 'skimming': 3213, 'beachy': 3214, 'deceiving': 3215, 'violet': 3216, 'undergarment': 3217, 'department': 3218, 'draping': 3219, 'midriff': 3220, 'wasted': 3221, 'exaggerate': 3222, 'cuddly': 3223, 'cocoon': 3224, 'stil': 3225, 'preppy': 3226, 'tucked': 3227, 'depicts': 3228, 'warrant': 3229, 'hundred': 3230, 'flesh': 3231, 'bracelet': 3232, 'ah': 3233, 'tinge': 3234, 'spray': 3235, 'outerwear': 3236, 'retailers': 3237, 'death': 3238, '5ft2in': 3239, 'street': 3240, 'girlfriend': 3241, 'forest': 3242, 'creamy': 3243, 'bless': 3244, 'comically': 3245, 'army': 3246, '124': 3247, 'where': 3248, 'ness': 3249, 'maxis': 3250, 'stopper': 3251, 'standout': 3252, 'stiffness': 3253, 'by': 3254, 'highest': 3255, 'hesitation': 3256, 'lightly': 3257, 'immediate': 3258, 'handkerchief': 3259, 'wee': 3260, 'claim': 3261, 'coast': 3262, 'frames': 3263, 'equivalent': 3264, 'zippers': 3265, 'lil': 3266, 'whoa': 3267, 'glittery': 3268, 'based': 3269, 'flatering': 3270, 'poms': 3271, 'turtlenecks': 3272, 'partly': 3273, \"4'\": 3274, 'degrees': 3275, 'technically': 3276, 'fe': 3277, 'flowly': 3278, 'heartbeat': 3279, 'burnout': 3280, 'buyers': 3281, 'portland': 3282, 'flexibility': 3283, '58': 3284, 'pm': 3285, 'differ': 3286, 'concert': 3287, \"5'7'\": 3288, 'gauge': 3289, '30s': 3290, 'says': 3291, 'torsos': 3292, 'craft': 3293, 'hideous': 3294, 'dear': 3295, 'hey': 3296, 'akemi': 3297, 'uncertain': 3298, 'seasonal': 3299, 'nubby': 3300, 'june': 3301, \"wasn't\": 3302, 'shopping': 3303, 'approach': 3304, 'fa': 3305, 'scene': 3306, 'chevron': 3307, 'promptly': 3308, '24p': 3309, 'niece': 3310, 'heavily': 3311, 'rinse': 3312, 'sections': 3313, 'indian': 3314, 'elbows': 3315, 'movie': 3316, 'teen': 3317, \"5'3'\": 3318, 'signature': 3319, 'ahve': 3320, 'how': 3321, 'pumps': 3322, 'phenomenal': 3323, 'itching': 3324, '70': 3325, '120lb': 3326, 'bod': 3327, 'partial': 3328, 'crossed': 3329, 'surprising': 3330, 'defiantly': 3331, 'protrude': 3332, '55': 3333, 'fading': 3334, 'running': 3335, \"5'1''\": 3336, 'words': 3337, \"5'7''\": 3338, 'draped': 3339, 'wit': 3340, 'sweatercoat': 3341, 'switch': 3342, 'flashy': 3343, 'universally': 3344, '41': 3345, 'reverse': 3346, 'swimsuits': 3347, 'complementary': 3348, '36a': 3349, 'unbuttoned': 3350, 'yuck': 3351, 'punch': 3352, '104': 3353, 'pleasure': 3354, 'ot': 3355, 'foam': 3356, 'prompt': 3357, 'unraveled': 3358, 'crumple': 3359, 'buck': 3360, 'didn': 3361, 'luxury': 3362, 'cheeky': 3363, 'dingy': 3364, 'esque': 3365, '109lbs': 3366, 'laser': 3367, 'an': 3368, 'rolled': 3369, 'sausage': 3370, 'tencel': 3371, 'executed': 3372, 'tab': 3373, 'gorgeously': 3374, 'errand': 3375, 'goal': 3376, 'expectation': 3377, 'attitude': 3378, 'cuz': 3379, 'crown': 3380, 'trigger': 3381, '138lbs': 3382, 'attached': 3383, 'versa': 3384, 'news': 3385, 'unhappy': 3386, 'fake': 3387, 'wings': 3388, 'houston': 3389, 'subdue': 3390, 'judge': 3391, 'deserve': 3392, 'coolest': 3393, 'diamond': 3394, 'twill': 3395, 'favors': 3396, 'staff': 3397, 'catalogue': 3398, 'shedding': 3399, 'cascade': 3400, 'happens': 3401, 'coffee': 3402, 'compensate': 3403, 'unbelievably': 3404, 'potentially': 3405, 'stress': 3406, 'lapel': 3407, 'land': 3408, 'outline': 3409, 'demin': 3410, 'panties': 3411, 'overdress': 3412, 'page': 3413, 'soeurs': 3414, 'immodest': 3415, 'plush': 3416, 'ar': 3417, 'petitie': 3418, 'carpet': 3419, \"4'11\": 3420, 'petit': 3421, 'snagged': 3422, 'shorty': 3423, 'bagginess': 3424, 'touches': 3425, 'final': 3426, 'rea': 3427, 'cowlneck': 3428, 'sheds': 3429, 'overpower': 3430, 'approximately': 3431, 'detract': 3432, 'racer': 3433, 'disappear': 3434, '80': 3435, '137': 3436, 'elements': 3437, 'frustrating': 3438, 'comical': 3439, 'direction': 3440, 'sick': 3441, 'graze': 3442, 'magic': 3443, 'tennis': 3444, 'jacquard': 3445, 'antrho': 3446, 'maintenance': 3447, 'attending': 3448, 'flares': 3449, 'destroy': 3450, 'broke': 3451, 'flawed': 3452, \"pj's\": 3453, 'browse': 3454, 'neoprene': 3455, '160lb': 3456, 'designs': 3457, 'envision': 3458, 'sherpa': 3459, 'moving': 3460, 'kill': 3461, 'smart': 3462, 'seamless': 3463, 'backwards': 3464, 'wave': 3465, 'reminiscent': 3466, 'refine': 3467, '45': 3468, 'mindful': 3469, 'lost': 3470, 'recommendation': 3471, 'bathrobe': 3472, 'neon': 3473, 'patter': 3474, 'wil': 3475, 'fairy': 3476, '43': 3477, 'australian': 3478, 'thoroughly': 3479, 'scratch': 3480, 'receipt': 3481, 'practice': 3482, 'stature': 3483, 'tendency': 3484, 'qualities': 3485, 'bows': 3486, 'patiently': 3487, 'prob': 3488, 'fluctuate': 3489, 'plane': 3490, 'withstand': 3491, 'lattice': 3492, 'horses': 3493, 'ribbed': 3494, 'gingham': 3495, 'windowpane': 3496, 'code': 3497, 'franco': 3498, 'crook': 3499, 'realistic': 3500, 'fight': 3501, 'safety': 3502, 'bosom': 3503, 'clever': 3504, 'sold': 3505, 'max': 3506, 'rouching': 3507, 'dancing': 3508, 'derriere': 3509, 'enter': 3510, 'zoom': 3511, 'peplums': 3512, 'crossover': 3513, 'hello': 3514, 'exclusively': 3515, 'unwanted': 3516, 'int': 3517, 'coming': 3518, 'loo': 3519, 'maker': 3520, 'curtain': 3521, 'triangles': 3522, 'satisfied': 3523, 'streamline': 3524, 'wearings': 3525, 'al': 3526, 'kin': 3527, 'ups': 3528, 'stretches': 3529, 'yummy': 3530, 'fridays': 3531, 'toss': 3532, 'countless': 3533, '36g': 3534, 'constant': 3535, 'gladly': 3536, 'rusty': 3537, 'suggests': 3538, 'confortable': 3539, 'somebody': 3540, 'inspired': 3541, 'hems': 3542, 'aspects': 3543, 'accents': 3544, 'pet': 3545, 'leftover': 3546, 'washings': 3547, 'hoping': 3548, 'lacey': 3549, 'handful': 3550, 'joke': 3551, 'hospital': 3552, 'sexiness': 3553, 'waaay': 3554, 'questionable': 3555, 'irregular': 3556, 'repair': 3557, 'spite': 3558, 'prettiest': 3559, '3x': 3560, 'siz': 3561, 'saying': 3562, 'fingers': 3563, 'tree': 3564, 'functionality': 3565, 'rocks': 3566, 'report': 3567, 'jammies': 3568, 'focus': 3569, 'distance': 3570, 'cottony': 3571, 'untie': 3572, 'stud': 3573, 'flawless': 3574, 'slouch': 3575, 'imho': 3576, 'sagging': 3577, \"friend's\": 3578, 'rule': 3579, 'express': 3580, '20s': 3581, 'conform': 3582, 'supple': 3583, 'student': 3584, 'yourself': 3585, 'motion': 3586, 'pleasing': 3587, 'restaurant': 3588, 'confidence': 3589, 'blues': 3590, 'closures': 3591, 'mold': 3592, '60s': 3593, '37ish': 3594, 'stylists': 3595, 'ad': 3596, 'budget': 3597, 'player': 3598, 'informal': 3599, 'transparency': 3600, 'shall': 3601, 'shinier': 3602, 'abstract': 3603, 'swimwear': 3604, 'invert': 3605, 'recall': 3606, \"30's\": 3607, 'settings': 3608, 'manufacturer': 3609, 'nicest': 3610, 'masculine': 3611, 'workplace': 3612, 'cruise': 3613, 'hike': 3614, 'reconsider': 3615, 'fool': 3616, 'steep': 3617, 'opinions': 3618, 'chill': 3619, 'tax': 3620, 'di': 3621, 'hits': 3622, 'pearl': 3623, 'potatoes': 3624, 'nowadays': 3625, 'bootie': 3626, 'stash': 3627, 'isnt': 3628, 'advertise': 3629, 'vice': 3630, 'eyelets': 3631, 'son': 3632, 'compromise': 3633, 'considerably': 3634, 'tasteful': 3635, '12p': 3636, 'crinkle': 3637, 'stretching': 3638, 'shipped': 3639, 'delicious': 3640, 'favor': 3641, 'crowd': 3642, 'suggested': 3643, 'rope': 3644, 'pops': 3645, 'whereas': 3646, 'san': 3647, 'lovers': 3648, 'everybody': 3649, 'padding': 3650, \"'s\": 3651, 'ladylike': 3652, 'paid': 3653, 'inexpensive': 3654, 'lemon': 3655, 'mohair': 3656, 'ive': 3657, 'lifestyle': 3658, 'loss': 3659, 'sweep': 3660, 'tigh': 3661, 'further': 3662, 'combos': 3663, 'flatters': 3664, 'grateful': 3665, 'appliquã©': 3666, 'purposes': 3667, '23': 3668, 'cheapen': 3669, 'pointelle': 3670, 'peep': 3671, \"child's\": 3672, 'overlap': 3673, 'means': 3674, 'carefree': 3675, 'individual': 3676, 'hung': 3677, \"men's\": 3678, 'jumpers': 3679, 'sometime': 3680, 'transform': 3681, 'spaghetti': 3682, 'borderline': 3683, 'ratio': 3684, 'maid': 3685, 'luv': 3686, '127lbs': 3687, 'shearling': 3688, 'galore': 3689, 'ginormous': 3690, 'drawstrings': 3691, 'bodysuit': 3692, 'mature': 3693, 'aline': 3694, 'grocery': 3695, 'merino': 3696, 'suitcase': 3697, 'unrolled': 3698, 'dust': 3699, 'club': 3700, 'walking': 3701, 'repurchase': 3702, 'accident': 3703, 'torn': 3704, 'odor': 3705, 'firm': 3706, 'purplish': 3707, 'feather': 3708, 'natori': 3709, 'crimson': 3710, 'steamer': 3711, 'exotic': 3712, 'substitute': 3713, 'fabrication': 3714, 'supima': 3715, 'camo': 3716, 'peak': 3717, 'frankly': 3718, 'poufy': 3719, 'defect': 3720, 'road': 3721, 'fortunate': 3722, 'garish': 3723, 'upgrade': 3724, 'lumpy': 3725, 'hemming': 3726, 'east': 3727, 'flatteringly': 3728, 'sheet': 3729, 'produce': 3730, 'showed': 3731, 'card': 3732, 'china': 3733, 'glitter': 3734, 'decently': 3735, 'wh': 3736, 'branch': 3737, 'umbrella': 3738, 'bodies': 3739, 'translucent': 3740, 'kidding': 3741, 'surprises': 3742, 'swtr': 3743, 'pe': 3744, 'uber': 3745, 'bulges': 3746, 'cautious': 3747, \"'\": 3748, 'sapphire': 3749, 'florals': 3750, '103lbs': 3751, 'included': 3752, 'bounce': 3753, 'firstly': 3754, 'hunter': 3755, 'exist': 3756, 'steel': 3757, 'embroidered': 3758, 'weak': 3759, 'buttonhole': 3760, 'epitome': 3761, 'trunk': 3762, 'shortest': 3763, 'ponte': 3764, 'hover': 3765, 'frayed': 3766, 'apron': 3767, 'pa': 3768, '26p': 3769, \"valentine's\": 3770, 'undertones': 3771, 'anticipation': 3772, 'embarrass': 3773, 'peacock': 3774, 'â': 3775, 'skinnier': 3776, 'boxiness': 3777, 'december': 3778, 'cure': 3779, 'belong': 3780, 'adequately': 3781, 'delicately': 3782, 'miles': 3783, 'straighten': 3784, '2015': 3785, 'matte': 3786, 'magenta': 3787, \"they're\": 3788, 'htem': 3789, 'micro': 3790, 'unusually': 3791, '180': 3792, 'trash': 3793, 'birds': 3794, 'leery': 3795, \"anyone's\": 3796, 'moms': 3797, 'came': 3798, 'soooooo': 3799, 'adjustments': 3800, 'bermuda': 3801, 'lycra': 3802, 'hefty': 3803, 'leaner': 3804, 'fluke': 3805, 'feedback': 3806, 'laundering': 3807, 'mixture': 3808, 'sparrow': 3809, 'reluctant': 3810, '28p': 3811, 'framed': 3812, \"t's\": 3813, 'beauties': 3814, 'elasticity': 3815, 'cornflower': 3816, 'blocking': 3817, 'downsides': 3818, 'shake': 3819, '170lbs': 3820, 'mall': 3821, 'lacework': 3822, 'sleeping': 3823, 'bulkier': 3824, 'tapestry': 3825, 'yellowy': 3826, 'loyal': 3827, 'dish': 3828, 'palazzo': 3829, '1960s': 3830, 'evenly': 3831, 'jackpot': 3832, 'boned': 3833, 'stranger': 3834, 'htis': 3835, 'museum': 3836, 'unraveling': 3837, 'rely': 3838, 'soak': 3839, 'po': 3840, '68': 3841, 'member': 3842, 'shout': 3843, 'anxious': 3844, 'proportioned': 3845, 'pointy': 3846, 'darts': 3847, 'norm': 3848, 'fi': 3849, '175': 3850, 'majorly': 3851, 'palm': 3852, '48': 3853, 'reunion': 3854, 'sunshine': 3855, 'undies': 3856, 'coloration': 3857, 'prairie': 3858, 'mis': 3859, 'invest': 3860, 'sooner': 3861, 'roller': 3862, 'trap': 3863, 'getting': 3864, 'delivered': 3865, 'trimester': 3866, 'voila': 3867, 'instance': 3868, 'khakis': 3869, 'mixed': 3870, 'occasional': 3871, 'stretchiness': 3872, 'snuggle': 3873, 'herself': 3874, 'converse': 3875, 'desperately': 3876, 'linebacker': 3877, 'boucle': 3878, 'confused': 3879, 'dres': 3880, 'upscale': 3881, 'mar': 3882, 'tolerable': 3883, 'period': 3884, 'tr': 3885, 'downhill': 3886, 'graphics': 3887, 'deeply': 3888, 'truthfully': 3889, 'mailbox': 3890, 'professor': 3891, '102lbs': 3892, '28s': 3893, 'qu': 3894, 'cleaners': 3895, '148': 3896, 'definately': 3897, '21': 3898, 'reds': 3899, 'sing': 3900, 'velvety': 3901, 'premium': 3902, 'god': 3903, 'shoppers': 3904, 'wea': 3905, 'quote': 3906, 'representation': 3907, 'ceremony': 3908, 'duty': 3909, 'dead': 3910, 'gear': 3911, 'discomfort': 3912, 'faulty': 3913, 'leaf': 3914, 'swish': 3915, 'mo': 3916, \"sister's\": 3917, 'camis': 3918, 'gaudy': 3919, 'oops': 3920, 'recommendations': 3921, 'similarly': 3922, 'solids': 3923, 'animals': 3924, 'tiers': 3925, 'interview': 3926, 'ecru': 3927, 'tonight': 3928, 'social': 3929, 'wont': 3930, \"stevie's\": 3931, 'braid': 3932, 'lab': 3933, 'dive': 3934, 'appropriately': 3935, 'territory': 3936, 'irritating': 3937, 'sip': 3938, 'sanctuary': 3939, 'hurry': 3940, 'bride': 3941, 'boyish': 3942, 'imperfect': 3943, 'undertone': 3944, 'speckle': 3945, 'wire': 3946, 'holy': 3947, 'southeast': 3948, 'limp': 3949, \"sweater's\": 3950, 'interestingly': 3951, 'unroll': 3952, 'protect': 3953, 'garments': 3954, '112lbs': 3955, 'ended': 3956, \"3'\": 3957, 'roses': 3958, 'pronounced': 3959, 'ombre': 3960, 'joy': 3961, 'discourage': 3962, 'throwback': 3963, 'seconds': 3964, 'northern': 3965, \"5'5'\": 3966, 'vent': 3967, 'ombrã©': 3968, 'everytime': 3969, 'descriptions': 3970, 'involve': 3971, 'bind': 3972, 'guest': 3973, 'survive': 3974, 'selection': 3975, 'peeve': 3976, 'cutesy': 3977, 'swap': 3978, 'curvey': 3979, 'object': 3980, 'verdict': 3981, 'sum': 3982, 'preserve': 3983, \"5'9''\": 3984, 'dozen': 3985, 'hardest': 3986, 'rag': 3987, 'bucks': 3988, 'portray': 3989, 'motifs': 3990, 'stable': 3991, 'loud': 3992, 'smallish': 3993, 'delivery': 3994, 'refund': 3995, 'pastels': 3996, 'deceive': 3997, 'unable': 3998, 'marrakech': 3999, 'excessively': 4000, 'sweetheart': 4001, 'burlap': 4002, 'disappoints': 4003, 'pirate': 4004, '107lbs': 4005, 'pose': 4006, 'favs': 4007, 'stack': 4008, 'eight': 4009, 'heights': 4010, 'widely': 4011, 'wavy': 4012, '140lb': 4013, 'rail': 4014, 'underwhelming': 4015, 'puppy': 4016, 'seemingly': 4017, 'sleev': 4018, \"pilcro's\": 4019, 'children': 4020, 'coz': 4021, 'sage': 4022, 'stellar': 4023, 'assets': 4024, 'complicated': 4025, 'culotte': 4026, 'multitude': 4027, 'media': 4028, 'faint': 4029, 'grommets': 4030, '32f': 4031, \"'em\": 4032, 'tapered': 4033, 'leisure': 4034, 'doable': 4035, 'pix': 4036, 'runner': 4037, 'zone': 4038, 'instincts': 4039, 'convert': 4040, 'grease': 4041, 'working': 4042, 'brightness': 4043, 'comparable': 4044, 'wrinkling': 4045, '38d': 4046, 'access': 4047, 'antique': 4048, 'refer': 4049, 'yr': 4050, 'ms': 4051, '78': 4052, 'swiss': 4053, 'comf': 4054, 'cuffed': 4055, 'tla': 4056, 'strain': 4057, 'wallet': 4058, 'pilates': 4059, 'gamble': 4060, 'clog': 4061, 'de': 4062, 'positives': 4063, 'workable': 4064, 'information': 4065, 'em': 4066, 'hunch': 4067, 'frills': 4068, 'abundance': 4069, 'guy': 4070, 'quest': 4071, 'cherry': 4072, 'superior': 4073, 'shabby': 4074, 'socal': 4075, 'greatly': 4076, 'cargos': 4077, 'studio': 4078, 'neutrals': 4079, 'colorways': 4080, 'understated': 4081, 'dramatically': 4082, 'yep': 4083, 'showy': 4084, 'wore': 4085, 'muscles': 4086, 'emerson': 4087, 'insert': 4088, 'ticket': 4089, 'mi': 4090, 'choices': 4091, 'stride': 4092, \"fit's\": 4093, 'recieved': 4094, 'pleating': 4095, 'cheek': 4096, 'junk': 4097, 'jade': 4098, 'gala': 4099, 'centered': 4100, 'manufacture': 4101, 'conversation': 4102, 'rumple': 4103, 'offices': 4104, 'sweats': 4105, 'boost': 4106, 'grace': 4107, 'reflect': 4108, 'poster': 4109, 'wayyy': 4110, \"season's\": 4111, 'outs': 4112, 'cake': 4113, 'cancer': 4114, 'account': 4115, 'corner': 4116, 'minus': 4117, 'availability': 4118, 'wearability': 4119, 'tush': 4120, 'polo': 4121, 'kitten': 4122, 'evident': 4123, 'increase': 4124, 'balck': 4125, \"'red'\": 4126, 'counts': 4127, 'alittle': 4128, '117lbs': 4129, 'couture': 4130, 'lucked': 4131, 'abdomen': 4132, 'couldnt': 4133, 'equal': 4134, 'difficulty': 4135, 'audrey': 4136, 'apprehensive': 4137, 'windy': 4138, 'shelf': 4139, 'splash': 4140, 'activities': 4141, 'shin': 4142, 'restroom': 4143, 'giddy': 4144, 'stuffy': 4145, 'representative': 4146, 'outweigh': 4147, \"summer's\": 4148, 'loser': 4149, 'ags': 4150, 'vacations': 4151, 'twin': 4152, 'apt': 4153, 'lyocell': 4154, 'natured': 4155, 'tankini': 4156, 'knows': 4157, 'unnatural': 4158, 'batch': 4159, 'dc': 4160, 'security': 4161, 'vee': 4162, 'safely': 4163, 'oop': 4164, 'worlds': 4165, '124lbs': 4166, 'cloths': 4167, 'substantially': 4168, 'caribbean': 4169, 'tastefully': 4170, 'addict': 4171, 'cloud': 4172, '146': 4173, '38dd': 4174, 'rarity': 4175, '116lbs': 4176, '22': 4177, 'ends': 4178, 'dimple': 4179, 'girlie': 4180, 'ac': 4181, 'scrubs': 4182, 'silicone': 4183, 'shrinking': 4184, 'dilemma': 4185, 'borrow': 4186, 'story': 4187, 'craftmanship': 4188, 'pizzazz': 4189, 'silvery': 4190, 'jazz': 4191, 'easiest': 4192, 'loungers': 4193, 'runway': 4194, 'spirit': 4195, 'impressive': 4196, 'england': 4197, 'farm': 4198, 'incorporate': 4199, \"charlie's\": 4200, 'grid': 4201, '32h': 4202, 'reaction': 4203, 'se': 4204, 'frock': 4205, 'impact': 4206, 'crinkly': 4207, 'holds': 4208, 'continuous': 4209, 'bee': 4210, 'posture': 4211, 'dismay': 4212, 'internet': 4213, 'detach': 4214, 'scissors': 4215, 'guys': 4216, 'thong': 4217, 'guarantee': 4218, 'speck': 4219, 'appreciated': 4220, 'inbetween': 4221, 'splotchy': 4222, 'cats': 4223, 'randomly': 4224, \"others'\": 4225, 'ne': 4226, \"i'd\": 4227, 'babies': 4228, '300': 4229, 'derby': 4230, 'failure': 4231, 'dollar': 4232, 'purely': 4233, 'enlarge': 4234, 'blond': 4235, 'any': 4236, 'colorfast': 4237, 'rules': 4238, 'marshmallow': 4239, 'risky': 4240, 'tearing': 4241, 'intent': 4242, 'carissima': 4243, 'likes': 4244, 'envisioned': 4245, 'pan': 4246, 'hooray': 4247, \"son's\": 4248, 'grip': 4249, 'rougher': 4250, 'painful': 4251, 'clerk': 4252, 'affair': 4253, 'starters': 4254, 'heads': 4255, 'backordered': 4256, 'capsule': 4257, 'nightmare': 4258, 'anorak': 4259, 'mossy': 4260, '56': 4261, 'garnet': 4262, 'maillot': 4263, 'including': 4264, 'northeast': 4265, 'birkenstocks': 4266, 'appliquã©s': 4267, 'worthwhile': 4268, 'pizazz': 4269, 'moveable': 4270, 'rosie': 4271, 'neira': 4272, 'minnesota': 4273, 'tartan': 4274, 'sandles': 4275, 'mumu': 4276, 'boston': 4277, 'relationship': 4278, 'champagne': 4279, 'toddler': 4280, 'smudge': 4281, 'slant': 4282, 'downs': 4283, 'await': 4284, '29s': 4285, 'closest': 4286, 'breastfeeding': 4287, 'broaden': 4288, 'burst': 4289, 'leggins': 4290, 'slash': 4291, 'spice': 4292, 'pds': 4293, 'hanging': 4294, 'pity': 4295, 'caveats': 4296, 'err': 4297, 'hues': 4298, 'fraying': 4299, 'mama': 4300, 'request': 4301, 'doing': 4302, 'drool': 4303, 'untied': 4304, 'mass': 4305, 'cognac': 4306, 'thr': 4307, 'map': 4308, 'utility': 4309, 'stray': 4310, 'nevertheless': 4311, \"i'll\": 4312, 'coppery': 4313, 'airport': 4314, 'comfiest': 4315, 'luxuriously': 4316, 'arrows': 4317, 'glide': 4318, 'mr': 4319, 'wild': 4320, \"everyone's\": 4321, 'positively': 4322, 'xmas': 4323, 'heals': 4324, 'wrote': 4325, 'waists': 4326, 'gaps': 4327, 'ideas': 4328, 'fraction': 4329, 'towel': 4330, 'integrity': 4331, 'fabri': 4332, 'indicates': 4333, 'changed': 4334, 'ove': 4335, 'mileage': 4336, \"5'3ish\": 4337, 'purchas': 4338, 'nightie': 4339, 'toy': 4340, 'wasit': 4341, 'seafolly': 4342, 'bedtime': 4343, 'embrace': 4344, 'mottle': 4345, 'yucky': 4346, 'celebration': 4347, 'needle': 4348, 'snake': 4349, 'roominess': 4350, 'obnoxious': 4351, 'linings': 4352, 'wrestle': 4353, \"5'9'\": 4354, 'swishy': 4355, 'underslip': 4356, 'br': 4357, 'popsicles': 4358, 'remotely': 4359, 'platforms': 4360, '49': 4361, 'humanity': 4362, \"5'3''\": 4363, 'shipment': 4364, '150lb': 4365, 'leap': 4366, 'bomb': 4367, 'painting': 4368, 'workers': 4369, 'longest': 4370, '95lbs': 4371, 'existent': 4372, 'leggy': 4373, 'vinegar': 4374, 'atlanta': 4375, 'bullet': 4376, 'his': 4377, 'novelty': 4378, 'study': 4379, 'track': 4380, 'rifle': 4381, 'flowiness': 4382, 'chicago': 4383, 'pendant': 4384, 'lar': 4385, 'trying': 4386, 'blossom': 4387, '135lb': 4388, 'belts': 4389, 'fish': 4390, 'cocktails': 4391, 'organic': 4392, 'grecian': 4393, 'madly': 4394, 'francisco': 4395, 'massively': 4396, 'diff': 4397, 'happening': 4398, 'arrives': 4399, 'regrettably': 4400, 'sufficient': 4401, 'ahd': 4402, 'nut': 4403, 'miami': 4404, 'ranna': 4405, 'checked': 4406, 'cuteness': 4407, 'slips': 4408, 'criteria': 4409, 'dressing': 4410, 'crack': 4411, 'april': 4412, 'island': 4413, 'chase': 4414, 'invite': 4415, 'derriã¨re': 4416, 'faster': 4417, 'production': 4418, 'unattractively': 4419, 'proportionally': 4420, 'pilly': 4421, 'tropical': 4422, 'bling': 4423, 'barefoot': 4424, 'outdoors': 4425, 'info': 4426, 'regulars': 4427, 'tulip': 4428, 'stiching': 4429, '51': 4430, 'earthy': 4431, 'critique': 4432, 'herringbone': 4433, 'glorious': 4434, 'laces': 4435, 'kangaroo': 4436, 'urge': 4437, 'sublime': 4438, 'mater': 4439, 'binding': 4440, 'strategically': 4441, 'sorbet': 4442, 'packaging': 4443, 'intention': 4444, \"manufacturer's\": 4445, 'reserve': 4446, 'address': 4447, '145lb': 4448, 'wherever': 4449, 'unflatteringly': 4450, 'tiniest': 4451, 'custom': 4452, 'mu': 4453, \"7'\": 4454, 'crave': 4455, 'given': 4456, 'stained': 4457, 'straw': 4458, 'desert': 4459, 'ecstatic': 4460, 'meaty': 4461, 'each': 4462, 'brunette': 4463, 'primary': 4464, 'battle': 4465, 'waaaaay': 4466, 'recognize': 4467, 'fluff': 4468, 'comfrotable': 4469, 'colros': 4470, 'basis': 4471, 'dozens': 4472, 'menswear': 4473, \"top's\": 4474, 'asymmetry': 4475, 'drama': 4476, 'lanky': 4477, 'styled': 4478, 'individuals': 4479, 'factory': 4480, 'grandmother': 4481, 'chair': 4482, 'mountain': 4483, 'contact': 4484, \"maeve's\": 4485, 'ada': 4486, '97': 4487, 'retail': 4488, 'strongly': 4489, 'seattle': 4490, '125lb': 4491, 'ripple': 4492, 'rep': 4493, 'kate': 4494, 'thou': 4495, 'fourth': 4496, 'lola': 4497, 'encounter': 4498, 'femine': 4499, 'tutu': 4500, 'fire': 4501, 'trusty': 4502, 'dad': 4503, 'alley': 4504, 'sewing': 4505, 'feast': 4506, 'baily': 4507, 'successfully': 4508, 'inappropriately': 4509, 'girlfriends': 4510, 'minimum': 4511, 'power': 4512, 'heed': 4513, 'furry': 4514, 'thickish': 4515, 'seek': 4516, 'human': 4517, 'squat': 4518, 'scroll': 4519, 'gatherings': 4520, 'log': 4521, 'nylons': 4522, 'pouf': 4523, 'handwash': 4524, 'peel': 4525, 'cleverly': 4526, 'cry': 4527, 'bi': 4528, 'boatneck': 4529, 'lipstick': 4530, 'hides': 4531, 'praise': 4532, 'mommy': 4533, 'ons': 4534, 'apparel': 4535, 'percentage': 4536, 'wou': 4537, 'doesn': 4538, 'snowy': 4539, 'corset': 4540, '133': 4541, 'evanthe': 4542, 'role': 4543, '0petite': 4544, 'useless': 4545, 'lesson': 4546, 'slenderize': 4547, 'nine': 4548, 'umbrellas': 4549, 'lifetime': 4550, \"fabric's\": 4551, 'vans': 4552, 'softly': 4553, 'perspective': 4554, 'substantive': 4555, 'clogs': 4556, 'pulls': 4557, 'states': 4558, 'assure': 4559, '19': 4560, 'tuxedo': 4561, 'understatement': 4562, 'reasonably': 4563, 'heaviness': 4564, 'squash': 4565, 'apricot': 4566, 'tegan': 4567, 'presentation': 4568, 'shimmy': 4569, 'tattoo': 4570, 'disturb': 4571, 'halloween': 4572, '143': 4573, 'latter': 4574, \"brother's\": 4575, 'distinct': 4576, 'disintegrate': 4577, 'theres': 4578, 'lasts': 4579, 'sacklike': 4580, 'buttoning': 4581, 'splotch': 4582, 'becasue': 4583, 'ego': 4584, 'tolerate': 4585, 'physique': 4586, 'charge': 4587, 'honor': 4588, 'stamp': 4589, 'situations': 4590, 'mazing': 4591, 'lime': 4592, 'creep': 4593, 'steer': 4594, 'sequence': 4595, 'lovelier': 4596, 'fairisle': 4597, 'limbs': 4598, 'moderately': 4599, 'weightless': 4600, 'underlayer': 4601, 'misshapen': 4602, 'eclectic': 4603, 'altogether': 4604, 'steaming': 4605, 'honolulu': 4606, 'und': 4607, 'couch': 4608, 'join': 4609, 'possibility': 4610, 'laid': 4611, 'removed': 4612, '185': 4613, 'printed': 4614, 'ch': 4615, 'guide': 4616, 'wasnt': 4617, 'doubtful': 4618, 've': 4619, 'mih': 4620, 'aesthetics': 4621, 'train': 4622, 'parachute': 4623, 'longish': 4624, 'drawbacks': 4625, 'hepburn': 4626, 'basketweave': 4627, 'rendition': 4628, '90s': 4629, '158': 4630, 'distressed': 4631, 'striping': 4632, 'pu': 4633, 'sl': 4634, 'wispy': 4635, 'choke': 4636, 'circulation': 4637, 'gracefully': 4638, 'earth': 4639, 'longevity': 4640, 'stumpy': 4641, 'unimpressed': 4642, 'hill': 4643, 'sequin': 4644, 'laughable': 4645, 'female': 4646, 'eggplant': 4647, 'lights': 4648, 'choking': 4649, 'wowed': 4650, 'piling': 4651, \"levi's\": 4652, 'pl': 4653, 'gill': 4654, 'sotre': 4655, 'ver': 4656, 'upholstery': 4657, 'italian': 4658, 'horrify': 4659, 'surround': 4660, 'swimming': 4661, 'refreshing': 4662, 'bundle': 4663, 'structural': 4664, 'll': 4665, 'hack': 4666, 'rediculously': 4667, 'wais': 4668, 'lumps': 4669, 'creme': 4670, 'overweight': 4671, '128lb': 4672, 'contortionist': 4673, 'dang': 4674, 'prices': 4675, 'beg': 4676, 'spicy': 4677, 'anther': 4678, 'insecurities': 4679, 'walked': 4680, 'insist': 4681, 'journey': 4682, 'getaway': 4683, 'proof': 4684, 'practicality': 4685, 'alternate': 4686, 'pads': 4687, 'cupro': 4688, 'blotchy': 4689, 'circumference': 4690, 'moon': 4691, 'lake': 4692, 'timely': 4693, 'isabella': 4694, 'sinclair': 4695, 'petal': 4696, 'experiment': 4697, 'goofy': 4698, 'trimmer': 4699, 'haute': 4700, 'saucy': 4701, 'fiance': 4702, 'raised': 4703, '36h': 4704, 'unsightly': 4705, 'rolls': 4706, 'credit': 4707, 'relation': 4708, 'bac': 4709, 'utilitarian': 4710, 'laughed': 4711, 'barrel': 4712, 'footwear': 4713, \"someone's\": 4714, 'employees': 4715, 'bus': 4716, 'tacked': 4717, 'bulkiness': 4718, 'exaggeration': 4719, 'roughly': 4720, 'stunningly': 4721, '88': 4722, 'wooden': 4723, 'chemicals': 4724, 'strangest': 4725, 'strictly': 4726, \"28's\": 4727, 'waiting': 4728, 'midnight': 4729, 'lokka': 4730, 'unavailable': 4731, 'ed': 4732, 'gosh': 4733, 'truer': 4734, 'tiger': 4735, 'edgier': 4736, 'awfully': 4737, 'reccomend': 4738, 'cinched': 4739, 'cas': 4740, \"time's\": 4741, 'seasonless': 4742, 'garner': 4743, \"xl's\": 4744, 'respect': 4745, 'perennial': 4746, 'knits': 4747, 'boxes': 4748, 'childish': 4749, 'exterior': 4750, 'than': 4751, 'q': 4752, 'mile': 4753, 'overnight': 4754, 'woolite': 4755, 'hurt': 4756, 'varies': 4757, '144': 4758, \"2''\": 4759, '27s': 4760, 'pefect': 4761, 'kentucky': 4762, 'rosettes': 4763, 'middl': 4764, 'inconvenience': 4765, 'bay': 4766, 'eek': 4767, 'mullet': 4768, 'tinier': 4769, 'meeting': 4770, 'prett': 4771, 'spread': 4772, 'frustration': 4773, 'primarily': 4774, 'faves': 4775, 'bbq': 4776, 'ab': 4777, 'popover': 4778, 'deny': 4779, 'clinging': 4780, 'maximize': 4781, 'temperature': 4782, 'juvenile': 4783, 'echo': 4784, '146lbs': 4785, \"5'4'\": 4786, 'magnificent': 4787, 'inaccurate': 4788, \"'v'\": 4789, 'numbers': 4790, 'posterior': 4791, 'professionally': 4792, 'arrange': 4793, 'uses': 4794, 'action': 4795, 'concerns': 4796, 'sweatpants': 4797, 'skew': 4798, 'kicks': 4799, 'biggie': 4800, 'donate': 4801, 'depicted': 4802, 'cumbersome': 4803, 'markdown': 4804, 'proceed': 4805, '57': 4806, 'matches': 4807, 'pinstripe': 4808, 'ran': 4809, 'rent': 4810, 'skier': 4811, 'playground': 4812, 'glamour': 4813, 'flapper': 4814, 'ia': 4815, 'grad': 4816, 'covering': 4817, 'orderd': 4818, '118lbs': 4819, 'mockneck': 4820, 'postcard': 4821, 'method': 4822, 'whic': 4823, 'functions': 4824, 'streak': 4825, 'unevenly': 4826, 'versital': 4827, 'flag': 4828, 'identical': 4829, 'deceptive': 4830, 'drip': 4831, 'ge': 4832, 'target': 4833, 'tags': 4834, 'bralettes': 4835, 'fasteners': 4836, 'clutch': 4837, 'visually': 4838, 'replenish': 4839, 'neatly': 4840, 'feminie': 4841, 'points': 4842, 'tablecloth': 4843, 'lightness': 4844, 'xtra': 4845, 'torsoed': 4846, 'collarbone': 4847, 'manufactured': 4848, 'mentioning': 4849, 'slippery': 4850, 'scratchiness': 4851, 'opened': 4852, '30e': 4853, 'mobility': 4854, 'embody': 4855, 'bloat': 4856, 'beforehand': 4857, 'clings': 4858, '113lbs': 4859, 'onesie': 4860, 'wri': 4861, 'willowy': 4862, 'swear': 4863, 'camera': 4864, 'candy': 4865, 'extras': 4866, 'creation': 4867, 'clipdot': 4868, 'residual': 4869, 'sweetest': 4870, 'swell': 4871, 'crisscross': 4872, 'volumous': 4873, 'classics': 4874, '17': 4875, 'award': 4876, 'chuckle': 4877, 'triple': 4878, \"'4\": 4879, 'dancer': 4880, 'oth': 4881, 'awe': 4882, 'pie': 4883, 'chanel': 4884, '2016': 4885, 'tame': 4886, 'roar': 4887, 'cusp': 4888, 'statuesque': 4889, 'sateen': 4890, 'arrivals': 4891, 'readjust': 4892, 'provided': 4893, 'nap': 4894, 'sans': 4895, 'pilazzo': 4896, 'delightfully': 4897, 'food': 4898, 'tweaking': 4899, 'als': 4900, 'tx': 4901, 'fist': 4902, \"don'\": 4903, 'narrowest': 4904, 'quibble': 4905, 'mend': 4906, 'cellophane': 4907, 'avail': 4908, 'crushed': 4909, 'span': 4910, 'john': 4911, \"dress'\": 4912, 'poofing': 4913, 'ehhh': 4914, 'rocket': 4915, 'repaired': 4916, 'ply': 4917, 'cheesecloth': 4918, 'fond': 4919, 'starch': 4920, 'challenged': 4921, 'paradise': 4922, 'breasted': 4923, 'longtime': 4924, 'purposely': 4925, 'finishings': 4926, 'woven': 4927, 'emergency': 4928, 'outward': 4929, 'oomph': 4930, 'making': 4931, 'hybrid': 4932, 'bun': 4933, 'decade': 4934, 'race': 4935, 'thankful': 4936, 'complexions': 4937, 'checker': 4938, 'swea': 4939, 'quintessential': 4940, '10lbs': 4941, 'puzzle': 4942, 'sticks': 4943, 'sailor': 4944, 'shadow': 4945, 'protection': 4946, 'guilty': 4947, 'owe': 4948, 'seea': 4949, 'minimalist': 4950, 'sienna': 4951, 'finely': 4952, 'gathering': 4953, 'having': 4954, 'underlie': 4955, 'compliant': 4956, 'sisters': 4957, '38b': 4958, 'variable': 4959, 'starkly': 4960, 'rocker': 4961, 'law': 4962, 'camisoles': 4963, 'unwieldy': 4964, 'error': 4965, 'fatal': 4966, 'alaska': 4967, 'immensely': 4968, 'stuck': 4969, 'horrendous': 4970, 'vey': 4971, 'changes': 4972, 'diet': 4973, 'depiction': 4974, 'moreover': 4975, 'sultry': 4976, 'richly': 4977, 'renaissance': 4978, 'assess': 4979, 'yup': 4980, 'dept': 4981, 'innocent': 4982, 'smite': 4983, 'isn': 4984, 'sti': 4985, \"jean's\": 4986, 'bid': 4987, \"skinny's\": 4988, 'incorrectly': 4989, 'coziness': 4990, 'lengthwise': 4991, 'puffiness': 4992, 'keen': 4993, 'upsize': 4994, 'london': 4995, 'embellish': 4996, 'agreed': 4997, 'transport': 4998, '110lb': 4999, 'sophistication': 5000, '0r': 5001, 'midwest': 5002, 'flirt': 5003, 'folds': 5004, 'ii': 5005, 'slice': 5006, 'strawberry': 5007, '147': 5008, 'gladiator': 5009, 'wayyyy': 5010, 'negatives': 5011, 'allison': 5012, 'circa': 5013, 'actuality': 5014, 'orleans': 5015, 'snapped': 5016, 'scratchier': 5017, \"wouldn't\": 5018, 'blk': 5019, 'counter': 5020, 'afterward': 5021, 'seldom': 5022, 'teenage': 5023, 'nape': 5024, 'postmark': 5025, 'bolero': 5026, 'hipsters': 5027, 'pilcrow': 5028, \"shirt's\": 5029, 'slow': 5030, 'wearin': 5031, 'diameter': 5032, 'yogis': 5033, 'fare': 5034, 'horrid': 5035, 'opportunities': 5036, 'puffer': 5037, 'sequined': 5038, '1920s': 5039, 'maaji': 5040, \"32d's\": 5041, 'dominate': 5042, 'contour': 5043, 'sneak': 5044, 'cafe': 5045, 'saleswoman': 5046, 'students': 5047, 'paired': 5048, 'seaside': 5049, 'record': 5050, 'channel': 5051, 'column': 5052, 'refuse': 5053, \"weren't\": 5054, 'gaucho': 5055, '4ft': 5056, 'amadi': 5057, 'conditioning': 5058, 'mes': 5059, 'feared': 5060, 'solo': 5061, 'alexandria': 5062, 'jog': 5063, 'xxsmall': 5064, 'misrepresent': 5065, 'gr': 5066, 'refresh': 5067, '129lbs': 5068, 'hoop': 5069, 'cupcake': 5070, 'hipped': 5071, 'iridescent': 5072, 'doily': 5073, \"1940's\": 5074, 'cowboys': 5075, 'successful': 5076, 'authentic': 5077, 'wearer': 5078, 'keds': 5079, 'nursing': 5080, 'excitement': 5081, 'whisper': 5082, 'consistency': 5083, 'sideways': 5084, 'catcher': 5085, 'carries': 5086, 'kn': 5087, 'georgeous': 5088, 'among': 5089, 'compression': 5090, \"5'8'\": 5091, 'sle': 5092, 'overpowering': 5093, 'wraps': 5094, 'matching': 5095, 'intact': 5096, 'zigzag': 5097, \"'s'\": 5098, 'sculpt': 5099, 'neath': 5100, 'comb': 5101, 'anti': 5102, 'accessorized': 5103, \"6'2\": 5104, \"5'6'\": 5105, 'finished': 5106, 'ink': 5107, 'bday': 5108, 'fro': 5109, 'fingertips': 5110, 'twenty': 5111, 'spruce': 5112, 'delicacy': 5113, 'thinnish': 5114, 'mona': 5115, 'giving': 5116, 'bridesmaids': 5117, 'miracle': 5118, 'quirk': 5119, 'deliciously': 5120, 'utterly': 5121, 'butterflies': 5122, 'rob': 5123, 'angled': 5124, \"today's\": 5125, 'whi': 5126, 'swamp': 5127, 'source': 5128, 'elegantly': 5129, 'murky': 5130, 'wake': 5131, 'liquid': 5132, 'midweight': 5133, 'ironed': 5134, 'velcro': 5135, \"1970's\": 5136, 'adds': 5137, 'luncheon': 5138, 'str': 5139, 'rotate': 5140, 'alike': 5141, 'hotel': 5142, 'uncuff': 5143, 'powder': 5144, 'prominent': 5145, 'pi': 5146, 'discreet': 5147, 'restricted': 5148, 'shee': 5149, 'eager': 5150, 'funnel': 5151, 'patten': 5152, 'striations': 5153, 'connect': 5154, 'caramel': 5155, '28dd': 5156, \"won't\": 5157, 'message': 5158, 'barre': 5159, 'artist': 5160, 'hotter': 5161, 'detect': 5162, 'motorcycle': 5163, 'subpar': 5164, \"grandma's\": 5165, 'gut': 5166, 'dirt': 5167, 'unzipped': 5168, 'swimmer': 5169, 'patience': 5170, '66': 5171, 'whiskering': 5172, 'multicolor': 5173, 'ans': 5174, 'interfere': 5175, 'kinds': 5176, 'distribution': 5177, 'adjusted': 5178, 'ratty': 5179, 'chose': 5180, 'throu': 5181, 'genius': 5182, 'stronger': 5183, 'steps': 5184, 'notes': 5185, 'former': 5186, 'cents': 5187, 'intended': 5188, 'shapewear': 5189, \"mom's\": 5190, 'modify': 5191, 'ruffly': 5192, 'dropped': 5193, 'backyard': 5194, 'classical': 5195, 'internship': 5196, 'group': 5197, 'cuts': 5198, 'nearby': 5199, 'defin': 5200, '5in': 5201, 'laura': 5202, 'sites': 5203, 'woul': 5204, \"maxi's\": 5205, 'textiles': 5206, 'seersucker': 5207, 'stoke': 5208, 'diaper': 5209, 'colorado': 5210, 'unshapely': 5211, 'incorrect': 5212, 'irish': 5213, 'exacerbate': 5214, 'irresistible': 5215, 'farrah': 5216, 'defined': 5217, 'treatment': 5218, 'nipple': 5219, 'wants': 5220, 'dubious': 5221, 'activewear': 5222, 'nto': 5223, 'infinity': 5224, 'wouldnt': 5225, 'afterwards': 5226, 'unfamiliar': 5227, 'hose': 5228, 'sturdier': 5229, 'drinks': 5230, '111': 5231, 'challenging': 5232, 'thinnest': 5233, \"27's\": 5234, 'hardware': 5235, 'accept': 5236, 'dime': 5237, 'asia': 5238, 'brass': 5239, 'whisker': 5240, 'physically': 5241, 'nail': 5242, 'forewarned': 5243, 'da': 5244, 'stroll': 5245, 'adjusting': 5246, 'appliquã©d': 5247, 'deceptively': 5248, 'coworker': 5249, 'expense': 5250, \"girl's\": 5251, 'gladiators': 5252, 'thinness': 5253, 'cancel': 5254, 'coul': 5255, 'eyelash': 5256, 'discolor': 5257, \"it'\": 5258, 'york': 5259, 'voluptuous': 5260, 'whitish': 5261, 'cave': 5262, 'recover': 5263, 'saddle': 5264, 'inadequate': 5265, 'tier': 5266, 'spectrum': 5267, 'offerings': 5268, 'nighty': 5269, 'myriad': 5270, 'tolerance': 5271, 'fussing': 5272, 'bank': 5273, 'bot': 5274, 'batwing': 5275, 'satiny': 5276, 'petticoat': 5277, 'dresse': 5278, 'nipples': 5279, 'assumption': 5280, 'survivor': 5281, 'sided': 5282, 'beloved': 5283, 'breathes': 5284, 'corners': 5285, 'remarkable': 5286, 'op': 5287, 'le': 5288, 'freely': 5289, 'tw': 5290, 'tickle': 5291, 'stones': 5292, 'confess': 5293, 'pulled': 5294, 'adult': 5295, 'tentlike': 5296, 'sorta': 5297, 'wedgie': 5298, 'wishlist': 5299, 'preferred': 5300, 'ochre': 5301, 'solely': 5302, 'amd': 5303, 'hype': 5304, 'waver': 5305, 'distracting': 5306, 'chartreuse': 5307, 'um': 5308, 'called': 5309, 'nad': 5310, 'pea': 5311, 'mildly': 5312, \"31's\": 5313, 'boyfriends': 5314, 'stark': 5315, 'periods': 5316, 'shirtdresses': 5317, 'shoul': 5318, 'lenght': 5319, 'automatically': 5320, 'chunk': 5321, 'imply': 5322, 'swings': 5323, 'forgiveness': 5324, 'embroiding': 5325, 'burnt': 5326, 'slouchier': 5327, 'redeem': 5328, 'trade': 5329, 'gun': 5330, 'com': 5331, 'seater': 5332, \"reviewers'\": 5333, 'convertible': 5334, 'sway': 5335, '13': 5336, 'poodle': 5337, 'pillowcase': 5338, 'gradually': 5339, 'gathered': 5340, 'rump': 5341, 'lengthy': 5342, 'created': 5343, 'reminds': 5344, 'moves': 5345, 'distort': 5346, 'masterpiece': 5347, 'diaphanous': 5348, 'pro': 5349, 'redhead': 5350, 'xls': 5351, 'scale': 5352, 'largely': 5353, 'hollywood': 5354, 'cheekier': 5355, 'waves': 5356, \"artist's\": 5357, 'striped': 5358, \"8's\": 5359, 'blades': 5360, 'delicates': 5361, 'reviewed': 5362, 'oompa': 5363, 'loompa': 5364, 'epaulets': 5365, 'yank': 5366, 'cedar': 5367, 'ludicrous': 5368, 'kneecap': 5369, 'upbeat': 5370, 'pleated': 5371, 'hoxton': 5372, 'desperate': 5373, 'upright': 5374, 'midst': 5375, 'kudos': 5376, 'miraculously': 5377, 'amalfi': 5378, 'verify': 5379, 'deodorant': 5380, 'squishy': 5381, 'heeled': 5382, 'er': 5383, 'grade': 5384, 'stains': 5385, 'weekly': 5386, 'flab': 5387, 'bodycon': 5388, 'simplistic': 5389, 'seamlessly': 5390, 'charlies': 5391, 'airplanes': 5392, 'we': 5393, 'imagination': 5394, 'posted': 5395, 'convenient': 5396, 'paquerette': 5397, 'funeral': 5398, 'dallas': 5399, 'snd': 5400, 'summary': 5401, 'relative': 5402, \"'swing'\": 5403, 'optional': 5404, 'tomato': 5405, 'accordingly': 5406, '2s': 5407, 'salesgirl': 5408, 'applique': 5409, \"lot's\": 5410, 'grunge': 5411, 'skorts': 5412, 'sundry': 5413, 'gallery': 5414, 'emboss': 5415, 'british': 5416, 'sparkles': 5417, 'citizen': 5418, \"4''\": 5419, 'skintight': 5420, 'uk': 5421, 'amterial': 5422, \"dress's\": 5423, 'offering': 5424, 'comfotable': 5425, 'updated': 5426, 'humongous': 5427, '75': 5428, 'freezing': 5429, 'sticker': 5430, 'obscene': 5431, 'knew': 5432, 'downward': 5433, 'lampshade': 5434, 'tickled': 5435, 'splendid': 5436, 'coworkers': 5437, 'accidental': 5438, 'rustic': 5439, 'regrets': 5440, 'perky': 5441, 'chubby': 5442, 'wallpaper': 5443, 'prima': 5444, 'bam': 5445, 'cosy': 5446, 'shir': 5447, 'lavendar': 5448, 'mocha': 5449, 'ke': 5450, 'thoughtfully': 5451, 'queen': 5452, 'tremendously': 5453, 'suffer': 5454, 'remark': 5455, 'hall': 5456, 'becuase': 5457, 'spunk': 5458, 'som': 5459, 'cash': 5460, 'pronounce': 5461, 'ocean': 5462, 'sunglasses': 5463, 'knitwear': 5464, 'snip': 5465, 'belle': 5466, \"day's\": 5467, 'lucious': 5468, 'your': 5469, 'pen': 5470, 'jiggle': 5471, 'yield': 5472, 'sleepy': 5473, 'petitte': 5474, 'siyu': 5475, 'choker': 5476, 'guessed': 5477, 'clients': 5478, 'lumberjack': 5479, 'supremely': 5480, 'meal': 5481, 'othewise': 5482, 'anatomy': 5483, 'duper': 5484, 'woods': 5485, 'waaaay': 5486, 'trashy': 5487, 'becau': 5488, 'spotlight': 5489, 'peekaboo': 5490, 'blight': 5491, 'strangle': 5492, 'uncover': 5493, 'aren': 5494, 'utter': 5495, '36aa': 5496, 'requirement': 5497, 'gripper': 5498, 'sensitivity': 5499, 'briefly': 5500, 'spy': 5501, 'inseams': 5502, 'reader': 5503, 'standing': 5504, 'network': 5505, 'fans': 5506, 'odering': 5507, 'stump': 5508, 'pinks': 5509, 'caved': 5510, 'proba': 5511, 'unclear': 5512, 'loafers': 5513, 'zig': 5514, 'zag': 5515, \"'t\": 5516, 'desi': 5517, 'buxom': 5518, 'crosswrap': 5519, 'cease': 5520, 'reported': 5521, 'openwork': 5522, 'inventory': 5523, 'unnecessarily': 5524, 'stroke': 5525, 'relish': 5526, 'staples': 5527, 'stag': 5528, 'paranoid': 5529, \"jacket's\": 5530, 'origami': 5531, 'marroon': 5532, 'allusion': 5533, 'crusty': 5534, 'moisture': 5535, 'merchandise': 5536, 'dawn': 5537, 'volumes': 5538, 'eastern': 5539, 'tile': 5540, 'memory': 5541, 'marilyn': 5542, 'boyshort': 5543, 'synch': 5544, 'focal': 5545, 'war': 5546, 'inbox': 5547, 'bells': 5548, 'history': 5549, 'cahrm': 5550, 'letter': 5551, 'letters': 5552, 'festival': 5553, 'lon': 5554, 'lighten': 5555, 'svelte': 5556, 'preface': 5557, 'sassiness': 5558, 'tangle': 5559, 'disastrous': 5560, 'springtime': 5561, 'ranch': 5562, 'pregnancies': 5563, 'newport': 5564, 'beautify': 5565, 'sf': 5566, 'p6': 5567, 'ripping': 5568, 'sisterhood': 5569, \"5'1'\": 5570, 'spent': 5571, \"wasn'\": 5572, 'ahoy': 5573, 'january': 5574, 'thereby': 5575, 'bein': 5576, 'reckon': 5577, 'relaxing': 5578, 'ruler': 5579, '175lbs': 5580, 'bainbridge': 5581, 'grays': 5582, 'comforable': 5583, 'girth': 5584, 'reminder': 5585, 'team': 5586, 'attendant': 5587, 'reliable': 5588, 'tra': 5589, 'suprisingly': 5590, 'lays': 5591, 'fanatic': 5592, 'patches': 5593, 'miniature': 5594, 'cartoon': 5595, 'mos': 5596, 'revert': 5597, 'fal': 5598, 'filmy': 5599, 'saleswomen': 5600, 'trainers': 5601, 'blu': 5602, 'imaginable': 5603, 'project': 5604, 'predominant': 5605, 'levels': 5606, 'mellow': 5607, 'sie': 5608, 'gross': 5609, 'pliable': 5610, \"'runs\": 5611, 'commission': 5612, 'dobby': 5613, 'staticky': 5614, 'discrepancy': 5615, \"pullover's\": 5616, 'pilcos': 5617, 'slenderizing': 5618, 'rugged': 5619, 'colorblocked': 5620, '36e': 5621, '2x': 5622, 'finest': 5623, 'ditto': 5624, 'constrictive': 5625, 'hahaha': 5626, 'nd': 5627, 'loke': 5628, 'being': 5629, 'lin': 5630, 'skiers': 5631, 'slop': 5632, 'exceptions': 5633, 'exude': 5634, '20th': 5635, 'musical': 5636, 'theatre': 5637, 'pearls': 5638, 'polkadots': 5639, 'professorial': 5640, 'flatte': 5641, 'abroad': 5642, 'falling': 5643, 'forming': 5644, 'broach': 5645, 'disservice': 5646, 'flock': 5647, 'poofiness': 5648, 'bouncy': 5649, 'holders': 5650, 'overnighted': 5651, 'reflection': 5652, 'femme': 5653, \"3''\": 5654, 'plasticy': 5655, 'bumpy': 5656, 'sweetly': 5657, 'nod': 5658, 'swinging': 5659, 'smoothly': 5660, 'contrasting': 5661, 'forwar': 5662, 'jimmy': 5663, 'brisk': 5664, 'debated': 5665, 'devastate': 5666, 'ethnic': 5667, 'evoke': 5668, 'lifesaver': 5669, \"1950's\": 5670, 'peter': 5671, 'scissor': 5672, 'whoever': 5673, 'kansas': 5674, 'builds': 5675, 'survey': 5676, 'stitched': 5677, 'translation': 5678, 'washability': 5679, 'classier': 5680, 'jet': 5681, 'dense': 5682, 'scandalous': 5683, 'pas': 5684, 'beautifu': 5685, 'leeway': 5686, 'diminish': 5687, 'catchy': 5688, 'bea': 5689, 'togethers': 5690, \"material's\": 5691, 'coldest': 5692, 'whilst': 5693, 'mountains': 5694, 'sole': 5695, 'twisted': 5696, 'landscape': 5697, 'ny': 5698, 'mins': 5699, 'cell': 5700, 'marguerite': 5701, 'balk': 5702, 'saleslady': 5703, 'stat': 5704, 'mermaid': 5705, 'geranium': 5706, 'rectangle': 5707, 'colours': 5708, 'compliements': 5709, 'hrs': 5710, 'innovative': 5711, 'milky': 5712, '114lbs': 5713, 'overtake': 5714, 'flabby': 5715, 'claw': 5716, 'strand': 5717, 'sunlight': 5718, '109': 5719, 'tu': 5720, 'midway': 5721, 'replaced': 5722, 'sty': 5723, 'yacht': 5724, 'taylored': 5725, 'locations': 5726, 'manette': 5727, \"collector's\": 5728, 'bf': 5729, 'outrageously': 5730, 'ohio': 5731, 'loft': 5732, 'jegging': 5733, 'brooklyn': 5734, 'riff': 5735, 'limitations': 5736, 'rectangular': 5737, 'moot': 5738, 'ewww': 5739, 'hurts': 5740, 'confine': 5741, 'experienced': 5742, 'digit': 5743, 'community': 5744, 'netting': 5745, 'boyleg': 5746, 'field': 5747, 'spetite': 5748, 'mmmmm': 5749, 'roder': 5750, 'cutaway': 5751, 'asking': 5752, 'crosses': 5753, 'prim': 5754, \"haven't\": 5755, 'chin': 5756, 'housewife': 5757, 'marked': 5758, 'frosty': 5759, 'doe': 5760, 'taupey': 5761, 'lithe': 5762, \"to'\": 5763, 'boobies': 5764, 'scout': 5765, 'materiel': 5766, 'charity': 5767, '32e': 5768, 'reinforced': 5769, 'unruly': 5770, 'inviting': 5771, 'iphone': 5772, 'deterrent': 5773, '148lbs': 5774, '168': 5775, 'cow': 5776, 'supply': 5777, 'against': 5778, 'inconsistently': 5779, '36dds': 5780, 'cares': 5781, 'protrusion': 5782, 'arty': 5783, 'shocker': 5784, 'bec': 5785, 'gorgeus': 5786, 'pane': 5787, 'decorations': 5788, 'sake': 5789, 'sewed': 5790, 'ejans': 5791, 'shirttail': 5792, 'balloons': 5793, 'rec': 5794, 'fantasy': 5795, 'tease': 5796, 'japanese': 5797, 'waterfall': 5798, 'agreement': 5799, 'til': 5800, 'newest': 5801, 'youth': 5802, 'sleevless': 5803, 'tanktop': 5804, 'carrie': 5805, 'bradshaw': 5806, '65': 5807, 'captivate': 5808, 'kno': 5809, 'onsie': 5810, 'cohesive': 5811, 'sexiest': 5812, 'maneuver': 5813, 'ack': 5814, 'thes': 5815, 'bodytype': 5816, '6petite': 5817, 'unrealistic': 5818, 'athleisure': 5819, 'considerable': 5820, 'ribbing': 5821, 'surf': 5822, 'p0': 5823, 'bicycle': 5824, 'assistance': 5825, 'remembered': 5826, 'formally': 5827, 'woodland': 5828, 'underdress': 5829, '85': 5830, \"did't\": 5831, 'murder': 5832, 'downton': 5833, 'abbey': 5834, 'confirm': 5835, 'popsicle': 5836, 'enthusiast': 5837, 'effects': 5838, 'gathers': 5839, 'hawk': 5840, 'edginess': 5841, 'fingernails': 5842, 'defining': 5843, 'madras': 5844, 'extent': 5845, 'optical': 5846, 'lopsided': 5847, '122lbs': 5848, '27r': 5849, 'snagging': 5850, 'uh': 5851, \"else's\": 5852, 'characteristic': 5853, 'colr': 5854, 'usu': 5855, 'closeup': 5856, 'formality': 5857, 'cardy': 5858, 'abso': 5859, 'incomplete': 5860, 'pace': 5861, '136lbs': 5862, 'register': 5863, 'gauchos': 5864, 'mankind': 5865, \"5''3\": 5866, 'subtlety': 5867, 'sailboats': 5868, 'fever': 5869, 'dreadful': 5870, 'taking': 5871, 'unbearably': 5872, 'delay': 5873, 'hemlines': 5874, 'tastes': 5875, 'royalty': 5876, 'sundresses': 5877, \"where'd\": 5878, 'dealbreaker': 5879, 'foxes': 5880, 'corals': 5881, \"god's\": 5882, \"joe's\": 5883, 'shortly': 5884, 'accomplish': 5885, 'meat': 5886, 'llonger': 5887, 'sting': 5888, 'annoyed': 5889, 'overs': 5890, 'eyeball': 5891, 'coincidence': 5892, 'loooove': 5893, 'ick': 5894, 'cou': 5895, '118lb': 5896, 'preferably': 5897, 'disproportionately': 5898, 'exercise': 5899, 'librarian': 5900, 'iis': 5901, 'surface': 5902, 'touched': 5903, 'ju': 5904, 'diego': 5905, 'shou': 5906, 'girlish': 5907, 'era': 5908, 'betty': 5909, 'draper': 5910, 'remedied': 5911, 'highwaisted': 5912, 'village': 5913, 'beautifil': 5914, 'otk': 5915, 'relegate': 5916, 'shave': 5917, 'denver': 5918, 'cc': 5919, 'kim': 5920, 'faltering': 5921, 'atl': 5922, 'greek': 5923, 'palate': 5924, 'peice': 5925, 'az': 5926, 'treats': 5927, 'flowier': 5928, 'leifsdottir': 5929, 'souers': 5930, 'jasper': 5931, 'jeera': 5932, 'layout': 5933, 'toget': 5934, 'hmm': 5935, 'promising': 5936, \"xs's\": 5937, 'deduct': 5938, 'voom': 5939, 'defense': 5940, 'su': 5941, 'pricier': 5942, 'optimistic': 5943, 'approximate': 5944, 'produ': 5945, 'definitively': 5946, 'burgandy': 5947, 'estella': 5948, 'amply': 5949, 'misnomer': 5950, 'debating': 5951, 'canary': 5952, 'intentionally': 5953, 'plate': 5954, 'missoni': 5955, 'fewer': 5956, 'dissappointed': 5957, 'womanly': 5958, 'breathtakingly': 5959, 'ordinarily': 5960, 'originality': 5961, 'keepers': 5962, 'versat': 5963, 'noise': 5964, 'greeny': 5965, 'grea': 5966, 'matched': 5967, 'congratulations': 5968, 'owls': 5969, 'standpoint': 5970, 'fluctuations': 5971, 'alpaca': 5972, 'formfitting': 5973, 'beatiful': 5974, 'framing': 5975, 'booster': 5976, 'skit': 5977, 'boardwalk': 5978, 'snails': 5979, 'rhinestone': 5980, 'hottest': 5981, 'tremendous': 5982, 'momma': 5983, 'unbelt': 5984, '108lbs': 5985, 'dries': 5986, 'shocking': 5987, 'bunny': 5988, 'finicky': 5989, 'juxtaposition': 5990, 'creativity': 5991, 'neighbor': 5992, 'predict': 5993, 'ahs': 5994, 'lively': 5995, \"5'10''\": 5996, 'sticking': 5997, 'presumably': 5998, 'lacing': 5999, 'reall': 6000, 'lux': 6001, 'clumps': 6002, 'underside': 6003, 'meant': 6004, 'unstitched': 6005, 'bliss': 6006, 'frequent': 6007, 'refined': 6008, 'plackets': 6009, 'irresistibly': 6010, 'chock': 6011, 'overtly': 6012, 'demoiselles': 6013, 'mediterranean': 6014, 'met': 6015, 'unflatering': 6016, 'makers': 6017, 'transcend': 6018, 'clasps': 6019, 'gre': 6020, 'kept': 6021, 'getter': 6022, 'uppe': 6023, 'mill': 6024, 'sofisticated': 6025, 'exquisitely': 6026, 'district': 6027, 'dimensions': 6028, 'birth': 6029, 'filipino': 6030, \"out'\": 6031, 'estimate': 6032, 'conflict': 6033, 'possess': 6034, 'capture': 6035, 'orangish': 6036, 'definetly': 6037, 'ope': 6038, 'agin': 6039, 'daylight': 6040, 'slap': 6041, 'outcome': 6042, 'seal': 6043, 'mentioend': 6044, 'backup': 6045, 'gappy': 6046, 'skirted': 6047, 'ingredients': 6048, 'aquaflora': 6049, 'rockefeller': 6050, 'alluring': 6051, 'themselves': 6052, 'gypsy': 6053, 'theater': 6054, 'forewarn': 6055, 'napkin': 6056, 'wander': 6057, '40th': 6058, '115ish': 6059, 'travels': 6060, 'decades': 6061, 'unwrap': 6062, 'largish': 6063, 'crepey': 6064, 'collage': 6065, 'conversationalist': 6066, 'powering': 6067, 'memories': 6068, 'pond': 6069, 'undress': 6070, 'pul': 6071, 'flatttering': 6072, 'ultimate': 6073, '165lbs': 6074, 'planned': 6075, 'xlarge': 6076, 'fierce': 6077, 'shortwaisted': 6078, 'thermal': 6079, 'rhinestones': 6080, 'chiller': 6081, 'atrocious': 6082, 'sudden': 6083, '26s': 6084, 'spanks': 6085, \"can'\": 6086, 'behold': 6087, 'thre': 6088, 'petties': 6089, 'nearest': 6090, 'inform': 6091, 'definitly': 6092, \"rec'd\": 6093, 'paler': 6094, 'middleton': 6095, 'palest': 6096, 'looooooove': 6097, 'horizontally': 6098, \"chino's\": 6099, 'improved': 6100, 'matters': 6101, 'purc': 6102, 'locate': 6103, 'costa': 6104, 'rica': 6105, 'blowzy': 6106, 'vinyasa': 6107, 'wobbly': 6108, 'multicolored': 6109, 'scallops': 6110, 'upsizing': 6111, \"atlanta's\": 6112, 'stretchier': 6113, 'styl': 6114, 'espadrille': 6115, 'sandy': 6116, 'thirty': 6117, 'constricted': 6118, 'ru': 6119, 'starbucks': 6120, 'buyi': 6121, 'lust': 6122, 'fellow': 6123, 'tru': 6124, 'dreary': 6125, 'sepia': 6126, 'toasty': 6127, 'pressed': 6128, 'chop': 6129, 'mysteriously': 6130, 'recd': 6131, 'ike': 6132, 'cherish': 6133, 'divinely': 6134, 'shallow': 6135, 'tat': 6136, 'arc': 6137, \"1'\": 6138, 'bla': 6139, 'jar': 6140, 'unpack': 6141, 'retu': 6142, 'relate': 6143, 'summ': 6144, 'chain': 6145, 'stout': 6146, 'companion': 6147, 'xx': 6148, 'effortlessness': 6149, 'confusing': 6150, 'inherent': 6151, 'dahlia': 6152, 'sadden': 6153, 'tex': 6154, 'rings': 6155, 'magnet': 6156, 'screams': 6157, 'fla': 6158, 'aa': 6159, 'ding': 6160, 'dressmaker': 6161, 'encompass': 6162, 'abo': 6163, 'waif': 6164, 'dragonflies': 6165, 'sooooooo': 6166, 'artwork': 6167, 'lovethis': 6168, 'humidity': 6169, 'mushroom': 6170, 'photoshoot': 6171, 'results': 6172, 'panic': 6173, 'discontinue': 6174, 'unco': 6175, 'biased': 6176, 'monstrosity': 6177, \"that'd\": 6178, 'decolletage': 6179, 'rated': 6180, \"cant'\": 6181, 'resolve': 6182, 'jus': 6183, 'lawn': 6184, \"up'\": 6185, 'covers': 6186, 'larkhill': 6187, 'deciding': 6188, 'bread': 6189, 'interweave': 6190, 'kedia': 6191, 'mcguire': 6192, 'asian': 6193, 'foldover': 6194, 'regretfully': 6195, 'perf': 6196, 'solidly': 6197, 'peite': 6198, 'tis': 6199, 'shore': 6200, 'silouette': 6201, 'disappoin': 6202, 'colo': 6203, 'he': 6204, 'fantastically': 6205, \"''\": 6206, 'cardio': 6207, 'unpleasant': 6208, 'ba': 6209, 'default': 6210, 'recomme': 6211, 'wasn': 6212, 'felted': 6213, 'terrify': 6214, 'yrs': 6215, 'hipline': 6216, 'alleviate': 6217, 'historically': 6218, 'added': 6219, 'nye': 6220, 'mediocre': 6221, 'neater': 6222, 'gems': 6223, 'voile': 6224, 'blog': 6225, 'unfold': 6226, 'fails': 6227, 'resistance': 6228, 'pai': 6229, 'overstretched': 6230, 'ou': 6231, 'cashier': 6232, '2petite': 6233, 'umm': 6234, 'nieces': 6235, 'shooties': 6236, 'owner': 6237, 'schoolmarm': 6238, 'spokane': 6239, 'saved': 6240, 'coverall': 6241, 'charisma': 6242, 'menopause': 6243, 'pepto': 6244, 'abs': 6245, 'entertaining': 6246, 'sweaterknit': 6247, 'finer': 6248, 'venture': 6249, 'huuuuge': 6250, 'increasingly': 6251, 'nouveau': 6252, 'wean': 6253, 'ant': 6254, 'penguin': 6255, 'lots': 6256, 'reconstruct': 6257, 'wearers': 6258, 'pantie': 6259, 'deco': 6260, 'frustrated': 6261, 'slighly': 6262, 'cast': 6263, 'compatible': 6264, \"lovin'\": 6265, 'horrified': 6266, 'frigid': 6267, 'doubled': 6268, \"5'0''\": 6269, 'pins': 6270, '34dddd': 6271, 'interpretation': 6272, 'latest': 6273, 'demon': 6274, 'oddity': 6275, 'teens': 6276, 'sits': 6277, 'instinct': 6278, 'plainer': 6279, 'sipper': 6280, 'boarder': 6281, 'skir': 6282, 'celebrate': 6283, 'elder': 6284, 'dissuade': 6285, 'sin': 6286, 'ruffled': 6287, 'painfully': 6288, 'panels': 6289, 'won': 6290, 'clingier': 6291, 'everleigh': 6292, 'decorate': 6293, 'scrumptious': 6294, 'bitter': 6295, 'picotage': 6296, 'houndstooth': 6297, 'zipping': 6298, 'smocking': 6299, 'baggie': 6300, 'folk': 6301, 'studs': 6302, 'ashley': 6303, 'lap': 6304, 'envelope': 6305, 'itty': 6306, 'fiancã©': 6307, 'weekender': 6308, 'printing': 6309, 'revealed': 6310, 'alternations': 6311, 'ooh': 6312, 'selves': 6313, 'col': 6314, 'hh': 6315, 'blouson': 6316, 'cigarette': 6317, 'reed': 6318, 'perception': 6319, 'fest': 6320, 'worried': 6321, 'weirdest': 6322, 'exchanging': 6323, 'ladder': 6324, 'coolness': 6325, 'poolside': 6326, 'semblance': 6327, 'shld': 6328, 'gateway': 6329, 'atleast': 6330, 'eit': 6331, 'motivate': 6332, 'trepidation': 6333, 'roam': 6334, 'moors': 6335, 'hanky': 6336, 'nit': 6337, 'cardis': 6338, 'rainbow': 6339, '53': 6340, 'gel': 6341, 'sofa': 6342, \"skirt's\": 6343, 'wiast': 6344, 'dds': 6345, '155lb': 6346, 'perfe': 6347, 'spec': 6348, 'silhouettes': 6349, 'consumers': 6350, 'exaggerated': 6351, 'waht': 6352, 'lvoe': 6353, 'xxxl': 6354, 'retuned': 6355, 'incidentally': 6356, 'godsend': 6357, '139': 6358, \"pant's\": 6359, 'continually': 6360, 'heavyweight': 6361, 'approved': 6362, 'barley': 6363, 'greater': 6364, 'photographs': 6365, '30th': 6366, 'edition': 6367, 'tit': 6368, 'awkwardness': 6369, 'handmade': 6370, 'backward': 6371, 'nicel': 6372, 'jury': 6373, 'giv': 6374, 'harsh': 6375, 'graham': 6376, 'spencer': 6377, 'eptites': 6378, 'overheated': 6379, 'accomodate': 6380, 'besutiful': 6381, 'ex': 6382, 'ordere': 6383, 'pettie': 6384, 'sandpaper': 6385, 'fingernail': 6386, 'sixties': 6387, 'ta': 6388, 'twirly': 6389, 'itches': 6390, 'dragging': 6391, 'tips': 6392, 'padded': 6393, 'qualm': 6394, 'accentuating': 6395, 'dashed': 6396, 'crucial': 6397, 'consequently': 6398, 'baroque': 6399, 'howeve': 6400, 'medallion': 6401, 'cools': 6402, 'collector': 6403, \"nephew's\": 6404, 'toosh': 6405, 'remedy': 6406, \"money's\": 6407, \"i'\": 6408, 'visions': 6409, 'sartorial': 6410, 'ware': 6411, \"29's\": 6412, 'blogger': 6413, 'harem': 6414, 'woolen': 6415, 'vendor': 6416, 'litt': 6417, 'insets': 6418, 'examine': 6419, 'aggressive': 6420, 'listed': 6421, 'petities': 6422, 'terrycloth': 6423, 'perfecto': 6424, 'overboard': 6425, 'crude': 6426, 'partner': 6427, 'repertoire': 6428, 'thickest': 6429, \"ag's\": 6430, 'skinned': 6431, 'lifeless': 6432, 'flattery': 6433, 'loving': 6434, 'chameleon': 6435, 'english': 6436, '35c': 6437, 'accompany': 6438, 'undernea': 6439, 'orangy': 6440, 'meetings': 6441, 'dusky': 6442, 'gauzey': 6443, 'mash': 6444, 'zippery': 6445, 'endlessly': 6446, 'conformable': 6447, 'stretc': 6448, 'sunset': 6449, 'undoubtedly': 6450, 'recipient': 6451, '228': 6452, 'mn': 6453, \"26's\": 6454, 'llama': 6455, 'eagerly': 6456, 'slee': 6457, 'breton': 6458, 'jingle': 6459, 'moved': 6460, 'decadent': 6461, 'elysian': 6462, 'midline': 6463, 'brief': 6464, 'pricepoint': 6465, 'coin': 6466, 'fountain': 6467, 'attachment': 6468, 'yellowish': 6469, 'rosey': 6470, 'dazzling': 6471, 'outdo': 6472, '38in': 6473, 'shred': 6474, 'knotted': 6475, 'anth': 6476, 'app': 6477, 'creatively': 6478, 'laughing': 6479, 'perceive': 6480, 'sexier': 6481, 'strings': 6482, 'fabr': 6483, 'skater': 6484, 'noting': 6485, 'ine': 6486, 'sensational': 6487, 'crafted': 6488, 'teensy': 6489, 'knockoff': 6490, 'erin': 6491, 'fetherston': 6492, 'prongs': 6493, 'click': 6494, 'recreate': 6495, 'devastated': 6496, 'perhap': 6497, 'cluster': 6498, 'wrangle': 6499, 'clashed': 6500, \"y'all\": 6501, 'hink': 6502, 'implies': 6503, 'hallelujah': 6504, 'observation': 6505, 'goldenrod': 6506, 'skintone': 6507, 'ig': 6508, 'crafty': 6509, 'ov': 6510, 'ador': 6511, 'tedious': 6512, 'vanilla': 6513, 'dislikes': 6514, 'strangly': 6515, 'mesmerizing': 6516, 'talented': 6517, 'multiples': 6518, 'altering': 6519, 'sham': 6520, 'squares': 6521, 'chillier': 6522, 'beca': 6523, 'muc': 6524, 'anxiously': 6525, 'crossbody': 6526, 'explore': 6527, 'hulk': 6528, 'adventure': 6529, 'willingness': 6530, 'quali': 6531, 'exciting': 6532, 'unfortunatly': 6533, 'storm': 6534, 'smoke': 6535, 'vinyl': 6536, 'swoon': 6537, 'distinction': 6538, 'plaids': 6539, 'favourite': 6540, 'socially': 6541, \"5'11''\": 6542, 'youre': 6543, 'threw': 6544, 'blood': 6545, 'festivals': 6546, 'workwear': 6547, 'capelet': 6548, 'shortcomings': 6549, 'camisol': 6550, 'lacking': 6551, 'twins': 6552, 'barbecue': 6553, 'pinning': 6554, 'bog': 6555, 'indication': 6556, 'neighborhood': 6557, 'priceless': 6558, 'mui': 6559, 'posters': 6560, 'beside': 6561, 'puffin': 6562, 'harken': 6563, 'punk': 6564, 'pictur': 6565, 'manipulation': 6566, 'lwait': 6567, 'uncuffed': 6568, 'separately': 6569, 'southwest': 6570, 'flora': 6571, 'monday': 6572, 'severely': 6573, 'slubby': 6574, 'whit': 6575, 'envelop': 6576, 'holder': 6577, 'conscience': 6578, 'listened': 6579, 'bloated': 6580, 'acetate': 6581, 'succumb': 6582, 'grand': 6583, 'spell': 6584, 'regulat': 6585, 'breakers': 6586, \"4'10\": 6587, 'dominant': 6588, '31p': 6589, '30p': 6590, 'secret': 6591, 'eptite': 6592, 'netural': 6593, 'pernette': 6594, 'grass': 6595, 'stripey': 6596, 'unreasonable': 6597, 'movements': 6598, 'oxfords': 6599, 'isle': 6600, 'discern': 6601, 'plentiful': 6602, 'vein': 6603, 'glory': 6604, 'absolutley': 6605, 'industry': 6606, 'trek': 6607, 'villain': 6608, 'underestimate': 6609, 'imperfection': 6610, 'joan': 6611, 'rubber': 6612, 'stockings': 6613, 'meantime': 6614, '3in': 6615, 'bff': 6616, 'complect': 6617, 'wideness': 6618, 'widening': 6619, 'littl': 6620, 'fleetwood': 6621, 'cutoffs': 6622, 'shorties': 6623, 'dynamite': 6624, 'perk': 6625, 'graduate': 6626, 'debut': 6627, 'icky': 6628, 'freshly': 6629, 'kne': 6630, 'consideration': 6631, 'marriage': 6632, 'minuet': 6633, 'tyhlo': 6634, 'ga': 6635, 'hurray': 6636, 'redo': 6637, 'purcha': 6638, 'fuzziness': 6639, 'hemstitch': 6640, '142lbs': 6641, 'cities': 6642, 'chokey': 6643, 'confusion': 6644, \"people's\": 6645, 'divide': 6646, 'unmatched': 6647, 'fractals': 6648, \"'m'\": 6649, 'bolder': 6650, \"5'10'\": 6651, 'freedom': 6652, 'grandpa': 6653, 'umph': 6654, 'thier': 6655, 'lightest': 6656, \"to's\": 6657, 'blank': 6658, 'snappy': 6659, 'evergreen': 6660, 'senses': 6661, 'confirmed': 6662, 'departure': 6663, 'jane': 6664, 'quilted': 6665, 'reweave': 6666, 'text': 6667, 'slighty': 6668, 'fatty': 6669, 'glue': 6670, 'discard': 6671, 'foxy': 6672, 'oranges': 6673, 'druzy': 6674, 'shaping': 6675, 'apprx': 6676, 'lats': 6677, 'recomend': 6678, 'detached': 6679, 'expe': 6680, 'excelle': 6681, 'offensive': 6682, 'bikinis': 6683, 'pintucks': 6684, 'wireless': 6685, 'exmaple': 6686, 'bluishgreen': 6687, 'hae': 6688, 'aunt': 6689, 'situate': 6690, 'workouts': 6691, 'merely': 6692, 'newly': 6693, 'sheerest': 6694, 'duller': 6695, 'showcases': 6696, 'edging': 6697, 'shading': 6698, 'regions': 6699, 'clunky': 6700, 'mustardy': 6701, 'pause': 6702, 'furthermore': 6703, 'blousing': 6704, 'mary': 6705, 'watermelon': 6706, 'mull': 6707, 'spillage': 6708, 'confining': 6709, 'absolutly': 6710, \"purchaser's\": 6711, \"10's\": 6712, 'dates': 6713, 'asymetrical': 6714, 'bridesmaid': 6715, 'hunting': 6716, 'warmers': 6717, 'altho': 6718, 'prevented': 6719, 'soap': 6720, 'tub': 6721, 'muslin': 6722, '5lbs': 6723, 'input': 6724, 'trial': 6725, 'cam': 6726, '121': 6727, 'lifted': 6728, 'grandmas': 6729, 'picks': 6730, 'thoughtful': 6731, 'flo': 6732, 'grommet': 6733, 'cloudy': 6734, 'daisy': 6735, 'beef': 6736, 'wel': 6737, 'music': 6738, 'likewise': 6739, \"ann's\": 6740, 'unbearable': 6741, 'hmmm': 6742, 'everygirl': 6743, 'patent': 6744, 'guilt': 6745, 'pricing': 6746, 'cuddle': 6747, '5th': 6748, 'pardon': 6749, 'hypen': 6750, 'thee': 6751, 'hoist': 6752, 'everthing': 6753, 'verge': 6754, 'granny': 6755, 'nick': 6756, 'savvy': 6757, 'bulging': 6758, 'presentations': 6759, 'dangerous': 6760, 'raid': 6761, 'noticable': 6762, 'wamp': 6763, 'fullest': 6764, 'dryclean': 6765, 'corodorys': 6766, '107lb': 6767, '3d': 6768, 'levis': 6769, 'impeccably': 6770, 'midrise': 6771, 'neede': 6772, 'theses': 6773, 'extensive': 6774, 'yesteryear': 6775, 'raincoat': 6776, 'fifties': 6777, 'offwhite': 6778, 'phase': 6779, 'binder': 6780, 'native': 6781, 'depends': 6782, 'honeymoon': 6783, 'whirl': 6784, 'nab': 6785, 'qua': 6786, 'consume': 6787, 'aize': 6788, 'eloise': 6789, 'according': 6790, 'worsen': 6791, 'biggish': 6792, 'twee': 6793, 'packable': 6794, 'sigourney': 6795, 'weaver': 6796, 'dangly': 6797, 'sw': 6798, 'milder': 6799, 'seeing': 6800, 'cacti': 6801, 'tassel': 6802, 'slipping': 6803, 'bloom': 6804, 'garbage': 6805, 'ahhh': 6806, 'demure': 6807, 'master': 6808, 'liberty': 6809, 'binge': 6810, 'jolly': 6811, 'maiden': 6812, 'overkill': 6813, 'appal': 6814, 'coal': 6815, 'staggered': 6816, 'jam': 6817, 'childhood': 6818, 'heftier': 6819, 'bachelorette': 6820, 'worker': 6821, 'mateiral': 6822, 'jammie': 6823, 'linty': 6824, 'knotting': 6825, 'looove': 6826, 'ubiquitous': 6827, 'puffier': 6828, 'absurd': 6829, \"'red\": 6830, 'clo': 6831, 'ring': 6832, 'relaxes': 6833, 'jackie': 6834, 'objections': 6835, 'tick': 6836, 'concur': 6837, 'looooove': 6838, 'sons': 6839, 'recommen': 6840, 'blob': 6841, 'mismarked': 6842, '144lb': 6843, 'coated': 6844, 'classically': 6845, 'internal': 6846, 'sparingly': 6847, 'yea': 6848, 'blueish': 6849, 'smells': 6850, '250': 6851, 'terra': 6852, 'allover': 6853, 'minty': 6854, 'excuse': 6855, '1980s': 6856, 'underneat': 6857, '8in': 6858, 'mission': 6859, 'necessity': 6860, 'chloe': 6861, 'georgette': 6862, 'handled': 6863, 'sour': 6864, 'hyphens': 6865, '60th': 6866, 'adorbs': 6867, 'panama': 6868, 'rockets': 6869, 'sloppiness': 6870, \"2'\": 6871, 'ye': 6872, 'tey': 6873, 'anticipating': 6874, 'hol': 6875, 'lurex': 6876, 'resistant': 6877, \"aren't\": 6878, 'session': 6879, 'restore': 6880, 'los': 6881, 'angeles': 6882, 'intarsia': 6883, 'language': 6884, 'clay': 6885, '11inches': 6886, 'melt': 6887, 'salon': 6888, 'inquiries': 6889, 'wheelhouse': 6890, 'durham': 6891, 'cheshire': 6892, 'eu': 6893, '2010': 6894, 'summe': 6895, 'jack': 6896, 'misplace': 6897, 'shrank': 6898, 'desk': 6899, 'sewer': 6900, 'colorblock': 6901, 'disgust': 6902, 'refresher': 6903, 'indecent': 6904, 'gotten': 6905, 'formless': 6906, 'budge': 6907, 'install': 6908, 'chunkiness': 6909, 'jodphurs': 6910, 'shortie': 6911, \"cami's\": 6912, 'reordered': 6913, 'falter': 6914, 'piping': 6915, 'akward': 6916, 'rug': 6917, 'tuesday': 6918, 'assistant': 6919, 'nymph': 6920, 'usable': 6921, 'gracious': 6922, 'teaching': 6923, 'breastfeed': 6924, 'disgustingly': 6925, 'excitedly': 6926, \"it''s\": 6927, 'ur': 6928, 'bands': 6929, 'fuschia': 6930, 'anna': 6931, 'checkout': 6932, 'conference': 6933, 'footless': 6934, 'mexican': 6935, 'electric': 6936, 'adults': 6937, 'dazzle': 6938, '2in': 6939, 'en': 6940, 'medical': 6941, 'gravity': 6942, 'quirkiness': 6943, '54': 6944, 'orde': 6945, 'oval': 6946, 'foamy': 6947, 'scrub': 6948, 'overseas': 6949, 'categorize': 6950, 'securely': 6951, 'nah': 6952, 'ths': 6953, 'planet': 6954, 'curiosity': 6955, 'shap': 6956, 'ingalls': 6957, 'satisfactory': 6958, 'intentions': 6959, 'tote': 6960, 'verdugo': 6961, 'peeps': 6962, 'loooooove': 6963, 'inevitably': 6964, 'supper': 6965, 'sloths': 6966, 'damp': 6967, 'cld': 6968, 'preggers': 6969, 'metalic': 6970, 'lyocel': 6971, 'viewers': 6972, 'uncommon': 6973, 'ho': 6974, 'aforementioned': 6975, 'blindly': 6976, 'severe': 6977, 'whoop': 6978, 'exit': 6979, 'buttondowns': 6980, 'reno': 6981, 'meets': 6982, \"children's\": 6983, 'clock': 6984, 'throat': 6985, 'eternal': 6986, \"la's\": 6987, 'unheard': 6988, 'bette': 6989, 'tylho': 6990, '20lbs': 6991, 'batwings': 6992, 'kiss': 6993, \"coh's\": 6994, 'heartbreakingly': 6995, 'salt': 6996, 'cartoonish': 6997, 'twisty': 6998, 'whisk': 6999, 'pillow': 7000, 'shortcake': 7001, 'photoshopped': 7002, 'perfer': 7003, 'obscure': 7004, 'seed': 7005, 'lovey': 7006, 'bettys': 7007, 'milkmaid': 7008, 'flattrering': 7009, 'bandage': 7010, 'scrappy': 7011, 'kennedy': 7012, 'muggy': 7013, 'exhaust': 7014, 'noce': 7015, 'hunchback': 7016, 'courage': 7017, 'ikat': 7018, 'february': 7019, 'grandmothers': 7020, 'effective': 7021, 'vacillate': 7022, 'courderoy': 7023, 'swagger': 7024, 'wary': 7025, 'larkspur': 7026, 'completel': 7027, 'mensware': 7028, 'ribboned': 7029, 'burgers': 7030, 'mosaic': 7031, 'november': 7032, 'intervals': 7033, 'combat': 7034, 'strength': 7035, 'hangar': 7036, 'foo': 7037, 'parrot': 7038, 'saundra': 7039, 'rubbed': 7040, 'secular': 7041, 'ackerley': 7042, 'leary': 7043, 'react': 7044, 'loro': 7045, 'piana': 7046, 'platinum': 7047, '1993': 7048, 'jiggles': 7049, 'veer': 7050, 'brethren': 7051, 'hesitantly': 7052, 'receptionist': 7053, 'beauttiful': 7054, 'fluctuates': 7055, 'zips': 7056, 'acquaintance': 7057, 'highe': 7058, '0xs': 7059, 'nutty': 7060, 'inconsistencies': 7061, 'puctures': 7062, 'rebound': 7063, 'bin': 7064, 'georgetown': 7065, 'tir': 7066, \"complaint'\": 7067, 'fuse': 7068, 'notable': 7069, 'aid': 7070, 'funnily': 7071, 'contortion': 7072, 'crinoline': 7073, 'equate': 7074, \"'perfect'\": 7075, 'sarah': 7076, 'cellulite': 7077, 'whihc': 7078, 'elle': 7079, 'awakward': 7080, 'rearrange': 7081, 'colters': 7082, 'objectionably': 7083, 'bohemain': 7084, 'doggedly': 7085, 'withe': 7086, 'pinup': 7087, 'cleave': 7088, 'allows': 7089, '5ft8inches': 7090, 'rackerback': 7091, 'cuncun': 7092, 'cadi': 7093, 'saga': 7094, 'superfast': 7095, 'mere': 7096, 'sheek': 7097, 'syked': 7098, 'np': 7099, 'coating': 7100, 'blisters': 7101, 'sinc': 7102, 'formed': 7103, \"doesn'\": 7104, 'pour': 7105, 'roommate': 7106, 'betcha': 7107, 'htat': 7108, 'shirr': 7109, 'homespun': 7110, 'vulnerable': 7111, 'inlet': 7112, 'pullovers': 7113, 'anchor': 7114, 'definitive': 7115, 'pommed': 7116, \"there'd\": 7117, \"'blue'\": 7118, 'shelves': 7119, \"zoolander's\": 7120, 'derelict': 7121, 'campaign': 7122, 'versitality': 7123, \"3000's\": 7124, 'peephole': 7125, 'chu': 7126, 'sprites': 7127, 'intracately': 7128, 'magnolia': 7129, 'weara': 7130, 'citrus': 7131, 'transforms': 7132, 'checklist': 7133, 'payer': 7134, 'whirlwind': 7135, 'repeating': 7136, 'barnyard': 7137, 'afghan': 7138, \"'yes'\": 7139, 'toddlers': 7140, 'sow': 7141, 'relazation': 7142, \"'glide'\": 7143, \"'easy'\": 7144, 'delineator': 7145, 'hysterical': 7146, 'eghhh': 7147, 'bueno': 7148, 'modernity': 7149, 'continuously': 7150, 'bravely': 7151, 'simpler': 7152, 'decidedly': 7153, 'fu': 7154, 'surplus': 7155, 'splendidly': 7156, 'undressed': 7157, 'needlenose': 7158, 'crimp': 7159, 'sherbrooke': 7160, 'desperat': 7161, 'incline': 7162, 'flaunt': 7163, '180lbs': 7164, '38dds': 7165, 'tenfold': 7166, 'verses': 7167, 'michigans': 7168, 'weed': 7169, 'starburst': 7170, 'menti': 7171, 'medora': 7172, 'frompy': 7173, 'pig': 7174, \"'soft\": 7175, \"coral'\": 7176, 'athlete': 7177, 'heavens': 7178, 'softener': 7179, 'pettite': 7180, 'wisely': 7181, 'swindle': 7182, 'decline': 7183, 'genetic': 7184, 'knocked': 7185, 'embroid': 7186, 'hydrogen': 7187, 'peroxide': 7188, '116lb': 7189, 'smiling': 7190, 'unappealing': 7191, 'magazine': 7192, 'lithuanian': 7193, 'prominently': 7194, 'fitter': 7195, 'shirter': 7196, 'jelly': 7197, 'linguini': 7198, 'hel': 7199, 'sorts': 7200, 'yey': 7201, 'withhold': 7202, '1950s': 7203, 'monroe': 7204, 'bl': 7205, 'sur': 7206, 'calvin': 7207, 'klein': 7208, 'vpl': 7209, 'aaaaaaamazing': 7210, 'bummers': 7211, 'ash': 7212, 'deshn': 7213, 'textiled': 7214, 'shortt': 7215, 'supervisor': 7216, 'reviewe': 7217, 'earrin': 7218, '152': 7219, 'fathom': 7220, 'softened': 7221, 'rap': 7222, 'wonce': 7223, 'specialist': 7224, 'microfiber': 7225, 'santuary': 7226, 'eaisly': 7227, 'gentlemen': 7228, 'irvine': 7229, 'inexplicably': 7230, 'puckering': 7231, 'gett': 7232, 'etiher': 7233, 'stell': 7234, 'spotty': 7235, 'chalk': 7236, 'pur': 7237, 'reoommend': 7238, 'hearts': 7239, 'slovak': 7240, 'wreak': 7241, 'subsequent': 7242, 'risquã©': 7243, \"hyphen's\": 7244, 'julep': 7245, 'hams': 7246, \"'nightgown'\": 7247, 'india': 7248, 'decolltage': 7249, 'decoration': 7250, 'irk': 7251, 'disclosure': 7252, 'habitus': 7253, \"models'\": 7254, 'costumer': 7255, 'alpinia': 7256, 'mountaire': 7257, \"'fall'\": 7258, 'usuall': 7259, \"old's\": 7260, 'gymnastics': 7261, 'analogy': 7262, 'withou': 7263, 'canadian': 7264, 'epite': 7265, 'actualyl': 7266, 'mode': 7267, 'mules': 7268, 'duck': 7269, 'sunrose': 7270, 'allusione': 7271, 'yepeee': 7272, 'thh': 7273, 'beign': 7274, 'hsaped': 7275, 'silouett': 7276, 'pbly': 7277, 'unders': 7278, 'aim': 7279, '63': 7280, 'x2': 7281, 'sec': 7282, 'tournament': 7283, 'lengh': 7284, 'kindof': 7285, '4inches': 7286, 'nyt': 7287, 'breaths': 7288, 'wildest': 7289, 'armful': 7290, 'bangles': 7291, 'polite': 7292, 'juice': 7293, 'venice': 7294, 'jiffy': 7295, '101': 7296, 'essentiel': 7297, 'antwerp': 7298, 'utiful': 7299, '129': 7300, 'whale': 7301, 'stoe': 7302, 'financial': 7303, 'bracket': 7304, 'throb': 7305, 'trunks': 7306, 'swathe': 7307, 'acceptably': 7308, 'datetop': 7309, 'sent': 7310, 'inst': 7311, 'tommy': 7312, 'bahama': 7313, 'draft': 7314, 'pooched': 7315, 'asummig': 7316, 'yellower': 7317, 'hops': 7318, 'cont': 7319, '174': 7320, 'warren': 7321, 'ironic': 7322, 'remarks': 7323, 'mixtures': 7324, 'flaps': 7325, 'hallmarks': 7326, 'uhhhmmmazing': 7327, 'adjustability': 7328, 'fiery': 7329, 'drastic': 7330, 'someth': 7331, 'sacred': 7332, 'din': 7333, 'unbreathable': 7334, 'mentions': 7335, \"6'1\": 7336, 'patt': 7337, 'easel': 7338, 'realllly': 7339, 'incarnations': 7340, \"large'\": 7341, 'comber': 7342, 'geneva': 7343, 'tweedy': 7344, 'oblong': 7345, 'circumstance': 7346, 'motos': 7347, 'lign': 7348, 'aubergine': 7349, 'qualit': 7350, 'vacate': 7351, 'belongs': 7352, 'shearer': 7353, 'stiffly': 7354, 'outwear': 7355, 'lsit': 7356, 'modl': 7357, 'ute': 7358, 'brught': 7359, 'onin': 7360, 'somuch': 7361, 'outstretched': 7362, 'conside': 7363, 'pvc': 7364, 'scrunchy': 7365, 'eq': 7366, 'showcase': 7367, 'beauitiful': 7368, 'studious': 7369, 'owl': 7370, 'amazed': 7371, 'perches': 7372, 'hairy': 7373, 'potentail': 7374, 'abnormally': 7375, \"havne't\": 7376, \"sewer's\": 7377, 'compound': 7378, 'asheville': 7379, 'beam': 7380, 'distressing': 7381, '198': 7382, 'melon': 7383, 'halterneck': 7384, 'omit': 7385, '4fits': 7386, 'thy': 7387, 'apartment': 7388, 'clarification': 7389, 'corporate': 7390, 'dresser': 7391, 'brazilian': 7392, 'subdued': 7393, \"product's\": 7394, 'sable': 7395, 'straightforward': 7396, 'coope': 7397, 'gameday': 7398, \"v's\": 7399, 'timelessness': 7400, 'century': 7401, 'tut': 7402, 'carefull': 7403, 'doubts': 7404, 'linger': 7405, '9lower': 7406, 'lbsm': 7407, 'loosley': 7408, 'sis': 7409, 'fiits': 7410, \"5''6\": 7411, 'avg': 7412, 'realy': 7413, 'stylize': 7414, 'regained': 7415, 'sincerely': 7416, 'fate': 7417, 'conundrum': 7418, 'squirm': 7419, 'flamboyant': 7420, 'washers': 7421, 'distraught': 7422, 'roman': 7423, 'greige': 7424, 'hued': 7425, 'cosplay': 7426, 'artistically': 7427, 'balanced': 7428, 'dyed': 7429, 'requirements': 7430, 'satisfactorily': 7431, 'functioning': 7432, 'fluffiest': 7433, \"'pink'\": 7434, 'heihei': 7435, 'impatiently': 7436, 'floored': 7437, \"1''\": 7438, 'intimate': 7439, \"'pedal\": 7440, \"pushers'\": 7441, \"'cropped'\": 7442, 'backlit': 7443, 'lightheaded': 7444, 'crime': 7445, 'teeshirt': 7446, \"'nubby'\": 7447, 'lnd': 7448, 'pliers': 7449, 'petiite': 7450, 'becoming': 7451, 'sentimental': 7452, 'retie': 7453, 'provocative': 7454, 'singer': 7455, 'performance': 7456, 'boobage': 7457, 'unhook': 7458, 'clamp': 7459, 'symmetry': 7460, 'azure': 7461, 'inspirational': 7462, \"city's\": 7463, \"'tent'\": 7464, \"'trapeze'\": 7465, 'freepeople': 7466, 'experiences': 7467, 'lovelyt': 7468, 'thereof': 7469, \"'help'\": 7470, 'pushup': 7471, 'belia': 7472, 'disheveled': 7473, 'alert': 7474, \"back's\": 7475, \"ap's\": 7476, 'divulging': 7477, 'freakishly': 7478, 'fuddy': 7479, 'duddy': 7480, 'uptight': 7481, 'morel': 7482, 'hare': 7483, 'satisfaction': 7484, 'sharply': 7485, 'mellows': 7486, 'simultaneously': 7487, 'fairs': 7488, '2004': 7489, '2005': 7490, 'depths': 7491, 'mongolian': 7492, 'operatic': 7493, 'arias': 7494, 'reache': 7495, 'exclusives': 7496, 'dalls': 7497, 'ergo': 7498, 'boats': 7499, 'trans': 7500, 'adhesive': 7501, 'pasties': 7502, 'fuzzes': 7503, 'sample': 7504, 'leggier': 7505, 'africa': 7506, 'speed': 7507, 'sailboat': 7508, 'oversight': 7509, 'resolutions': 7510, 'korkease': 7511, 'peruvian': 7512, 'opal': 7513, \"'throw\": 7514, \"away'\": 7515, 'antrhopologie': 7516, 'especailly': 7517, \"building's\": 7518, 'blast': 7519, 'boxt': 7520, \"friday's\": 7521, 'worrisome': 7522, \"'layered\": 7523, 'sadie': 7524, \"top'\": 7525, 'photography': 7526, 'alicia': 7527, 'matchy': 7528, 'withing': 7529, 'heirloom': 7530, 'psuedo': 7531, 'proud': 7532, 'ban': 7533, 'deviate': 7534, 'sugge': 7535, 'reworked': 7536, 'toothpick': 7537, 'freak': 7538, 'hangy': 7539, 'angora': 7540, 'dice': 7541, '32s': 7542, 'russian': 7543, 'recreation': 7544, 'episode': 7545, 'paws': 7546, 'oprefer': 7547, 'aottern': 7548, 'mottled': 7549, 'liittle': 7550, 'knitting': 7551, 'nec': 7552, 'overal': 7553, 'returrn': 7554, 'constraining': 7555, 'coke': 7556, 'bottle': 7557, 'thakoon': 7558, '500': 7559, 'hoiday': 7560, 'plesantly': 7561, 'taffita': 7562, 'shove': 7563, 'teepee': 7564, 'pleases': 7565, 'widelegs': 7566, '2001': 7567, 'bailly': 7568, 'movability': 7569, 'relly': 7570, \"6'0\": 7571, 'brioche': 7572, 'decreases': 7573, '2r': 7574, 'supermodels': 7575, 'arch': 7576, 'clearer': 7577, 'torquoise': 7578, 'mistaken': 7579, 'untanned': 7580, 'yer': 7581, 'butcher': 7582, \"5's\": 7583, 'controversial': 7584, 'empty': 7585, 'tme0': 7586, 'editions': 7587, 'believable': 7588, 'expensiv': 7589, 'linin': 7590, 'soccer': 7591, 'goto': 7592, 'sweathsirt': 7593, 'loosness': 7594, 'resort': 7595, 'pumpkin': 7596, 'constriction': 7597, 'imwas': 7598, 'imput': 7599, 'acacia': 7600, 'dazzled': 7601, 'unveil': 7602, 'jungle': 7603, 'boogie': 7604, 'kitty': 7605, 'tamed': 7606, 'chandelier': 7607, 'property': 7608, 'skewed': 7609, 'otherw': 7610, 'influx': 7611, 'endora': 7612, '5stars': 7613, 'tonal': 7614, 'whiplash': 7615, 'ongoing': 7616, 'complimented': 7617, 'minimized': 7618, 'tropics': 7619, 'supports': 7620, '34ff': 7621, 'hirt': 7622, 'optimal': 7623, 'knee0': 7624, 'flirtier': 7625, 'maxed': 7626, 'soothe': 7627, 'happyinpdx': 7628, \"'go\": 7629, 'brownies': 7630, 'amorphous': 7631, 'fixes': 7632, 'accessorizing': 7633, 'chauvet': 7634, 'restrictions': 7635, 'destroyed': 7636, 'indicated': 7637, 'concealed': 7638, 'beatrice': 7639, 'ottoman': 7640, 'folded': 7641, 'neaten': 7642, 'grapeish': 7643, 'bight': 7644, 'sissy': 7645, 'spacek': 7646, 'mirabella': 7647, 'preach': 7648, 'choir': 7649, 'altar': 7650, 'hail': 7651, \"'gathered\": 7652, 'registry': 7653, 'shriks': 7654, 'kneel': 7655, '35ab': 7656, 'hwy': 7657, 'colla': 7658, 'uuuuggghhh': 7659, 'judgment': 7660, 'classify': 7661, 'retailerpligie': 7662, 'colde': 7663, 'ts': 7664, 'elaborate': 7665, \"neckline's\": 7666, 'alt': 7667, 'thousand': 7668, 'tropicale': 7669, 'creases': 7670, 'waistless': 7671, 'quire': 7672, 'westher': 7673, 'eyelits': 7674, 'autumnal': 7675, 'maternityish': 7676, 'cheapish': 7677, 'refit': 7678, 'weightier': 7679, 'hopeless': 7680, 'packed': 7681, 'conceptualize': 7682, 'xxxxxs': 7683, 'exists': 7684, '3xxxl': 7685, \"'stressed'\": 7686, 'ivories': 7687, 'creams': 7688, 'purples': 7689, 'greens': 7690, 'anomaly': 7691, 'breeziness': 7692, 'ships': 7693, 'nails': 7694, 'pelats': 7695, 'prepared': 7696, 'hilarious': 7697, 'dramaticly': 7698, 'ambiguous': 7699, '112lb': 7700, 'appreciation': 7701, 'tech': 7702, 'appetite': 7703, 'costs': 7704, 'anthousai': 7705, 'valentine': 7706, 'insirpring': 7707, 'necklac': 7708, 'pinstripes': 7709, 'hap': 7710, 'saratoga': 7711, 'monthly': 7712, 'swimmingly': 7713, 'mainstay': 7714, 'powerful': 7715, 'sleepable': 7716, 'delaney': 7717, 'sumo': 7718, 'wrestler': 7719, 'mystify': 7720, 'chicken': 7721, 'cutely': 7722, 'neckes': 7723, 'rivet': 7724, 'ocassionally': 7725, 'allowance': 7726, 'pice': 7727, 'ehm': 7728, 'supercute': 7729, 'contrived': 7730, 'prop': 7731, 'carrot': 7732, 'sidezip': 7733, 'begrudgingly': 7734, '111lbs': 7735, 'accidents': 7736, 'oot': 7737, 'sheeny': 7738, 'flea': 7739, 'crumpled': 7740, 'mittens': 7741, 'lily': 7742, 'bue': 7743, 'impossibly': 7744, 'rme': 7745, 'strecth': 7746, 'peasy': 7747, 'chicks': 7748, 'boney': 7749, 'annoyingly': 7750, 'undefined': 7751, 'disappointedly': 7752, 'fortune': 7753, '115llbs': 7754, 'sb': 7755, 'hyperhidrosis': 7756, 'sweating': 7757, 'fluidity': 7758, 'hor': 7759, 'underline': 7760, 'unfini': 7761, 'reviwes': 7762, 'hermosa': 7763, 'zuma': 7764, \"seea's\": 7765, 'surfing': 7766, 'padd': 7767, 'uneasy': 7768, 'architectural': 7769, '2fit': 7770, 'nbut': 7771, 'rahter': 7772, 'grooves': 7773, 'forh': 7774, 'baskets': 7775, 'panniers': 7776, 'breezie': 7777, 'additonal': 7778, 'indifferent': 7779, 'definetely': 7780, 'prettily': 7781, 'pric': 7782, 'sweltering': 7783, 'inserts': 7784, 'steve': 7785, '134lb': 7786, 'university': 7787, '172lbs': 7788, 'sueded': 7789, 'destruct': 7790, 'nerve': 7791, 'hoods': 7792, 'fisher': 7793, \"fisher's\": 7794, 'mysteries': 7795, 'eliott': 7796, 'charts': 7797, 'screaming': 7798, \"swimmer's\": 7799, 'nee': 7800, 'physicality': 7801, 'vers': 7802, 'cop': 7803, 'minimalistic': 7804, 'splurged': 7805, 'tennies': 7806, 'economical': 7807, 'wether': 7808, 'vibes': 7809, 'ct': 7810, 'overbear': 7811, 'hourglasses': 7812, 'thinkng': 7813, 'rouched': 7814, 'agitate': 7815, 'contacts': 7816, 'rippled': 7817, 'mallard': 7818, 'letdown': 7819, '28r': 7820, 'ev': 7821, 'teenagers': 7822, 'edgey': 7823, 'smoky': 7824, 'complex': 7825, 'attractively': 7826, 'topish': 7827, 'insufficient': 7828, 'cehst': 7829, 'uiu': 7830, 'smocked': 7831, 'ican': 7832, 'fastened': 7833, 'misplaced': 7834, 'brownettes': 7835, 'purportedly': 7836, 'prr': 7837, 'underlayment': 7838, 'dioes': 7839, 'unforced': 7840, 'sexified': 7841, '180lb': 7842, 'christma': 7843, 'earnings': 7844, 'valo': 7845, 'dressiness': 7846, 'hadent': 7847, 'oder': 7848, 'exoected': 7849, 'legnth': 7850, 'mound': 7851, 'thorwback': 7852, 'constr': 7853, 'chucks': 7854, 'annoyance': 7855, 'bustiest': 7856, 'sofla': 7857, 'sweaty': 7858, 'sizingwise': 7859, 'wench': 7860, \"girlfriends'\": 7861, \"grandpa's\": 7862, 'stetchy': 7863, 'collections': 7864, 'chestier': 7865, \"'maybe'\": 7866, 'unimpressive': 7867, 'mor': 7868, 'pouffy': 7869, \"cheerleader's\": 7870, 'acid': 7871, 'backs': 7872, 'deliberate': 7873, 'easil': 7874, 'boutique': 7875, \"'curves'\": 7876, 'nordstrom': 7877, \"doesn't'\": 7878, 'pla': 7879, 'airly': 7880, \"'ride'\": 7881, 'exteemely': 7882, 'confection': 7883, 'regency': 7884, 'inconsistency': 7885, 'janeausten': 7886, 'prayers': 7887, 'varieties': 7888, 'quicker': 7889, 'adieu': 7890, 'prettiness': 7891, 'deminished': 7892, 'conditionally': 7893, 'haunt': 7894, 'pettte': 7895, 'bones': 7896, \"'in\": 7897, \"person'\": 7898, 'evaluate': 7899, 'flar': 7900, 'flying': 7901, 'quadricep': 7902, 'fai': 7903, 'mega': 7904, 'plu': 7905, 'sheed': 7906, 'cane': 7907, 'colwyn': 7908, 'drastically': 7909, 'someway': 7910, 'goose': 7911, 'abercrombie': 7912, 'vine': 7913, '4115': 7914, 'quit': 7915, 'msitake': 7916, 'sweeater': 7917, 'wond': 7918, 'fulle': 7919, 'lounger': 7920, 'pathetic': 7921, 'inaccurately': 7922, 'reallllly': 7923, '96': 7924, 'concerned': 7925, 'thei': 7926, 'sundays': 7927, 'nocal': 7928, 'foundations': 7929, 'moniker': 7930, \"mumu's\": 7931, 'strikes': 7932, 'flood': 7933, 'blaclk': 7934, 'stadium': 7935, 'yum': 7936, 'zillion': 7937, 'mia': 7938, 'farrow': 7939, \"rosemary's\": 7940, 'nighttime': 7941, '428': 7942, 'highland': 7943, 'woodlands': 7944, 'employ': 7945, 'swatches': 7946, 'repellent': 7947, 'repellar': 7948, 'liberate': 7949, 'unprofessionally': 7950, '1970': 7951, 'revieved': 7952, 'actuallly': 7953, 'hopefulluy': 7954, 'wad': 7955, 'beigey': 7956, 'brilliantly': 7957, 'sweatering': 7958, 'flute': 7959, 'sto': 7960, 'wks': 7961, 'invent': 7962, 'wildfire': 7963, 'prohibitively': 7964, 'retailerpolgy': 7965, 'pursuit': 7966, 'whose': 7967, 'writer': 7968, \"'add\": 7969, \"cart'\": 7970, 'sweets': 7971, 'retailerp': 7972, 'bsck': 7973, 'midsummer': 7974, 'vi': 7975, 'array': 7976, 'sentiments': 7977, 'ni': 7978, 'surplice': 7979, '27in': 7980, 'nijar': 7981, 'myyyy': 7982, 'handwoven': 7983, 'patient': 7984, \"4'9\": 7985, 'laughs': 7986, 'insides': 7987, 'abolutely': 7988, 'palettes': 7989, 'storage': 7990, \"'stuck'\": 7991, 'barney': 7992, 'disapointed': 7993, 'marvilously': 7994, \"'peeks'\": 7995, 'pinky': 7996, 'nary': 7997, 'buldging': 7998, 'volumnous': 7999, 'asymetric': 8000, 'extraordinary': 8001, 'accentuates': 8002, 'rider': 8003, 'poses': 8004, 'yogini': 8005, 'lightwash': 8006, 'upstairs': 8007, 'foster': 8008, 'addtl': 8009, 'bloused': 8010, \"'honey\": 8011, \"slip'\": 8012, 'creations': 8013, 'views': 8014, 'ocher': 8015, 'sharking': 8016, 'surroundings': 8017, 'sneaker': 8018, 'ie': 8019, 'goner': 8020, 'tur': 8021, \"superman'd\": 8022, 'noisy': 8023, 'avid': 8024, 'selective': 8025, 'she': 8026, 'regulr': 8027, 'wrinkel': 8028, 'accounts': 8029, 'produbt': 8030, 'hire': 8031, \"lady's\": 8032, 'proble': 8033, \"mothers'\": 8034, 'seeeee': 8035, 'slightlyyyy': 8036, 'construc': 8037, 'bootles': 8038, 'anyw': 8039, 'brilliance': 8040, 'downtown': 8041, 'component': 8042, 'fluffiness': 8043, 'ahahahaha': 8044, 'pitiful': 8045, 'inclination': 8046, 'tt': 8047, 'simpleness': 8048, 'representations': 8049, 'versatille': 8050, 'fleur': 8051, 'ingnore': 8052, 'yolk': 8053, 'slubbed': 8054, 'stitches': 8055, 'glams': 8056, 'cuten': 8057, 'lisette': 8058, 'flecking': 8059, 'contributer': 8060, 'strech': 8061, 'ruf': 8062, 'jess': 8063, 'patio': 8064, 'renatkable': 8065, 'fem': 8066, 'gabardia': 8067, 'lacausa': 8068, 'dara': 8069, 'elementary': 8070, 'squared': 8071, 'ridge': 8072, 'loun': 8073, '2000': 8074, 'bridey': 8075, 'grows': 8076, 'really0': 8077, 'lslightly': 8078, 'trus': 8079, 'florilege': 8080, 'understood': 8081, 'tropic': 8082, 'joanna': 8083, 'gaines': 8084, 'provides': 8085, 'resign': 8086, 'reutn': 8087, 'woud': 8088, 'crwal': 8089, 'fals': 8090, 'awkwards': 8091, 'pot': 8092, 'comfrtable': 8093, 'awww': 8094, '28l': 8095, 'allergies': 8096, 'ide': 8097, 'globs': 8098, 'cranky': 8099, 'bunched': 8100, '11and': 8101, 'defects': 8102, 'worsk': 8103, 'dreses': 8104, 'neitral': 8105, 'everyth': 8106, 'equip': 8107, 'enhancement': 8108, 'expec': 8109, 'nora': 8110, 'sways': 8111, 'precise': 8112, 'loveliness': 8113, 'tents': 8114, 'bohoranna': 8115, 'rhapsody': 8116, \"combo's\": 8117, 'smoother': 8118, 'curved': 8119, 'regardi': 8120, 'tailors': 8121, 'primas': 8122, '123lb': 8123, 'babes': 8124, 'singly': 8125, 'olde': 8126, 'towne': 8127, 'hippies': 8128, 'woodstock': 8129, '9inches': 8130, 'peekaboos': 8131, 'disadvantage': 8132, 'slik': 8133, 'inwonderland': 8134, 'hesitancy': 8135, 'sz4': 8136, 'fulfill': 8137, 'incorporated': 8138, 'differemt': 8139, 'shapelessly': 8140, 'blousier': 8141, \"'off'\": 8142, 'cagrcoal': 8143, 'aded': 8144, 'mintue': 8145, 'darkler': 8146, 'mathced': 8147, 'everythiing': 8148, 'prefectly': 8149, 'msallet': 8150, 'jkeep': 8151, 'matvehd': 8152, 'waas': 8153, 'diffe': 8154, 'matetial': 8155, 'expexted': 8156, 'cinderella': 8157, 'accuracy': 8158, 'flipflops': 8159, 'amoret': 8160, 'unavoidable': 8161, 'glimpse': 8162, 'viewable': 8163, 'disrupt': 8164, 'martial': 8165, 'charleston': 8166, 'maxidress': 8167, 'whoops': 8168, 'unbeliev': 8169, 'overcome': 8170, 'whereof': 8171, 'fusible': 8172, 'interfacing': 8173, 'frist': 8174, \"ii've\": 8175, 'females': 8176, 'ahem': 8177, 'adorably': 8178, 'eccentric': 8179, 'snaggariffic': 8180, 'nutmeg': 8181, \"'bell\": 8182, 'hooked': 8183, 'fluctuating': 8184, 'tthis': 8185, 'classiest': 8186, \"passe'\": 8187, \"'t'\": 8188, 'seaso': 8189, 'emphasis': 8190, 'corpse': 8191, 'grill': 8192, 'chrolox': 8193, 'twirling': 8194, \"'petite'\": 8195, 'cowgirls': 8196, 'stability': 8197, 'diner': 8198, 'drawcord': 8199, 'sexyness': 8200, 'hwoever': 8201, 'balc': 8202, 'legginss': 8203, 'botos': 8204, 'sublte': 8205, 'noyte': 8206, 'retailerday': 8207, 'lackadaisical': 8208, 'vain': 8209, 'interfered': 8210, 'tulips': 8211, 'pluck': 8212, 'recipe': 8213, 'occas': 8214, 'flatting': 8215, 'frays': 8216, 'attent': 8217, 'rooftop': 8218, 'assist': 8219, 'musty': 8220, \"daughter'\": 8221, 'widths': 8222, 'litter': 8223, 'greener': 8224, 'prod': 8225, 'darla': 8226, 'fireengine': 8227, 'trickier': 8228, 'violetta': 8229, 'unconnected': 8230, 'reward': 8231, 'chosen': 8232, 'amenable': 8233, 'raved': 8234, 'smal': 8235, \"'sweater\": 8236, \"like'\": 8237, 'behave': 8238, 'casua': 8239, 'preordered': 8240, 'schoolboy': 8241, 'prep': 8242, 'pal': 8243, 'eprson': 8244, 'materila': 8245, 'strecthy': 8246, 'brr': 8247, 'exepct': 8248, \"fall'\": 8249, 'thongs': 8250, 'weakness': 8251, 'summation': 8252, 'nubbly': 8253, 'caccoon': 8254, 'foret': 8255, 'henleys': 8256, 'wildberry': 8257, 'normall': 8258, 'cheeks': 8259, 'wiry': 8260, 'embodiment': 8261, 'pesky': 8262, 'owning': 8263, 'intimidate': 8264, 'contraire': 8265, 'wowsa': 8266, 'eyeglass': 8267, 'sunglass': 8268, \"'car\": 8269, \"coat'\": 8270, 'following': 8271, 'aw': 8272, 'forarms': 8273, 'biokleen': 8274, 'permanent': 8275, 'partway': 8276, 'nonpetite': 8277, 'slumpy': 8278, 'winh': 8279, 'areturn': 8280, 'liekd': 8281, 'briar': 8282, 'colorblind': 8283, 'dowton': 8284, 'abby': 8285, 'expectant': 8286, 'curren': 8287, 'stiffy': 8288, '73': 8289, 'racetrack': 8290, 'pinned': 8291, 'mont': 8292, 'blanc': 8293, 'chamomix': 8294, 'unmistakable': 8295, 'matterhorn': 8296, 'zermatt': 8297, 'droppy': 8298, 'shapless': 8299, 'specious': 8300, 'allot': 8301, 'everywhe': 8302, 'prudish': 8303, 'skate': 8304, \"wheatley's\": 8305, 'poufs': 8306, 'farther': 8307, 'yuk': 8308, 'sub': 8309, \"143lb's\": 8310, 'peppery': 8311, 'devery': 8312, 'walnut': 8313, 'creek': 8314, 'storeroom': 8315, 'enthralled': 8316, 'intertwined': 8317, 'doors': 8318, 'sophistica': 8319, 'regularl': 8320, 'petittes': 8321, 'vulgar': 8322, 'huh': 8323, 'cigar': 8324, 'anticpated': 8325, 'thermals': 8326, 'sellers': 8327, 'coplaints': 8328, 'chances': 8329, 'sihrt': 8330, 'contrastin': 8331, 'overjoy': 8332, \"6's\": 8333, 'fig': 8334, 'smurf': 8335, 'zara': 8336, 'copy': 8337, 'sierra': 8338, 'morocco': 8339, 'colw': 8340, 'ripples': 8341, 'tummmy': 8342, 'stages': 8343, 'frail': 8344, 'taught': 8345, 'latch': 8346, '98lbs': 8347, 'nifty': 8348, 'afterall': 8349, 'overexposed': 8350, 'shield': 8351, 'status': 8352, 'buckled': 8353, 'bunching': 8354, 'airiness': 8355, 'anita': 8356, 'dongre': 8357, 'demential': 8358, 'ouside': 8359, 'enormously': 8360, 'thoat': 8361, 'vineyard': 8362, 'occassions': 8363, 'sufficiently': 8364, 'cinchable': 8365, 'asscoaites': 8366, '143lbs': 8367, 'flux': 8368, 'weightiness': 8369, 'spoiler': 8370, 'crossfront': 8371, 'oetite': 8372, 'tory': 8373, 'burch': 8374, 'bandaid': 8375, 'ballroom': 8376, 'warehouse': 8377, 'gor': 8378, 'geous': 8379, 'engine': 8380, 'artistry': 8381, 'commercial': 8382, 'meda': 8383, 'twiggy': 8384, 'underthings': 8385, 'ragged': 8386, 'arbor': 8387, 'mediterenian': 8388, 'alive': 8389, 'horizon': 8390, 'irregularities': 8391, 'complaintbis': 8392, \"it'd\": 8393, 'distinguishable': 8394, 'pullers': 8395, 'hokey': 8396, 'turned': 8397, 'taylor': 8398, \"'stitch'\": 8399, 'snowflake': 8400, \"cutesy'\": 8401, 'beaded': 8402, 'crunchy': 8403, 'flattereing': 8404, 'adventurous': 8405, 'film': 8406, 'unwrapping': 8407, 'pos': 8408, 'latigo': 8409, 'stunna': 8410, \"44's\": 8411, 'canopy': 8412, 'stitchin': 8413, 'remainder': 8414, 'daytripper': 8415, 'complicate': 8416, 'portrait': 8417, 'riley': 8418, 'awate': 8419, 'flory': 8420, 'precisely': 8421, 'scratching': 8422, 'bass': 8423, 'meghan': 8424, 'trainor': 8425, 'song': 8426, 'worrying': 8427, 'exams': 8428, 'wale': 8429, 'peace': 8430, 'expertly': 8431, 'interviewer': 8432, 'skosh': 8433, 'cu': 8434, 'upsid': 8435, 'amounts': 8436, \"'warm\": 8437, \"pullover'\": 8438, 'unavail': 8439, 'whats': 8440, 'acquisition': 8441, 'advantages': 8442, 'elorn': 8443, \"'wear\": 8444, 'loden': 8445, \"marvel's\": 8446, 'agent': 8447, 'carter': 8448, 'coveted': 8449, 'subtleties': 8450, 'whiz': 8451, 'needlessly': 8452, 'rotund': 8453, 'unaltered': 8454, 'silh': 8455, 'terrace': 8456, 'awwww': 8457, 'rusn': 8458, 'xsm': 8459, 'eggshell': 8460, 'therapy': 8461, '183lbs': 8462, 'soul': 8463, \"cardigan's\": 8464, 'armhoes': 8465, \"am5'4'\": 8466, \"won'\": 8467, \"subway's\": 8468, 'arise': 8469, 'werid': 8470, 'immature': 8471, '83': 8472, 'louisiana': 8473, 'ple': 8474, 'marginally': 8475, 'pregnan': 8476, 'whack': 8477, 'creepy': 8478, 'yards': 8479, 'waking': 8480, 'goldilicks': 8481, '3hr': 8482, 'beauitful': 8483, 'islander': 8484, 'saddlebag': 8485, 'unzipping': 8486, 'lemons': 8487, 'searched': 8488, 'adding': 8489, 'asser': 8490, 'handbags': 8491, 'skylar': 8492, 'impulsively': 8493, 'loveee': 8494, 'christmastime': 8495, 'costumey': 8496, 'wildly': 8497, 'irritation': 8498, '7in': 8499, 'unstable': 8500, 'swoop': 8501, 'talle': 8502, 'hinder': 8503, 'loooks': 8504, 'upwards': 8505, 'swooned': 8506, 'ins': 8507, 'iterations': 8508, 'puttin': 8509, 'showcasing': 8510, 'notta': 8511, 'international': 8512, 'worldly': 8513, 'taco': 8514, 'henly': 8515, 'detal': 8516, 'dissapoint': 8517, 'inter': 8518, 'iop': 8519, 'ned': 8520, 'sofy': 8521, 'nexk': 8522, 'occur': 8523, 'thrift': 8524, 'cringe': 8525, 'unbelted': 8526, 'cases': 8527, 'begins': 8528, 'minneapol': 8529, 'waaaaaaaay': 8530, 'millimeter': 8531, 'essence': 8532, 'disappears': 8533, 'lets': 8534, 'stifling': 8535, 'tapering': 8536, '116bs': 8537, 'talls': 8538, 'chafe': 8539, 'balooned': 8540, 'ageless': 8541, 'markings': 8542, \"'side\": 8543, \"armpit'\": 8544, '4l': 8545, 'epic': 8546, 'shapel': 8547, 'itsy': 8548, 'bitsy': 8549, 'colorwise': 8550, 'manually': 8551, \"voila'\": 8552, 'simplifie': 8553, \"'i\": 8554, \"color'\": 8555, 'ode': 8556, 'attentio': 8557, 'loooovvvvveee': 8558, 'friendliness': 8559, 'saver': 8560, 'sink': 8561, 'picro': 8562, 'temple': 8563, 'nancydee': 8564, 'ro': 8565, 'melodies': 8566, 'aske': 8567, 'arrow': 8568, 'elita': 8569, 'accentuated': 8570, 'snowflske': 8571, 'likded': 8572, 'fanicer': 8573, 'ratings': 8574, \"'cover\": 8575, 'comparat': 8576, 'deaux': 8577, 'les': 8578, 'fauves': 8579, 'neckband': 8580, 'athough': 8581, 'faire': 8582, '14p': 8583, 'pasta': 8584, 'heathery': 8585, \"'cuz\": 8586, 'tanvi': 8587, 'sauce': 8588, '32p': 8589, '117bl': 8590, 'antheropologie': 8591, 'unify': 8592, 'looovvveee': 8593, 'creature': 8594, 'comforts': 8595, 'looged': 8596, 'regain': 8597, 'skills': 8598, 'tum': 8599, '130pounds': 8600, 'devote': 8601, 'beauti': 8602, 'elide': 8603, 'snowing': 8604, 'obsxessing': 8605, 'whcich': 8606, 'workedc': 8607, 'seas': 8608, 'shins': 8609, 'distribute': 8610, 'oredered': 8611, 'overemphasize': 8612, 'contralaterally': 8613, 'unreasonably': 8614, 'underbust': 8615, \"husband''s\": 8616, 'midrift': 8617, \"5''\": 8618, 'tyically': 8619, 'attack': 8620, 'bottam': 8621, 'bled': 8622, 'melting': 8623, 'easilly': 8624, 'bei': 8625, 'hysterically': 8626, 'hurting': 8627, 'poking': 8628, 'cali': 8629, 'lauer': 8630, 'lat': 8631, 'leathers': 8632, 'cozying': 8633, 'wrappi': 8634, 'mehh': 8635, 'clownish': 8636, 'smokes': 8637, '67': 8638, 'twig': 8639, 'sma': 8640, 'nips': 8641, 'cello': 8642, 'saffron': 8643, 'repeller': 8644, 'baltimore': 8645, 'towels': 8646, 'understandable': 8647, 'leathery': 8648, 'overywhelming': 8649, 'maza': 8650, \"'long\": 8651, \"heavy'\": 8652, 'strategy': 8653, 'housecoat': 8654, 'cooommfey': 8655, 'reel': 8656, 'boundaries': 8657, 'nix': 8658, 'herls': 8659, 'nuce': 8660, \"29'\": 8661, 'slimmingly': 8662, 'elongating': 8663, 'flamingos': 8664, 'hairs': 8665, 'actively': 8666, 'pup': 8667, 'lovingly': 8668, 'distinctly': 8669, 'wars': 8670, \"denim'\": 8671, 'elephants': 8672, 'improperly': 8673, 'sema': 8674, 'pari': 8675, 'laced': 8676, 'rural': 8677, 'countries': 8678, 'exaggerating': 8679, 'thirteen': 8680, 'pokey': 8681, 'monica': 8682, 'restocked': 8683, 'baptism': 8684, 'appliques': 8685, 'lilitz': 8686, \"'slim'\": 8687, 'gonga': 8688, 'wiht6': 8689, 'newsies': 8690, '133lbs': 8691, 'snuggy': 8692, 'tinted': 8693, 'valuable': 8694, 'enthral': 8695, 'whey': 8696, 'terracotta': 8697, 'sounded': 8698, 'horns': 8699, 'meredith': 8700, 'perspiration': 8701, 'benea': 8702, 'baggage': 8703, 'bismol': 8704, 'insistence': 8705, 'unfort': 8706, 'fanciness': 8707, 'genuine': 8708, 'purchasable': 8709, 'thx': 8710, 'duds': 8711, 'bearable': 8712, 'pedal': 8713, 'pushers': 8714, 'fiend': 8715, 'hedge': 8716, 'priviledge': 8717, '190': 8718, 'boom': 8719, 'cousins': 8720, 'shirty': 8721, 'f21': 8722, 'horrific': 8723, 'hump': 8724, 'fruns': 8725, 'purchaser': 8726, 'squeal': 8727, 'enamor': 8728, 'riddle': 8729, 'compaint': 8730, 'ldecide': 8731, 'emroidered': 8732, \"isn'\": 8733, 'rises': 8734, 'creppy': 8735, 'checkered': 8736, 'pieties': 8737, 'concensus': 8738, 'raindrops': 8739, 'lass': 8740, 'circumstances': 8741, 'reply': 8742, 'showpiece': 8743, 'qualify': 8744, \"i'lll\": 8745, 'jaclket': 8746, \"jammie's\": 8747, 'retire': 8748, 'maui': 8749, 'retirement': 8750, 'av': 8751, 'qual': 8752, 'blossoms': 8753, 'honeybees': 8754, 'opacity': 8755, 'demonstrate': 8756, 'unlace': 8757, 'obligate': 8758, 'ugliest': 8759, 'antebellum': 8760, 'depictes': 8761, '149lbs': 8762, 'falll': 8763, \"24''\": 8764, 'pret': 8765, 'cardigen': 8766, 'arguably': 8767, 'consolation': 8768, 'prize': 8769, 'moomoo': 8770, 'smitten': 8771, 'revisitation': 8772, 'dining': 8773, 'sisz': 8774, 'loely': 8775, 'foundation': 8776, 'nutcracker': 8777, 'knuckle': 8778, 'necks': 8779, 'incalled': 8780, 'flir': 8781, 'lilt': 8782, 'howev': 8783, 'direct': 8784, 'froth': 8785, \"'right'\": 8786, 'bulls': 8787, 'presentable': 8788, 'lark': 8789, \"20's\": 8790, 'entrancing': 8791, 'nydj': 8792, 'lovin': 8793, '501': 8794, 'assuming': 8795, \"1920's\": 8796, 'loreley': 8797, 'resisted': 8798, 'careless': 8799, 'blueness': 8800, 'stright': 8801, \"din'dt\": 8802, 'wrikling': 8803, 'wwear': 8804, 'madeline': 8805, 'stories': 8806, 'galleria': 8807, 'unlikely': 8808, 'kris': 8809, 'wells': 8810, \"momma's\": 8811, 'nemesis': 8812, 'gorjuss': 8813, 'yoself': 8814, '195lbs': 8815, 'trired': 8816, 'lvoed': 8817, 'aleardy': 8818, \"seinfeld's\": 8819, 'policy': 8820, 'ilove': 8821, 'retrospect': 8822, 'recognizable': 8823, 'realistically': 8824, 'turtlenceck': 8825, 'eri': 8826, 'ali': 8827, 'lululemons': 8828, 'dooooown': 8829, 'smaill': 8830, 'gravely': 8831, 'predominately': 8832, 'completly': 8833, 'contemplating': 8834, 'minuscule': 8835, 'checkboard': 8836, 'mys': 8837, 'horror': 8838, 'tout': 8839, 'vogue': 8840, 'swearter': 8841, 'frankenstein': 8842, 'lens': 8843, 'march': 8844, 'cloy': 8845, 'upkeep': 8846, 'ir': 8847, 'generic': 8848, 'oaks': 8849, 'ey': 8850, 'fitt': 8851, 'bitty': 8852, 'putting': 8853, 'bottomed': 8854, 'favorably': 8855, 'whyyyyyyyyyyy': 8856, 'accented': 8857, 'browner': 8858, \"n'flare\": 8859, 'armscye': 8860, 'procrastinate': 8861, 'aaaahs': 8862, \"'flare'\": 8863, 'notfor': 8864, 'a9dn': 8865, 'sizw': 8866, 'bubblegum': 8867, 'hippier': 8868, \"'flair'\": 8869, \"5''6'\": 8870, 'goon': 8871, 'johns': 8872, 'complection': 8873, 'laziest': 8874, 'sortof': 8875, 'demarcate': 8876, 'pleaser': 8877, '178': 8878, \"father's\": 8879, 'supposedly': 8880, 'shlumpy': 8881, 'wowser': 8882, \"36d's\": 8883, '0in': 8884, 'grant': 8885, 'snowstorm': 8886, 'foldable': 8887, 'reflective': 8888, 'descent': 8889, 'chang': 8890, '132lbs': 8891, 'vast': 8892, 'rubbery': 8893, 'masquerade': 8894, 'boxines': 8895, 'nitpick': 8896, 'bauble': 8897, \"catalog's\": 8898, 'anorexic': 8899, 'unhealthy': 8900, 'wor': 8901, 'hoo': 8902, 'peruse': 8903, 'ornate': 8904, 'photographers': 8905, 'sept': 8906, 'palo': 8907, 'alto': 8908, 'edessa': 8909, \"'cos\": 8910, \"nolan's\": 8911, 'users': 8912, 'capped': 8913, 'enoug': 8914, 'anybody': 8915, 'secured': 8916, 'waitband': 8917, 'larg': 8918, 'patters': 8919, 'barn': 8920, 'allllllmost': 8921, 'elevated': 8922, 'fess': 8923, '154': 8924, 'font': 8925, 'winth': 8926, 'endo': 8927, 'amnesty': 8928, '6in': 8929, 'format': 8930, 'jns': 8931, 'dividends': 8932, 'shimmers': 8933, 'howeverl': 8934, 'leopards': 8935, 'othe': 8936, 'assembled': 8937, 'fifth': 8938, 'floreale': 8939, 'manicure': 8940, 'seats': 8941, 'weer': 8942, 'springlike': 8943, 'pkg': 8944, 'rodeo': 8945, 'athro': 8946, 'notches': 8947, 'enable': 8948, '448': 8949, 'thsi': 8950, 'sue': 8951, 'missed': 8952, 'furniture': 8953, 'collaboration': 8954, 'lightwei': 8955, 'blus': 8956, \"'sugary'\": 8957, \"'pop\": 8958, '10l': 8959, 'bs': 8960, 'drapi': 8961, 'buys': 8962, \"'just'\": 8963, \"'digi\": 8964, 'wrn': 8965, 'ulitimately': 8966, 'tres': 8967, 'keer': 8968, 'asters': 8969, 'hoochie': 8970, 'mamma': 8971, 'clack': 8972, 'weston': 8973, 'jewelery': 8974, 'mixe': 8975, 'throughou': 8976, 'corer': 8977, 'litttle': 8978, 'lacked': 8979, 'accepted': 8980, '10s': 8981, 'melita': 8982, 'wouldn': 8983, 'insane': 8984, 'fisherman': 8985, 'blute': 8986, 'walks': 8987, 'cutr': 8988, 'speaker': 8989, 'fundraise': 8990, 'homeless': 8991, 'abuse': 8992, 'affluent': 8993, 'physical': 8994, 'heartfelt': 8995, 'inclusive': 8996, 'authenticity': 8997, 'encouragement': 8998, 'threaten': 8999, 'billowly': 9000, 'congratulate': 9001, \"'comfort\": 9002, \"zone'\": 9003, '30b': 9004, 'imaginative': 9005, \"etro's\": 9006, 'thousands': 9007, 'took': 9008, 'sheerling': 9009, 'agustable': 9010, 'chokers': 9011, 'tenty': 9012, 'mrs': 9013, 'roper': 9014, 'strenuous': 9015, 'unfixable': 9016, 'mellowed': 9017, 'anrtho': 9018, 'skimp': 9019, 'concho': 9020, 'rasberry': 9021, 'upload': 9022, '2007': 9023, 'flipp': 9024, 'demographic': 9025, 'consequences': 9026, 'minuses': 9027, 'pluses': 9028, 'bendy': 9029, 'unnoticeable': 9030, '20lb': 9031, 'nirsing': 9032, \"7's\": 9033, 'wishy': 9034, 'washy': 9035, 'shh': 9036, 'prioritize': 9037, 'overhang': 9038, 'completed': 9039, 'luggage': 9040, 'uptown': 9041, 'spatter': 9042, 'msut': 9043, 'wrng': 9044, 'bude': 9045, 'mildish': 9046, 'nw': 9047, 'tendd': 9048, 'midwe': 9049, 'concepts': 9050, 'surrender': 9051, '154lbs': 9052, 'artfully': 9053, 'recoil': 9054, 'ranchers': 9055, '36j': 9056, 'purchse': 9057, 'instruction': 9058, 'whine': 9059, 'saggier': 9060, \"'shear\": 9061, '6t': 9062, 'bunches': 9063, 'ooze': 9064, '1940s': 9065, 'guessing': 9066, 'woop': 9067, 'critical': 9068, 'bizarrely': 9069, 'leopard': 9070, '6s': 9071, '8s': 9072, 'balloony': 9073, '92': 9074, 'derriã©re': 9075, 'flavor': 9076, 'unreliable': 9077, 'salesgirls': 9078, 'quaiity': 9079, 'pict': 9080, 'tod': 9081, 'agreeing': 9082, 'underpinnings': 9083, 'mak': 9084, 'crossback': 9085, 'cavernous': 9086, '32nd': 9087, 'kneecaps': 9088, 'fleshy': 9089, \"aaaaandidon'twanttopayforshipping\": 9090, 'resemblance': 9091, 'dose': 9092, 'juneberry': 9093, 'evocative': 9094, 'surprizingly': 9095, 'nbeed': 9096, 'splendor': 9097, 'climb': 9098, 'providing': 9099, 'wicked': 9100, 'syllish': 9101, 'afterwork': 9102, 'ninja': 9103, 'packages': 9104, 'belive': 9105, 'veltevty': 9106, 'carton': 9107, 'comfim': 9108, 'dissapointing': 9109, 'embroiderey': 9110, 'slone': 9111, 'rouge': 9112, 'drappiness': 9113, \"years'\": 9114, 'swimmers': 9115, 'calsual': 9116, 'shiryt': 9117, 'fuzzies': 9118, 'lifelessly': 9119, 'sweeten': 9120, 'iand': 9121, 'lemonade': 9122, 'goodthing': 9123, 'camre': 9124, 'ausaria': 9125, 'knuc': 9126, 'christmas1': 9127, 'ewwww': 9128, \"'dry\": 9129, \"only'\": 9130, 'companies': 9131, 'horticulture': 9132, 'flatforms': 9133, 'workw': 9134, 'completer': 9135, '38inch': 9136, 'astronomical': 9137, 'stilt': 9138, 'sausages': 9139, \"sayin'\": 9140, 'bountiful': 9141, \"'i'm\": 9142, 'upturned': 9143, 'admirin': 9144, 'conjecture': 9145, 'densest': 9146, 'bags': 9147, 'texturing': 9148, 'choral': 9149, 'ligher': 9150, \"'summer'\": 9151, '1x': 9152, 'unacceptable': 9153, \"36'\": 9154, 'interested': 9155, '130b': 9156, 'pinched': 9157, 'fund': 9158, 'sensual': 9159, 'purr': 9160, 'sees': 9161, 'oct': 9162, 'puerto': 9163, 'rico': 9164, 'epice': 9165, \"'girls'\": 9166, 'adopt': 9167, 'curatorial': 9168, 'container': 9169, 'topics': 9170, 'prick': 9171, 'lobster': 9172, 'managed': 9173, 'improvements': 9174, 'beneficial': 9175, 'nellore': 9176, 'min': 9177, 'loc': 9178, 'srink': 9179, 'smartly': 9180, 'brests': 9181, 'ugg': 9182, 'duties': 9183, 'brides': 9184, 'madonna': 9185, 'northeastern': 9186, 'dah': 9187, 'mosly': 9188, 'madewell': 9189, 'tired': 9190, 'rial': 9191, 'dippy': 9192, 'propensity': 9193, 'bhanuni': 9194, '16s': 9195, 'craftsman': 9196, 'pounce': 9197, 'dreams': 9198, 'abhor': 9199, 'topic': 9200, 'owend': 9201, '122lb': 9202, 'weathered': 9203, 'cleans': 9204, 'associates': 9205, '230lbs': 9206, 'discription': 9207, 'contender': 9208, 'disppaointed': 9209, 'whte': 9210, 'pr': 9211, 'rolle': 9212, 'convey': 9213, 'thesis': 9214, 'petticoats': 9215, 'cosmetic': 9216, 'downwards': 9217, \"lapel's\": 9218, 'cartwheel': 9219, \"cartonnier's\": 9220, 'knockout': 9221, 'mouth': 9222, 'runways': 9223, 'unsuited': 9224, 'followed': 9225, 'glimmer': 9226, 'approaches': 9227, 'dressied': 9228, 'planner': 9229, 'quincy': 9230, 'snuggest': 9231, 'scatter': 9232, 'exceess': 9233, 'lop': 9234, 'taffeta': 9235, 'austin': 9236, 'overbeari': 9237, 'pallet': 9238, 'sift': 9239, 'overt': 9240, 'wreck': 9241, 'otw': 9242, 'monstrously': 9243, 'vibrancy': 9244, 'newbury': 9245, 'thighed': 9246, 'oldie': 9247, 'goodie': 9248, 'prowl': 9249, 'plague': 9250, 'richness': 9251, 'plusher': 9252, 'staright': 9253, 'stuffed': 9254, 'breastline': 9255, \"69's\": 9256, 'sac': 9257, 'elect': 9258, '95lb': 9259, 'fluffier': 9260, \"'90's\": 9261, 'shirtwaist': 9262, 'sung': 9263, 'sumer': 9264, 'cozier': 9265, 'boosh': 9266, \"mean's\": 9267, 'tying': 9268, \"'khaki'\": 9269, 'goo': 9270, 'cutsie': 9271, 'beautivul': 9272, 'lotus': 9273, 'toasting': 9274, 'comfotably': 9275, 'litle': 9276, 'oood': 9277, 'rtw': 9278, 'lov': 9279, 'sotra': 9280, 'grungy': 9281, 'disap': 9282, 'shoulda': 9283, 'tugging': 9284, 'ut': 9285, 'developed': 9286, 'inspection': 9287, 'instruct': 9288, 'allure': 9289, \"ol'\": 9290, 'tickles': 9291, 'tmie': 9292, 'isthe': 9293, 'lfit': 9294, 'lnever': 9295, 'teaser': 9296, 'reconsidered': 9297, 'punks': 9298, 'troubadour': 9299, 'pirces': 9300, 'nexl': 9301, 'pcture': 9302, 'stupid': 9303, \"'shell'\": 9304, 'spree': 9305, 'tow': 9306, 'him': 9307, 'rubs': 9308, 'sucks': 9309, 'toplayer': 9310, 'stubborn': 9311, 'scarfs': 9312, 'folklorica': 9313, 'folkloric': 9314, 'orderer': 9315, 'respite': 9316, 'wid': 9317, 'sallow': 9318, 'fiddly': 9319, 'hobby': 9320, 'tranforms': 9321, 'btoh': 9322, 'cadet': 9323, 'scruffy': 9324, \"merchants'\": 9325, 'websites': 9326, 'constrained': 9327, 'mummy': 9328, 'hurdle': 9329, 'nippley': 9330, 'visibility': 9331, 'headlights': 9332, 'vas': 9333, 'ladyish': 9334, 'planes': 9335, 'possi': 9336, 'winery': 9337, 'medlum': 9338, 'rigidity': 9339, 'corny': 9340, 'provence': 9341, 'vision': 9342, 'expert': 9343, 'unforgettable': 9344, 'snu': 9345, 'elouise': 9346, 'challenges': 9347, 'slippers': 9348, 'ole': 9349, 'heap': 9350, 'fromm': 9351, 'causally': 9352, 'shank': 9353, 'remade': 9354, 'assort': 9355, '40c': 9356, 'snigger': 9357, \"o'clock\": 9358, 'tallish': 9359, 'cookie': 9360, 'cutter': 9361, 'lug': 9362, 'unassuming': 9363, 'gorgeousness': 9364, 'recurve': 9365, 'chew': 9366, 'comcerns': 9367, 'backpack': 9368, \"26''\": 9369, 'seperate': 9370, '23b': 9371, 'inwas': 9372, 'palazzos': 9373, 'thiner': 9374, 'cooold': 9375, 'hometown': 9376, 'uniquenesses': 9377, 'parti': 9378, 'guard': 9379, 'stayed': 9380, 'recognition': 9381, \"individual's\": 9382, 'scrooge': 9383, 'imperial': 9384, 'thursday': 9385, 'knitter': 9386, 'louis': 9387, 'vuitton': 9388, 'snatched': 9389, 'patterned': 9390, 'differnt': 9391, 'goodbye': 9392, 'longs': 9393, 'sass': 9394, 'symphony': 9395, 'sandstripe': 9396, 'toothpicks': 9397, 'amputate': 9398, \"barbie's\": 9399, 'vex': 9400, 'iffy': 9401, 'nostalgia': 9402, 'synched': 9403, 'host': 9404, 'cook': 9405, '38ish': 9406, 'flowered': 9407, 'talking': 9408, 'retailerpolog': 9409, 'clavicle': 9410, 'cris': 9411, 'szie': 9412, 'looke': 9413, 'aweful': 9414, 'ahge': 9415, 'hur': 9416, 'palelike': 9417, 'asflattering': 9418, 'minneapolis': 9419, 'rainproof': 9420, 'adj': 9421, 'playfully': 9422, 'revisit': 9423, 'chopped': 9424, 'jacker': 9425, 'swag': 9426, '124lb': 9427, 'assessments': 9428, 'kicky': 9429, 'basement': 9430, 'lied': 9431, 'learned': 9432, 'depressing': 9433, 'subsequently': 9434, 'seatbelt': 9435, 'youthfull': 9436, 'drapy': 9437, 'pregant': 9438, 'icecream': 9439, 'leana': 9440, 'suspicion': 9441, 'gar': 9442, 'slot': 9443, 'plainly': 9444, 'boohoo': 9445, '3xl': 9446, \"ladies'\": 9447, 'leaving': 9448, 'apttenrs': 9449, 'allroads': 9450, 'cub': 9451, 'scree': 9452, 'stri': 9453, 'pragmatics': 9454, 'trucker': 9455, 'referance': 9456, 'mischievous': 9457, 'uniqlo': 9458, 'airism': 9459, 'gerat': 9460, 'amsterdam': 9461, 'expedite': 9462, 'stair': 9463, 'wintergreens': 9464, 'plug': 9465, 'overuse': 9466, 'snugness': 9467, 'lowcut': 9468, 'vaguely': 9469, 'shoddily': 9470, 'molting': 9471, 'aprã¨s': 9472, 'otth': 9473, '03dd': 9474, 'xsma': 9475, 'marni': 9476, 'prada': 9477, 'est': 9478, \"store's\": 9479, 'feed': 9480, 'joyful': 9481, 'appropr': 9482, 'batty': 9483, 'relieve': 9484, 'pseudo': 9485, \"you've\": 9486, \"there're\": 9487, 'bicep': 9488, 'infatuated': 9489, 'overdo': 9490, 'butit': 9491, 'stinning': 9492, 'smashed': 9493, 'neverth': 9494, 'relieved': 9495, 'availalbe': 9496, 'htin': 9497, 'weary': 9498, 'lifespan': 9499, 'colorfastness': 9500, 'nikrooz': 9501, 'andfestive': 9502, 'cleanly': 9503, 'newborn': 9504, \"you're\": 9505, 'underweight': 9506, 'simplest': 9507, 'hone': 9508, 'slowly': 9509, 'disappearing': 9510, 'weght': 9511, 'exceeded': 9512, \"'swinging'\": 9513, \"mayn't\": 9514, 'importance': 9515, 'fort': 9516, 'knox': 9517, 'gauntlet': 9518, 'labor': 9519, 'acutually': 9520, 'outrageous': 9521, 'dangerously': 9522, \"summer'ness\": 9523, 'chord': 9524, 'starchy': 9525, 'cacoon': 9526, 'overstitching': 9527, 'ribbbed': 9528, 'filtting': 9529, 'perferred': 9530, 'lai': 9531, 'ought': 9532, 'returnable': 9533, 'mortif': 9534, 'junior': 9535, 'rustle': 9536, 'oil': 9537, 'ideally': 9538, 'bleachers': 9539, 'ghost': 9540, 'purchasi': 9541, 'secondhand': 9542, 'temptation': 9543, '107pound': 9544, 'wight': 9545, 'toll': 9546, 'wnat': 9547, 'realign': 9548, '0verall': 9549, 'conspicuous': 9550, 'a34b': 9551, 'ahold': 9552, 'orginially': 9553, 'palced': 9554, 'appropirate': 9555, 'opinion0': 9556, \"'timeless'\": 9557, 'gi': 9558, 'ponder': 9559, 'comfie': 9560, 'overcast': 9561, 'glitzy': 9562, 'metallics': 9563, 'misread': 9564, 'bautiful': 9565, 'beatifully': 9566, 'quads': 9567, 'waited': 9568, 'via': 9569, 'roughness': 9570, 'wt': 9571, 'marsupial': 9572, 'smack': 9573, 'dab': 9574, 'marry': 9575, 'cab': 9576, 'curb': 9577, 'isth': 9578, 'predominantly': 9579, 'iordered': 9580, 'rregualr': 9581, 'deciced': 9582, 'lavaialble': 9583, 'voice': 9584, 'musually': 9585, 'merit': 9586, 'squirrel': 9587, 'wierd': 9588, 'loook': 9589, 'adoreable': 9590, 'victim': 9591, 'horrors': 9592, 'sweatshirty': 9593, 'pleather': 9594, 'considerate': 9595, 'stylewise': 9596, 'loooooong': 9597, 'ginerva': 9598, 'chelsea': 9599, 'poodles': 9600, 'estatic': 9601, 'oompaloompa': 9602, 'tangl': 9603, 'detaling': 9604, 'darkly': 9605, 'indulge': 9606, 'imitations': 9607, 'firming': 9608, '8petite': 9609, 'thorough': 9610, 'danger': 9611, '3xs': 9612, 'isolate': 9613, 'el': 9614, \"'pockets'\": 9615, \"t'shirt\": 9616, 'unsecured': 9617, 'harness': 9618, 'lusciousness': 9619, 'amazement': 9620, 'handsome': 9621, 'whimsically': 9622, 'famine': 9623, 'brainier': 9624, 'frump': 9625, 'ear': 9626, 'itll': 9627, 'subset': 9628, 'nonsensical': 9629, 'balmy': 9630, 'whomever': 9631, 'overhead': 9632, 'supersoft': 9633, 'tencil': 9634, 'ama': 9635, 'fr': 9636, 'dated': 9637, 'rescue': 9638, 'conversely': 9639, '2regular': 9640, 'fallback': 9641, 'toggles': 9642, 'gunmetal': 9643, 'stinkin': 9644, 'inadvertently': 9645, 'typica': 9646, 'guidance': 9647, 'closing': 9648, 'pta': 9649, 'saturdays': 9650, 'deails': 9651, 'kuddos': 9652, 'crinolined': 9653, 'puckery': 9654, 'marian': 9655, 'lauzet': 9656, 'vol': 9657, 'robins': 9658, 'egg': 9659, 'tennessee': 9660, 'ballgowns': 9661, 'attribute': 9662, 'stratchy': 9663, 'trie': 9664, 'canna': 9665, 'complainers': 9666, 'righ': 9667, 'nailed': 9668, 'sweeter': 9669, 'likee': 9670, 'monotony': 9671, 'streeeeetches': 9672, 'noni': 9673, 'verstaile': 9674, 'longwaisted': 9675, 'sli': 9676, 'elliot': 9677, 'lbds': 9678, 'bodily': 9679, 'thighness': 9680, 'george': 9681, 'venson': 9682, 'vousta': 9683, 'polar': 9684, 'bears': 9685, 'deer': 9686, 'corrected': 9687, 'bending': 9688, 'lighting': 9689, 'enjoyed': 9690, 'tshirts': 9691, 'exorbitant': 9692, 'dol': 9693, 'minis': 9694, 'patchworked': 9695, 'calia': 9696, 'naughty': 9697, 'user': 9698, 'flail': 9699, 'housedress': 9700, '5star': 9701, 'quantity': 9702, 'burdensome': 9703, 'inky': 9704, 'ludlow': 9705, 'beginning': 9706, \"'lacy'\": 9707, 'hearty': 9708, 'laika': 9709, 'inca': 9710, 'bhldn': 9711, 'reception': 9712, 'located': 9713, '116ibs': 9714, 'suuuuuper': 9715, 'overbearing': 9716, \"wedge's\": 9717, 'unfortunetly': 9718, 'mainstreamed': 9719, 'materical': 9720, 'unreal': 9721, 'sheerer': 9722, 'trapezoid': 9723, 'starched': 9724, 'addit': 9725, 'vinta': 9726, 'wicks': 9727, 'vermillion': 9728, '2017': 9729, '34e': 9730, 'flatteuing': 9731, 'applaud': 9732, 'casing': 9733, 'pounced': 9734, 'enroute': 9735, 'inc': 9736, 'farrier': 9737, 'worries': 9738, 'crossword': 9739, 'combined': 9740, 'bout': 9741, 'upsetting': 9742, 'neony': 9743, 'blind': 9744, 'fortuny': 9745, 'bumble': 9746, 'bees': 9747, 'beautifull': 9748, 'vouch': 9749, 'stoked': 9750, 'excel': 9751, 'suite': 9752, 'tested': 9753, 'leak': 9754, 'scottish': 9755, 'joe': 9756, 'wellies': 9757, 'peasanty': 9758, 'botto': 9759, 'simlpe': 9760, 'unseamed': 9761, 'denium': 9762, 'ghis': 9763, 'probabley': 9764, 'listening': 9765, 'kakhi': 9766, 'salesclerk': 9767, 'odette': 9768, 'filmsy': 9769, 'spades': 9770, 'descriptive': 9771, 'pep': 9772, 'airplane': 9773, 'fruit': 9774, 'peittes': 9775, \"pantie's\": 9776, 'comes': 9777, 'predictably': 9778, 'ja': 9779, 'crisply': 9780, 'respectable': 9781, \"stone's\": 9782, 'living': 9783, \"hadn't\": 9784, 'overdressed': 9785, \"'default'\": 9786, 'grosgrain': 9787, 'forties': 9788, 'garme': 9789, 'glendale': 9790, \"'different\": 9791, \"'puckered'\": 9792, 'legwear': 9793, 'goldish': 9794, 'blissfully': 9795, 'thise': 9796, 'tucker': 9797, 'elate': 9798, 'lowest': 9799, 'flax': 9800, 'lofty': 9801, 'henely': 9802, 'swingier': 9803, 'milan': 9804, \"2's\": 9805, \"4's\": 9806, 'supersexy': 9807, 'savings': 9808, 'blunt': 9809, 'outgo': 9810, 'task': 9811, 'idaho': 9812, \"patrick's\": 9813, 'plaza': 9814, 'mediately': 9815, 'coverages': 9816, 'wynwood': 9817, 'playfulness': 9818, 'scope': 9819, \"sparrow's\": 9820, '4in': 9821, '128b': 9822, 'listing': 9823, 'hipbones': 9824, 'casula': 9825, 'loves': 9826, 'firmness': 9827, \"'body'\": 9828, 'official': 9829, 'superficial': 9830, 'greenville': 9831, 'sc': 9832, 'apex': 9833, 'paintings': 9834, 'solved': 9835, 'flannels': 9836, 'bruise': 9837, 'ending': 9838, 'ehre': 9839, 'pippa': 9840, 'swishier': 9841, 'chintzy': 9842, 'intensely': 9843, 'biggy': 9844, 'knakis': 9845, 'beauiful': 9846, 'goings': 9847, 'tentative': 9848, 'held': 9849, 'femenine': 9850, 'drawer': 9851, 'pretties': 9852, 'rosy': 9853, 'disappoitned': 9854, 'sice': 9855, 'justifiable': 9856, 'feasible': 9857, 'suspicious': 9858, 'hobbit': 9859, \"idea's\": 9860, '112llbs': 9861, 'instuctions': 9862, 'dryable': 9863, 'goodwill': 9864, 'inkish': 9865, 'longing': 9866, '28dddd': 9867, '30ddd': 9868, 'greenhouse': 9869, 'haystack': 9870, 'diagnol': 9871, 'coverd': 9872, 'pho': 9873, 'lizard': 9874, 'frye': 9875, \"'closet\": 9876, \"sitter'\": 9877, 'canyon': 9878, 'kilter': 9879, 'optic': 9880, 'vacillating': 9881, 'theblack': 9882, 'muddle': 9883, \"dog's\": 9884, 'reshape': 9885, 'reinforcements': 9886, 'insult': 9887, 'gto': 9888, 'na': 9889, 'nightgowns': 9890, 'highlighted': 9891, 'hats': 9892, 'bunchee': 9893, 'streamlined': 9894, 'intrusive': 9895, \"din't\": 9896, 'embarrassing': 9897, 'necklne': 9898, 'pinker': 9899, 'satin0like': 9900, 'stets': 9901, 'dissapointment': 9902, 'retailerpologist': 9903, 'formula': 9904, 'assumed': 9905, 'entice': 9906, 'malabar': 9907, 'wonderul': 9908, 'charmeuse': 9909, 'liners': 9910, 'cubanas': 9911, 'ciara': 9912, \"who'd\": 9913, 'curvaceous': 9914, 'holdup': 9915, 'avery': 9916, 'lambswool': 9917, 'numero': 9918, 'uno': 9919, 'sly': 9920, 'purposefully': 9921, 'flowery': 9922, 'headache': 9923, 'whe': 9924, 'ri': 9925, 'exudes': 9926, \"'73\": 9927, 'slopes': 9928, 'wich': 9929, 'haul': 9930, \"wren't\": 9931, 'pressure': 9932, '1000': 9933, 'ast': 9934, 'veterinarian': 9935, 'meta': 9936, 'keg': 9937, 'plump': 9938, 'pacifica': 9939, 'gunny': 9940, 'sax': 9941, 'related': 9942, '4yrs': 9943, 'pallette': 9944, 'fastenings': 9945, 'scuff': 9946, 'ridic': 9947, 'welp': 9948, 'botton': 9949, 'apetite': 9950, 'brogues': 9951, 'looooong': 9952, 'stirrup': 9953, \"1990's\": 9954, 'discoloration': 9955, 'unsolvable': 9956, 'ahhhh': 9957, 'my3': 9958, 'negatively': 9959, 'hess': 9960, 'ranks': 9961, 'imay': 9962, 'blaring': 9963, 'mismatching': 9964, 'sx': 9965, '33d': 9966, 'comfortab': 9967, \"'nice'\": 9968, 'georgia': 9969, 'ahirt': 9970, 'modernize': 9971, \"embellishment's\": 9972, 'xtr': 9973, 'formalness': 9974, 'caress': 9975, 'hubs': 9976, 'yasss': 9977, 'announce': 9978, 'nonsense': 9979, 'wax': 9980, 'poetic': 9981, 'breaking': 9982, '1990s': 9983, 'acquire': 9984, 'unproportioned': 9985, 'willa': 9986, 'corn': 9987, 'misunderstand': 9988, 'marie': 9989, \"kondo's\": 9990, 'sparks': 9991, 'pnw': 9992, 'fress': 9993, 'port': 9994, 'emb': 9995, 'spongy': 9996, 'soup': 9997, 'failed': 9998, 'turner': 9999, \"she's\": 10000, 'fatale': 10001, 'hawthorne': 10002, 'abdominal': 10003, 'enjoyment': 10004, 'am5': 10005, \"'3\": 10006, 'crossfit': 10007, 'monkey': 10008, 'butta': 10009, 'fiddle': 10010, 'heater': 10011, 'cameo': 10012, 'brooch': 10013, 'placements': 10014, \"preschooler's\": 10015, 'davy': 10016, 'crockett': 10017, 'lifts': 10018, 'kiddos': 10019, 'sillier': 10020, 'unbuttoning': 10021, 'lable': 10022, 'syle': 10023, 'written': 10024, 'itso': 10025, 'tahari': 10026, 'wante': 10027, 'suprise': 10028, 'recheck': 10029, 'script': 10030, 'few': 10031, 'introduce': 10032, 'andddddd': 10033, 'sumptuous': 10034, 'clin': 10035, 'tneck': 10036, 'affected': 10037, 'juuuuussst': 10038, 'challange': 10039, 'genie': 10040, 'respects': 10041, 'minimally': 10042, 'detsils': 10043, 'recomnend': 10044, 'interlock': 10045, 'picure': 10046, 'lenox': 10047, 'geek': 10048, 'roc': 10049, 'discuss': 10050, 'sentence': 10051, 'cardie': 10052, 'regal': 10053, 'swingyness': 10054, 'doldrums': 10055, 'powdery': 10056, 'janes': 10057, 'brow': 10058, 'abnormal': 10059, 'hwoevcer': 10060, 'cutie': 10061, 'althleisure': 10062, 'pun': 10063, 'spacious': 10064, '251': 10065, '3rds': 10066, 'forgettin': 10067, 'saccharine': 10068, 'pharmacist': 10069, 'drugstore': 10070, 'didnot': 10071, 'hay': 10072, 'disgusted': 10073, 'toscana': 10074, 'sandscape': 10075, 'bcasue': 10076, 'anothr': 10077, 'proably': 10078, 'restriction': 10079, 'materi': 10080, 'wetsuit': 10081, 'sports': 10082, 'fawcett': 10083, \"'cream'\": 10084, 'isses': 10085, \"we'll\": 10086, 'inflexibility': 10087, 'ocd': 10088, 'subject': 10089, 'acrossed': 10090, 'wished': 10091, 'swanky': 10092, 'perfume': 10093, 'nauseate': 10094, 'legit': 10095, 'observe': 10096, 'habit': 10097, 'wowza': 10098, 'elephant': 10099, 'rage': 10100, 'warrent': 10101, 'nuetral': 10102, 'agrees': 10103, '114lb': 10104, 'ff': 10105, 'modification': 10106, 'thrille': 10107, '153': 10108, 'clue': 10109, 'spinning': 10110, 'jag': 10111, 'elongated': 10112, 'experiencing': 10113, 'pirchase': 10114, 'size10': 10115, 'instants': 10116, 'wuzzy': 10117, 'extravagant': 10118, 'twirls': 10119, 'fabiric': 10120, '26r': 10121, 'googling': 10122, 'tsp': 10123, 'conditioner': 10124, 'wring': 10125, 'throught': 10126, 'wotb': 10127, 'loopy': 10128, 'shaver': 10129, 'specs': 10130, 'complimen': 10131, 'salespeople': 10132, 'yest': 10133, 'easiness': 10134, 'pudge': 10135, 'nonexistent': 10136, 'recom': 10137, 'prolong': 10138, 'beautigul': 10139, 'boxey': 10140, 'sweather': 10141, 'smash': 10142, 'cur': 10143, 'chicness': 10144, 'organization': 10145, '64': 10146, 'assoc': 10147, 'mailed': 10148, '5ft7': 10149, 'organ': 10150, 'organist': 10151, '1930': 10152, 'possession': 10153, 'greal': 10154, 'wayyyyy': 10155, 'hundo': 10156, 'duffs': 10157, 'substancial': 10158, 'tirst': 10159, 'tme': 10160, 'cringed': 10161, 'arri': 10162, \"doe'n'tt\": 10163, 'htough': 10164, 'greay': 10165, 'lcan': 10166, 'celebrations': 10167, 'division': 10168, 'slovenly': 10169, 'downright': 10170, 'radiating': 10171, 'exclaim': 10172, \"'almost'\": 10173, 'sleeeves': 10174, 'pdx': 10175, 'overruled': 10176, 'beautful': 10177, \"preggo's\": 10178, \"'details'\": 10179, 'conversational': 10180, 'pinafore': 10181, 'patterning': 10182, 'botih': 10183, 'concrete': 10184, 'ma': 10185, 'zing': 10186, 'palid': 10187, 'dummy': 10188, 'shortish': 10189, 'absurdly': 10190, \"i's\": 10191, 'hs': 10192, 'sz12': 10193, 'behin': 10194, 'lumpiness': 10195, 'chief': 10196, 'onl': 10197, 'ads': 10198, 'gloomy': 10199, 'tic': 10200, 'alway': 10201, 'aholed': 10202, 'extremes': 10203, 'nela': 10204, \"'re\": 10205, 'visitors': 10206, 'milestone': 10207, 'intricacy': 10208, 'spark': 10209, \"9''\": 10210, 'lef': 10211, 'maturity': 10212, 'avant': 10213, 'garde': 10214, 'godets': 10215, 'trumpet': 10216, 'sleeper': 10217, 'diagonals': 10218, 'trampy': 10219, 'dishes': 10220, \"5'2'm\": 10221, 'xspwas': 10222, 'petals': 10223, 'adorn': 10224, 'roomies': 10225, 'lotta': 10226, 'diss': 10227, 'chuck': 10228, 'ears': 10229, 'nose': 10230, 'wink': 10231, 'members': 10232, 'orangeish': 10233, \"lab's\": 10234, 'linkages': 10235, 'duplicate': 10236, \"'5\": 10237, 'cury': 10238, 'excell': 10239, 'internationally': 10240, 'excursions': 10241, 'argh': 10242, 'wiskering': 10243, 'justification': 10244, 'assured': 10245, 'honored': 10246, 'orignal': 10247, 'excels': 10248, 'google': 10249, 'nephew': 10250, 'declare': 10251, \"rue's\": 10252, 'instagrams': 10253, 'scat': 10254, \"e'mail\": 10255, '6th': 10256, 'dolly': 10257, 'strolls': 10258, 'restaurants': 10259, 'sunblock': 10260, 'wayup': 10261, 'non0muscular': 10262, 'calming': 10263, 'cones': 10264, 'defe': 10265, \"shoulder'd\": 10266, 'fleecy': 10267, 'differrent': 10268, 'primula': 10269, 'xxl': 10270, 'opens': 10271, 'converted': 10272, 'dictate': 10273, 'schlumpy': 10274, 'southwestern': 10275, 'silicon': 10276, 'sid': 10277, 'repel': 10278, 'futuristic': 10279, 'claims': 10280, 'pry': 10281, 'camouflages': 10282, 'turqoise': 10283, 'readings': 10284, 'bootees': 10285, 'incentive': 10286, 'overdone': 10287, 'cme': 10288, 'reccomended': 10289, 'asthetic': 10290, 'orientation': 10291, 'ashamed': 10292, 'bombers': 10293, 'lovelovelovelovelove': 10294, 'hated': 10295, 'avoided': 10296, 'appr': 10297, 'died': 10298, 'debuted': 10299, 'pacquerette': 10300, 'anwen': 10301, 'ourselves': 10302, 'comnfortable': 10303, 'exampl': 10304, 'carolyn': 10305, 'blair': 10306, 'helpfu': 10307, 'greatness': 10308, 'gnarly': 10309, 'fel': 10310, 'checks': 10311, '46': 10312, \"they'r\": 10313, 'camoflauges': 10314, 'romier': 10315, 'sizze': 10316, 'hev': 10317, 'incr': 10318, 'curtains': 10319, 'unatural': 10320, 'grandson': 10321, 'seemed': 10322, 'yummiest': 10323, 'suddently': 10324, 'became': 10325, 'tightest': 10326, 'gargantuan': 10327, 'astound': 10328, 'cro': 10329, '5mo': 10330, 'cycles': 10331, \"kid's\": 10332, 'auction': 10333, '103lb': 10334, 'bustle': 10335, 'scuba': 10336, 'enhancing': 10337, 'interpret': 10338, 'stretchey': 10339, 'urban': 10340, 'outfitter': 10341, 'known': 10342, 'kee': 10343, 'sha': 10344, 'flirtiness': 10345, 'eg': 10346, 'impresssionistic': 10347, 'pigment': 10348, 'seashells': 10349, 'gapless': 10350, 'prewashed': 10351, \"won's\": 10352, 'assymetrical': 10353, \"tiny's\": 10354, 'unicorn': 10355, 'greece': 10356, 'winder': 10357, 'perfec': 10358, 'caliber': 10359, 'swlim': 10360, 'emobroidery': 10361, 'famous': 10362, 'firned': 10363, 'numerically': 10364, 'necklines': 10365, 'porportions': 10366, 'corey': 10367, 'lynn': 10368, 'calter': 10369, 'paeonia': 10370, 'rosebud': 10371, 'thoug': 10372, 'sateens': 10373, 'teller': 10374, 'merge': 10375, 'yore': 10376, 'skinniest': 10377, 'boodie': 10378, 'flaiir': 10379, 'retailerpolgie': 10380, \"'tunic\": 10381, 'luisa': 10382, 'impede': 10383, 'fabled': 10384, \"medium's\": 10385, 'oxford': 10386, 'bermudas': 10387, 'thinne': 10388, 'undnerneath': 10389, 'commonly': 10390, 'doo': 10391, \"m'l\": 10392, 'external': 10393, 'batik': 10394, 'tabby': 10395, 'tap': 10396, 'lous': 10397, 'dow': 10398, 'laec': 10399, 'sprea': 10400, 'anyou': 10401, 'pony': 10402, 'goody': 10403, 'american': 10404, 'beginnings': 10405, 'delish': 10406, 'petted': 10407, 'perforate': 10408, 'androgynous': 10409, 'prom': 10410, '1987': 10411, 'cooperate': 10412, 'butts': 10413, 'realized': 10414, 'holey': 10415, 'receiving': 10416, 'daydream': 10417, 'cinque': 10418, 'terre': 10419, 'outsi': 10420, 'unfrotuantely': 10421, 'invariably': 10422, 'blocks': 10423, 'addiction': 10424, 'memorable': 10425, 'boudoir': 10426, 'gapping': 10427, \"wish'd\": 10428, 'rebought': 10429, 'testament': 10430, '28t': 10431, 'hesistant': 10432, 'shotty': 10433, 'desirable': 10434, 'qualification': 10435, 'ord': 10436, 'maine': 10437, 'brood': 10438, 'doc': 10439, 'martins': 10440, 'oo': 10441, 'phoenix': 10442, 'tiiny': 10443, 'demand': 10444, 'puzzled': 10445, 'manufacturers': 10446, 'instal': 10447, 'hid': 10448, 'purcahsed': 10449, 'poker': 10450, 'embroi': 10451, 'ilike': 10452, 'temperate': 10453, 'cheezy': 10454, \"'look'\": 10455, 'broken': 10456, \"hawai'i\": 10457, 'cutwork': 10458, 'sizable': 10459, 'tallettes': 10460, 'alexa': 10461, 'chung': 10462, 'outwards': 10463, 'loooooooow': 10464, \"'off\": 10465, \"shoulder'\": 10466, 'lowness': 10467, 'maintena': 10468, 'luscious': 10469, 'luster': 10470, 'elastaine': 10471, 'definitel': 10472, 'marvelous': 10473, 'harrison': 10474, 'ford': 10475, '1988': 10476, 'crossing': 10477, 'buckles': 10478, 'suprised': 10479, 'ita': 10480, 'eex': 10481, '27tall': 10482, '26tall': 10483, 'ageing': 10484, 'submerge': 10485, 'troublesome': 10486, 'bilious': 10487, \"sunday's\": 10488, 'notorious': 10489, 'thyre': 10490, \"hepburn's\": 10491, 'boyishly': 10492, 'albert': 10493, 'reek': 10494, 'patchouli': 10495, 'uo': 10496, 'hps': 10497, 'experie': 10498, 'distorted': 10499, 'fantabulous': 10500, 'matador': 10501, 'frill': 10502, 'sickly': 10503, 'nue': 10504, 'shani': 10505, 'sinch': 10506, 'iike': 10507, 'indra': 10508, 'adirondacks': 10509, 'frumpiness': 10510, 'warnings': 10511, \"'m\": 10512, 'yak': 10513, 'whaa': 10514, 'lone': 10515, 'dissenter': 10516, 'iconic': 10517, 'hesitating': 10518, 'gas': 10519, 'station': 10520, 'fairness': 10521, 'sells': 10522, 'assemblage': 10523, 'necessitate': 10524, 'inconvenient': 10525, 'blessing': 10526, 'fling': 10527, 'colony': 10528, 'rogers': 10529, 'hourgass': 10530, 'strategic': 10531, 'abou': 10532, '1970s': 10533, 'feely': 10534, 'propose': 10535, 'scored': 10536, 'availab': 10537, 'link': 10538, 'organza': 10539, 'closu': 10540, 'transpa': 10541, 'screech': 10542, 'halt': 10543, 'preschool': 10544, '123lbssize': 10545, 'airyness': 10546, 'stunninng': 10547, \"5'130lbs\": 10548, \"36dd's\": 10549, 'impressionist': 10550, 'stilettos': 10551, 'discounted': 10552, 'regualar': 10553, 'berkeley': 10554, 'whimper': 10555, 'measly': 10556, 'symptoms': 10557, 'coth': 10558, 'stonw': 10559, 'keepin': 10560, 'rein': 10561, 'unbeatable': 10562, 'tale': 10563, 'claire': 10564, 'underwood': 10565, 'topnotch': 10566, 'hesitated': 10567, 'wih': 10568, 'hesitent': 10569, 'bamboo': 10570, 'lea': 10571, 'descri': 10572, 'middi': 10573, 'welcoming': 10574, 'asked': 10575, 'reflex': 10576, 'suppre': 10577, 'supermodel': 10578, 'toppers': 10579, 'constructions': 10580, 'draperies': 10581, 'restricting': 10582, 'dud': 10583, \"34g's\": 10584, 'bottomless': 10585, '27inches': 10586, 'kindly': 10587, 'ext': 10588, 'hipster': 10589, 'briefs': 10590, 'disapppointing': 10591, 'redish': 10592, 'creamish': 10593, 'necessa': 10594, \"'rope'\": 10595, 'cardig': 10596, 'yankee': 10597, 'bagger': 10598, 'advertising': 10599, 'takeover': 10600, 'mus': 10601, 'perso': 10602, 'dock': 10603, 'male': 10604, 'perkier': 10605, 'irritable': 10606, 'groom': 10607, 'jeunet': 10608, 'irradiate': 10609, 'crab': 10610, 'claws': 10611, 'autobots': 10612, 'symbol': 10613, 'transformers': 10614, 'hipefully': 10615, 'wuality': 10616, 'turend': 10617, 'thanskgiving': 10618, 'blou': 10619, 'ldecided': 10620, 'seemd': 10621, 'detaisl': 10622, 'intexas': 10623, 'mate': 10624, 'loungin': 10625, 'unaware': 10626, 'disliked': 10627, 'shared': 10628, 'hungry': 10629, 'preview': 10630, 'amt': 10631, 'closes': 10632, 'spank': 10633, 'impressions': 10634, \"'one\": 10635, \"colors'\": 10636, 'versi': 10637, 'enourmous': 10638, 'stichting': 10639, 'embrodering': 10640, 'dã©colletã©': 10641, 'sparklecolor': 10642, 'closets': 10643, 'craziest': 10644, 'kil': 10645, \"i''m\": 10646, 'sn': 10647, 'deposit': 10648, 'particle': 10649, 'pillowy': 10650, 'oppressive': 10651, 'cheapy': 10652, 'peite0': 10653, 'witing': 10654, 'finale': 10655, 'connecticut': 10656, 'iin': 10657, 'inward': 10658, \"30''\": 10659, \"31''\": 10660, 'disappointingly': 10661, \"'p\": 10662, 'nobody': 10663, 'sling': 10664, 'acknowledge': 10665, 'readers': 10666, 'swishes': 10667, 'cars': 10668, 'chamois': 10669, 'shammy': 10670, 'accordion': 10671, 'accordance': 10672, 'nook': 10673, 'cranny': 10674, 'kit': 10675, 'catog': 10676, 'rol': 10677, 'perrfect': 10678, 'ahh': 10679, 'lengt': 10680, 'commit': 10681, 'neckhole': 10682, 'variance': 10683, 'darkness': 10684, 'calssic': 10685, 'iliked': 10686, \"orange'\": 10687, \"'drape'\": 10688, 'sillouhette': 10689, 'foggy': 10690, 'sz26': 10691, 'p8': 10692, 'pintuck': 10693, 'imlove': 10694, 'sleeker': 10695, 'swath': 10696, 'robes': 10697, 'absorbent': 10698, 'yee': 10699, 'haw': 10700, 'bolo': 10701, 'porcelain': 10702, 'france': 10703, 'tickets': 10704, 'allelujah': 10705, 'marks': 10706, 'absence': 10707, 'meleri': 10708, 'garmets': 10709, 'recei': 10710, 'horseshoe': 10711, 'cheapness': 10712, 'craze': 10713, 'prevalent': 10714, 'peplu': 10715, \"'go'\": 10716, 'skylark': 10717, 'giantess': 10718, 'elegent': 10719, 'energy': 10720, 'bookmarking': 10721, 'polarize': 10722, '02': 10723, 'clarify': 10724, 'greatcsweater': 10725, 'snatc': 10726, 'fiddled': 10727, 'prego': 10728, 'remaining': 10729, 'spain': 10730, 'flamenco': 10731, 'frumpier': 10732, 'canter': 10733, 'rava': 10734, 'spor': 10735, 'elasticised': 10736, 'backless': 10737, 'goood': 10738, 'latetly': 10739, 'tubes': 10740, 'behemian': 10741, 'ehhhh': 10742, '25th': 10743, 'anhtro': 10744, 'loungey': 10745, 'purpley': 10746, 'earnest': 10747, 'response': 10748, 'lure': 10749, 'invaluable': 10750, 'volition': 10751, 'chick': 10752, 'chub': 10753, 'prety': 10754, 'jlo': 10755, 'expens': 10756, '4d': 10757, 'namely': 10758, 'anyt': 10759, 'thinkness': 10760, 'cheer': 10761, 'plunging': 10762, 'glossy': 10763, 'gloss': 10764, 'sfylish': 10765, 'accentuatea': 10766, 'relentless': 10767, 'phd': 10768, 'remiss': 10769, '30f': 10770, 'delaine': 10771, 'ruggedness': 10772, 'easyily': 10773, 'beutiful': 10774, 'reattach': 10775, 'sympath': 10776, \"you'll\": 10777, '106lbs': 10778, 'crewneck': 10779, 'minimalism': 10780, 'oatmealish': 10781, 'realllllly': 10782, 'complaining': 10783, 'blur': 10784, 'restrain': 10785, 'returns': 10786, 'damask': 10787, 'charter': 10788, 'substan': 10789, \"5'2'\": 10790, 'misty': 10791, \"'belt'\": 10792, \"'tuck'\": 10793, 'limned': 10794, 'strang': 10795, '04': 10796, '06': 10797, 'righter': 10798, 'meanwhile': 10799, 'denins': 10800, 'doenst': 10801, 'greyish': 10802, 'cervical': 10803, 'health': 10804, \"arm's\": 10805, 'quietly': 10806, 'quiet': 10807, 'ahe': 10808, 'troll': 10809, 'yelling': 10810, 'creamsicle': 10811, 'passersby': 10812, \"'great\": 10813, 'snack': 10814, 'elastisized': 10815, 'carmel': 10816, 'wanderer': 10817, 'spoon': 10818, 'antoher': 10819, 'lune': 10820, 'floofs': 10821, 'struggling': 10822, 'lampshades': 10823, 'recurrent': 10824, 'anoth': 10825, 'monogram': 10826, 'suburban': 10827, '33a': 10828, 'inauthentic': 10829, 'fp': 10830, 'theirs': 10831, 'cunning': 10832, '190lbs': 10833, 'witch': 10834, 'illustrations': 10835, 'hutch': 10836, 'healthy': 10837, 'trifle': 10838, 'magnification': 10839, 'itchytown': 10840, 'compartments': 10841, 'cotta': 10842, 'teachers': 10843, 'rega': 10844, '140b': 10845, 'sian': 10846, 'ftt': 10847, 'religious': 10848, 'answe': 10849, 'baggies': 10850, \"sevigny's\": 10851, 'lineman': 10852, 'littel': 10853, '157': 10854, 'camp': 10855, 'overa': 10856, 'bingo': 10857, 'milk': 10858, 'xxp': 10859, 'tasseled': 10860, 'stocked': 10861, 'slayed': 10862, 'mesmerized': 10863, 'casualed': 10864, 'popcorn': 10865, 'flatform': 10866, 'sandels': 10867, 'eira': 10868, 'mutliple': 10869, 'conspicuously': 10870, 'technicolor': 10871, \"it'a\": 10872, 'becaus': 10873, 'racy': 10874, 'dickey': 10875, 'spontaneous': 10876, 'extensively': 10877, 'alr': 10878, 'ahtro': 10879, 'embarassingly': 10880, 'amber': 10881, 'fillerup': 10882, 'clark': 10883, 'mono': 10884, 'kini': 10885, 'oerson': 10886, 'chubbiness': 10887, 'collarless': 10888, 'fascinate': 10889, 'amazon': 10890, 'descriptor': 10891, 'attendants': 10892, 'roof': 10893, 'faced': 10894, 'hallway': 10895, 'disintegrated': 10896, 'engulf': 10897, 'unfit': 10898, 'flawlessly': 10899, 'ltitle': 10900, 'dn': 10901, \"'slim\": 10902, \"tailored'\": 10903, '125ish': 10904, \"'peach'\": 10905, 'glitch': 10906, 'groin': 10907, 'snuggie': 10908, 'exp': 10909, 'aghast': 10910, 'waify': 10911, 'intricately': 10912, 'iusually': 10913, 'otherwse': 10914, 'inever': 10915, 'size4': 10916, 'involved': 10917, 'kahki': 10918, 'mismatched': 10919, 'lovelove': 10920, 'ai': 10921, 'released': 10922, 'false': 10923, 'comfo': 10924, 'insubstantial': 10925, 'nred': 10926, 'core': 10927, 'tempted': 10928, 'overwearing': 10929, 'botom': 10930, 'loosly': 10931, \"driver's\": 10932, 'surfaces': 10933, 'cotto': 10934, 'climbing': 10935, 'somethig': 10936, 'wrapped': 10937, 'timey': 10938, 'tide': 10939, 'demosilles': 10940, 'xxxxs': 10941, 'carnival': 10942, 'lite': 10943, 'fitness': 10944, 'cheep': 10945, 'definelty': 10946, 'silks': 10947, 'joliette': 10948, 'percentages': 10949, \"'hip\": 10950, 'emulate': 10951, 'limb': 10952, '134lbs': 10953, 'fluttered': 10954, 'warming': 10955, 'nc': 10956, 'silkscreen': 10957, 'trips': 10958, 'contri': 10959, 'counterbalance': 10960, 'the10': 10961, 'swiftly': 10962, 'airline': 10963, 'scandy': 10964, 'havent': 10965, 'onlin': 10966, 'jsutice': 10967, 'percect': 10968, 'dimples': 10969, 'yfit': 10970, 'styllsit': 10971, 'insiting': 10972, 'lstretch': 10973, 'shal': 10974, 'nudist': 10975, '3was': 10976, 'peac': 10977, '2006': 10978, 'lucsiously': 10979, 'trent': 10980, \"harper's\": 10981, 'spiffy': 10982, 'consciousness': 10983, 'fina': 10984, 'iso': 10985, 'cheesy': 10986, 'minorly': 10987, 'kitschy': 10988, 'enchant': 10989, 'driving': 10990, 'gumby': 10991, 'atrociously': 10992, 'upto': 10993, 'reviewwers': 10994, 'aquarelle': 10995, 'ziploc': 10996, 'freezer': 10997, 'indifference': 10998, 'comfey': 10999, 'comic': 11000, 'cod': 11001, \"'online\": 11002, \"exclusive'\": 11003, 'notation': 11004, 'anafa': 11005, 'mauv': 11006, 'tahoe': 11007, 'boze': 11008, 'cosiest': 11009, 'ooopss': 11010, 'wrin': 11011, 'geometrical': 11012, 'geometry': 11013, 'naval': 11014, 'liberation': 11015, 'cycl': 11016, 'playa': 11017, 'prickle': 11018, 'arrangement': 11019, 'lp': 11020, 'ther': 11021, 'launderings': 11022, 'innie': 11023, 'purposeful': 11024, 'mila': 11025, 'haven': 11026, 'papaya': 11027, 'geiger': 11028, 'acceptabl': 11029, 'unintentionally': 11030, 'sai': 11031, 'defectiv': 11032, '104lbs': 11033, 'loom': 11034, 'styish': 11035, 'reallly': 11036, 'waaaaaay': 11037, 'silkiness': 11038, 'bui': 11039, 'undistinguished': 11040, \"one'\": 11041, 'readily': 11042, 'choppy': 11043, 'untreatable': 11044, 'itried': 11045, 'keeo': 11046, 'deresses': 11047, 'commet': 11048, 'beautifullllll': 11049, 'demonstrates': 11050, 'whiteness': 11051, 'gorge': 11052, 'tdf': 11053, \"print's\": 11054, 'foods': 11055, 'miff': 11056, 'mabli': 11057, 'contempos': 11058, 'coutour': 11059, 'wrardrobe': 11060, 'abck': 11061, 'lands': 11062, \"5'0'\": 11063, '25petite': 11064, 'suggestions': 11065, 'improvement': 11066, 'fadng': 11067, 'especia': 11068, 'baring': 11069, 'accomadate': 11070, 'tanner': 11071, 'cmpliments': 11072, 'saddlebags': 11073, 'captain': 11074, 'graduations': 11075, 'cations': 11076, 'slimmed': 11077, 'fastener': 11078, 'ion': 11079, 'flub': 11080, 'mite': 11081, 'vanit': 11082, 'sunnies': 11083, 'tot': 11084, 'foolishly': 11085, 'pointed': 11086, 'swisuit': 11087, 'rusching': 11088, '36dddd': 11089, 'emphasized': 11090, '156': 11091, 'puffing': 11092, 'beefy': 11093, 'routinely': 11094, 'monaco': 11095, 'luncheons': 11096, 'homage': 11097, 'turqouise': 11098, 'retur': 11099, 'ruggy': 11100, 'sheepskin': 11101, '39ish': 11102, 'valentino': 11103, 'bolt': 11104, 'chagrin': 11105, 'washa': 11106, 'portrays': 11107, 'nevery': 11108, 'slende': 11109, 'noon': 11110, 'seychelles': 11111, 'neve': 11112, 'pouffier': 11113, 'itt': 11114, 'layerng': 11115, 'minority': 11116, 'crawl': 11117, 'sleveless': 11118, 'garmet': 11119, 'humd': 11120, 'shapelessness': 11121, 'brutal': 11122, 'thruout': 11123, \"girls'\": 11124, 'yoo': 11125, 'framws': 11126, 'nove': 11127, 'convinced': 11128, 'odrdered': 11129, 'swaeter': 11130, \"'fitted'\": 11131, 'popback': 11132, 'birdy': 11133, 'appropriateness': 11134, 'petra': 11135, 'exchanged': 11136, 'disapppointed': 11137, 'arrangements': 11138, 'submit': 11139, 'whiled': 11140, 'moments': 11141, 'ooohed': 11142, 'aaahed': 11143, 'hurriedly': 11144, \"'green'\": 11145, 'cleani': 11146, 'big0': 11147, 'switched': 11148, '3c': 11149, 'curse': 11150, 'symmetric': 11151, 'carribean': 11152, 'smashing': 11153, \"pomona's\": 11154, 'dressey': 11155, 'waiste': 11156, 'elongatesy': 11157, 'admirable': 11158, 'instore': 11159, \"'railroad\": 11160, \"tracks'\": 11161, 'nominal': 11162, 'ruffl': 11163, 'fundraiser': 11164, 'prev': 11165, 'carra': 11166, 'bellowy': 11167, 'clumsy': 11168, 'miid': 11169, 'rehersal': 11170, 'aplique': 11171, 'dorotea': 11172, 'stumpified': 11173, '2008': 11174, 'flouncier': 11175, 'furball': 11176, 'tthe': 11177, 'polyurethane': 11178, 'belief': 11179, 'sungarden': 11180, 'toenail': 11181, 'pierce': 11182, 'spa': 11183, 'garter': 11184, 'comp': 11185, 'fleetwoods': 11186, 'bel': 11187, \"junior's\": 11188, 'slinder': 11189, 'peti': 11190, 'foil': 11191, 'bunnies': 11192, \"other's\": 11193, \"there'no\": 11194, 'fatiques': 11195, 'handpainted': 11196, 'bacon': 11197, 'conservatively': 11198, 'nonuniform': 11199, \"small's\": 11200, 'walzing': 11201, 'mayer': 11202, \"'amazing\": 11203, 'nigh': 11204, '6inches': 11205, 'kneelength': 11206, 'rig': 11207, 'rash': 11208, 'wering': 11209, 'whip': 11210, 'steadly': 11211, 'powerless': 11212, 'testing': 11213, 'htere': 11214, 'differentials': 11215, 'necessairly': 11216, 'similr': 11217, 'alce': 11218, 'drkest': 11219, 'flatetering': 11220, 'lunge': 11221, 'condensation': 11222, '100lb': 11223, 'contra': 11224, 'feign': 11225, 'athleticism': 11226, 'modelesque': 11227, 'santa': 11228, 'barbara': 11229, 'stra': 11230, 'satisfi': 11231, 'vaca': 11232, \"sui's\": 11233, 'scalloped': 11234, 'activity': 11235, 'cartoonishly': 11236, 'incred': 11237, 'updo': 11238, 'atypical': 11239, 'rinestones': 11240, 'lade': 11241, 'waters': 11242, 'hange': 11243, 'resonate': 11244, 'headwaters': 11245, 'seychelle': 11246, \"d'orsay\": 11247, 'dre': 11248, 'siamese': 11249, 'huuuuuuge': 11250, '38f': 11251, 'pastries': 11252, 'openly': 11253, 'yellows': 11254, 'void': 11255, 'bedskirt': 11256, 'sbags': 11257, 'perfectionist': 11258, 'aligned': 11259, 'trials': 11260, 'pri': 11261, 'celadon': 11262, 'concentrate': 11263, \"they''d\": 11264, 'couldve': 11265, \"'short'\": 11266, 'seasonally': 11267, 'toro': 11268, 'tweet': 11269, 'obsessive': 11270, 'pixie': 11271, 'strands': 11272, 'midday': 11273, 'ipad': 11274, 'lychnis': 11275, \"brand's\": 11276, 'compfy': 11277, 'experts': 11278, 'grrr': 11279, 'nhl': 11280, 'scotty': 11281, 'dogs': 11282, 'trees': 11283, 'waistbands': 11284, 'myuch': 11285, '2inches': 11286, 'mystery': 11287, 'mishaped': 11288, 'neccissarily': 11289, 'stopping': 11290, 'hilary': 11291, 'clinton': 11292, \"might've\": 11293, 'underskirt': 11294, 'contest': 11295, 'pages': 11296, 'compose': 11297, 'goodone': 11298, 'mjuch': 11299, 'huhm': 11300, 'twinsies': 11301, 'whittle': 11302, 'unmodest': 11303, \"'supposed\": 11304, 'editing': 11305, 'saldly': 11306, 'homebase': 11307, 'impecable': 11308, 'skimmer': 11309, 'emails': 11310, 'fallish': 11311, 'thermostat': 11312, \"5''5\": 11313, 'perc': 11314, 'purchae': 11315, 'yessssss': 11316, 'basketball': 11317, 'buildings': 11318, 'tunnels': 11319, '30in': 11320, \"petite's\": 11321, 'weekday': 11322, 'seson': 11323, 'mattress': 11324, 'pocketsi': 11325, 'ironically': 11326, 'riders': 11327, 'au': 11328, 'lait': 11329, 'reads': 11330, '30lbs': 11331, 'applied': 11332, 'fearful': 11333, 'wrapover': 11334, '10mths': 11335, 'unfolding': 11336, 'likea': 11337, 'har': 11338, 'dtime': 11339, 'peites': 11340, 'measument': 11341, 'indispensable': 11342, 'pijamas': 11343, \"'bubble\": 11344, \"butt'\": 11345, 'plata': 11346, 'inspect': 11347, 'domino': 11348, 'maternit': 11349, 'cayucos': 11350, 'cinderalla': 11351, 'fashioned': 11352, 'groups': 11353, 'athropologie': 11354, 'lifting': 11355, 'disclaimer': 11356, \"'hard'\": 11357, 'sof': 11358, 'malfun': 11359, 'alignment': 11360, 'wilder': 11361, 'bonnet': 11362, 'summarize': 11363, 'washington': 11364, 'jerusalem': 11365, 'jeaens': 11366, 'smidgen': 11367, 'route': 11368, \"'weather'\": 11369, \"sa's\": 11370, 'gorgous': 11371, 'surgery': 11372, 'abruptly': 11373, 'bellybutton': 11374, '127lb': 11375, 'shel': 11376, 'liiiiiittle': 11377, 'manageable': 11378, 'refrain': 11379, 'sail': 11380, 'blaze': 11381, 'toms': 11382, 'checkerboard': 11383, 'loosest': 11384, 'purrrfect': 11385, 'tbu': 11386, 'hite': 11387, 'unbalanced': 11388, 'proclaim': 11389, 'blotch': 11390, 'beachside': 11391, 'fireside': 11392, 'nightbelle': 11393, 'secretly': 11394, 'jules': 11395, 'friction': 11396, '125b': 11397, 'sinches': 11398, 'delete': 11399, 'books': 11400, 'sloft': 11401, 'negligee': 11402, 'vitamin': 11403, 'anastasia': 11404, \"25''\": 11405, 'incase': 11406, 'unpick': 11407, 'examples': 11408, \"shouldn't\": 11409, 'flake': 11410, \"'vegan'\": 11411, 'rana': 11412, 'banquet': 11413, 'whites': 11414, 'peaches': 11415, 'environ': 11416, 'ingest': 11417, 'itnended': 11418, 'aame': 11419, 'apttern': 11420, 'cinnamon': 11421, '130ibs': 11422, 'leblon': 11423, 'diva': 11424, 'gushing': 11425, 'pique': 11426, 'sprint': 11427, 'oceanside': 11428, 'entry': 11429, 'defini': 11430, 'flings': 11431, \"sleeves'\": 11432, 'blade': 11433, 'geeze': 11434, 'shotgun': 11435, 'hosiery': 11436, 'brave': 11437, 'dr4ess': 11438, 'isalmsot': 11439, 'zipepr': 11440, 'finially': 11441, 'cushion': 11442, 'bootcut': 11443, 'fixable': 11444, 'scramble': 11445, 'wretched': 11446, 'passable': 11447, 'bejewel': 11448, 'packs': 11449, \"'faux\": 11450, \"cardi'\": 11451, 'slvs': 11452, 'king': 11453, 'immaculate': 11454, 'monthe': 11455, 'marigold': 11456, 'abut': 11457, 'intrinsic': 11458, 'raggy': 11459, 'fetch': 11460, 'cinchers': 11461, \"'distressed'\": 11462, 'correspond': 11463, 'puddle': 11464, 'bulkly': 11465, 'pratically': 11466, 'compliement': 11467, 'analysis': 11468, 'sabrina': 11469, \"weather's\": 11470, 'ful': 11471, 'favorable': 11472, 'mola': 11473, 'ws': 11474, 'iwould': 11475, 'ehels': 11476, 'perhpas': 11477, 'frnt': 11478, 'dã©colletage': 11479, 'knobby': 11480, 'radiant': 11481, 'buto': 11482, 'ingenious': 11483, 'introduction': 11484, 'oclor': 11485, 'influence': 11486, \"mind's\": 11487, \"hemline's\": 11488, 'reeeeally': 11489, 'grrrrr8': 11490, 'exa': 11491, 'hadley': 11492, 'goods': 11493, 'luna': 11494, 'annie': 11495, 'plans': 11496, 'tanl': 11497, 'windier': 11498, 'accesso': 11499, 'antropologie': 11500, 'taggart': 11501, 'blingy': 11502, 'separation': 11503, 'thang': 11504, 'vieques': 11505, \"picture's\": 11506, 'airflow': 11507, 'ddd36': 11508, 'annual': 11509, 'switzerland': 11510, 'plasticky': 11511, 'lineba': 11512, 'gemline': 11513, 'lariat': 11514, 'geez': 11515, 'oversharing': 11516, '30gg': 11517, 'orlando': 11518, 'gogo': 11519, 'takeaway': 11520, 'blizzard': 11521, 'caroline': 11522, 'worm': 11523, 'ark': 11524, 'faculty': 11525, 'slick': 11526, 'picot': 11527, 'cherished': 11528, 'thirties': 11529, 'chores': 11530, 'resting': 11531, 'steamy': 11532, 'sheik': 11533, 'photographer': 11534, 'gloves': 11535, 'anthopology': 11536, 'problemo': 11537, 'reservedly': 11538, 'juuuust': 11539, 'tryi': 11540, 'cutewith': 11541, 'tk': 11542, 'quadruplets': 11543, '30g': 11544, 'cushy': 11545, 'grabber': 11546, 'tearoom': 11547, 'gasp': 11548, 'hahahaha': 11549, 'hugger': 11550, 'relief': 11551, 'fades': 11552, 'redyed': 11553, 'akin': 11554, 'wilt': 11555, 'degrade': 11556, 'cassia': 11557, 'sorcha': 11558, 'amelia': 11559, 'bedelia': 11560, 'whacky': 11561, 'professionalism': 11562, 'darby': 11563, 'breathability': 11564, 'pressing': 11565, 'houseboat': 11566, 'marine': 11567, 'goi': 11568, 'huesca': 11569, 'glint': 11570, 'leaflets': 11571, 'lovelies': 11572, 'coastal': 11573, 'attachments': 11574, 'laws': 11575, 'knuckles': 11576, 'breakthable': 11577, 'hist': 11578, 'attn': 11579, 'reattaching': 11580, 'rsty': 11581, 'shapelier': 11582, 'phot': 11583, 'budges': 11584, 'indul': 11585, 'askew': 11586, '2013': 11587, 'wicking': 11588, 'turning': 11589, 'scraps': 11590, 'huuuuggge': 11591, 'mould': 11592, 'olsen': 11593, 'spills': 11594, 'flowwy': 11595, 'downtime': 11596, 'blowsy': 11597, \"i'ts\": 11598, 'blowsey': 11599, 'sutble': 11600, 'reshaped': 11601, 'toronto': 11602, 'columbia': 11603, 'swept': 11604, 'stinky': 11605, 'drug': 11606, 'stre': 11607, 'composition': 11608, 'unadjustable': 11609, 'generate': 11610, 'layi': 11611, 'lifelong': 11612, 'abundant': 11613, 'generaly': 11614, 'frabic': 11615, 'greedy': 11616, 'walker': 11617, 'honesty': 11618, 'deconstruct': 11619, 'hangups': 11620, 'boutiques': 11621, 'boggling': 11622, 'parker': 11623, 'loses': 11624, 'tranquil': 11625, 'wither': 11626, 'tackle': 11627, 'pirchasing': 11628, 'opaqueness': 11629, 'brushstroke': 11630, 'joes': 11631, 'beacheress': 11632, 'beau': 11633, 'melodist': 11634, 'bitterly': 11635, 'poky': 11636, 'rath': 11637, 'beast': 11638, 'schedule': 11639, 'wins': 11640, 'everday': 11641, 'amost': 11642, 'rediculous': 11643, 'washout': 11644, 'avergage': 11645, 'comjfortable': 11646, 'washi': 11647, 'wanderlust': 11648, 'gifting': 11649, 'pampered': 11650, 'reshipped': 11651, 'hamper': 11652, 'trailered': 11653, 'aft': 11654, 'pepper': 11655, 'parcel': 11656, 'pilcto': 11657, 'comor': 11658, 'lovelovelove': 11659, 'martini': 11660, 'materia': 11661, 'enthusiastic': 11662, 'flattening': 11663, 'camsiole': 11664, 'tooks': 11665, 'campole': 11666, 'neckli': 11667, 'kaki': 11668, 'pairing': 11669, 'bottons': 11670, 'soaked': 11671, 'bleu': 11672, 'thorax': 11673, 'uncomfotably': 11674, 'vocoder': 11675, 'meanings': 11676, 'cucumber': 11677, 'farthest': 11678, 'choise': 11679, 'fifty': 11680, 'clevage': 11681, 'shuffle': 11682, 'cozily': 11683, \"world's\": 11684, 'delighted': 11685, '1982': 11686, 'chlorine': 11687, 'ingratiating': 11688, 'carful': 11689, 'intertwine': 11690, 'trough': 11691, 'yello': 11692, 'partake': 11693, 'purrfect': 11694, 'asylum': 11695, 'reveive': 11696, 'profession': 11697, 'pessimist': 11698, 'nothings': 11699, '35x28x39': 11700, 'slightl': 11701, 'c34': 11702, 'nicley': 11703, 'forrest': 11704, 'filter': 11705, 'backend': 11706, 'dizzy': 11707, 'appropriarely': 11708, 'mumsy': 11709, 'marvel': 11710, 'mens': 11711, 'positions': 11712, 'skarlett': 11713, 'demi': 11714, 'freebird': 11715, 'cabernet': 11716, 'cecelia': 11717, 'prado': 11718, 'sorely': 11719, '13th': 11720, 'feb': 11721, 'rectify': 11722, \"must've\": 11723, 'reoccurring': 11724, 'someday': 11725, \"nobody's\": 11726, 'romp': 11727, 'humiliate': 11728, 'frank': 11729, 'personalities': 11730, 'gawdy': 11731, 'arctic': 11732, 'permanently': 11733, 'triangular': 11734, 'detest': 11735, 'grail': 11736, \"whatever's\": 11737, 'sjut': 11738, 'braod': 11739, 'deceided': 11740, 'seriosu': 11741, 'purcahses': 11742, 'sal': 11743, 'popped': 11744, 'suction': 11745, 'deteriorating': 11746, 'unsewn': 11747, 'conceptually': 11748, \"'chunky'\": 11749, \"'softens'\": 11750, \"'more'\": 11751, 'purcahse': 11752, 'striked': 11753, 'purch': 11754, \"twinkle's\": 11755, 'yarns': 11756, 'temp': 11757, 'maz': 11758, 'ing': 11759, 'toucan': 11760, 'caz': 11761, 'parka': 11762, 'ã¼ber': 11763, 'waterproof': 11764, 'insulated': 11765, 'zippie': 11766, 'bettors': 11767, 'romance': 11768, 'digan': 11769, 'continuity': 11770, 'sheep': 11771, 'veratile': 11772, 'loooong': 11773, \"grandmother's\": 11774, 'comforta': 11775, 'zowie': 11776, 'aptly': 11777, 'chiquita': 11778, 'feline': 11779, 'cervix': 11780, \"didm't\": 11781, 'soooooooooooooo': 11782, 'monet': 11783, \"'must\": 11784, \"have'\": 11785, 'armh': 11786, 'reversed': 11787, 'wanna': 11788, 'overtime': 11789, 'astounded': 11790, 'loveeeeeeee': 11791, 'consultant': 11792, 'magica': 11793, 'outdated': 11794, 'hifh': 11795, 'michigan': 11796, 'ave': 11797, 'centimeter': 11798, 'consept': 11799, 'ghillie': 11800, 'grabbing': 11801, 'dd34': 11802, 'wtih': 11803, 'strive': 11804, 'hum': 11805, 'ahhhhmazing': 11806, \"'60s\": 11807, 'humor': 11808, 'ooo': 11809, 'bismal': 11810, 'fondly': 11811, 'trhrow': 11812, 'eregular': 11813, 'pyjama': 11814, 'brigh': 11815, 'wer': 11816, 'sctrachy': 11817, 'swirly': 11818, 'imagin': 11819, 'yippee': 11820, 'mamas': 11821, 'southwesternish': 11822, 'tensile': 11823, 'wasa': 11824, 'beuatiful': 11825, 'mayb': 11826, \"who've\": 11827, 'dylan': 11828, 'mccartney': 11829, 'roger': 11830, 'walters': 11831, 'neil': 11832, 'tulling': 11833, 'guise': 11834, 'lwd': 11835, 'prarie': 11836, 'orphan': 11837, 'coziest': 11838, \"'delicateness'\": 11839, \"kimono's\": 11840, 'beautuful': 11841, \"winter's\": 11842, 'goodhyouman': 11843, 'forehead': 11844, 'underrated': 11845, 'defeats': 11846, 'coatigan': 11847, 'crimplene': 11848, 'substandard': 11849, 'aga': 11850, 'sho': 11851, 'pallas': 11852, 'squarish': 11853, 'memorial': 11854, 'eucalan': 11855, 'tricep': 11856, 'blunder': 11857, 'builder': 11858, 'unike': 11859, 'slinkiness': 11860, 'jewels': 11861, 'hardy': 11862, 'xxxs': 11863, 'usefulness': 11864, 'oven': 11865, 'glasses': 11866, 'waved': 11867, 'reliably': 11868, 'cone': 11869, 'tallest': 11870, 'preparing': 11871, 'sushi': 11872, 'cheese': 11873, 'hostess': 11874, 'slimline': 11875, 'notwithstanding': 11876, 'inexcusable': 11877, 'stopped': 11878, 'tweak': 11879, 'leng': 11880, \"naomi's\": 11881, 'taza': 11882, 'huuuge': 11883, 'savannah': 11884, '31st': 11885, 'rosette': 11886, 'afterthought': 11887, 'tracey': 11888, 'regu': 11889, 'negativ': 11890, 'felty': 11891, 'midwestern': 11892, 'seciton': 11893, 'sewers': 11894, 'nonconsequential': 11895, 'density': 11896, '42dd': 11897, 'flowinng': 11898, 'mist': 11899, \"5'61\": 11900, 'wedgewood': 11901, 'libs': 11902, 'horn': 11903, 'render': 11904, 'spade': 11905, 'dynam': 11906, 'fin': 11907, 'cl': 11908, 'scenery': 11909, 'earthly': 11910, 'coobies': 11911, 'yumi': 11912, 'pantless': 11913, 'relent': 11914, 'huey': 11915, 'bip': 11916, 'indicative': 11917, 'bailley': 11918, 'obi': 11919, 'jaw': 11920, 'jacksons': 11921, 'handwashable': 11922, 'wintery': 11923, \"stylist's\": 11924, 'colsely': 11925, 'mentione': 11926, 'huit': 11927, 'eden': 11928, 'lagoon': 11929, 'freestyle': 11930, 'rechecking': 11931, 'signs': 11932, 'association': 11933, 'candidate': 11934, 'sunflower': 11935, 'moths': 11936, 'brother': 11937, \"law's\": 11938, 'weddingrehearsal': 11939, 'las': 11940, 'vegas': 11941, 'slitted': 11942, 'apre': 11943, 'nuts': 11944, 'potatoe': 11945, 'soar': 11946, 'curating': 11947, 'speaking': 11948, 'folklore': 11949, 'aroun': 11950, 'nuff': 11951, 'tasking': 11952, 'passions': 11953, 'postur': 11954, \"'cotton'\": 11955, 'wisteria': 11956, 'differen': 11957, 'obtrusive': 11958, 'creatures': 11959, 'gamut': 11960, 'salivate': 11961, 'homework': 11962, 'swatch': 11963, 'determined': 11964, 'represented': 11965, 'beckon': 11966, 'buzz': 11967, 'dominantly': 11968, 'unusial': 11969, 'undesired': 11970, 'losses': 11971, 'greatz': 11972, 'tries': 11973, 'persimmon': 11974, 'grabbed': 11975, 'sllm': 11976, 'insulate': 11977, 'compar': 11978, 'uncomfy': 11979, 'magnify': 11980, 'retun': 11981, '10th': 11982, \"'moss'\": 11983, '80f': 11984, 'daceous': 11985, 'stratosphere': 11986, 'jt': 11987, 'tuns': 11988, 'displays': 11989, 'fuchsia': 11990, 'brightening': 11991, 'junctions': 11992, 'meander': 11993, 'mortar': 11994, 'bloomsbury': 11995, 'tiokeep': 11996, 'lke': 11997, 'missouri': 11998, 'thro': 11999, 'timy': 12000, 'indecisive': 12001, 'separates': 12002, 'scratches': 12003, 'ace': 12004, 'qualifier': 12005, 'anthletic': 12006, 'tendencies': 12007, 'introduced': 12008, \"i'l\": 12009, 'pineapples': 12010, 'jaggedly': 12011, 'haphazardly': 12012, 'varied': 12013, 'ours': 12014, 'sahm': 12015, 'predictable': 12016, \"body's\": 12017, 'suffocate': 12018, 'disposable': 12019, 'crass': 12020, 'pasadena': 12021, 'nv': 12022, 'childlike': 12023, 'pinching': 12024, 'fooled': 12025, 'ore': 12026, 'bendable': 12027, 'minimizing': 12028, 'evidently': 12029, 'michael': 12030, 'kors': 12031, 'peplm': 12032, 'categories': 12033, '105lb': 12034, 'dump': 12035, 'existed': 12036, 'overheat': 12037, 'morrissey': 12038, 'moz': 12039, 'toes': 12040, 'x3': 12041, 'began': 12042, 'tidier': 12043, 'shearliing': 12044, 'restretched': 12045, 'iteration': 12046, '141': 12047, 'aaaahmazing': 12048, 'sohpisticated': 12049, 'unsung': 12050, 'hero': 12051, 'chinolicious': 12052, 'larkin': 12053, 'tasting': 12054, 'opera': 12055, 'standalone': 12056, 'sligh': 12057, 'coored': 12058, 'ummmmm': 12059, 'runa': 12060, 'hills': 12061, 'retailerplpogie': 12062, 'anyday': 12063, 'blazy': 12064, \"'boyfriend'\": 12065, 'wooly': 12066, 'hassel': 12067, '2012': 12068, 'painted': 12069, 'tobacco': 12070, 'knots': 12071, 'coveting': 12072, \"don'tr\": 12073, 'btohered': 12074, 'ewre': 12075, 'thopugh': 12076, 'kleep': 12077, 'especiall': 12078, 'irritatingly': 12079, 'shillouette': 12080, 'crystals': 12081, 'anthto': 12082, 'boos': 12083, 'foresee': 12084, 'hoops': 12085, 'ooooo': 12086, 'tooth': 12087, 'gild': 12088, 'sel': 12089, '86': 12090, 'massage': 12091, 'photoshop': 12092, 'vribant': 12093, 'jessa': 12094, 'slipper': 12095, 'grippies': 12096, 'tabs': 12097, \"'poor\": 12098, \"boy'\": 12099, 'bypass': 12100, 'lighweight': 12101, 'jardin': 12102, 'fringy': 12103, 'embroarding': 12104, 'delegate': 12105, 'hoepfulyl': 12106, 'orffice': 12107, 'zoe': 12108, 'gowns': 12109, 'broadness': 12110, 'lengthening': 12111, 'seven': 12112, 'outsized': 12113, \"'floppy'\": 12114, 'nanny': 12115, 'finesse': 12116, 'dub': 12117, \"man's\": 12118, 'bryden': 12119, 'hindsight': 12120, 'lthink': 12121, 'ebough': 12122, 'detial': 12123, 'sk': 12124, 'murkier': 12125, 'smokey': 12126, 'brag': 12127, 'limitless': 12128, 'athletically': 12129, '29p': 12130, 'modcloth': 12131, '20x': 12132, 'workhorse': 12133, 'bods': 12134, 'christen': 12135, 'born': 12136, \"'dressed\": 12137, \"'dressing\": 12138, \"down'\": 12139, 'chirpy': 12140, 'pegged': 12141, 'allude': 12142, 'caftans': 12143, 'sacky': 12144, 'sheets': 12145, 'surmountable': 12146, 'reissue': 12147, 'vintag': 12148, 'comfrotbale': 12149, 'alining': 12150, 'petie': 12151, 'tor': 12152, 'thera': 12153, 'nala': 12154, 'lookers': 12155, 'remained': 12156, 'wth': 12157, \"'ol\": 12158, 'indoor': 12159, 'smear': 12160, '7months': 12161, 'preggars': 12162, 'waistcoat': 12163, 'tassles': 12164, 'tbale': 12165, 'elngth': 12166, 'almsot': 12167, 'referenc': 12168, '4petite': 12169, 'wintry': 12170, 'assessment': 12171, 'aggressively': 12172, 'morher': 12173, 'bretin': 12174, 'sliced': 12175, '800': 12176, 'hemant': 12177, 'nandita': 12178, 'reseam': 12179, 'tour': 12180, 'museums': 12181, 'churches': 12182, 'faith': 12183, 'cardboard': 12184, 'components': 12185, 'teardrop': 12186, 'cheapest': 12187, 'runching': 12188, 'hers': 12189, \"floreat's\": 12190, 'shrunken': 12191, 'selvage': 12192, 'aaaaannnnnnd': 12193, 'biker': 12194, 'uhm': 12195, \"blouse's\": 12196, \"'2\": 12197, 'believer': 12198, 'tread': 12199, 'hastle': 12200, 'attended': 12201, 'enjoyable': 12202, 'dusters': 12203, \"stink'n\": 12204, 'accessorizes': 12205, \"person's\": 12206, 'intensity': 12207, 'chore': 12208, 'proportionately': 12209, 'yogi': 12210, 'hlding': 12211, 'seaters': 12212, 'rehemmed': 12213, 'dotted': 12214, 'triue': 12215, 'reve': 12216, 'ttt': 12217, 'eighties': 12218, 'bike': 12219, 'ecause': 12220, 'gush': 12221, 'studied': 12222, 'scoping': 12223, 'occurrence': 12224, 'poooofffy': 12225, 'frmae': 12226, 'btu': 12227, 'mulit': 12228, 'trapezey': 12229, 'psychedelic': 12230, 'resound': 12231, 'creates': 12232, \"hei's\": 12233, 'witho': 12234, 'shatter': 12235, 'deem': 12236, 'staticy': 12237, 'nightshirt': 12238, 'manufacturing': 12239, 'hub': 12240, \"barista's\": 12241, \"sundry's\": 12242, 'sill': 12243, 'sins': 12244, 'unexciting': 12245, 'overwhelmingly': 12246, 'denimy': 12247, 'mansions': 12248, 'rhode': 12249, 'coobie': 12250, 'ecept': 12251, 'traditionally': 12252, 'sava': 12253, 'plico': 12254, \"'tangerine'\": 12255, 'bricky': 12256, 'investing': 12257, 'attering': 12258, 'ankl': 12259, \"something's\": 12260, 'inwardly': 12261, 'parisian': 12262, 'charente': 12263, 'mending': 12264, 'et': 12265, 'earl': 12266, 'receiv': 12267, 'goldilocks': 12268, 'latte': 12269, 'desideria': 12270, 'dakota': 12271, 'silkier': 12272, 'accommodates': 12273, 'necked': 12274, 'escape': 12275, 'crisscrossed': 12276, 'visibly': 12277, 'toxic': 12278, 'allergic': 12279, 'contort': 12280, 'argument': 12281, 'changing': 12282, 'toothpaste': 12283, 'willing': 12284, 'revi': 12285, 'vulnerability': 12286, 'teeter': 12287, 'expectecd': 12288, 'whelming': 12289, 'dynamic': 12290, 'presumptive': 12291, 'intuition': 12292, 'preferences': 12293, 'consist': 12294, 'smar': 12295, 'pavin': 12296, 'buttyondown': 12297, \"'true\": 12298, \"size'\": 12299, 'suport': 12300, 'wok': 12301, 'coffe': 12302, \"donse't\": 12303, 'population': 12304, 'nubbed': 12305, 'chubneck': 12306, 'pattten': 12307, 'connector': 12308, \"hasn'\": 12309, 'timeframe': 12310, 'heav': 12311, 'wardrobes': 12312, 'gutted': 12313, 'surpring': 12314, 'started': 12315, \"mcguire's\": 12316, 'babe': 12317, 'modes': 12318, 'pinstriped': 12319, 'stuggle': 12320, 'thylo': 12321, 'customizable': 12322, 'stunted': 12323, 'bridge': 12324, 'newer': 12325, 'unnaturally': 12326, 'clincher': 12327, 'excellently': 12328, 'casu': 12329, 'downplay': 12330, 'linens': 12331, 'earn': 12332, 'bloop': 12333, 'tugged': 12334, 'revelations': 12335, 'bandwagon': 12336, 'bronzy': 12337, 'interwoven': 12338, 'pesonal': 12339, 'thirst': 12340, 'funk': 12341, 'pancholicious': 12342, 'crumply': 12343, 'chorizo': 12344, 'smedium': 12345, 'fallacy': 12346, 'poc': 12347, 'valid': 12348, 'stonewashing': 12349, 'linear': 12350, 'haging': 12351, 'buns': 12352, 'dimensional': 12353, '92lbs': 12354, 'deligthfully': 12355, 'undamaged': 12356, 'standup': 12357, 'petroleum': 12358, 'cartagena': 12359, 'ruc': 12360, 'overexposure': 12361, 'sholulder': 12362, 'teds': 12363, 'senitive': 12364, 'approprialty': 12365, '62': 12366, 'wishful': 12367, 'tula': 12368, 'lightwe': 12369, 'althetic': 12370, 'grrrrrrrrrrr': 12371, 'nightwear': 12372, 'scandelously': 12373, 'homerun': 12374, 'reject': 12375, 'howe': 12376, 'bravo': 12377, 'tucke': 12378, 'gooooorgeous': 12379, '10x': 12380, 'nanette': 12381, 'lepore': 12382, 'ornamental': 12383, 'arts': 12384, 'passion': 12385, 'charles': 12386, 'rennie': 12387, 'macintosh': 12388, 'realness': 12389, 'pretry': 12390, 'discounts': 12391, 'uplift': 12392, 'viewed': 12393, 'loca': 12394, 'swirl': 12395, 'tequila': 12396, 'ginger': 12397, 'spilled': 12398, 'tassle': 12399, 'sui': 12400, 'airier': 12401, 'stilts': 12402, 'spoilers': 12403, 'traverse': 12404, 'hitting': 12405, 'md': 12406, 'unsnapped': 12407, 'gum': 12408, 'photographed': 12409, 'sightsee': 12410, 'goof': 12411, 'irr': 12412, 'mishap': 12413, 'bane': 12414, 'existence': 12415, 'burden': 12416, 'incidental': 12417, 'shaper': 12418, 'paste': 12419, '30ss': 12420, 'sooooooooo': 12421, 'drycleaning': 12422, 'favulous': 12423, 'lengthens': 12424, 'cocoony': 12425, 'vividly': 12426, 'dwarf': 12427, 'gambl': 12428, 'aro': 12429, '52': 12430, 'instea': 12431, 'seasonality': 12432, 'montclair': 12433, 'instantaneously': 12434, 'terrifically': 12435, 'limbed': 12436, 'lodge': 12437, 'poorl': 12438, 'mourn': 12439, 'slides': 12440, 'betwe': 12441, 'curly': 12442, 'ambitious': 12443, 'attic': 12444, 'roomie': 12445, 'independently': 12446, 'touching': 12447, '30percent': 12448, 'backpacker': 12449, 'awsome': 12450, 'a32': 12451, 'lurve': 12452, 'espradilles': 12453, 'compete': 12454, 'refernce': 12455, 'askedher': 12456, \"dones't\": 12457, 'nonte': 12458, 'transistional': 12459, 'buttah': 12460, 'bracelets': 12461, 'narrowis': 12462, 'fore': 12463, 'cue': 12464, 'darlings': 12465, 'sooooooooooooo': 12466, 'pashminas': 12467, 'warmest': 12468, 'raunching': 12469, 'daker': 12470, 'bottome': 12471, 'peitte': 12472, 'browns': 12473, 'avai': 12474, 'removal': 12475, 'ml': 12476, 'fastening': 12477, 'polyestery': 12478, 'tinselly': 12479, 'snugged': 12480, 'cowgirl': 12481, 'ichy': 12482, 'awareness': 12483, 'cahnce': 12484, 'howeverm': 12485, 'wimpy': 12486, 'lingere': 12487, 'growths': 12488, 'resent': 12489, 'indecently': 12490, \"90's\": 12491, 'phisique': 12492, 'addressed': 12493, 'jcrew': 12494, \"niece's\": 12495, 'circular': 12496, 'gender': 12497, 'succeed': 12498, 'cellular': 12499, 'injury': 12500, 'sinched': 12501, 'lackluster': 12502}\n"
     ]
    }
   ],
   "source": [
    "print(tokenizer.word_index)"
   ]
  },
  {
   "cell_type": "markdown",
   "id": "c9a0f5a4-253b-4320-80fb-04cf787e80eb",
   "metadata": {},
   "source": [
    "## Tokenize the Text Data"
   ]
  },
  {
   "cell_type": "code",
   "execution_count": 24,
   "id": "07e20722-2a1d-4713-9c44-df10706e26bd",
   "metadata": {
    "tags": []
   },
   "outputs": [],
   "source": [
    "train_tokens = tokenizer.texts_to_sequences(train_df['text'].tolist())\n",
    "val_tokens = tokenizer.texts_to_sequences(val_df['text'].tolist())\n",
    "test_tokens = tokenizer.texts_to_sequences(test_df['text'].tolist())\n",
    "test_blncd_tokens = tokenizer.texts_to_sequences(test_blncd_df['text'].tolist())"
   ]
  },
  {
   "cell_type": "code",
   "execution_count": 25,
   "id": "0a2f697b-6cbb-429f-aa6c-b708a9fc71e9",
   "metadata": {
    "tags": []
   },
   "outputs": [],
   "source": [
    "# Erase Pointers to releasing occupied memory\n",
    "del train_df\n",
    "del test_df"
   ]
  },
  {
   "cell_type": "markdown",
   "id": "ff6212af-02e6-496c-8cf0-18526d2ad36f",
   "metadata": {},
   "source": [
    "## View the Distribution of Words per Review"
   ]
  },
  {
   "cell_type": "code",
   "execution_count": 26,
   "id": "cd32ff9b-5b08-44b8-acf7-bbcf5651ada9",
   "metadata": {
    "tags": []
   },
   "outputs": [
    {
     "data": {
      "text/plain": [
       "<Figure size 640x480 with 0 Axes>"
      ]
     },
     "metadata": {},
     "output_type": "display_data"
    },
    {
     "data": {
      "image/png": "[encoded data removed]",
      "text/plain": [
       "<Figure size 1000x1000 with 1 Axes>"
      ]
     },
     "metadata": {},
     "output_type": "display_data"
    }
   ],
   "source": [
    "plt.clf()\n",
    "plt.figure(figsize=(10, 10))\n",
    "plt.hist([len(seq) for seq in train_tokens], bins = 40)\n",
    "plt.title('Distribution of Text Sequence Lengths')\n",
    "plt.ylabel('Reviews')\n",
    "plt.xlabel('Word Counts in the Review')\n",
    "plt.show()"
   ]
  },
  {
   "cell_type": "markdown",
   "id": "e1d9dd87-decf-4b6d-bc03-d5127d60b7fa",
   "metadata": {},
   "source": [
    "## Check the Min and Max Token Values"
   ]
  },
  {
   "cell_type": "code",
   "execution_count": 27,
   "id": "827cd815-1689-425c-8b4f-94f8e6c43235",
   "metadata": {
    "tags": []
   },
   "outputs": [
    {
     "name": "stdout",
     "output_type": "stream",
     "text": [
      "Min token value: 1\n",
      "Max token value: 999\n"
     ]
    }
   ],
   "source": [
    "print(f'Min token value: {min([min(x) for x in train_tokens])}')\n",
    "print(f'Max token value: {max([max(x) for x in train_tokens])}')"
   ]
  },
  {
   "cell_type": "markdown",
   "id": "e688e8aa-cf4b-410c-b3a0-cc004795dcf5",
   "metadata": {},
   "source": [
    "## Pad the Token Sequences"
   ]
  },
  {
   "cell_type": "code",
   "execution_count": 28,
   "id": "32a4ffbb-fb22-4e4b-811c-e11ed28eeebc",
   "metadata": {
    "tags": []
   },
   "outputs": [],
   "source": [
    "padded_inputs = pad_sequences(\n",
    "    train_tokens,\n",
    "    maxlen=MAX_SEQ_LEN,\n",
    "    value=PAD_TOKEN_IDX\n",
    ")\n",
    "padded_inputs_val = pad_sequences(\n",
    "    val_tokens,\n",
    "    maxlen=MAX_SEQ_LEN,\n",
    "    value=PAD_TOKEN_IDX\n",
    ")\n",
    "padded_inputs_test = pad_sequences(\n",
    "    test_tokens,\n",
    "    maxlen=MAX_SEQ_LEN,\n",
    "    value=PAD_TOKEN_IDX\n",
    ")\n",
    "padded_inputs_test_blncd = pad_sequences(\n",
    "    test_blncd_tokens,\n",
    "    maxlen=MAX_SEQ_LEN,\n",
    "    value=PAD_TOKEN_IDX\n",
    ")"
   ]
  },
  {
   "cell_type": "code",
   "execution_count": 29,
   "id": "8a1aa527-2158-40a7-9d15-11c29eefd9ca",
   "metadata": {
    "tags": []
   },
   "outputs": [],
   "source": [
    "# Erase Pointers to releasing occupied memory\n",
    "del train_tokens\n",
    "del test_tokens"
   ]
  },
  {
   "cell_type": "code",
   "execution_count": 30,
   "id": "5daee810-924f-4368-b071-da0a63a222b3",
   "metadata": {
    "tags": []
   },
   "outputs": [
    {
     "data": {
      "text/plain": [
       "1"
      ]
     },
     "execution_count": 30,
     "metadata": {},
     "output_type": "execute_result"
    }
   ],
   "source": [
    "oov_token_idx = tokenizer.word_index[tokenizer.oov_token]\n",
    "oov_token_idx"
   ]
  },
  {
   "cell_type": "code",
   "execution_count": 31,
   "id": "45d46292-e221-4442-a4fd-494c647bba2d",
   "metadata": {
    "tags": []
   },
   "outputs": [],
   "source": [
    "corpus = []\n",
    "for record in padded_inputs:\n",
    "    corpus.append([str(x) for x in record if x not in [PAD_TOKEN_IDX, oov_token_idx]])"
   ]
  },
  {
   "cell_type": "code",
   "execution_count": 32,
   "id": "a83592f9-cb7f-4530-bf0d-c70ebea5a74e",
   "metadata": {
    "tags": []
   },
   "outputs": [
    {
     "data": {
      "text/plain": [
       "6022"
      ]
     },
     "execution_count": 32,
     "metadata": {},
     "output_type": "execute_result"
    }
   ],
   "source": [
    "len(corpus)"
   ]
  },
  {
   "cell_type": "code",
   "execution_count": 33,
   "id": "c0da11b8-a55a-4666-8d83-009db5c49cdb",
   "metadata": {
    "tags": []
   },
   "outputs": [],
   "source": [
    "w2v_model = Word2Vec(\n",
    "    corpus,\n",
    "    vector_size=EMBEDDING_DIM,\n",
    "    window=5, # use a context size of 5 for training\n",
    "    min_count=1, # we already filtered for the top NUM_DISTINCT_WORDS\n",
    "    sg=0 # uses CBOW if 0 and skip-gram if 1\n",
    ")"
   ]
  },
  {
   "cell_type": "code",
   "execution_count": 34,
   "id": "3fb824bc-f6bc-48e8-80ef-043842c1ac20",
   "metadata": {
    "scrolled": true,
    "tags": []
   },
   "outputs": [
    {
     "name": "stdout",
     "output_type": "stream",
     "text": [
      "Vector for token 0 will be randomly initialized.\n",
      "Vector for token 1 will be randomly initialized.\n"
     ]
    }
   ],
   "source": [
    "init_params = tf.random_uniform_initializer().get_config()\n",
    " \n",
    "embedding_matrix = np.random.uniform(\n",
    "    low=init_params['minval'],\n",
    "    high=init_params['maxval'],\n",
    "    size=(NUM_DISTINCT_WORDS, EMBEDDING_DIM)\n",
    ")\n",
    " \n",
    "for i in range(0, NUM_DISTINCT_WORDS):\n",
    "    if (i not in [PAD_TOKEN_IDX, oov_token_idx]) and (str(i) in w2v_model.wv.key_to_index):\n",
    "        vector = w2v_model.wv[str(i)]  # Access the word vector\n",
    "        embedding_matrix[i] = vector  # Store it in the embedding matrix\n",
    "    else:\n",
    "        print(f'Vector for token {i} will be randomly initialized.')"
   ]
  },
  {
   "cell_type": "code",
   "execution_count": 35,
   "id": "7ed4811d-18f1-407b-b86d-e061a1ba40d7",
   "metadata": {
    "tags": []
   },
   "outputs": [
    {
     "data": {
      "text/plain": [
       "array([[ 0.00220469, -0.03255734, -0.0152744 , ...,  0.02060963,\n",
       "        -0.00529129, -0.0296592 ],\n",
       "       [ 0.04630992,  0.04762461, -0.007042  , ...,  0.04707877,\n",
       "         0.04182566,  0.00570006],\n",
       "       [-0.11396661, -0.26000655,  0.09028735, ..., -0.30688113,\n",
       "        -0.65711844, -0.38756055],\n",
       "       ...,\n",
       "       [-0.08956432, -0.04178443, -0.33548653, ..., -0.2047192 ,\n",
       "        -0.33470762, -0.23937002],\n",
       "       [-0.01550164, -0.06936795, -0.32443115, ..., -0.23892698,\n",
       "        -0.24896179, -0.28304118],\n",
       "       [-0.26422653,  0.04876254, -0.52593261, ..., -0.33128771,\n",
       "        -0.37619814, -0.2975769 ]])"
      ]
     },
     "execution_count": 35,
     "metadata": {},
     "output_type": "execute_result"
    }
   ],
   "source": [
    "embedding_matrix"
   ]
  },
  {
   "cell_type": "markdown",
   "id": "1b8d8e50-44b3-4d64-a0c6-958aea503100",
   "metadata": {},
   "source": [
    "## Build and Compile Model"
   ]
  },
  {
   "cell_type": "markdown",
   "id": "42e4d0d6-7047-4e77-9ca4-af634ee17ae8",
   "metadata": {},
   "source": [
    "Used the same comfiguration, reduced neurons from each layer as we have very less data compared to provider enabalement data\n",
    "Multi input layer cant be build using sequential modelling it is done only via Functional modelling.\n",
    "https://pyimagesearch.com/2019/02/04/keras-multiple-inputs-and-mixed-data/\n",
    "https://keras.io/guides/functional_api/"
   ]
  },
  {
   "cell_type": "code",
   "execution_count": 36,
   "id": "ec60f1bd-2ac8-4a7a-a226-232f421026ef",
   "metadata": {
    "editable": true,
    "slideshow": {
     "slide_type": ""
    },
    "tags": []
   },
   "outputs": [
    {
     "name": "stderr",
     "output_type": "stream",
     "text": [
      "/opt/anaconda3/envs/cat_num_text/lib/python3.12/site-packages/keras/src/layers/core/embedding.py:90: UserWarning: Argument `input_length` is deprecated. Just remove it.\n",
      "  warnings.warn(\n"
     ]
    }
   ],
   "source": [
    "## Define INPUT LAYERS\n",
    "text_input = tf.keras.Input(shape=(MAX_SEQ_LEN,), name=\"text\")  # Variable-length sequence of ints\n",
    "numeric_input = tf.keras.Input(shape=(num_features,), name=\"numeric\")  # Binary vectors of size `num_tags`\n",
    "\n",
    "# INPUT LAYERS FOR TEXT DATA\n",
    "# Embed each word in the text into a 64-dimensional vector\n",
    "text_features_embedding_layer = tf.keras.layers.Embedding(NUM_DISTINCT_WORDS, \n",
    "                                                          EMBEDDING_DIM, \n",
    "                                                          input_length=MAX_SEQ_LEN,\n",
    "                                                          weights=[embedding_matrix], \n",
    "                                                          trainable = True)(text_input)\n",
    "\n",
    "# Reduce sequence of embedded words in the body into a single 32-dimensional vector\n",
    "text_features_layer_1 = (tf.keras.\n",
    "                         layers.LSTM(40)\n",
    "                         (text_features_embedding_layer))\n",
    "text_features_layer_2 = (tf.keras.\n",
    "                         layers.Dense(units = 64, activation='relu')\n",
    "                         (text_features_layer_1))\n",
    "text_features_dropout_1 = (tf.keras.\n",
    "                           layers.Dropout(0.2)\n",
    "                           (text_features_layer_2))\n",
    "text_features_final_layer = (tf.keras.\n",
    "                             layers.Dense(units = 64, activation='relu')\n",
    "                             (text_features_dropout_1))\n",
    "\n",
    "\n",
    "# INPUT LAYERS FOR NUMERIC DATA\n",
    "num_features_layer_1 = (tf.keras.layers.Dense(units = 32, \n",
    "                                              kernel_initializer = 'uniform', \n",
    "                                              activation = 'relu')(numeric_input))\n",
    "num_features_layer_2 = (tf.keras.layers.Dense(units = 64, \n",
    "                                              kernel_initializer = 'uniform', \n",
    "                                              activation = 'relu')(num_features_layer_1))\n",
    "num_features_final_layer = (tf.keras.layers.Dense(units = 64, \n",
    "                                                  kernel_initializer = 'uniform', \n",
    "                                                  activation = 'relu')(num_features_layer_2))\n",
    "\n",
    "# Merge all available features into a single large vector via concatenation\n",
    "concatenated_layer = tf.keras.layers.concatenate([text_features_final_layer, \n",
    "                                                  num_features_final_layer])\n",
    "\n",
    "# Two layers after concatening\n",
    "post_concatenated_layer_1 = (tf.keras.layers.Dense(units = 64, \n",
    "                                                   activation = 'relu')(concatenated_layer))\n",
    "post_concatenated_layer_2 = (tf.keras.layers.Dense(units = 64, \n",
    "                                                   activation = 'relu')(post_concatenated_layer_1))\n",
    "\n",
    "# Stick a logistic regression for priority prediction on top of the features\n",
    "# pred_layer = (tf.keras.layers.Dense(1, \n",
    "#                                    activation='sigmoid', \n",
    "#                                    name=\"recomendation\")(post_concatenated_layer_2))\n",
    "pred_layer = tf.keras.layers.Dense(1, activation='sigmoid')(post_concatenated_layer_2)\n",
    "\n",
    "# Instantiate an end-to-end model predicting both priority and department\n",
    "model = tf.keras.Model(\n",
    "    inputs=[ text_input, numeric_input],\n",
    "    outputs=[pred_layer]\n",
    ")"
   ]
  },
  {
   "cell_type": "markdown",
   "id": "8548ee0f-c70a-4d33-8df8-97bdfe9b6c09",
   "metadata": {},
   "source": [
    "## Compile Model"
   ]
  },
  {
   "cell_type": "code",
   "execution_count": 37,
   "id": "65213167-8023-465c-b120-3ca5524cceea",
   "metadata": {},
   "outputs": [],
   "source": [
    "pr_metric = AUC(curve='PR', num_thresholds=1000)\n",
    "LEARNING_RATE = 0.0001\n",
    "\n",
    "model.compile(optimizer=Adam(learning_rate=LEARNING_RATE),  # Use 'learning_rate'\n",
    "              metrics=[pr_metric],\n",
    "              loss='binary_crossentropy')"
   ]
  },
  {
   "cell_type": "markdown",
   "id": "8a21a512-09c5-4a06-9a72-0d2b64baef21",
   "metadata": {
    "tags": []
   },
   "source": [
    "## Used hypermater from previous experiment.\n",
    "## Need to to do hyperpameter tuning\n",
    "https://machinelearningmastery.com/grid-search-hyperparameters-deep-learning-models-python-keras/\n",
    "https://www.analyticsvidhya.com/blog/2021/05/tuning-the-hyperparameters-and-layers-of-neural-network-deep-learning/\n",
    "https://github.com/autonomio/talos/blob/9890d71d31451af3d7e8d91a75841bc7904db958/docs/Examples_Multiple_Inputs.md\n",
    "\n",
    "https://github.com/keras-team/keras-tuner/issues/281"
   ]
  },
  {
   "cell_type": "markdown",
   "id": "78b13709-8b99-4a10-b0d9-32129d97b201",
   "metadata": {
    "tags": []
   },
   "source": [
    "## View Model Summary"
   ]
  },
  {
   "cell_type": "code",
   "execution_count": 38,
   "id": "91bce012-f5ab-45ad-9d9f-a5ba77ac2205",
   "metadata": {
    "tags": []
   },
   "outputs": [
    {
     "data": {
      "text/html": [
       "<pre style=\"white-space:pre;overflow-x:auto;line-height:normal;font-family:Menlo,'DejaVu Sans Mono',consolas,'Courier New',monospace\"><span style=\"font-weight: bold\">Model: \"functional\"</span>\n",
       "</pre>\n"
      ],
      "text/plain": [
       "\u001b[1mModel: \"functional\"\u001b[0m\n"
      ]
     },
     "metadata": {},
     "output_type": "display_data"
    },
    {
     "data": {
      "text/html": [
       "<pre style=\"white-space:pre;overflow-x:auto;line-height:normal;font-family:Menlo,'DejaVu Sans Mono',consolas,'Courier New',monospace\">┏━━━━━━━━━━━━━━━━━━━━━┳━━━━━━━━━━━━━━━━━━━┳━━━━━━━━━━━━┳━━━━━━━━━━━━━━━━━━━┓\n",
       "┃<span style=\"font-weight: bold\"> Layer (type)        </span>┃<span style=\"font-weight: bold\"> Output Shape      </span>┃<span style=\"font-weight: bold\">    Param # </span>┃<span style=\"font-weight: bold\"> Connected to      </span>┃\n",
       "┡━━━━━━━━━━━━━━━━━━━━━╇━━━━━━━━━━━━━━━━━━━╇━━━━━━━━━━━━╇━━━━━━━━━━━━━━━━━━━┩\n",
       "│ text (<span style=\"color: #0087ff; text-decoration-color: #0087ff\">InputLayer</span>)   │ (<span style=\"color: #00d7ff; text-decoration-color: #00d7ff\">None</span>, <span style=\"color: #00af00; text-decoration-color: #00af00\">70</span>)        │          <span style=\"color: #00af00; text-decoration-color: #00af00\">0</span> │ -                 │\n",
       "├─────────────────────┼───────────────────┼────────────┼───────────────────┤\n",
       "│ embedding           │ (<span style=\"color: #00d7ff; text-decoration-color: #00d7ff\">None</span>, <span style=\"color: #00af00; text-decoration-color: #00af00\">70</span>, <span style=\"color: #00af00; text-decoration-color: #00af00\">40</span>)    │     <span style=\"color: #00af00; text-decoration-color: #00af00\">40,000</span> │ text[<span style=\"color: #00af00; text-decoration-color: #00af00\">0</span>][<span style=\"color: #00af00; text-decoration-color: #00af00\">0</span>]        │\n",
       "│ (<span style=\"color: #0087ff; text-decoration-color: #0087ff\">Embedding</span>)         │                   │            │                   │\n",
       "├─────────────────────┼───────────────────┼────────────┼───────────────────┤\n",
       "│ lstm (<span style=\"color: #0087ff; text-decoration-color: #0087ff\">LSTM</span>)         │ (<span style=\"color: #00d7ff; text-decoration-color: #00d7ff\">None</span>, <span style=\"color: #00af00; text-decoration-color: #00af00\">40</span>)        │     <span style=\"color: #00af00; text-decoration-color: #00af00\">12,960</span> │ embedding[<span style=\"color: #00af00; text-decoration-color: #00af00\">0</span>][<span style=\"color: #00af00; text-decoration-color: #00af00\">0</span>]   │\n",
       "├─────────────────────┼───────────────────┼────────────┼───────────────────┤\n",
       "│ numeric             │ (<span style=\"color: #00d7ff; text-decoration-color: #00d7ff\">None</span>, <span style=\"color: #00af00; text-decoration-color: #00af00\">32</span>)        │          <span style=\"color: #00af00; text-decoration-color: #00af00\">0</span> │ -                 │\n",
       "│ (<span style=\"color: #0087ff; text-decoration-color: #0087ff\">InputLayer</span>)        │                   │            │                   │\n",
       "├─────────────────────┼───────────────────┼────────────┼───────────────────┤\n",
       "│ dense (<span style=\"color: #0087ff; text-decoration-color: #0087ff\">Dense</span>)       │ (<span style=\"color: #00d7ff; text-decoration-color: #00d7ff\">None</span>, <span style=\"color: #00af00; text-decoration-color: #00af00\">64</span>)        │      <span style=\"color: #00af00; text-decoration-color: #00af00\">2,624</span> │ lstm[<span style=\"color: #00af00; text-decoration-color: #00af00\">0</span>][<span style=\"color: #00af00; text-decoration-color: #00af00\">0</span>]        │\n",
       "├─────────────────────┼───────────────────┼────────────┼───────────────────┤\n",
       "│ dense_2 (<span style=\"color: #0087ff; text-decoration-color: #0087ff\">Dense</span>)     │ (<span style=\"color: #00d7ff; text-decoration-color: #00d7ff\">None</span>, <span style=\"color: #00af00; text-decoration-color: #00af00\">32</span>)        │      <span style=\"color: #00af00; text-decoration-color: #00af00\">1,056</span> │ numeric[<span style=\"color: #00af00; text-decoration-color: #00af00\">0</span>][<span style=\"color: #00af00; text-decoration-color: #00af00\">0</span>]     │\n",
       "├─────────────────────┼───────────────────┼────────────┼───────────────────┤\n",
       "│ dropout (<span style=\"color: #0087ff; text-decoration-color: #0087ff\">Dropout</span>)   │ (<span style=\"color: #00d7ff; text-decoration-color: #00d7ff\">None</span>, <span style=\"color: #00af00; text-decoration-color: #00af00\">64</span>)        │          <span style=\"color: #00af00; text-decoration-color: #00af00\">0</span> │ dense[<span style=\"color: #00af00; text-decoration-color: #00af00\">0</span>][<span style=\"color: #00af00; text-decoration-color: #00af00\">0</span>]       │\n",
       "├─────────────────────┼───────────────────┼────────────┼───────────────────┤\n",
       "│ dense_3 (<span style=\"color: #0087ff; text-decoration-color: #0087ff\">Dense</span>)     │ (<span style=\"color: #00d7ff; text-decoration-color: #00d7ff\">None</span>, <span style=\"color: #00af00; text-decoration-color: #00af00\">64</span>)        │      <span style=\"color: #00af00; text-decoration-color: #00af00\">2,112</span> │ dense_2[<span style=\"color: #00af00; text-decoration-color: #00af00\">0</span>][<span style=\"color: #00af00; text-decoration-color: #00af00\">0</span>]     │\n",
       "├─────────────────────┼───────────────────┼────────────┼───────────────────┤\n",
       "│ dense_1 (<span style=\"color: #0087ff; text-decoration-color: #0087ff\">Dense</span>)     │ (<span style=\"color: #00d7ff; text-decoration-color: #00d7ff\">None</span>, <span style=\"color: #00af00; text-decoration-color: #00af00\">64</span>)        │      <span style=\"color: #00af00; text-decoration-color: #00af00\">4,160</span> │ dropout[<span style=\"color: #00af00; text-decoration-color: #00af00\">0</span>][<span style=\"color: #00af00; text-decoration-color: #00af00\">0</span>]     │\n",
       "├─────────────────────┼───────────────────┼────────────┼───────────────────┤\n",
       "│ dense_4 (<span style=\"color: #0087ff; text-decoration-color: #0087ff\">Dense</span>)     │ (<span style=\"color: #00d7ff; text-decoration-color: #00d7ff\">None</span>, <span style=\"color: #00af00; text-decoration-color: #00af00\">64</span>)        │      <span style=\"color: #00af00; text-decoration-color: #00af00\">4,160</span> │ dense_3[<span style=\"color: #00af00; text-decoration-color: #00af00\">0</span>][<span style=\"color: #00af00; text-decoration-color: #00af00\">0</span>]     │\n",
       "├─────────────────────┼───────────────────┼────────────┼───────────────────┤\n",
       "│ concatenate         │ (<span style=\"color: #00d7ff; text-decoration-color: #00d7ff\">None</span>, <span style=\"color: #00af00; text-decoration-color: #00af00\">128</span>)       │          <span style=\"color: #00af00; text-decoration-color: #00af00\">0</span> │ dense_1[<span style=\"color: #00af00; text-decoration-color: #00af00\">0</span>][<span style=\"color: #00af00; text-decoration-color: #00af00\">0</span>],    │\n",
       "│ (<span style=\"color: #0087ff; text-decoration-color: #0087ff\">Concatenate</span>)       │                   │            │ dense_4[<span style=\"color: #00af00; text-decoration-color: #00af00\">0</span>][<span style=\"color: #00af00; text-decoration-color: #00af00\">0</span>]     │\n",
       "├─────────────────────┼───────────────────┼────────────┼───────────────────┤\n",
       "│ dense_5 (<span style=\"color: #0087ff; text-decoration-color: #0087ff\">Dense</span>)     │ (<span style=\"color: #00d7ff; text-decoration-color: #00d7ff\">None</span>, <span style=\"color: #00af00; text-decoration-color: #00af00\">64</span>)        │      <span style=\"color: #00af00; text-decoration-color: #00af00\">8,256</span> │ concatenate[<span style=\"color: #00af00; text-decoration-color: #00af00\">0</span>][<span style=\"color: #00af00; text-decoration-color: #00af00\">0</span>] │\n",
       "├─────────────────────┼───────────────────┼────────────┼───────────────────┤\n",
       "│ dense_6 (<span style=\"color: #0087ff; text-decoration-color: #0087ff\">Dense</span>)     │ (<span style=\"color: #00d7ff; text-decoration-color: #00d7ff\">None</span>, <span style=\"color: #00af00; text-decoration-color: #00af00\">64</span>)        │      <span style=\"color: #00af00; text-decoration-color: #00af00\">4,160</span> │ dense_5[<span style=\"color: #00af00; text-decoration-color: #00af00\">0</span>][<span style=\"color: #00af00; text-decoration-color: #00af00\">0</span>]     │\n",
       "├─────────────────────┼───────────────────┼────────────┼───────────────────┤\n",
       "│ dense_7 (<span style=\"color: #0087ff; text-decoration-color: #0087ff\">Dense</span>)     │ (<span style=\"color: #00d7ff; text-decoration-color: #00d7ff\">None</span>, <span style=\"color: #00af00; text-decoration-color: #00af00\">1</span>)         │         <span style=\"color: #00af00; text-decoration-color: #00af00\">65</span> │ dense_6[<span style=\"color: #00af00; text-decoration-color: #00af00\">0</span>][<span style=\"color: #00af00; text-decoration-color: #00af00\">0</span>]     │\n",
       "└─────────────────────┴───────────────────┴────────────┴───────────────────┘\n",
       "</pre>\n"
      ],
      "text/plain": [
       "┏━━━━━━━━━━━━━━━━━━━━━┳━━━━━━━━━━━━━━━━━━━┳━━━━━━━━━━━━┳━━━━━━━━━━━━━━━━━━━┓\n",
       "┃\u001b[1m \u001b[0m\u001b[1mLayer (type)       \u001b[0m\u001b[1m \u001b[0m┃\u001b[1m \u001b[0m\u001b[1mOutput Shape     \u001b[0m\u001b[1m \u001b[0m┃\u001b[1m \u001b[0m\u001b[1m   Param #\u001b[0m\u001b[1m \u001b[0m┃\u001b[1m \u001b[0m\u001b[1mConnected to     \u001b[0m\u001b[1m \u001b[0m┃\n",
       "┡━━━━━━━━━━━━━━━━━━━━━╇━━━━━━━━━━━━━━━━━━━╇━━━━━━━━━━━━╇━━━━━━━━━━━━━━━━━━━┩\n",
       "│ text (\u001b[38;5;33mInputLayer\u001b[0m)   │ (\u001b[38;5;45mNone\u001b[0m, \u001b[38;5;34m70\u001b[0m)        │          \u001b[38;5;34m0\u001b[0m │ -                 │\n",
       "├─────────────────────┼───────────────────┼────────────┼───────────────────┤\n",
       "│ embedding           │ (\u001b[38;5;45mNone\u001b[0m, \u001b[38;5;34m70\u001b[0m, \u001b[38;5;34m40\u001b[0m)    │     \u001b[38;5;34m40,000\u001b[0m │ text[\u001b[38;5;34m0\u001b[0m][\u001b[38;5;34m0\u001b[0m]        │\n",
       "│ (\u001b[38;5;33mEmbedding\u001b[0m)         │                   │            │                   │\n",
       "├─────────────────────┼───────────────────┼────────────┼───────────────────┤\n",
       "│ lstm (\u001b[38;5;33mLSTM\u001b[0m)         │ (\u001b[38;5;45mNone\u001b[0m, \u001b[38;5;34m40\u001b[0m)        │     \u001b[38;5;34m12,960\u001b[0m │ embedding[\u001b[38;5;34m0\u001b[0m][\u001b[38;5;34m0\u001b[0m]   │\n",
       "├─────────────────────┼───────────────────┼────────────┼───────────────────┤\n",
       "│ numeric             │ (\u001b[38;5;45mNone\u001b[0m, \u001b[38;5;34m32\u001b[0m)        │          \u001b[38;5;34m0\u001b[0m │ -                 │\n",
       "│ (\u001b[38;5;33mInputLayer\u001b[0m)        │                   │            │                   │\n",
       "├─────────────────────┼───────────────────┼────────────┼───────────────────┤\n",
       "│ dense (\u001b[38;5;33mDense\u001b[0m)       │ (\u001b[38;5;45mNone\u001b[0m, \u001b[38;5;34m64\u001b[0m)        │      \u001b[38;5;34m2,624\u001b[0m │ lstm[\u001b[38;5;34m0\u001b[0m][\u001b[38;5;34m0\u001b[0m]        │\n",
       "├─────────────────────┼───────────────────┼────────────┼───────────────────┤\n",
       "│ dense_2 (\u001b[38;5;33mDense\u001b[0m)     │ (\u001b[38;5;45mNone\u001b[0m, \u001b[38;5;34m32\u001b[0m)        │      \u001b[38;5;34m1,056\u001b[0m │ numeric[\u001b[38;5;34m0\u001b[0m][\u001b[38;5;34m0\u001b[0m]     │\n",
       "├─────────────────────┼───────────────────┼────────────┼───────────────────┤\n",
       "│ dropout (\u001b[38;5;33mDropout\u001b[0m)   │ (\u001b[38;5;45mNone\u001b[0m, \u001b[38;5;34m64\u001b[0m)        │          \u001b[38;5;34m0\u001b[0m │ dense[\u001b[38;5;34m0\u001b[0m][\u001b[38;5;34m0\u001b[0m]       │\n",
       "├─────────────────────┼───────────────────┼────────────┼───────────────────┤\n",
       "│ dense_3 (\u001b[38;5;33mDense\u001b[0m)     │ (\u001b[38;5;45mNone\u001b[0m, \u001b[38;5;34m64\u001b[0m)        │      \u001b[38;5;34m2,112\u001b[0m │ dense_2[\u001b[38;5;34m0\u001b[0m][\u001b[38;5;34m0\u001b[0m]     │\n",
       "├─────────────────────┼───────────────────┼────────────┼───────────────────┤\n",
       "│ dense_1 (\u001b[38;5;33mDense\u001b[0m)     │ (\u001b[38;5;45mNone\u001b[0m, \u001b[38;5;34m64\u001b[0m)        │      \u001b[38;5;34m4,160\u001b[0m │ dropout[\u001b[38;5;34m0\u001b[0m][\u001b[38;5;34m0\u001b[0m]     │\n",
       "├─────────────────────┼───────────────────┼────────────┼───────────────────┤\n",
       "│ dense_4 (\u001b[38;5;33mDense\u001b[0m)     │ (\u001b[38;5;45mNone\u001b[0m, \u001b[38;5;34m64\u001b[0m)        │      \u001b[38;5;34m4,160\u001b[0m │ dense_3[\u001b[38;5;34m0\u001b[0m][\u001b[38;5;34m0\u001b[0m]     │\n",
       "├─────────────────────┼───────────────────┼────────────┼───────────────────┤\n",
       "│ concatenate         │ (\u001b[38;5;45mNone\u001b[0m, \u001b[38;5;34m128\u001b[0m)       │          \u001b[38;5;34m0\u001b[0m │ dense_1[\u001b[38;5;34m0\u001b[0m][\u001b[38;5;34m0\u001b[0m],    │\n",
       "│ (\u001b[38;5;33mConcatenate\u001b[0m)       │                   │            │ dense_4[\u001b[38;5;34m0\u001b[0m][\u001b[38;5;34m0\u001b[0m]     │\n",
       "├─────────────────────┼───────────────────┼────────────┼───────────────────┤\n",
       "│ dense_5 (\u001b[38;5;33mDense\u001b[0m)     │ (\u001b[38;5;45mNone\u001b[0m, \u001b[38;5;34m64\u001b[0m)        │      \u001b[38;5;34m8,256\u001b[0m │ concatenate[\u001b[38;5;34m0\u001b[0m][\u001b[38;5;34m0\u001b[0m] │\n",
       "├─────────────────────┼───────────────────┼────────────┼───────────────────┤\n",
       "│ dense_6 (\u001b[38;5;33mDense\u001b[0m)     │ (\u001b[38;5;45mNone\u001b[0m, \u001b[38;5;34m64\u001b[0m)        │      \u001b[38;5;34m4,160\u001b[0m │ dense_5[\u001b[38;5;34m0\u001b[0m][\u001b[38;5;34m0\u001b[0m]     │\n",
       "├─────────────────────┼───────────────────┼────────────┼───────────────────┤\n",
       "│ dense_7 (\u001b[38;5;33mDense\u001b[0m)     │ (\u001b[38;5;45mNone\u001b[0m, \u001b[38;5;34m1\u001b[0m)         │         \u001b[38;5;34m65\u001b[0m │ dense_6[\u001b[38;5;34m0\u001b[0m][\u001b[38;5;34m0\u001b[0m]     │\n",
       "└─────────────────────┴───────────────────┴────────────┴───────────────────┘\n"
      ]
     },
     "metadata": {},
     "output_type": "display_data"
    },
    {
     "data": {
      "text/html": [
       "<pre style=\"white-space:pre;overflow-x:auto;line-height:normal;font-family:Menlo,'DejaVu Sans Mono',consolas,'Courier New',monospace\"><span style=\"font-weight: bold\"> Total params: </span><span style=\"color: #00af00; text-decoration-color: #00af00\">79,553</span> (310.75 KB)\n",
       "</pre>\n"
      ],
      "text/plain": [
       "\u001b[1m Total params: \u001b[0m\u001b[38;5;34m79,553\u001b[0m (310.75 KB)\n"
      ]
     },
     "metadata": {},
     "output_type": "display_data"
    },
    {
     "data": {
      "text/html": [
       "<pre style=\"white-space:pre;overflow-x:auto;line-height:normal;font-family:Menlo,'DejaVu Sans Mono',consolas,'Courier New',monospace\"><span style=\"font-weight: bold\"> Trainable params: </span><span style=\"color: #00af00; text-decoration-color: #00af00\">79,553</span> (310.75 KB)\n",
       "</pre>\n"
      ],
      "text/plain": [
       "\u001b[1m Trainable params: \u001b[0m\u001b[38;5;34m79,553\u001b[0m (310.75 KB)\n"
      ]
     },
     "metadata": {},
     "output_type": "display_data"
    },
    {
     "data": {
      "text/html": [
       "<pre style=\"white-space:pre;overflow-x:auto;line-height:normal;font-family:Menlo,'DejaVu Sans Mono',consolas,'Courier New',monospace\"><span style=\"font-weight: bold\"> Non-trainable params: </span><span style=\"color: #00af00; text-decoration-color: #00af00\">0</span> (0.00 B)\n",
       "</pre>\n"
      ],
      "text/plain": [
       "\u001b[1m Non-trainable params: \u001b[0m\u001b[38;5;34m0\u001b[0m (0.00 B)\n"
      ]
     },
     "metadata": {},
     "output_type": "display_data"
    }
   ],
   "source": [
    "model.summary()"
   ]
  },
  {
   "cell_type": "markdown",
   "id": "ba22d3d9-8013-4f78-ba6e-ff91f2d02c75",
   "metadata": {},
   "source": [
    "## Define Callbacks for Model Training"
   ]
  },
  {
   "cell_type": "code",
   "execution_count": 39,
   "id": "152deb4d-75ff-49f6-a5a6-3170da68f840",
   "metadata": {
    "tags": []
   },
   "outputs": [],
   "source": [
    "model_ckpt = tf.keras.callbacks.ModelCheckpoint(model_result, save_best_only=True)\n",
    "early_stop = tf.keras.callbacks.EarlyStopping(monitor='val_loss', patience=3, mode='min')"
   ]
  },
  {
   "cell_type": "markdown",
   "id": "5ef7838d-e0ba-4d91-b61e-862c6622073b",
   "metadata": {},
   "source": [
    "## Fit the Model"
   ]
  },
  {
   "cell_type": "code",
   "execution_count": 40,
   "id": "bd09c37c-2f00-4d1f-bdc1-2b3f4d7dcd09",
   "metadata": {},
   "outputs": [
    {
     "name": "stdout",
     "output_type": "stream",
     "text": [
      "Epoch 1/15\n",
      "\u001b[1m189/189\u001b[0m \u001b[32m━━━━━━━━━━━━━━━━━━━━\u001b[0m\u001b[37m\u001b[0m \u001b[1m4s\u001b[0m 13ms/step - auc: 0.6077 - loss: 0.6885 - val_auc: 0.9612 - val_loss: 0.5647\n",
      "Epoch 2/15\n",
      "\u001b[1m189/189\u001b[0m \u001b[32m━━━━━━━━━━━━━━━━━━━━\u001b[0m\u001b[37m\u001b[0m \u001b[1m2s\u001b[0m 12ms/step - auc: 0.8898 - loss: 0.4755 - val_auc: 0.9919 - val_loss: 0.1895\n",
      "Epoch 3/15\n",
      "\u001b[1m189/189\u001b[0m \u001b[32m━━━━━━━━━━━━━━━━━━━━\u001b[0m\u001b[37m\u001b[0m \u001b[1m2s\u001b[0m 12ms/step - auc: 0.9765 - loss: 0.1946 - val_auc: 0.9922 - val_loss: 0.1961\n",
      "Epoch 4/15\n",
      "\u001b[1m189/189\u001b[0m \u001b[32m━━━━━━━━━━━━━━━━━━━━\u001b[0m\u001b[37m\u001b[0m \u001b[1m2s\u001b[0m 12ms/step - auc: 0.9730 - loss: 0.1918 - val_auc: 0.9918 - val_loss: 0.2037\n",
      "Epoch 5/15\n",
      "\u001b[1m189/189\u001b[0m \u001b[32m━━━━━━━━━━━━━━━━━━━━\u001b[0m\u001b[37m\u001b[0m \u001b[1m2s\u001b[0m 12ms/step - auc: 0.9798 - loss: 0.1699 - val_auc: 0.9921 - val_loss: 0.2173\n"
     ]
    }
   ],
   "source": [
    "history = model.fit(\n",
    "    {\"text\": padded_inputs, \"numeric\": X_train},  # Input data\n",
    "    y_train,  # Output labels\n",
    "    validation_data=({\"text\": padded_inputs_val, \"numeric\": X_val}, y_val),  # Validation data\n",
    "    epochs=15,  # Training for 15 epochs\n",
    "    verbose=1,  # Show detailed logs during training\n",
    "    callbacks=[model_ckpt, early_stop]  # Save best model and prevent overfitting\n",
    ")"
   ]
  },
  {
   "cell_type": "markdown",
   "id": "a6f05b1e-7304-46fa-b840-0f830021cfc0",
   "metadata": {},
   "source": [
    "## Plot Loss Learning Curves"
   ]
  },
  {
   "cell_type": "code",
   "execution_count": 41,
   "id": "90e55d1f-fb4b-4b16-a808-f78f0785f81d",
   "metadata": {
    "tags": []
   },
   "outputs": [
    {
     "data": {
      "text/plain": [
       "<Figure size 640x480 with 0 Axes>"
      ]
     },
     "metadata": {},
     "output_type": "display_data"
    },
    {
     "data": {
      "image/png": "[encoded data removed]",
      "text/plain": [
       "<Figure size 1000x1000 with 1 Axes>"
      ]
     },
     "metadata": {},
     "output_type": "display_data"
    }
   ],
   "source": [
    "plt.clf()\n",
    "plt.figure(figsize=(10, 10))\n",
    "plt.plot(history.history['loss'], label='Train Loss')\n",
    "plt.plot(history.history['val_loss'], label='Val Loss')\n",
    "plt.title('Loss History')\n",
    "plt.ylabel('Loss Value')\n",
    "plt.xlabel('Epoch')\n",
    "plt.legend(loc='best')\n",
    "plt.show()"
   ]
  },
  {
   "cell_type": "markdown",
   "id": "78fc0679-9759-4b34-9086-b5a9415ab619",
   "metadata": {
    "tags": []
   },
   "source": [
    "## Plot PR AUC Learning Curves"
   ]
  },
  {
   "cell_type": "code",
   "execution_count": 42,
   "id": "d3099862-761e-4a98-8f55-98b15635cf0d",
   "metadata": {
    "tags": []
   },
   "outputs": [
    {
     "data": {
      "text/plain": [
       "<Figure size 640x480 with 0 Axes>"
      ]
     },
     "metadata": {},
     "output_type": "display_data"
    },
    {
     "data": {
      "image/png": "[encoded data removed]",
      "text/plain": [
       "<Figure size 1000x1000 with 1 Axes>"
      ]
     },
     "metadata": {},
     "output_type": "display_data"
    }
   ],
   "source": [
    "plt.clf()\n",
    "plt.figure(figsize=(10, 10))\n",
    "plt.plot(history.history['auc'], label='Train PR AUC')\n",
    "plt.plot(history.history['val_auc'], label='Val PR AUC')\n",
    "plt.title('PR AUC History')\n",
    "plt.ylabel('PR AUC')\n",
    "plt.xlabel('Epoch')\n",
    "plt.legend(loc='best')\n",
    "plt.show()"
   ]
  },
  {
   "cell_type": "markdown",
   "id": "af58f383-186d-4962-abca-5e99633ff061",
   "metadata": {},
   "source": [
    "## Load Model with Best Validation Loss from Training Process"
   ]
  },
  {
   "cell_type": "code",
   "execution_count": 43,
   "id": "cdaae5d9-9e34-4837-b6bb-ce6f8a411a04",
   "metadata": {
    "tags": []
   },
   "outputs": [],
   "source": [
    "model = tf.keras.models.load_model(model_result)"
   ]
  },
  {
   "cell_type": "markdown",
   "id": "b47784c4-7f12-4001-86f8-0ca7cd292ad4",
   "metadata": {
    "tags": []
   },
   "source": [
    "## Generate Test Set Scores"
   ]
  },
  {
   "cell_type": "markdown",
   "id": "8bd629fa-d587-44f6-a688-d65bbdf0c534",
   "metadata": {
    "tags": []
   },
   "source": [
    "## Test dataset"
   ]
  },
  {
   "cell_type": "code",
   "execution_count": 44,
   "id": "84e5401c-835a-43bd-9684-9269117222c3",
   "metadata": {
    "tags": []
   },
   "outputs": [
    {
     "name": "stdout",
     "output_type": "stream",
     "text": [
      "\u001b[1m31/31\u001b[0m \u001b[32m━━━━━━━━━━━━━━━━━━━━\u001b[0m\u001b[37m\u001b[0m \u001b[1m0s\u001b[0m 5ms/step \n"
     ]
    }
   ],
   "source": [
    "y_prob = model.predict({\"text\": padded_inputs_test, \"numeric\": X_test}).flatten()"
   ]
  },
  {
   "cell_type": "code",
   "execution_count": 45,
   "id": "f6e82ac0-d139-48f5-b3a4-17bbe67305d8",
   "metadata": {
    "scrolled": true,
    "tags": []
   },
   "outputs": [
    {
     "data": {
      "text/plain": [
       "array([0.9541392 , 0.99789375, 0.9931184 , 0.11614592, 0.99066526,\n",
       "       0.93955356, 0.05553641, 0.02811675, 0.9894177 , 0.9888756 ,\n",
       "       0.98624414, 0.9889825 , 0.98579425, 0.9523884 , 0.21608488,\n",
       "       0.78037965, 0.98325706, 0.9952533 , 0.13929267, 0.8486457 ,\n",
       "       0.0925272 , 0.9771188 , 0.2770666 , 0.9846666 , 0.47476292,\n",
       "       0.13693611, 0.97822183, 0.9537076 , 0.26220927, 0.98044896,\n",
       "       0.9769174 , 0.12602867, 0.9878396 , 0.04838131, 0.99140644,\n",
       "       0.21996272, 0.22774915, 0.9858868 , 0.99260527, 0.9735491 ,\n",
       "       0.8698693 , 0.97589207, 0.93369037, 0.95352715, 0.97837883,\n",
       "       0.98610455, 0.96432966, 0.8066503 , 0.9777932 , 0.99470955,\n",
       "       0.9064053 , 0.9935743 , 0.93116385, 0.07710378, 0.99316365,\n",
       "       0.98535115, 0.9886148 , 0.64462024, 0.05128775, 0.95544034,\n",
       "       0.96496236, 0.03660028, 0.98930186, 0.9915554 , 0.13643321,\n",
       "       0.98737544, 0.08219436, 0.9596067 , 0.9769368 , 0.04629619,\n",
       "       0.9949237 , 0.99662036, 0.06611228, 0.97763705, 0.9786159 ,\n",
       "       0.06374961, 0.18743813, 0.7346936 , 0.9891677 , 0.977973  ,\n",
       "       0.76830757, 0.99418026, 0.8963236 , 0.98863053, 0.9890897 ,\n",
       "       0.78108746, 0.9780195 , 0.9795157 , 0.88671505, 0.98639524,\n",
       "       0.9800322 , 0.9760633 , 0.6872585 , 0.04030713, 0.9360881 ,\n",
       "       0.9783098 , 0.9524051 , 0.03728224, 0.98319405, 0.04264992,\n",
       "       0.9860549 , 0.18279088, 0.08850417, 0.9479568 , 0.06526844,\n",
       "       0.9356591 , 0.98751557, 0.9830622 , 0.07803263, 0.98593867,\n",
       "       0.99085414, 0.7859545 , 0.51810753, 0.29196504, 0.0344394 ,\n",
       "       0.99242353, 0.9750663 , 0.9725444 , 0.87358296, 0.10756071,\n",
       "       0.36371943, 0.08359044, 0.9895783 , 0.12257608, 0.99020445,\n",
       "       0.12967625, 0.08134077, 0.9947842 , 0.94009024, 0.9771049 ,\n",
       "       0.97344184, 0.9826298 , 0.62823576, 0.9705788 , 0.02708846,\n",
       "       0.9832828 , 0.03757478, 0.47656038, 0.997436  , 0.9825545 ,\n",
       "       0.9448501 , 0.9914419 , 0.9106107 , 0.05349681, 0.9801067 ,\n",
       "       0.9911684 , 0.9688472 , 0.9625301 , 0.98999983, 0.9813194 ,\n",
       "       0.9879084 , 0.9857636 , 0.03686431, 0.9847086 , 0.96842945,\n",
       "       0.954102  , 0.9626742 , 0.9893082 , 0.97783846, 0.9720372 ,\n",
       "       0.9800905 , 0.99573505, 0.90855145, 0.9873092 , 0.88394535,\n",
       "       0.95344615, 0.9712089 , 0.98183095, 0.12742272, 0.9330688 ,\n",
       "       0.76414824, 0.95627105, 0.9977656 , 0.685143  , 0.9910531 ,\n",
       "       0.99146026, 0.06398685, 0.8709156 , 0.994012  , 0.9188649 ,\n",
       "       0.98597   , 0.12690969, 0.9755642 , 0.9923967 , 0.83683556,\n",
       "       0.9927705 , 0.9630157 , 0.9893476 , 0.96010303, 0.10083783,\n",
       "       0.9817828 , 0.1040201 , 0.97330666, 0.9851139 , 0.99513316,\n",
       "       0.9958028 , 0.9839722 , 0.9891485 , 0.977513  , 0.7909056 ,\n",
       "       0.08907393, 0.8353289 , 0.9866068 , 0.9789431 , 0.96157765,\n",
       "       0.19198951, 0.09866749, 0.9696562 , 0.9776218 , 0.9749432 ,\n",
       "       0.98852116, 0.913066  , 0.33618858, 0.82829416, 0.97934663,\n",
       "       0.04913332, 0.9912979 , 0.98457026, 0.9935103 , 0.99411833,\n",
       "       0.0451404 , 0.99219716, 0.9821346 , 0.76074046, 0.02761092,\n",
       "       0.99356246, 0.9840788 , 0.96372294, 0.9682722 , 0.10463525,\n",
       "       0.04485727, 0.9806311 , 0.98850626, 0.99285525, 0.9783768 ,\n",
       "       0.99682593, 0.09864436, 0.96961737, 0.9899054 , 0.94646645,\n",
       "       0.6760376 , 0.99099755, 0.05161373, 0.9919097 , 0.9774685 ,\n",
       "       0.9856744 , 0.97063994, 0.9905602 , 0.8031161 , 0.9965066 ,\n",
       "       0.7027999 , 0.9949206 , 0.97350997, 0.99465257, 0.9623968 ,\n",
       "       0.9190128 , 0.21932329, 0.92707276, 0.9765438 , 0.9727287 ,\n",
       "       0.0279987 , 0.6954728 , 0.08031411, 0.96585786, 0.99458104,\n",
       "       0.99100316, 0.90849555, 0.9925096 , 0.9758337 , 0.91595554,\n",
       "       0.96549124, 0.98456115, 0.9908288 , 0.987014  , 0.9915788 ,\n",
       "       0.70858324, 0.9832043 , 0.04460876, 0.95724374, 0.9836847 ,\n",
       "       0.85835046, 0.9859741 , 0.98321944, 0.967447  , 0.97119564,\n",
       "       0.92308486, 0.9945871 , 0.861886  , 0.7793577 , 0.10319669,\n",
       "       0.99247426, 0.9815281 , 0.06683831, 0.9698275 , 0.9833372 ,\n",
       "       0.996557  , 0.9892795 , 0.72032726, 0.6660326 , 0.41755468,\n",
       "       0.6160732 , 0.9831027 , 0.61213464, 0.9683271 , 0.7930739 ,\n",
       "       0.9858948 , 0.79676455, 0.9673268 , 0.12386972, 0.986907  ,\n",
       "       0.9916979 , 0.9457871 , 0.9723847 , 0.9901326 , 0.05164393,\n",
       "       0.99215734, 0.9876889 , 0.9593447 , 0.14854938, 0.89907765,\n",
       "       0.9865475 , 0.99221236, 0.8613342 , 0.03786499, 0.09564768,\n",
       "       0.03514438, 0.04473546, 0.99246496, 0.06852142, 0.04748434,\n",
       "       0.951309  , 0.9652378 , 0.07193207, 0.97526896, 0.97749984,\n",
       "       0.04353611, 0.9900236 , 0.95981354, 0.95878863, 0.46809354,\n",
       "       0.03740564, 0.75644815, 0.05308515, 0.03224543, 0.9710552 ,\n",
       "       0.0349111 , 0.979696  , 0.03467007, 0.9309877 , 0.92240703,\n",
       "       0.20899262, 0.9903428 , 0.9044862 , 0.2581187 , 0.04978465,\n",
       "       0.99464977, 0.99306846, 0.9777374 , 0.7673312 , 0.08305013,\n",
       "       0.98224986, 0.9859765 , 0.9408136 , 0.9940302 , 0.9851946 ,\n",
       "       0.9904042 , 0.98526424, 0.9375695 , 0.98785216, 0.04162817,\n",
       "       0.95404977, 0.7531463 , 0.9920955 , 0.97244036, 0.99551713,\n",
       "       0.96282524, 0.9739996 , 0.99048233, 0.0476594 , 0.9728939 ,\n",
       "       0.98066837, 0.98760617, 0.60595304, 0.52193654, 0.13002889,\n",
       "       0.96373165, 0.08261675, 0.0445815 , 0.9930687 , 0.97366613,\n",
       "       0.18542632, 0.8146611 , 0.12037688, 0.4722517 , 0.7856841 ,\n",
       "       0.5939891 , 0.8437744 , 0.09894991, 0.9810238 , 0.9930339 ,\n",
       "       0.99000853, 0.482097  , 0.2604618 , 0.99105185, 0.9916712 ,\n",
       "       0.9886065 , 0.8233217 , 0.97998625, 0.9407163 , 0.9867593 ,\n",
       "       0.9820981 , 0.9492255 , 0.99426687, 0.9918894 , 0.9838706 ,\n",
       "       0.97856396, 0.9929069 , 0.34995282, 0.93512344, 0.98946697,\n",
       "       0.13983513, 0.93674046, 0.9515198 , 0.22081423, 0.9794682 ,\n",
       "       0.13841996, 0.9942152 , 0.97336274, 0.9866252 , 0.9748622 ,\n",
       "       0.9621145 , 0.8740042 , 0.9710553 , 0.10395675, 0.9810282 ,\n",
       "       0.97952205, 0.9916202 , 0.93285197, 0.8536557 , 0.05029078,\n",
       "       0.11257562, 0.93248516, 0.7964743 , 0.98823106, 0.9961803 ,\n",
       "       0.11193306, 0.9680299 , 0.8014936 , 0.9719007 , 0.9883113 ,\n",
       "       0.76252097, 0.98509175, 0.98200125, 0.90252393, 0.18632312,\n",
       "       0.03268086, 0.8685184 , 0.99420184, 0.9956079 , 0.97398645,\n",
       "       0.03613679, 0.08626626, 0.9832178 , 0.88167006, 0.9892956 ,\n",
       "       0.83256215, 0.35824388, 0.993378  , 0.98556936, 0.98648673,\n",
       "       0.09078824, 0.9884779 , 0.99378645, 0.9868022 , 0.974566  ,\n",
       "       0.98568684, 0.98676705, 0.9754716 , 0.4513162 , 0.95597035,\n",
       "       0.13412714, 0.887079  , 0.9907575 , 0.08908384, 0.03682033,\n",
       "       0.04045304, 0.99200624, 0.3431529 , 0.8839457 , 0.06063764,\n",
       "       0.03174495, 0.9862149 , 0.9867706 , 0.9933954 , 0.9912649 ,\n",
       "       0.98987347, 0.9879742 , 0.98995817, 0.98848915, 0.978731  ,\n",
       "       0.09339859, 0.9803531 , 0.773326  , 0.98399645, 0.11536316,\n",
       "       0.15916066, 0.9718137 , 0.9714162 , 0.99212164, 0.94294155,\n",
       "       0.08593389, 0.8753389 , 0.04198891, 0.09328718, 0.9829316 ,\n",
       "       0.99307084, 0.14227812, 0.73362076, 0.11703718, 0.9892613 ,\n",
       "       0.9880047 , 0.9808248 , 0.991548  , 0.9067051 , 0.98069984,\n",
       "       0.04495417, 0.9213809 , 0.9744881 , 0.98880994, 0.9884979 ,\n",
       "       0.98082215, 0.9311629 , 0.98157763, 0.9951099 , 0.0433877 ,\n",
       "       0.99551857, 0.8373155 , 0.8172759 , 0.9876267 , 0.9619933 ,\n",
       "       0.7089573 , 0.8938298 , 0.99528396, 0.99267447, 0.99362695,\n",
       "       0.9897512 , 0.99154705, 0.03393884, 0.97951657, 0.98104733,\n",
       "       0.966648  , 0.38441858, 0.8764171 , 0.6926217 , 0.9949888 ,\n",
       "       0.15488425, 0.8913427 , 0.9578099 , 0.9841919 , 0.9305955 ,\n",
       "       0.98437977, 0.22513148, 0.0427203 , 0.8761702 , 0.98362714,\n",
       "       0.8735566 , 0.992904  , 0.98790294, 0.9889785 , 0.9847351 ,\n",
       "       0.28527376, 0.97790754, 0.13143209, 0.99005604, 0.9584445 ,\n",
       "       0.10463411, 0.9795549 , 0.9843819 , 0.9888195 , 0.9600301 ,\n",
       "       0.981233  , 0.9843628 , 0.9619961 , 0.9726878 , 0.9351295 ,\n",
       "       0.9890535 , 0.9949485 , 0.04885881, 0.9928637 , 0.9823636 ,\n",
       "       0.950984  , 0.9936336 , 0.16605094, 0.9906194 , 0.9867082 ,\n",
       "       0.97320896, 0.98824847, 0.04281841, 0.14813666, 0.83539134,\n",
       "       0.18815987, 0.0444438 , 0.0494073 , 0.09838717, 0.9910581 ,\n",
       "       0.9871603 , 0.9907118 , 0.9716907 , 0.9726335 , 0.10190481,\n",
       "       0.85578984, 0.76633215, 0.9951879 , 0.7661012 , 0.98034334,\n",
       "       0.98734534, 0.9879582 , 0.9828273 , 0.9854163 , 0.12216353,\n",
       "       0.97325855, 0.0344842 , 0.14513455, 0.7293652 , 0.9425154 ,\n",
       "       0.99072695, 0.87079304, 0.97924155, 0.9550937 , 0.99274904,\n",
       "       0.9845644 , 0.9371822 , 0.9926256 , 0.97283024, 0.9924855 ,\n",
       "       0.9372955 , 0.98292816, 0.06340174, 0.17062753, 0.5090775 ,\n",
       "       0.9954582 , 0.53473   , 0.98798376, 0.9806188 , 0.99240255,\n",
       "       0.9812931 , 0.22265874, 0.9862821 , 0.0297185 , 0.9968404 ,\n",
       "       0.96217626, 0.05903681, 0.9614112 , 0.7561557 , 0.9932156 ,\n",
       "       0.98158735, 0.99442756, 0.9846659 , 0.98301744, 0.9900346 ,\n",
       "       0.04133924, 0.9835021 , 0.9673871 , 0.99113846, 0.97610945,\n",
       "       0.22141095, 0.97749025, 0.97651744, 0.8956003 , 0.990013  ,\n",
       "       0.9908407 , 0.07744692, 0.9878401 , 0.58118343, 0.6097608 ,\n",
       "       0.9942206 , 0.9868738 , 0.9730402 , 0.9915593 , 0.05465532,\n",
       "       0.99429506, 0.85993004, 0.97630906, 0.9970805 , 0.9906229 ,\n",
       "       0.91844803, 0.9702535 , 0.9839506 , 0.9804895 , 0.8552808 ,\n",
       "       0.9909847 , 0.9758718 , 0.97793823, 0.9854341 , 0.9598324 ,\n",
       "       0.8406322 , 0.783089  , 0.9869032 , 0.9952035 , 0.9888861 ,\n",
       "       0.97592574, 0.9949953 , 0.4657174 , 0.9868453 , 0.7718077 ,\n",
       "       0.946084  , 0.78825456, 0.34261104, 0.98993653, 0.96507186,\n",
       "       0.17336082, 0.08419093, 0.9414766 , 0.05412875, 0.9885088 ,\n",
       "       0.9939609 , 0.22291274, 0.915815  , 0.9511729 , 0.98646814,\n",
       "       0.27574697, 0.9835944 , 0.9681553 , 0.6466846 , 0.75116086,\n",
       "       0.9965111 , 0.05194381, 0.9329425 , 0.9893398 , 0.98478967,\n",
       "       0.9934112 , 0.9955074 , 0.11345258, 0.9832115 , 0.9181878 ,\n",
       "       0.9900786 , 0.06002593, 0.991821  , 0.07261159, 0.9882378 ,\n",
       "       0.97871476, 0.9845211 , 0.4751379 , 0.82334554, 0.9886642 ,\n",
       "       0.9899209 , 0.9939892 , 0.05046308, 0.984108  , 0.08462804,\n",
       "       0.9939493 , 0.9649575 , 0.9668505 , 0.94827956, 0.96893865,\n",
       "       0.981428  , 0.0439926 , 0.98188055, 0.9874401 , 0.9703516 ,\n",
       "       0.46543482, 0.99356407, 0.9840639 , 0.9919346 , 0.9849033 ,\n",
       "       0.9791564 , 0.7162896 , 0.9384342 , 0.27539727, 0.6780464 ,\n",
       "       0.98461634, 0.915678  , 0.14960603, 0.14199856, 0.5764795 ,\n",
       "       0.9878834 , 0.9950428 , 0.9859959 , 0.98291403, 0.9939031 ,\n",
       "       0.98150647, 0.9752523 , 0.9597349 , 0.9905736 , 0.9919059 ,\n",
       "       0.99083734, 0.9852333 , 0.971231  , 0.9768622 , 0.95619017,\n",
       "       0.95477784, 0.9783857 , 0.7281363 , 0.9848385 , 0.05353717,\n",
       "       0.10460272, 0.5506213 , 0.9955117 , 0.8738602 , 0.05555025,\n",
       "       0.0326225 , 0.02542009, 0.9828997 , 0.9699109 , 0.98652726,\n",
       "       0.9875595 , 0.984932  , 0.97858983, 0.13026491, 0.9929823 ,\n",
       "       0.99539703, 0.99663585, 0.9857269 , 0.9935594 , 0.26192164,\n",
       "       0.02229482, 0.9888004 , 0.9884754 , 0.9696725 , 0.9952672 ,\n",
       "       0.15816733, 0.98632634, 0.99139005, 0.9829851 , 0.05350626,\n",
       "       0.04545982, 0.97713095, 0.921186  , 0.97495353, 0.9872915 ,\n",
       "       0.99056655, 0.86350816, 0.9869002 , 0.44587767, 0.959212  ,\n",
       "       0.99459785, 0.9525    , 0.9849803 , 0.9840129 , 0.10228358,\n",
       "       0.35114476, 0.9854298 , 0.99543047, 0.07358715, 0.9616143 ,\n",
       "       0.98983806, 0.15207282, 0.9961045 , 0.12468395, 0.9952989 ,\n",
       "       0.7394352 , 0.9952519 , 0.9789414 , 0.9906421 , 0.03472928,\n",
       "       0.8896914 , 0.9821542 , 0.9060319 , 0.0247392 , 0.04613419,\n",
       "       0.2589208 , 0.995018  , 0.98163474, 0.16608514, 0.98312324,\n",
       "       0.9163462 , 0.9886613 , 0.65945023, 0.9724941 , 0.92592424,\n",
       "       0.9758232 , 0.6884262 , 0.98312885, 0.9960448 , 0.9873451 ,\n",
       "       0.9940698 , 0.9955088 , 0.9811248 , 0.91823655, 0.12921575,\n",
       "       0.992459  , 0.04385363, 0.04526312, 0.5993514 , 0.98383266,\n",
       "       0.11450219, 0.17399976, 0.20012794, 0.9865052 , 0.7337243 ,\n",
       "       0.9866438 , 0.6693591 , 0.05738109, 0.98024774, 0.24349596,\n",
       "       0.9942625 , 0.29932815, 0.6770584 , 0.10745125, 0.97988766,\n",
       "       0.9831664 , 0.97516304, 0.9318115 , 0.03555124, 0.9953571 ,\n",
       "       0.8148282 , 0.94993097, 0.99094015, 0.9881481 , 0.9741392 ,\n",
       "       0.98432964, 0.97878814, 0.9843917 , 0.98088646, 0.985047  ,\n",
       "       0.0527023 , 0.99522847, 0.9951873 , 0.96450734, 0.08364392,\n",
       "       0.9843436 , 0.03545769, 0.8560469 , 0.9944026 , 0.98901445,\n",
       "       0.12632824, 0.10211582, 0.97634387, 0.97690576, 0.9881586 ,\n",
       "       0.96276593, 0.9383452 , 0.17341533, 0.04596078, 0.99099475,\n",
       "       0.04019136, 0.9856899 , 0.9900576 , 0.79769385, 0.9934862 ,\n",
       "       0.0584571 , 0.05391839, 0.7973209 , 0.04197859, 0.9366319 ,\n",
       "       0.96845585, 0.9747952 , 0.95971113, 0.8394202 , 0.04419551,\n",
       "       0.6968853 , 0.05809112, 0.17848915, 0.02744922, 0.98246074,\n",
       "       0.9155343 , 0.99028295, 0.9884467 , 0.8922319 , 0.9542535 ,\n",
       "       0.99542964, 0.99513024, 0.8780349 , 0.04207028, 0.9898026 ,\n",
       "       0.9944071 , 0.9673934 , 0.9926769 , 0.91258246, 0.23586865,\n",
       "       0.9328209 , 0.9781733 , 0.05208459, 0.9912191 , 0.6391572 ,\n",
       "       0.08802198, 0.9697947 , 0.97788227, 0.9059592 , 0.9694378 ,\n",
       "       0.92163414, 0.16197215, 0.95565706, 0.04009734], dtype=float32)"
      ]
     },
     "execution_count": 45,
     "metadata": {},
     "output_type": "execute_result"
    }
   ],
   "source": [
    "y_prob"
   ]
  },
  {
   "cell_type": "code",
   "execution_count": 46,
   "id": "4d5dbfcb-adc5-4fe8-96cf-20c7079e705d",
   "metadata": {
    "tags": []
   },
   "outputs": [
    {
     "data": {
      "text/plain": [
       "984"
      ]
     },
     "execution_count": 46,
     "metadata": {},
     "output_type": "execute_result"
    }
   ],
   "source": [
    "len(y_prob)"
   ]
  },
  {
   "cell_type": "markdown",
   "id": "3f50106b-3df2-4b22-9849-aa11ad886c7e",
   "metadata": {
    "tags": []
   },
   "source": [
    "### Plot Precision Recall Curve"
   ]
  },
  {
   "cell_type": "code",
   "execution_count": 47,
   "id": "87307912-b24c-4273-9364-a5f015bcb49d",
   "metadata": {
    "tags": []
   },
   "outputs": [
    {
     "name": "stderr",
     "output_type": "stream",
     "text": [
      "/opt/anaconda3/envs/cat_num_text/lib/python3.12/site-packages/sklearn/metrics/_ranking.py:996: FutureWarning: probas_pred was deprecated in version 1.5 and will be removed in 1.7.Please use ``y_score`` instead.\n",
      "  warnings.warn(\n"
     ]
    },
    {
     "data": {
      "image/png": "[encoded data removed]",
      "text/plain": [
       "<Figure size 640x480 with 1 Axes>"
      ]
     },
     "metadata": {},
     "output_type": "display_data"
    }
   ],
   "source": [
    "pr_curve(y_test, y_prob)"
   ]
  },
  {
   "cell_type": "markdown",
   "id": "8cf8350f-d28a-4e94-8151-4802c00d09cd",
   "metadata": {
    "tags": []
   },
   "source": [
    "### Plot Score Distributions for True Positives and True Negatives in Test Set"
   ]
  },
  {
   "cell_type": "code",
   "execution_count": 48,
   "id": "d7386200-dd52-4564-b412-d1bd8a6a133e",
   "metadata": {
    "tags": []
   },
   "outputs": [
    {
     "data": {
      "image/png": "[encoded data removed]",
      "text/plain": [
       "<Figure size 1200x1200 with 1 Axes>"
      ]
     },
     "metadata": {},
     "output_type": "display_data"
    }
   ],
   "source": [
    "plot_validation_groups(y_test, y_prob)"
   ]
  },
  {
   "cell_type": "markdown",
   "id": "031ac68c-1c8e-4bfd-9e89-1018a7819e2c",
   "metadata": {},
   "source": [
    "### Compute Performance Metrics at Threshold Increments"
   ]
  },
  {
   "cell_type": "code",
   "execution_count": 49,
   "id": "c12350a1-bd03-4bc1-9e95-e1c1e1cb87b2",
   "metadata": {
    "tags": []
   },
   "outputs": [
    {
     "data": {
      "text/html": [
       "<div>\n",
       "<style scoped>\n",
       "    .dataframe tbody tr th:only-of-type {\n",
       "        vertical-align: middle;\n",
       "    }\n",
       "\n",
       "    .dataframe tbody tr th {\n",
       "        vertical-align: top;\n",
       "    }\n",
       "\n",
       "    .dataframe thead th {\n",
       "        text-align: right;\n",
       "    }\n",
       "</style>\n",
       "<table border=\"1\" class=\"dataframe\">\n",
       "  <thead>\n",
       "    <tr style=\"text-align: right;\">\n",
       "      <th></th>\n",
       "      <th>Threshold</th>\n",
       "      <th>Sensitivity</th>\n",
       "      <th>Specificity</th>\n",
       "      <th>Precision</th>\n",
       "      <th>Recall</th>\n",
       "      <th>Accuracy</th>\n",
       "      <th>True Negative Rate</th>\n",
       "      <th>False Positive Rate</th>\n",
       "      <th>False Negative Rate</th>\n",
       "      <th>True Positive Rate</th>\n",
       "      <th>F1 Score</th>\n",
       "      <th>Brier Loss</th>\n",
       "    </tr>\n",
       "  </thead>\n",
       "  <tbody>\n",
       "    <tr>\n",
       "      <th>0</th>\n",
       "      <td>0.05</td>\n",
       "      <td>0.9987</td>\n",
       "      <td>0.3385</td>\n",
       "      <td>0.8617</td>\n",
       "      <td>0.9848</td>\n",
       "      <td>0.8699</td>\n",
       "      <td>6.61%</td>\n",
       "      <td>12.91%</td>\n",
       "      <td>0.1%</td>\n",
       "      <td>80.39%</td>\n",
       "      <td>0.4626</td>\n",
       "      <td>0.1301</td>\n",
       "    </tr>\n",
       "    <tr>\n",
       "      <th>1</th>\n",
       "      <td>0.10</td>\n",
       "      <td>0.9861</td>\n",
       "      <td>0.5990</td>\n",
       "      <td>0.9103</td>\n",
       "      <td>0.9127</td>\n",
       "      <td>0.9106</td>\n",
       "      <td>11.69%</td>\n",
       "      <td>7.83%</td>\n",
       "      <td>1.12%</td>\n",
       "      <td>79.37%</td>\n",
       "      <td>0.4733</td>\n",
       "      <td>0.0894</td>\n",
       "    </tr>\n",
       "    <tr>\n",
       "      <th>2</th>\n",
       "      <td>0.15</td>\n",
       "      <td>0.9747</td>\n",
       "      <td>0.7865</td>\n",
       "      <td>0.9496</td>\n",
       "      <td>0.8830</td>\n",
       "      <td>0.9380</td>\n",
       "      <td>15.35%</td>\n",
       "      <td>4.17%</td>\n",
       "      <td>2.03%</td>\n",
       "      <td>78.46%</td>\n",
       "      <td>0.4810</td>\n",
       "      <td>0.0620</td>\n",
       "    </tr>\n",
       "    <tr>\n",
       "      <th>3</th>\n",
       "      <td>0.20</td>\n",
       "      <td>0.9609</td>\n",
       "      <td>0.8229</td>\n",
       "      <td>0.9572</td>\n",
       "      <td>0.8360</td>\n",
       "      <td>0.9339</td>\n",
       "      <td>16.06%</td>\n",
       "      <td>3.46%</td>\n",
       "      <td>3.15%</td>\n",
       "      <td>77.34%</td>\n",
       "      <td>0.4795</td>\n",
       "      <td>0.0661</td>\n",
       "    </tr>\n",
       "    <tr>\n",
       "      <th>4</th>\n",
       "      <td>0.25</td>\n",
       "      <td>0.9583</td>\n",
       "      <td>0.8802</td>\n",
       "      <td>0.9706</td>\n",
       "      <td>0.8366</td>\n",
       "      <td>0.9431</td>\n",
       "      <td>17.17%</td>\n",
       "      <td>2.34%</td>\n",
       "      <td>3.35%</td>\n",
       "      <td>77.13%</td>\n",
       "      <td>0.4822</td>\n",
       "      <td>0.0569</td>\n",
       "    </tr>\n",
       "    <tr>\n",
       "      <th>5</th>\n",
       "      <td>0.30</td>\n",
       "      <td>0.9508</td>\n",
       "      <td>0.9062</td>\n",
       "      <td>0.9767</td>\n",
       "      <td>0.8169</td>\n",
       "      <td>0.9421</td>\n",
       "      <td>17.68%</td>\n",
       "      <td>1.83%</td>\n",
       "      <td>3.96%</td>\n",
       "      <td>76.52%</td>\n",
       "      <td>0.4818</td>\n",
       "      <td>0.0579</td>\n",
       "    </tr>\n",
       "    <tr>\n",
       "      <th>6</th>\n",
       "      <td>0.35</td>\n",
       "      <td>0.9482</td>\n",
       "      <td>0.9167</td>\n",
       "      <td>0.9791</td>\n",
       "      <td>0.8111</td>\n",
       "      <td>0.9421</td>\n",
       "      <td>17.89%</td>\n",
       "      <td>1.63%</td>\n",
       "      <td>4.17%</td>\n",
       "      <td>76.32%</td>\n",
       "      <td>0.4817</td>\n",
       "      <td>0.0579</td>\n",
       "    </tr>\n",
       "    <tr>\n",
       "      <th>7</th>\n",
       "      <td>0.40</td>\n",
       "      <td>0.9444</td>\n",
       "      <td>0.9219</td>\n",
       "      <td>0.9803</td>\n",
       "      <td>0.8009</td>\n",
       "      <td>0.9400</td>\n",
       "      <td>17.99%</td>\n",
       "      <td>1.52%</td>\n",
       "      <td>4.47%</td>\n",
       "      <td>76.02%</td>\n",
       "      <td>0.4810</td>\n",
       "      <td>0.0600</td>\n",
       "    </tr>\n",
       "    <tr>\n",
       "      <th>8</th>\n",
       "      <td>0.45</td>\n",
       "      <td>0.9444</td>\n",
       "      <td>0.9323</td>\n",
       "      <td>0.9829</td>\n",
       "      <td>0.8027</td>\n",
       "      <td>0.9421</td>\n",
       "      <td>18.19%</td>\n",
       "      <td>1.32%</td>\n",
       "      <td>4.47%</td>\n",
       "      <td>76.02%</td>\n",
       "      <td>0.4816</td>\n",
       "      <td>0.0579</td>\n",
       "    </tr>\n",
       "    <tr>\n",
       "      <th>9</th>\n",
       "      <td>0.50</td>\n",
       "      <td>0.9381</td>\n",
       "      <td>0.9531</td>\n",
       "      <td>0.9880</td>\n",
       "      <td>0.7888</td>\n",
       "      <td>0.9411</td>\n",
       "      <td>18.6%</td>\n",
       "      <td>0.91%</td>\n",
       "      <td>4.98%</td>\n",
       "      <td>75.51%</td>\n",
       "      <td>0.4812</td>\n",
       "      <td>0.0589</td>\n",
       "    </tr>\n",
       "    <tr>\n",
       "      <th>10</th>\n",
       "      <td>0.55</td>\n",
       "      <td>0.9343</td>\n",
       "      <td>0.9583</td>\n",
       "      <td>0.9893</td>\n",
       "      <td>0.7797</td>\n",
       "      <td>0.9390</td>\n",
       "      <td>18.7%</td>\n",
       "      <td>0.81%</td>\n",
       "      <td>5.28%</td>\n",
       "      <td>75.2%</td>\n",
       "      <td>0.4805</td>\n",
       "      <td>0.0610</td>\n",
       "    </tr>\n",
       "    <tr>\n",
       "      <th>11</th>\n",
       "      <td>0.60</td>\n",
       "      <td>0.9280</td>\n",
       "      <td>0.9583</td>\n",
       "      <td>0.9892</td>\n",
       "      <td>0.7635</td>\n",
       "      <td>0.9339</td>\n",
       "      <td>18.7%</td>\n",
       "      <td>0.81%</td>\n",
       "      <td>5.79%</td>\n",
       "      <td>74.7%</td>\n",
       "      <td>0.4788</td>\n",
       "      <td>0.0661</td>\n",
       "    </tr>\n",
       "    <tr>\n",
       "      <th>12</th>\n",
       "      <td>0.65</td>\n",
       "      <td>0.9192</td>\n",
       "      <td>0.9635</td>\n",
       "      <td>0.9905</td>\n",
       "      <td>0.7430</td>\n",
       "      <td>0.9278</td>\n",
       "      <td>18.8%</td>\n",
       "      <td>0.71%</td>\n",
       "      <td>6.5%</td>\n",
       "      <td>73.98%</td>\n",
       "      <td>0.4768</td>\n",
       "      <td>0.0722</td>\n",
       "    </tr>\n",
       "    <tr>\n",
       "      <th>13</th>\n",
       "      <td>0.70</td>\n",
       "      <td>0.9066</td>\n",
       "      <td>0.9740</td>\n",
       "      <td>0.9931</td>\n",
       "      <td>0.7165</td>\n",
       "      <td>0.9197</td>\n",
       "      <td>19.0%</td>\n",
       "      <td>0.51%</td>\n",
       "      <td>7.52%</td>\n",
       "      <td>72.97%</td>\n",
       "      <td>0.4739</td>\n",
       "      <td>0.0803</td>\n",
       "    </tr>\n",
       "    <tr>\n",
       "      <th>14</th>\n",
       "      <td>0.75</td>\n",
       "      <td>0.8952</td>\n",
       "      <td>0.9844</td>\n",
       "      <td>0.9958</td>\n",
       "      <td>0.6949</td>\n",
       "      <td>0.9126</td>\n",
       "      <td>19.21%</td>\n",
       "      <td>0.3%</td>\n",
       "      <td>8.43%</td>\n",
       "      <td>72.05%</td>\n",
       "      <td>0.4714</td>\n",
       "      <td>0.0874</td>\n",
       "    </tr>\n",
       "    <tr>\n",
       "      <th>15</th>\n",
       "      <td>0.80</td>\n",
       "      <td>0.8636</td>\n",
       "      <td>0.9896</td>\n",
       "      <td>0.9971</td>\n",
       "      <td>0.6376</td>\n",
       "      <td>0.8882</td>\n",
       "      <td>19.31%</td>\n",
       "      <td>0.2%</td>\n",
       "      <td>10.98%</td>\n",
       "      <td>69.51%</td>\n",
       "      <td>0.4628</td>\n",
       "      <td>0.1118</td>\n",
       "    </tr>\n",
       "    <tr>\n",
       "      <th>16</th>\n",
       "      <td>0.85</td>\n",
       "      <td>0.8409</td>\n",
       "      <td>0.9896</td>\n",
       "      <td>0.9970</td>\n",
       "      <td>0.6013</td>\n",
       "      <td>0.8699</td>\n",
       "      <td>19.31%</td>\n",
       "      <td>0.2%</td>\n",
       "      <td>12.8%</td>\n",
       "      <td>67.68%</td>\n",
       "      <td>0.4562</td>\n",
       "      <td>0.1301</td>\n",
       "    </tr>\n",
       "    <tr>\n",
       "      <th>17</th>\n",
       "      <td>0.90</td>\n",
       "      <td>0.8005</td>\n",
       "      <td>0.9948</td>\n",
       "      <td>0.9984</td>\n",
       "      <td>0.5473</td>\n",
       "      <td>0.8384</td>\n",
       "      <td>19.41%</td>\n",
       "      <td>0.1%</td>\n",
       "      <td>16.06%</td>\n",
       "      <td>64.43%</td>\n",
       "      <td>0.4443</td>\n",
       "      <td>0.1616</td>\n",
       "    </tr>\n",
       "    <tr>\n",
       "      <th>18</th>\n",
       "      <td>0.95</td>\n",
       "      <td>0.7184</td>\n",
       "      <td>0.9948</td>\n",
       "      <td>0.9982</td>\n",
       "      <td>0.4614</td>\n",
       "      <td>0.7724</td>\n",
       "      <td>19.41%</td>\n",
       "      <td>0.1%</td>\n",
       "      <td>22.66%</td>\n",
       "      <td>57.83%</td>\n",
       "      <td>0.4177</td>\n",
       "      <td>0.2276</td>\n",
       "    </tr>\n",
       "  </tbody>\n",
       "</table>\n",
       "</div>"
      ],
      "text/plain": [
       "    Threshold  Sensitivity  Specificity  Precision  Recall  Accuracy  \\\n",
       "0        0.05       0.9987       0.3385     0.8617  0.9848    0.8699   \n",
       "1        0.10       0.9861       0.5990     0.9103  0.9127    0.9106   \n",
       "2        0.15       0.9747       0.7865     0.9496  0.8830    0.9380   \n",
       "3        0.20       0.9609       0.8229     0.9572  0.8360    0.9339   \n",
       "4        0.25       0.9583       0.8802     0.9706  0.8366    0.9431   \n",
       "5        0.30       0.9508       0.9062     0.9767  0.8169    0.9421   \n",
       "6        0.35       0.9482       0.9167     0.9791  0.8111    0.9421   \n",
       "7        0.40       0.9444       0.9219     0.9803  0.8009    0.9400   \n",
       "8        0.45       0.9444       0.9323     0.9829  0.8027    0.9421   \n",
       "9        0.50       0.9381       0.9531     0.9880  0.7888    0.9411   \n",
       "10       0.55       0.9343       0.9583     0.9893  0.7797    0.9390   \n",
       "11       0.60       0.9280       0.9583     0.9892  0.7635    0.9339   \n",
       "12       0.65       0.9192       0.9635     0.9905  0.7430    0.9278   \n",
       "13       0.70       0.9066       0.9740     0.9931  0.7165    0.9197   \n",
       "14       0.75       0.8952       0.9844     0.9958  0.6949    0.9126   \n",
       "15       0.80       0.8636       0.9896     0.9971  0.6376    0.8882   \n",
       "16       0.85       0.8409       0.9896     0.9970  0.6013    0.8699   \n",
       "17       0.90       0.8005       0.9948     0.9984  0.5473    0.8384   \n",
       "18       0.95       0.7184       0.9948     0.9982  0.4614    0.7724   \n",
       "\n",
       "   True Negative Rate False Positive Rate False Negative Rate  \\\n",
       "0               6.61%              12.91%                0.1%   \n",
       "1              11.69%               7.83%               1.12%   \n",
       "2              15.35%               4.17%               2.03%   \n",
       "3              16.06%               3.46%               3.15%   \n",
       "4              17.17%               2.34%               3.35%   \n",
       "5              17.68%               1.83%               3.96%   \n",
       "6              17.89%               1.63%               4.17%   \n",
       "7              17.99%               1.52%               4.47%   \n",
       "8              18.19%               1.32%               4.47%   \n",
       "9               18.6%               0.91%               4.98%   \n",
       "10              18.7%               0.81%               5.28%   \n",
       "11              18.7%               0.81%               5.79%   \n",
       "12              18.8%               0.71%                6.5%   \n",
       "13              19.0%               0.51%               7.52%   \n",
       "14             19.21%                0.3%               8.43%   \n",
       "15             19.31%                0.2%              10.98%   \n",
       "16             19.31%                0.2%               12.8%   \n",
       "17             19.41%                0.1%              16.06%   \n",
       "18             19.41%                0.1%              22.66%   \n",
       "\n",
       "   True Positive Rate  F1 Score  Brier Loss  \n",
       "0              80.39%    0.4626      0.1301  \n",
       "1              79.37%    0.4733      0.0894  \n",
       "2              78.46%    0.4810      0.0620  \n",
       "3              77.34%    0.4795      0.0661  \n",
       "4              77.13%    0.4822      0.0569  \n",
       "5              76.52%    0.4818      0.0579  \n",
       "6              76.32%    0.4817      0.0579  \n",
       "7              76.02%    0.4810      0.0600  \n",
       "8              76.02%    0.4816      0.0579  \n",
       "9              75.51%    0.4812      0.0589  \n",
       "10              75.2%    0.4805      0.0610  \n",
       "11              74.7%    0.4788      0.0661  \n",
       "12             73.98%    0.4768      0.0722  \n",
       "13             72.97%    0.4739      0.0803  \n",
       "14             72.05%    0.4714      0.0874  \n",
       "15             69.51%    0.4628      0.1118  \n",
       "16             67.68%    0.4562      0.1301  \n",
       "17             64.43%    0.4443      0.1616  \n",
       "18             57.83%    0.4177      0.2276  "
      ]
     },
     "execution_count": 49,
     "metadata": {},
     "output_type": "execute_result"
    }
   ],
   "source": [
    "comp_threshold(y_test, y_prob)"
   ]
  },
  {
   "cell_type": "markdown",
   "id": "6ccbea21-582d-477d-90c1-20e3b69ffce4",
   "metadata": {
    "tags": []
   },
   "source": [
    "### Print Confustion Matrix and Performance Summary at 0.5 Threshold"
   ]
  },
  {
   "cell_type": "code",
   "execution_count": 50,
   "id": "55d947f3-6ab2-4b22-ace6-f20063dca5ae",
   "metadata": {
    "tags": []
   },
   "outputs": [
    {
     "name": "stdout",
     "output_type": "stream",
     "text": [
      "\n",
      "CONFUSION MATRIX AT 0.5 THRESHOLD:\n",
      "\n",
      "[[183   9]\n",
      " [ 49 743]]\n",
      "\n",
      "PERFORMANCE AT 0.5 THRESHOLD:\n",
      "\n",
      "   Recall/Sensitivity: 0.93813\n",
      "   Specificity: 0.95312\n",
      "   Precision/Positive Predictive Value: 0.98803\n",
      "   Negative Predictive Value: 0.78879\n",
      "   plot_accuracy: 0.94106\n",
      "\n"
     ]
    }
   ],
   "source": [
    "print_performance(y_test, y_prob)"
   ]
  },
  {
   "cell_type": "code",
   "execution_count": null,
   "id": "36172b3d-4afa-425a-935a-03413307b796",
   "metadata": {},
   "outputs": [],
   "source": []
  },
  {
   "cell_type": "markdown",
   "id": "70e15cb9-2864-4bd8-856e-a428ded4db27",
   "metadata": {},
   "source": [
    "## Balanced test dataset"
   ]
  },
  {
   "cell_type": "code",
   "execution_count": 51,
   "id": "099d2113-c24e-4eb1-a582-d4821554dc52",
   "metadata": {
    "tags": []
   },
   "outputs": [
    {
     "name": "stdout",
     "output_type": "stream",
     "text": [
      "\u001b[1m11/11\u001b[0m \u001b[32m━━━━━━━━━━━━━━━━━━━━\u001b[0m\u001b[37m\u001b[0m \u001b[1m0s\u001b[0m 4ms/step\n"
     ]
    }
   ],
   "source": [
    "y_prob = model.predict({\"text\": padded_inputs_test_blncd, \"numeric\": X_test_blncd}).flatten()"
   ]
  },
  {
   "cell_type": "code",
   "execution_count": 52,
   "id": "37aff72a-f8d6-4c47-9d26-14655e888199",
   "metadata": {
    "scrolled": true,
    "tags": []
   },
   "outputs": [
    {
     "data": {
      "text/plain": [
       "array([0.08359044, 0.04978465, 0.05903681, 0.07744692, 0.7673312 ,\n",
       "       0.04385363, 0.22265874, 0.0925272 , 0.04485727, 0.9832043 ,\n",
       "       0.6884262 , 0.9879084 , 0.0476594 , 0.9912191 , 0.97749984,\n",
       "       0.99028295, 0.9928637 , 0.9783857 , 0.96432966, 0.0445815 ,\n",
       "       0.93285197, 0.07358715, 0.6954728 , 0.98224986, 0.10745125,\n",
       "       0.12468395, 0.9930339 , 0.05353717, 0.03757478, 0.9783098 ,\n",
       "       0.47656038, 0.62823576, 0.04198891, 0.98648673, 0.33618858,\n",
       "       0.99113846, 0.9835944 , 0.9841919 , 0.7281363 , 0.7930739 ,\n",
       "       0.96845585, 0.99356407, 0.2581187 , 0.9820981 , 0.18632312,\n",
       "       0.7856841 , 0.23586865, 0.11703718, 0.9371822 , 0.02229482,\n",
       "       0.9840129 , 0.03740564, 0.94827956, 0.20899262, 0.9859741 ,\n",
       "       0.10190481, 0.1040201 , 0.07803263, 0.9851139 , 0.04197859,\n",
       "       0.06683831, 0.12386972, 0.98066837, 0.98848915, 0.05350626,\n",
       "       0.981428  , 0.9305955 , 0.05553641, 0.04495417, 0.14960603,\n",
       "       0.99083734, 0.04045304, 0.9907575 , 0.9881481 , 0.9630157 ,\n",
       "       0.9309877 , 0.9944071 , 0.98639524, 0.9832115 , 0.95404977,\n",
       "       0.60595304, 0.97398645, 0.03660028, 0.07710378, 0.9954582 ,\n",
       "       0.03467007, 0.99094015, 0.9703516 , 0.9815281 , 0.9697947 ,\n",
       "       0.11614592, 0.76414824, 0.08462804, 0.20012794, 0.9910531 ,\n",
       "       0.07261159, 0.10756071, 0.04162817, 0.13841996, 0.07193207,\n",
       "       0.9710552 , 0.12690969, 0.03613679, 0.9899054 , 0.08802198,\n",
       "       0.887079  , 0.95971113, 0.9912979 , 0.482097  , 0.9800322 ,\n",
       "       0.12602867, 0.98104733, 0.6660326 , 0.4751379 , 0.10228358,\n",
       "       0.9626742 , 0.41755468, 0.99274904, 0.9935743 , 0.9777374 ,\n",
       "       0.02761092, 0.99662036, 0.9865052 , 0.06340174, 0.9769174 ,\n",
       "       0.9854163 , 0.05349681, 0.03786499, 0.99285525, 0.13143209,\n",
       "       0.9859959 , 0.12967625, 0.9812931 , 0.9908288 , 0.14199856,\n",
       "       0.6770584 , 0.04473546, 0.22141095, 0.16197215, 0.0326225 ,\n",
       "       0.98034334, 0.04264992, 0.12257608, 0.997436  , 0.22081423,\n",
       "       0.9939609 , 0.9958028 , 0.11536316, 0.9949953 , 0.99459785,\n",
       "       0.03514438, 0.04629619, 0.17399976, 0.9965111 , 0.99260527,\n",
       "       0.34995282, 0.09864436, 0.95724374, 0.82829416, 0.3431529 ,\n",
       "       0.9892795 , 0.97793823, 0.05046308, 0.03555124, 0.02708846,\n",
       "       0.24349596, 0.0444438 , 0.34261104, 0.05128775, 0.99099755,\n",
       "       0.7561557 , 0.03686431, 0.05029078, 0.98325706, 0.0247392 ,\n",
       "       0.9682722 , 0.21996272, 0.12216353, 0.9407163 , 0.11193306,\n",
       "       0.35114476, 0.04030713, 0.9876889 , 0.10463525, 0.9702535 ,\n",
       "       0.9910581 , 0.87358296, 0.9886642 , 0.0349111 , 0.04913332,\n",
       "       0.9961803 , 0.9890897 , 0.99682593, 0.97366613, 0.9537076 ,\n",
       "       0.04281841, 0.03472928, 0.05738109, 0.8233217 , 0.921186  ,\n",
       "       0.04613419, 0.05391839, 0.22513148, 0.91823655, 0.05465532,\n",
       "       0.76633215, 0.96276593, 0.9623968 , 0.06374961, 0.9879582 ,\n",
       "       0.06611228, 0.29196504, 0.05809112, 0.05412875, 0.9668505 ,\n",
       "       0.7394352 , 0.03682033, 0.9888195 , 0.11450219, 0.9726878 ,\n",
       "       0.773326  , 0.9955074 , 0.14227812, 0.9868453 , 0.19198951,\n",
       "       0.08850417, 0.0584571 , 0.99139005, 0.10211582, 0.9900786 ,\n",
       "       0.97610945, 0.03728224, 0.04545982, 0.26192164, 0.02744922,\n",
       "       0.22774915, 0.70858324, 0.9448501 , 0.9915554 , 0.99551857,\n",
       "       0.9758337 , 0.0297185 , 0.99307084, 0.78037965, 0.08031411,\n",
       "       0.9868022 , 0.08908384, 0.8738602 , 0.06063764, 0.21932329,\n",
       "       0.977973  , 0.0527023 , 0.9749432 , 0.03268086, 0.9795157 ,\n",
       "       0.27574697, 0.04019136, 0.10460272, 0.99072695, 0.08419093,\n",
       "       0.09339859, 0.8685184 , 0.18542632, 0.9181878 , 0.9817828 ,\n",
       "       0.13412714, 0.98751557, 0.0433877 , 0.08593389, 0.6926217 ,\n",
       "       0.6760376 , 0.04526312, 0.9832178 , 0.861886  , 0.10463411,\n",
       "       0.47476292, 0.09838717, 0.97988766, 0.13026491, 0.04885881,\n",
       "       0.11345258, 0.04207028, 0.16605094, 0.15916066, 0.0427203 ,\n",
       "       0.13929267, 0.08261675, 0.12921575, 0.12037688, 0.915815  ,\n",
       "       0.99573505, 0.58118343, 0.0279987 , 0.04133924, 0.99539703,\n",
       "       0.75644815, 0.9955117 , 0.98734534, 0.9875595 , 0.05164393,\n",
       "       0.9893476 , 0.8913427 , 0.9888756 , 0.98823106, 0.2604618 ,\n",
       "       0.17336082, 0.97951657, 0.04009734, 0.08907393, 0.26220927,\n",
       "       0.9720372 , 0.9847351 , 0.03393884, 0.05555025, 0.99464977,\n",
       "       0.9939031 , 0.10083783, 0.0439926 , 0.7718077 , 0.05208459,\n",
       "       0.03224543, 0.18743813, 0.79676455, 0.9886065 , 0.92592424,\n",
       "       0.97516304, 0.04596078, 0.22291274, 0.03545769, 0.9904042 ,\n",
       "       0.9758232 , 0.04838131, 0.8014936 , 0.97283024, 0.14854938,\n",
       "       0.0451404 , 0.92707276, 0.9833372 , 0.02811675, 0.06398685,\n",
       "       0.991548  , 0.09328718, 0.04353611, 0.95544034, 0.95344615,\n",
       "       0.13643321, 0.9953571 , 0.04460876, 0.13002889, 0.08626626,\n",
       "       0.04419551, 0.04748434], dtype=float32)"
      ]
     },
     "execution_count": 52,
     "metadata": {},
     "output_type": "execute_result"
    }
   ],
   "source": [
    "y_prob"
   ]
  },
  {
   "cell_type": "code",
   "execution_count": 53,
   "id": "eb81f08a-ca10-44c1-81c2-1137b3650327",
   "metadata": {
    "tags": []
   },
   "outputs": [
    {
     "data": {
      "text/plain": [
       "352"
      ]
     },
     "execution_count": 53,
     "metadata": {},
     "output_type": "execute_result"
    }
   ],
   "source": [
    "len(y_prob)"
   ]
  },
  {
   "cell_type": "code",
   "execution_count": null,
   "id": "5c93f88c-c1a3-4b89-a65e-b9b08bd6d4a5",
   "metadata": {},
   "outputs": [],
   "source": []
  },
  {
   "cell_type": "code",
   "execution_count": 54,
   "id": "5e542b5d-b0fe-465d-a83b-928b4587f6c2",
   "metadata": {
    "tags": []
   },
   "outputs": [
    {
     "name": "stdout",
     "output_type": "stream",
     "text": [
      "\u001b[1m11/11\u001b[0m \u001b[32m━━━━━━━━━━━━━━━━━━━━\u001b[0m\u001b[37m\u001b[0m \u001b[1m0s\u001b[0m 4ms/step\n"
     ]
    }
   ],
   "source": [
    "y_prob = model.predict({\"text\": padded_inputs_test_blncd, \"numeric\": X_test_blncd}).flatten()"
   ]
  },
  {
   "cell_type": "code",
   "execution_count": 55,
   "id": "194d4ca7-388a-4273-820b-870c01a96be8",
   "metadata": {
    "scrolled": true,
    "tags": []
   },
   "outputs": [
    {
     "data": {
      "text/plain": [
       "array([0.08359044, 0.04978465, 0.05903681, 0.07744692, 0.7673312 ,\n",
       "       0.04385363, 0.22265874, 0.0925272 , 0.04485727, 0.9832043 ,\n",
       "       0.6884262 , 0.9879084 , 0.0476594 , 0.9912191 , 0.97749984,\n",
       "       0.99028295, 0.9928637 , 0.9783857 , 0.96432966, 0.0445815 ,\n",
       "       0.93285197, 0.07358715, 0.6954728 , 0.98224986, 0.10745125,\n",
       "       0.12468395, 0.9930339 , 0.05353717, 0.03757478, 0.9783098 ,\n",
       "       0.47656038, 0.62823576, 0.04198891, 0.98648673, 0.33618858,\n",
       "       0.99113846, 0.9835944 , 0.9841919 , 0.7281363 , 0.7930739 ,\n",
       "       0.96845585, 0.99356407, 0.2581187 , 0.9820981 , 0.18632312,\n",
       "       0.7856841 , 0.23586865, 0.11703718, 0.9371822 , 0.02229482,\n",
       "       0.9840129 , 0.03740564, 0.94827956, 0.20899262, 0.9859741 ,\n",
       "       0.10190481, 0.1040201 , 0.07803263, 0.9851139 , 0.04197859,\n",
       "       0.06683831, 0.12386972, 0.98066837, 0.98848915, 0.05350626,\n",
       "       0.981428  , 0.9305955 , 0.05553641, 0.04495417, 0.14960603,\n",
       "       0.99083734, 0.04045304, 0.9907575 , 0.9881481 , 0.9630157 ,\n",
       "       0.9309877 , 0.9944071 , 0.98639524, 0.9832115 , 0.95404977,\n",
       "       0.60595304, 0.97398645, 0.03660028, 0.07710378, 0.9954582 ,\n",
       "       0.03467007, 0.99094015, 0.9703516 , 0.9815281 , 0.9697947 ,\n",
       "       0.11614592, 0.76414824, 0.08462804, 0.20012794, 0.9910531 ,\n",
       "       0.07261159, 0.10756071, 0.04162817, 0.13841996, 0.07193207,\n",
       "       0.9710552 , 0.12690969, 0.03613679, 0.9899054 , 0.08802198,\n",
       "       0.887079  , 0.95971113, 0.9912979 , 0.482097  , 0.9800322 ,\n",
       "       0.12602867, 0.98104733, 0.6660326 , 0.4751379 , 0.10228358,\n",
       "       0.9626742 , 0.41755468, 0.99274904, 0.9935743 , 0.9777374 ,\n",
       "       0.02761092, 0.99662036, 0.9865052 , 0.06340174, 0.9769174 ,\n",
       "       0.9854163 , 0.05349681, 0.03786499, 0.99285525, 0.13143209,\n",
       "       0.9859959 , 0.12967625, 0.9812931 , 0.9908288 , 0.14199856,\n",
       "       0.6770584 , 0.04473546, 0.22141095, 0.16197215, 0.0326225 ,\n",
       "       0.98034334, 0.04264992, 0.12257608, 0.997436  , 0.22081423,\n",
       "       0.9939609 , 0.9958028 , 0.11536316, 0.9949953 , 0.99459785,\n",
       "       0.03514438, 0.04629619, 0.17399976, 0.9965111 , 0.99260527,\n",
       "       0.34995282, 0.09864436, 0.95724374, 0.82829416, 0.3431529 ,\n",
       "       0.9892795 , 0.97793823, 0.05046308, 0.03555124, 0.02708846,\n",
       "       0.24349596, 0.0444438 , 0.34261104, 0.05128775, 0.99099755,\n",
       "       0.7561557 , 0.03686431, 0.05029078, 0.98325706, 0.0247392 ,\n",
       "       0.9682722 , 0.21996272, 0.12216353, 0.9407163 , 0.11193306,\n",
       "       0.35114476, 0.04030713, 0.9876889 , 0.10463525, 0.9702535 ,\n",
       "       0.9910581 , 0.87358296, 0.9886642 , 0.0349111 , 0.04913332,\n",
       "       0.9961803 , 0.9890897 , 0.99682593, 0.97366613, 0.9537076 ,\n",
       "       0.04281841, 0.03472928, 0.05738109, 0.8233217 , 0.921186  ,\n",
       "       0.04613419, 0.05391839, 0.22513148, 0.91823655, 0.05465532,\n",
       "       0.76633215, 0.96276593, 0.9623968 , 0.06374961, 0.9879582 ,\n",
       "       0.06611228, 0.29196504, 0.05809112, 0.05412875, 0.9668505 ,\n",
       "       0.7394352 , 0.03682033, 0.9888195 , 0.11450219, 0.9726878 ,\n",
       "       0.773326  , 0.9955074 , 0.14227812, 0.9868453 , 0.19198951,\n",
       "       0.08850417, 0.0584571 , 0.99139005, 0.10211582, 0.9900786 ,\n",
       "       0.97610945, 0.03728224, 0.04545982, 0.26192164, 0.02744922,\n",
       "       0.22774915, 0.70858324, 0.9448501 , 0.9915554 , 0.99551857,\n",
       "       0.9758337 , 0.0297185 , 0.99307084, 0.78037965, 0.08031411,\n",
       "       0.9868022 , 0.08908384, 0.8738602 , 0.06063764, 0.21932329,\n",
       "       0.977973  , 0.0527023 , 0.9749432 , 0.03268086, 0.9795157 ,\n",
       "       0.27574697, 0.04019136, 0.10460272, 0.99072695, 0.08419093,\n",
       "       0.09339859, 0.8685184 , 0.18542632, 0.9181878 , 0.9817828 ,\n",
       "       0.13412714, 0.98751557, 0.0433877 , 0.08593389, 0.6926217 ,\n",
       "       0.6760376 , 0.04526312, 0.9832178 , 0.861886  , 0.10463411,\n",
       "       0.47476292, 0.09838717, 0.97988766, 0.13026491, 0.04885881,\n",
       "       0.11345258, 0.04207028, 0.16605094, 0.15916066, 0.0427203 ,\n",
       "       0.13929267, 0.08261675, 0.12921575, 0.12037688, 0.915815  ,\n",
       "       0.99573505, 0.58118343, 0.0279987 , 0.04133924, 0.99539703,\n",
       "       0.75644815, 0.9955117 , 0.98734534, 0.9875595 , 0.05164393,\n",
       "       0.9893476 , 0.8913427 , 0.9888756 , 0.98823106, 0.2604618 ,\n",
       "       0.17336082, 0.97951657, 0.04009734, 0.08907393, 0.26220927,\n",
       "       0.9720372 , 0.9847351 , 0.03393884, 0.05555025, 0.99464977,\n",
       "       0.9939031 , 0.10083783, 0.0439926 , 0.7718077 , 0.05208459,\n",
       "       0.03224543, 0.18743813, 0.79676455, 0.9886065 , 0.92592424,\n",
       "       0.97516304, 0.04596078, 0.22291274, 0.03545769, 0.9904042 ,\n",
       "       0.9758232 , 0.04838131, 0.8014936 , 0.97283024, 0.14854938,\n",
       "       0.0451404 , 0.92707276, 0.9833372 , 0.02811675, 0.06398685,\n",
       "       0.991548  , 0.09328718, 0.04353611, 0.95544034, 0.95344615,\n",
       "       0.13643321, 0.9953571 , 0.04460876, 0.13002889, 0.08626626,\n",
       "       0.04419551, 0.04748434], dtype=float32)"
      ]
     },
     "execution_count": 55,
     "metadata": {},
     "output_type": "execute_result"
    }
   ],
   "source": [
    "y_prob"
   ]
  },
  {
   "cell_type": "code",
   "execution_count": 56,
   "id": "e0140c1e-ebc6-4e22-a85d-58c85e9f8a94",
   "metadata": {
    "tags": []
   },
   "outputs": [
    {
     "data": {
      "text/plain": [
       "352"
      ]
     },
     "execution_count": 56,
     "metadata": {},
     "output_type": "execute_result"
    }
   ],
   "source": [
    "len(y_prob)"
   ]
  },
  {
   "cell_type": "markdown",
   "id": "c3ca6666-c35c-4caa-b13c-e23602e32bb6",
   "metadata": {
    "tags": []
   },
   "source": [
    "## Plot Precision Recall Curve"
   ]
  },
  {
   "cell_type": "code",
   "execution_count": 57,
   "id": "6963bee3-8144-4be8-af6c-90b816cb56eb",
   "metadata": {
    "tags": []
   },
   "outputs": [
    {
     "name": "stderr",
     "output_type": "stream",
     "text": [
      "/opt/anaconda3/envs/cat_num_text/lib/python3.12/site-packages/sklearn/metrics/_ranking.py:996: FutureWarning: probas_pred was deprecated in version 1.5 and will be removed in 1.7.Please use ``y_score`` instead.\n",
      "  warnings.warn(\n"
     ]
    },
    {
     "data": {
      "image/png": "[encoded data removed]",
      "text/plain": [
       "<Figure size 640x480 with 1 Axes>"
      ]
     },
     "metadata": {},
     "output_type": "display_data"
    }
   ],
   "source": [
    "pr_curve(y_test_blncd, y_prob)"
   ]
  },
  {
   "cell_type": "markdown",
   "id": "805c10c5-b730-4e3d-9ebe-9f95d40377eb",
   "metadata": {},
   "source": [
    "## Plot Score Distributions for True Positives and True Negatives in Test Set"
   ]
  },
  {
   "cell_type": "code",
   "execution_count": 58,
   "id": "9bbe1596-3728-40a9-ab96-9f80e149cfed",
   "metadata": {
    "tags": []
   },
   "outputs": [
    {
     "data": {
      "image/png": "[encoded data removed]",
      "text/plain": [
       "<Figure size 1200x1200 with 1 Axes>"
      ]
     },
     "metadata": {},
     "output_type": "display_data"
    }
   ],
   "source": [
    "plot_validation_groups(y_test_blncd, y_prob)"
   ]
  },
  {
   "cell_type": "markdown",
   "id": "941baee1-928c-417b-a2e1-939abf9611d8",
   "metadata": {},
   "source": [
    "## Compute Performance Metrics at Threshold Increments"
   ]
  },
  {
   "cell_type": "code",
   "execution_count": 59,
   "id": "de788b3f-058e-4038-af5b-0950b55e9a3c",
   "metadata": {
    "tags": []
   },
   "outputs": [
    {
     "data": {
      "text/html": [
       "<div>\n",
       "<style scoped>\n",
       "    .dataframe tbody tr th:only-of-type {\n",
       "        vertical-align: middle;\n",
       "    }\n",
       "\n",
       "    .dataframe tbody tr th {\n",
       "        vertical-align: top;\n",
       "    }\n",
       "\n",
       "    .dataframe thead th {\n",
       "        text-align: right;\n",
       "    }\n",
       "</style>\n",
       "<table border=\"1\" class=\"dataframe\">\n",
       "  <thead>\n",
       "    <tr style=\"text-align: right;\">\n",
       "      <th></th>\n",
       "      <th>Threshold</th>\n",
       "      <th>Sensitivity</th>\n",
       "      <th>Specificity</th>\n",
       "      <th>Precision</th>\n",
       "      <th>Recall</th>\n",
       "      <th>Accuracy</th>\n",
       "      <th>True Negative Rate</th>\n",
       "      <th>False Positive Rate</th>\n",
       "      <th>False Negative Rate</th>\n",
       "      <th>True Positive Rate</th>\n",
       "      <th>F1 Score</th>\n",
       "      <th>Brier Loss</th>\n",
       "    </tr>\n",
       "  </thead>\n",
       "  <tbody>\n",
       "    <tr>\n",
       "      <th>0</th>\n",
       "      <td>0.05</td>\n",
       "      <td>0.9943</td>\n",
       "      <td>0.3409</td>\n",
       "      <td>0.6014</td>\n",
       "      <td>0.9836</td>\n",
       "      <td>0.6676</td>\n",
       "      <td>17.05%</td>\n",
       "      <td>32.95%</td>\n",
       "      <td>0.28%</td>\n",
       "      <td>49.72%</td>\n",
       "      <td>0.3747</td>\n",
       "      <td>0.3324</td>\n",
       "    </tr>\n",
       "    <tr>\n",
       "      <th>1</th>\n",
       "      <td>0.10</td>\n",
       "      <td>0.9886</td>\n",
       "      <td>0.5966</td>\n",
       "      <td>0.7102</td>\n",
       "      <td>0.9813</td>\n",
       "      <td>0.7926</td>\n",
       "      <td>29.83%</td>\n",
       "      <td>20.17%</td>\n",
       "      <td>0.57%</td>\n",
       "      <td>49.43%</td>\n",
       "      <td>0.4133</td>\n",
       "      <td>0.2074</td>\n",
       "    </tr>\n",
       "    <tr>\n",
       "      <th>2</th>\n",
       "      <td>0.15</td>\n",
       "      <td>0.9773</td>\n",
       "      <td>0.7898</td>\n",
       "      <td>0.8230</td>\n",
       "      <td>0.9720</td>\n",
       "      <td>0.8835</td>\n",
       "      <td>39.49%</td>\n",
       "      <td>10.51%</td>\n",
       "      <td>1.14%</td>\n",
       "      <td>48.86%</td>\n",
       "      <td>0.4468</td>\n",
       "      <td>0.1165</td>\n",
       "    </tr>\n",
       "    <tr>\n",
       "      <th>3</th>\n",
       "      <td>0.20</td>\n",
       "      <td>0.9659</td>\n",
       "      <td>0.8295</td>\n",
       "      <td>0.8500</td>\n",
       "      <td>0.9605</td>\n",
       "      <td>0.8977</td>\n",
       "      <td>41.48%</td>\n",
       "      <td>8.52%</td>\n",
       "      <td>1.7%</td>\n",
       "      <td>48.3%</td>\n",
       "      <td>0.4521</td>\n",
       "      <td>0.1023</td>\n",
       "    </tr>\n",
       "    <tr>\n",
       "      <th>4</th>\n",
       "      <td>0.25</td>\n",
       "      <td>0.9602</td>\n",
       "      <td>0.8920</td>\n",
       "      <td>0.8989</td>\n",
       "      <td>0.9573</td>\n",
       "      <td>0.9261</td>\n",
       "      <td>44.6%</td>\n",
       "      <td>5.4%</td>\n",
       "      <td>1.99%</td>\n",
       "      <td>48.01%</td>\n",
       "      <td>0.4643</td>\n",
       "      <td>0.0739</td>\n",
       "    </tr>\n",
       "    <tr>\n",
       "      <th>5</th>\n",
       "      <td>0.30</td>\n",
       "      <td>0.9489</td>\n",
       "      <td>0.9148</td>\n",
       "      <td>0.9176</td>\n",
       "      <td>0.9471</td>\n",
       "      <td>0.9318</td>\n",
       "      <td>45.74%</td>\n",
       "      <td>4.26%</td>\n",
       "      <td>2.56%</td>\n",
       "      <td>47.44%</td>\n",
       "      <td>0.4665</td>\n",
       "      <td>0.0682</td>\n",
       "    </tr>\n",
       "    <tr>\n",
       "      <th>6</th>\n",
       "      <td>0.35</td>\n",
       "      <td>0.9375</td>\n",
       "      <td>0.9261</td>\n",
       "      <td>0.9270</td>\n",
       "      <td>0.9368</td>\n",
       "      <td>0.9318</td>\n",
       "      <td>46.31%</td>\n",
       "      <td>3.69%</td>\n",
       "      <td>3.12%</td>\n",
       "      <td>46.88%</td>\n",
       "      <td>0.4661</td>\n",
       "      <td>0.0682</td>\n",
       "    </tr>\n",
       "    <tr>\n",
       "      <th>7</th>\n",
       "      <td>0.40</td>\n",
       "      <td>0.9375</td>\n",
       "      <td>0.9318</td>\n",
       "      <td>0.9322</td>\n",
       "      <td>0.9371</td>\n",
       "      <td>0.9347</td>\n",
       "      <td>46.59%</td>\n",
       "      <td>3.41%</td>\n",
       "      <td>3.12%</td>\n",
       "      <td>46.88%</td>\n",
       "      <td>0.4674</td>\n",
       "      <td>0.0653</td>\n",
       "    </tr>\n",
       "    <tr>\n",
       "      <th>8</th>\n",
       "      <td>0.45</td>\n",
       "      <td>0.9375</td>\n",
       "      <td>0.9375</td>\n",
       "      <td>0.9375</td>\n",
       "      <td>0.9375</td>\n",
       "      <td>0.9375</td>\n",
       "      <td>46.88%</td>\n",
       "      <td>3.12%</td>\n",
       "      <td>3.12%</td>\n",
       "      <td>46.88%</td>\n",
       "      <td>0.4688</td>\n",
       "      <td>0.0625</td>\n",
       "    </tr>\n",
       "    <tr>\n",
       "      <th>9</th>\n",
       "      <td>0.50</td>\n",
       "      <td>0.9318</td>\n",
       "      <td>0.9545</td>\n",
       "      <td>0.9535</td>\n",
       "      <td>0.9333</td>\n",
       "      <td>0.9432</td>\n",
       "      <td>47.73%</td>\n",
       "      <td>2.27%</td>\n",
       "      <td>3.41%</td>\n",
       "      <td>46.59%</td>\n",
       "      <td>0.4713</td>\n",
       "      <td>0.0568</td>\n",
       "    </tr>\n",
       "    <tr>\n",
       "      <th>10</th>\n",
       "      <td>0.55</td>\n",
       "      <td>0.9318</td>\n",
       "      <td>0.9545</td>\n",
       "      <td>0.9535</td>\n",
       "      <td>0.9333</td>\n",
       "      <td>0.9432</td>\n",
       "      <td>47.73%</td>\n",
       "      <td>2.27%</td>\n",
       "      <td>3.41%</td>\n",
       "      <td>46.59%</td>\n",
       "      <td>0.4713</td>\n",
       "      <td>0.0568</td>\n",
       "    </tr>\n",
       "    <tr>\n",
       "      <th>11</th>\n",
       "      <td>0.60</td>\n",
       "      <td>0.9261</td>\n",
       "      <td>0.9545</td>\n",
       "      <td>0.9532</td>\n",
       "      <td>0.9282</td>\n",
       "      <td>0.9403</td>\n",
       "      <td>47.73%</td>\n",
       "      <td>2.27%</td>\n",
       "      <td>3.69%</td>\n",
       "      <td>46.31%</td>\n",
       "      <td>0.4697</td>\n",
       "      <td>0.0597</td>\n",
       "    </tr>\n",
       "    <tr>\n",
       "      <th>12</th>\n",
       "      <td>0.65</td>\n",
       "      <td>0.9205</td>\n",
       "      <td>0.9602</td>\n",
       "      <td>0.9586</td>\n",
       "      <td>0.9235</td>\n",
       "      <td>0.9403</td>\n",
       "      <td>48.01%</td>\n",
       "      <td>1.99%</td>\n",
       "      <td>3.98%</td>\n",
       "      <td>46.02%</td>\n",
       "      <td>0.4696</td>\n",
       "      <td>0.0597</td>\n",
       "    </tr>\n",
       "    <tr>\n",
       "      <th>13</th>\n",
       "      <td>0.70</td>\n",
       "      <td>0.8977</td>\n",
       "      <td>0.9716</td>\n",
       "      <td>0.9693</td>\n",
       "      <td>0.9048</td>\n",
       "      <td>0.9347</td>\n",
       "      <td>48.58%</td>\n",
       "      <td>1.42%</td>\n",
       "      <td>5.11%</td>\n",
       "      <td>44.89%</td>\n",
       "      <td>0.4661</td>\n",
       "      <td>0.0653</td>\n",
       "    </tr>\n",
       "    <tr>\n",
       "      <th>14</th>\n",
       "      <td>0.75</td>\n",
       "      <td>0.8920</td>\n",
       "      <td>0.9830</td>\n",
       "      <td>0.9812</td>\n",
       "      <td>0.9010</td>\n",
       "      <td>0.9375</td>\n",
       "      <td>49.15%</td>\n",
       "      <td>0.85%</td>\n",
       "      <td>5.4%</td>\n",
       "      <td>44.6%</td>\n",
       "      <td>0.4672</td>\n",
       "      <td>0.0625</td>\n",
       "    </tr>\n",
       "    <tr>\n",
       "      <th>15</th>\n",
       "      <td>0.80</td>\n",
       "      <td>0.8352</td>\n",
       "      <td>0.9886</td>\n",
       "      <td>0.9866</td>\n",
       "      <td>0.8571</td>\n",
       "      <td>0.9119</td>\n",
       "      <td>49.43%</td>\n",
       "      <td>0.57%</td>\n",
       "      <td>8.24%</td>\n",
       "      <td>41.76%</td>\n",
       "      <td>0.4523</td>\n",
       "      <td>0.0881</td>\n",
       "    </tr>\n",
       "    <tr>\n",
       "      <th>16</th>\n",
       "      <td>0.85</td>\n",
       "      <td>0.8182</td>\n",
       "      <td>0.9886</td>\n",
       "      <td>0.9863</td>\n",
       "      <td>0.8447</td>\n",
       "      <td>0.9034</td>\n",
       "      <td>49.43%</td>\n",
       "      <td>0.57%</td>\n",
       "      <td>9.09%</td>\n",
       "      <td>40.91%</td>\n",
       "      <td>0.4472</td>\n",
       "      <td>0.0966</td>\n",
       "    </tr>\n",
       "    <tr>\n",
       "      <th>17</th>\n",
       "      <td>0.90</td>\n",
       "      <td>0.7898</td>\n",
       "      <td>0.9943</td>\n",
       "      <td>0.9929</td>\n",
       "      <td>0.8255</td>\n",
       "      <td>0.8920</td>\n",
       "      <td>49.72%</td>\n",
       "      <td>0.28%</td>\n",
       "      <td>10.51%</td>\n",
       "      <td>39.49%</td>\n",
       "      <td>0.4399</td>\n",
       "      <td>0.1080</td>\n",
       "    </tr>\n",
       "    <tr>\n",
       "      <th>18</th>\n",
       "      <td>0.95</td>\n",
       "      <td>0.7159</td>\n",
       "      <td>0.9943</td>\n",
       "      <td>0.9921</td>\n",
       "      <td>0.7778</td>\n",
       "      <td>0.8551</td>\n",
       "      <td>49.72%</td>\n",
       "      <td>0.28%</td>\n",
       "      <td>14.2%</td>\n",
       "      <td>35.8%</td>\n",
       "      <td>0.4158</td>\n",
       "      <td>0.1449</td>\n",
       "    </tr>\n",
       "  </tbody>\n",
       "</table>\n",
       "</div>"
      ],
      "text/plain": [
       "    Threshold  Sensitivity  Specificity  Precision  Recall  Accuracy  \\\n",
       "0        0.05       0.9943       0.3409     0.6014  0.9836    0.6676   \n",
       "1        0.10       0.9886       0.5966     0.7102  0.9813    0.7926   \n",
       "2        0.15       0.9773       0.7898     0.8230  0.9720    0.8835   \n",
       "3        0.20       0.9659       0.8295     0.8500  0.9605    0.8977   \n",
       "4        0.25       0.9602       0.8920     0.8989  0.9573    0.9261   \n",
       "5        0.30       0.9489       0.9148     0.9176  0.9471    0.9318   \n",
       "6        0.35       0.9375       0.9261     0.9270  0.9368    0.9318   \n",
       "7        0.40       0.9375       0.9318     0.9322  0.9371    0.9347   \n",
       "8        0.45       0.9375       0.9375     0.9375  0.9375    0.9375   \n",
       "9        0.50       0.9318       0.9545     0.9535  0.9333    0.9432   \n",
       "10       0.55       0.9318       0.9545     0.9535  0.9333    0.9432   \n",
       "11       0.60       0.9261       0.9545     0.9532  0.9282    0.9403   \n",
       "12       0.65       0.9205       0.9602     0.9586  0.9235    0.9403   \n",
       "13       0.70       0.8977       0.9716     0.9693  0.9048    0.9347   \n",
       "14       0.75       0.8920       0.9830     0.9812  0.9010    0.9375   \n",
       "15       0.80       0.8352       0.9886     0.9866  0.8571    0.9119   \n",
       "16       0.85       0.8182       0.9886     0.9863  0.8447    0.9034   \n",
       "17       0.90       0.7898       0.9943     0.9929  0.8255    0.8920   \n",
       "18       0.95       0.7159       0.9943     0.9921  0.7778    0.8551   \n",
       "\n",
       "   True Negative Rate False Positive Rate False Negative Rate  \\\n",
       "0              17.05%              32.95%               0.28%   \n",
       "1              29.83%              20.17%               0.57%   \n",
       "2              39.49%              10.51%               1.14%   \n",
       "3              41.48%               8.52%                1.7%   \n",
       "4               44.6%                5.4%               1.99%   \n",
       "5              45.74%               4.26%               2.56%   \n",
       "6              46.31%               3.69%               3.12%   \n",
       "7              46.59%               3.41%               3.12%   \n",
       "8              46.88%               3.12%               3.12%   \n",
       "9              47.73%               2.27%               3.41%   \n",
       "10             47.73%               2.27%               3.41%   \n",
       "11             47.73%               2.27%               3.69%   \n",
       "12             48.01%               1.99%               3.98%   \n",
       "13             48.58%               1.42%               5.11%   \n",
       "14             49.15%               0.85%                5.4%   \n",
       "15             49.43%               0.57%               8.24%   \n",
       "16             49.43%               0.57%               9.09%   \n",
       "17             49.72%               0.28%              10.51%   \n",
       "18             49.72%               0.28%               14.2%   \n",
       "\n",
       "   True Positive Rate  F1 Score  Brier Loss  \n",
       "0              49.72%    0.3747      0.3324  \n",
       "1              49.43%    0.4133      0.2074  \n",
       "2              48.86%    0.4468      0.1165  \n",
       "3               48.3%    0.4521      0.1023  \n",
       "4              48.01%    0.4643      0.0739  \n",
       "5              47.44%    0.4665      0.0682  \n",
       "6              46.88%    0.4661      0.0682  \n",
       "7              46.88%    0.4674      0.0653  \n",
       "8              46.88%    0.4688      0.0625  \n",
       "9              46.59%    0.4713      0.0568  \n",
       "10             46.59%    0.4713      0.0568  \n",
       "11             46.31%    0.4697      0.0597  \n",
       "12             46.02%    0.4696      0.0597  \n",
       "13             44.89%    0.4661      0.0653  \n",
       "14              44.6%    0.4672      0.0625  \n",
       "15             41.76%    0.4523      0.0881  \n",
       "16             40.91%    0.4472      0.0966  \n",
       "17             39.49%    0.4399      0.1080  \n",
       "18              35.8%    0.4158      0.1449  "
      ]
     },
     "execution_count": 59,
     "metadata": {},
     "output_type": "execute_result"
    }
   ],
   "source": [
    "comp_threshold(y_test_blncd, y_prob)"
   ]
  },
  {
   "cell_type": "markdown",
   "id": "da90e876-c204-4e62-ab68-d82a82f1fa95",
   "metadata": {
    "tags": []
   },
   "source": [
    "## Print Confustion Matrix and Performance Summary at 0.5 Threshold"
   ]
  },
  {
   "cell_type": "code",
   "execution_count": 60,
   "id": "670717dd-e25b-4dfa-82bc-59dee63013ca",
   "metadata": {
    "tags": []
   },
   "outputs": [
    {
     "name": "stdout",
     "output_type": "stream",
     "text": [
      "\n",
      "CONFUSION MATRIX AT 0.5 THRESHOLD:\n",
      "\n",
      "[[168   8]\n",
      " [ 12 164]]\n",
      "\n",
      "PERFORMANCE AT 0.5 THRESHOLD:\n",
      "\n",
      "   Recall/Sensitivity: 0.93182\n",
      "   Specificity: 0.95455\n",
      "   Precision/Positive Predictive Value: 0.95349\n",
      "   Negative Predictive Value: 0.93333\n",
      "   plot_accuracy: 0.94318\n",
      "\n"
     ]
    }
   ],
   "source": [
    "print_performance(y_test_blncd, y_prob)"
   ]
  },
  {
   "cell_type": "code",
   "execution_count": null,
   "id": "70d78611-4cde-44f5-9f35-84bd9136998c",
   "metadata": {},
   "outputs": [],
   "source": []
  },
  {
   "cell_type": "code",
   "execution_count": null,
   "id": "de9a5187-1bf9-4d6d-9592-985a9bfdf98d",
   "metadata": {
    "editable": true,
    "slideshow": {
     "slide_type": ""
    },
    "tags": []
   },
   "outputs": [],
   "source": []
  }
 ],
 "metadata": {
  "kernelspec": {
   "display_name": "cat_num_text_kernel",
   "language": "python",
   "name": "cat_num_text"
  },
  "language_info": {
   "codemirror_mode": {
    "name": "ipython",
    "version": 3
   },
   "file_extension": ".py",
   "mimetype": "text/x-python",
   "name": "python",
   "nbconvert_exporter": "python",
   "pygments_lexer": "ipython3",
   "version": "3.12.9"
  }
 },
 "nbformat": 4,
 "nbformat_minor": 5
}
